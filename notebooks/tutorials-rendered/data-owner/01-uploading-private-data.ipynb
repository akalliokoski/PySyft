{
 "cells": [
  {
   "attachments": {},
   "cell_type": "markdown",
   "id": "99d92d96-a607-472e-983d-86958f7939e8",
   "metadata": {},
   "source": [
    "# Uploading Private Data"
   ]
  },
  {
   "attachments": {},
   "cell_type": "markdown",
   "id": "066d942e",
   "metadata": {},
   "source": [
    "## Install"
   ]
  },
  {
   "cell_type": "code",
   "execution_count": 1,
   "id": "8f2568d6",
   "metadata": {
    "execution": {
     "iopub.execute_input": "2023-06-29T09:44:03.644404Z",
     "iopub.status.busy": "2023-06-29T09:44:03.644175Z",
     "iopub.status.idle": "2023-06-29T09:44:03.652315Z",
     "shell.execute_reply": "2023-06-29T09:44:03.651593Z"
    }
   },
   "outputs": [],
   "source": [
    "SYFT_VERSION = \">=0.8.2.b0,<0.9\"\n",
    "package_string = f'\"syft{SYFT_VERSION}\"'\n",
    "# %pip install {package_string} -f https://whls.blob.core.windows.net/unstable/index.html"
   ]
  },
  {
   "cell_type": "code",
   "execution_count": 2,
   "id": "aaa21d60",
   "metadata": {
    "execution": {
     "iopub.execute_input": "2023-06-29T09:44:03.655607Z",
     "iopub.status.busy": "2023-06-29T09:44:03.655122Z",
     "iopub.status.idle": "2023-06-29T09:44:06.035526Z",
     "shell.execute_reply": "2023-06-29T09:44:06.030183Z"
    }
   },
   "outputs": [
    {
     "name": "stdout",
     "output_type": "stream",
     "text": [
      "✅ The installed version of syft==0.8.2b2 matches the requirement >=0.8.2b0 and the requirement <0.9\n"
     ]
    }
   ],
   "source": [
    "import syft as sy\n",
    "sy.requires(SYFT_VERSION)"
   ]
  },
  {
   "cell_type": "code",
   "execution_count": 3,
   "id": "600dbea7",
   "metadata": {
    "execution": {
     "iopub.execute_input": "2023-06-29T09:44:06.040315Z",
     "iopub.status.busy": "2023-06-29T09:44:06.038465Z",
     "iopub.status.idle": "2023-06-29T09:44:07.091090Z",
     "shell.execute_reply": "2023-06-29T09:44:07.090019Z"
    }
   },
   "outputs": [
    {
     "name": "stdout",
     "output_type": "stream",
     "text": [
      "Starting private-data-example-domain-1 server on 0.0.0.0:8040\n"
     ]
    },
    {
     "name": "stdout",
     "output_type": "stream",
     "text": [
      "Waiting for server to start Done.\n"
     ]
    }
   ],
   "source": [
    "node = sy.orchestra.launch(name=\"private-data-example-domain-1\",port=8040, reset=True)"
   ]
  },
  {
   "attachments": {},
   "cell_type": "markdown",
   "id": "5045b434",
   "metadata": {},
   "source": [
    "## Setup"
   ]
  },
  {
   "attachments": {},
   "cell_type": "markdown",
   "id": "b7adb06e",
   "metadata": {},
   "source": [
    "Lets login with our root user"
   ]
  },
  {
   "cell_type": "code",
   "execution_count": 4,
   "id": "8aaabf2b",
   "metadata": {
    "execution": {
     "iopub.execute_input": "2023-06-29T09:44:07.096025Z",
     "iopub.status.busy": "2023-06-29T09:44:07.095684Z",
     "iopub.status.idle": "2023-06-29T09:44:08.628417Z",
     "shell.execute_reply": "2023-06-29T09:44:08.627405Z"
    }
   },
   "outputs": [
    {
     "name": "stdout",
     "output_type": "stream",
     "text": [
      "Logged into private-data-example-domain-1 as <info@openmined.org>\n"
     ]
    }
   ],
   "source": [
    "from syft.service.user.user import UserUpdate, UserCreate, ServiceRole\n",
    "client = node.login(email=\"info@openmined.org\", password=\"changethis\")"
   ]
  },
  {
   "attachments": {},
   "cell_type": "markdown",
   "id": "918ad9f3-4ced-47f2-98b3-496b83cc3f4f",
   "metadata": {},
   "source": [
    "## Adding a Dataset"
   ]
  },
  {
   "cell_type": "code",
   "execution_count": 5,
   "id": "59965222",
   "metadata": {
    "execution": {
     "iopub.execute_input": "2023-06-29T09:44:08.632431Z",
     "iopub.status.busy": "2023-06-29T09:44:08.631948Z",
     "iopub.status.idle": "2023-06-29T09:44:08.637378Z",
     "shell.execute_reply": "2023-06-29T09:44:08.636618Z"
    }
   },
   "outputs": [],
   "source": [
    "import syft as sy\n",
    "import numpy as np"
   ]
  },
  {
   "attachments": {},
   "cell_type": "markdown",
   "id": "b9072584",
   "metadata": {},
   "source": [
    "The easiest way to upload a Dataset is by creating it with `sy.Dataset`, you can provide `Assets` which contain the actual data"
   ]
  },
  {
   "cell_type": "code",
   "execution_count": 6,
   "id": "36b0b58f",
   "metadata": {
    "execution": {
     "iopub.execute_input": "2023-06-29T09:44:08.641215Z",
     "iopub.status.busy": "2023-06-29T09:44:08.640631Z",
     "iopub.status.idle": "2023-06-29T09:44:08.795177Z",
     "shell.execute_reply": "2023-06-29T09:44:08.791510Z"
    }
   },
   "outputs": [
    {
     "name": "stderr",
     "output_type": "stream",
     "text": [
      "\r",
      "  0%|          | 0/1 [00:00<?, ?it/s]"
     ]
    },
    {
     "name": "stderr",
     "output_type": "stream",
     "text": [
      "\r",
      "100%|██████████| 1/1 [00:00<00:00, 12.84it/s]"
     ]
    },
    {
     "name": "stdout",
     "output_type": "stream",
     "text": [
      "Uploading: my asset\n"
     ]
    },
    {
     "name": "stderr",
     "output_type": "stream",
     "text": [
      "\n"
     ]
    },
    {
     "data": {
      "text/html": [
       "<div class=\"alert-success\" style=\"padding:5px;\"><strong>SyftSuccess</strong>: Dataset uploaded to 'private-data-example-domain-1'. To see the datasets uploaded by a client on this node, use command `[your_client].datasets`</div><br />"
      ],
      "text/plain": [
       "<class 'syft.service.response.SyftSuccess'>: Dataset uploaded to 'private-data-example-domain-1'. To see the datasets uploaded by a client on this node, use command `[your_client].datasets`"
      ]
     },
     "execution_count": 6,
     "metadata": {},
     "output_type": "execute_result"
    }
   ],
   "source": [
    "dataset = sy.Dataset(\n",
    "    name=\"my dataset\",\n",
    "    asset_list=[\n",
    "        sy.Asset(\n",
    "            name=\"my asset\",\n",
    "            data=np.array([1, 2, 3]),\n",
    "            mock=np.array([1, 1, 1])\n",
    "        )\n",
    "    ]\n",
    ")\n",
    "\n",
    "client.upload_dataset(dataset)"
   ]
  },
  {
   "attachments": {},
   "cell_type": "markdown",
   "id": "08dd52fe",
   "metadata": {},
   "source": [
    "## Viewing a Dataset"
   ]
  },
  {
   "attachments": {},
   "cell_type": "markdown",
   "id": "e0460b72",
   "metadata": {},
   "source": [
    "We can see the dataset we just created using `client.api.services.dataset.get_all()` or simply `client.datasets`"
   ]
  },
  {
   "cell_type": "code",
   "execution_count": 7,
   "id": "089ef1de",
   "metadata": {
    "execution": {
     "iopub.execute_input": "2023-06-29T09:44:08.798673Z",
     "iopub.status.busy": "2023-06-29T09:44:08.798105Z",
     "iopub.status.idle": "2023-06-29T09:44:08.826638Z",
     "shell.execute_reply": "2023-06-29T09:44:08.825812Z"
    }
   },
   "outputs": [
    {
     "data": {
      "text/html": [
       "\n",
       "<style>\n",
       "  .header-1 {\n",
       "        font-style: normal;\n",
       "        font-weight: 600;\n",
       "        font-size: 2.0736em;\n",
       "        line-height: 100%;\n",
       "        leading-trim: both;\n",
       "        text-edge: cap;\n",
       "        color: #17161D;\n",
       "    }\n",
       "\n",
       "  .header-2 {\n",
       "        font-style: normal;\n",
       "        font-weight: 600;\n",
       "        font-size: 1.728em;\n",
       "        line-height: 100%;\n",
       "        leading-trim: both;\n",
       "        text-edge: cap;\n",
       "        color: #17161D;\n",
       "    }\n",
       "\n",
       "  .header-3 {\n",
       "        font-style: normal;\n",
       "        font-weight: 600;\n",
       "        font-size:  1.44em;\n",
       "        line-height: 100%;\n",
       "        leading-trim: both;\n",
       "        text-edge: cap;\n",
       "        color: #17161D;\n",
       "    }\n",
       "\n",
       "  .header-4 {\n",
       "        font-style: normal;\n",
       "        font-weight: 600;\n",
       "        font-size: 1.2em;\n",
       "        line-height: 100%;\n",
       "        leading-trim: both;\n",
       "        text-edge: cap;\n",
       "        color: #17161D;\n",
       "    }\n",
       "\n",
       "    .paragraph {\n",
       "        font-style: normal;\n",
       "        font-weight: 400;\n",
       "        font-size: 14px;\n",
       "        line-height: 100%;\n",
       "        leading-trim: both;\n",
       "        text-edge: cap;\n",
       "        color: #2E2B3B;\n",
       "    }\n",
       "\n",
       "    .paragraph-sm {\n",
       "        font-family: 'Roboto';\n",
       "        font-style: normal;\n",
       "        font-weight: 400;\n",
       "        font-size: 11.62px;\n",
       "        line-height: 100%;\n",
       "        leading-trim: both;\n",
       "        text-edge: cap;\n",
       "        color: #2E2B3B;\n",
       "    }\n",
       "    .code-text {\n",
       "        font-family: 'Consolas';\n",
       "        font-style: normal;\n",
       "        font-weight: 400;\n",
       "        font-size: 13px;\n",
       "        line-height: 130%;\n",
       "        leading-trim: both;\n",
       "        text-edge: cap;\n",
       "        color: #2E2B3B;\n",
       "    }\n",
       "\n",
       "    .numbering-entry { display: none }\n",
       "\n",
       "    /* Tooltip container */\n",
       "    .tooltip {\n",
       "        position: relative;\n",
       "        display: inline-block;\n",
       "        border-bottom: 1px dotted black; /* If you want dots under the hoverable text */\n",
       "    }\n",
       "\n",
       "    /* Tooltip text */\n",
       "    .tooltip .tooltiptext {\n",
       "        visibility: hidden;\n",
       "        width: 120px;\n",
       "        background-color: black;\n",
       "        color: #fff;\n",
       "        text-align: center;\n",
       "        padding: 5px 0;\n",
       "        border-radius: 6px;\n",
       "\n",
       "        /* Position the tooltip text - see examples below! */\n",
       "        position: absolute;\n",
       "        z-index: 1;\n",
       "    }\n",
       "\n",
       "    .repr-cell {\n",
       "      padding-top: 20px;\n",
       "    }\n",
       "\n",
       "    .text-bold {\n",
       "        font-weight: bold;\n",
       "    }\n",
       "\n",
       "    .pr-8 {\n",
       "        padding-right: 8px;\n",
       "    }\n",
       "    .pt-8 {\n",
       "        padding-top: 8px;\n",
       "    }\n",
       "    .pl-8 {\n",
       "        padding-left: 8px;\n",
       "    }\n",
       "    .pb-8 {\n",
       "        padding-bottom: 8px;\n",
       "    }\n",
       "\n",
       "    .py-25{\n",
       "        padding-top: 25px;\n",
       "        padding-bottom: 25px;\n",
       "    }\n",
       "\n",
       "    .flex {\n",
       "        display: flex;\n",
       "    }\n",
       "\n",
       "    .gap-10 {\n",
       "        gap: 10px;\n",
       "    }\n",
       "    .items-center{\n",
       "        align-items: center;\n",
       "    }\n",
       "\n",
       "    .search-input{\n",
       "        display: flex;\n",
       "        flex-direction: row;\n",
       "        align-items: center;\n",
       "        padding: 8px 12px;\n",
       "        width: 343px;\n",
       "        height: 24px;\n",
       "        /* Lt On Surface/Low */\n",
       "        background: #F1F0F4;\n",
       "        border-radius: 30px;\n",
       "\n",
       "        /* Lt On Surface/Highest */\n",
       "        color: #B4B0BF;\n",
       "        border:none;\n",
       "        /* Inside auto layout */\n",
       "        flex: none;\n",
       "        order: 0;\n",
       "        flex-grow: 0;\n",
       "    }\n",
       "    .search-input:focus {\n",
       "        outline: none;\n",
       "    }\n",
       "\n",
       "    .search-button{\n",
       "        /* Search */\n",
       "        leading-trim: both;\n",
       "        text-edge: cap;\n",
       "        display: flex;\n",
       "        align-items: center;\n",
       "        text-align: center;\n",
       "\n",
       "        /* Primary/On Light */\n",
       "        color: #464A91;\n",
       "\n",
       "        border-radius: 30px;\n",
       "        border-color: #464A91;\n",
       "        /* Inside auto layout */\n",
       "        flex: none;\n",
       "        order: 1;\n",
       "        flex-grow: 0;\n",
       "    }\n",
       "\n",
       "    .grid-tablea28dcd45d2a745eca9aa7e0d43523c81 {\n",
       "        display:grid;\n",
       "        grid-template-columns: 1fr repeat(24, 1fr);\n",
       "        grid-template-rows: repeat(2, 1fr);\n",
       "        overflow-x: auto;\n",
       "    }\n",
       "\n",
       "    .grid-std-cells {\n",
       "        grid-column: span 4;\n",
       "\n",
       "    }\n",
       "    .grid-index-cells {\n",
       "        grid-column: span 1;\n",
       "        background: #ECEBEF;\n",
       "        /* tmp fix to make left col stand out (fix with font-family) */\n",
       "        font-weight: 600;\n",
       "    }\n",
       "\n",
       "    .grid-header {\n",
       "        /* Auto layout */\n",
       "        display: flex;\n",
       "        flex-direction: column;\n",
       "        align-items: flex-start;\n",
       "        padding: 6px 4px;\n",
       "\n",
       "        /* Lt On Surface/Surface */\n",
       "        background: #ECEBEF;\n",
       "        /* Lt On Surface/High */\n",
       "        border: 1px solid #CFCDD6;\n",
       "        color: #2E2B3B;\n",
       "        /* tmp fix to make header stand out (fix with font-family) */\n",
       "        font-weight: 600;\n",
       "    }\n",
       "\n",
       "    .grid-row {\n",
       "        color: #5E5A72;\n",
       "        display: flex;\n",
       "        flex-direction: column;\n",
       "        align-items: flex-start;\n",
       "        padding: 6px 4px;\n",
       "        overflow: hidden;\n",
       "        border: 1px solid #CFCDD6;\n",
       "    }\n",
       "\n",
       "    .badge {\n",
       "        code-text;\n",
       "        border-radius: 30px;\n",
       "    }\n",
       "\n",
       "    .badge-blue {\n",
       "        badge;\n",
       "        background-color: #C2DEF0;\n",
       "        color: #1F567A;\n",
       "    }\n",
       "\n",
       "    .badge-purple {\n",
       "        badge;\n",
       "        background-color: #C9CFE8;\n",
       "        color: #373B7B;\n",
       "    }\n",
       "\n",
       "    .badge-green {\n",
       "        badge;\n",
       "\n",
       "        /* Success/Container */\n",
       "        background-color: #D5F1D5;\n",
       "        color: #256B24;\n",
       "    }\n",
       "\n",
       "    .badge-red {\n",
       "        badge;\n",
       "        background-color: #F2D9DE;\n",
       "        color: #9B2737;\n",
       "    }\n",
       "\n",
       "    .badge-gray {\n",
       "        badge;\n",
       "        background-color: #ECEBEF;\n",
       "        color: #2E2B3B;\n",
       "    }\n",
       "    .paginationContainer{\n",
       "        width: 100%;\n",
       "        height: 30px;\n",
       "        display: flex;\n",
       "        justify-content: center;\n",
       "        gap: 8px;\n",
       "        padding: 5px;\n",
       "    }\n",
       "\n",
       "    .page{\n",
       "        color: black;\n",
       "        font-weight: bold;\n",
       "    }\n",
       "    .page:hover {\n",
       "      color: #38bdf8;\n",
       "      cursor: pointer;\n",
       "    }\n",
       "    .clipboard:hover{\n",
       "        cursor: pointer;\n",
       "    }\n",
       "\n",
       "    .search-field {\n",
       "        display: flex;\n",
       "        align-items: center;\n",
       "        background: #F1F0F4;\n",
       "        border-radius: 30px;\n",
       "    }\n",
       "\n",
       "    .syft-dropdown {\n",
       "        margin: 5px;\n",
       "        margin-left: 5px;\n",
       "        position: relative;\n",
       "        display: inline-block;\n",
       "        text-align: center;\n",
       "        background-color: #d1d5db;\n",
       "        min-width: 100px;\n",
       "        padding: 2px;\n",
       "        border-radius: 30px;\n",
       "    }\n",
       "\n",
       "    .syft-dropdown:hover {\n",
       "        cursor: pointer;\n",
       "    }\n",
       "    .syft-dropdown-content {\n",
       "        margin-top:26px;\n",
       "        display: none;\n",
       "        position: absolute;\n",
       "        background-color: #f9f9f9;\n",
       "        min-width: 100px;\n",
       "        box-shadow: 0px 8px 16px 0px rgba(0,0,0,0.2);\n",
       "        padding: 12px 6px;\n",
       "        z-index: 1;\n",
       "    }\n",
       "    .dd-options {\n",
       "        padding-top: 4px;\n",
       "    }\n",
       "    .dd-options:first-of-type {\n",
       "        padding-top: 0px;\n",
       "    }\n",
       "\n",
       "    .dd-options:hover {\n",
       "        cursor: pointer;\n",
       "        background: #d1d5db;\n",
       "    }\n",
       "    .arrow {\n",
       "        border: solid black;\n",
       "        border-width: 0 3px 3px 0;\n",
       "        display: inline-block;\n",
       "        padding: 3px;\n",
       "    }\n",
       "    .down {\n",
       "        transform: rotate(45deg);\n",
       "        -webkit-transform: rotate(45deg);\n",
       "    }\n",
       "</style>\n",
       "\n",
       "\n",
       "    <div style='margin-top:15px;'>\n",
       "        <div class='flex gap-10' style='align-items: center;'>\n",
       "            <div><svg width=\"32\"  height=\"32\" viewBox=\"0 0 14 12\" fill=\"none\" xmlns=\"http://www.w3.org/2000/svg\"><path d=\"M13 2H8.66687L6.93313 0.7C6.75978 0.57066 6.54941 0.500536 6.33313 0.5H3.5C3.23478 0.5 2.98043 0.605357 2.79289 0.792893C2.60536 0.98043 2.5 1.23478 2.5 1.5V2.5H1.5C1.23478 2.5 0.98043 2.60536 0.792893 2.79289C0.605357 2.98043 0.5 3.23478 0.5 3.5V10.5C0.5 10.7652 0.605357 11.0196 0.792893 11.2071C0.98043 11.3946 1.23478 11.5 1.5 11.5H11.0556C11.306 11.4997 11.546 11.4001 11.723 11.223C11.9001 11.046 11.9997 10.806 12 10.5556V9.5H13.0556C13.306 9.49967 13.546 9.40007 13.723 9.22303C13.9001 9.046 13.9997 8.80599 14 8.55562V3C14 2.73478 13.8946 2.48043 13.7071 2.29289C13.5196 2.10536 13.2652 2 13 2ZM11 10.5H1.5V3.5H4.33313L6.06687 4.8C6.24022 4.92934 6.45059 4.99946 6.66687 5H11V10.5ZM13 8.5H12V5C12 4.73478 11.8946 4.48043 11.7071 4.29289C11.5196 4.10536 11.2652 4 11 4H6.66687L4.93313 2.7C4.75978 2.57066 4.54941 2.50054 4.33313 2.5H3.5V1.5H6.33313L8.06688 2.8C8.24022 2.92934 8.45059 2.99946 8.66687 3H13V8.5Z\" fill=\"#343330\"/></svg></div>\n",
       "            <div><p class='header-3'>Dataset List</p></div>\n",
       "        </div>\n",
       "\n",
       "            <div style=\"padding-top: 16px; display:flex;justify-content: space-between; align-items: center;\">\n",
       "                <div class='pt-25 gap-10' style=\"display:flex;\">\n",
       "                    <div class=\"search-field\">\n",
       "                        <div id='search-menua28dcd45d2a745eca9aa7e0d43523c81' class=\"syft-dropdown\" onclick=\"{\n",
       "                            let doc = document.getElementById('search-dropdown-contenta28dcd45d2a745eca9aa7e0d43523c81')\n",
       "                            if (doc.style.display === 'block'){\n",
       "                                doc.style.display = 'none'\n",
       "                            } else {\n",
       "                                doc.style.display = 'block'\n",
       "                            }\n",
       "                            }\">\n",
       "                            <div id='search-dropdown-contenta28dcd45d2a745eca9aa7e0d43523c81' class='syft-dropdown-content'></div>\n",
       "                            <script>\n",
       "                                var elementa28dcd45d2a745eca9aa7e0d43523c81 = [{\"id\": {\"value\": \"ab146c06c76f4bd7aa14bc12c168ea57\", \"type\": \"clipboard\"}, \"Name\": \"my dataset\", \"Assets\": 1, \"Size\": \"0 (MB)\", \"Url\": null, \"created at\": \"2023-06-29 09:44:08\"}]\n",
       "                                var page_sizea28dcd45d2a745eca9aa7e0d43523c81 = 1\n",
       "                                var pageIndexa28dcd45d2a745eca9aa7e0d43523c81 = 1\n",
       "                                var paginatedElementsa28dcd45d2a745eca9aa7e0d43523c81 = []\n",
       "                                var activeFiltera28dcd45d2a745eca9aa7e0d43523c81;\n",
       "\n",
       "                                function buildDropDownMenu(elements){\n",
       "                                    let init_filter;\n",
       "                                    let menu = document.getElementById('search-dropdown-contenta28dcd45d2a745eca9aa7e0d43523c81')\n",
       "                                    if (elements.length > 0) {\n",
       "                                        let sample = elements[0]\n",
       "                                        for (const attr in sample) {\n",
       "                                            if (typeof init_filter === 'undefined'){\n",
       "                                                init_filter = attr;\n",
       "                                            }\n",
       "                                            let content = document.createElement('div');\n",
       "                                            content.onclick = function(event) {\n",
       "                                                event.stopPropagation()\n",
       "                                                document.getElementById('menu-active-filtera28dcd45d2a745eca9aa7e0d43523c81').innerText = attr;\n",
       "                                                activeFiltera28dcd45d2a745eca9aa7e0d43523c81 = attr;\n",
       "                                                document.getElementById(\n",
       "                                                    'search-dropdown-contenta28dcd45d2a745eca9aa7e0d43523c81'\n",
       "                                                ).style.display= 'none';\n",
       "                                            }\n",
       "                                            content.classList.add(\"dd-options\");\n",
       "                                            content.innerText = attr;\n",
       "                                            menu.appendChild(content);\n",
       "                                        }\n",
       "                                    } else {\n",
       "                                        let init_filter = '---'\n",
       "                                    }\n",
       "                                    let dropdown_field = document.getElementById('search-menua28dcd45d2a745eca9aa7e0d43523c81')\n",
       "                                    let span = document.createElement('span')\n",
       "                                    span.setAttribute('id', 'menu-active-filtera28dcd45d2a745eca9aa7e0d43523c81')\n",
       "                                    span.innerText = init_filter\n",
       "                                    activeFiltera28dcd45d2a745eca9aa7e0d43523c81 = init_filter;\n",
       "                                    dropdown_field.appendChild(span)\n",
       "                                }\n",
       "\n",
       "                                buildDropDownMenu(elementa28dcd45d2a745eca9aa7e0d43523c81)\n",
       "                            </script>\n",
       "                        </div>\n",
       "                        <input id='searchKeya28dcd45d2a745eca9aa7e0d43523c81' class='search-input' placeholder='Enter search here ...'  />\n",
       "                    </div>\n",
       "                    <button class='search-button'  onclick=\"searchGrida28dcd45d2a745eca9aa7e0d43523c81(elementa28dcd45d2a745eca9aa7e0d43523c81)\">\n",
       "                        <svg width=\"11\" height=\"10\" viewBox=\"0 0 11 10\" fill=\"none\" xmlns=\"http://www.w3.org/2000/svg\"><path d=\"M10.5652 9.23467L8.21819 6.88811C8.89846 6.07141 9.23767 5.02389 9.16527 3.96345C9.09287 2.90302 8.61443 1.91132 7.82948 1.19466C7.04453 0.477995 6.01349 0.0915414 4.95087 0.115691C3.88824 0.139841 2.87583 0.572735 2.12425 1.32432C1.37266 2.0759 0.939768 3.08831 0.915618 4.15094C0.891468 5.21357 1.27792 6.2446 1.99459 7.02955C2.71125 7.8145 3.70295 8.29294 4.76338 8.36535C5.82381 8.43775 6.87134 8.09853 7.68804 7.41827L10.0346 9.7653C10.0694 9.80014 10.1108 9.82778 10.1563 9.84663C10.2018 9.86549 10.2506 9.87519 10.2999 9.87519C10.3492 9.87519 10.398 9.86549 10.4435 9.84663C10.489 9.82778 10.5304 9.80014 10.5652 9.7653C10.6001 9.73046 10.6277 9.68909 10.6466 9.64357C10.6654 9.59805 10.6751 9.54926 10.6751 9.49998C10.6751 9.45071 10.6654 9.40192 10.6466 9.3564C10.6277 9.31088 10.6001 9.26951 10.5652 9.23467ZM1.67491 4.24998C1.67491 3.58247 1.87285 2.92995 2.2437 2.37493C2.61455 1.81992 3.14165 1.38734 3.75835 1.13189C4.37506 0.876446 5.05366 0.809609 5.70834 0.939835C6.36303 1.07006 6.96439 1.3915 7.4364 1.8635C7.9084 2.3355 8.22984 2.93687 8.36006 3.59155C8.49029 4.24624 8.42345 4.92484 8.168 5.54154C7.91256 6.15824 7.47998 6.68535 6.92496 7.05619C6.36995 7.42704 5.71742 7.62498 5.04991 7.62498C4.15511 7.62399 3.29724 7.26809 2.66452 6.63537C2.0318 6.00265 1.6759 5.14479 1.67491 4.24998Z\" fill=\"#464A91\"/></svg>\n",
       "                        <span class='pl-8'>Search</span>\n",
       "                    </button>\n",
       "                </div>\n",
       "\n",
       "                <div><h4 id='totala28dcd45d2a745eca9aa7e0d43523c81'>0</h4></div>\n",
       "            </div>\n",
       "            <div id='tablea28dcd45d2a745eca9aa7e0d43523c81' class='grid-tablea28dcd45d2a745eca9aa7e0d43523c81' style='margin-top: 25px;'>\n",
       "                <script>\n",
       "                    function paginatea28dcd45d2a745eca9aa7e0d43523c81(arr, size) {\n",
       "                        const res = [];\n",
       "                        for (let i = 0; i < arr.length; i += size) {\n",
       "                            const chunk = arr.slice(i, i + size);\n",
       "                            res.push(chunk);\n",
       "                        }\n",
       "\n",
       "                        return res;\n",
       "                    }\n",
       "\n",
       "                    function searchGrida28dcd45d2a745eca9aa7e0d43523c81(elements){\n",
       "                        let searchKey = document.getElementById('searchKeya28dcd45d2a745eca9aa7e0d43523c81').value\n",
       "                        console.log(\"Search Key: \", searchKey)\n",
       "                        let result;\n",
       "                        if (searchKey === ''){\n",
       "                            result = elements;\n",
       "                        } else {\n",
       "                            result = elements.filter((element) => {\n",
       "                                let property = element[activeFiltera28dcd45d2a745eca9aa7e0d43523c81]\n",
       "                                if (typeof property === 'object' && property !== null){\n",
       "                                    return property.value.toLowerCase().includes(searchKey.toLowerCase());\n",
       "                                } else if (typeof property === 'string' ) {\n",
       "                                    return element[activeFiltera28dcd45d2a745eca9aa7e0d43523c81].toLowerCase().includes(searchKey.toLowerCase());\n",
       "                                } else if (property !== null ) {\n",
       "                                    return element[activeFiltera28dcd45d2a745eca9aa7e0d43523c81].toString() === searchKey;\n",
       "                                } else {\n",
       "                                    return element[activeFiltera28dcd45d2a745eca9aa7e0d43523c81] === searchKey;\n",
       "                                }\n",
       "                            } );\n",
       "                        }\n",
       "                        resetByIda28dcd45d2a745eca9aa7e0d43523c81('tablea28dcd45d2a745eca9aa7e0d43523c81');\n",
       "                        resetByIda28dcd45d2a745eca9aa7e0d43523c81('paga28dcd45d2a745eca9aa7e0d43523c81');\n",
       "                        result = paginatea28dcd45d2a745eca9aa7e0d43523c81(result, page_sizea28dcd45d2a745eca9aa7e0d43523c81)\n",
       "                        buildGrida28dcd45d2a745eca9aa7e0d43523c81(result,pageIndexa28dcd45d2a745eca9aa7e0d43523c81);\n",
       "                        buildPaginationContainera28dcd45d2a745eca9aa7e0d43523c81(result);\n",
       "                    }\n",
       "\n",
       "                    function resetByIda28dcd45d2a745eca9aa7e0d43523c81(id){\n",
       "                        let element = document.getElementById(id);\n",
       "                        while (element.firstChild) {\n",
       "                          element.removeChild(element.firstChild);\n",
       "                        }\n",
       "                    }\n",
       "\n",
       "                    function buildGrida28dcd45d2a745eca9aa7e0d43523c81(items, pageIndex){\n",
       "                                let headers = Object.keys(elementa28dcd45d2a745eca9aa7e0d43523c81[0]);\n",
       "\n",
       "                                let grid = document.getElementById(\"tablea28dcd45d2a745eca9aa7e0d43523c81\");\n",
       "                                let div = document.createElement(\"div\");\n",
       "                                div.classList.add('grid-header', 'grid-index-cells');\n",
       "                                grid.appendChild(div);\n",
       "                                headers.forEach((title) =>{\n",
       "                                    let div = document.createElement(\"div\");\n",
       "                                    div.classList.add('grid-header', 'grid-std-cells');\n",
       "                                    div.innerText = title;\n",
       "\n",
       "                                    grid.appendChild(div);\n",
       "                                });\n",
       "\n",
       "                                let page = items[pageIndex -1]\n",
       "                                if (page !== 'undefine'){\n",
       "                                    let table_indexa28dcd45d2a745eca9aa7e0d43523c81 = ((pageIndex - 1) * page_sizea28dcd45d2a745eca9aa7e0d43523c81)\n",
       "                                    page.forEach((item) => {\n",
       "                                        let grid = document.getElementById(\"tablea28dcd45d2a745eca9aa7e0d43523c81\");\n",
       "                                        // Add new index value in index cells\n",
       "                                        let divIndex = document.createElement(\"div\");\n",
       "                                        divIndex.classList.add('grid-row', 'grid-index-cells');\n",
       "                                        divIndex.innerText = table_indexa28dcd45d2a745eca9aa7e0d43523c81;\n",
       "                                        grid.appendChild(divIndex);\n",
       "\n",
       "                                        // Iterate over the actual obj\n",
       "                                        for (const attr in item) {\n",
       "                                            let div = document.createElement(\"div\");\n",
       "                                            if (typeof item[attr] === 'object'\n",
       "                                                && item[attr] !== null\n",
       "                                                && item[attr].hasOwnProperty('type')) {\n",
       "                                                if (item[attr].type.includes('badge')){\n",
       "                                                    let badge_div = document.createElement(\"div\");\n",
       "                                                    badge_div.classList.add('badge',item[attr].type)\n",
       "                                                    badge_div.innerText = String(item[attr].value).toUpperCase();\n",
       "                                                    div.appendChild(badge_div);\n",
       "                                                    div.classList.add('grid-row','grid-std-cells');\n",
       "                                                } else if (item[attr].type === \"clipboard\") {\n",
       "                                                    div.classList.add('grid-row','grid-std-cells');\n",
       "\n",
       "                                                    // Create clipboard div\n",
       "                                                    let clipboard_div = document.createElement('div');\n",
       "                                                    clipboard_div.style.display= 'flex';\n",
       "                                                    clipboard_div.classList.add(\"gap-10\")\n",
       "                                                    clipboard_div.style.justifyContent = \"space-between\";\n",
       "\n",
       "                                                    let id_text = document.createElement('div');\n",
       "                                                    if (item[attr].value == \"None\"){\n",
       "                                                        id_text.innerText = \"None\";\n",
       "                                                    }\n",
       "                                                    else{\n",
       "                                                        id_text.innerText = item[attr].value.slice(0,5) + \"...\";\n",
       "                                                    }\n",
       "\n",
       "                                                    clipboard_div.appendChild(id_text);\n",
       "                                                    let clipboard_img = document.createElement('div');\n",
       "                                                    clipboard_img.classList.add(\"clipboard\")\n",
       "                                                    div.onclick = function() {\n",
       "                                                        navigator.clipboard.writeText(item[attr].value);\n",
       "                                                    };\n",
       "                                                    clipboard_img.innerHTML = \"<svg width='8' height='8' viewBox='0 0 8 8' fill='none' xmlns='http://www.w3.org/2000/svg'><path d='M7.4375 0.25H2.4375C2.35462 0.25 2.27513 0.282924 2.21653 0.341529C2.15792 0.400134 2.125 0.47962 2.125 0.5625V2.125H0.5625C0.47962 2.125 0.400134 2.15792 0.341529 2.21653C0.282924 2.27513 0.25 2.35462 0.25 2.4375V7.4375C0.25 7.52038 0.282924 7.59987 0.341529 7.65847C0.400134 7.71708 0.47962 7.75 0.5625 7.75H5.5625C5.64538 7.75 5.72487 7.71708 5.78347 7.65847C5.84208 7.59987 5.875 7.52038 5.875 7.4375V5.875H7.4375C7.52038 5.875 7.59987 5.84208 7.65847 5.78347C7.71708 5.72487 7.75 5.64538 7.75 5.5625V0.5625C7.75 0.47962 7.71708 0.400134 7.65847 0.341529C7.59987 0.282924 7.52038 0.25 7.4375 0.25ZM5.25 7.125H0.875V2.75H5.25V7.125ZM7.125 5.25H5.875V2.4375C5.875 2.35462 5.84208 2.27513 5.78347 2.21653C5.72487 2.15792 5.64538 2.125 5.5625 2.125H2.75V0.875H7.125V5.25Z' fill='#464158'/></svg>\";\n",
       "\n",
       "                                                    clipboard_div.appendChild(clipboard_img);\n",
       "                                                    div.appendChild(clipboard_div);\n",
       "                                                }\n",
       "                                            } else{\n",
       "                                                div.classList.add('grid-row','grid-std-cells');\n",
       "                                                if (item[attr] == null) {\n",
       "                                                    text = ' '\n",
       "                                                } else {\n",
       "                                                    text = String(item[attr])\n",
       "                                                }\n",
       "                                                if (text.length > 150){\n",
       "                                                    text = text.slice(0,150) + \"...\";\n",
       "                                                }\n",
       "                                                text = text.replaceAll(\"\\n\", \"</br>\");\n",
       "                                                div.innerHTML = text;\n",
       "                                            }\n",
       "                                            grid.appendChild(div);\n",
       "                                        }\n",
       "                                    table_indexa28dcd45d2a745eca9aa7e0d43523c81 = table_indexa28dcd45d2a745eca9aa7e0d43523c81 + 1;\n",
       "                                    })\n",
       "                                }\n",
       "                    }\n",
       "                    paginatedElementsa28dcd45d2a745eca9aa7e0d43523c81 = paginatea28dcd45d2a745eca9aa7e0d43523c81(elementa28dcd45d2a745eca9aa7e0d43523c81, page_sizea28dcd45d2a745eca9aa7e0d43523c81)\n",
       "                    buildGrida28dcd45d2a745eca9aa7e0d43523c81(paginatedElementsa28dcd45d2a745eca9aa7e0d43523c81, 1)\n",
       "                    document.getElementById('totala28dcd45d2a745eca9aa7e0d43523c81').innerText = \"Total: \" + elementa28dcd45d2a745eca9aa7e0d43523c81.length\n",
       "                </script>\n",
       "            </div>\n",
       "            <div id='paga28dcd45d2a745eca9aa7e0d43523c81' class='paginationContainer'>\n",
       "                <script>\n",
       "                    function buildPaginationContainera28dcd45d2a745eca9aa7e0d43523c81(paginatedElements){\n",
       "                            let pageContainer = document.getElementById(\"paga28dcd45d2a745eca9aa7e0d43523c81\");\n",
       "                            for (let i = 0; i < paginatedElements.length; i++) {\n",
       "                                  let div = document.createElement(\"div\");\n",
       "                                  div.classList.add('page');\n",
       "                                  div.style.color = 'gray';\n",
       "                                  div.onclick = function(event) {\n",
       "                                      let indexes = document.getElementsByClassName('page');\n",
       "                                      for (let index of indexes) { index.style.color = 'gray' }\n",
       "                                      event.target.style.color = \"black\"\n",
       "                                      setPagea28dcd45d2a745eca9aa7e0d43523c81(i + 1);\n",
       "                                  };\n",
       "                                  div.innerText = i + 1;\n",
       "                                  pageContainer.appendChild(div);\n",
       "                            }\n",
       "                    }\n",
       "\n",
       "                    function setPagea28dcd45d2a745eca9aa7e0d43523c81(newPage){\n",
       "                        pageIndex = newPage\n",
       "                        resetByIda28dcd45d2a745eca9aa7e0d43523c81('tablea28dcd45d2a745eca9aa7e0d43523c81')\n",
       "                        buildGrida28dcd45d2a745eca9aa7e0d43523c81(paginatedElementsa28dcd45d2a745eca9aa7e0d43523c81, pageIndex)\n",
       "                    }\n",
       "\n",
       "                    buildPaginationContainera28dcd45d2a745eca9aa7e0d43523c81(paginatedElementsa28dcd45d2a745eca9aa7e0d43523c81)\n",
       "                </script>\n",
       "            </div>\n",
       "        </div>\n",
       "    </div>\n",
       "    </div>\n"
      ],
      "text/plain": [
       "<syft.client.api.APIModule at 0x7f1ecdd5a190>"
      ]
     },
     "execution_count": 7,
     "metadata": {},
     "output_type": "execute_result"
    }
   ],
   "source": [
    "client.datasets"
   ]
  },
  {
   "attachments": {},
   "cell_type": "markdown",
   "id": "23d82efb-2aa2-4293-9566-d2269c8de942",
   "metadata": {},
   "source": [
    "## Adding Mock Data"
   ]
  },
  {
   "attachments": {},
   "cell_type": "markdown",
   "id": "e580a65e",
   "metadata": {},
   "source": [
    "When we construct an Asset e.g.\n",
    "```python\n",
    "sy.Asset(\n",
    "    name=\"my asset\",\n",
    "    data=np.array([1, 2, 3]),\n",
    "    mock=np.array([1, 1, 1])\n",
    ")\n",
    "```\n",
    "\n",
    "We are passing in `data` and a `mock`. The former contains the actual data that needs to be used for analysis, the latter contains some fake data that has the same shape and type as `data`, but does not contain any sensitive information"
   ]
  },
  {
   "attachments": {},
   "cell_type": "markdown",
   "id": "fb5757bf-e6e1-4b0b-b454-2f7c277721d3",
   "metadata": {},
   "source": [
    "## Adding Data Subjects"
   ]
  },
  {
   "attachments": {},
   "cell_type": "markdown",
   "id": "422fbe1e",
   "metadata": {},
   "source": [
    "For `Assets` you can also add `DataSubjects`.  \n",
    "Note: `DataSubjects` will soon be able to assist in tracking privacy exposure over the life time of the Data Asset but for the moment they are purely optional annotation)."
   ]
  },
  {
   "cell_type": "code",
   "execution_count": 8,
   "id": "195d3dd3",
   "metadata": {
    "execution": {
     "iopub.execute_input": "2023-06-29T09:44:08.830259Z",
     "iopub.status.busy": "2023-06-29T09:44:08.829565Z",
     "iopub.status.idle": "2023-06-29T09:44:08.834409Z",
     "shell.execute_reply": "2023-06-29T09:44:08.833615Z"
    }
   },
   "outputs": [],
   "source": [
    "ctf = sy.Asset(\n",
    "    name=\"canada_trade_flow\",\n",
    "    data_subjects=[\n",
    "        sy.DataSubject(name=\"Country\", aliases=[\"country_code\"])\n",
    "    ]\n",
    ")"
   ]
  },
  {
   "attachments": {},
   "cell_type": "markdown",
   "id": "d6d8002e-2369-4833-8002-048636833dda",
   "metadata": {},
   "source": [
    "## What if you don't have mock data?"
   ]
  },
  {
   "cell_type": "code",
   "execution_count": 9,
   "id": "13078bb5",
   "metadata": {
    "execution": {
     "iopub.execute_input": "2023-06-29T09:44:08.837122Z",
     "iopub.status.busy": "2023-06-29T09:44:08.836751Z",
     "iopub.status.idle": "2023-06-29T09:44:08.841988Z",
     "shell.execute_reply": "2023-06-29T09:44:08.841157Z"
    }
   },
   "outputs": [],
   "source": [
    "dataset = sy.Dataset(\n",
    "    name=\"my dataset2\",\n",
    "    asset_list=[\n",
    "        sy.Asset(\n",
    "            name=\"my asset2\",\n",
    "            data=np.array([1, 2, 3]),\n",
    "            mock=sy.ActionObject.empty()\n",
    "        )\n",
    "    ]\n",
    ")"
   ]
  },
  {
   "cell_type": "code",
   "execution_count": 10,
   "id": "81b29482",
   "metadata": {
    "execution": {
     "iopub.execute_input": "2023-06-29T09:44:08.844869Z",
     "iopub.status.busy": "2023-06-29T09:44:08.844611Z",
     "iopub.status.idle": "2023-06-29T09:44:08.948302Z",
     "shell.execute_reply": "2023-06-29T09:44:08.947551Z"
    }
   },
   "outputs": [
    {
     "name": "stderr",
     "output_type": "stream",
     "text": [
      "\r",
      "  0%|          | 0/1 [00:00<?, ?it/s]"
     ]
    },
    {
     "name": "stdout",
     "output_type": "stream",
     "text": [
      "Uploading: my asset2\n"
     ]
    },
    {
     "name": "stderr",
     "output_type": "stream",
     "text": [
      "\r",
      "100%|██████████| 1/1 [00:00<00:00, 25.70it/s]"
     ]
    },
    {
     "name": "stderr",
     "output_type": "stream",
     "text": [
      "\n"
     ]
    },
    {
     "data": {
      "text/html": [
       "<div class=\"alert-success\" style=\"padding:5px;\"><strong>SyftSuccess</strong>: Dataset uploaded to 'private-data-example-domain-1'. To see the datasets uploaded by a client on this node, use command `[your_client].datasets`</div><br />"
      ],
      "text/plain": [
       "<class 'syft.service.response.SyftSuccess'>: Dataset uploaded to 'private-data-example-domain-1'. To see the datasets uploaded by a client on this node, use command `[your_client].datasets`"
      ]
     },
     "execution_count": 10,
     "metadata": {},
     "output_type": "execute_result"
    }
   ],
   "source": [
    "client.upload_dataset(dataset)"
   ]
  },
  {
   "attachments": {},
   "cell_type": "markdown",
   "id": "6b639eae-4ed2-46aa-a2b2-afca6d08b338",
   "metadata": {},
   "source": [
    "## High Side vs Low Side"
   ]
  }
 ],
 "metadata": {
  "kernelspec": {
   "display_name": "Python 3 (ipykernel)",
   "language": "python",
   "name": "python3"
  },
  "language_info": {
   "codemirror_mode": {
    "name": "ipython",
    "version": 3
   },
   "file_extension": ".py",
   "mimetype": "text/x-python",
   "name": "python",
   "nbconvert_exporter": "python",
   "pygments_lexer": "ipython3",
   "version": "3.11.4"
  },
  "toc": {
   "base_numbering": 1,
   "nav_menu": {},
   "number_sections": true,
   "sideBar": true,
   "skip_h1_title": false,
   "title_cell": "Table of Contents",
   "title_sidebar": "Contents",
   "toc_cell": false,
   "toc_position": {},
   "toc_section_display": true,
   "toc_window_display": true
  }
 },
 "nbformat": 4,
 "nbformat_minor": 5
}
