{
 "cells": [
  {
   "cell_type": "markdown",
   "id": "faa9b3c9",
   "metadata": {},
   "source": [
    "# Find out on which weekday people bike the most with groupby and aggregate"
   ]
  },
  {
   "cell_type": "code",
   "execution_count": 1,
   "id": "66c14a6b",
   "metadata": {
    "execution": {
     "iopub.execute_input": "2023-06-29T09:49:33.354573Z",
     "iopub.status.busy": "2023-06-29T09:49:33.354321Z",
     "iopub.status.idle": "2023-06-29T09:49:33.361161Z",
     "shell.execute_reply": "2023-06-29T09:49:33.360505Z"
    },
    "tags": []
   },
   "outputs": [],
   "source": [
    "SYFT_VERSION = \">=0.8.2.b0,<0.9\"\n",
    "package_string = f'\"syft{SYFT_VERSION}\"'\n",
    "# %pip install {package_string} -f https://whls.blob.core.windows.net/unstable/index.html -q"
   ]
  },
  {
   "cell_type": "code",
   "execution_count": 2,
   "id": "74a3a9fb",
   "metadata": {
    "execution": {
     "iopub.execute_input": "2023-06-29T09:49:33.364228Z",
     "iopub.status.busy": "2023-06-29T09:49:33.363703Z",
     "iopub.status.idle": "2023-06-29T09:49:35.653580Z",
     "shell.execute_reply": "2023-06-29T09:49:35.652501Z"
    },
    "tags": []
   },
   "outputs": [
    {
     "name": "stdout",
     "output_type": "stream",
     "text": [
      "✅ The installed version of syft==0.8.2b2 matches the requirement >=0.8.2b0 and the requirement <0.9\n"
     ]
    }
   ],
   "source": [
    "import syft as sy\n",
    "sy.requires(SYFT_VERSION)"
   ]
  },
  {
   "cell_type": "code",
   "execution_count": 3,
   "id": "cbce68c1",
   "metadata": {
    "execution": {
     "iopub.execute_input": "2023-06-29T09:49:35.657232Z",
     "iopub.status.busy": "2023-06-29T09:49:35.656485Z",
     "iopub.status.idle": "2023-06-29T09:49:36.709435Z",
     "shell.execute_reply": "2023-06-29T09:49:36.708394Z"
    },
    "tags": []
   },
   "outputs": [
    {
     "name": "stdout",
     "output_type": "stream",
     "text": [
      "Starting pandas-test-domain-4 server on 0.0.0.0:9084\n"
     ]
    },
    {
     "name": "stdout",
     "output_type": "stream",
     "text": [
      "Waiting for server to start Done.\n"
     ]
    }
   ],
   "source": [
    "node = sy.orchestra.launch(name=\"pandas-test-domain-4\", port=9084, reset=True)"
   ]
  },
  {
   "cell_type": "markdown",
   "id": "a004ecaf",
   "metadata": {},
   "source": [
    "# Data owner: upload data"
   ]
  },
  {
   "cell_type": "code",
   "execution_count": 4,
   "id": "3779a9a3",
   "metadata": {
    "execution": {
     "iopub.execute_input": "2023-06-29T09:49:36.713967Z",
     "iopub.status.busy": "2023-06-29T09:49:36.713311Z",
     "iopub.status.idle": "2023-06-29T09:49:38.198335Z",
     "shell.execute_reply": "2023-06-29T09:49:38.197476Z"
    },
    "tags": []
   },
   "outputs": [
    {
     "name": "stdout",
     "output_type": "stream",
     "text": [
      "Logged into pandas-test-domain-4 as <info@openmined.org>\n"
     ]
    }
   ],
   "source": [
    "root_domain_client = node.login(email=\"info@openmined.org\", password=\"changethis\")"
   ]
  },
  {
   "cell_type": "markdown",
   "id": "da0cf39a",
   "metadata": {},
   "source": [
    "## Load data"
   ]
  },
  {
   "cell_type": "code",
   "execution_count": 5,
   "id": "4a92fb68",
   "metadata": {
    "execution": {
     "iopub.execute_input": "2023-06-29T09:49:38.201677Z",
     "iopub.status.busy": "2023-06-29T09:49:38.201172Z",
     "iopub.status.idle": "2023-06-29T09:49:38.620552Z",
     "shell.execute_reply": "2023-06-29T09:49:38.619263Z"
    },
    "tags": []
   },
   "outputs": [],
   "source": [
    "import pandas as pd\n",
    "import matplotlib.pyplot as plt\n",
    "from datetime import timedelta\n",
    "from dateutil.parser import parse\n",
    "from pandas._libs.tslibs.timestamps import Timestamp\n",
    "from syft.service.project.project import Project\n",
    "from syft.util.util import autocache, PANDAS_DATA"
   ]
  },
  {
   "cell_type": "code",
   "execution_count": 6,
   "id": "01ccd135",
   "metadata": {
    "execution": {
     "iopub.execute_input": "2023-06-29T09:49:38.625029Z",
     "iopub.status.busy": "2023-06-29T09:49:38.624247Z",
     "iopub.status.idle": "2023-06-29T09:49:38.657319Z",
     "shell.execute_reply": "2023-06-29T09:49:38.656589Z"
    },
    "tags": []
   },
   "outputs": [
    {
     "data": {
      "text/html": [
       "<div>\n",
       "<style scoped>\n",
       "    .dataframe tbody tr th:only-of-type {\n",
       "        vertical-align: middle;\n",
       "    }\n",
       "\n",
       "    .dataframe tbody tr th {\n",
       "        vertical-align: top;\n",
       "    }\n",
       "\n",
       "    .dataframe thead th {\n",
       "        text-align: right;\n",
       "    }\n",
       "</style>\n",
       "<table border=\"1\" class=\"dataframe\">\n",
       "  <thead>\n",
       "    <tr style=\"text-align: right;\">\n",
       "      <th></th>\n",
       "      <th>Berri 1</th>\n",
       "      <th>Brébeuf (données non disponibles)</th>\n",
       "      <th>Côte-Sainte-Catherine</th>\n",
       "      <th>Maisonneuve 1</th>\n",
       "      <th>Maisonneuve 2</th>\n",
       "      <th>du Parc</th>\n",
       "      <th>Pierre-Dupuy</th>\n",
       "      <th>Rachel1</th>\n",
       "      <th>St-Urbain (données non disponibles)</th>\n",
       "    </tr>\n",
       "    <tr>\n",
       "      <th>Date</th>\n",
       "      <th></th>\n",
       "      <th></th>\n",
       "      <th></th>\n",
       "      <th></th>\n",
       "      <th></th>\n",
       "      <th></th>\n",
       "      <th></th>\n",
       "      <th></th>\n",
       "      <th></th>\n",
       "    </tr>\n",
       "  </thead>\n",
       "  <tbody>\n",
       "    <tr>\n",
       "      <th>2012-01-01</th>\n",
       "      <td>35</td>\n",
       "      <td>NaN</td>\n",
       "      <td>0</td>\n",
       "      <td>38</td>\n",
       "      <td>51</td>\n",
       "      <td>26</td>\n",
       "      <td>10</td>\n",
       "      <td>16</td>\n",
       "      <td>NaN</td>\n",
       "    </tr>\n",
       "    <tr>\n",
       "      <th>2012-01-02</th>\n",
       "      <td>83</td>\n",
       "      <td>NaN</td>\n",
       "      <td>1</td>\n",
       "      <td>68</td>\n",
       "      <td>153</td>\n",
       "      <td>53</td>\n",
       "      <td>6</td>\n",
       "      <td>43</td>\n",
       "      <td>NaN</td>\n",
       "    </tr>\n",
       "    <tr>\n",
       "      <th>2012-01-03</th>\n",
       "      <td>135</td>\n",
       "      <td>NaN</td>\n",
       "      <td>2</td>\n",
       "      <td>104</td>\n",
       "      <td>248</td>\n",
       "      <td>89</td>\n",
       "      <td>3</td>\n",
       "      <td>58</td>\n",
       "      <td>NaN</td>\n",
       "    </tr>\n",
       "  </tbody>\n",
       "</table>\n",
       "</div>"
      ],
      "text/plain": [
       "            Berri 1  Brébeuf (données non disponibles)  Côte-Sainte-Catherine  \\\n",
       "Date                                                                            \n",
       "2012-01-01       35                                NaN                      0   \n",
       "2012-01-02       83                                NaN                      1   \n",
       "2012-01-03      135                                NaN                      2   \n",
       "\n",
       "            Maisonneuve 1  Maisonneuve 2  du Parc  Pierre-Dupuy  Rachel1  \\\n",
       "Date                                                                       \n",
       "2012-01-01             38             51       26            10       16   \n",
       "2012-01-02             68            153       53             6       43   \n",
       "2012-01-03            104            248       89             3       58   \n",
       "\n",
       "            St-Urbain (données non disponibles)  \n",
       "Date                                             \n",
       "2012-01-01                                  NaN  \n",
       "2012-01-02                                  NaN  \n",
       "2012-01-03                                  NaN  "
      ]
     },
     "execution_count": 6,
     "metadata": {},
     "output_type": "execute_result"
    }
   ],
   "source": [
    "df = pd.read_csv(autocache(f\"{PANDAS_DATA}/bikes.csv\"), sep=';', encoding='latin1', parse_dates=['Date'], dayfirst=True, index_col='Date')\n",
    "df[:3]"
   ]
  },
  {
   "cell_type": "code",
   "execution_count": 7,
   "id": "df84ac75-3389-40de-b532-efcedcbbe29b",
   "metadata": {
    "execution": {
     "iopub.execute_input": "2023-06-29T09:49:38.660674Z",
     "iopub.status.busy": "2023-06-29T09:49:38.660051Z",
     "iopub.status.idle": "2023-06-29T09:49:38.665006Z",
     "shell.execute_reply": "2023-06-29T09:49:38.664218Z"
    }
   },
   "outputs": [],
   "source": [
    "assert len(df) == 310"
   ]
  },
  {
   "cell_type": "markdown",
   "id": "409c477e",
   "metadata": {},
   "source": [
    "## Create mock data"
   ]
  },
  {
   "cell_type": "code",
   "execution_count": 8,
   "id": "ff782f96",
   "metadata": {
    "execution": {
     "iopub.execute_input": "2023-06-29T09:49:38.668247Z",
     "iopub.status.busy": "2023-06-29T09:49:38.667668Z",
     "iopub.status.idle": "2023-06-29T09:49:38.675717Z",
     "shell.execute_reply": "2023-06-29T09:49:38.674992Z"
    },
    "tags": []
   },
   "outputs": [],
   "source": [
    "import numpy as np\n",
    "from random import randint\n",
    "\n",
    "def get_mock_int(i, var=10):\n",
    "    base = 100 + int(np.cos(i/10) * 50)\n",
    "    return randint(max(base-var, 1),max(1, base+var))\n",
    "\n",
    "def get_mock_date(i):\n",
    "    return str(parse('Jun 1 2005').date() + timedelta(days=i))\n",
    "\n",
    "# some randomness\n",
    "r = [(randint(1, 40), randint(1, 40)) for _ in range(7)]\n",
    "\n",
    "def get_mock_row(i):\n",
    "    res = [get_mock_int(i+r[j][0], r[j][1]) for j in range(7)]\n",
    "    # add NaNs in the second and 10th col\n",
    "    res.insert(1, None), res.insert(9, None)\n",
    "    return res\n",
    "    "
   ]
  },
  {
   "cell_type": "code",
   "execution_count": 9,
   "id": "3a5a37db",
   "metadata": {
    "execution": {
     "iopub.execute_input": "2023-06-29T09:49:38.678558Z",
     "iopub.status.busy": "2023-06-29T09:49:38.678225Z",
     "iopub.status.idle": "2023-06-29T09:49:38.714348Z",
     "shell.execute_reply": "2023-06-29T09:49:38.713582Z"
    },
    "tags": []
   },
   "outputs": [],
   "source": [
    "mock = pd.DataFrame(index=[Timestamp(get_mock_date(i)) for i in range(len(df))],\n",
    "                    data=[get_mock_row(i) for i in range(len(df))],\n",
    "                    columns=df.columns)"
   ]
  },
  {
   "cell_type": "markdown",
   "id": "df9d660e",
   "metadata": {},
   "source": [
    "Upload the data"
   ]
  },
  {
   "cell_type": "code",
   "execution_count": 10,
   "id": "5d943349",
   "metadata": {
    "execution": {
     "iopub.execute_input": "2023-06-29T09:49:38.718136Z",
     "iopub.status.busy": "2023-06-29T09:49:38.717495Z",
     "iopub.status.idle": "2023-06-29T09:49:39.155541Z",
     "shell.execute_reply": "2023-06-29T09:49:39.154900Z"
    },
    "tags": []
   },
   "outputs": [
    {
     "name": "stderr",
     "output_type": "stream",
     "text": [
      "\r",
      "  0%|          | 0/1 [00:00<?, ?it/s]"
     ]
    },
    {
     "name": "stderr",
     "output_type": "stream",
     "text": [
      "\r",
      "100%|██████████| 1/1 [00:00<00:00,  2.82it/s]"
     ]
    },
    {
     "name": "stderr",
     "output_type": "stream",
     "text": [
      "\r",
      "100%|██████████| 1/1 [00:00<00:00,  2.80it/s]"
     ]
    },
    {
     "name": "stdout",
     "output_type": "stream",
     "text": [
      "Uploading: bikes\n"
     ]
    },
    {
     "name": "stderr",
     "output_type": "stream",
     "text": [
      "\n"
     ]
    },
    {
     "data": {
      "text/html": [
       "<div class=\"alert-success\" style=\"padding:5px;\"><strong>SyftSuccess</strong>: Dataset uploaded to 'pandas-test-domain-4'. To see the datasets uploaded by a client on this node, use command `[your_client].datasets`</div><br />"
      ],
      "text/plain": [
       "<class 'syft.service.response.SyftSuccess'>: Dataset uploaded to 'pandas-test-domain-4'. To see the datasets uploaded by a client on this node, use command `[your_client].datasets`"
      ]
     },
     "execution_count": 10,
     "metadata": {},
     "output_type": "execute_result"
    }
   ],
   "source": [
    "dataset = sy.Dataset(name=\"bikes2\",\n",
    "                     asset_list=[sy.Asset(name=\"bikes\", data=df, mock=mock, mock_is_real=False)])\n",
    "root_domain_client.upload_dataset(dataset)\n"
   ]
  },
  {
   "cell_type": "markdown",
   "id": "2fa251ef",
   "metadata": {},
   "source": [
    "## create Data scientist"
   ]
  },
  {
   "cell_type": "code",
   "execution_count": 11,
   "id": "c51ce71e",
   "metadata": {
    "execution": {
     "iopub.execute_input": "2023-06-29T09:49:39.158821Z",
     "iopub.status.busy": "2023-06-29T09:49:39.158336Z",
     "iopub.status.idle": "2023-06-29T09:49:40.960652Z",
     "shell.execute_reply": "2023-06-29T09:49:40.959812Z"
    },
    "tags": []
   },
   "outputs": [
    {
     "name": "stdout",
     "output_type": "stream",
     "text": [
      "Logged into pandas-test-domain-4 as <jane@caltech.edu>\n"
     ]
    }
   ],
   "source": [
    "user = root_domain_client.register(name=\"Jane Doe\", email=\"jane@caltech.edu\",\n",
    "                            password=\"abc123\", institution=\"Caltech\", website=\"https://www.caltech.edu/\")\n",
    "\n",
    "# todo: give user data scientist role\n",
    "\n",
    "guest_domain_client = node.client\n",
    "\n",
    "guest_client = guest_domain_client.login(email=\"jane@caltech.edu\", password=\"abc123\")"
   ]
  },
  {
   "cell_type": "markdown",
   "id": "61a1069e",
   "metadata": {},
   "source": [
    "## Create user account"
   ]
  },
  {
   "cell_type": "markdown",
   "id": "8d405280",
   "metadata": {},
   "source": [
    "# Data Scientist: create syft_function"
   ]
  },
  {
   "cell_type": "markdown",
   "id": "8c9c3595",
   "metadata": {},
   "source": [
    "## Download mock and submit project"
   ]
  },
  {
   "cell_type": "markdown",
   "id": "8c63f823",
   "metadata": {},
   "source": [
    "### Get mock"
   ]
  },
  {
   "cell_type": "code",
   "execution_count": 12,
   "id": "81c7f134",
   "metadata": {
    "execution": {
     "iopub.execute_input": "2023-06-29T09:49:40.963681Z",
     "iopub.status.busy": "2023-06-29T09:49:40.963280Z",
     "iopub.status.idle": "2023-06-29T09:49:41.018448Z",
     "shell.execute_reply": "2023-06-29T09:49:41.017658Z"
    },
    "tags": []
   },
   "outputs": [],
   "source": [
    "ds = guest_domain_client.datasets[0]"
   ]
  },
  {
   "cell_type": "code",
   "execution_count": 13,
   "id": "fa97cda8",
   "metadata": {
    "execution": {
     "iopub.execute_input": "2023-06-29T09:49:41.022348Z",
     "iopub.status.busy": "2023-06-29T09:49:41.021912Z",
     "iopub.status.idle": "2023-06-29T09:49:41.026502Z",
     "shell.execute_reply": "2023-06-29T09:49:41.025472Z"
    },
    "tags": []
   },
   "outputs": [],
   "source": [
    "asset = ds.assets[\"bikes\"]"
   ]
  },
  {
   "cell_type": "code",
   "execution_count": 14,
   "id": "01338633",
   "metadata": {
    "execution": {
     "iopub.execute_input": "2023-06-29T09:49:41.029965Z",
     "iopub.status.busy": "2023-06-29T09:49:41.029473Z",
     "iopub.status.idle": "2023-06-29T09:49:41.112165Z",
     "shell.execute_reply": "2023-06-29T09:49:41.111261Z"
    },
    "tags": []
   },
   "outputs": [
    {
     "data": {
      "text/html": [
       "\n",
       "            <style>\n",
       "            \n",
       "/* cyrillic-ext */\n",
       "@font-face {\n",
       "  font-family: 'Open Sans';\n",
       "  font-style: normal;\n",
       "  font-weight: 300 800;\n",
       "  font-stretch: 100%;\n",
       "  src: url(https://fonts.gstatic.com/s/opensans/v35/memvYaGs126MiZpBA-UvWbX2vVnXBbObj2OVTSKmu0SC55K5gw.woff2) format('woff2');\n",
       "  unicode-range: U+0460-052F, U+1C80-1C88, U+20B4, U+2DE0-2DFF, U+A640-A69F, U+FE2E-FE2F;\n",
       "}\n",
       "/* cyrillic */\n",
       "@font-face {\n",
       "  font-family: 'Open Sans';\n",
       "  font-style: normal;\n",
       "  font-weight: 300 800;\n",
       "  font-stretch: 100%;\n",
       "  src: url(https://fonts.gstatic.com/s/opensans/v35/memvYaGs126MiZpBA-UvWbX2vVnXBbObj2OVTSumu0SC55K5gw.woff2) format('woff2');\n",
       "  unicode-range: U+0301, U+0400-045F, U+0490-0491, U+04B0-04B1, U+2116;\n",
       "}\n",
       "/* greek-ext */\n",
       "@font-face {\n",
       "  font-family: 'Open Sans';\n",
       "  font-style: normal;\n",
       "  font-weight: 300 800;\n",
       "  font-stretch: 100%;\n",
       "  src: url(https://fonts.gstatic.com/s/opensans/v35/memvYaGs126MiZpBA-UvWbX2vVnXBbObj2OVTSOmu0SC55K5gw.woff2) format('woff2');\n",
       "  unicode-range: U+1F00-1FFF;\n",
       "}\n",
       "/* greek */\n",
       "@font-face {\n",
       "  font-family: 'Open Sans';\n",
       "  font-style: normal;\n",
       "  font-weight: 300 800;\n",
       "  font-stretch: 100%;\n",
       "  src: url(https://fonts.gstatic.com/s/opensans/v35/memvYaGs126MiZpBA-UvWbX2vVnXBbObj2OVTSymu0SC55K5gw.woff2) format('woff2');\n",
       "  unicode-range: U+0370-03FF;\n",
       "}\n",
       "/* hebrew */\n",
       "@font-face {\n",
       "  font-family: 'Open Sans';\n",
       "  font-style: normal;\n",
       "  font-weight: 300 800;\n",
       "  font-stretch: 100%;\n",
       "  src: url(https://fonts.gstatic.com/s/opensans/v35/memvYaGs126MiZpBA-UvWbX2vVnXBbObj2OVTS2mu0SC55K5gw.woff2) format('woff2');\n",
       "  unicode-range: U+0590-05FF, U+200C-2010, U+20AA, U+25CC, U+FB1D-FB4F;\n",
       "}\n",
       "/* vietnamese */\n",
       "@font-face {\n",
       "  font-family: 'Open Sans';\n",
       "  font-style: normal;\n",
       "  font-weight: 300 800;\n",
       "  font-stretch: 100%;\n",
       "  src: url(https://fonts.gstatic.com/s/opensans/v35/memvYaGs126MiZpBA-UvWbX2vVnXBbObj2OVTSCmu0SC55K5gw.woff2) format('woff2');\n",
       "  unicode-range: U+0102-0103, U+0110-0111, U+0128-0129, U+0168-0169, U+01A0-01A1, U+01AF-01B0, U+0300-0301, U+0303-0304, U+0308-0309, U+0323, U+0329, U+1EA0-1EF9, U+20AB;\n",
       "}\n",
       "/* latin-ext */\n",
       "@font-face {\n",
       "  font-family: 'Open Sans';\n",
       "  font-style: normal;\n",
       "  font-weight: 300 800;\n",
       "  font-stretch: 100%;\n",
       "  src: url(https://fonts.gstatic.com/s/opensans/v35/memvYaGs126MiZpBA-UvWbX2vVnXBbObj2OVTSGmu0SC55K5gw.woff2) format('woff2');\n",
       "  unicode-range: U+0100-02AF, U+0304, U+0308, U+0329, U+1E00-1E9F, U+1EF2-1EFF, U+2020, U+20A0-20AB, U+20AD-20CF, U+2113, U+2C60-2C7F, U+A720-A7FF;\n",
       "}\n",
       "/* latin */\n",
       "@font-face {\n",
       "  font-family: 'Open Sans';\n",
       "  font-style: normal;\n",
       "  font-weight: 300 800;\n",
       "  font-stretch: 100%;\n",
       "  src: url(https://fonts.gstatic.com/s/opensans/v35/memvYaGs126MiZpBA-UvWbX2vVnXBbObj2OVTS-mu0SC55I.woff2) format('woff2');\n",
       "  unicode-range: U+0000-00FF, U+0131, U+0152-0153, U+02BB-02BC, U+02C6, U+02DA, U+02DC, U+0304, U+0308, U+0329, U+2000-206F, U+2074, U+20AC, U+2122, U+2191, U+2193, U+2212, U+2215, U+FEFF, U+FFFD;\n",
       "}\n",
       "\n",
       "            .syft-asset {color: #464158;}\n",
       "            .syft-asset h3,\n",
       "            .syft-asset p\n",
       "              {font-family: 'Open Sans'}\n",
       "            .itables {font-family: 'Consolas', monospace, sans-serif;}\n",
       "            </style>\n",
       "\n",
       "            <div class=\"syft-asset\">\n",
       "            <h3>bikes</h3>\n",
       "            <p>None</p>\n",
       "            <p><strong>Asset ID: </strong>8cc8fbc01b954331b810df556d76dcbb</p>\n",
       "            <p><strong>Action Object ID: </strong>67c6d84c878348d6a299b2502a195bd1</p>\n",
       "            n/a\n",
       "            <p><strong>Created on: </strong>2023-06-29 09:49:39</p>\n",
       "            <p><strong>Data:</strong></p>\n",
       "            None\n",
       "            <p><strong>Mock Data:</strong></p>\n",
       "            <style>\n",
       "        .itables table {\n",
       "            margin: 0 auto;\n",
       "            float: left;\n",
       "            color: #534F64;\n",
       "        }\n",
       "        .itables table th {color: #2E2B3B;}\n",
       "        </style>\n",
       "<div class=\"itables\">\n",
       "<table id=\"cef2969b-27a5-4e03-8066-bc469b4bf970\" class=\"display nowrap\"style=\"table-layout:auto;width:auto;margin:auto;caption-side:bottom\"><thead>\n",
       "    <tr style=\"text-align: right;\">\n",
       "      <th></th>\n",
       "      <th>Berri 1</th>\n",
       "      <th>Brébeuf (données non disponibles)</th>\n",
       "      <th>Côte-Sainte-Catherine</th>\n",
       "      <th>Maisonneuve 1</th>\n",
       "      <th>Maisonneuve 2</th>\n",
       "      <th>du Parc</th>\n",
       "      <th>Pierre-Dupuy</th>\n",
       "      <th>Rachel1</th>\n",
       "      <th>St-Urbain (données non disponibles)</th>\n",
       "    </tr>\n",
       "  </thead><tbody><tr><td>Loading... (need <a href=https://mwouts.github.io/itables/troubleshooting.html>help</a>?)</td></tr></tbody></table>\n",
       "<link rel=\"stylesheet\" type=\"text/css\" href=\"https://cdn.datatables.net/1.13.1/css/jquery.dataTables.min.css\">\n",
       "<script type=\"module\">\n",
       "    // Import jquery and DataTable\n",
       "    import 'https://code.jquery.com/jquery-3.6.0.min.js';\n",
       "    import dt from 'https://cdn.datatables.net/1.12.1/js/jquery.dataTables.mjs';\n",
       "    dt($);\n",
       "\n",
       "    // Define the table data\n",
       "    const data = [[\"2005-06-01\", 82, \"None\", 121, 116, 67, 71, 141, 139, \"None\"], [\"2005-06-02\", 72, \"None\", 122, 111, 72, 89, 144, 135, \"None\"], [\"2005-06-03\", 91, \"None\", 139, 85, 68, 77, 137, 130, \"None\"], [\"2005-06-04\", 81, \"None\", 131, 69, 60, 69, 135, 127, \"None\"], [\"2005-06-05\", 65, \"None\", 123, 84, 57, 66, 130, 121, \"None\"], [\"2005-06-06\", 53, \"None\", 103, 58, 50, 80, 131, 118, \"None\"], [\"2005-06-07\", 82, \"None\", 119, 43, 56, 101, 125, 112, \"None\"], [\"2005-06-08\", 78, \"None\", 98, 59, 53, 116, 115, 109, \"None\"], [\"2005-06-09\", 65, \"None\", 86, 77, 53, 117, 93, 103, \"None\"], [\"2005-06-10\", 51, \"None\", 80, 74, 55, 102, 109, 98, \"None\"], [\"2005-06-11\", 65, \"None\", 92, 34, 56, 121, 95, 94, \"None\"], [\"2005-06-12\", 42, \"None\", 70, 34, 56, 122, 83, 88, \"None\"], [\"2005-06-13\", 44, \"None\", 92, 52, 54, 104, 93, 85, \"None\"], [\"2005-06-14\", 40, \"None\", 66, 64, 50, 129, 79, 79, \"None\"], [\"2005-06-15\", 50, \"None\", 59, 70, 58, 138, 70, 74, \"None\"], [\"2005-06-16\", 38, \"None\", 53, 48, 52, 136, 60, 71, \"None\"], [\"2005-06-17\", 47, \"None\", 59, 63, 59, 126, 55, 68, \"None\"], [\"2005-06-18\", 35, \"None\", 60, 35, 58, 127, 66, 63, \"None\"], [\"2005-06-19\", 50, \"None\", 42, 71, 66, 143, 47, 60, \"None\"], [\"2005-06-20\", 60, \"None\", 64, 32, 68, 129, 58, 57, \"None\"], [\"2005-06-21\", 38, \"None\", 46, 36, 75, 140, 59, 55, \"None\"], [\"2005-06-22\", 48, \"None\", 67, 42, 75, 134, 63, 53, \"None\"], [\"2005-06-23\", 77, \"None\", 49, 83, 85, 167, 62, 52, \"None\"], [\"2005-06-24\", 54, \"None\", 52, 54, 86, 135, 46, 51, \"None\"], [\"2005-06-25\", 74, \"None\", 54, 92, 93, 141, 58, 51, \"None\"], [\"2005-06-26\", 92, \"None\", 61, 69, 95, 148, 47, 52, \"None\"], [\"2005-06-27\", 64, \"None\", 48, 89, 110, 130, 58, 50, \"None\"], [\"2005-06-28\", 87, \"None\", 65, 61, 112, 132, 50, 52, \"None\"], [\"2005-06-29\", 94, \"None\", 58, 110, 108, 124, 48, 54, \"None\"], [\"2005-06-30\", 83, \"None\", 54, 103, 116, 127, 50, 56, \"None\"], [\"2005-07-01\", 97, \"None\", 72, 80, 124, 125, 47, 57, \"None\"], [\"2005-07-02\", 82, \"None\", 54, 90, 128, 133, 74, 60, \"None\"], [\"2005-07-03\", 93, \"None\", 66, 124, 136, 149, 59, 63, \"None\"], [\"2005-07-04\", 126, \"None\", 79, 109, 135, 110, 66, 67, \"None\"], [\"2005-07-05\", 134, \"None\", 70, 102, 137, 126, 70, 72, \"None\"], [\"2005-07-06\", 144, \"None\", 71, 107, 137, 105, 71, 76, \"None\"], [\"2005-07-07\", 111, \"None\", 80, 135, 142, 94, 73, 79, \"None\"], [\"2005-07-08\", 147, \"None\", 78, 128, 151, 116, 79, 84, \"None\"], [\"2005-07-09\", 115, \"None\", 80, 139, 145, 96, 77, 91, \"None\"], [\"2005-07-10\", 125, \"None\", 116, 138, 152, 82, 92, 95, \"None\"], [\"2005-07-11\", 120, \"None\", 91, 158, 152, 95, 94, 100, \"None\"], [\"2005-07-12\", 124, \"None\", 124, 151, 152, 82, 109, 105, \"None\"], [\"2005-07-13\", 149, \"None\", 115, 166, 153, 78, 107, 110, \"None\"], [\"2005-07-14\", 143, \"None\", 132, 170, 148, 81, 112, 114, \"None\"], [\"2005-07-15\", 130, \"None\", 133, 129, 148, 90, 116, 118, \"None\"], [\"2005-07-16\", 161, \"None\", 124, 131, 146, 73, 130, 123, \"None\"], [\"2005-07-17\", 164, \"None\", 115, 157, 139, 82, 125, 126, \"None\"], [\"2005-07-18\", 171, \"None\", 147, 168, 138, 49, 131, 131, \"None\"], [\"2005-07-19\", 140, \"None\", 123, 138, 135, 60, 128, 135, \"None\"], [\"2005-07-20\", 169, \"None\", 157, 150, 140, 55, 135, 137, \"None\"], [\"2005-07-21\", 138, \"None\", 135, 124, 131, 63, 151, 142, \"None\"], [\"2005-07-22\", 155, \"None\", 144, 152, 129, 35, 144, 145, \"None\"], [\"2005-07-23\", 130, \"None\", 140, 146, 127, 45, 156, 146, \"None\"], [\"2005-07-24\", 149, \"None\", 163, 118, 120, 44, 137, 149, \"None\"], [\"2005-07-25\", 122, \"None\", 147, 139, 110, 48, 161, 150, \"None\"], [\"2005-07-26\", 152, \"None\", 146, 154, 107, 62, 148, 150, \"None\"], [\"2005-07-27\", 138, \"None\", 144, 139, 108, 50, 161, 149, \"None\"], [\"2005-07-28\", 139, \"None\", 151, 124, 103, 58, 162, 149, \"None\"], [\"2005-07-29\", 126, \"None\", 145, 117, 94, 60, 153, 147, \"None\"], [\"2005-07-30\", 108, \"None\", 150, 88, 84, 50, 157, 148, \"None\"], [\"2005-07-31\", 105, \"None\", 149, 118, 80, 47, 134, 145, \"None\"], [\"2005-08-01\", 124, \"None\", 152, 86, 81, 67, 150, 144, \"None\"], [\"2005-08-02\", 87, \"None\", 149, 111, 75, 60, 146, 139, \"None\"], [\"2005-08-03\", 105, \"None\", 118, 115, 64, 67, 138, 136, \"None\"], [\"2005-08-04\", 81, \"None\", 137, 93, 70, 53, 131, 135, \"None\"], [\"2005-08-05\", 106, \"None\", 112, 97, 59, 81, 133, 131, \"None\"], [\"2005-08-06\", 99, \"None\", 122, 101, 61, 77, 116, 127, \"None\"], [\"2005-08-07\", 82, \"None\", 110, 70, 59, 84, 122, 121, \"None\"], [\"2005-08-08\", 88, \"None\", 107, 83, 61, 80, 125, 117, \"None\"], [\"2005-08-09\", 75, \"None\", 109, 86, 57, 104, 104, 111, \"None\"], [\"2005-08-10\", 63, \"None\", 114, 87, 47, 101, 110, 106, \"None\"], [\"2005-08-11\", 52, \"None\", 93, 68, 47, 93, 108, 103, \"None\"], [\"2005-08-12\", 67, \"None\", 98, 52, 47, 109, 107, 99, \"None\"], [\"2005-08-13\", 68, \"None\", 99, 70, 49, 112, 80, 94, \"None\"], [\"2005-08-14\", 55, \"None\", 72, 55, 56, 128, 89, 87, \"None\"], [\"2005-08-15\", 37, \"None\", 70, 39, 55, 121, 93, 85, \"None\"], [\"2005-08-16\", 47, \"None\", 85, 33, 51, 129, 68, 78, \"None\"], [\"2005-08-17\", 55, \"None\", 81, 38, 62, 120, 64, 76, \"None\"], [\"2005-08-18\", 56, \"None\", 67, 42, 63, 136, 62, 69, \"None\"], [\"2005-08-19\", 32, \"None\", 64, 46, 64, 126, 69, 66, \"None\"], [\"2005-08-20\", 40, \"None\", 49, 72, 67, 151, 64, 62, \"None\"], [\"2005-08-21\", 46, \"None\", 48, 69, 68, 163, 62, 59, \"None\"], [\"2005-08-22\", 49, \"None\", 41, 77, 76, 131, 68, 56, \"None\"], [\"2005-08-23\", 76, \"None\", 62, 58, 82, 160, 67, 56, \"None\"], [\"2005-08-24\", 39, \"None\", 54, 37, 82, 156, 46, 54, \"None\"], [\"2005-08-25\", 55, \"None\", 50, 86, 87, 154, 54, 51, \"None\"], [\"2005-08-26\", 75, \"None\", 43, 89, 93, 151, 57, 50, \"None\"], [\"2005-08-27\", 53, \"None\", 42, 80, 92, 151, 55, 51, \"None\"], [\"2005-08-28\", 73, \"None\", 60, 62, 94, 133, 57, 50, \"None\"], [\"2005-08-29\", 98, \"None\", 51, 78, 106, 147, 40, 52, \"None\"], [\"2005-08-30\", 92, \"None\", 46, 77, 115, 164, 48, 53, \"None\"], [\"2005-08-31\", 75, \"None\", 49, 84, 118, 152, 45, 54, \"None\"], [\"2005-09-01\", 99, \"None\", 51, 115, 123, 146, 44, 55, \"None\"], [\"2005-09-02\", 85, \"None\", 63, 104, 122, 119, 52, 59, \"None\"], [\"2005-09-03\", 124, \"None\", 58, 119, 128, 148, 58, 60, \"None\"], [\"2005-09-04\", 109, \"None\", 53, 105, 137, 142, 77, 65, \"None\"], [\"2005-09-05\", 106, \"None\", 70, 120, 132, 131, 74, 67, \"None\"], [\"2005-09-06\", 124, \"None\", 69, 100, 144, 130, 75, 72, \"None\"], [\"2005-09-07\", 144, \"None\", 95, 123, 146, 131, 78, 76, \"None\"], [\"2005-09-08\", 126, \"None\", 98, 116, 138, 117, 74, 82, \"None\"], [\"2005-09-09\", 141, \"None\", 105, 150, 147, 96, 95, 85, \"None\"], [\"2005-09-10\", 146, \"None\", 97, 153, 142, 90, 93, 90, \"None\"], [\"2005-09-11\", 126, \"None\", 102, 134, 155, 86, 99, 97, \"None\"], [\"2005-09-12\", 149, \"None\", 98, 128, 155, 97, 106, 99, \"None\"], [\"2005-09-13\", 162, \"None\", 96, 124, 148, 72, 99, 104, \"None\"], [\"2005-09-14\", 158, \"None\", 108, 136, 150, 70, 105, 110, \"None\"], [\"2005-09-15\", 159, \"None\", 126, 170, 152, 67, 113, 115, \"None\"], [\"2005-09-16\", 131, \"None\", 125, 164, 147, 89, 127, 120, \"None\"], [\"2005-09-17\", 136, \"None\", 125, 159, 148, 58, 129, 125, \"None\"], [\"2005-09-18\", 127, \"None\", 129, 150, 147, 80, 116, 127, \"None\"], [\"2005-09-19\", 151, \"None\", 126, 143, 135, 64, 140, 131, \"None\"], [\"2005-09-20\", 138, \"None\", 136, 151, 140, 46, 141, 137, \"None\"], [\"2005-09-21\", 127, \"None\", 158, 126, 131, 39, 138, 139, \"None\"], [\"2005-09-22\", 149, \"None\", 155, 136, 130, 43, 143, 143, \"None\"], [\"2005-09-23\", 160, \"None\", 144, 160, 120, 50, 131, 143, \"None\"], [\"2005-09-24\", 138, \"None\", 150, 127, 117, 34, 149, 147, \"None\"], [\"2005-09-25\", 138, \"None\", 157, 123, 114, 42, 158, 147, \"None\"], [\"2005-09-26\", 155, \"None\", 147, 136, 109, 55, 153, 148, \"None\"], [\"2005-09-27\", 130, \"None\", 146, 114, 110, 49, 152, 148, \"None\"], [\"2005-09-28\", 143, \"None\", 136, 133, 99, 47, 156, 150, \"None\"], [\"2005-09-29\", 108, \"None\", 150, 106, 95, 39, 155, 148, \"None\"], [\"2005-09-30\", 114, \"None\", 160, 92, 98, 51, 149, 149, \"None\"], [\"2005-10-01\", 113, \"None\", 156, 124, 82, 48, 144, 148, \"None\"], [\"2005-10-02\", 88, \"None\", 131, 104, 81, 57, 151, 146, \"None\"], [\"2005-10-03\", 117, \"None\", 150, 102, 72, 46, 146, 144, \"None\"], [\"2005-10-04\", 84, \"None\", 150, 87, 78, 83, 131, 140, \"None\"], [\"2005-10-05\", 99, \"None\", 141, 93, 66, 62, 150, 138, \"None\"], [\"2005-10-06\", 84, \"None\", 136, 66, 62, 79, 139, 134, \"None\"], [\"2005-10-07\", 78, \"None\", 109, 77, 61, 90, 124, 130, \"None\"], [\"2005-10-08\", 97, \"None\", 137, 66, 63, 99, 118, 125, \"None\"], [\"2005-10-09\", 60, \"None\", 120, 96, 51, 86, 122, 121, \"None\"], [\"2005-10-10\", 54, \"None\", 107, 87, 57, 84, 122, 116, \"None\"], [\"2005-10-11\", 61, \"None\", 122, 64, 48, 97, 101, 112, \"None\"], [\"2005-10-12\", 60, \"None\", 104, 67, 55, 112, 113, 107, \"None\"], [\"2005-10-13\", 67, \"None\", 86, 55, 50, 100, 109, 102, \"None\"], [\"2005-10-14\", 79, \"None\", 86, 49, 45, 103, 85, 96, \"None\"], [\"2005-10-15\", 61, \"None\", 86, 48, 52, 120, 96, 93, \"None\"], [\"2005-10-16\", 53, \"None\", 89, 48, 46, 131, 95, 89, \"None\"], [\"2005-10-17\", 51, \"None\", 82, 50, 53, 108, 77, 84, \"None\"], [\"2005-10-18\", 34, \"None\", 73, 37, 58, 141, 75, 78, \"None\"], [\"2005-10-19\", 61, \"None\", 72, 48, 50, 124, 83, 75, \"None\"], [\"2005-10-20\", 33, \"None\", 74, 52, 57, 120, 57, 69, \"None\"], [\"2005-10-21\", 63, \"None\", 73, 46, 67, 145, 72, 66, \"None\"], [\"2005-10-22\", 70, \"None\", 70, 58, 61, 140, 66, 62, \"None\"], [\"2005-10-23\", 60, \"None\", 65, 44, 63, 142, 59, 60, \"None\"], [\"2005-10-24\", 73, \"None\", 70, 63, 77, 141, 53, 57, \"None\"], [\"2005-10-25\", 71, \"None\", 47, 45, 75, 166, 42, 54, \"None\"], [\"2005-10-26\", 65, \"None\", 63, 76, 84, 147, 51, 54, \"None\"], [\"2005-10-27\", 43, \"None\", 37, 60, 85, 138, 65, 52, \"None\"], [\"2005-10-28\", 91, \"None\", 55, 87, 93, 153, 52, 52, \"None\"], [\"2005-10-29\", 59, \"None\", 66, 78, 91, 160, 61, 52, \"None\"], [\"2005-10-30\", 97, \"None\", 35, 66, 103, 144, 42, 50, \"None\"], [\"2005-10-31\", 98, \"None\", 37, 75, 112, 130, 64, 51, \"None\"], [\"2005-11-01\", 98, \"None\", 42, 103, 108, 158, 44, 54, \"None\"], [\"2005-11-02\", 108, \"None\", 62, 72, 113, 125, 49, 53, \"None\"], [\"2005-11-03\", 119, \"None\", 61, 79, 120, 145, 43, 55, \"None\"], [\"2005-11-04\", 89, \"None\", 59, 92, 128, 150, 57, 60, \"None\"], [\"2005-11-05\", 114, \"None\", 67, 86, 127, 113, 53, 62, \"None\"], [\"2005-11-06\", 95, \"None\", 72, 114, 135, 132, 72, 65, \"None\"], [\"2005-11-07\", 108, \"None\", 78, 132, 137, 120, 68, 69, \"None\"], [\"2005-11-08\", 134, \"None\", 72, 103, 134, 127, 82, 72, \"None\"], [\"2005-11-09\", 143, \"None\", 84, 135, 139, 113, 73, 77, \"None\"], [\"2005-11-10\", 118, \"None\", 75, 150, 150, 106, 94, 83, \"None\"], [\"2005-11-11\", 153, \"None\", 95, 154, 143, 104, 75, 87, \"None\"], [\"2005-11-12\", 132, \"None\", 99, 145, 148, 91, 104, 91, \"None\"], [\"2005-11-13\", 130, \"None\", 109, 149, 146, 104, 103, 98, \"None\"], [\"2005-11-14\", 142, \"None\", 115, 163, 152, 101, 99, 102, \"None\"], [\"2005-11-15\", 148, \"None\", 111, 124, 143, 71, 103, 107, \"None\"], [\"2005-11-16\", 144, \"None\", 121, 126, 151, 77, 113, 110, \"None\"], [\"2005-11-17\", 133, \"None\", 120, 142, 142, 60, 109, 115, \"None\"], [\"2005-11-18\", 131, \"None\", 140, 161, 140, 92, 115, 120, \"None\"], [\"2005-11-19\", 138, \"None\", 132, 173, 143, 55, 125, 123, \"None\"], [\"2005-11-20\", 170, \"None\", 144, 167, 137, 51, 120, 129, \"None\"], [\"2005-11-21\", 148, \"None\", 142, 132, 136, 73, 127, 132, \"None\"], [\"2005-11-22\", 166, \"None\", 142, 171, 130, 60, 135, 137, \"None\"], [\"2005-11-23\", 143, \"None\", 146, 145, 132, 50, 149, 139, \"None\"], [\"2005-11-24\", 124, \"None\", 150, 132, 131, 45, 134, 142, \"None\"], [\"2005-11-25\", 121, \"None\", 148, 120, 122, 71, 139, 145, \"None\"], [\"2005-11-26\", 117, \"None\", 162, 134, 115, 34, 135, 145, \"None\"], [\"2005-11-27\", 142, \"None\", 137, 148, 111, 34, 156, 149, \"None\"], [\"2005-11-28\", 144, \"None\", 153, 149, 112, 62, 152, 150, \"None\"], [\"2005-11-29\", 122, \"None\", 138, 107, 104, 69, 156, 150, \"None\"], [\"2005-11-30\", 138, \"None\", 145, 145, 96, 57, 159, 149, \"None\"], [\"2005-12-01\", 103, \"None\", 142, 99, 97, 41, 146, 148, \"None\"], [\"2005-12-02\", 112, \"None\", 154, 121, 92, 59, 141, 147, \"None\"], [\"2005-12-03\", 132, \"None\", 146, 106, 83, 58, 141, 145, \"None\"], [\"2005-12-04\", 88, \"None\", 129, 121, 85, 57, 148, 144, \"None\"], [\"2005-12-05\", 108, \"None\", 144, 88, 83, 68, 136, 143, \"None\"], [\"2005-12-06\", 109, \"None\", 125, 79, 69, 83, 148, 138, \"None\"], [\"2005-12-07\", 109, \"None\", 118, 108, 69, 57, 138, 135, \"None\"], [\"2005-12-08\", 73, \"None\", 136, 108, 60, 81, 144, 133, \"None\"], [\"2005-12-09\", 70, \"None\", 127, 90, 67, 62, 122, 129, \"None\"], [\"2005-12-10\", 62, \"None\", 120, 101, 57, 97, 126, 124, \"None\"], [\"2005-12-11\", 94, \"None\", 112, 81, 51, 79, 127, 121, \"None\"], [\"2005-12-12\", 78, \"None\", 101, 48, 53, 75, 127, 115, \"None\"], [\"2005-12-13\", 82, \"None\", 119, 64, 47, 87, 103, 111, \"None\"], [\"2005-12-14\", 61, \"None\", 107, 85, 50, 108, 115, 106, \"None\"], [\"2005-12-15\", 49, \"None\", 98, 77, 53, 123, 110, 102, \"None\"], [\"2005-12-16\", 47, \"None\", 98, 53, 52, 124, 94, 98, \"None\"], [\"2005-12-17\", 68, \"None\", 87, 72, 56, 104, 100, 91, \"None\"], [\"2005-12-18\", 50, \"None\", 68, 47, 47, 106, 80, 87, \"None\"], [\"2005-12-19\", 29, \"None\", 87, 27, 58, 126, 69, 83, \"None\"], [\"2005-12-20\", 31, \"None\", 76, 71, 55, 142, 82, 78, \"None\"], [\"2005-12-21\", 52, \"None\", 73, 27, 55, 149, 70, 74, \"None\"], [\"2005-12-22\", 47, \"None\", 73, 67, 53, 133, 56, 70, \"None\"], [\"2005-12-23\", 59, \"None\", 64, 28, 63, 144, 72, 66, \"None\"], [\"2005-12-24\", 60, \"None\", 46, 54, 69, 131, 71, 61, \"None\"], [\"2005-12-25\", 72, \"None\", 66, 53, 64, 141, 61, 60, \"None\"], [\"2005-12-26\", 39, \"None\", 49, 40, 74, 136, 53, 57, \"None\"], [\"2005-12-27\", 49, \"None\", 39, 52, 78, 130, 57, 55, \"None\"], [\"2005-12-28\", 44, \"None\", 51, 41, 89, 149, 51, 54, \"None\"], [\"2005-12-29\", 57, \"None\", 46, 62, 86, 138, 63, 50, \"None\"], [\"2005-12-30\", 78, \"None\", 44, 65, 93, 146, 58, 51, \"None\"], [\"2005-12-31\", 61, \"None\", 65, 52, 100, 157, 54, 51, \"None\"], [\"2006-01-01\", 77, \"None\", 48, 95, 99, 136, 62, 52, \"None\"], [\"2006-01-02\", 93, \"None\", 55, 87, 106, 150, 53, 53, \"None\"], [\"2006-01-03\", 108, \"None\", 70, 93, 115, 127, 53, 54, \"None\"], [\"2006-01-04\", 73, \"None\", 52, 91, 116, 147, 53, 54, \"None\"], [\"2006-01-05\", 75, \"None\", 65, 74, 118, 131, 66, 57, \"None\"], [\"2006-01-06\", 87, \"None\", 57, 125, 121, 149, 51, 59, \"None\"], [\"2006-01-07\", 104, \"None\", 74, 82, 131, 116, 53, 63, \"None\"], [\"2006-01-08\", 103, \"None\", 68, 134, 138, 141, 67, 66, \"None\"], [\"2006-01-09\", 138, \"None\", 63, 98, 132, 123, 73, 70, \"None\"], [\"2006-01-10\", 130, \"None\", 84, 142, 143, 129, 70, 73, \"None\"], [\"2006-01-11\", 129, \"None\", 74, 146, 141, 127, 89, 77, \"None\"], [\"2006-01-12\", 121, \"None\", 84, 141, 151, 110, 78, 83, \"None\"], [\"2006-01-13\", 143, \"None\", 96, 140, 152, 113, 85, 88, \"None\"], [\"2006-01-14\", 121, \"None\", 92, 158, 154, 104, 96, 92, \"None\"], [\"2006-01-15\", 139, \"None\", 109, 157, 148, 85, 84, 98, \"None\"], [\"2006-01-16\", 164, \"None\", 108, 135, 148, 93, 94, 100, \"None\"], [\"2006-01-17\", 164, \"None\", 114, 140, 144, 68, 110, 107, \"None\"], [\"2006-01-18\", 166, \"None\", 109, 144, 152, 97, 104, 110, \"None\"], [\"2006-01-19\", 165, \"None\", 127, 138, 153, 63, 116, 115, \"None\"], [\"2006-01-20\", 165, \"None\", 121, 143, 143, 87, 122, 120, \"None\"], [\"2006-01-21\", 144, \"None\", 142, 148, 141, 81, 138, 126, \"None\"], [\"2006-01-22\", 132, \"None\", 127, 129, 148, 64, 126, 128, \"None\"], [\"2006-01-23\", 127, \"None\", 153, 160, 136, 74, 129, 134, \"None\"], [\"2006-01-24\", 158, \"None\", 141, 169, 138, 59, 142, 137, \"None\"], [\"2006-01-25\", 134, \"None\", 150, 158, 130, 61, 136, 140, \"None\"], [\"2006-01-26\", 136, \"None\", 136, 150, 132, 57, 137, 143, \"None\"], [\"2006-01-27\", 132, \"None\", 139, 120, 119, 58, 138, 146, \"None\"], [\"2006-01-28\", 153, \"None\", 144, 116, 118, 44, 134, 147, \"None\"], [\"2006-01-29\", 116, \"None\", 137, 141, 114, 33, 147, 149, \"None\"], [\"2006-01-30\", 139, \"None\", 158, 130, 115, 65, 144, 148, \"None\"], [\"2006-01-31\", 135, \"None\", 138, 111, 106, 36, 139, 148, \"None\"], [\"2006-02-01\", 143, \"None\", 136, 112, 101, 66, 158, 150, \"None\"], [\"2006-02-02\", 129, \"None\", 157, 98, 102, 67, 141, 149, \"None\"], [\"2006-02-03\", 125, \"None\", 130, 133, 95, 49, 144, 148, \"None\"], [\"2006-02-04\", 119, \"None\", 129, 90, 92, 68, 156, 145, \"None\"], [\"2006-02-05\", 91, \"None\", 146, 117, 80, 74, 151, 143, \"None\"], [\"2006-02-06\", 113, \"None\", 123, 84, 81, 46, 134, 141, \"None\"], [\"2006-02-07\", 109, \"None\", 124, 72, 72, 65, 143, 140, \"None\"], [\"2006-02-08\", 73, \"None\", 137, 84, 63, 62, 145, 135, \"None\"], [\"2006-02-09\", 69, \"None\", 140, 66, 65, 69, 129, 133, \"None\"], [\"2006-02-10\", 85, \"None\", 126, 84, 56, 93, 121, 128, \"None\"], [\"2006-02-11\", 80, \"None\", 108, 71, 63, 80, 124, 125, \"None\"], [\"2006-02-12\", 93, \"None\", 121, 93, 51, 96, 123, 120, \"None\"], [\"2006-02-13\", 79, \"None\", 101, 66, 51, 95, 117, 114, \"None\"], [\"2006-02-14\", 87, \"None\", 98, 65, 55, 104, 103, 110, \"None\"], [\"2006-02-15\", 72, \"None\", 88, 66, 49, 104, 97, 104, \"None\"], [\"2006-02-16\", 59, \"None\", 108, 72, 49, 125, 91, 101, \"None\"], [\"2006-02-17\", 54, \"None\", 80, 77, 52, 115, 102, 96, \"None\"], [\"2006-02-18\", 52, \"None\", 84, 76, 49, 132, 102, 92, \"None\"], [\"2006-02-19\", 74, \"None\", 77, 41, 50, 116, 87, 85, \"None\"], [\"2006-02-20\", 53, \"None\", 86, 36, 52, 123, 90, 82, \"None\"], [\"2006-02-21\", 44, \"None\", 69, 42, 52, 131, 72, 77, \"None\"], [\"2006-02-22\", 55, \"None\", 52, 36, 63, 121, 79, 72, \"None\"], [\"2006-02-23\", 34, \"None\", 62, 59, 66, 129, 58, 67, \"None\"], [\"2006-02-24\", 68, \"None\", 76, 53, 60, 140, 69, 65, \"None\"], [\"2006-02-25\", 41, \"None\", 55, 49, 61, 129, 66, 62, \"None\"], [\"2006-02-26\", 64, \"None\", 66, 41, 66, 149, 50, 59, \"None\"], [\"2006-02-27\", 46, \"None\", 50, 47, 69, 144, 43, 56, \"None\"], [\"2006-02-28\", 79, \"None\", 54, 44, 74, 141, 61, 53, \"None\"], [\"2006-03-01\", 70, \"None\", 41, 53, 84, 160, 41, 53, \"None\"], [\"2006-03-02\", 68, \"None\", 52, 84, 86, 158, 64, 52, \"None\"], [\"2006-03-03\", 58, \"None\", 58, 73, 88, 135, 63, 52, \"None\"], [\"2006-03-04\", 77, \"None\", 47, 90, 96, 156, 49, 51, \"None\"], [\"2006-03-05\", 87, \"None\", 64, 57, 97, 157, 60, 52, \"None\"], [\"2006-03-06\", 95, \"None\", 56, 78, 109, 127, 48, 52, \"None\"], [\"2006-03-07\", 92, \"None\", 65, 71, 107, 128, 54, 54, \"None\"], [\"2006-03-08\", 96, \"None\", 57, 115, 117, 147, 52, 54, \"None\"], [\"2006-03-09\", 77, \"None\", 75, 101, 118, 156, 59, 56, \"None\"], [\"2006-03-10\", 84, \"None\", 62, 119, 128, 137, 63, 61, \"None\"], [\"2006-03-11\", 122, \"None\", 56, 106, 126, 145, 74, 62, \"None\"], [\"2006-03-12\", 117, \"None\", 74, 88, 130, 120, 80, 68, \"None\"], [\"2006-03-13\", 128, \"None\", 66, 107, 137, 111, 58, 69, \"None\"], [\"2006-03-14\", 110, \"None\", 83, 107, 140, 123, 62, 75, \"None\"], [\"2006-03-15\", 144, \"None\", 81, 124, 139, 98, 69, 78, \"None\"], [\"2006-03-16\", 147, \"None\", 103, 143, 146, 124, 79, 84, \"None\"], [\"2006-03-17\", 151, \"None\", 108, 157, 151, 105, 96, 88, \"None\"], [\"2006-03-18\", 125, \"None\", 100, 116, 142, 109, 98, 92, \"None\"], [\"2006-03-19\", 122, \"None\", 88, 118, 150, 77, 103, 98, \"None\"], [\"2006-03-20\", 148, \"None\", 110, 137, 146, 94, 108, 103, \"None\"], [\"2006-03-21\", 126, \"None\", 110, 161, 150, 103, 111, 108, \"None\"], [\"2006-03-22\", 127, \"None\", 123, 134, 146, 62, 118, 111, \"None\"], [\"2006-03-23\", 130, \"None\", 122, 135, 152, 63, 123, 117, \"None\"], [\"2006-03-24\", 142, \"None\", 118, 171, 145, 54, 118, 120, \"None\"], [\"2006-03-25\", 143, \"None\", 142, 146, 149, 69, 135, 125, \"None\"], [\"2006-03-26\", 168, \"None\", 124, 161, 144, 57, 143, 131, \"None\"], [\"2006-03-27\", 164, \"None\", 125, 165, 135, 73, 144, 133, \"None\"], [\"2006-03-28\", 127, \"None\", 144, 149, 133, 46, 126, 137, \"None\"], [\"2006-03-29\", 129, \"None\", 144, 160, 125, 62, 147, 141, \"None\"], [\"2006-03-30\", 129, \"None\", 136, 164, 132, 43, 143, 144, \"None\"], [\"2006-03-31\", 128, \"None\", 132, 155, 122, 63, 151, 146, \"None\"], [\"2006-04-01\", 131, \"None\", 161, 123, 112, 53, 153, 146, \"None\"], [\"2006-04-02\", 126, \"None\", 164, 152, 117, 38, 149, 149, \"None\"], [\"2006-04-03\", 138, \"None\", 154, 109, 108, 69, 139, 148, \"None\"], [\"2006-04-04\", 123, \"None\", 149, 115, 103, 53, 143, 149, \"None\"], [\"2006-04-05\", 117, \"None\", 150, 133, 99, 36, 158, 150, \"None\"], [\"2006-04-06\", 105, \"None\", 158, 123, 94, 68, 136, 150, \"None\"]];\n",
       "\n",
       "    // Define the dt_args\n",
       "    let dt_args = {\"order\": []};\n",
       "    dt_args[\"data\"] = data;\n",
       "\n",
       "    $(document).ready(function () {\n",
       "        \n",
       "        $('#cef2969b-27a5-4e03-8066-bc469b4bf970').DataTable(dt_args);\n",
       "    });\n",
       "</script>\n",
       "</div>\n",
       "\n",
       "            </div>"
      ],
      "text/markdown": [
       "```python\n",
       "Asset: bikes\n",
       "Pointer Id: 67c6d84c878348d6a299b2502a195bd1\n",
       "Description: None\n",
       "Total Data Subjects: 0\n",
       "Shape: (310, 9)\n",
       "Contributors: 0\n",
       "\n",
       "```"
      ],
      "text/plain": [
       "syft.service.dataset.dataset.Asset"
      ]
     },
     "execution_count": 14,
     "metadata": {},
     "output_type": "execute_result"
    }
   ],
   "source": [
    "asset"
   ]
  },
  {
   "cell_type": "code",
   "execution_count": 15,
   "id": "b93f1fd8",
   "metadata": {
    "execution": {
     "iopub.execute_input": "2023-06-29T09:49:41.115888Z",
     "iopub.status.busy": "2023-06-29T09:49:41.115383Z",
     "iopub.status.idle": "2023-06-29T09:49:41.148879Z",
     "shell.execute_reply": "2023-06-29T09:49:41.148103Z"
    },
    "tags": []
   },
   "outputs": [],
   "source": [
    "bikes = asset.mock"
   ]
  },
  {
   "cell_type": "markdown",
   "id": "d4d64865",
   "metadata": {},
   "source": [
    "### Adding a 'weekday' column to our dataframe"
   ]
  },
  {
   "cell_type": "markdown",
   "id": "ba44870a",
   "metadata": {},
   "source": [
    "First, we need to load up the data. We've done this before."
   ]
  },
  {
   "cell_type": "code",
   "execution_count": 16,
   "id": "79184e86",
   "metadata": {
    "execution": {
     "iopub.execute_input": "2023-06-29T09:49:41.152404Z",
     "iopub.status.busy": "2023-06-29T09:49:41.151913Z",
     "iopub.status.idle": "2023-06-29T09:49:41.506809Z",
     "shell.execute_reply": "2023-06-29T09:49:41.505891Z"
    },
    "tags": []
   },
   "outputs": [
    {
     "data": {
      "text/plain": [
       "<Axes: >"
      ]
     },
     "execution_count": 16,
     "metadata": {},
     "output_type": "execute_result"
    },
    {
     "data": {
      "image/png": "[encoded data removed]",
      "text/plain": [
       "<Figure size 640x480 with 1 Axes>"
      ]
     },
     "metadata": {},
     "output_type": "display_data"
    }
   ],
   "source": [
    "bikes['Berri 1'].plot()"
   ]
  },
  {
   "cell_type": "markdown",
   "id": "1ceae1fd",
   "metadata": {},
   "source": [
    "Next up, we're just going to look at the Berri bike path. Berri is a street in Montreal, with a pretty important bike path. I use it mostly on my way to the library now, but I used to take it to work sometimes when I worked in Old Montreal.\n",
    "\n",
    "So we're going to create a dataframe with just the Berri bikepath in it"
   ]
  },
  {
   "cell_type": "code",
   "execution_count": 17,
   "id": "36dd344e",
   "metadata": {
    "execution": {
     "iopub.execute_input": "2023-06-29T09:49:41.510525Z",
     "iopub.status.busy": "2023-06-29T09:49:41.509695Z",
     "iopub.status.idle": "2023-06-29T09:49:41.515835Z",
     "shell.execute_reply": "2023-06-29T09:49:41.515015Z"
    },
    "tags": []
   },
   "outputs": [],
   "source": [
    "berri_bikes = bikes[['Berri 1']].copy()"
   ]
  },
  {
   "cell_type": "code",
   "execution_count": 18,
   "id": "c95258aa",
   "metadata": {
    "execution": {
     "iopub.execute_input": "2023-06-29T09:49:41.518783Z",
     "iopub.status.busy": "2023-06-29T09:49:41.518215Z",
     "iopub.status.idle": "2023-06-29T09:49:41.526030Z",
     "shell.execute_reply": "2023-06-29T09:49:41.525317Z"
    },
    "tags": []
   },
   "outputs": [
    {
     "data": {
      "text/html": [
       "<div>\n",
       "<style scoped>\n",
       "    .dataframe tbody tr th:only-of-type {\n",
       "        vertical-align: middle;\n",
       "    }\n",
       "\n",
       "    .dataframe tbody tr th {\n",
       "        vertical-align: top;\n",
       "    }\n",
       "\n",
       "    .dataframe thead th {\n",
       "        text-align: right;\n",
       "    }\n",
       "</style>\n",
       "<table border=\"1\" class=\"dataframe\">\n",
       "  <thead>\n",
       "    <tr style=\"text-align: right;\">\n",
       "      <th></th>\n",
       "      <th>Berri 1</th>\n",
       "    </tr>\n",
       "  </thead>\n",
       "  <tbody>\n",
       "    <tr>\n",
       "      <th>2005-06-01</th>\n",
       "      <td>82</td>\n",
       "    </tr>\n",
       "    <tr>\n",
       "      <th>2005-06-02</th>\n",
       "      <td>72</td>\n",
       "    </tr>\n",
       "    <tr>\n",
       "      <th>2005-06-03</th>\n",
       "      <td>91</td>\n",
       "    </tr>\n",
       "    <tr>\n",
       "      <th>2005-06-04</th>\n",
       "      <td>81</td>\n",
       "    </tr>\n",
       "    <tr>\n",
       "      <th>2005-06-05</th>\n",
       "      <td>65</td>\n",
       "    </tr>\n",
       "  </tbody>\n",
       "</table>\n",
       "</div>"
      ],
      "text/plain": [
       "            Berri 1\n",
       "2005-06-01       82\n",
       "2005-06-02       72\n",
       "2005-06-03       91\n",
       "2005-06-04       81\n",
       "2005-06-05       65"
      ]
     },
     "execution_count": 18,
     "metadata": {},
     "output_type": "execute_result"
    }
   ],
   "source": [
    "berri_bikes[:5]"
   ]
  },
  {
   "cell_type": "markdown",
   "id": "7211e961",
   "metadata": {},
   "source": [
    "Next, we need to add a 'weekday' column. Firstly, we can get the weekday from the index. We haven't talked about indexes yet, but the index is what's on the left on the above dataframe, under 'Date'. It's basically all the days of the year."
   ]
  },
  {
   "cell_type": "code",
   "execution_count": 19,
   "id": "6c671d13",
   "metadata": {
    "execution": {
     "iopub.execute_input": "2023-06-29T09:49:41.529319Z",
     "iopub.status.busy": "2023-06-29T09:49:41.528784Z",
     "iopub.status.idle": "2023-06-29T09:49:41.536546Z",
     "shell.execute_reply": "2023-06-29T09:49:41.535758Z"
    },
    "tags": []
   },
   "outputs": [
    {
     "data": {
      "text/plain": [
       "DatetimeIndex(['2005-06-01', '2005-06-02', '2005-06-03', '2005-06-04',\n",
       "               '2005-06-05', '2005-06-06', '2005-06-07', '2005-06-08',\n",
       "               '2005-06-09', '2005-06-10',\n",
       "               ...\n",
       "               '2006-03-28', '2006-03-29', '2006-03-30', '2006-03-31',\n",
       "               '2006-04-01', '2006-04-02', '2006-04-03', '2006-04-04',\n",
       "               '2006-04-05', '2006-04-06'],\n",
       "              dtype='datetime64[ns]', length=310, freq=None)"
      ]
     },
     "execution_count": 19,
     "metadata": {},
     "output_type": "execute_result"
    }
   ],
   "source": [
    "berri_bikes.index"
   ]
  },
  {
   "cell_type": "markdown",
   "id": "63930b48",
   "metadata": {},
   "source": [
    "You can see that actually some of the days are missing -- only 310 days of the year are actually there. Who knows why.\n",
    "\n",
    "Pandas has a bunch of really great time series functionality, so if we wanted to get the day of the month for each row, we could do it like this:"
   ]
  },
  {
   "cell_type": "code",
   "execution_count": 20,
   "id": "7126fac0",
   "metadata": {
    "execution": {
     "iopub.execute_input": "2023-06-29T09:49:41.539473Z",
     "iopub.status.busy": "2023-06-29T09:49:41.539105Z",
     "iopub.status.idle": "2023-06-29T09:49:41.546648Z",
     "shell.execute_reply": "2023-06-29T09:49:41.545874Z"
    },
    "tags": []
   },
   "outputs": [
    {
     "data": {
      "text/plain": [
       "Int64Index([ 1,  2,  3,  4,  5,  6,  7,  8,  9, 10,\n",
       "            ...\n",
       "            28, 29, 30, 31,  1,  2,  3,  4,  5,  6],\n",
       "           dtype='int64', length=310)"
      ]
     },
     "execution_count": 20,
     "metadata": {},
     "output_type": "execute_result"
    }
   ],
   "source": [
    "berri_bikes.index.day"
   ]
  },
  {
   "cell_type": "markdown",
   "id": "f9343041",
   "metadata": {},
   "source": [
    "We actually want the weekday, though:"
   ]
  },
  {
   "cell_type": "code",
   "execution_count": 21,
   "id": "ad5b4b69",
   "metadata": {
    "execution": {
     "iopub.execute_input": "2023-06-29T09:49:41.549648Z",
     "iopub.status.busy": "2023-06-29T09:49:41.549203Z",
     "iopub.status.idle": "2023-06-29T09:49:41.554590Z",
     "shell.execute_reply": "2023-06-29T09:49:41.553920Z"
    },
    "tags": []
   },
   "outputs": [
    {
     "data": {
      "text/plain": [
       "Int64Index([2, 3, 4, 5, 6, 0, 1, 2, 3, 4,\n",
       "            ...\n",
       "            1, 2, 3, 4, 5, 6, 0, 1, 2, 3],\n",
       "           dtype='int64', length=310)"
      ]
     },
     "execution_count": 21,
     "metadata": {},
     "output_type": "execute_result"
    }
   ],
   "source": [
    "berri_bikes.index.weekday"
   ]
  },
  {
   "cell_type": "markdown",
   "id": "b9c89623",
   "metadata": {},
   "source": [
    "These are the days of the week, where 0 is Monday. I found out that 0 was Monday by checking on a calendar.\n",
    "\n",
    "Now that we know how to get the weekday, we can add it as a column in our dataframe like this:"
   ]
  },
  {
   "cell_type": "code",
   "execution_count": 22,
   "id": "71c76eb1",
   "metadata": {
    "execution": {
     "iopub.execute_input": "2023-06-29T09:49:41.557146Z",
     "iopub.status.busy": "2023-06-29T09:49:41.556913Z",
     "iopub.status.idle": "2023-06-29T09:49:41.566703Z",
     "shell.execute_reply": "2023-06-29T09:49:41.566024Z"
    },
    "tags": []
   },
   "outputs": [
    {
     "data": {
      "text/html": [
       "<div>\n",
       "<style scoped>\n",
       "    .dataframe tbody tr th:only-of-type {\n",
       "        vertical-align: middle;\n",
       "    }\n",
       "\n",
       "    .dataframe tbody tr th {\n",
       "        vertical-align: top;\n",
       "    }\n",
       "\n",
       "    .dataframe thead th {\n",
       "        text-align: right;\n",
       "    }\n",
       "</style>\n",
       "<table border=\"1\" class=\"dataframe\">\n",
       "  <thead>\n",
       "    <tr style=\"text-align: right;\">\n",
       "      <th></th>\n",
       "      <th>Berri 1</th>\n",
       "      <th>weekday</th>\n",
       "    </tr>\n",
       "  </thead>\n",
       "  <tbody>\n",
       "    <tr>\n",
       "      <th>2005-06-01</th>\n",
       "      <td>82</td>\n",
       "      <td>2</td>\n",
       "    </tr>\n",
       "    <tr>\n",
       "      <th>2005-06-02</th>\n",
       "      <td>72</td>\n",
       "      <td>3</td>\n",
       "    </tr>\n",
       "    <tr>\n",
       "      <th>2005-06-03</th>\n",
       "      <td>91</td>\n",
       "      <td>4</td>\n",
       "    </tr>\n",
       "    <tr>\n",
       "      <th>2005-06-04</th>\n",
       "      <td>81</td>\n",
       "      <td>5</td>\n",
       "    </tr>\n",
       "    <tr>\n",
       "      <th>2005-06-05</th>\n",
       "      <td>65</td>\n",
       "      <td>6</td>\n",
       "    </tr>\n",
       "  </tbody>\n",
       "</table>\n",
       "</div>"
      ],
      "text/plain": [
       "            Berri 1  weekday\n",
       "2005-06-01       82        2\n",
       "2005-06-02       72        3\n",
       "2005-06-03       91        4\n",
       "2005-06-04       81        5\n",
       "2005-06-05       65        6"
      ]
     },
     "execution_count": 22,
     "metadata": {},
     "output_type": "execute_result"
    }
   ],
   "source": [
    "berri_bikes.loc[:,'weekday'] = berri_bikes.index.weekday\n",
    "berri_bikes[:5]"
   ]
  },
  {
   "cell_type": "markdown",
   "id": "96cea4f6",
   "metadata": {},
   "source": [
    "### Adding up the cyclists by weekday"
   ]
  },
  {
   "cell_type": "markdown",
   "id": "c0863c13",
   "metadata": {},
   "source": [
    "This turns out to be really easy!\n",
    "\n",
    "Dataframes have a `.groupby()` method that is similar to SQL groupby, if you're familiar with that. I'm not going to explain more about it right now -- if you want to to know more, the [documentation](https://pandas.pydata.org/pandas-docs/stable/user_guide/groupby.html) is really good.\n",
    "\n",
    "In this case, `berri_bikes.groupby('weekday').aggregate(sum)` means \"Group the rows by weekday and then add up all the values with the same weekday\"."
   ]
  },
  {
   "cell_type": "code",
   "execution_count": 23,
   "id": "ec48bb81",
   "metadata": {
    "execution": {
     "iopub.execute_input": "2023-06-29T09:49:41.569666Z",
     "iopub.status.busy": "2023-06-29T09:49:41.569117Z",
     "iopub.status.idle": "2023-06-29T09:49:41.578909Z",
     "shell.execute_reply": "2023-06-29T09:49:41.578215Z"
    },
    "tags": []
   },
   "outputs": [
    {
     "data": {
      "text/html": [
       "<div>\n",
       "<style scoped>\n",
       "    .dataframe tbody tr th:only-of-type {\n",
       "        vertical-align: middle;\n",
       "    }\n",
       "\n",
       "    .dataframe tbody tr th {\n",
       "        vertical-align: top;\n",
       "    }\n",
       "\n",
       "    .dataframe thead th {\n",
       "        text-align: right;\n",
       "    }\n",
       "</style>\n",
       "<table border=\"1\" class=\"dataframe\">\n",
       "  <thead>\n",
       "    <tr style=\"text-align: right;\">\n",
       "      <th></th>\n",
       "      <th>Berri 1</th>\n",
       "    </tr>\n",
       "    <tr>\n",
       "      <th>weekday</th>\n",
       "      <th></th>\n",
       "    </tr>\n",
       "  </thead>\n",
       "  <tbody>\n",
       "    <tr>\n",
       "      <th>0</th>\n",
       "      <td>4531</td>\n",
       "    </tr>\n",
       "    <tr>\n",
       "      <th>1</th>\n",
       "      <td>4509</td>\n",
       "    </tr>\n",
       "    <tr>\n",
       "      <th>2</th>\n",
       "      <td>4616</td>\n",
       "    </tr>\n",
       "    <tr>\n",
       "      <th>3</th>\n",
       "      <td>4245</td>\n",
       "    </tr>\n",
       "    <tr>\n",
       "      <th>4</th>\n",
       "      <td>4402</td>\n",
       "    </tr>\n",
       "    <tr>\n",
       "      <th>5</th>\n",
       "      <td>4351</td>\n",
       "    </tr>\n",
       "    <tr>\n",
       "      <th>6</th>\n",
       "      <td>4349</td>\n",
       "    </tr>\n",
       "  </tbody>\n",
       "</table>\n",
       "</div>"
      ],
      "text/plain": [
       "         Berri 1\n",
       "weekday         \n",
       "0           4531\n",
       "1           4509\n",
       "2           4616\n",
       "3           4245\n",
       "4           4402\n",
       "5           4351\n",
       "6           4349"
      ]
     },
     "execution_count": 23,
     "metadata": {},
     "output_type": "execute_result"
    }
   ],
   "source": [
    "weekday_counts = berri_bikes.groupby('weekday').aggregate(sum)\n",
    "weekday_counts"
   ]
  },
  {
   "cell_type": "markdown",
   "id": "ed8218fd",
   "metadata": {},
   "source": [
    "It's hard to remember what 0, 1, 2, 3, 4, 5, 6 mean, so we can fix it up and graph it:"
   ]
  },
  {
   "cell_type": "code",
   "execution_count": 24,
   "id": "9a1e5e78",
   "metadata": {
    "execution": {
     "iopub.execute_input": "2023-06-29T09:49:41.582090Z",
     "iopub.status.busy": "2023-06-29T09:49:41.581669Z",
     "iopub.status.idle": "2023-06-29T09:49:41.585507Z",
     "shell.execute_reply": "2023-06-29T09:49:41.584790Z"
    },
    "tags": []
   },
   "outputs": [],
   "source": [
    "# weekday_counts.index = ['Monday', 'Tuesday', 'Wednesday', 'Thursday', 'Friday', 'Saturday', 'Sunday']\n",
    "# weekday_counts"
   ]
  },
  {
   "cell_type": "code",
   "execution_count": 25,
   "id": "3b9b2bdf",
   "metadata": {
    "execution": {
     "iopub.execute_input": "2023-06-29T09:49:41.588457Z",
     "iopub.status.busy": "2023-06-29T09:49:41.587940Z",
     "iopub.status.idle": "2023-06-29T09:49:41.759718Z",
     "shell.execute_reply": "2023-06-29T09:49:41.759006Z"
    },
    "tags": []
   },
   "outputs": [
    {
     "data": {
      "text/plain": [
       "<Axes: xlabel='weekday'>"
      ]
     },
     "execution_count": 25,
     "metadata": {},
     "output_type": "execute_result"
    },
    {
     "data": {
      "image/png": "[encoded data removed]",
      "text/plain": [
       "<Figure size 640x480 with 1 Axes>"
      ]
     },
     "metadata": {},
     "output_type": "display_data"
    }
   ],
   "source": [
    "weekday_counts.plot(kind='bar')"
   ]
  },
  {
   "cell_type": "markdown",
   "id": "15c4becc",
   "metadata": {},
   "source": [
    "So it looks like Montrealers are commuter cyclists -- they bike much more during the week. Neat!"
   ]
  },
  {
   "cell_type": "markdown",
   "id": "3ad300a3",
   "metadata": {},
   "source": [
    "### Putting it together"
   ]
  },
  {
   "cell_type": "markdown",
   "id": "bdc4b7c7",
   "metadata": {},
   "source": [
    "Now we want to request the full code execution.\n",
    "\n",
    "Let's put all that together, to prove how easy it is. 6 lines of magical pandas!\n",
    "\n",
    "If you want to play around, try changing sum to max, numpy.median, or any other function you like."
   ]
  },
  {
   "cell_type": "code",
   "execution_count": 26,
   "id": "6c381caf",
   "metadata": {
    "execution": {
     "iopub.execute_input": "2023-06-29T09:49:41.762747Z",
     "iopub.status.busy": "2023-06-29T09:49:41.762487Z",
     "iopub.status.idle": "2023-06-29T09:49:41.766263Z",
     "shell.execute_reply": "2023-06-29T09:49:41.765549Z"
    },
    "tags": []
   },
   "outputs": [],
   "source": [
    "# Todo, fix indexes in function"
   ]
  },
  {
   "cell_type": "code",
   "execution_count": 27,
   "id": "ac206e34",
   "metadata": {
    "execution": {
     "iopub.execute_input": "2023-06-29T09:49:41.769018Z",
     "iopub.status.busy": "2023-06-29T09:49:41.768774Z",
     "iopub.status.idle": "2023-06-29T09:49:41.818981Z",
     "shell.execute_reply": "2023-06-29T09:49:41.818132Z"
    },
    "tags": []
   },
   "outputs": [
    {
     "name": "stdout",
     "output_type": "stream",
     "text": [
      "Syft function 'get_bike_hist' successfully created. To add a code request, please create a project using `project = syft.Project(...)`, then use command `project.create_code_request`.\n"
     ]
    }
   ],
   "source": [
    "@sy.syft_function(input_policy=sy.ExactMatch(bikes=asset.pointer),\n",
    "                  output_policy=sy.SingleExecutionExactOutput())\n",
    "def get_bike_hist(bikes):\n",
    "    berri_bikes = bikes[['Berri 1']].copy()\n",
    "    berri_bikes.loc[:,'weekday'] = berri_bikes.index.weekday\n",
    "    weekday_counts = berri_bikes.groupby('weekday').aggregate(sum)\n",
    "    return weekday_counts"
   ]
  },
  {
   "cell_type": "markdown",
   "id": "e17c5a93",
   "metadata": {},
   "source": [
    "Create and submit project"
   ]
  },
  {
   "cell_type": "code",
   "execution_count": 28,
   "id": "175f956c-66d4-4337-8476-f4bf3a925b84",
   "metadata": {
    "execution": {
     "iopub.execute_input": "2023-06-29T09:49:41.822389Z",
     "iopub.status.busy": "2023-06-29T09:49:41.821919Z",
     "iopub.status.idle": "2023-06-29T09:49:41.830851Z",
     "shell.execute_reply": "2023-06-29T09:49:41.830214Z"
    },
    "tags": []
   },
   "outputs": [
    {
     "data": {
      "text/html": [
       "\n",
       "            <style>\n",
       "            .syft-project-create {color: #464158;}\n",
       "            </style>\n",
       "            <div class='syft-project-create'><h3>Pandas Chapter 4</h3><p>Hi, I would like to plot histogram of bikers per weekday</p><p><strong>Created by: </strong>jane@caltech.edu</p></div>"
      ],
      "text/markdown": [
       "```python\n",
       "class ProjectSubmit:\n",
       "  id: str = f165407cd39c43868d93dfed3e2ec566\n",
       "  name: str = \"Pandas Chapter 4\"\n",
       "  description: str = \"Hi, I would like to plot histogram of bikers per weekday\"\n",
       "  created_by: str = \"jane@caltech.edu\"\n",
       "\n",
       "```"
      ],
      "text/plain": [
       "syft.service.project.project.ProjectSubmit"
      ]
     },
     "execution_count": 28,
     "metadata": {},
     "output_type": "execute_result"
    }
   ],
   "source": [
    "new_project = sy.Project(\n",
    "    name=\"Pandas Chapter 4\",\n",
    "    description=\"Hi, I would like to plot histogram of bikers per weekday\",\n",
    "    members=[guest_domain_client],\n",
    ")\n",
    "new_project"
   ]
  },
  {
   "cell_type": "code",
   "execution_count": 29,
   "id": "e042c932-1f7e-4009-8bd4-f9691b8d4e3c",
   "metadata": {
    "execution": {
     "iopub.execute_input": "2023-06-29T09:49:41.833868Z",
     "iopub.status.busy": "2023-06-29T09:49:41.833512Z",
     "iopub.status.idle": "2023-06-29T09:49:43.063334Z",
     "shell.execute_reply": "2023-06-29T09:49:43.062581Z"
    },
    "tags": []
   },
   "outputs": [
    {
     "data": {
      "text/html": [
       "\n",
       "            <style>\n",
       "            .syft-project {color: #464158;}\n",
       "            </style>\n",
       "            <div class='syft-project'><h3>Pandas Chapter 4</h3><p>Hi, I would like to plot histogram of bikers per weekday</p><p><strong>Created by: </strong>jane@caltech.edu</p>[]<p>To see a list of projects, use command `&lt;your_client&gt;.projects`</p></div>"
      ],
      "text/markdown": [
       "```python\n",
       "class Project:\n",
       "  id: str = f165407cd39c43868d93dfed3e2ec566\n",
       "  name: str = \"Pandas Chapter 4\"\n",
       "  description: str = \"Hi, I would like to plot histogram of bikers per weekday\"\n",
       "  created_by: str = \"jane@caltech.edu\"\n",
       "\n",
       "```"
      ],
      "text/plain": [
       "syft.service.project.project.Project"
      ]
     },
     "execution_count": 29,
     "metadata": {},
     "output_type": "execute_result"
    }
   ],
   "source": [
    "project = new_project.start()\n",
    "assert isinstance(project, sy.service.project.project.Project)\n",
    "project"
   ]
  },
  {
   "cell_type": "code",
   "execution_count": 30,
   "id": "bb916743-3c51-4e40-91e5-9805c63a3fef",
   "metadata": {
    "execution": {
     "iopub.execute_input": "2023-06-29T09:49:43.067038Z",
     "iopub.status.busy": "2023-06-29T09:49:43.066555Z",
     "iopub.status.idle": "2023-06-29T09:49:44.333492Z",
     "shell.execute_reply": "2023-06-29T09:49:44.332660Z"
    },
    "tags": []
   },
   "outputs": [
    {
     "data": {
      "text/html": [
       "<div class=\"alert-success\" style=\"padding:5px;\"><strong>SyftSuccess</strong>: Code request for 'get_bike_hist' successfully added to 'Pandas Chapter 4' Project. To see code requests by a client, run `[your_client].code`</div><br />"
      ],
      "text/plain": [
       "<class 'syft.service.response.SyftSuccess'>: Code request for 'get_bike_hist' successfully added to 'Pandas Chapter 4' Project. To see code requests by a client, run `[your_client].code`"
      ]
     },
     "execution_count": 30,
     "metadata": {},
     "output_type": "execute_result"
    }
   ],
   "source": [
    "project.create_code_request(get_bike_hist, guest_domain_client)"
   ]
  },
  {
   "cell_type": "code",
   "execution_count": 31,
   "id": "51e7b96b-d28d-4fd3-8d64-30b2ca713609",
   "metadata": {
    "execution": {
     "iopub.execute_input": "2023-06-29T09:49:44.336831Z",
     "iopub.status.busy": "2023-06-29T09:49:44.336366Z",
     "iopub.status.idle": "2023-06-29T09:49:44.357944Z",
     "shell.execute_reply": "2023-06-29T09:49:44.357048Z"
    },
    "tags": []
   },
   "outputs": [],
   "source": [
    "assert len(guest_domain_client.code.get_all())==1"
   ]
  },
  {
   "cell_type": "code",
   "execution_count": 32,
   "id": "32d7f927-9416-48d4-9716-2f89bb604925",
   "metadata": {
    "execution": {
     "iopub.execute_input": "2023-06-29T09:49:44.361761Z",
     "iopub.status.busy": "2023-06-29T09:49:44.361405Z",
     "iopub.status.idle": "2023-06-29T09:49:44.366796Z",
     "shell.execute_reply": "2023-06-29T09:49:44.365992Z"
    },
    "tags": []
   },
   "outputs": [],
   "source": [
    "assert len(project.events) == 1"
   ]
  },
  {
   "cell_type": "code",
   "execution_count": 33,
   "id": "7c689853-1ded-4060-8749-834e48668c60",
   "metadata": {
    "execution": {
     "iopub.execute_input": "2023-06-29T09:49:44.370940Z",
     "iopub.status.busy": "2023-06-29T09:49:44.369714Z",
     "iopub.status.idle": "2023-06-29T09:49:44.375512Z",
     "shell.execute_reply": "2023-06-29T09:49:44.374715Z"
    },
    "tags": []
   },
   "outputs": [],
   "source": [
    "assert isinstance(project.events[0], sy.service.project.project.ProjectRequest)"
   ]
  },
  {
   "cell_type": "markdown",
   "id": "fa72779d",
   "metadata": {},
   "source": [
    "# Data owner: execute syft_function"
   ]
  },
  {
   "cell_type": "code",
   "execution_count": 34,
   "id": "16908022",
   "metadata": {
    "execution": {
     "iopub.execute_input": "2023-06-29T09:49:44.378782Z",
     "iopub.status.busy": "2023-06-29T09:49:44.378431Z",
     "iopub.status.idle": "2023-06-29T09:49:44.383235Z",
     "shell.execute_reply": "2023-06-29T09:49:44.382424Z"
    },
    "tags": []
   },
   "outputs": [],
   "source": [
    "from syft import MessageStatus"
   ]
  },
  {
   "cell_type": "code",
   "execution_count": 35,
   "id": "d6ace28f",
   "metadata": {
    "execution": {
     "iopub.execute_input": "2023-06-29T09:49:44.386361Z",
     "iopub.status.busy": "2023-06-29T09:49:44.385991Z",
     "iopub.status.idle": "2023-06-29T09:49:45.939077Z",
     "shell.execute_reply": "2023-06-29T09:49:45.938164Z"
    },
    "tags": []
   },
   "outputs": [
    {
     "name": "stdout",
     "output_type": "stream",
     "text": [
      "Logged into pandas-test-domain-4 as <info@openmined.org>\n"
     ]
    }
   ],
   "source": [
    "root_domain_client = node.login(email=\"info@openmined.org\", password=\"changethis\")"
   ]
  },
  {
   "cell_type": "markdown",
   "id": "5f4bded4",
   "metadata": {},
   "source": [
    "## Get messages"
   ]
  },
  {
   "cell_type": "code",
   "execution_count": 36,
   "id": "6ebec184",
   "metadata": {
    "execution": {
     "iopub.execute_input": "2023-06-29T09:49:45.944288Z",
     "iopub.status.busy": "2023-06-29T09:49:45.942786Z",
     "iopub.status.idle": "2023-06-29T09:49:45.980424Z",
     "shell.execute_reply": "2023-06-29T09:49:45.979689Z"
    },
    "tags": []
   },
   "outputs": [],
   "source": [
    "messages = root_domain_client.api.services.messages.get_all_unread()"
   ]
  },
  {
   "cell_type": "code",
   "execution_count": 37,
   "id": "34a83d8f",
   "metadata": {
    "execution": {
     "iopub.execute_input": "2023-06-29T09:49:45.985056Z",
     "iopub.status.busy": "2023-06-29T09:49:45.983736Z",
     "iopub.status.idle": "2023-06-29T09:49:45.994494Z",
     "shell.execute_reply": "2023-06-29T09:49:45.993846Z"
    },
    "tags": []
   },
   "outputs": [
    {
     "data": {
      "text/html": [
       "\n",
       "<style>\n",
       "  .header-1 {\n",
       "        font-style: normal;\n",
       "        font-weight: 600;\n",
       "        font-size: 2.0736em;\n",
       "        line-height: 100%;\n",
       "        leading-trim: both;\n",
       "        text-edge: cap;\n",
       "        color: #17161D;\n",
       "    }\n",
       "\n",
       "  .header-2 {\n",
       "        font-style: normal;\n",
       "        font-weight: 600;\n",
       "        font-size: 1.728em;\n",
       "        line-height: 100%;\n",
       "        leading-trim: both;\n",
       "        text-edge: cap;\n",
       "        color: #17161D;\n",
       "    }\n",
       "\n",
       "  .header-3 {\n",
       "        font-style: normal;\n",
       "        font-weight: 600;\n",
       "        font-size:  1.44em;\n",
       "        line-height: 100%;\n",
       "        leading-trim: both;\n",
       "        text-edge: cap;\n",
       "        color: #17161D;\n",
       "    }\n",
       "\n",
       "  .header-4 {\n",
       "        font-style: normal;\n",
       "        font-weight: 600;\n",
       "        font-size: 1.2em;\n",
       "        line-height: 100%;\n",
       "        leading-trim: both;\n",
       "        text-edge: cap;\n",
       "        color: #17161D;\n",
       "    }\n",
       "\n",
       "    .paragraph {\n",
       "        font-style: normal;\n",
       "        font-weight: 400;\n",
       "        font-size: 14px;\n",
       "        line-height: 100%;\n",
       "        leading-trim: both;\n",
       "        text-edge: cap;\n",
       "        color: #2E2B3B;\n",
       "    }\n",
       "\n",
       "    .paragraph-sm {\n",
       "        font-family: 'Roboto';\n",
       "        font-style: normal;\n",
       "        font-weight: 400;\n",
       "        font-size: 11.62px;\n",
       "        line-height: 100%;\n",
       "        leading-trim: both;\n",
       "        text-edge: cap;\n",
       "        color: #2E2B3B;\n",
       "    }\n",
       "    .code-text {\n",
       "        font-family: 'Consolas';\n",
       "        font-style: normal;\n",
       "        font-weight: 400;\n",
       "        font-size: 13px;\n",
       "        line-height: 130%;\n",
       "        leading-trim: both;\n",
       "        text-edge: cap;\n",
       "        color: #2E2B3B;\n",
       "    }\n",
       "\n",
       "    .numbering-entry { display: none }\n",
       "\n",
       "    /* Tooltip container */\n",
       "    .tooltip {\n",
       "        position: relative;\n",
       "        display: inline-block;\n",
       "        border-bottom: 1px dotted black; /* If you want dots under the hoverable text */\n",
       "    }\n",
       "\n",
       "    /* Tooltip text */\n",
       "    .tooltip .tooltiptext {\n",
       "        visibility: hidden;\n",
       "        width: 120px;\n",
       "        background-color: black;\n",
       "        color: #fff;\n",
       "        text-align: center;\n",
       "        padding: 5px 0;\n",
       "        border-radius: 6px;\n",
       "\n",
       "        /* Position the tooltip text - see examples below! */\n",
       "        position: absolute;\n",
       "        z-index: 1;\n",
       "    }\n",
       "\n",
       "    .repr-cell {\n",
       "      padding-top: 20px;\n",
       "    }\n",
       "\n",
       "    .text-bold {\n",
       "        font-weight: bold;\n",
       "    }\n",
       "\n",
       "    .pr-8 {\n",
       "        padding-right: 8px;\n",
       "    }\n",
       "    .pt-8 {\n",
       "        padding-top: 8px;\n",
       "    }\n",
       "    .pl-8 {\n",
       "        padding-left: 8px;\n",
       "    }\n",
       "    .pb-8 {\n",
       "        padding-bottom: 8px;\n",
       "    }\n",
       "\n",
       "    .py-25{\n",
       "        padding-top: 25px;\n",
       "        padding-bottom: 25px;\n",
       "    }\n",
       "\n",
       "    .flex {\n",
       "        display: flex;\n",
       "    }\n",
       "\n",
       "    .gap-10 {\n",
       "        gap: 10px;\n",
       "    }\n",
       "    .items-center{\n",
       "        align-items: center;\n",
       "    }\n",
       "\n",
       "    .search-input{\n",
       "        display: flex;\n",
       "        flex-direction: row;\n",
       "        align-items: center;\n",
       "        padding: 8px 12px;\n",
       "        width: 343px;\n",
       "        height: 24px;\n",
       "        /* Lt On Surface/Low */\n",
       "        background: #F1F0F4;\n",
       "        border-radius: 30px;\n",
       "\n",
       "        /* Lt On Surface/Highest */\n",
       "        color: #B4B0BF;\n",
       "        border:none;\n",
       "        /* Inside auto layout */\n",
       "        flex: none;\n",
       "        order: 0;\n",
       "        flex-grow: 0;\n",
       "    }\n",
       "    .search-input:focus {\n",
       "        outline: none;\n",
       "    }\n",
       "\n",
       "    .search-button{\n",
       "        /* Search */\n",
       "        leading-trim: both;\n",
       "        text-edge: cap;\n",
       "        display: flex;\n",
       "        align-items: center;\n",
       "        text-align: center;\n",
       "\n",
       "        /* Primary/On Light */\n",
       "        color: #464A91;\n",
       "\n",
       "        border-radius: 30px;\n",
       "        border-color: #464A91;\n",
       "        /* Inside auto layout */\n",
       "        flex: none;\n",
       "        order: 1;\n",
       "        flex-grow: 0;\n",
       "    }\n",
       "\n",
       "    .grid-table1e3489f9d2e74b32a44a20f24894e5c4 {\n",
       "        display:grid;\n",
       "        grid-template-columns: 1fr repeat(20, 1fr);\n",
       "        grid-template-rows: repeat(2, 1fr);\n",
       "        overflow-x: auto;\n",
       "    }\n",
       "\n",
       "    .grid-std-cells {\n",
       "        grid-column: span 4;\n",
       "\n",
       "    }\n",
       "    .grid-index-cells {\n",
       "        grid-column: span 1;\n",
       "        background: #ECEBEF;\n",
       "        /* tmp fix to make left col stand out (fix with font-family) */\n",
       "        font-weight: 600;\n",
       "    }\n",
       "\n",
       "    .grid-header {\n",
       "        /* Auto layout */\n",
       "        display: flex;\n",
       "        flex-direction: column;\n",
       "        align-items: flex-start;\n",
       "        padding: 6px 4px;\n",
       "\n",
       "        /* Lt On Surface/Surface */\n",
       "        background: #ECEBEF;\n",
       "        /* Lt On Surface/High */\n",
       "        border: 1px solid #CFCDD6;\n",
       "        color: #2E2B3B;\n",
       "        /* tmp fix to make header stand out (fix with font-family) */\n",
       "        font-weight: 600;\n",
       "    }\n",
       "\n",
       "    .grid-row {\n",
       "        color: #5E5A72;\n",
       "        display: flex;\n",
       "        flex-direction: column;\n",
       "        align-items: flex-start;\n",
       "        padding: 6px 4px;\n",
       "        overflow: hidden;\n",
       "        border: 1px solid #CFCDD6;\n",
       "    }\n",
       "\n",
       "    .badge {\n",
       "        code-text;\n",
       "        border-radius: 30px;\n",
       "    }\n",
       "\n",
       "    .badge-blue {\n",
       "        badge;\n",
       "        background-color: #C2DEF0;\n",
       "        color: #1F567A;\n",
       "    }\n",
       "\n",
       "    .badge-purple {\n",
       "        badge;\n",
       "        background-color: #C9CFE8;\n",
       "        color: #373B7B;\n",
       "    }\n",
       "\n",
       "    .badge-green {\n",
       "        badge;\n",
       "\n",
       "        /* Success/Container */\n",
       "        background-color: #D5F1D5;\n",
       "        color: #256B24;\n",
       "    }\n",
       "\n",
       "    .badge-red {\n",
       "        badge;\n",
       "        background-color: #F2D9DE;\n",
       "        color: #9B2737;\n",
       "    }\n",
       "\n",
       "    .badge-gray {\n",
       "        badge;\n",
       "        background-color: #ECEBEF;\n",
       "        color: #2E2B3B;\n",
       "    }\n",
       "    .paginationContainer{\n",
       "        width: 100%;\n",
       "        height: 30px;\n",
       "        display: flex;\n",
       "        justify-content: center;\n",
       "        gap: 8px;\n",
       "        padding: 5px;\n",
       "    }\n",
       "\n",
       "    .page{\n",
       "        color: black;\n",
       "        font-weight: bold;\n",
       "    }\n",
       "    .page:hover {\n",
       "      color: #38bdf8;\n",
       "      cursor: pointer;\n",
       "    }\n",
       "    .clipboard:hover{\n",
       "        cursor: pointer;\n",
       "    }\n",
       "\n",
       "    .search-field {\n",
       "        display: flex;\n",
       "        align-items: center;\n",
       "        background: #F1F0F4;\n",
       "        border-radius: 30px;\n",
       "    }\n",
       "\n",
       "    .syft-dropdown {\n",
       "        margin: 5px;\n",
       "        margin-left: 5px;\n",
       "        position: relative;\n",
       "        display: inline-block;\n",
       "        text-align: center;\n",
       "        background-color: #d1d5db;\n",
       "        min-width: 100px;\n",
       "        padding: 2px;\n",
       "        border-radius: 30px;\n",
       "    }\n",
       "\n",
       "    .syft-dropdown:hover {\n",
       "        cursor: pointer;\n",
       "    }\n",
       "    .syft-dropdown-content {\n",
       "        margin-top:26px;\n",
       "        display: none;\n",
       "        position: absolute;\n",
       "        background-color: #f9f9f9;\n",
       "        min-width: 100px;\n",
       "        box-shadow: 0px 8px 16px 0px rgba(0,0,0,0.2);\n",
       "        padding: 12px 6px;\n",
       "        z-index: 1;\n",
       "    }\n",
       "    .dd-options {\n",
       "        padding-top: 4px;\n",
       "    }\n",
       "    .dd-options:first-of-type {\n",
       "        padding-top: 0px;\n",
       "    }\n",
       "\n",
       "    .dd-options:hover {\n",
       "        cursor: pointer;\n",
       "        background: #d1d5db;\n",
       "    }\n",
       "    .arrow {\n",
       "        border: solid black;\n",
       "        border-width: 0 3px 3px 0;\n",
       "        display: inline-block;\n",
       "        padding: 3px;\n",
       "    }\n",
       "    .down {\n",
       "        transform: rotate(45deg);\n",
       "        -webkit-transform: rotate(45deg);\n",
       "    }\n",
       "</style>\n",
       "\n",
       "\n",
       "    <div style='margin-top:15px;'>\n",
       "        <div class='flex gap-10' style='align-items: center;'>\n",
       "            <div><svg width=\"32\" height=\"32\" viewBox=\"0 0 32 32\" fill=\"none\" xmlns=\"http://www.w3.org/2000/svg\"> <path d=\"M28 6H4C3.73478 6 3.48043 6.10536 3.29289 6.29289C3.10536 6.48043 3 6.73478 3 7V24C3 24.5304 3.21071 25.0391 3.58579 25.4142C3.96086 25.7893 4.46957 26 5 26H27C27.5304 26 28.0391 25.7893 28.4142 25.4142C28.7893 25.0391 29 24.5304 29 24V7C29 6.73478 28.8946 6.48043 28.7071 6.29289C28.5196 6.10536 28.2652 6 28 6ZM5 14H10V18H5V14ZM12 14H27V18H12V14ZM27 8V12H5V8H27ZM5 20H10V24H5V20ZM27 24H12V20H27V24Z\" fill=\"#343330\"/></svg></div>\n",
       "            <div><p class='header-3'>Message List</p></div>\n",
       "        </div>\n",
       "\n",
       "            <div style=\"padding-top: 16px; display:flex;justify-content: space-between; align-items: center;\">\n",
       "                <div class='pt-25 gap-10' style=\"display:flex;\">\n",
       "                    <div class=\"search-field\">\n",
       "                        <div id='search-menu1e3489f9d2e74b32a44a20f24894e5c4' class=\"syft-dropdown\" onclick=\"{\n",
       "                            let doc = document.getElementById('search-dropdown-content1e3489f9d2e74b32a44a20f24894e5c4')\n",
       "                            if (doc.style.display === 'block'){\n",
       "                                doc.style.display = 'none'\n",
       "                            } else {\n",
       "                                doc.style.display = 'block'\n",
       "                            }\n",
       "                            }\">\n",
       "                            <div id='search-dropdown-content1e3489f9d2e74b32a44a20f24894e5c4' class='syft-dropdown-content'></div>\n",
       "                            <script>\n",
       "                                var element1e3489f9d2e74b32a44a20f24894e5c4 = [{\"id\": {\"value\": \"2514f5a28496465d86b35de7d6c5523c\", \"type\": \"clipboard\"}, \"Subject\": \"Code Request for Project: Pandas Chapter 4 has been submitted by jane@caltech.edu\", \"Status\": \"Unread\", \"Created At\": \"2023-06-29 09:49:43\", \"Linked object\": \"Request (53571462fc6f4b23aa284ddd124c5efd)\"}, {\"id\": {\"value\": \"671586fc551f45eeadb9891673d19394\", \"type\": \"clipboard\"}, \"Subject\": \"A new request has been added to the Project: Pandas Chapter 4.\", \"Status\": \"Unread\", \"Created At\": \"2023-06-29 09:49:44\", \"Linked object\": \"Project (f165407cd39c43868d93dfed3e2ec566)\"}]\n",
       "                                var page_size1e3489f9d2e74b32a44a20f24894e5c4 = 2\n",
       "                                var pageIndex1e3489f9d2e74b32a44a20f24894e5c4 = 1\n",
       "                                var paginatedElements1e3489f9d2e74b32a44a20f24894e5c4 = []\n",
       "                                var activeFilter1e3489f9d2e74b32a44a20f24894e5c4;\n",
       "\n",
       "                                function buildDropDownMenu(elements){\n",
       "                                    let init_filter;\n",
       "                                    let menu = document.getElementById('search-dropdown-content1e3489f9d2e74b32a44a20f24894e5c4')\n",
       "                                    if (elements.length > 0) {\n",
       "                                        let sample = elements[0]\n",
       "                                        for (const attr in sample) {\n",
       "                                            if (typeof init_filter === 'undefined'){\n",
       "                                                init_filter = attr;\n",
       "                                            }\n",
       "                                            let content = document.createElement('div');\n",
       "                                            content.onclick = function(event) {\n",
       "                                                event.stopPropagation()\n",
       "                                                document.getElementById('menu-active-filter1e3489f9d2e74b32a44a20f24894e5c4').innerText = attr;\n",
       "                                                activeFilter1e3489f9d2e74b32a44a20f24894e5c4 = attr;\n",
       "                                                document.getElementById(\n",
       "                                                    'search-dropdown-content1e3489f9d2e74b32a44a20f24894e5c4'\n",
       "                                                ).style.display= 'none';\n",
       "                                            }\n",
       "                                            content.classList.add(\"dd-options\");\n",
       "                                            content.innerText = attr;\n",
       "                                            menu.appendChild(content);\n",
       "                                        }\n",
       "                                    } else {\n",
       "                                        let init_filter = '---'\n",
       "                                    }\n",
       "                                    let dropdown_field = document.getElementById('search-menu1e3489f9d2e74b32a44a20f24894e5c4')\n",
       "                                    let span = document.createElement('span')\n",
       "                                    span.setAttribute('id', 'menu-active-filter1e3489f9d2e74b32a44a20f24894e5c4')\n",
       "                                    span.innerText = init_filter\n",
       "                                    activeFilter1e3489f9d2e74b32a44a20f24894e5c4 = init_filter;\n",
       "                                    dropdown_field.appendChild(span)\n",
       "                                }\n",
       "\n",
       "                                buildDropDownMenu(element1e3489f9d2e74b32a44a20f24894e5c4)\n",
       "                            </script>\n",
       "                        </div>\n",
       "                        <input id='searchKey1e3489f9d2e74b32a44a20f24894e5c4' class='search-input' placeholder='Enter search here ...'  />\n",
       "                    </div>\n",
       "                    <button class='search-button'  onclick=\"searchGrid1e3489f9d2e74b32a44a20f24894e5c4(element1e3489f9d2e74b32a44a20f24894e5c4)\">\n",
       "                        <svg width=\"11\" height=\"10\" viewBox=\"0 0 11 10\" fill=\"none\" xmlns=\"http://www.w3.org/2000/svg\"><path d=\"M10.5652 9.23467L8.21819 6.88811C8.89846 6.07141 9.23767 5.02389 9.16527 3.96345C9.09287 2.90302 8.61443 1.91132 7.82948 1.19466C7.04453 0.477995 6.01349 0.0915414 4.95087 0.115691C3.88824 0.139841 2.87583 0.572735 2.12425 1.32432C1.37266 2.0759 0.939768 3.08831 0.915618 4.15094C0.891468 5.21357 1.27792 6.2446 1.99459 7.02955C2.71125 7.8145 3.70295 8.29294 4.76338 8.36535C5.82381 8.43775 6.87134 8.09853 7.68804 7.41827L10.0346 9.7653C10.0694 9.80014 10.1108 9.82778 10.1563 9.84663C10.2018 9.86549 10.2506 9.87519 10.2999 9.87519C10.3492 9.87519 10.398 9.86549 10.4435 9.84663C10.489 9.82778 10.5304 9.80014 10.5652 9.7653C10.6001 9.73046 10.6277 9.68909 10.6466 9.64357C10.6654 9.59805 10.6751 9.54926 10.6751 9.49998C10.6751 9.45071 10.6654 9.40192 10.6466 9.3564C10.6277 9.31088 10.6001 9.26951 10.5652 9.23467ZM1.67491 4.24998C1.67491 3.58247 1.87285 2.92995 2.2437 2.37493C2.61455 1.81992 3.14165 1.38734 3.75835 1.13189C4.37506 0.876446 5.05366 0.809609 5.70834 0.939835C6.36303 1.07006 6.96439 1.3915 7.4364 1.8635C7.9084 2.3355 8.22984 2.93687 8.36006 3.59155C8.49029 4.24624 8.42345 4.92484 8.168 5.54154C7.91256 6.15824 7.47998 6.68535 6.92496 7.05619C6.36995 7.42704 5.71742 7.62498 5.04991 7.62498C4.15511 7.62399 3.29724 7.26809 2.66452 6.63537C2.0318 6.00265 1.6759 5.14479 1.67491 4.24998Z\" fill=\"#464A91\"/></svg>\n",
       "                        <span class='pl-8'>Search</span>\n",
       "                    </button>\n",
       "                </div>\n",
       "\n",
       "                <div><h4 id='total1e3489f9d2e74b32a44a20f24894e5c4'>0</h4></div>\n",
       "            </div>\n",
       "            <div id='table1e3489f9d2e74b32a44a20f24894e5c4' class='grid-table1e3489f9d2e74b32a44a20f24894e5c4' style='margin-top: 25px;'>\n",
       "                <script>\n",
       "                    function paginate1e3489f9d2e74b32a44a20f24894e5c4(arr, size) {\n",
       "                        const res = [];\n",
       "                        for (let i = 0; i < arr.length; i += size) {\n",
       "                            const chunk = arr.slice(i, i + size);\n",
       "                            res.push(chunk);\n",
       "                        }\n",
       "\n",
       "                        return res;\n",
       "                    }\n",
       "\n",
       "                    function searchGrid1e3489f9d2e74b32a44a20f24894e5c4(elements){\n",
       "                        let searchKey = document.getElementById('searchKey1e3489f9d2e74b32a44a20f24894e5c4').value\n",
       "                        console.log(\"Search Key: \", searchKey)\n",
       "                        let result;\n",
       "                        if (searchKey === ''){\n",
       "                            result = elements;\n",
       "                        } else {\n",
       "                            result = elements.filter((element) => {\n",
       "                                let property = element[activeFilter1e3489f9d2e74b32a44a20f24894e5c4]\n",
       "                                if (typeof property === 'object' && property !== null){\n",
       "                                    return property.value.toLowerCase().includes(searchKey.toLowerCase());\n",
       "                                } else if (typeof property === 'string' ) {\n",
       "                                    return element[activeFilter1e3489f9d2e74b32a44a20f24894e5c4].toLowerCase().includes(searchKey.toLowerCase());\n",
       "                                } else if (property !== null ) {\n",
       "                                    return element[activeFilter1e3489f9d2e74b32a44a20f24894e5c4].toString() === searchKey;\n",
       "                                } else {\n",
       "                                    return element[activeFilter1e3489f9d2e74b32a44a20f24894e5c4] === searchKey;\n",
       "                                }\n",
       "                            } );\n",
       "                        }\n",
       "                        resetById1e3489f9d2e74b32a44a20f24894e5c4('table1e3489f9d2e74b32a44a20f24894e5c4');\n",
       "                        resetById1e3489f9d2e74b32a44a20f24894e5c4('pag1e3489f9d2e74b32a44a20f24894e5c4');\n",
       "                        result = paginate1e3489f9d2e74b32a44a20f24894e5c4(result, page_size1e3489f9d2e74b32a44a20f24894e5c4)\n",
       "                        buildGrid1e3489f9d2e74b32a44a20f24894e5c4(result,pageIndex1e3489f9d2e74b32a44a20f24894e5c4);\n",
       "                        buildPaginationContainer1e3489f9d2e74b32a44a20f24894e5c4(result);\n",
       "                    }\n",
       "\n",
       "                    function resetById1e3489f9d2e74b32a44a20f24894e5c4(id){\n",
       "                        let element = document.getElementById(id);\n",
       "                        while (element.firstChild) {\n",
       "                          element.removeChild(element.firstChild);\n",
       "                        }\n",
       "                    }\n",
       "\n",
       "                    function buildGrid1e3489f9d2e74b32a44a20f24894e5c4(items, pageIndex){\n",
       "                                let headers = Object.keys(element1e3489f9d2e74b32a44a20f24894e5c4[0]);\n",
       "\n",
       "                                let grid = document.getElementById(\"table1e3489f9d2e74b32a44a20f24894e5c4\");\n",
       "                                let div = document.createElement(\"div\");\n",
       "                                div.classList.add('grid-header', 'grid-index-cells');\n",
       "                                grid.appendChild(div);\n",
       "                                headers.forEach((title) =>{\n",
       "                                    let div = document.createElement(\"div\");\n",
       "                                    div.classList.add('grid-header', 'grid-std-cells');\n",
       "                                    div.innerText = title;\n",
       "\n",
       "                                    grid.appendChild(div);\n",
       "                                });\n",
       "\n",
       "                                let page = items[pageIndex -1]\n",
       "                                if (page !== 'undefine'){\n",
       "                                    let table_index1e3489f9d2e74b32a44a20f24894e5c4 = ((pageIndex - 1) * page_size1e3489f9d2e74b32a44a20f24894e5c4)\n",
       "                                    page.forEach((item) => {\n",
       "                                        let grid = document.getElementById(\"table1e3489f9d2e74b32a44a20f24894e5c4\");\n",
       "                                        // Add new index value in index cells\n",
       "                                        let divIndex = document.createElement(\"div\");\n",
       "                                        divIndex.classList.add('grid-row', 'grid-index-cells');\n",
       "                                        divIndex.innerText = table_index1e3489f9d2e74b32a44a20f24894e5c4;\n",
       "                                        grid.appendChild(divIndex);\n",
       "\n",
       "                                        // Iterate over the actual obj\n",
       "                                        for (const attr in item) {\n",
       "                                            let div = document.createElement(\"div\");\n",
       "                                            if (typeof item[attr] === 'object'\n",
       "                                                && item[attr] !== null\n",
       "                                                && item[attr].hasOwnProperty('type')) {\n",
       "                                                if (item[attr].type.includes('badge')){\n",
       "                                                    let badge_div = document.createElement(\"div\");\n",
       "                                                    badge_div.classList.add('badge',item[attr].type)\n",
       "                                                    badge_div.innerText = String(item[attr].value).toUpperCase();\n",
       "                                                    div.appendChild(badge_div);\n",
       "                                                    div.classList.add('grid-row','grid-std-cells');\n",
       "                                                } else if (item[attr].type === \"clipboard\") {\n",
       "                                                    div.classList.add('grid-row','grid-std-cells');\n",
       "\n",
       "                                                    // Create clipboard div\n",
       "                                                    let clipboard_div = document.createElement('div');\n",
       "                                                    clipboard_div.style.display= 'flex';\n",
       "                                                    clipboard_div.classList.add(\"gap-10\")\n",
       "                                                    clipboard_div.style.justifyContent = \"space-between\";\n",
       "\n",
       "                                                    let id_text = document.createElement('div');\n",
       "                                                    if (item[attr].value == \"None\"){\n",
       "                                                        id_text.innerText = \"None\";\n",
       "                                                    }\n",
       "                                                    else{\n",
       "                                                        id_text.innerText = item[attr].value.slice(0,5) + \"...\";\n",
       "                                                    }\n",
       "\n",
       "                                                    clipboard_div.appendChild(id_text);\n",
       "                                                    let clipboard_img = document.createElement('div');\n",
       "                                                    clipboard_img.classList.add(\"clipboard\")\n",
       "                                                    div.onclick = function() {\n",
       "                                                        navigator.clipboard.writeText(item[attr].value);\n",
       "                                                    };\n",
       "                                                    clipboard_img.innerHTML = \"<svg width='8' height='8' viewBox='0 0 8 8' fill='none' xmlns='http://www.w3.org/2000/svg'><path d='M7.4375 0.25H2.4375C2.35462 0.25 2.27513 0.282924 2.21653 0.341529C2.15792 0.400134 2.125 0.47962 2.125 0.5625V2.125H0.5625C0.47962 2.125 0.400134 2.15792 0.341529 2.21653C0.282924 2.27513 0.25 2.35462 0.25 2.4375V7.4375C0.25 7.52038 0.282924 7.59987 0.341529 7.65847C0.400134 7.71708 0.47962 7.75 0.5625 7.75H5.5625C5.64538 7.75 5.72487 7.71708 5.78347 7.65847C5.84208 7.59987 5.875 7.52038 5.875 7.4375V5.875H7.4375C7.52038 5.875 7.59987 5.84208 7.65847 5.78347C7.71708 5.72487 7.75 5.64538 7.75 5.5625V0.5625C7.75 0.47962 7.71708 0.400134 7.65847 0.341529C7.59987 0.282924 7.52038 0.25 7.4375 0.25ZM5.25 7.125H0.875V2.75H5.25V7.125ZM7.125 5.25H5.875V2.4375C5.875 2.35462 5.84208 2.27513 5.78347 2.21653C5.72487 2.15792 5.64538 2.125 5.5625 2.125H2.75V0.875H7.125V5.25Z' fill='#464158'/></svg>\";\n",
       "\n",
       "                                                    clipboard_div.appendChild(clipboard_img);\n",
       "                                                    div.appendChild(clipboard_div);\n",
       "                                                }\n",
       "                                            } else{\n",
       "                                                div.classList.add('grid-row','grid-std-cells');\n",
       "                                                if (item[attr] == null) {\n",
       "                                                    text = ' '\n",
       "                                                } else {\n",
       "                                                    text = String(item[attr])\n",
       "                                                }\n",
       "                                                if (text.length > 150){\n",
       "                                                    text = text.slice(0,150) + \"...\";\n",
       "                                                }\n",
       "                                                text = text.replaceAll(\"\\n\", \"</br>\");\n",
       "                                                div.innerHTML = text;\n",
       "                                            }\n",
       "                                            grid.appendChild(div);\n",
       "                                        }\n",
       "                                    table_index1e3489f9d2e74b32a44a20f24894e5c4 = table_index1e3489f9d2e74b32a44a20f24894e5c4 + 1;\n",
       "                                    })\n",
       "                                }\n",
       "                    }\n",
       "                    paginatedElements1e3489f9d2e74b32a44a20f24894e5c4 = paginate1e3489f9d2e74b32a44a20f24894e5c4(element1e3489f9d2e74b32a44a20f24894e5c4, page_size1e3489f9d2e74b32a44a20f24894e5c4)\n",
       "                    buildGrid1e3489f9d2e74b32a44a20f24894e5c4(paginatedElements1e3489f9d2e74b32a44a20f24894e5c4, 1)\n",
       "                    document.getElementById('total1e3489f9d2e74b32a44a20f24894e5c4').innerText = \"Total: \" + element1e3489f9d2e74b32a44a20f24894e5c4.length\n",
       "                </script>\n",
       "            </div>\n",
       "            <div id='pag1e3489f9d2e74b32a44a20f24894e5c4' class='paginationContainer'>\n",
       "                <script>\n",
       "                    function buildPaginationContainer1e3489f9d2e74b32a44a20f24894e5c4(paginatedElements){\n",
       "                            let pageContainer = document.getElementById(\"pag1e3489f9d2e74b32a44a20f24894e5c4\");\n",
       "                            for (let i = 0; i < paginatedElements.length; i++) {\n",
       "                                  let div = document.createElement(\"div\");\n",
       "                                  div.classList.add('page');\n",
       "                                  div.style.color = 'gray';\n",
       "                                  div.onclick = function(event) {\n",
       "                                      let indexes = document.getElementsByClassName('page');\n",
       "                                      for (let index of indexes) { index.style.color = 'gray' }\n",
       "                                      event.target.style.color = \"black\"\n",
       "                                      setPage1e3489f9d2e74b32a44a20f24894e5c4(i + 1);\n",
       "                                  };\n",
       "                                  div.innerText = i + 1;\n",
       "                                  pageContainer.appendChild(div);\n",
       "                            }\n",
       "                    }\n",
       "\n",
       "                    function setPage1e3489f9d2e74b32a44a20f24894e5c4(newPage){\n",
       "                        pageIndex = newPage\n",
       "                        resetById1e3489f9d2e74b32a44a20f24894e5c4('table1e3489f9d2e74b32a44a20f24894e5c4')\n",
       "                        buildGrid1e3489f9d2e74b32a44a20f24894e5c4(paginatedElements1e3489f9d2e74b32a44a20f24894e5c4, pageIndex)\n",
       "                    }\n",
       "\n",
       "                    buildPaginationContainer1e3489f9d2e74b32a44a20f24894e5c4(paginatedElements1e3489f9d2e74b32a44a20f24894e5c4)\n",
       "                </script>\n",
       "            </div>\n",
       "        </div>\n",
       "    </div>\n",
       "    </div>\n"
      ],
      "text/plain": [
       "[syft.service.message.messages.Message, syft.service.message.messages.Message]"
      ]
     },
     "execution_count": 37,
     "metadata": {},
     "output_type": "execute_result"
    }
   ],
   "source": [
    "messages"
   ]
  },
  {
   "cell_type": "code",
   "execution_count": 38,
   "id": "f491713c",
   "metadata": {
    "execution": {
     "iopub.execute_input": "2023-06-29T09:49:45.997781Z",
     "iopub.status.busy": "2023-06-29T09:49:45.997410Z",
     "iopub.status.idle": "2023-06-29T09:49:46.003004Z",
     "shell.execute_reply": "2023-06-29T09:49:46.002116Z"
    },
    "tags": []
   },
   "outputs": [],
   "source": [
    "project_message = [x for x in messages if issubclass(x.linked_obj.object_type, Project)][0]"
   ]
  },
  {
   "cell_type": "code",
   "execution_count": 39,
   "id": "e450a3af",
   "metadata": {
    "execution": {
     "iopub.execute_input": "2023-06-29T09:49:46.006698Z",
     "iopub.status.busy": "2023-06-29T09:49:46.006317Z",
     "iopub.status.idle": "2023-06-29T09:49:46.076656Z",
     "shell.execute_reply": "2023-06-29T09:49:46.070909Z"
    },
    "tags": []
   },
   "outputs": [],
   "source": [
    "request = project_message.link.events[0].request\n",
    "func = request.changes[0].link\n",
    "op = func.output_policy_type"
   ]
  },
  {
   "cell_type": "code",
   "execution_count": 40,
   "id": "cd5822af",
   "metadata": {
    "execution": {
     "iopub.execute_input": "2023-06-29T09:49:46.080860Z",
     "iopub.status.busy": "2023-06-29T09:49:46.080359Z",
     "iopub.status.idle": "2023-06-29T09:49:46.087318Z",
     "shell.execute_reply": "2023-06-29T09:49:46.086617Z"
    },
    "tags": []
   },
   "outputs": [
    {
     "data": {
      "text/markdown": [
       "```python\n",
       "class UserCode\n",
       "    id: str = 86df92ea3d5c4ec196cb664d60383a4d\n",
       "    status.approved: str = False\n",
       "    service_func_name: str = get_bike_hist\n",
       "    code:\n",
       "\n",
       "@sy.syft_function(input_policy=sy.ExactMatch(bikes=asset.pointer),\n",
       "                  output_policy=sy.SingleExecutionExactOutput())\n",
       "def get_bike_hist(bikes):\n",
       "    berri_bikes = bikes[['Berri 1']].copy()\n",
       "    berri_bikes.loc[:,'weekday'] = berri_bikes.index.weekday\n",
       "    weekday_counts = berri_bikes.groupby('weekday').aggregate(sum)\n",
       "    return weekday_counts\n",
       "\n",
       "```"
      ],
      "text/plain": [
       "syft.service.code.user_code.UserCode"
      ]
     },
     "execution_count": 40,
     "metadata": {},
     "output_type": "execute_result"
    }
   ],
   "source": [
    "func"
   ]
  },
  {
   "cell_type": "code",
   "execution_count": 41,
   "id": "c173017d",
   "metadata": {
    "execution": {
     "iopub.execute_input": "2023-06-29T09:49:46.090112Z",
     "iopub.status.busy": "2023-06-29T09:49:46.089743Z",
     "iopub.status.idle": "2023-06-29T09:49:46.093969Z",
     "shell.execute_reply": "2023-06-29T09:49:46.093267Z"
    },
    "tags": []
   },
   "outputs": [
    {
     "name": "stdout",
     "output_type": "stream",
     "text": [
      "WARNING: This code was submitted by a User and could be UNSAFE.\n"
     ]
    }
   ],
   "source": [
    "get_col_user_function = func.unsafe_function"
   ]
  },
  {
   "cell_type": "code",
   "execution_count": 42,
   "id": "3a708eb0",
   "metadata": {
    "execution": {
     "iopub.execute_input": "2023-06-29T09:49:46.096933Z",
     "iopub.status.busy": "2023-06-29T09:49:46.096574Z",
     "iopub.status.idle": "2023-06-29T09:49:46.142211Z",
     "shell.execute_reply": "2023-06-29T09:49:46.141478Z"
    },
    "tags": []
   },
   "outputs": [],
   "source": [
    "real_data = root_domain_client.datasets[0].assets[0].data"
   ]
  },
  {
   "cell_type": "code",
   "execution_count": 43,
   "id": "34fc6c8b",
   "metadata": {
    "execution": {
     "iopub.execute_input": "2023-06-29T09:49:46.145271Z",
     "iopub.status.busy": "2023-06-29T09:49:46.144888Z",
     "iopub.status.idle": "2023-06-29T09:49:46.154936Z",
     "shell.execute_reply": "2023-06-29T09:49:46.154123Z"
    },
    "tags": []
   },
   "outputs": [],
   "source": [
    "real_result = get_col_user_function(bikes=real_data)"
   ]
  },
  {
   "cell_type": "code",
   "execution_count": 44,
   "id": "f25c2403",
   "metadata": {
    "execution": {
     "iopub.execute_input": "2023-06-29T09:49:46.157956Z",
     "iopub.status.busy": "2023-06-29T09:49:46.157392Z",
     "iopub.status.idle": "2023-06-29T09:49:46.166927Z",
     "shell.execute_reply": "2023-06-29T09:49:46.166145Z"
    },
    "tags": []
   },
   "outputs": [
    {
     "data": {
      "text/html": [
       "<div>\n",
       "<style scoped>\n",
       "    .dataframe tbody tr th:only-of-type {\n",
       "        vertical-align: middle;\n",
       "    }\n",
       "\n",
       "    .dataframe tbody tr th {\n",
       "        vertical-align: top;\n",
       "    }\n",
       "\n",
       "    .dataframe thead th {\n",
       "        text-align: right;\n",
       "    }\n",
       "</style>\n",
       "<table border=\"1\" class=\"dataframe\">\n",
       "  <thead>\n",
       "    <tr style=\"text-align: right;\">\n",
       "      <th></th>\n",
       "      <th>Berri 1</th>\n",
       "    </tr>\n",
       "    <tr>\n",
       "      <th>weekday</th>\n",
       "      <th></th>\n",
       "    </tr>\n",
       "  </thead>\n",
       "  <tbody>\n",
       "    <tr>\n",
       "      <th>0</th>\n",
       "      <td>134298</td>\n",
       "    </tr>\n",
       "    <tr>\n",
       "      <th>1</th>\n",
       "      <td>135305</td>\n",
       "    </tr>\n",
       "    <tr>\n",
       "      <th>2</th>\n",
       "      <td>152972</td>\n",
       "    </tr>\n",
       "  </tbody>\n",
       "</table>\n",
       "</div>"
      ],
      "text/plain": [
       "         Berri 1\n",
       "weekday         \n",
       "0         134298\n",
       "1         135305\n",
       "2         152972"
      ]
     },
     "execution_count": 44,
     "metadata": {},
     "output_type": "execute_result"
    }
   ],
   "source": [
    "real_result[:3]"
   ]
  },
  {
   "cell_type": "code",
   "execution_count": 45,
   "id": "60adc73c",
   "metadata": {
    "execution": {
     "iopub.execute_input": "2023-06-29T09:49:46.169716Z",
     "iopub.status.busy": "2023-06-29T09:49:46.169263Z",
     "iopub.status.idle": "2023-06-29T09:49:46.499841Z",
     "shell.execute_reply": "2023-06-29T09:49:46.499022Z"
    },
    "tags": []
   },
   "outputs": [],
   "source": [
    "result = request.accept_by_depositing_result(real_result)\n",
    "result\n",
    "assert isinstance(result, sy.SyftSuccess)"
   ]
  },
  {
   "cell_type": "markdown",
   "id": "33153a46",
   "metadata": {},
   "source": [
    "# Data scientist: fetch result"
   ]
  },
  {
   "cell_type": "code",
   "execution_count": 46,
   "id": "d4d913d0",
   "metadata": {
    "execution": {
     "iopub.execute_input": "2023-06-29T09:49:46.504330Z",
     "iopub.status.busy": "2023-06-29T09:49:46.502980Z",
     "iopub.status.idle": "2023-06-29T09:49:46.524138Z",
     "shell.execute_reply": "2023-06-29T09:49:46.523421Z"
    },
    "tags": []
   },
   "outputs": [],
   "source": [
    "asset = guest_client.datasets[0].assets[0]"
   ]
  },
  {
   "cell_type": "code",
   "execution_count": 47,
   "id": "b302702f",
   "metadata": {
    "execution": {
     "iopub.execute_input": "2023-06-29T09:49:46.527656Z",
     "iopub.status.busy": "2023-06-29T09:49:46.526911Z",
     "iopub.status.idle": "2023-06-29T09:49:46.549428Z",
     "shell.execute_reply": "2023-06-29T09:49:46.548618Z"
    },
    "tags": []
   },
   "outputs": [
    {
     "data": {
      "text/plain": [
       "{NodeView(node_name='pandas-test-domain-4', verify_key=1f037b28202c6dcc63f39aae2a316871c599f8ae4c2bee5c7e66eb926841f61b): <UserCodeStatus.EXECUTE: 'execute'>}"
      ]
     },
     "execution_count": 47,
     "metadata": {},
     "output_type": "execute_result"
    }
   ],
   "source": [
    "guest_client.code[0].status"
   ]
  },
  {
   "cell_type": "code",
   "execution_count": 48,
   "id": "7093dad3",
   "metadata": {
    "execution": {
     "iopub.execute_input": "2023-06-29T09:49:46.552900Z",
     "iopub.status.busy": "2023-06-29T09:49:46.552523Z",
     "iopub.status.idle": "2023-06-29T09:49:46.787093Z",
     "shell.execute_reply": "2023-06-29T09:49:46.785854Z"
    },
    "tags": []
   },
   "outputs": [
    {
     "data": {
      "text/plain": [
       "<Axes: xlabel='weekday'>"
      ]
     },
     "execution_count": 48,
     "metadata": {},
     "output_type": "execute_result"
    },
    {
     "data": {
      "image/png": "[encoded data removed]",
      "text/plain": [
       "<Figure size 640x480 with 1 Axes>"
      ]
     },
     "metadata": {},
     "output_type": "display_data"
    }
   ],
   "source": [
    "result_ptr = guest_client.code.get_bike_hist(bikes=asset)\n",
    "real_result = result_ptr.get()\n",
    "real_result.plot(kind=\"bar\")"
   ]
  },
  {
   "cell_type": "code",
   "execution_count": 49,
   "id": "178f9ca1",
   "metadata": {
    "execution": {
     "iopub.execute_input": "2023-06-29T09:49:46.791342Z",
     "iopub.status.busy": "2023-06-29T09:49:46.790422Z",
     "iopub.status.idle": "2023-06-29T09:49:46.795992Z",
     "shell.execute_reply": "2023-06-29T09:49:46.795275Z"
    },
    "tags": []
   },
   "outputs": [
    {
     "name": "stdout",
     "output_type": "stream",
     "text": [
      "Stopping pandas-test-domain-4\n"
     ]
    }
   ],
   "source": [
    "node.land()"
   ]
  },
  {
   "cell_type": "code",
   "execution_count": null,
   "id": "cbcd55e5",
   "metadata": {},
   "outputs": [],
   "source": []
  }
 ],
 "metadata": {
  "kernelspec": {
   "display_name": "Python 3 (ipykernel)",
   "language": "python",
   "name": "python3"
  },
  "language_info": {
   "codemirror_mode": {
    "name": "ipython",
    "version": 3
   },
   "file_extension": ".py",
   "mimetype": "text/x-python",
   "name": "python",
   "nbconvert_exporter": "python",
   "pygments_lexer": "ipython3",
   "version": "3.11.4"
  },
  "toc": {
   "base_numbering": 1,
   "nav_menu": {},
   "number_sections": true,
   "sideBar": true,
   "skip_h1_title": false,
   "title_cell": "Table of Contents",
   "title_sidebar": "Contents",
   "toc_cell": false,
   "toc_position": {
    "height": "calc(100% - 180px)",
    "left": "10px",
    "top": "150px",
    "width": "358.398px"
   },
   "toc_section_display": true,
   "toc_window_display": true
  }
 },
 "nbformat": 4,
 "nbformat_minor": 5
}
