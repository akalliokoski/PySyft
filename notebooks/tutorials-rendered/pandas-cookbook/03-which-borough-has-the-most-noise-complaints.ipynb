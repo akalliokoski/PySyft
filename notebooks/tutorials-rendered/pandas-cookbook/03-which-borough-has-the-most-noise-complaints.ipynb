{
 "cells": [
  {
   "cell_type": "markdown",
   "id": "caed84b7",
   "metadata": {},
   "source": [
    "# Which borough has the most noise complaints (or, more selecting data)"
   ]
  },
  {
   "cell_type": "markdown",
   "id": "0f427af3",
   "metadata": {},
   "source": [
    "## Install"
   ]
  },
  {
   "cell_type": "code",
   "execution_count": 1,
   "id": "66c14a6b",
   "metadata": {
    "execution": {
     "iopub.execute_input": "2023-06-29T09:48:38.850134Z",
     "iopub.status.busy": "2023-06-29T09:48:38.849677Z",
     "iopub.status.idle": "2023-06-29T09:48:38.863619Z",
     "shell.execute_reply": "2023-06-29T09:48:38.861112Z"
    },
    "tags": []
   },
   "outputs": [],
   "source": [
    "SYFT_VERSION = \">=0.8.2.b0,<0.9\"\n",
    "package_string = f'\"syft{SYFT_VERSION}\"'\n",
    "# %pip install {package_string} -f https://whls.blob.core.windows.net/unstable/index.html -q"
   ]
  },
  {
   "cell_type": "code",
   "execution_count": 2,
   "id": "74a3a9fb",
   "metadata": {
    "execution": {
     "iopub.execute_input": "2023-06-29T09:48:38.867306Z",
     "iopub.status.busy": "2023-06-29T09:48:38.866829Z",
     "iopub.status.idle": "2023-06-29T09:48:41.158294Z",
     "shell.execute_reply": "2023-06-29T09:48:41.157346Z"
    },
    "tags": []
   },
   "outputs": [
    {
     "name": "stdout",
     "output_type": "stream",
     "text": [
      "✅ The installed version of syft==0.8.2b2 matches the requirement >=0.8.2b0 and the requirement <0.9\n"
     ]
    }
   ],
   "source": [
    "import syft as sy\n",
    "sy.requires(SYFT_VERSION)"
   ]
  },
  {
   "cell_type": "code",
   "execution_count": 3,
   "id": "cbce68c1",
   "metadata": {
    "execution": {
     "iopub.execute_input": "2023-06-29T09:48:41.161841Z",
     "iopub.status.busy": "2023-06-29T09:48:41.161072Z",
     "iopub.status.idle": "2023-06-29T09:48:42.215127Z",
     "shell.execute_reply": "2023-06-29T09:48:42.214136Z"
    },
    "tags": []
   },
   "outputs": [
    {
     "name": "stdout",
     "output_type": "stream",
     "text": [
      "Starting pandas-test-domain-3 server on 0.0.0.0:7083\n"
     ]
    },
    {
     "name": "stdout",
     "output_type": "stream",
     "text": [
      "Waiting for server to start Done.\n"
     ]
    }
   ],
   "source": [
    "node = sy.orchestra.launch(name=\"pandas-test-domain-3\", port=7083, reset=True)"
   ]
  },
  {
   "cell_type": "markdown",
   "id": "9b583123",
   "metadata": {},
   "source": [
    "# Data owner: upload data"
   ]
  },
  {
   "cell_type": "code",
   "execution_count": 4,
   "id": "3779a9a3",
   "metadata": {
    "execution": {
     "iopub.execute_input": "2023-06-29T09:48:42.219324Z",
     "iopub.status.busy": "2023-06-29T09:48:42.218723Z",
     "iopub.status.idle": "2023-06-29T09:48:43.711705Z",
     "shell.execute_reply": "2023-06-29T09:48:43.710851Z"
    },
    "tags": []
   },
   "outputs": [
    {
     "name": "stdout",
     "output_type": "stream",
     "text": [
      "Logged into pandas-test-domain-3 as <info@openmined.org>\n"
     ]
    }
   ],
   "source": [
    "domain_client = node.login(email=\"info@openmined.org\", password=\"changethis\")"
   ]
  },
  {
   "cell_type": "code",
   "execution_count": 5,
   "id": "479e0fbd",
   "metadata": {
    "execution": {
     "iopub.execute_input": "2023-06-29T09:48:43.714957Z",
     "iopub.status.busy": "2023-06-29T09:48:43.714444Z",
     "iopub.status.idle": "2023-06-29T09:48:44.111490Z",
     "shell.execute_reply": "2023-06-29T09:48:44.110649Z"
    },
    "tags": []
   },
   "outputs": [],
   "source": [
    "# The usual preamble\n",
    "%matplotlib inline\n",
    "import pandas as pd\n",
    "import matplotlib.pyplot as plt\n",
    "from syft import Worker, MessageStatus\n",
    "from syft.service.project.project import Project\n",
    "from syft.util.util import PANDAS_DATA\n",
    "\n",
    "# Make the graphs a bit prettier, and bigger\n",
    "plt.style.use('ggplot')\n",
    "\n",
    "# This is necessary to show lots of columns in pandas 0.12. \n",
    "# Not necessary in pandas 0.13.\n",
    "pd.set_option('display.width', 5000) \n",
    "pd.set_option('display.max_columns', 60)\n",
    "\n",
    "plt.rcParams['figure.figsize'] = (15, 5)"
   ]
  },
  {
   "cell_type": "markdown",
   "id": "e5de64c5",
   "metadata": {},
   "source": [
    "## Load data"
   ]
  },
  {
   "cell_type": "markdown",
   "id": "f51535e7",
   "metadata": {},
   "source": [
    "We're going to use a new dataset here, to demonstrate how to deal with larger datasets. This is a subset of the of 311 service requests from NYC Open Data."
   ]
  },
  {
   "cell_type": "code",
   "execution_count": 6,
   "id": "f5fa8555",
   "metadata": {
    "execution": {
     "iopub.execute_input": "2023-06-29T09:48:44.115073Z",
     "iopub.status.busy": "2023-06-29T09:48:44.114366Z",
     "iopub.status.idle": "2023-06-29T09:48:45.270296Z",
     "shell.execute_reply": "2023-06-29T09:48:45.269336Z"
    },
    "tags": []
   },
   "outputs": [],
   "source": [
    "# because of mixed types we specify dtype to prevent any errors\n",
    "complaints = pd.read_csv(sy.autocache(f\"{PANDAS_DATA}/311-service-requests.csv\"), dtype='unicode')"
   ]
  },
  {
   "cell_type": "markdown",
   "id": "e41cf047",
   "metadata": {},
   "source": [
    "Depending on your pandas version, you might see an error like \"DtypeWarning: Columns (8) have mixed types\". This means that it's encountered a problem reading in our data. In this case it almost certainly means that it has columns where some of the entries are strings and some are integers.\n",
    "\n",
    "For now we're going to ignore it and hope we don't run into a problem, but in the long run we'd need to investigate this warning."
   ]
  },
  {
   "cell_type": "code",
   "execution_count": 7,
   "id": "3a0da17e",
   "metadata": {
    "execution": {
     "iopub.execute_input": "2023-06-29T09:48:45.274539Z",
     "iopub.status.busy": "2023-06-29T09:48:45.274284Z",
     "iopub.status.idle": "2023-06-29T09:48:45.315152Z",
     "shell.execute_reply": "2023-06-29T09:48:45.314342Z"
    },
    "tags": []
   },
   "outputs": [
    {
     "data": {
      "text/html": [
       "<div>\n",
       "<style scoped>\n",
       "    .dataframe tbody tr th:only-of-type {\n",
       "        vertical-align: middle;\n",
       "    }\n",
       "\n",
       "    .dataframe tbody tr th {\n",
       "        vertical-align: top;\n",
       "    }\n",
       "\n",
       "    .dataframe thead th {\n",
       "        text-align: right;\n",
       "    }\n",
       "</style>\n",
       "<table border=\"1\" class=\"dataframe\">\n",
       "  <thead>\n",
       "    <tr style=\"text-align: right;\">\n",
       "      <th></th>\n",
       "      <th>Unique Key</th>\n",
       "      <th>Created Date</th>\n",
       "      <th>Closed Date</th>\n",
       "      <th>Agency</th>\n",
       "      <th>Agency Name</th>\n",
       "      <th>Complaint Type</th>\n",
       "      <th>Descriptor</th>\n",
       "      <th>Location Type</th>\n",
       "      <th>Incident Zip</th>\n",
       "      <th>Incident Address</th>\n",
       "      <th>Street Name</th>\n",
       "      <th>Cross Street 1</th>\n",
       "      <th>Cross Street 2</th>\n",
       "      <th>Intersection Street 1</th>\n",
       "      <th>Intersection Street 2</th>\n",
       "      <th>Address Type</th>\n",
       "      <th>City</th>\n",
       "      <th>Landmark</th>\n",
       "      <th>Facility Type</th>\n",
       "      <th>Status</th>\n",
       "      <th>Due Date</th>\n",
       "      <th>Resolution Action Updated Date</th>\n",
       "      <th>Community Board</th>\n",
       "      <th>Borough</th>\n",
       "      <th>X Coordinate (State Plane)</th>\n",
       "      <th>Y Coordinate (State Plane)</th>\n",
       "      <th>Park Facility Name</th>\n",
       "      <th>Park Borough</th>\n",
       "      <th>School Name</th>\n",
       "      <th>School Number</th>\n",
       "      <th>School Region</th>\n",
       "      <th>School Code</th>\n",
       "      <th>School Phone Number</th>\n",
       "      <th>School Address</th>\n",
       "      <th>School City</th>\n",
       "      <th>School State</th>\n",
       "      <th>School Zip</th>\n",
       "      <th>School Not Found</th>\n",
       "      <th>School or Citywide Complaint</th>\n",
       "      <th>Vehicle Type</th>\n",
       "      <th>Taxi Company Borough</th>\n",
       "      <th>Taxi Pick Up Location</th>\n",
       "      <th>Bridge Highway Name</th>\n",
       "      <th>Bridge Highway Direction</th>\n",
       "      <th>Road Ramp</th>\n",
       "      <th>Bridge Highway Segment</th>\n",
       "      <th>Garage Lot Name</th>\n",
       "      <th>Ferry Direction</th>\n",
       "      <th>Ferry Terminal Name</th>\n",
       "      <th>Latitude</th>\n",
       "      <th>Longitude</th>\n",
       "      <th>Location</th>\n",
       "    </tr>\n",
       "  </thead>\n",
       "  <tbody>\n",
       "    <tr>\n",
       "      <th>0</th>\n",
       "      <td>26589651</td>\n",
       "      <td>10/31/2013 02:08:41 AM</td>\n",
       "      <td>NaN</td>\n",
       "      <td>NYPD</td>\n",
       "      <td>New York City Police Department</td>\n",
       "      <td>Noise - Street/Sidewalk</td>\n",
       "      <td>Loud Talking</td>\n",
       "      <td>Street/Sidewalk</td>\n",
       "      <td>11432</td>\n",
       "      <td>90-03 169 STREET</td>\n",
       "      <td>169 STREET</td>\n",
       "      <td>90 AVENUE</td>\n",
       "      <td>91 AVENUE</td>\n",
       "      <td>NaN</td>\n",
       "      <td>NaN</td>\n",
       "      <td>ADDRESS</td>\n",
       "      <td>JAMAICA</td>\n",
       "      <td>NaN</td>\n",
       "      <td>Precinct</td>\n",
       "      <td>Assigned</td>\n",
       "      <td>10/31/2013 10:08:41 AM</td>\n",
       "      <td>10/31/2013 02:35:17 AM</td>\n",
       "      <td>12 QUEENS</td>\n",
       "      <td>QUEENS</td>\n",
       "      <td>1042027</td>\n",
       "      <td>197389</td>\n",
       "      <td>Unspecified</td>\n",
       "      <td>QUEENS</td>\n",
       "      <td>Unspecified</td>\n",
       "      <td>Unspecified</td>\n",
       "      <td>Unspecified</td>\n",
       "      <td>Unspecified</td>\n",
       "      <td>Unspecified</td>\n",
       "      <td>Unspecified</td>\n",
       "      <td>Unspecified</td>\n",
       "      <td>Unspecified</td>\n",
       "      <td>Unspecified</td>\n",
       "      <td>N</td>\n",
       "      <td>NaN</td>\n",
       "      <td>NaN</td>\n",
       "      <td>NaN</td>\n",
       "      <td>NaN</td>\n",
       "      <td>NaN</td>\n",
       "      <td>NaN</td>\n",
       "      <td>NaN</td>\n",
       "      <td>NaN</td>\n",
       "      <td>NaN</td>\n",
       "      <td>NaN</td>\n",
       "      <td>NaN</td>\n",
       "      <td>40.70827532593202</td>\n",
       "      <td>-73.79160395779721</td>\n",
       "      <td>(40.70827532593202, -73.79160395779721)</td>\n",
       "    </tr>\n",
       "    <tr>\n",
       "      <th>1</th>\n",
       "      <td>26593698</td>\n",
       "      <td>10/31/2013 02:01:04 AM</td>\n",
       "      <td>NaN</td>\n",
       "      <td>NYPD</td>\n",
       "      <td>New York City Police Department</td>\n",
       "      <td>Illegal Parking</td>\n",
       "      <td>Commercial Overnight Parking</td>\n",
       "      <td>Street/Sidewalk</td>\n",
       "      <td>11378</td>\n",
       "      <td>58 AVENUE</td>\n",
       "      <td>58 AVENUE</td>\n",
       "      <td>58 PLACE</td>\n",
       "      <td>59 STREET</td>\n",
       "      <td>NaN</td>\n",
       "      <td>NaN</td>\n",
       "      <td>BLOCKFACE</td>\n",
       "      <td>MASPETH</td>\n",
       "      <td>NaN</td>\n",
       "      <td>Precinct</td>\n",
       "      <td>Open</td>\n",
       "      <td>10/31/2013 10:01:04 AM</td>\n",
       "      <td>NaN</td>\n",
       "      <td>05 QUEENS</td>\n",
       "      <td>QUEENS</td>\n",
       "      <td>1009349</td>\n",
       "      <td>201984</td>\n",
       "      <td>Unspecified</td>\n",
       "      <td>QUEENS</td>\n",
       "      <td>Unspecified</td>\n",
       "      <td>Unspecified</td>\n",
       "      <td>Unspecified</td>\n",
       "      <td>Unspecified</td>\n",
       "      <td>Unspecified</td>\n",
       "      <td>Unspecified</td>\n",
       "      <td>Unspecified</td>\n",
       "      <td>Unspecified</td>\n",
       "      <td>Unspecified</td>\n",
       "      <td>N</td>\n",
       "      <td>NaN</td>\n",
       "      <td>NaN</td>\n",
       "      <td>NaN</td>\n",
       "      <td>NaN</td>\n",
       "      <td>NaN</td>\n",
       "      <td>NaN</td>\n",
       "      <td>NaN</td>\n",
       "      <td>NaN</td>\n",
       "      <td>NaN</td>\n",
       "      <td>NaN</td>\n",
       "      <td>NaN</td>\n",
       "      <td>40.721040535628305</td>\n",
       "      <td>-73.90945306791765</td>\n",
       "      <td>(40.721040535628305, -73.90945306791765)</td>\n",
       "    </tr>\n",
       "    <tr>\n",
       "      <th>2</th>\n",
       "      <td>26594139</td>\n",
       "      <td>10/31/2013 02:00:24 AM</td>\n",
       "      <td>10/31/2013 02:40:32 AM</td>\n",
       "      <td>NYPD</td>\n",
       "      <td>New York City Police Department</td>\n",
       "      <td>Noise - Commercial</td>\n",
       "      <td>Loud Music/Party</td>\n",
       "      <td>Club/Bar/Restaurant</td>\n",
       "      <td>10032</td>\n",
       "      <td>4060 BROADWAY</td>\n",
       "      <td>BROADWAY</td>\n",
       "      <td>WEST 171 STREET</td>\n",
       "      <td>WEST 172 STREET</td>\n",
       "      <td>NaN</td>\n",
       "      <td>NaN</td>\n",
       "      <td>ADDRESS</td>\n",
       "      <td>NEW YORK</td>\n",
       "      <td>NaN</td>\n",
       "      <td>Precinct</td>\n",
       "      <td>Closed</td>\n",
       "      <td>10/31/2013 10:00:24 AM</td>\n",
       "      <td>10/31/2013 02:39:42 AM</td>\n",
       "      <td>12 MANHATTAN</td>\n",
       "      <td>MANHATTAN</td>\n",
       "      <td>1001088</td>\n",
       "      <td>246531</td>\n",
       "      <td>Unspecified</td>\n",
       "      <td>MANHATTAN</td>\n",
       "      <td>Unspecified</td>\n",
       "      <td>Unspecified</td>\n",
       "      <td>Unspecified</td>\n",
       "      <td>Unspecified</td>\n",
       "      <td>Unspecified</td>\n",
       "      <td>Unspecified</td>\n",
       "      <td>Unspecified</td>\n",
       "      <td>Unspecified</td>\n",
       "      <td>Unspecified</td>\n",
       "      <td>N</td>\n",
       "      <td>NaN</td>\n",
       "      <td>NaN</td>\n",
       "      <td>NaN</td>\n",
       "      <td>NaN</td>\n",
       "      <td>NaN</td>\n",
       "      <td>NaN</td>\n",
       "      <td>NaN</td>\n",
       "      <td>NaN</td>\n",
       "      <td>NaN</td>\n",
       "      <td>NaN</td>\n",
       "      <td>NaN</td>\n",
       "      <td>40.84332975466513</td>\n",
       "      <td>-73.93914371913482</td>\n",
       "      <td>(40.84332975466513, -73.93914371913482)</td>\n",
       "    </tr>\n",
       "    <tr>\n",
       "      <th>3</th>\n",
       "      <td>26595721</td>\n",
       "      <td>10/31/2013 01:56:23 AM</td>\n",
       "      <td>10/31/2013 02:21:48 AM</td>\n",
       "      <td>NYPD</td>\n",
       "      <td>New York City Police Department</td>\n",
       "      <td>Noise - Vehicle</td>\n",
       "      <td>Car/Truck Horn</td>\n",
       "      <td>Street/Sidewalk</td>\n",
       "      <td>10023</td>\n",
       "      <td>WEST 72 STREET</td>\n",
       "      <td>WEST 72 STREET</td>\n",
       "      <td>COLUMBUS AVENUE</td>\n",
       "      <td>AMSTERDAM AVENUE</td>\n",
       "      <td>NaN</td>\n",
       "      <td>NaN</td>\n",
       "      <td>BLOCKFACE</td>\n",
       "      <td>NEW YORK</td>\n",
       "      <td>NaN</td>\n",
       "      <td>Precinct</td>\n",
       "      <td>Closed</td>\n",
       "      <td>10/31/2013 09:56:23 AM</td>\n",
       "      <td>10/31/2013 02:21:10 AM</td>\n",
       "      <td>07 MANHATTAN</td>\n",
       "      <td>MANHATTAN</td>\n",
       "      <td>989730</td>\n",
       "      <td>222727</td>\n",
       "      <td>Unspecified</td>\n",
       "      <td>MANHATTAN</td>\n",
       "      <td>Unspecified</td>\n",
       "      <td>Unspecified</td>\n",
       "      <td>Unspecified</td>\n",
       "      <td>Unspecified</td>\n",
       "      <td>Unspecified</td>\n",
       "      <td>Unspecified</td>\n",
       "      <td>Unspecified</td>\n",
       "      <td>Unspecified</td>\n",
       "      <td>Unspecified</td>\n",
       "      <td>N</td>\n",
       "      <td>NaN</td>\n",
       "      <td>NaN</td>\n",
       "      <td>NaN</td>\n",
       "      <td>NaN</td>\n",
       "      <td>NaN</td>\n",
       "      <td>NaN</td>\n",
       "      <td>NaN</td>\n",
       "      <td>NaN</td>\n",
       "      <td>NaN</td>\n",
       "      <td>NaN</td>\n",
       "      <td>NaN</td>\n",
       "      <td>40.7780087446372</td>\n",
       "      <td>-73.98021349023975</td>\n",
       "      <td>(40.7780087446372, -73.98021349023975)</td>\n",
       "    </tr>\n",
       "    <tr>\n",
       "      <th>4</th>\n",
       "      <td>26590930</td>\n",
       "      <td>10/31/2013 01:53:44 AM</td>\n",
       "      <td>NaN</td>\n",
       "      <td>DOHMH</td>\n",
       "      <td>Department of Health and Mental Hygiene</td>\n",
       "      <td>Rodent</td>\n",
       "      <td>Condition Attracting Rodents</td>\n",
       "      <td>Vacant Lot</td>\n",
       "      <td>10027</td>\n",
       "      <td>WEST 124 STREET</td>\n",
       "      <td>WEST 124 STREET</td>\n",
       "      <td>LENOX AVENUE</td>\n",
       "      <td>ADAM CLAYTON POWELL JR BOULEVARD</td>\n",
       "      <td>NaN</td>\n",
       "      <td>NaN</td>\n",
       "      <td>BLOCKFACE</td>\n",
       "      <td>NEW YORK</td>\n",
       "      <td>NaN</td>\n",
       "      <td>NaN</td>\n",
       "      <td>Pending</td>\n",
       "      <td>11/30/2013 01:53:44 AM</td>\n",
       "      <td>10/31/2013 01:59:54 AM</td>\n",
       "      <td>10 MANHATTAN</td>\n",
       "      <td>MANHATTAN</td>\n",
       "      <td>998815</td>\n",
       "      <td>233545</td>\n",
       "      <td>Unspecified</td>\n",
       "      <td>MANHATTAN</td>\n",
       "      <td>Unspecified</td>\n",
       "      <td>Unspecified</td>\n",
       "      <td>Unspecified</td>\n",
       "      <td>Unspecified</td>\n",
       "      <td>Unspecified</td>\n",
       "      <td>Unspecified</td>\n",
       "      <td>Unspecified</td>\n",
       "      <td>Unspecified</td>\n",
       "      <td>Unspecified</td>\n",
       "      <td>N</td>\n",
       "      <td>NaN</td>\n",
       "      <td>NaN</td>\n",
       "      <td>NaN</td>\n",
       "      <td>NaN</td>\n",
       "      <td>NaN</td>\n",
       "      <td>NaN</td>\n",
       "      <td>NaN</td>\n",
       "      <td>NaN</td>\n",
       "      <td>NaN</td>\n",
       "      <td>NaN</td>\n",
       "      <td>NaN</td>\n",
       "      <td>40.80769092704951</td>\n",
       "      <td>-73.94738703491433</td>\n",
       "      <td>(40.80769092704951, -73.94738703491433)</td>\n",
       "    </tr>\n",
       "    <tr>\n",
       "      <th>...</th>\n",
       "      <td>...</td>\n",
       "      <td>...</td>\n",
       "      <td>...</td>\n",
       "      <td>...</td>\n",
       "      <td>...</td>\n",
       "      <td>...</td>\n",
       "      <td>...</td>\n",
       "      <td>...</td>\n",
       "      <td>...</td>\n",
       "      <td>...</td>\n",
       "      <td>...</td>\n",
       "      <td>...</td>\n",
       "      <td>...</td>\n",
       "      <td>...</td>\n",
       "      <td>...</td>\n",
       "      <td>...</td>\n",
       "      <td>...</td>\n",
       "      <td>...</td>\n",
       "      <td>...</td>\n",
       "      <td>...</td>\n",
       "      <td>...</td>\n",
       "      <td>...</td>\n",
       "      <td>...</td>\n",
       "      <td>...</td>\n",
       "      <td>...</td>\n",
       "      <td>...</td>\n",
       "      <td>...</td>\n",
       "      <td>...</td>\n",
       "      <td>...</td>\n",
       "      <td>...</td>\n",
       "      <td>...</td>\n",
       "      <td>...</td>\n",
       "      <td>...</td>\n",
       "      <td>...</td>\n",
       "      <td>...</td>\n",
       "      <td>...</td>\n",
       "      <td>...</td>\n",
       "      <td>...</td>\n",
       "      <td>...</td>\n",
       "      <td>...</td>\n",
       "      <td>...</td>\n",
       "      <td>...</td>\n",
       "      <td>...</td>\n",
       "      <td>...</td>\n",
       "      <td>...</td>\n",
       "      <td>...</td>\n",
       "      <td>...</td>\n",
       "      <td>...</td>\n",
       "      <td>...</td>\n",
       "      <td>...</td>\n",
       "      <td>...</td>\n",
       "      <td>...</td>\n",
       "    </tr>\n",
       "    <tr>\n",
       "      <th>111064</th>\n",
       "      <td>26426013</td>\n",
       "      <td>10/04/2013 12:01:13 AM</td>\n",
       "      <td>10/07/2013 04:07:16 PM</td>\n",
       "      <td>DPR</td>\n",
       "      <td>Department of Parks and Recreation</td>\n",
       "      <td>Maintenance or Facility</td>\n",
       "      <td>Structure - Outdoors</td>\n",
       "      <td>Park</td>\n",
       "      <td>11213</td>\n",
       "      <td>NaN</td>\n",
       "      <td>NaN</td>\n",
       "      <td>NaN</td>\n",
       "      <td>NaN</td>\n",
       "      <td>NaN</td>\n",
       "      <td>NaN</td>\n",
       "      <td>NaN</td>\n",
       "      <td>BROOKLYN</td>\n",
       "      <td>NaN</td>\n",
       "      <td>NaN</td>\n",
       "      <td>Closed</td>\n",
       "      <td>10/18/2013 12:01:13 AM</td>\n",
       "      <td>10/07/2013 04:07:16 PM</td>\n",
       "      <td>08 BROOKLYN</td>\n",
       "      <td>BROOKLYN</td>\n",
       "      <td>NaN</td>\n",
       "      <td>NaN</td>\n",
       "      <td>Brower Park</td>\n",
       "      <td>BROOKLYN</td>\n",
       "      <td>Brower Park</td>\n",
       "      <td>B012</td>\n",
       "      <td>NaN</td>\n",
       "      <td>NaN</td>\n",
       "      <td>7189658900</td>\n",
       "      <td>Brooklyn, St. Marks, Kingston Avenues, Park Place</td>\n",
       "      <td>BROOKLYN</td>\n",
       "      <td>NY</td>\n",
       "      <td>11213</td>\n",
       "      <td>N</td>\n",
       "      <td>NaN</td>\n",
       "      <td>NaN</td>\n",
       "      <td>NaN</td>\n",
       "      <td>NaN</td>\n",
       "      <td>NaN</td>\n",
       "      <td>NaN</td>\n",
       "      <td>NaN</td>\n",
       "      <td>NaN</td>\n",
       "      <td>NaN</td>\n",
       "      <td>NaN</td>\n",
       "      <td>NaN</td>\n",
       "      <td>NaN</td>\n",
       "      <td>NaN</td>\n",
       "      <td>NaN</td>\n",
       "    </tr>\n",
       "    <tr>\n",
       "      <th>111065</th>\n",
       "      <td>26428083</td>\n",
       "      <td>10/04/2013 12:01:05 AM</td>\n",
       "      <td>10/04/2013 02:13:50 AM</td>\n",
       "      <td>NYPD</td>\n",
       "      <td>New York City Police Department</td>\n",
       "      <td>Illegal Parking</td>\n",
       "      <td>Posted Parking Sign Violation</td>\n",
       "      <td>Street/Sidewalk</td>\n",
       "      <td>11434</td>\n",
       "      <td>NaN</td>\n",
       "      <td>NaN</td>\n",
       "      <td>NaN</td>\n",
       "      <td>NaN</td>\n",
       "      <td>GUY R BREWER BOULEVARD</td>\n",
       "      <td>ROCKAWAY BOULEVARD</td>\n",
       "      <td>INTERSECTION</td>\n",
       "      <td>JAMAICA</td>\n",
       "      <td>NaN</td>\n",
       "      <td>Precinct</td>\n",
       "      <td>Closed</td>\n",
       "      <td>10/04/2013 08:01:05 AM</td>\n",
       "      <td>10/04/2013 02:13:50 AM</td>\n",
       "      <td>13 QUEENS</td>\n",
       "      <td>QUEENS</td>\n",
       "      <td>1048801</td>\n",
       "      <td>178419</td>\n",
       "      <td>Unspecified</td>\n",
       "      <td>QUEENS</td>\n",
       "      <td>Unspecified</td>\n",
       "      <td>Unspecified</td>\n",
       "      <td>Unspecified</td>\n",
       "      <td>Unspecified</td>\n",
       "      <td>Unspecified</td>\n",
       "      <td>Unspecified</td>\n",
       "      <td>Unspecified</td>\n",
       "      <td>Unspecified</td>\n",
       "      <td>Unspecified</td>\n",
       "      <td>N</td>\n",
       "      <td>NaN</td>\n",
       "      <td>NaN</td>\n",
       "      <td>NaN</td>\n",
       "      <td>NaN</td>\n",
       "      <td>NaN</td>\n",
       "      <td>NaN</td>\n",
       "      <td>NaN</td>\n",
       "      <td>NaN</td>\n",
       "      <td>NaN</td>\n",
       "      <td>NaN</td>\n",
       "      <td>NaN</td>\n",
       "      <td>40.656160351546845</td>\n",
       "      <td>-73.76735262738222</td>\n",
       "      <td>(40.656160351546845, -73.76735262738222)</td>\n",
       "    </tr>\n",
       "    <tr>\n",
       "      <th>111066</th>\n",
       "      <td>26428987</td>\n",
       "      <td>10/04/2013 12:00:45 AM</td>\n",
       "      <td>10/04/2013 01:25:01 AM</td>\n",
       "      <td>NYPD</td>\n",
       "      <td>New York City Police Department</td>\n",
       "      <td>Noise - Street/Sidewalk</td>\n",
       "      <td>Loud Talking</td>\n",
       "      <td>Street/Sidewalk</td>\n",
       "      <td>10016</td>\n",
       "      <td>344 EAST 28 STREET</td>\n",
       "      <td>EAST 28 STREET</td>\n",
       "      <td>MOUNT CARMEL PLACE</td>\n",
       "      <td>1 AVENUE</td>\n",
       "      <td>NaN</td>\n",
       "      <td>NaN</td>\n",
       "      <td>ADDRESS</td>\n",
       "      <td>NEW YORK</td>\n",
       "      <td>NaN</td>\n",
       "      <td>Precinct</td>\n",
       "      <td>Closed</td>\n",
       "      <td>10/04/2013 08:00:45 AM</td>\n",
       "      <td>10/04/2013 01:25:01 AM</td>\n",
       "      <td>06 MANHATTAN</td>\n",
       "      <td>MANHATTAN</td>\n",
       "      <td>990637</td>\n",
       "      <td>208987</td>\n",
       "      <td>Unspecified</td>\n",
       "      <td>MANHATTAN</td>\n",
       "      <td>Unspecified</td>\n",
       "      <td>Unspecified</td>\n",
       "      <td>Unspecified</td>\n",
       "      <td>Unspecified</td>\n",
       "      <td>Unspecified</td>\n",
       "      <td>Unspecified</td>\n",
       "      <td>Unspecified</td>\n",
       "      <td>Unspecified</td>\n",
       "      <td>Unspecified</td>\n",
       "      <td>N</td>\n",
       "      <td>NaN</td>\n",
       "      <td>NaN</td>\n",
       "      <td>NaN</td>\n",
       "      <td>NaN</td>\n",
       "      <td>NaN</td>\n",
       "      <td>NaN</td>\n",
       "      <td>NaN</td>\n",
       "      <td>NaN</td>\n",
       "      <td>NaN</td>\n",
       "      <td>NaN</td>\n",
       "      <td>NaN</td>\n",
       "      <td>40.740295354643706</td>\n",
       "      <td>-73.97695165980414</td>\n",
       "      <td>(40.740295354643706, -73.97695165980414)</td>\n",
       "    </tr>\n",
       "    <tr>\n",
       "      <th>111067</th>\n",
       "      <td>26426115</td>\n",
       "      <td>10/04/2013 12:00:28 AM</td>\n",
       "      <td>10/04/2013 04:17:32 AM</td>\n",
       "      <td>NYPD</td>\n",
       "      <td>New York City Police Department</td>\n",
       "      <td>Noise - Commercial</td>\n",
       "      <td>Loud Talking</td>\n",
       "      <td>Club/Bar/Restaurant</td>\n",
       "      <td>11226</td>\n",
       "      <td>1233 FLATBUSH AVENUE</td>\n",
       "      <td>FLATBUSH AVENUE</td>\n",
       "      <td>AVENUE D</td>\n",
       "      <td>NEWKIRK AVENUE</td>\n",
       "      <td>NaN</td>\n",
       "      <td>NaN</td>\n",
       "      <td>ADDRESS</td>\n",
       "      <td>BROOKLYN</td>\n",
       "      <td>NaN</td>\n",
       "      <td>Precinct</td>\n",
       "      <td>Closed</td>\n",
       "      <td>10/04/2013 08:00:28 AM</td>\n",
       "      <td>10/04/2013 04:17:32 AM</td>\n",
       "      <td>14 BROOKLYN</td>\n",
       "      <td>BROOKLYN</td>\n",
       "      <td>996654</td>\n",
       "      <td>172515</td>\n",
       "      <td>Unspecified</td>\n",
       "      <td>BROOKLYN</td>\n",
       "      <td>Unspecified</td>\n",
       "      <td>Unspecified</td>\n",
       "      <td>Unspecified</td>\n",
       "      <td>Unspecified</td>\n",
       "      <td>Unspecified</td>\n",
       "      <td>Unspecified</td>\n",
       "      <td>Unspecified</td>\n",
       "      <td>Unspecified</td>\n",
       "      <td>Unspecified</td>\n",
       "      <td>N</td>\n",
       "      <td>NaN</td>\n",
       "      <td>NaN</td>\n",
       "      <td>NaN</td>\n",
       "      <td>NaN</td>\n",
       "      <td>NaN</td>\n",
       "      <td>NaN</td>\n",
       "      <td>NaN</td>\n",
       "      <td>NaN</td>\n",
       "      <td>NaN</td>\n",
       "      <td>NaN</td>\n",
       "      <td>NaN</td>\n",
       "      <td>40.64018174662485</td>\n",
       "      <td>-73.95530566958138</td>\n",
       "      <td>(40.64018174662485, -73.95530566958138)</td>\n",
       "    </tr>\n",
       "    <tr>\n",
       "      <th>111068</th>\n",
       "      <td>26428033</td>\n",
       "      <td>10/04/2013 12:00:10 AM</td>\n",
       "      <td>10/04/2013 01:20:52 AM</td>\n",
       "      <td>NYPD</td>\n",
       "      <td>New York City Police Department</td>\n",
       "      <td>Blocked Driveway</td>\n",
       "      <td>Partial Access</td>\n",
       "      <td>Street/Sidewalk</td>\n",
       "      <td>11236</td>\n",
       "      <td>1259 EAST 94 STREET</td>\n",
       "      <td>EAST 94 STREET</td>\n",
       "      <td>AVENUE J</td>\n",
       "      <td>AVENUE K</td>\n",
       "      <td>NaN</td>\n",
       "      <td>NaN</td>\n",
       "      <td>ADDRESS</td>\n",
       "      <td>BROOKLYN</td>\n",
       "      <td>NaN</td>\n",
       "      <td>Precinct</td>\n",
       "      <td>Closed</td>\n",
       "      <td>10/04/2013 08:00:10 AM</td>\n",
       "      <td>10/04/2013 01:20:52 AM</td>\n",
       "      <td>18 BROOKLYN</td>\n",
       "      <td>BROOKLYN</td>\n",
       "      <td>1011804</td>\n",
       "      <td>172470</td>\n",
       "      <td>Unspecified</td>\n",
       "      <td>BROOKLYN</td>\n",
       "      <td>Unspecified</td>\n",
       "      <td>Unspecified</td>\n",
       "      <td>Unspecified</td>\n",
       "      <td>Unspecified</td>\n",
       "      <td>Unspecified</td>\n",
       "      <td>Unspecified</td>\n",
       "      <td>Unspecified</td>\n",
       "      <td>Unspecified</td>\n",
       "      <td>Unspecified</td>\n",
       "      <td>N</td>\n",
       "      <td>NaN</td>\n",
       "      <td>NaN</td>\n",
       "      <td>NaN</td>\n",
       "      <td>NaN</td>\n",
       "      <td>NaN</td>\n",
       "      <td>NaN</td>\n",
       "      <td>NaN</td>\n",
       "      <td>NaN</td>\n",
       "      <td>NaN</td>\n",
       "      <td>NaN</td>\n",
       "      <td>NaN</td>\n",
       "      <td>40.640024057399216</td>\n",
       "      <td>-73.90071711703163</td>\n",
       "      <td>(40.640024057399216, -73.90071711703163)</td>\n",
       "    </tr>\n",
       "  </tbody>\n",
       "</table>\n",
       "<p>111069 rows × 52 columns</p>\n",
       "</div>"
      ],
      "text/plain": [
       "       Unique Key            Created Date             Closed Date Agency                              Agency Name           Complaint Type                     Descriptor        Location Type Incident Zip      Incident Address      Street Name      Cross Street 1                    Cross Street 2   Intersection Street 1 Intersection Street 2  Address Type      City Landmark Facility Type    Status                Due Date Resolution Action Updated Date Community Board    Borough X Coordinate (State Plane) Y Coordinate (State Plane) Park Facility Name Park Borough  School Name School Number School Region  School Code School Phone Number                                     School Address  School City School State   School Zip School Not Found School or Citywide Complaint Vehicle Type Taxi Company Borough Taxi Pick Up Location Bridge Highway Name Bridge Highway Direction Road Ramp Bridge Highway Segment Garage Lot Name Ferry Direction Ferry Terminal Name            Latitude           Longitude                                  Location\n",
       "0        26589651  10/31/2013 02:08:41 AM                     NaN   NYPD          New York City Police Department  Noise - Street/Sidewalk                   Loud Talking      Street/Sidewalk        11432      90-03 169 STREET       169 STREET           90 AVENUE                         91 AVENUE                     NaN                   NaN       ADDRESS   JAMAICA      NaN      Precinct  Assigned  10/31/2013 10:08:41 AM         10/31/2013 02:35:17 AM       12 QUEENS     QUEENS                    1042027                     197389        Unspecified       QUEENS  Unspecified   Unspecified   Unspecified  Unspecified         Unspecified                                        Unspecified  Unspecified  Unspecified  Unspecified                N                          NaN          NaN                  NaN                   NaN                 NaN                      NaN       NaN                    NaN             NaN             NaN                 NaN   40.70827532593202  -73.79160395779721   (40.70827532593202, -73.79160395779721)\n",
       "1        26593698  10/31/2013 02:01:04 AM                     NaN   NYPD          New York City Police Department          Illegal Parking   Commercial Overnight Parking      Street/Sidewalk        11378             58 AVENUE        58 AVENUE            58 PLACE                         59 STREET                     NaN                   NaN     BLOCKFACE   MASPETH      NaN      Precinct      Open  10/31/2013 10:01:04 AM                            NaN       05 QUEENS     QUEENS                    1009349                     201984        Unspecified       QUEENS  Unspecified   Unspecified   Unspecified  Unspecified         Unspecified                                        Unspecified  Unspecified  Unspecified  Unspecified                N                          NaN          NaN                  NaN                   NaN                 NaN                      NaN       NaN                    NaN             NaN             NaN                 NaN  40.721040535628305  -73.90945306791765  (40.721040535628305, -73.90945306791765)\n",
       "2        26594139  10/31/2013 02:00:24 AM  10/31/2013 02:40:32 AM   NYPD          New York City Police Department       Noise - Commercial               Loud Music/Party  Club/Bar/Restaurant        10032         4060 BROADWAY         BROADWAY     WEST 171 STREET                   WEST 172 STREET                     NaN                   NaN       ADDRESS  NEW YORK      NaN      Precinct    Closed  10/31/2013 10:00:24 AM         10/31/2013 02:39:42 AM    12 MANHATTAN  MANHATTAN                    1001088                     246531        Unspecified    MANHATTAN  Unspecified   Unspecified   Unspecified  Unspecified         Unspecified                                        Unspecified  Unspecified  Unspecified  Unspecified                N                          NaN          NaN                  NaN                   NaN                 NaN                      NaN       NaN                    NaN             NaN             NaN                 NaN   40.84332975466513  -73.93914371913482   (40.84332975466513, -73.93914371913482)\n",
       "3        26595721  10/31/2013 01:56:23 AM  10/31/2013 02:21:48 AM   NYPD          New York City Police Department          Noise - Vehicle                 Car/Truck Horn      Street/Sidewalk        10023        WEST 72 STREET   WEST 72 STREET     COLUMBUS AVENUE                  AMSTERDAM AVENUE                     NaN                   NaN     BLOCKFACE  NEW YORK      NaN      Precinct    Closed  10/31/2013 09:56:23 AM         10/31/2013 02:21:10 AM    07 MANHATTAN  MANHATTAN                     989730                     222727        Unspecified    MANHATTAN  Unspecified   Unspecified   Unspecified  Unspecified         Unspecified                                        Unspecified  Unspecified  Unspecified  Unspecified                N                          NaN          NaN                  NaN                   NaN                 NaN                      NaN       NaN                    NaN             NaN             NaN                 NaN    40.7780087446372  -73.98021349023975    (40.7780087446372, -73.98021349023975)\n",
       "4        26590930  10/31/2013 01:53:44 AM                     NaN  DOHMH  Department of Health and Mental Hygiene                   Rodent   Condition Attracting Rodents           Vacant Lot        10027       WEST 124 STREET  WEST 124 STREET        LENOX AVENUE  ADAM CLAYTON POWELL JR BOULEVARD                     NaN                   NaN     BLOCKFACE  NEW YORK      NaN           NaN   Pending  11/30/2013 01:53:44 AM         10/31/2013 01:59:54 AM    10 MANHATTAN  MANHATTAN                     998815                     233545        Unspecified    MANHATTAN  Unspecified   Unspecified   Unspecified  Unspecified         Unspecified                                        Unspecified  Unspecified  Unspecified  Unspecified                N                          NaN          NaN                  NaN                   NaN                 NaN                      NaN       NaN                    NaN             NaN             NaN                 NaN   40.80769092704951  -73.94738703491433   (40.80769092704951, -73.94738703491433)\n",
       "...           ...                     ...                     ...    ...                                      ...                      ...                            ...                  ...          ...                   ...              ...                 ...                               ...                     ...                   ...           ...       ...      ...           ...       ...                     ...                            ...             ...        ...                        ...                        ...                ...          ...          ...           ...           ...          ...                 ...                                                ...          ...          ...          ...              ...                          ...          ...                  ...                   ...                 ...                      ...       ...                    ...             ...             ...                 ...                 ...                 ...                                       ...\n",
       "111064   26426013  10/04/2013 12:01:13 AM  10/07/2013 04:07:16 PM    DPR       Department of Parks and Recreation  Maintenance or Facility           Structure - Outdoors                 Park        11213                   NaN              NaN                 NaN                               NaN                     NaN                   NaN           NaN  BROOKLYN      NaN           NaN    Closed  10/18/2013 12:01:13 AM         10/07/2013 04:07:16 PM     08 BROOKLYN   BROOKLYN                        NaN                        NaN        Brower Park     BROOKLYN  Brower Park          B012           NaN          NaN          7189658900  Brooklyn, St. Marks, Kingston Avenues, Park Place     BROOKLYN           NY        11213                N                          NaN          NaN                  NaN                   NaN                 NaN                      NaN       NaN                    NaN             NaN             NaN                 NaN                 NaN                 NaN                                       NaN\n",
       "111065   26428083  10/04/2013 12:01:05 AM  10/04/2013 02:13:50 AM   NYPD          New York City Police Department          Illegal Parking  Posted Parking Sign Violation      Street/Sidewalk        11434                   NaN              NaN                 NaN                               NaN  GUY R BREWER BOULEVARD    ROCKAWAY BOULEVARD  INTERSECTION   JAMAICA      NaN      Precinct    Closed  10/04/2013 08:01:05 AM         10/04/2013 02:13:50 AM       13 QUEENS     QUEENS                    1048801                     178419        Unspecified       QUEENS  Unspecified   Unspecified   Unspecified  Unspecified         Unspecified                                        Unspecified  Unspecified  Unspecified  Unspecified                N                          NaN          NaN                  NaN                   NaN                 NaN                      NaN       NaN                    NaN             NaN             NaN                 NaN  40.656160351546845  -73.76735262738222  (40.656160351546845, -73.76735262738222)\n",
       "111066   26428987  10/04/2013 12:00:45 AM  10/04/2013 01:25:01 AM   NYPD          New York City Police Department  Noise - Street/Sidewalk                   Loud Talking      Street/Sidewalk        10016    344 EAST 28 STREET   EAST 28 STREET  MOUNT CARMEL PLACE                          1 AVENUE                     NaN                   NaN       ADDRESS  NEW YORK      NaN      Precinct    Closed  10/04/2013 08:00:45 AM         10/04/2013 01:25:01 AM    06 MANHATTAN  MANHATTAN                     990637                     208987        Unspecified    MANHATTAN  Unspecified   Unspecified   Unspecified  Unspecified         Unspecified                                        Unspecified  Unspecified  Unspecified  Unspecified                N                          NaN          NaN                  NaN                   NaN                 NaN                      NaN       NaN                    NaN             NaN             NaN                 NaN  40.740295354643706  -73.97695165980414  (40.740295354643706, -73.97695165980414)\n",
       "111067   26426115  10/04/2013 12:00:28 AM  10/04/2013 04:17:32 AM   NYPD          New York City Police Department       Noise - Commercial                   Loud Talking  Club/Bar/Restaurant        11226  1233 FLATBUSH AVENUE  FLATBUSH AVENUE            AVENUE D                    NEWKIRK AVENUE                     NaN                   NaN       ADDRESS  BROOKLYN      NaN      Precinct    Closed  10/04/2013 08:00:28 AM         10/04/2013 04:17:32 AM     14 BROOKLYN   BROOKLYN                     996654                     172515        Unspecified     BROOKLYN  Unspecified   Unspecified   Unspecified  Unspecified         Unspecified                                        Unspecified  Unspecified  Unspecified  Unspecified                N                          NaN          NaN                  NaN                   NaN                 NaN                      NaN       NaN                    NaN             NaN             NaN                 NaN   40.64018174662485  -73.95530566958138   (40.64018174662485, -73.95530566958138)\n",
       "111068   26428033  10/04/2013 12:00:10 AM  10/04/2013 01:20:52 AM   NYPD          New York City Police Department         Blocked Driveway                 Partial Access      Street/Sidewalk        11236   1259 EAST 94 STREET   EAST 94 STREET            AVENUE J                          AVENUE K                     NaN                   NaN       ADDRESS  BROOKLYN      NaN      Precinct    Closed  10/04/2013 08:00:10 AM         10/04/2013 01:20:52 AM     18 BROOKLYN   BROOKLYN                    1011804                     172470        Unspecified     BROOKLYN  Unspecified   Unspecified   Unspecified  Unspecified         Unspecified                                        Unspecified  Unspecified  Unspecified  Unspecified                N                          NaN          NaN                  NaN                   NaN                 NaN                      NaN       NaN                    NaN             NaN             NaN                 NaN  40.640024057399216  -73.90071711703163  (40.640024057399216, -73.90071711703163)\n",
       "\n",
       "[111069 rows x 52 columns]"
      ]
     },
     "execution_count": 7,
     "metadata": {},
     "output_type": "execute_result"
    }
   ],
   "source": [
    "complaints"
   ]
  },
  {
   "cell_type": "code",
   "execution_count": 8,
   "id": "8976484f-852e-4171-a1dd-b939056ae902",
   "metadata": {
    "execution": {
     "iopub.execute_input": "2023-06-29T09:48:45.318800Z",
     "iopub.status.busy": "2023-06-29T09:48:45.318527Z",
     "iopub.status.idle": "2023-06-29T09:48:45.322837Z",
     "shell.execute_reply": "2023-06-29T09:48:45.322067Z"
    }
   },
   "outputs": [],
   "source": [
    "assert len(complaints) == 111069"
   ]
  },
  {
   "cell_type": "markdown",
   "id": "30da09e0",
   "metadata": {},
   "source": [
    "## Create Mock data"
   ]
  },
  {
   "cell_type": "code",
   "execution_count": 9,
   "id": "edec9a15",
   "metadata": {
    "execution": {
     "iopub.execute_input": "2023-06-29T09:48:45.325558Z",
     "iopub.status.busy": "2023-06-29T09:48:45.325316Z",
     "iopub.status.idle": "2023-06-29T09:48:45.385822Z",
     "shell.execute_reply": "2023-06-29T09:48:45.384751Z"
    },
    "tags": []
   },
   "outputs": [],
   "source": [
    "from syft.serde.mock import CachedFaker\n",
    "from random import randint\n",
    "import random"
   ]
  },
  {
   "cell_type": "markdown",
   "id": "5aebe627",
   "metadata": {},
   "source": [
    "Let's create the mock data for the complaint dataset."
   ]
  },
  {
   "cell_type": "code",
   "execution_count": 10,
   "id": "aaca029e",
   "metadata": {
    "execution": {
     "iopub.execute_input": "2023-06-29T09:48:45.389382Z",
     "iopub.status.busy": "2023-06-29T09:48:45.388973Z",
     "iopub.status.idle": "2023-06-29T09:48:45.426819Z",
     "shell.execute_reply": "2023-06-29T09:48:45.425796Z"
    },
    "tags": []
   },
   "outputs": [],
   "source": [
    "fake = CachedFaker()"
   ]
  },
  {
   "cell_type": "code",
   "execution_count": 11,
   "id": "33bf792a",
   "metadata": {
    "execution": {
     "iopub.execute_input": "2023-06-29T09:48:45.431509Z",
     "iopub.status.busy": "2023-06-29T09:48:45.430822Z",
     "iopub.status.idle": "2023-06-29T09:48:45.438146Z",
     "shell.execute_reply": "2023-06-29T09:48:45.437346Z"
    },
    "tags": []
   },
   "outputs": [],
   "source": [
    "fake_functions = {\n",
    "    \"Unique Key\": lambda x: randint(1,1000000),\n",
    "    \"Location\": lambda x: (fake.coordinate(), fake.coordinate()),\n",
    "    \"Agency\": lambda x: random.choice([\"NYPD\", \"DOHMH\", \"DPR\"]),\n",
    "    \"X Coordinate (State Plane)\": lambda x: randint(1,1000000),\n",
    "    \"Y Coordinate (State Plane)\": lambda x: randint(1,1000000),\n",
    "    \"Complaint Type\": lambda x: random.choice([\"Illegal Parking\", \"Noise - Street/Sidewalk\", \"'Animal in a Park'\"]),\n",
    "    \"Descriptor\": lambda x: random.choice([ 'Branch or Limb Has Fallen Down','Branches Damaged','Broken Fence', 'Broken Glass']),\n",
    "    \"School Number\": lambda x: random.choice([ 'B073', 'B077', 'B079', 'B080-01', 'B087', 'B099', 'B100', 'B102', 'B109', 'B111']),\n",
    "    \"Bridge Highway Segment\": lambda x: random.choice([ 'Grand Central Pkwy (Exit 1 E-W)',\n",
    "                                                       'Grand Central Pkwy (Exit 10) - 69th Rd-Jewel Ave (Exit 11)',\n",
    "                                                       'GrandCentral Pkwy/VanWyck Expwy/College Point Blvd (Exit 22 A-E)',\n",
    "                                                       'Hamilton Ave (Exit 2A) - Gowanus Expwy (I-278) (Exit 1)',\n",
    "                                                       'Harding Ave (Exit 9) - Throgs Neck Br'])\n",
    "}"
   ]
  },
  {
   "cell_type": "code",
   "execution_count": 12,
   "id": "14883cf9",
   "metadata": {
    "execution": {
     "iopub.execute_input": "2023-06-29T09:48:45.441192Z",
     "iopub.status.busy": "2023-06-29T09:48:45.440816Z",
     "iopub.status.idle": "2023-06-29T09:48:45.446888Z",
     "shell.execute_reply": "2023-06-29T09:48:45.446141Z"
    },
    "tags": []
   },
   "outputs": [],
   "source": [
    "fake_triggers = {\n",
    "    \"Street\": lambda x : fake.street_name(),\n",
    "    \"Date\": lambda x : fake.date_time(),\n",
    "    \"Long\": lambda x : fake.coordinate(),\n",
    "    \"Lat\": lambda x : fake.coordinate(),\n",
    "    \"Address\": lambda x : fake.address(),\n",
    "    \"Name\": lambda x : fake.name(),\n",
    "    \"City\": lambda x : fake.city(),\n",
    "    \"Zip\": lambda x : fake.zipcode(),\n",
    "}"
   ]
  },
  {
   "cell_type": "code",
   "execution_count": 13,
   "id": "ce64d92b",
   "metadata": {
    "execution": {
     "iopub.execute_input": "2023-06-29T09:48:45.449980Z",
     "iopub.status.busy": "2023-06-29T09:48:45.449583Z",
     "iopub.status.idle": "2023-06-29T09:48:56.600348Z",
     "shell.execute_reply": "2023-06-29T09:48:56.599282Z"
    },
    "tags": []
   },
   "outputs": [],
   "source": [
    "mock_data = dict()\n",
    "for col in complaints.columns:\n",
    "    col_vals = complaints[col]\n",
    "    \n",
    "    if col in fake_functions:\n",
    "        mock_func = fake_functions[col]\n",
    "    elif len(set(complaints[col])) < 100:\n",
    "        values = list(set(complaints[col]))\n",
    "        mock_func = lambda x: random.choice(values)\n",
    "    else:\n",
    "        for trigger in fake_triggers.keys():\n",
    "            if trigger in col:\n",
    "                mock_func = fake_triggers[trigger]\n",
    "    mock_data[col] = [mock_func(None) for x in range(len(complaints))]"
   ]
  },
  {
   "cell_type": "code",
   "execution_count": 14,
   "id": "1a5047e6",
   "metadata": {
    "execution": {
     "iopub.execute_input": "2023-06-29T09:48:56.605732Z",
     "iopub.status.busy": "2023-06-29T09:48:56.604819Z",
     "iopub.status.idle": "2023-06-29T09:48:58.422106Z",
     "shell.execute_reply": "2023-06-29T09:48:58.421178Z"
    },
    "tags": []
   },
   "outputs": [],
   "source": [
    "mock = pd.DataFrame(data=mock_data)"
   ]
  },
  {
   "cell_type": "code",
   "execution_count": 15,
   "id": "91c3150b",
   "metadata": {
    "execution": {
     "iopub.execute_input": "2023-06-29T09:48:58.426337Z",
     "iopub.status.busy": "2023-06-29T09:48:58.425616Z",
     "iopub.status.idle": "2023-06-29T09:48:58.457844Z",
     "shell.execute_reply": "2023-06-29T09:48:58.456850Z"
    },
    "tags": []
   },
   "outputs": [
    {
     "data": {
      "text/html": [
       "<div>\n",
       "<style scoped>\n",
       "    .dataframe tbody tr th:only-of-type {\n",
       "        vertical-align: middle;\n",
       "    }\n",
       "\n",
       "    .dataframe tbody tr th {\n",
       "        vertical-align: top;\n",
       "    }\n",
       "\n",
       "    .dataframe thead th {\n",
       "        text-align: right;\n",
       "    }\n",
       "</style>\n",
       "<table border=\"1\" class=\"dataframe\">\n",
       "  <thead>\n",
       "    <tr style=\"text-align: right;\">\n",
       "      <th></th>\n",
       "      <th>Unique Key</th>\n",
       "      <th>Created Date</th>\n",
       "      <th>Closed Date</th>\n",
       "      <th>Agency</th>\n",
       "      <th>Agency Name</th>\n",
       "      <th>Complaint Type</th>\n",
       "      <th>Descriptor</th>\n",
       "      <th>Location Type</th>\n",
       "      <th>Incident Zip</th>\n",
       "      <th>Incident Address</th>\n",
       "      <th>Street Name</th>\n",
       "      <th>Cross Street 1</th>\n",
       "      <th>Cross Street 2</th>\n",
       "      <th>Intersection Street 1</th>\n",
       "      <th>Intersection Street 2</th>\n",
       "      <th>Address Type</th>\n",
       "      <th>City</th>\n",
       "      <th>Landmark</th>\n",
       "      <th>Facility Type</th>\n",
       "      <th>Status</th>\n",
       "      <th>Due Date</th>\n",
       "      <th>Resolution Action Updated Date</th>\n",
       "      <th>Community Board</th>\n",
       "      <th>Borough</th>\n",
       "      <th>X Coordinate (State Plane)</th>\n",
       "      <th>Y Coordinate (State Plane)</th>\n",
       "      <th>Park Facility Name</th>\n",
       "      <th>Park Borough</th>\n",
       "      <th>School Name</th>\n",
       "      <th>School Number</th>\n",
       "      <th>School Region</th>\n",
       "      <th>School Code</th>\n",
       "      <th>School Phone Number</th>\n",
       "      <th>School Address</th>\n",
       "      <th>School City</th>\n",
       "      <th>School State</th>\n",
       "      <th>School Zip</th>\n",
       "      <th>School Not Found</th>\n",
       "      <th>School or Citywide Complaint</th>\n",
       "      <th>Vehicle Type</th>\n",
       "      <th>Taxi Company Borough</th>\n",
       "      <th>Taxi Pick Up Location</th>\n",
       "      <th>Bridge Highway Name</th>\n",
       "      <th>Bridge Highway Direction</th>\n",
       "      <th>Road Ramp</th>\n",
       "      <th>Bridge Highway Segment</th>\n",
       "      <th>Garage Lot Name</th>\n",
       "      <th>Ferry Direction</th>\n",
       "      <th>Ferry Terminal Name</th>\n",
       "      <th>Latitude</th>\n",
       "      <th>Longitude</th>\n",
       "      <th>Location</th>\n",
       "    </tr>\n",
       "  </thead>\n",
       "  <tbody>\n",
       "    <tr>\n",
       "      <th>0</th>\n",
       "      <td>223650</td>\n",
       "      <td>1988-06-09 11:45:51</td>\n",
       "      <td>2002-11-16 10:15:00</td>\n",
       "      <td>DOHMH</td>\n",
       "      <td>Greg Alexander</td>\n",
       "      <td>Noise - Street/Sidewalk</td>\n",
       "      <td>Broken Fence</td>\n",
       "      <td>Cafeteria - College/University</td>\n",
       "      <td>36247</td>\n",
       "      <td>80057 Walker Mountain\\nWest Penny, NC 06440</td>\n",
       "      <td>James Turner</td>\n",
       "      <td>Rogers Roads</td>\n",
       "      <td>Rogers Roads</td>\n",
       "      <td>Payne Ramp</td>\n",
       "      <td>Ashley Plains</td>\n",
       "      <td>ADDRESS</td>\n",
       "      <td>South Danielleland</td>\n",
       "      <td>LINCOLN CENTER</td>\n",
       "      <td>School</td>\n",
       "      <td>Open</td>\n",
       "      <td>1982-01-03 01:12:47</td>\n",
       "      <td>1987-04-16 02:46:54</td>\n",
       "      <td>Unspecified STATEN ISLAND</td>\n",
       "      <td>QUEENS</td>\n",
       "      <td>578703</td>\n",
       "      <td>640159</td>\n",
       "      <td>Jamie King</td>\n",
       "      <td>QUEENS</td>\n",
       "      <td>Kevin Jackson</td>\n",
       "      <td>B111</td>\n",
       "      <td>Region 6</td>\n",
       "      <td>21K226</td>\n",
       "      <td>7187201010</td>\n",
       "      <td>341 Graham Freeway\\nJohnmouth, RI 33416</td>\n",
       "      <td>ASTORIA</td>\n",
       "      <td>Unspecified</td>\n",
       "      <td>31626</td>\n",
       "      <td>NaN</td>\n",
       "      <td>NaN</td>\n",
       "      <td>Car Service</td>\n",
       "      <td>STATEN ISLAND</td>\n",
       "      <td>JFK Airport</td>\n",
       "      <td>Staten Island Expwy</td>\n",
       "      <td>Southbound/To OuterBr Cr</td>\n",
       "      <td>Roadway</td>\n",
       "      <td>Grand Central Pkwy (Exit 1 E-W)</td>\n",
       "      <td>Flatbush/Caton Field</td>\n",
       "      <td>NaN</td>\n",
       "      <td>Austen</td>\n",
       "      <td>91.711116</td>\n",
       "      <td>-130.717920</td>\n",
       "      <td>(-24.929879, -123.653277)</td>\n",
       "    </tr>\n",
       "    <tr>\n",
       "      <th>1</th>\n",
       "      <td>631297</td>\n",
       "      <td>2019-09-22 08:28:25</td>\n",
       "      <td>1979-09-24 11:52:35</td>\n",
       "      <td>NYPD</td>\n",
       "      <td>Tracy Brown</td>\n",
       "      <td>'Animal in a Park'</td>\n",
       "      <td>Broken Fence</td>\n",
       "      <td>Vehicle Lane</td>\n",
       "      <td>71268</td>\n",
       "      <td>78718 Miguel Ways Apt. 062\\nBooneton, LA 41645</td>\n",
       "      <td>Jason Garcia</td>\n",
       "      <td>Troy Courts</td>\n",
       "      <td>Mathew Squares</td>\n",
       "      <td>Wheeler Rest</td>\n",
       "      <td>Nguyen Oval</td>\n",
       "      <td>BLOCKFACE</td>\n",
       "      <td>Garciachester</td>\n",
       "      <td>JACKIE ROBINSON PARK</td>\n",
       "      <td>NaN</td>\n",
       "      <td>Pending</td>\n",
       "      <td>1985-02-27 10:39:36</td>\n",
       "      <td>1982-01-03 01:12:47</td>\n",
       "      <td>04 BROOKLYN</td>\n",
       "      <td>STATEN ISLAND</td>\n",
       "      <td>988190</td>\n",
       "      <td>49575</td>\n",
       "      <td>Katie Olsen</td>\n",
       "      <td>STATEN ISLAND</td>\n",
       "      <td>Lori Long</td>\n",
       "      <td>B111</td>\n",
       "      <td>Region 3</td>\n",
       "      <td>01M361</td>\n",
       "      <td>2124472020</td>\n",
       "      <td>93373 Debra Common Suite 256\\nSmithland, AK 21212</td>\n",
       "      <td>ROSEDALE</td>\n",
       "      <td>NY</td>\n",
       "      <td>72133</td>\n",
       "      <td>NaN</td>\n",
       "      <td>NaN</td>\n",
       "      <td>Car Service</td>\n",
       "      <td>BROOKLYN</td>\n",
       "      <td>Intersection</td>\n",
       "      <td>Van Wyck Expwy</td>\n",
       "      <td>North Bound</td>\n",
       "      <td>Roadway</td>\n",
       "      <td>Harding Ave (Exit 9) - Throgs Neck Br</td>\n",
       "      <td>Flushing #1 Field</td>\n",
       "      <td>Staten Island Bound</td>\n",
       "      <td>MARIE THEANO</td>\n",
       "      <td>-85.788331</td>\n",
       "      <td>13.441499</td>\n",
       "      <td>(-36.724659, 91.711116)</td>\n",
       "    </tr>\n",
       "    <tr>\n",
       "      <th>2</th>\n",
       "      <td>20753</td>\n",
       "      <td>1983-07-25 03:06:56</td>\n",
       "      <td>1987-11-07 18:01:12</td>\n",
       "      <td>DOHMH</td>\n",
       "      <td>Mary Ruiz</td>\n",
       "      <td>'Animal in a Park'</td>\n",
       "      <td>Broken Glass</td>\n",
       "      <td>Other (explain in Complaint Details)</td>\n",
       "      <td>51177</td>\n",
       "      <td>699 Humphrey Falls Apt. 112\\nPort Carrie, LA 3...</td>\n",
       "      <td>Brian Gilbert</td>\n",
       "      <td>Felicia Rest</td>\n",
       "      <td>Banks Cliff</td>\n",
       "      <td>Janice View</td>\n",
       "      <td>Schmidt Well</td>\n",
       "      <td>INTERSECTION</td>\n",
       "      <td>Christopherhaven</td>\n",
       "      <td>BARCLAYS CENTER</td>\n",
       "      <td>NaN</td>\n",
       "      <td>Email Sent</td>\n",
       "      <td>1978-12-27 20:25:24</td>\n",
       "      <td>2017-01-12 05:29:59</td>\n",
       "      <td>03 BRONX</td>\n",
       "      <td>QUEENS</td>\n",
       "      <td>112474</td>\n",
       "      <td>885226</td>\n",
       "      <td>Edward Freeman</td>\n",
       "      <td>STATEN ISLAND</td>\n",
       "      <td>Kevin Jackson</td>\n",
       "      <td>B109</td>\n",
       "      <td>Region 4</td>\n",
       "      <td>28Q072</td>\n",
       "      <td>2122553705</td>\n",
       "      <td>823 Sawyer Trail\\nElizabethhaven, NC 63189</td>\n",
       "      <td>SPRINGFIELD GARDENS</td>\n",
       "      <td>NY</td>\n",
       "      <td>32519</td>\n",
       "      <td>Y</td>\n",
       "      <td>NaN</td>\n",
       "      <td>NaN</td>\n",
       "      <td>QUEENS</td>\n",
       "      <td>New York-Penn Station</td>\n",
       "      <td>Eastern Blvd Br - Edgewater Rd</td>\n",
       "      <td>South/New Jersey Bound</td>\n",
       "      <td>Ramp</td>\n",
       "      <td>Hamilton Ave (Exit 2A) - Gowanus Expwy (I-278)...</td>\n",
       "      <td>Bayside Field</td>\n",
       "      <td>Manhattan Bound</td>\n",
       "      <td>JUNE AGARRATT</td>\n",
       "      <td>22.999213</td>\n",
       "      <td>-136.272950</td>\n",
       "      <td>(13.441499, -8.940573)</td>\n",
       "    </tr>\n",
       "    <tr>\n",
       "      <th>3</th>\n",
       "      <td>936304</td>\n",
       "      <td>1984-05-12 00:51:58</td>\n",
       "      <td>1999-09-18 19:25:56</td>\n",
       "      <td>DOHMH</td>\n",
       "      <td>Leslie Shaw</td>\n",
       "      <td>'Animal in a Park'</td>\n",
       "      <td>Branches Damaged</td>\n",
       "      <td>Pier</td>\n",
       "      <td>51549</td>\n",
       "      <td>823 Sawyer Trail\\nElizabethhaven, NC 63189</td>\n",
       "      <td>Adrian Bowman</td>\n",
       "      <td>Nathaniel Ville</td>\n",
       "      <td>Tony Turnpike</td>\n",
       "      <td>Dillon Drive</td>\n",
       "      <td>Ruiz Causeway</td>\n",
       "      <td>NaN</td>\n",
       "      <td>New Marychester</td>\n",
       "      <td>GRAND ARMY PLAZA</td>\n",
       "      <td>Precinct</td>\n",
       "      <td>Pending</td>\n",
       "      <td>2021-10-15 11:03:51</td>\n",
       "      <td>1983-10-08 08:25:14</td>\n",
       "      <td>09 BRONX</td>\n",
       "      <td>QUEENS</td>\n",
       "      <td>94069</td>\n",
       "      <td>60419</td>\n",
       "      <td>Chad Cook</td>\n",
       "      <td>QUEENS</td>\n",
       "      <td>Teresa Joseph</td>\n",
       "      <td>B109</td>\n",
       "      <td>NaN</td>\n",
       "      <td>19K273</td>\n",
       "      <td>2123603444</td>\n",
       "      <td>741 Mitchell Turnpike Apt. 189\\nNorth Aaron, F...</td>\n",
       "      <td>WOODSIDE</td>\n",
       "      <td>NY</td>\n",
       "      <td>46252</td>\n",
       "      <td>N</td>\n",
       "      <td>NaN</td>\n",
       "      <td>Ambulette / Paratransit</td>\n",
       "      <td>BRONX</td>\n",
       "      <td>JFK Airport</td>\n",
       "      <td>Henry Hudson Pkwy/Rt 9A</td>\n",
       "      <td>North/Westbound (To GW Br)</td>\n",
       "      <td>Ramp</td>\n",
       "      <td>GrandCentral Pkwy/VanWyck Expwy/College Point ...</td>\n",
       "      <td>White Plains Road  Field</td>\n",
       "      <td>Staten Island Bound</td>\n",
       "      <td>JUNE AGARRATT</td>\n",
       "      <td>-90.964166</td>\n",
       "      <td>2.549467</td>\n",
       "      <td>(79.330026, 123.538000)</td>\n",
       "    </tr>\n",
       "    <tr>\n",
       "      <th>4</th>\n",
       "      <td>377465</td>\n",
       "      <td>2004-01-06 09:26:20</td>\n",
       "      <td>2001-02-10 17:31:00</td>\n",
       "      <td>DOHMH</td>\n",
       "      <td>Patricia Mcclure</td>\n",
       "      <td>Noise - Street/Sidewalk</td>\n",
       "      <td>Broken Fence</td>\n",
       "      <td>Store/Commercial</td>\n",
       "      <td>62542</td>\n",
       "      <td>78095 Kimberly Skyway Suite 391\\nNorth Douglas...</td>\n",
       "      <td>Dennis Murillo</td>\n",
       "      <td>Janice View</td>\n",
       "      <td>Sherman Wells</td>\n",
       "      <td>Glenn Viaduct</td>\n",
       "      <td>Martinez Union</td>\n",
       "      <td>ADDRESS</td>\n",
       "      <td>Robinsonside</td>\n",
       "      <td>CITI FIELD</td>\n",
       "      <td>School</td>\n",
       "      <td>Email Sent</td>\n",
       "      <td>2012-09-23 09:24:09</td>\n",
       "      <td>2009-07-15 17:17:08</td>\n",
       "      <td>08 QUEENS</td>\n",
       "      <td>BROOKLYN</td>\n",
       "      <td>175497</td>\n",
       "      <td>605797</td>\n",
       "      <td>Timothy Murphy</td>\n",
       "      <td>BROOKLYN</td>\n",
       "      <td>Joseph Smith</td>\n",
       "      <td>B073</td>\n",
       "      <td>Region 7</td>\n",
       "      <td>31R030</td>\n",
       "      <td>2123603444</td>\n",
       "      <td>78095 Kimberly Skyway Suite 391\\nNorth Douglas...</td>\n",
       "      <td>CORONA</td>\n",
       "      <td>Unspecified</td>\n",
       "      <td>08278</td>\n",
       "      <td>Y</td>\n",
       "      <td>NaN</td>\n",
       "      <td>Car Service</td>\n",
       "      <td>BROOKLYN</td>\n",
       "      <td>NaN</td>\n",
       "      <td>Henry Hudson Pkwy/Rt 9A</td>\n",
       "      <td>Southbound</td>\n",
       "      <td>Roadway</td>\n",
       "      <td>Grand Central Pkwy (Exit 10) - 69th Rd-Jewel A...</td>\n",
       "      <td>Ave M Field</td>\n",
       "      <td>Manhattan Bound</td>\n",
       "      <td>NaN</td>\n",
       "      <td>-123.653277</td>\n",
       "      <td>0.418522</td>\n",
       "      <td>(-62.450887, -24.929879)</td>\n",
       "    </tr>\n",
       "  </tbody>\n",
       "</table>\n",
       "</div>"
      ],
      "text/plain": [
       "   Unique Key        Created Date         Closed Date Agency       Agency Name           Complaint Type        Descriptor                         Location Type Incident Zip                                   Incident Address     Street Name   Cross Street 1  Cross Street 2 Intersection Street 1 Intersection Street 2  Address Type                City              Landmark Facility Type      Status            Due Date Resolution Action Updated Date            Community Board        Borough  X Coordinate (State Plane)  Y Coordinate (State Plane) Park Facility Name   Park Borough    School Name School Number School Region School Code School Phone Number                                     School Address          School City School State School Zip School Not Found  School or Citywide Complaint             Vehicle Type Taxi Company Borough  Taxi Pick Up Location             Bridge Highway Name    Bridge Highway Direction Road Ramp                             Bridge Highway Segment           Garage Lot Name      Ferry Direction Ferry Terminal Name     Latitude    Longitude                   Location\n",
       "0      223650 1988-06-09 11:45:51 2002-11-16 10:15:00  DOHMH    Greg Alexander  Noise - Street/Sidewalk      Broken Fence        Cafeteria - College/University        36247        80057 Walker Mountain\\nWest Penny, NC 06440    James Turner     Rogers Roads    Rogers Roads            Payne Ramp         Ashley Plains       ADDRESS  South Danielleland        LINCOLN CENTER        School        Open 1982-01-03 01:12:47            1987-04-16 02:46:54  Unspecified STATEN ISLAND         QUEENS                      578703                      640159         Jamie King         QUEENS  Kevin Jackson          B111      Region 6      21K226          7187201010            341 Graham Freeway\\nJohnmouth, RI 33416              ASTORIA  Unspecified      31626              NaN                           NaN              Car Service        STATEN ISLAND            JFK Airport             Staten Island Expwy    Southbound/To OuterBr Cr   Roadway                    Grand Central Pkwy (Exit 1 E-W)      Flatbush/Caton Field                  NaN              Austen    91.711116  -130.717920  (-24.929879, -123.653277)\n",
       "1      631297 2019-09-22 08:28:25 1979-09-24 11:52:35   NYPD       Tracy Brown       'Animal in a Park'      Broken Fence                          Vehicle Lane        71268     78718 Miguel Ways Apt. 062\\nBooneton, LA 41645    Jason Garcia      Troy Courts  Mathew Squares          Wheeler Rest           Nguyen Oval     BLOCKFACE       Garciachester  JACKIE ROBINSON PARK           NaN     Pending 1985-02-27 10:39:36            1982-01-03 01:12:47                04 BROOKLYN  STATEN ISLAND                      988190                       49575        Katie Olsen  STATEN ISLAND      Lori Long          B111      Region 3      01M361          2124472020  93373 Debra Common Suite 256\\nSmithland, AK 21212             ROSEDALE           NY      72133              NaN                           NaN              Car Service             BROOKLYN           Intersection                  Van Wyck Expwy                 North Bound   Roadway              Harding Ave (Exit 9) - Throgs Neck Br         Flushing #1 Field  Staten Island Bound        MARIE THEANO   -85.788331    13.441499    (-36.724659, 91.711116)\n",
       "2       20753 1983-07-25 03:06:56 1987-11-07 18:01:12  DOHMH         Mary Ruiz       'Animal in a Park'      Broken Glass  Other (explain in Complaint Details)        51177  699 Humphrey Falls Apt. 112\\nPort Carrie, LA 3...   Brian Gilbert     Felicia Rest     Banks Cliff           Janice View          Schmidt Well  INTERSECTION    Christopherhaven       BARCLAYS CENTER           NaN  Email Sent 1978-12-27 20:25:24            2017-01-12 05:29:59                   03 BRONX         QUEENS                      112474                      885226     Edward Freeman  STATEN ISLAND  Kevin Jackson          B109      Region 4      28Q072          2122553705         823 Sawyer Trail\\nElizabethhaven, NC 63189  SPRINGFIELD GARDENS           NY      32519                Y                           NaN                      NaN               QUEENS  New York-Penn Station  Eastern Blvd Br - Edgewater Rd      South/New Jersey Bound      Ramp  Hamilton Ave (Exit 2A) - Gowanus Expwy (I-278)...             Bayside Field      Manhattan Bound       JUNE AGARRATT    22.999213  -136.272950     (13.441499, -8.940573)\n",
       "3      936304 1984-05-12 00:51:58 1999-09-18 19:25:56  DOHMH       Leslie Shaw       'Animal in a Park'  Branches Damaged                                  Pier        51549         823 Sawyer Trail\\nElizabethhaven, NC 63189   Adrian Bowman  Nathaniel Ville   Tony Turnpike          Dillon Drive         Ruiz Causeway           NaN     New Marychester      GRAND ARMY PLAZA      Precinct     Pending 2021-10-15 11:03:51            1983-10-08 08:25:14                   09 BRONX         QUEENS                       94069                       60419          Chad Cook         QUEENS  Teresa Joseph          B109           NaN      19K273          2123603444  741 Mitchell Turnpike Apt. 189\\nNorth Aaron, F...             WOODSIDE           NY      46252                N                           NaN  Ambulette / Paratransit                BRONX            JFK Airport         Henry Hudson Pkwy/Rt 9A  North/Westbound (To GW Br)      Ramp  GrandCentral Pkwy/VanWyck Expwy/College Point ...  White Plains Road  Field  Staten Island Bound       JUNE AGARRATT   -90.964166     2.549467    (79.330026, 123.538000)\n",
       "4      377465 2004-01-06 09:26:20 2001-02-10 17:31:00  DOHMH  Patricia Mcclure  Noise - Street/Sidewalk      Broken Fence                      Store/Commercial        62542  78095 Kimberly Skyway Suite 391\\nNorth Douglas...  Dennis Murillo      Janice View   Sherman Wells         Glenn Viaduct        Martinez Union       ADDRESS        Robinsonside            CITI FIELD        School  Email Sent 2012-09-23 09:24:09            2009-07-15 17:17:08                  08 QUEENS       BROOKLYN                      175497                      605797     Timothy Murphy       BROOKLYN   Joseph Smith          B073      Region 7      31R030          2123603444  78095 Kimberly Skyway Suite 391\\nNorth Douglas...               CORONA  Unspecified      08278                Y                           NaN              Car Service             BROOKLYN                    NaN         Henry Hudson Pkwy/Rt 9A                  Southbound   Roadway  Grand Central Pkwy (Exit 10) - 69th Rd-Jewel A...               Ave M Field      Manhattan Bound                 NaN  -123.653277     0.418522   (-62.450887, -24.929879)"
      ]
     },
     "execution_count": 15,
     "metadata": {},
     "output_type": "execute_result"
    }
   ],
   "source": [
    "mock.head()"
   ]
  },
  {
   "cell_type": "code",
   "execution_count": 16,
   "id": "2f02eba8",
   "metadata": {
    "execution": {
     "iopub.execute_input": "2023-06-29T09:48:58.461899Z",
     "iopub.status.busy": "2023-06-29T09:48:58.461639Z",
     "iopub.status.idle": "2023-06-29T09:49:13.405616Z",
     "shell.execute_reply": "2023-06-29T09:49:13.404822Z"
    },
    "tags": []
   },
   "outputs": [
    {
     "name": "stderr",
     "output_type": "stream",
     "text": [
      "\r",
      "  0%|          | 0/1 [00:00<?, ?it/s]"
     ]
    },
    {
     "name": "stdout",
     "output_type": "stream",
     "text": [
      "Uploading: complaints\n"
     ]
    },
    {
     "name": "stderr",
     "output_type": "stream",
     "text": [
      "\r",
      "100%|██████████| 1/1 [00:09<00:00,  9.49s/it]"
     ]
    },
    {
     "name": "stderr",
     "output_type": "stream",
     "text": [
      "\r",
      "100%|██████████| 1/1 [00:09<00:00,  9.50s/it]"
     ]
    },
    {
     "name": "stderr",
     "output_type": "stream",
     "text": [
      "\n"
     ]
    },
    {
     "name": "stdout",
     "output_type": "stream",
     "text": [
      "**WARNING**: The total size for asset: 'complaints' exceeds '512 MB'. This might result in failure to upload dataset. Please contact #support on OpenMined slack for further assistance.\n"
     ]
    },
    {
     "data": {
      "text/html": [
       "<div class=\"alert-success\" style=\"padding:5px;\"><strong>SyftSuccess</strong>: Dataset uploaded to 'pandas-test-domain-3'. To see the datasets uploaded by a client on this node, use command `[your_client].datasets`</div><br />"
      ],
      "text/plain": [
       "<class 'syft.service.response.SyftSuccess'>: Dataset uploaded to 'pandas-test-domain-3'. To see the datasets uploaded by a client on this node, use command `[your_client].datasets`"
      ]
     },
     "execution_count": 16,
     "metadata": {},
     "output_type": "execute_result"
    }
   ],
   "source": [
    "dataset = sy.Dataset(name=\"bikes\",\n",
    "                     asset_list=[sy.Asset(name=\"complaints\", data=complaints, mock=mock, mock_is_real=False)])\n",
    "domain_client.upload_dataset(dataset)"
   ]
  },
  {
   "cell_type": "markdown",
   "id": "eecd3476",
   "metadata": {},
   "source": [
    "## Create data scientist"
   ]
  },
  {
   "cell_type": "code",
   "execution_count": 17,
   "id": "f20a2411",
   "metadata": {
    "execution": {
     "iopub.execute_input": "2023-06-29T09:49:13.408588Z",
     "iopub.status.busy": "2023-06-29T09:49:13.408186Z",
     "iopub.status.idle": "2023-06-29T09:49:15.209075Z",
     "shell.execute_reply": "2023-06-29T09:49:15.208250Z"
    },
    "tags": []
   },
   "outputs": [
    {
     "name": "stdout",
     "output_type": "stream",
     "text": [
      "Logged into pandas-test-domain-3 as <jane@caltech.edu>\n"
     ]
    }
   ],
   "source": [
    "user = domain_client.register(name=\"Jane Doe\", email=\"jane@caltech.edu\",\n",
    "                            password=\"abc123\", institution=\"Caltech\", website=\"https://www.caltech.edu/\")\n",
    "\n",
    "# todo: give user data scientist role\n",
    "\n",
    "guest_domain_client = node.client\n",
    "\n",
    "guest_client = guest_domain_client.login(email=\"jane@caltech.edu\", password=\"abc123\")"
   ]
  },
  {
   "cell_type": "markdown",
   "id": "c64adae0",
   "metadata": {},
   "source": [
    "# Data scientist: Create syft_function"
   ]
  },
  {
   "cell_type": "markdown",
   "id": "8c9c3595",
   "metadata": {},
   "source": [
    "## Download mock and submit project"
   ]
  },
  {
   "cell_type": "markdown",
   "id": "8c63f823",
   "metadata": {},
   "source": [
    "### Get mock"
   ]
  },
  {
   "cell_type": "code",
   "execution_count": 18,
   "id": "d568e3f3",
   "metadata": {
    "execution": {
     "iopub.execute_input": "2023-06-29T09:49:15.212092Z",
     "iopub.status.busy": "2023-06-29T09:49:15.211827Z",
     "iopub.status.idle": "2023-06-29T09:49:16.638986Z",
     "shell.execute_reply": "2023-06-29T09:49:16.638085Z"
    },
    "tags": []
   },
   "outputs": [
    {
     "name": "stdout",
     "output_type": "stream",
     "text": [
      "Logged into pandas-test-domain-3 as <jane@caltech.edu>\n"
     ]
    }
   ],
   "source": [
    "guest_domain_client = node.client\n",
    "guest_client = guest_domain_client.login(email=\"jane@caltech.edu\", password=\"abc123\")"
   ]
  },
  {
   "cell_type": "code",
   "execution_count": 19,
   "id": "81c7f134",
   "metadata": {
    "execution": {
     "iopub.execute_input": "2023-06-29T09:49:16.642215Z",
     "iopub.status.busy": "2023-06-29T09:49:16.641695Z",
     "iopub.status.idle": "2023-06-29T09:49:16.677645Z",
     "shell.execute_reply": "2023-06-29T09:49:16.676737Z"
    },
    "tags": []
   },
   "outputs": [],
   "source": [
    "ds = guest_domain_client.datasets[0]"
   ]
  },
  {
   "cell_type": "code",
   "execution_count": 20,
   "id": "fa97cda8",
   "metadata": {
    "execution": {
     "iopub.execute_input": "2023-06-29T09:49:16.681226Z",
     "iopub.status.busy": "2023-06-29T09:49:16.680811Z",
     "iopub.status.idle": "2023-06-29T09:49:16.686536Z",
     "shell.execute_reply": "2023-06-29T09:49:16.685806Z"
    },
    "tags": []
   },
   "outputs": [],
   "source": [
    "asset = ds.assets[\"complaints\"]"
   ]
  },
  {
   "cell_type": "code",
   "execution_count": 21,
   "id": "b93f1fd8",
   "metadata": {
    "execution": {
     "iopub.execute_input": "2023-06-29T09:49:16.689502Z",
     "iopub.status.busy": "2023-06-29T09:49:16.689013Z",
     "iopub.status.idle": "2023-06-29T09:49:20.052398Z",
     "shell.execute_reply": "2023-06-29T09:49:20.051655Z"
    },
    "tags": []
   },
   "outputs": [],
   "source": [
    "complaints = asset.mock"
   ]
  },
  {
   "cell_type": "markdown",
   "id": "e89ffc0e",
   "metadata": {},
   "source": [
    "### Selecting only noise complaints\n"
   ]
  },
  {
   "cell_type": "markdown",
   "id": "7bae028c",
   "metadata": {},
   "source": [
    "I'd like to know which borough has the most noise complaints. First, we'll take a look at the data to see what it looks like:"
   ]
  },
  {
   "cell_type": "code",
   "execution_count": 22,
   "id": "d644bed3",
   "metadata": {
    "execution": {
     "iopub.execute_input": "2023-06-29T09:49:20.056075Z",
     "iopub.status.busy": "2023-06-29T09:49:20.055588Z",
     "iopub.status.idle": "2023-06-29T09:49:20.096123Z",
     "shell.execute_reply": "2023-06-29T09:49:20.095066Z"
    },
    "tags": []
   },
   "outputs": [
    {
     "data": {
      "text/html": [
       "<div>\n",
       "<style scoped>\n",
       "    .dataframe tbody tr th:only-of-type {\n",
       "        vertical-align: middle;\n",
       "    }\n",
       "\n",
       "    .dataframe tbody tr th {\n",
       "        vertical-align: top;\n",
       "    }\n",
       "\n",
       "    .dataframe thead th {\n",
       "        text-align: right;\n",
       "    }\n",
       "</style>\n",
       "<table border=\"1\" class=\"dataframe\">\n",
       "  <thead>\n",
       "    <tr style=\"text-align: right;\">\n",
       "      <th></th>\n",
       "      <th>Unique Key</th>\n",
       "      <th>Created Date</th>\n",
       "      <th>Closed Date</th>\n",
       "      <th>Agency</th>\n",
       "      <th>Agency Name</th>\n",
       "      <th>Complaint Type</th>\n",
       "      <th>Descriptor</th>\n",
       "      <th>Location Type</th>\n",
       "      <th>Incident Zip</th>\n",
       "      <th>Incident Address</th>\n",
       "      <th>Street Name</th>\n",
       "      <th>Cross Street 1</th>\n",
       "      <th>Cross Street 2</th>\n",
       "      <th>Intersection Street 1</th>\n",
       "      <th>Intersection Street 2</th>\n",
       "      <th>Address Type</th>\n",
       "      <th>City</th>\n",
       "      <th>Landmark</th>\n",
       "      <th>Facility Type</th>\n",
       "      <th>Status</th>\n",
       "      <th>Due Date</th>\n",
       "      <th>Resolution Action Updated Date</th>\n",
       "      <th>Community Board</th>\n",
       "      <th>Borough</th>\n",
       "      <th>X Coordinate (State Plane)</th>\n",
       "      <th>Y Coordinate (State Plane)</th>\n",
       "      <th>Park Facility Name</th>\n",
       "      <th>Park Borough</th>\n",
       "      <th>School Name</th>\n",
       "      <th>School Number</th>\n",
       "      <th>School Region</th>\n",
       "      <th>School Code</th>\n",
       "      <th>School Phone Number</th>\n",
       "      <th>School Address</th>\n",
       "      <th>School City</th>\n",
       "      <th>School State</th>\n",
       "      <th>School Zip</th>\n",
       "      <th>School Not Found</th>\n",
       "      <th>School or Citywide Complaint</th>\n",
       "      <th>Vehicle Type</th>\n",
       "      <th>Taxi Company Borough</th>\n",
       "      <th>Taxi Pick Up Location</th>\n",
       "      <th>Bridge Highway Name</th>\n",
       "      <th>Bridge Highway Direction</th>\n",
       "      <th>Road Ramp</th>\n",
       "      <th>Bridge Highway Segment</th>\n",
       "      <th>Garage Lot Name</th>\n",
       "      <th>Ferry Direction</th>\n",
       "      <th>Ferry Terminal Name</th>\n",
       "      <th>Latitude</th>\n",
       "      <th>Longitude</th>\n",
       "      <th>Location</th>\n",
       "    </tr>\n",
       "  </thead>\n",
       "  <tbody>\n",
       "    <tr>\n",
       "      <th>0</th>\n",
       "      <td>223650</td>\n",
       "      <td>1988-06-09 11:45:51</td>\n",
       "      <td>2002-11-16 10:15:00</td>\n",
       "      <td>DOHMH</td>\n",
       "      <td>Greg Alexander</td>\n",
       "      <td>Noise - Street/Sidewalk</td>\n",
       "      <td>Broken Fence</td>\n",
       "      <td>Cafeteria - College/University</td>\n",
       "      <td>36247</td>\n",
       "      <td>80057 Walker Mountain\\nWest Penny, NC 06440</td>\n",
       "      <td>James Turner</td>\n",
       "      <td>Rogers Roads</td>\n",
       "      <td>Rogers Roads</td>\n",
       "      <td>Payne Ramp</td>\n",
       "      <td>Ashley Plains</td>\n",
       "      <td>ADDRESS</td>\n",
       "      <td>South Danielleland</td>\n",
       "      <td>LINCOLN CENTER</td>\n",
       "      <td>School</td>\n",
       "      <td>Open</td>\n",
       "      <td>1982-01-03 01:12:47</td>\n",
       "      <td>1987-04-16 02:46:54</td>\n",
       "      <td>Unspecified STATEN ISLAND</td>\n",
       "      <td>QUEENS</td>\n",
       "      <td>578703</td>\n",
       "      <td>640159</td>\n",
       "      <td>Jamie King</td>\n",
       "      <td>QUEENS</td>\n",
       "      <td>Kevin Jackson</td>\n",
       "      <td>B111</td>\n",
       "      <td>Region 6</td>\n",
       "      <td>21K226</td>\n",
       "      <td>7187201010</td>\n",
       "      <td>341 Graham Freeway\\nJohnmouth, RI 33416</td>\n",
       "      <td>ASTORIA</td>\n",
       "      <td>Unspecified</td>\n",
       "      <td>31626</td>\n",
       "      <td>None</td>\n",
       "      <td>NaN</td>\n",
       "      <td>Car Service</td>\n",
       "      <td>STATEN ISLAND</td>\n",
       "      <td>JFK Airport</td>\n",
       "      <td>Staten Island Expwy</td>\n",
       "      <td>Southbound/To OuterBr Cr</td>\n",
       "      <td>Roadway</td>\n",
       "      <td>Grand Central Pkwy (Exit 1 E-W)</td>\n",
       "      <td>Flatbush/Caton Field</td>\n",
       "      <td>None</td>\n",
       "      <td>Austen</td>\n",
       "      <td>91.711116</td>\n",
       "      <td>-130.717920</td>\n",
       "      <td>[-24.929879, -123.653277]</td>\n",
       "    </tr>\n",
       "    <tr>\n",
       "      <th>1</th>\n",
       "      <td>631297</td>\n",
       "      <td>2019-09-22 08:28:25</td>\n",
       "      <td>1979-09-24 11:52:35</td>\n",
       "      <td>NYPD</td>\n",
       "      <td>Tracy Brown</td>\n",
       "      <td>'Animal in a Park'</td>\n",
       "      <td>Broken Fence</td>\n",
       "      <td>Vehicle Lane</td>\n",
       "      <td>71268</td>\n",
       "      <td>78718 Miguel Ways Apt. 062\\nBooneton, LA 41645</td>\n",
       "      <td>Jason Garcia</td>\n",
       "      <td>Troy Courts</td>\n",
       "      <td>Mathew Squares</td>\n",
       "      <td>Wheeler Rest</td>\n",
       "      <td>Nguyen Oval</td>\n",
       "      <td>BLOCKFACE</td>\n",
       "      <td>Garciachester</td>\n",
       "      <td>JACKIE ROBINSON PARK</td>\n",
       "      <td>None</td>\n",
       "      <td>Pending</td>\n",
       "      <td>1985-02-27 10:39:36</td>\n",
       "      <td>1982-01-03 01:12:47</td>\n",
       "      <td>04 BROOKLYN</td>\n",
       "      <td>STATEN ISLAND</td>\n",
       "      <td>988190</td>\n",
       "      <td>49575</td>\n",
       "      <td>Katie Olsen</td>\n",
       "      <td>STATEN ISLAND</td>\n",
       "      <td>Lori Long</td>\n",
       "      <td>B111</td>\n",
       "      <td>Region 3</td>\n",
       "      <td>01M361</td>\n",
       "      <td>2124472020</td>\n",
       "      <td>93373 Debra Common Suite 256\\nSmithland, AK 21212</td>\n",
       "      <td>ROSEDALE</td>\n",
       "      <td>NY</td>\n",
       "      <td>72133</td>\n",
       "      <td>None</td>\n",
       "      <td>NaN</td>\n",
       "      <td>Car Service</td>\n",
       "      <td>BROOKLYN</td>\n",
       "      <td>Intersection</td>\n",
       "      <td>Van Wyck Expwy</td>\n",
       "      <td>North Bound</td>\n",
       "      <td>Roadway</td>\n",
       "      <td>Harding Ave (Exit 9) - Throgs Neck Br</td>\n",
       "      <td>Flushing #1 Field</td>\n",
       "      <td>Staten Island Bound</td>\n",
       "      <td>MARIE THEANO</td>\n",
       "      <td>-85.788331</td>\n",
       "      <td>13.441499</td>\n",
       "      <td>[-36.724659, 91.711116]</td>\n",
       "    </tr>\n",
       "    <tr>\n",
       "      <th>2</th>\n",
       "      <td>20753</td>\n",
       "      <td>1983-07-25 03:06:56</td>\n",
       "      <td>1987-11-07 18:01:12</td>\n",
       "      <td>DOHMH</td>\n",
       "      <td>Mary Ruiz</td>\n",
       "      <td>'Animal in a Park'</td>\n",
       "      <td>Broken Glass</td>\n",
       "      <td>Other (explain in Complaint Details)</td>\n",
       "      <td>51177</td>\n",
       "      <td>699 Humphrey Falls Apt. 112\\nPort Carrie, LA 3...</td>\n",
       "      <td>Brian Gilbert</td>\n",
       "      <td>Felicia Rest</td>\n",
       "      <td>Banks Cliff</td>\n",
       "      <td>Janice View</td>\n",
       "      <td>Schmidt Well</td>\n",
       "      <td>INTERSECTION</td>\n",
       "      <td>Christopherhaven</td>\n",
       "      <td>BARCLAYS CENTER</td>\n",
       "      <td>None</td>\n",
       "      <td>Email Sent</td>\n",
       "      <td>1978-12-27 20:25:24</td>\n",
       "      <td>2017-01-12 05:29:59</td>\n",
       "      <td>03 BRONX</td>\n",
       "      <td>QUEENS</td>\n",
       "      <td>112474</td>\n",
       "      <td>885226</td>\n",
       "      <td>Edward Freeman</td>\n",
       "      <td>STATEN ISLAND</td>\n",
       "      <td>Kevin Jackson</td>\n",
       "      <td>B109</td>\n",
       "      <td>Region 4</td>\n",
       "      <td>28Q072</td>\n",
       "      <td>2122553705</td>\n",
       "      <td>823 Sawyer Trail\\nElizabethhaven, NC 63189</td>\n",
       "      <td>SPRINGFIELD GARDENS</td>\n",
       "      <td>NY</td>\n",
       "      <td>32519</td>\n",
       "      <td>Y</td>\n",
       "      <td>NaN</td>\n",
       "      <td>None</td>\n",
       "      <td>QUEENS</td>\n",
       "      <td>New York-Penn Station</td>\n",
       "      <td>Eastern Blvd Br - Edgewater Rd</td>\n",
       "      <td>South/New Jersey Bound</td>\n",
       "      <td>Ramp</td>\n",
       "      <td>Hamilton Ave (Exit 2A) - Gowanus Expwy (I-278)...</td>\n",
       "      <td>Bayside Field</td>\n",
       "      <td>Manhattan Bound</td>\n",
       "      <td>JUNE AGARRATT</td>\n",
       "      <td>22.999213</td>\n",
       "      <td>-136.272950</td>\n",
       "      <td>[13.441499, -8.940573]</td>\n",
       "    </tr>\n",
       "    <tr>\n",
       "      <th>3</th>\n",
       "      <td>936304</td>\n",
       "      <td>1984-05-12 00:51:58</td>\n",
       "      <td>1999-09-18 19:25:56</td>\n",
       "      <td>DOHMH</td>\n",
       "      <td>Leslie Shaw</td>\n",
       "      <td>'Animal in a Park'</td>\n",
       "      <td>Branches Damaged</td>\n",
       "      <td>Pier</td>\n",
       "      <td>51549</td>\n",
       "      <td>823 Sawyer Trail\\nElizabethhaven, NC 63189</td>\n",
       "      <td>Adrian Bowman</td>\n",
       "      <td>Nathaniel Ville</td>\n",
       "      <td>Tony Turnpike</td>\n",
       "      <td>Dillon Drive</td>\n",
       "      <td>Ruiz Causeway</td>\n",
       "      <td>None</td>\n",
       "      <td>New Marychester</td>\n",
       "      <td>GRAND ARMY PLAZA</td>\n",
       "      <td>Precinct</td>\n",
       "      <td>Pending</td>\n",
       "      <td>2021-10-15 11:03:51</td>\n",
       "      <td>1983-10-08 08:25:14</td>\n",
       "      <td>09 BRONX</td>\n",
       "      <td>QUEENS</td>\n",
       "      <td>94069</td>\n",
       "      <td>60419</td>\n",
       "      <td>Chad Cook</td>\n",
       "      <td>QUEENS</td>\n",
       "      <td>Teresa Joseph</td>\n",
       "      <td>B109</td>\n",
       "      <td>None</td>\n",
       "      <td>19K273</td>\n",
       "      <td>2123603444</td>\n",
       "      <td>741 Mitchell Turnpike Apt. 189\\nNorth Aaron, F...</td>\n",
       "      <td>WOODSIDE</td>\n",
       "      <td>NY</td>\n",
       "      <td>46252</td>\n",
       "      <td>N</td>\n",
       "      <td>NaN</td>\n",
       "      <td>Ambulette / Paratransit</td>\n",
       "      <td>BRONX</td>\n",
       "      <td>JFK Airport</td>\n",
       "      <td>Henry Hudson Pkwy/Rt 9A</td>\n",
       "      <td>North/Westbound (To GW Br)</td>\n",
       "      <td>Ramp</td>\n",
       "      <td>GrandCentral Pkwy/VanWyck Expwy/College Point ...</td>\n",
       "      <td>White Plains Road  Field</td>\n",
       "      <td>Staten Island Bound</td>\n",
       "      <td>JUNE AGARRATT</td>\n",
       "      <td>-90.964166</td>\n",
       "      <td>2.549467</td>\n",
       "      <td>[79.330026, 123.538000]</td>\n",
       "    </tr>\n",
       "    <tr>\n",
       "      <th>4</th>\n",
       "      <td>377465</td>\n",
       "      <td>2004-01-06 09:26:20</td>\n",
       "      <td>2001-02-10 17:31:00</td>\n",
       "      <td>DOHMH</td>\n",
       "      <td>Patricia Mcclure</td>\n",
       "      <td>Noise - Street/Sidewalk</td>\n",
       "      <td>Broken Fence</td>\n",
       "      <td>Store/Commercial</td>\n",
       "      <td>62542</td>\n",
       "      <td>78095 Kimberly Skyway Suite 391\\nNorth Douglas...</td>\n",
       "      <td>Dennis Murillo</td>\n",
       "      <td>Janice View</td>\n",
       "      <td>Sherman Wells</td>\n",
       "      <td>Glenn Viaduct</td>\n",
       "      <td>Martinez Union</td>\n",
       "      <td>ADDRESS</td>\n",
       "      <td>Robinsonside</td>\n",
       "      <td>CITI FIELD</td>\n",
       "      <td>School</td>\n",
       "      <td>Email Sent</td>\n",
       "      <td>2012-09-23 09:24:09</td>\n",
       "      <td>2009-07-15 17:17:08</td>\n",
       "      <td>08 QUEENS</td>\n",
       "      <td>BROOKLYN</td>\n",
       "      <td>175497</td>\n",
       "      <td>605797</td>\n",
       "      <td>Timothy Murphy</td>\n",
       "      <td>BROOKLYN</td>\n",
       "      <td>Joseph Smith</td>\n",
       "      <td>B073</td>\n",
       "      <td>Region 7</td>\n",
       "      <td>31R030</td>\n",
       "      <td>2123603444</td>\n",
       "      <td>78095 Kimberly Skyway Suite 391\\nNorth Douglas...</td>\n",
       "      <td>CORONA</td>\n",
       "      <td>Unspecified</td>\n",
       "      <td>08278</td>\n",
       "      <td>Y</td>\n",
       "      <td>NaN</td>\n",
       "      <td>Car Service</td>\n",
       "      <td>BROOKLYN</td>\n",
       "      <td>None</td>\n",
       "      <td>Henry Hudson Pkwy/Rt 9A</td>\n",
       "      <td>Southbound</td>\n",
       "      <td>Roadway</td>\n",
       "      <td>Grand Central Pkwy (Exit 10) - 69th Rd-Jewel A...</td>\n",
       "      <td>Ave M Field</td>\n",
       "      <td>Manhattan Bound</td>\n",
       "      <td>None</td>\n",
       "      <td>-123.653277</td>\n",
       "      <td>0.418522</td>\n",
       "      <td>[-62.450887, -24.929879]</td>\n",
       "    </tr>\n",
       "  </tbody>\n",
       "</table>\n",
       "</div>"
      ],
      "text/plain": [
       "   Unique Key        Created Date         Closed Date Agency       Agency Name           Complaint Type        Descriptor                         Location Type Incident Zip                                   Incident Address     Street Name   Cross Street 1  Cross Street 2 Intersection Street 1 Intersection Street 2  Address Type                City              Landmark Facility Type      Status            Due Date Resolution Action Updated Date            Community Board        Borough  X Coordinate (State Plane)  Y Coordinate (State Plane) Park Facility Name   Park Borough    School Name School Number School Region School Code School Phone Number                                     School Address          School City School State School Zip School Not Found  School or Citywide Complaint             Vehicle Type Taxi Company Borough  Taxi Pick Up Location             Bridge Highway Name    Bridge Highway Direction Road Ramp                             Bridge Highway Segment           Garage Lot Name      Ferry Direction Ferry Terminal Name     Latitude    Longitude                   Location\n",
       "0      223650 1988-06-09 11:45:51 2002-11-16 10:15:00  DOHMH    Greg Alexander  Noise - Street/Sidewalk      Broken Fence        Cafeteria - College/University        36247        80057 Walker Mountain\\nWest Penny, NC 06440    James Turner     Rogers Roads    Rogers Roads            Payne Ramp         Ashley Plains       ADDRESS  South Danielleland        LINCOLN CENTER        School        Open 1982-01-03 01:12:47            1987-04-16 02:46:54  Unspecified STATEN ISLAND         QUEENS                      578703                      640159         Jamie King         QUEENS  Kevin Jackson          B111      Region 6      21K226          7187201010            341 Graham Freeway\\nJohnmouth, RI 33416              ASTORIA  Unspecified      31626             None                           NaN              Car Service        STATEN ISLAND            JFK Airport             Staten Island Expwy    Southbound/To OuterBr Cr   Roadway                    Grand Central Pkwy (Exit 1 E-W)      Flatbush/Caton Field                 None              Austen    91.711116  -130.717920  [-24.929879, -123.653277]\n",
       "1      631297 2019-09-22 08:28:25 1979-09-24 11:52:35   NYPD       Tracy Brown       'Animal in a Park'      Broken Fence                          Vehicle Lane        71268     78718 Miguel Ways Apt. 062\\nBooneton, LA 41645    Jason Garcia      Troy Courts  Mathew Squares          Wheeler Rest           Nguyen Oval     BLOCKFACE       Garciachester  JACKIE ROBINSON PARK          None     Pending 1985-02-27 10:39:36            1982-01-03 01:12:47                04 BROOKLYN  STATEN ISLAND                      988190                       49575        Katie Olsen  STATEN ISLAND      Lori Long          B111      Region 3      01M361          2124472020  93373 Debra Common Suite 256\\nSmithland, AK 21212             ROSEDALE           NY      72133             None                           NaN              Car Service             BROOKLYN           Intersection                  Van Wyck Expwy                 North Bound   Roadway              Harding Ave (Exit 9) - Throgs Neck Br         Flushing #1 Field  Staten Island Bound        MARIE THEANO   -85.788331    13.441499    [-36.724659, 91.711116]\n",
       "2       20753 1983-07-25 03:06:56 1987-11-07 18:01:12  DOHMH         Mary Ruiz       'Animal in a Park'      Broken Glass  Other (explain in Complaint Details)        51177  699 Humphrey Falls Apt. 112\\nPort Carrie, LA 3...   Brian Gilbert     Felicia Rest     Banks Cliff           Janice View          Schmidt Well  INTERSECTION    Christopherhaven       BARCLAYS CENTER          None  Email Sent 1978-12-27 20:25:24            2017-01-12 05:29:59                   03 BRONX         QUEENS                      112474                      885226     Edward Freeman  STATEN ISLAND  Kevin Jackson          B109      Region 4      28Q072          2122553705         823 Sawyer Trail\\nElizabethhaven, NC 63189  SPRINGFIELD GARDENS           NY      32519                Y                           NaN                     None               QUEENS  New York-Penn Station  Eastern Blvd Br - Edgewater Rd      South/New Jersey Bound      Ramp  Hamilton Ave (Exit 2A) - Gowanus Expwy (I-278)...             Bayside Field      Manhattan Bound       JUNE AGARRATT    22.999213  -136.272950     [13.441499, -8.940573]\n",
       "3      936304 1984-05-12 00:51:58 1999-09-18 19:25:56  DOHMH       Leslie Shaw       'Animal in a Park'  Branches Damaged                                  Pier        51549         823 Sawyer Trail\\nElizabethhaven, NC 63189   Adrian Bowman  Nathaniel Ville   Tony Turnpike          Dillon Drive         Ruiz Causeway          None     New Marychester      GRAND ARMY PLAZA      Precinct     Pending 2021-10-15 11:03:51            1983-10-08 08:25:14                   09 BRONX         QUEENS                       94069                       60419          Chad Cook         QUEENS  Teresa Joseph          B109          None      19K273          2123603444  741 Mitchell Turnpike Apt. 189\\nNorth Aaron, F...             WOODSIDE           NY      46252                N                           NaN  Ambulette / Paratransit                BRONX            JFK Airport         Henry Hudson Pkwy/Rt 9A  North/Westbound (To GW Br)      Ramp  GrandCentral Pkwy/VanWyck Expwy/College Point ...  White Plains Road  Field  Staten Island Bound       JUNE AGARRATT   -90.964166     2.549467    [79.330026, 123.538000]\n",
       "4      377465 2004-01-06 09:26:20 2001-02-10 17:31:00  DOHMH  Patricia Mcclure  Noise - Street/Sidewalk      Broken Fence                      Store/Commercial        62542  78095 Kimberly Skyway Suite 391\\nNorth Douglas...  Dennis Murillo      Janice View   Sherman Wells         Glenn Viaduct        Martinez Union       ADDRESS        Robinsonside            CITI FIELD        School  Email Sent 2012-09-23 09:24:09            2009-07-15 17:17:08                  08 QUEENS       BROOKLYN                      175497                      605797     Timothy Murphy       BROOKLYN   Joseph Smith          B073      Region 7      31R030          2123603444  78095 Kimberly Skyway Suite 391\\nNorth Douglas...               CORONA  Unspecified      08278                Y                           NaN              Car Service             BROOKLYN                   None         Henry Hudson Pkwy/Rt 9A                  Southbound   Roadway  Grand Central Pkwy (Exit 10) - 69th Rd-Jewel A...               Ave M Field      Manhattan Bound                None  -123.653277     0.418522   [-62.450887, -24.929879]"
      ]
     },
     "execution_count": 22,
     "metadata": {},
     "output_type": "execute_result"
    }
   ],
   "source": [
    "complaints[:5]"
   ]
  },
  {
   "cell_type": "markdown",
   "id": "9af15f08",
   "metadata": {},
   "source": [
    "To get the noise complaints, we need to find the rows where the \"Complaint Type\" column is \"Noise - Street/Sidewalk\". I'll show you how to do that, and then explain what's going on.\n",
    "\n"
   ]
  },
  {
   "cell_type": "code",
   "execution_count": 23,
   "id": "430a063d",
   "metadata": {
    "execution": {
     "iopub.execute_input": "2023-06-29T09:49:20.099577Z",
     "iopub.status.busy": "2023-06-29T09:49:20.099167Z",
     "iopub.status.idle": "2023-06-29T09:49:20.158611Z",
     "shell.execute_reply": "2023-06-29T09:49:20.157604Z"
    },
    "tags": []
   },
   "outputs": [
    {
     "data": {
      "text/html": [
       "<div>\n",
       "<style scoped>\n",
       "    .dataframe tbody tr th:only-of-type {\n",
       "        vertical-align: middle;\n",
       "    }\n",
       "\n",
       "    .dataframe tbody tr th {\n",
       "        vertical-align: top;\n",
       "    }\n",
       "\n",
       "    .dataframe thead th {\n",
       "        text-align: right;\n",
       "    }\n",
       "</style>\n",
       "<table border=\"1\" class=\"dataframe\">\n",
       "  <thead>\n",
       "    <tr style=\"text-align: right;\">\n",
       "      <th></th>\n",
       "      <th>Unique Key</th>\n",
       "      <th>Created Date</th>\n",
       "      <th>Closed Date</th>\n",
       "      <th>Agency</th>\n",
       "      <th>Agency Name</th>\n",
       "      <th>Complaint Type</th>\n",
       "      <th>Descriptor</th>\n",
       "      <th>Location Type</th>\n",
       "      <th>Incident Zip</th>\n",
       "      <th>Incident Address</th>\n",
       "      <th>Street Name</th>\n",
       "      <th>Cross Street 1</th>\n",
       "      <th>Cross Street 2</th>\n",
       "      <th>Intersection Street 1</th>\n",
       "      <th>Intersection Street 2</th>\n",
       "      <th>Address Type</th>\n",
       "      <th>City</th>\n",
       "      <th>Landmark</th>\n",
       "      <th>Facility Type</th>\n",
       "      <th>Status</th>\n",
       "      <th>Due Date</th>\n",
       "      <th>Resolution Action Updated Date</th>\n",
       "      <th>Community Board</th>\n",
       "      <th>Borough</th>\n",
       "      <th>X Coordinate (State Plane)</th>\n",
       "      <th>Y Coordinate (State Plane)</th>\n",
       "      <th>Park Facility Name</th>\n",
       "      <th>Park Borough</th>\n",
       "      <th>School Name</th>\n",
       "      <th>School Number</th>\n",
       "      <th>School Region</th>\n",
       "      <th>School Code</th>\n",
       "      <th>School Phone Number</th>\n",
       "      <th>School Address</th>\n",
       "      <th>School City</th>\n",
       "      <th>School State</th>\n",
       "      <th>School Zip</th>\n",
       "      <th>School Not Found</th>\n",
       "      <th>School or Citywide Complaint</th>\n",
       "      <th>Vehicle Type</th>\n",
       "      <th>Taxi Company Borough</th>\n",
       "      <th>Taxi Pick Up Location</th>\n",
       "      <th>Bridge Highway Name</th>\n",
       "      <th>Bridge Highway Direction</th>\n",
       "      <th>Road Ramp</th>\n",
       "      <th>Bridge Highway Segment</th>\n",
       "      <th>Garage Lot Name</th>\n",
       "      <th>Ferry Direction</th>\n",
       "      <th>Ferry Terminal Name</th>\n",
       "      <th>Latitude</th>\n",
       "      <th>Longitude</th>\n",
       "      <th>Location</th>\n",
       "    </tr>\n",
       "  </thead>\n",
       "  <tbody>\n",
       "    <tr>\n",
       "      <th>0</th>\n",
       "      <td>223650</td>\n",
       "      <td>1988-06-09 11:45:51</td>\n",
       "      <td>2002-11-16 10:15:00</td>\n",
       "      <td>DOHMH</td>\n",
       "      <td>Greg Alexander</td>\n",
       "      <td>Noise - Street/Sidewalk</td>\n",
       "      <td>Broken Fence</td>\n",
       "      <td>Cafeteria - College/University</td>\n",
       "      <td>36247</td>\n",
       "      <td>80057 Walker Mountain\\nWest Penny, NC 06440</td>\n",
       "      <td>James Turner</td>\n",
       "      <td>Rogers Roads</td>\n",
       "      <td>Rogers Roads</td>\n",
       "      <td>Payne Ramp</td>\n",
       "      <td>Ashley Plains</td>\n",
       "      <td>ADDRESS</td>\n",
       "      <td>South Danielleland</td>\n",
       "      <td>LINCOLN CENTER</td>\n",
       "      <td>School</td>\n",
       "      <td>Open</td>\n",
       "      <td>1982-01-03 01:12:47</td>\n",
       "      <td>1987-04-16 02:46:54</td>\n",
       "      <td>Unspecified STATEN ISLAND</td>\n",
       "      <td>QUEENS</td>\n",
       "      <td>578703</td>\n",
       "      <td>640159</td>\n",
       "      <td>Jamie King</td>\n",
       "      <td>QUEENS</td>\n",
       "      <td>Kevin Jackson</td>\n",
       "      <td>B111</td>\n",
       "      <td>Region 6</td>\n",
       "      <td>21K226</td>\n",
       "      <td>7187201010</td>\n",
       "      <td>341 Graham Freeway\\nJohnmouth, RI 33416</td>\n",
       "      <td>ASTORIA</td>\n",
       "      <td>Unspecified</td>\n",
       "      <td>31626</td>\n",
       "      <td>None</td>\n",
       "      <td>NaN</td>\n",
       "      <td>Car Service</td>\n",
       "      <td>STATEN ISLAND</td>\n",
       "      <td>JFK Airport</td>\n",
       "      <td>Staten Island Expwy</td>\n",
       "      <td>Southbound/To OuterBr Cr</td>\n",
       "      <td>Roadway</td>\n",
       "      <td>Grand Central Pkwy (Exit 1 E-W)</td>\n",
       "      <td>Flatbush/Caton Field</td>\n",
       "      <td>None</td>\n",
       "      <td>Austen</td>\n",
       "      <td>91.711116</td>\n",
       "      <td>-130.717920</td>\n",
       "      <td>[-24.929879, -123.653277]</td>\n",
       "    </tr>\n",
       "    <tr>\n",
       "      <th>4</th>\n",
       "      <td>377465</td>\n",
       "      <td>2004-01-06 09:26:20</td>\n",
       "      <td>2001-02-10 17:31:00</td>\n",
       "      <td>DOHMH</td>\n",
       "      <td>Patricia Mcclure</td>\n",
       "      <td>Noise - Street/Sidewalk</td>\n",
       "      <td>Broken Fence</td>\n",
       "      <td>Store/Commercial</td>\n",
       "      <td>62542</td>\n",
       "      <td>78095 Kimberly Skyway Suite 391\\nNorth Douglas...</td>\n",
       "      <td>Dennis Murillo</td>\n",
       "      <td>Janice View</td>\n",
       "      <td>Sherman Wells</td>\n",
       "      <td>Glenn Viaduct</td>\n",
       "      <td>Martinez Union</td>\n",
       "      <td>ADDRESS</td>\n",
       "      <td>Robinsonside</td>\n",
       "      <td>CITI FIELD</td>\n",
       "      <td>School</td>\n",
       "      <td>Email Sent</td>\n",
       "      <td>2012-09-23 09:24:09</td>\n",
       "      <td>2009-07-15 17:17:08</td>\n",
       "      <td>08 QUEENS</td>\n",
       "      <td>BROOKLYN</td>\n",
       "      <td>175497</td>\n",
       "      <td>605797</td>\n",
       "      <td>Timothy Murphy</td>\n",
       "      <td>BROOKLYN</td>\n",
       "      <td>Joseph Smith</td>\n",
       "      <td>B073</td>\n",
       "      <td>Region 7</td>\n",
       "      <td>31R030</td>\n",
       "      <td>2123603444</td>\n",
       "      <td>78095 Kimberly Skyway Suite 391\\nNorth Douglas...</td>\n",
       "      <td>CORONA</td>\n",
       "      <td>Unspecified</td>\n",
       "      <td>08278</td>\n",
       "      <td>Y</td>\n",
       "      <td>NaN</td>\n",
       "      <td>Car Service</td>\n",
       "      <td>BROOKLYN</td>\n",
       "      <td>None</td>\n",
       "      <td>Henry Hudson Pkwy/Rt 9A</td>\n",
       "      <td>Southbound</td>\n",
       "      <td>Roadway</td>\n",
       "      <td>Grand Central Pkwy (Exit 10) - 69th Rd-Jewel A...</td>\n",
       "      <td>Ave M Field</td>\n",
       "      <td>Manhattan Bound</td>\n",
       "      <td>None</td>\n",
       "      <td>-123.653277</td>\n",
       "      <td>0.418522</td>\n",
       "      <td>[-62.450887, -24.929879]</td>\n",
       "    </tr>\n",
       "    <tr>\n",
       "      <th>9</th>\n",
       "      <td>968349</td>\n",
       "      <td>2006-10-05 08:05:23</td>\n",
       "      <td>1985-06-06 17:40:24</td>\n",
       "      <td>NYPD</td>\n",
       "      <td>Christopher Myers</td>\n",
       "      <td>Noise - Street/Sidewalk</td>\n",
       "      <td>Broken Fence</td>\n",
       "      <td>1-3 Family Dwelling</td>\n",
       "      <td>15990</td>\n",
       "      <td>Unit 9055 Box 2200\\nDPO AE 52978</td>\n",
       "      <td>Matthew Contreras</td>\n",
       "      <td>Miller Fort</td>\n",
       "      <td>Madison Trail</td>\n",
       "      <td>Chris Forks</td>\n",
       "      <td>Barbara Stravenue</td>\n",
       "      <td>PLACENAME</td>\n",
       "      <td>New Matthewbury</td>\n",
       "      <td>WASHINGTON SQUARE PARK</td>\n",
       "      <td>School</td>\n",
       "      <td>Started</td>\n",
       "      <td>1995-02-06 08:50:28</td>\n",
       "      <td>2017-07-23 17:39:10</td>\n",
       "      <td>05 BROOKLYN</td>\n",
       "      <td>QUEENS</td>\n",
       "      <td>75173</td>\n",
       "      <td>98913</td>\n",
       "      <td>Stuart Banks</td>\n",
       "      <td>STATEN ISLAND</td>\n",
       "      <td>Kevin Jackson</td>\n",
       "      <td>B109</td>\n",
       "      <td>Region 7</td>\n",
       "      <td>21K226</td>\n",
       "      <td>2125006035</td>\n",
       "      <td>943 Matthew Valleys\\nLisaland, ME 82714</td>\n",
       "      <td>EAST ELMHURST</td>\n",
       "      <td>Unspecified</td>\n",
       "      <td>51041</td>\n",
       "      <td>None</td>\n",
       "      <td>NaN</td>\n",
       "      <td>None</td>\n",
       "      <td>BROOKLYN</td>\n",
       "      <td>Intersection</td>\n",
       "      <td>Long Island Expwy</td>\n",
       "      <td>Westbound</td>\n",
       "      <td>Ramp</td>\n",
       "      <td>Grand Central Pkwy (Exit 10) - 69th Rd-Jewel A...</td>\n",
       "      <td>Flushing #3 Field</td>\n",
       "      <td>Manhattan Bound</td>\n",
       "      <td>STEIN SENIOR CENTER</td>\n",
       "      <td>137.176910</td>\n",
       "      <td>-61.010040</td>\n",
       "      <td>[42.049434, 107.059596]</td>\n",
       "    </tr>\n",
       "  </tbody>\n",
       "</table>\n",
       "</div>"
      ],
      "text/plain": [
       "   Unique Key        Created Date         Closed Date Agency        Agency Name           Complaint Type    Descriptor                   Location Type Incident Zip                                   Incident Address        Street Name Cross Street 1 Cross Street 2 Intersection Street 1 Intersection Street 2 Address Type                City                Landmark Facility Type      Status            Due Date Resolution Action Updated Date            Community Board   Borough  X Coordinate (State Plane)  Y Coordinate (State Plane) Park Facility Name   Park Borough    School Name School Number School Region School Code School Phone Number                                     School Address    School City School State School Zip School Not Found  School or Citywide Complaint Vehicle Type Taxi Company Borough Taxi Pick Up Location      Bridge Highway Name  Bridge Highway Direction Road Ramp                             Bridge Highway Segment       Garage Lot Name  Ferry Direction  Ferry Terminal Name     Latitude    Longitude                   Location\n",
       "0      223650 1988-06-09 11:45:51 2002-11-16 10:15:00  DOHMH     Greg Alexander  Noise - Street/Sidewalk  Broken Fence  Cafeteria - College/University        36247        80057 Walker Mountain\\nWest Penny, NC 06440       James Turner   Rogers Roads   Rogers Roads            Payne Ramp         Ashley Plains      ADDRESS  South Danielleland          LINCOLN CENTER        School        Open 1982-01-03 01:12:47            1987-04-16 02:46:54  Unspecified STATEN ISLAND    QUEENS                      578703                      640159         Jamie King         QUEENS  Kevin Jackson          B111      Region 6      21K226          7187201010            341 Graham Freeway\\nJohnmouth, RI 33416        ASTORIA  Unspecified      31626             None                           NaN  Car Service        STATEN ISLAND           JFK Airport      Staten Island Expwy  Southbound/To OuterBr Cr   Roadway                    Grand Central Pkwy (Exit 1 E-W)  Flatbush/Caton Field             None               Austen    91.711116  -130.717920  [-24.929879, -123.653277]\n",
       "4      377465 2004-01-06 09:26:20 2001-02-10 17:31:00  DOHMH   Patricia Mcclure  Noise - Street/Sidewalk  Broken Fence                Store/Commercial        62542  78095 Kimberly Skyway Suite 391\\nNorth Douglas...     Dennis Murillo    Janice View  Sherman Wells         Glenn Viaduct        Martinez Union      ADDRESS        Robinsonside              CITI FIELD        School  Email Sent 2012-09-23 09:24:09            2009-07-15 17:17:08                  08 QUEENS  BROOKLYN                      175497                      605797     Timothy Murphy       BROOKLYN   Joseph Smith          B073      Region 7      31R030          2123603444  78095 Kimberly Skyway Suite 391\\nNorth Douglas...         CORONA  Unspecified      08278                Y                           NaN  Car Service             BROOKLYN                  None  Henry Hudson Pkwy/Rt 9A                Southbound   Roadway  Grand Central Pkwy (Exit 10) - 69th Rd-Jewel A...           Ave M Field  Manhattan Bound                 None  -123.653277     0.418522   [-62.450887, -24.929879]\n",
       "9      968349 2006-10-05 08:05:23 1985-06-06 17:40:24   NYPD  Christopher Myers  Noise - Street/Sidewalk  Broken Fence             1-3 Family Dwelling        15990                   Unit 9055 Box 2200\\nDPO AE 52978  Matthew Contreras    Miller Fort  Madison Trail           Chris Forks     Barbara Stravenue    PLACENAME     New Matthewbury  WASHINGTON SQUARE PARK        School     Started 1995-02-06 08:50:28            2017-07-23 17:39:10                05 BROOKLYN    QUEENS                       75173                       98913       Stuart Banks  STATEN ISLAND  Kevin Jackson          B109      Region 7      21K226          2125006035            943 Matthew Valleys\\nLisaland, ME 82714  EAST ELMHURST  Unspecified      51041             None                           NaN         None             BROOKLYN          Intersection        Long Island Expwy                 Westbound      Ramp  Grand Central Pkwy (Exit 10) - 69th Rd-Jewel A...     Flushing #3 Field  Manhattan Bound  STEIN SENIOR CENTER   137.176910   -61.010040    [42.049434, 107.059596]"
      ]
     },
     "execution_count": 23,
     "metadata": {},
     "output_type": "execute_result"
    }
   ],
   "source": [
    "noise_complaints = complaints[complaints['Complaint Type'] == \"Noise - Street/Sidewalk\"]\n",
    "noise_complaints[:3]"
   ]
  },
  {
   "cell_type": "markdown",
   "id": "e5242fab",
   "metadata": {},
   "source": [
    "If you look at noise_complaints, you'll see that this worked, and it only contains complaints with the right complaint type. But how does this work? Let's deconstruct it into two pieces"
   ]
  },
  {
   "cell_type": "code",
   "execution_count": 24,
   "id": "d0a54359",
   "metadata": {
    "execution": {
     "iopub.execute_input": "2023-06-29T09:49:20.163003Z",
     "iopub.status.busy": "2023-06-29T09:49:20.162743Z",
     "iopub.status.idle": "2023-06-29T09:49:20.182641Z",
     "shell.execute_reply": "2023-06-29T09:49:20.181960Z"
    },
    "tags": []
   },
   "outputs": [
    {
     "data": {
      "text/plain": [
       "0          True\n",
       "1         False\n",
       "2         False\n",
       "3         False\n",
       "4          True\n",
       "          ...  \n",
       "111064    False\n",
       "111065    False\n",
       "111066    False\n",
       "111067    False\n",
       "111068    False\n",
       "Name: Complaint Type, Length: 111069, dtype: bool"
      ]
     },
     "execution_count": 24,
     "metadata": {},
     "output_type": "execute_result"
    }
   ],
   "source": [
    "complaints['Complaint Type'] == \"Noise - Street/Sidewalk\""
   ]
  },
  {
   "cell_type": "markdown",
   "id": "d26a8fe3",
   "metadata": {},
   "source": [
    "This is a big array of Trues and Falses, one for each row in our dataframe. When we index our dataframe with this array, we get just the rows where our boolean array evaluated to True. It's important to note that for row filtering by a boolean array the length of our dataframe's index must be the same length as the boolean array used for filtering.\n",
    "\n",
    "You can also combine more than one condition with the & operator like this:"
   ]
  },
  {
   "cell_type": "code",
   "execution_count": 25,
   "id": "f6558b8e",
   "metadata": {
    "execution": {
     "iopub.execute_input": "2023-06-29T09:49:20.185850Z",
     "iopub.status.busy": "2023-06-29T09:49:20.185479Z",
     "iopub.status.idle": "2023-06-29T09:49:20.247921Z",
     "shell.execute_reply": "2023-06-29T09:49:20.245794Z"
    },
    "tags": []
   },
   "outputs": [
    {
     "data": {
      "text/html": [
       "<div>\n",
       "<style scoped>\n",
       "    .dataframe tbody tr th:only-of-type {\n",
       "        vertical-align: middle;\n",
       "    }\n",
       "\n",
       "    .dataframe tbody tr th {\n",
       "        vertical-align: top;\n",
       "    }\n",
       "\n",
       "    .dataframe thead th {\n",
       "        text-align: right;\n",
       "    }\n",
       "</style>\n",
       "<table border=\"1\" class=\"dataframe\">\n",
       "  <thead>\n",
       "    <tr style=\"text-align: right;\">\n",
       "      <th></th>\n",
       "      <th>Unique Key</th>\n",
       "      <th>Created Date</th>\n",
       "      <th>Closed Date</th>\n",
       "      <th>Agency</th>\n",
       "      <th>Agency Name</th>\n",
       "      <th>Complaint Type</th>\n",
       "      <th>Descriptor</th>\n",
       "      <th>Location Type</th>\n",
       "      <th>Incident Zip</th>\n",
       "      <th>Incident Address</th>\n",
       "      <th>Street Name</th>\n",
       "      <th>Cross Street 1</th>\n",
       "      <th>Cross Street 2</th>\n",
       "      <th>Intersection Street 1</th>\n",
       "      <th>Intersection Street 2</th>\n",
       "      <th>Address Type</th>\n",
       "      <th>City</th>\n",
       "      <th>Landmark</th>\n",
       "      <th>Facility Type</th>\n",
       "      <th>Status</th>\n",
       "      <th>Due Date</th>\n",
       "      <th>Resolution Action Updated Date</th>\n",
       "      <th>Community Board</th>\n",
       "      <th>Borough</th>\n",
       "      <th>X Coordinate (State Plane)</th>\n",
       "      <th>Y Coordinate (State Plane)</th>\n",
       "      <th>Park Facility Name</th>\n",
       "      <th>Park Borough</th>\n",
       "      <th>School Name</th>\n",
       "      <th>School Number</th>\n",
       "      <th>School Region</th>\n",
       "      <th>School Code</th>\n",
       "      <th>School Phone Number</th>\n",
       "      <th>School Address</th>\n",
       "      <th>School City</th>\n",
       "      <th>School State</th>\n",
       "      <th>School Zip</th>\n",
       "      <th>School Not Found</th>\n",
       "      <th>School or Citywide Complaint</th>\n",
       "      <th>Vehicle Type</th>\n",
       "      <th>Taxi Company Borough</th>\n",
       "      <th>Taxi Pick Up Location</th>\n",
       "      <th>Bridge Highway Name</th>\n",
       "      <th>Bridge Highway Direction</th>\n",
       "      <th>Road Ramp</th>\n",
       "      <th>Bridge Highway Segment</th>\n",
       "      <th>Garage Lot Name</th>\n",
       "      <th>Ferry Direction</th>\n",
       "      <th>Ferry Terminal Name</th>\n",
       "      <th>Latitude</th>\n",
       "      <th>Longitude</th>\n",
       "      <th>Location</th>\n",
       "    </tr>\n",
       "  </thead>\n",
       "  <tbody>\n",
       "    <tr>\n",
       "      <th>4</th>\n",
       "      <td>377465</td>\n",
       "      <td>2004-01-06 09:26:20</td>\n",
       "      <td>2001-02-10 17:31:00</td>\n",
       "      <td>DOHMH</td>\n",
       "      <td>Patricia Mcclure</td>\n",
       "      <td>Noise - Street/Sidewalk</td>\n",
       "      <td>Broken Fence</td>\n",
       "      <td>Store/Commercial</td>\n",
       "      <td>62542</td>\n",
       "      <td>78095 Kimberly Skyway Suite 391\\nNorth Douglas...</td>\n",
       "      <td>Dennis Murillo</td>\n",
       "      <td>Janice View</td>\n",
       "      <td>Sherman Wells</td>\n",
       "      <td>Glenn Viaduct</td>\n",
       "      <td>Martinez Union</td>\n",
       "      <td>ADDRESS</td>\n",
       "      <td>Robinsonside</td>\n",
       "      <td>CITI FIELD</td>\n",
       "      <td>School</td>\n",
       "      <td>Email Sent</td>\n",
       "      <td>2012-09-23 09:24:09</td>\n",
       "      <td>2009-07-15 17:17:08</td>\n",
       "      <td>08 QUEENS</td>\n",
       "      <td>BROOKLYN</td>\n",
       "      <td>175497</td>\n",
       "      <td>605797</td>\n",
       "      <td>Timothy Murphy</td>\n",
       "      <td>BROOKLYN</td>\n",
       "      <td>Joseph Smith</td>\n",
       "      <td>B073</td>\n",
       "      <td>Region 7</td>\n",
       "      <td>31R030</td>\n",
       "      <td>2123603444</td>\n",
       "      <td>78095 Kimberly Skyway Suite 391\\nNorth Douglas...</td>\n",
       "      <td>CORONA</td>\n",
       "      <td>Unspecified</td>\n",
       "      <td>08278</td>\n",
       "      <td>Y</td>\n",
       "      <td>NaN</td>\n",
       "      <td>Car Service</td>\n",
       "      <td>BROOKLYN</td>\n",
       "      <td>None</td>\n",
       "      <td>Henry Hudson Pkwy/Rt 9A</td>\n",
       "      <td>Southbound</td>\n",
       "      <td>Roadway</td>\n",
       "      <td>Grand Central Pkwy (Exit 10) - 69th Rd-Jewel A...</td>\n",
       "      <td>Ave M Field</td>\n",
       "      <td>Manhattan Bound</td>\n",
       "      <td>None</td>\n",
       "      <td>-123.653277</td>\n",
       "      <td>0.418522</td>\n",
       "      <td>[-62.450887, -24.929879]</td>\n",
       "    </tr>\n",
       "    <tr>\n",
       "      <th>74</th>\n",
       "      <td>550146</td>\n",
       "      <td>2012-07-08 08:36:48</td>\n",
       "      <td>1999-05-12 01:36:39</td>\n",
       "      <td>DPR</td>\n",
       "      <td>James King</td>\n",
       "      <td>Noise - Street/Sidewalk</td>\n",
       "      <td>Broken Glass</td>\n",
       "      <td>Store</td>\n",
       "      <td>87118</td>\n",
       "      <td>83236 Burns Plains Suite 875\\nCoxland, AZ 63024</td>\n",
       "      <td>Michele Gray</td>\n",
       "      <td>Ashley Plains</td>\n",
       "      <td>Miller Fort</td>\n",
       "      <td>Chavez Center</td>\n",
       "      <td>Shannon Keys</td>\n",
       "      <td>BLOCKFACE</td>\n",
       "      <td>Port Miguelton</td>\n",
       "      <td>LINCOLN CENTER</td>\n",
       "      <td>None</td>\n",
       "      <td>Closed</td>\n",
       "      <td>2019-11-29 07:50:07</td>\n",
       "      <td>1972-08-30 19:48:45</td>\n",
       "      <td>07 BRONX</td>\n",
       "      <td>BROOKLYN</td>\n",
       "      <td>428472</td>\n",
       "      <td>74468</td>\n",
       "      <td>Jason Garcia</td>\n",
       "      <td>Unspecified</td>\n",
       "      <td>Jared Scott</td>\n",
       "      <td>B111</td>\n",
       "      <td>Region 5</td>\n",
       "      <td>75K373</td>\n",
       "      <td>7182631163</td>\n",
       "      <td>957 Jackson Pike\\nPort Melissamouth, LA 40154</td>\n",
       "      <td>Unspecified</td>\n",
       "      <td>NY</td>\n",
       "      <td>45868</td>\n",
       "      <td>N</td>\n",
       "      <td>NaN</td>\n",
       "      <td>Commuter Van</td>\n",
       "      <td>STATEN ISLAND</td>\n",
       "      <td>Intersection</td>\n",
       "      <td>First Ave Tunnel - UN Plaza</td>\n",
       "      <td>West/Staten Island Bound</td>\n",
       "      <td>None</td>\n",
       "      <td>Grand Central Pkwy (Exit 1 E-W)</td>\n",
       "      <td>Grant Ave Field</td>\n",
       "      <td>Staten Island Bound</td>\n",
       "      <td>BRIGID OCONNOR</td>\n",
       "      <td>-14.826237</td>\n",
       "      <td>-148.516276</td>\n",
       "      <td>[51.046892, 40.768233]</td>\n",
       "    </tr>\n",
       "    <tr>\n",
       "      <th>97</th>\n",
       "      <td>921892</td>\n",
       "      <td>1978-10-16 07:21:26</td>\n",
       "      <td>1999-09-18 19:25:56</td>\n",
       "      <td>DPR</td>\n",
       "      <td>Christian Moore</td>\n",
       "      <td>Noise - Street/Sidewalk</td>\n",
       "      <td>Branch or Limb Has Fallen Down</td>\n",
       "      <td>Pier</td>\n",
       "      <td>81930</td>\n",
       "      <td>75787 Copeland Hill\\nWest Kellystad, WV 75983</td>\n",
       "      <td>Jennifer Simmons</td>\n",
       "      <td>Peck Dale</td>\n",
       "      <td>Mathew Squares</td>\n",
       "      <td>Barry Locks</td>\n",
       "      <td>Crystal Fords</td>\n",
       "      <td>BLOCKFACE</td>\n",
       "      <td>Lake Jasonmouth</td>\n",
       "      <td>JFK</td>\n",
       "      <td>DSNY Garage</td>\n",
       "      <td>Unassigned</td>\n",
       "      <td>1985-01-30 21:11:55</td>\n",
       "      <td>2008-06-08 11:31:28</td>\n",
       "      <td>55 BROOKLYN</td>\n",
       "      <td>BROOKLYN</td>\n",
       "      <td>239396</td>\n",
       "      <td>27463</td>\n",
       "      <td>Jose Simpson</td>\n",
       "      <td>QUEENS</td>\n",
       "      <td>Mary Richards</td>\n",
       "      <td>B080-01</td>\n",
       "      <td>None</td>\n",
       "      <td>03M009</td>\n",
       "      <td>7183184000</td>\n",
       "      <td>46420 Hodge Plaza Apt. 375\\nNew Lauraland, AL ...</td>\n",
       "      <td>BAYSIDE</td>\n",
       "      <td>Unspecified</td>\n",
       "      <td>41091</td>\n",
       "      <td>None</td>\n",
       "      <td>NaN</td>\n",
       "      <td>Ambulette / Paratransit</td>\n",
       "      <td>QUEENS</td>\n",
       "      <td>None</td>\n",
       "      <td>Alexander Hamilton/I-95 Cross Bronx Br</td>\n",
       "      <td>South/East (To Throgs Neck Br)</td>\n",
       "      <td>None</td>\n",
       "      <td>Hamilton Ave (Exit 2A) - Gowanus Expwy (I-278)...</td>\n",
       "      <td>Far Rockaway #2 Field</td>\n",
       "      <td>Staten Island Bound</td>\n",
       "      <td>JEWISH ASSOCIATION FOR SERVICES FOR THE AGED (...</td>\n",
       "      <td>107.334882</td>\n",
       "      <td>-177.505007</td>\n",
       "      <td>[-80.693528, -90.964166]</td>\n",
       "    </tr>\n",
       "    <tr>\n",
       "      <th>103</th>\n",
       "      <td>840414</td>\n",
       "      <td>2000-01-14 18:07:00</td>\n",
       "      <td>1985-06-06 17:40:24</td>\n",
       "      <td>NYPD</td>\n",
       "      <td>Rick Evans</td>\n",
       "      <td>Noise - Street/Sidewalk</td>\n",
       "      <td>Branches Damaged</td>\n",
       "      <td>Street and Sidewalk</td>\n",
       "      <td>08068</td>\n",
       "      <td>66548 Colleen Estate Apt. 964\\nHollowayburgh, ...</td>\n",
       "      <td>William Huerta</td>\n",
       "      <td>Martinez Union</td>\n",
       "      <td>Kimberly Green</td>\n",
       "      <td>Carter Coves</td>\n",
       "      <td>Davis Canyon</td>\n",
       "      <td>None</td>\n",
       "      <td>South Luisport</td>\n",
       "      <td>GRAND CENTRAL TERM</td>\n",
       "      <td>School</td>\n",
       "      <td>Email Sent</td>\n",
       "      <td>1978-10-16 07:21:26</td>\n",
       "      <td>2017-01-22 19:18:59</td>\n",
       "      <td>06 QUEENS</td>\n",
       "      <td>BROOKLYN</td>\n",
       "      <td>558877</td>\n",
       "      <td>742075</td>\n",
       "      <td>Adrian Park</td>\n",
       "      <td>Unspecified</td>\n",
       "      <td>Tiffany Berg</td>\n",
       "      <td>B073</td>\n",
       "      <td>Region 7</td>\n",
       "      <td>15K015</td>\n",
       "      <td>7189658999</td>\n",
       "      <td>779 Benson Key\\nJoanneshire, AZ 96489</td>\n",
       "      <td>CORONA</td>\n",
       "      <td>Unspecified</td>\n",
       "      <td>13352</td>\n",
       "      <td>Y</td>\n",
       "      <td>NaN</td>\n",
       "      <td>Commuter Van</td>\n",
       "      <td>BROOKLYN</td>\n",
       "      <td>Grand Central Station</td>\n",
       "      <td>FDR Dr</td>\n",
       "      <td>North/Westchester County Bound</td>\n",
       "      <td>Ramp</td>\n",
       "      <td>Grand Central Pkwy (Exit 10) - 69th Rd-Jewel A...</td>\n",
       "      <td>Flatbush/Caton Field</td>\n",
       "      <td>Staten Island Bound</td>\n",
       "      <td>MITCHELL HOUSES SENIOR CENTER</td>\n",
       "      <td>69.979999</td>\n",
       "      <td>-31.308629</td>\n",
       "      <td>[109.126279, -10.970035]</td>\n",
       "    </tr>\n",
       "    <tr>\n",
       "      <th>114</th>\n",
       "      <td>500297</td>\n",
       "      <td>2016-02-28 00:51:46</td>\n",
       "      <td>2017-01-22 19:18:59</td>\n",
       "      <td>NYPD</td>\n",
       "      <td>Mitchell Owens</td>\n",
       "      <td>Noise - Street/Sidewalk</td>\n",
       "      <td>Branches Damaged</td>\n",
       "      <td>Residential</td>\n",
       "      <td>70101</td>\n",
       "      <td>705 Torres Ferry Suite 947\\nPort Ashley, UT 32664</td>\n",
       "      <td>Lori Long</td>\n",
       "      <td>Carter Coves</td>\n",
       "      <td>Andrew Port</td>\n",
       "      <td>James Orchard</td>\n",
       "      <td>Ashley Stream</td>\n",
       "      <td>BLOCKFACE</td>\n",
       "      <td>Lake Keithberg</td>\n",
       "      <td>SI FERRY TERMINAL</td>\n",
       "      <td>Precinct</td>\n",
       "      <td>Unassigned</td>\n",
       "      <td>1982-01-03 01:12:47</td>\n",
       "      <td>1979-09-24 11:52:35</td>\n",
       "      <td>06 QUEENS</td>\n",
       "      <td>BROOKLYN</td>\n",
       "      <td>173044</td>\n",
       "      <td>706099</td>\n",
       "      <td>Louis Bolton</td>\n",
       "      <td>BRONX</td>\n",
       "      <td>Kelly Martin</td>\n",
       "      <td>B087</td>\n",
       "      <td>Region 9</td>\n",
       "      <td>02M411</td>\n",
       "      <td>7185438672</td>\n",
       "      <td>2840 Pierce River\\nMichelleburgh, MH 50538</td>\n",
       "      <td>FRESH MEADOWS</td>\n",
       "      <td>Unspecified</td>\n",
       "      <td>56999</td>\n",
       "      <td>N</td>\n",
       "      <td>NaN</td>\n",
       "      <td>None</td>\n",
       "      <td>BRONX</td>\n",
       "      <td>JFK Airport</td>\n",
       "      <td>Brooklyn Br</td>\n",
       "      <td>Bronx Bound</td>\n",
       "      <td>Roadway</td>\n",
       "      <td>Grand Central Pkwy (Exit 1 E-W)</td>\n",
       "      <td>Astoria Field</td>\n",
       "      <td>Manhattan Bound</td>\n",
       "      <td>JUNE AGARRATT</td>\n",
       "      <td>-58.289095</td>\n",
       "      <td>-76.710294</td>\n",
       "      <td>[-18.055649, -58.289095]</td>\n",
       "    </tr>\n",
       "  </tbody>\n",
       "</table>\n",
       "</div>"
      ],
      "text/plain": [
       "     Unique Key        Created Date         Closed Date Agency       Agency Name           Complaint Type                      Descriptor        Location Type Incident Zip                                   Incident Address       Street Name  Cross Street 1  Cross Street 2 Intersection Street 1 Intersection Street 2 Address Type             City            Landmark Facility Type      Status            Due Date Resolution Action Updated Date Community Board   Borough  X Coordinate (State Plane)  Y Coordinate (State Plane) Park Facility Name Park Borough    School Name School Number School Region School Code School Phone Number                                     School Address    School City School State School Zip School Not Found  School or Citywide Complaint             Vehicle Type Taxi Company Borough  Taxi Pick Up Location                     Bridge Highway Name        Bridge Highway Direction Road Ramp                             Bridge Highway Segment        Garage Lot Name      Ferry Direction                                Ferry Terminal Name     Latitude    Longitude                  Location\n",
       "4        377465 2004-01-06 09:26:20 2001-02-10 17:31:00  DOHMH  Patricia Mcclure  Noise - Street/Sidewalk                    Broken Fence     Store/Commercial        62542  78095 Kimberly Skyway Suite 391\\nNorth Douglas...    Dennis Murillo     Janice View   Sherman Wells         Glenn Viaduct        Martinez Union      ADDRESS     Robinsonside          CITI FIELD        School  Email Sent 2012-09-23 09:24:09            2009-07-15 17:17:08       08 QUEENS  BROOKLYN                      175497                      605797     Timothy Murphy     BROOKLYN   Joseph Smith          B073      Region 7      31R030          2123603444  78095 Kimberly Skyway Suite 391\\nNorth Douglas...         CORONA  Unspecified      08278                Y                           NaN              Car Service             BROOKLYN                   None                 Henry Hudson Pkwy/Rt 9A                      Southbound   Roadway  Grand Central Pkwy (Exit 10) - 69th Rd-Jewel A...            Ave M Field      Manhattan Bound                                               None  -123.653277     0.418522  [-62.450887, -24.929879]\n",
       "74       550146 2012-07-08 08:36:48 1999-05-12 01:36:39    DPR        James King  Noise - Street/Sidewalk                    Broken Glass                Store        87118    83236 Burns Plains Suite 875\\nCoxland, AZ 63024      Michele Gray   Ashley Plains     Miller Fort         Chavez Center          Shannon Keys    BLOCKFACE   Port Miguelton      LINCOLN CENTER          None      Closed 2019-11-29 07:50:07            1972-08-30 19:48:45        07 BRONX  BROOKLYN                      428472                       74468       Jason Garcia  Unspecified    Jared Scott          B111      Region 5      75K373          7182631163      957 Jackson Pike\\nPort Melissamouth, LA 40154    Unspecified           NY      45868                N                           NaN             Commuter Van        STATEN ISLAND           Intersection             First Ave Tunnel - UN Plaza        West/Staten Island Bound      None                    Grand Central Pkwy (Exit 1 E-W)        Grant Ave Field  Staten Island Bound                                     BRIGID OCONNOR   -14.826237  -148.516276    [51.046892, 40.768233]\n",
       "97       921892 1978-10-16 07:21:26 1999-09-18 19:25:56    DPR   Christian Moore  Noise - Street/Sidewalk  Branch or Limb Has Fallen Down                 Pier        81930      75787 Copeland Hill\\nWest Kellystad, WV 75983  Jennifer Simmons       Peck Dale  Mathew Squares           Barry Locks         Crystal Fords    BLOCKFACE  Lake Jasonmouth                 JFK   DSNY Garage  Unassigned 1985-01-30 21:11:55            2008-06-08 11:31:28     55 BROOKLYN  BROOKLYN                      239396                       27463       Jose Simpson       QUEENS  Mary Richards       B080-01          None      03M009          7183184000  46420 Hodge Plaza Apt. 375\\nNew Lauraland, AL ...        BAYSIDE  Unspecified      41091             None                           NaN  Ambulette / Paratransit               QUEENS                   None  Alexander Hamilton/I-95 Cross Bronx Br  South/East (To Throgs Neck Br)      None  Hamilton Ave (Exit 2A) - Gowanus Expwy (I-278)...  Far Rockaway #2 Field  Staten Island Bound  JEWISH ASSOCIATION FOR SERVICES FOR THE AGED (...   107.334882  -177.505007  [-80.693528, -90.964166]\n",
       "103      840414 2000-01-14 18:07:00 1985-06-06 17:40:24   NYPD        Rick Evans  Noise - Street/Sidewalk                Branches Damaged  Street and Sidewalk        08068  66548 Colleen Estate Apt. 964\\nHollowayburgh, ...    William Huerta  Martinez Union  Kimberly Green          Carter Coves          Davis Canyon         None   South Luisport  GRAND CENTRAL TERM        School  Email Sent 1978-10-16 07:21:26            2017-01-22 19:18:59       06 QUEENS  BROOKLYN                      558877                      742075        Adrian Park  Unspecified   Tiffany Berg          B073      Region 7      15K015          7189658999              779 Benson Key\\nJoanneshire, AZ 96489         CORONA  Unspecified      13352                Y                           NaN             Commuter Van             BROOKLYN  Grand Central Station                                  FDR Dr  North/Westchester County Bound      Ramp  Grand Central Pkwy (Exit 10) - 69th Rd-Jewel A...   Flatbush/Caton Field  Staten Island Bound                      MITCHELL HOUSES SENIOR CENTER    69.979999   -31.308629  [109.126279, -10.970035]\n",
       "114      500297 2016-02-28 00:51:46 2017-01-22 19:18:59   NYPD    Mitchell Owens  Noise - Street/Sidewalk                Branches Damaged          Residential        70101  705 Torres Ferry Suite 947\\nPort Ashley, UT 32664         Lori Long    Carter Coves     Andrew Port         James Orchard         Ashley Stream    BLOCKFACE   Lake Keithberg   SI FERRY TERMINAL      Precinct  Unassigned 1982-01-03 01:12:47            1979-09-24 11:52:35       06 QUEENS  BROOKLYN                      173044                      706099       Louis Bolton        BRONX   Kelly Martin          B087      Region 9      02M411          7185438672         2840 Pierce River\\nMichelleburgh, MH 50538  FRESH MEADOWS  Unspecified      56999                N                           NaN                     None                BRONX            JFK Airport                             Brooklyn Br                     Bronx Bound   Roadway                    Grand Central Pkwy (Exit 1 E-W)          Astoria Field      Manhattan Bound                                      JUNE AGARRATT   -58.289095   -76.710294  [-18.055649, -58.289095]"
      ]
     },
     "execution_count": 25,
     "metadata": {},
     "output_type": "execute_result"
    }
   ],
   "source": [
    "is_noise = (complaints['Complaint Type'] == \"Noise - Street/Sidewalk\")\n",
    "in_brooklyn = complaints['Borough'] == \"BROOKLYN\"\n",
    "complaints[is_noise & in_brooklyn][:5]"
   ]
  },
  {
   "cell_type": "markdown",
   "id": "17bd67be",
   "metadata": {},
   "source": [
    "Or if we just wanted a few columns:\n",
    "\n"
   ]
  },
  {
   "cell_type": "code",
   "execution_count": 26,
   "id": "715a9a30",
   "metadata": {
    "execution": {
     "iopub.execute_input": "2023-06-29T09:49:20.251376Z",
     "iopub.status.busy": "2023-06-29T09:49:20.250878Z",
     "iopub.status.idle": "2023-06-29T09:49:20.276493Z",
     "shell.execute_reply": "2023-06-29T09:49:20.275722Z"
    },
    "tags": []
   },
   "outputs": [
    {
     "data": {
      "text/html": [
       "<div>\n",
       "<style scoped>\n",
       "    .dataframe tbody tr th:only-of-type {\n",
       "        vertical-align: middle;\n",
       "    }\n",
       "\n",
       "    .dataframe tbody tr th {\n",
       "        vertical-align: top;\n",
       "    }\n",
       "\n",
       "    .dataframe thead th {\n",
       "        text-align: right;\n",
       "    }\n",
       "</style>\n",
       "<table border=\"1\" class=\"dataframe\">\n",
       "  <thead>\n",
       "    <tr style=\"text-align: right;\">\n",
       "      <th></th>\n",
       "      <th>Complaint Type</th>\n",
       "      <th>Borough</th>\n",
       "      <th>Created Date</th>\n",
       "      <th>Descriptor</th>\n",
       "    </tr>\n",
       "  </thead>\n",
       "  <tbody>\n",
       "    <tr>\n",
       "      <th>4</th>\n",
       "      <td>Noise - Street/Sidewalk</td>\n",
       "      <td>BROOKLYN</td>\n",
       "      <td>2004-01-06 09:26:20</td>\n",
       "      <td>Broken Fence</td>\n",
       "    </tr>\n",
       "    <tr>\n",
       "      <th>74</th>\n",
       "      <td>Noise - Street/Sidewalk</td>\n",
       "      <td>BROOKLYN</td>\n",
       "      <td>2012-07-08 08:36:48</td>\n",
       "      <td>Broken Glass</td>\n",
       "    </tr>\n",
       "    <tr>\n",
       "      <th>97</th>\n",
       "      <td>Noise - Street/Sidewalk</td>\n",
       "      <td>BROOKLYN</td>\n",
       "      <td>1978-10-16 07:21:26</td>\n",
       "      <td>Branch or Limb Has Fallen Down</td>\n",
       "    </tr>\n",
       "    <tr>\n",
       "      <th>103</th>\n",
       "      <td>Noise - Street/Sidewalk</td>\n",
       "      <td>BROOKLYN</td>\n",
       "      <td>2000-01-14 18:07:00</td>\n",
       "      <td>Branches Damaged</td>\n",
       "    </tr>\n",
       "    <tr>\n",
       "      <th>114</th>\n",
       "      <td>Noise - Street/Sidewalk</td>\n",
       "      <td>BROOKLYN</td>\n",
       "      <td>2016-02-28 00:51:46</td>\n",
       "      <td>Branches Damaged</td>\n",
       "    </tr>\n",
       "    <tr>\n",
       "      <th>124</th>\n",
       "      <td>Noise - Street/Sidewalk</td>\n",
       "      <td>BROOKLYN</td>\n",
       "      <td>1976-11-02 17:27:54</td>\n",
       "      <td>Branch or Limb Has Fallen Down</td>\n",
       "    </tr>\n",
       "    <tr>\n",
       "      <th>126</th>\n",
       "      <td>Noise - Street/Sidewalk</td>\n",
       "      <td>BROOKLYN</td>\n",
       "      <td>1986-02-28 12:31:37</td>\n",
       "      <td>Broken Fence</td>\n",
       "    </tr>\n",
       "    <tr>\n",
       "      <th>136</th>\n",
       "      <td>Noise - Street/Sidewalk</td>\n",
       "      <td>BROOKLYN</td>\n",
       "      <td>1983-10-08 08:25:14</td>\n",
       "      <td>Broken Glass</td>\n",
       "    </tr>\n",
       "    <tr>\n",
       "      <th>194</th>\n",
       "      <td>Noise - Street/Sidewalk</td>\n",
       "      <td>BROOKLYN</td>\n",
       "      <td>1988-11-24 12:23:35</td>\n",
       "      <td>Branch or Limb Has Fallen Down</td>\n",
       "    </tr>\n",
       "    <tr>\n",
       "      <th>199</th>\n",
       "      <td>Noise - Street/Sidewalk</td>\n",
       "      <td>BROOKLYN</td>\n",
       "      <td>1984-05-12 00:51:58</td>\n",
       "      <td>Broken Glass</td>\n",
       "    </tr>\n",
       "  </tbody>\n",
       "</table>\n",
       "</div>"
      ],
      "text/plain": [
       "              Complaint Type   Borough        Created Date                      Descriptor\n",
       "4    Noise - Street/Sidewalk  BROOKLYN 2004-01-06 09:26:20                    Broken Fence\n",
       "74   Noise - Street/Sidewalk  BROOKLYN 2012-07-08 08:36:48                    Broken Glass\n",
       "97   Noise - Street/Sidewalk  BROOKLYN 1978-10-16 07:21:26  Branch or Limb Has Fallen Down\n",
       "103  Noise - Street/Sidewalk  BROOKLYN 2000-01-14 18:07:00                Branches Damaged\n",
       "114  Noise - Street/Sidewalk  BROOKLYN 2016-02-28 00:51:46                Branches Damaged\n",
       "124  Noise - Street/Sidewalk  BROOKLYN 1976-11-02 17:27:54  Branch or Limb Has Fallen Down\n",
       "126  Noise - Street/Sidewalk  BROOKLYN 1986-02-28 12:31:37                    Broken Fence\n",
       "136  Noise - Street/Sidewalk  BROOKLYN 1983-10-08 08:25:14                    Broken Glass\n",
       "194  Noise - Street/Sidewalk  BROOKLYN 1988-11-24 12:23:35  Branch or Limb Has Fallen Down\n",
       "199  Noise - Street/Sidewalk  BROOKLYN 1984-05-12 00:51:58                    Broken Glass"
      ]
     },
     "execution_count": 26,
     "metadata": {},
     "output_type": "execute_result"
    }
   ],
   "source": [
    "complaints[is_noise & in_brooklyn][['Complaint Type', 'Borough', 'Created Date', 'Descriptor']][:10]"
   ]
  },
  {
   "cell_type": "markdown",
   "id": "1bd114e4",
   "metadata": {},
   "source": [
    "### A digression about numpy arrays"
   ]
  },
  {
   "cell_type": "markdown",
   "id": "dad39add",
   "metadata": {},
   "source": [
    "On the inside, the type of a column is pd.Series"
   ]
  },
  {
   "cell_type": "code",
   "execution_count": 27,
   "id": "4d882457",
   "metadata": {
    "execution": {
     "iopub.execute_input": "2023-06-29T09:49:20.279706Z",
     "iopub.status.busy": "2023-06-29T09:49:20.279198Z",
     "iopub.status.idle": "2023-06-29T09:49:20.284315Z",
     "shell.execute_reply": "2023-06-29T09:49:20.283660Z"
    },
    "tags": []
   },
   "outputs": [],
   "source": [
    "import pandas as pd\n",
    "import numpy as np"
   ]
  },
  {
   "cell_type": "code",
   "execution_count": 28,
   "id": "b9361f36",
   "metadata": {
    "execution": {
     "iopub.execute_input": "2023-06-29T09:49:20.287416Z",
     "iopub.status.busy": "2023-06-29T09:49:20.287034Z",
     "iopub.status.idle": "2023-06-29T09:49:20.299041Z",
     "shell.execute_reply": "2023-06-29T09:49:20.298012Z"
    },
    "tags": []
   },
   "outputs": [
    {
     "data": {
      "text/plain": [
       "0    1\n",
       "1    2\n",
       "2    3\n",
       "dtype: int64"
      ]
     },
     "execution_count": 28,
     "metadata": {},
     "output_type": "execute_result"
    }
   ],
   "source": [
    "pd.Series([1,2,3])"
   ]
  },
  {
   "cell_type": "markdown",
   "id": "7b6069dd",
   "metadata": {},
   "source": [
    "and pandas Series are internally numpy arrays. If you add .values to the end of any Series, you'll get its internal numpy array"
   ]
  },
  {
   "cell_type": "code",
   "execution_count": 29,
   "id": "321ec348",
   "metadata": {
    "execution": {
     "iopub.execute_input": "2023-06-29T09:49:20.303183Z",
     "iopub.status.busy": "2023-06-29T09:49:20.302636Z",
     "iopub.status.idle": "2023-06-29T09:49:20.311850Z",
     "shell.execute_reply": "2023-06-29T09:49:20.311116Z"
    },
    "tags": []
   },
   "outputs": [
    {
     "data": {
      "text/plain": [
       "array([1, 2, 3])"
      ]
     },
     "execution_count": 29,
     "metadata": {},
     "output_type": "execute_result"
    }
   ],
   "source": [
    "np.array([1,2,3])"
   ]
  },
  {
   "cell_type": "code",
   "execution_count": 30,
   "id": "d01bdbff",
   "metadata": {
    "execution": {
     "iopub.execute_input": "2023-06-29T09:49:20.315315Z",
     "iopub.status.busy": "2023-06-29T09:49:20.314942Z",
     "iopub.status.idle": "2023-06-29T09:49:20.325253Z",
     "shell.execute_reply": "2023-06-29T09:49:20.324562Z"
    },
    "tags": []
   },
   "outputs": [
    {
     "data": {
      "text/plain": [
       "array([1, 2, 3])"
      ]
     },
     "execution_count": 30,
     "metadata": {},
     "output_type": "execute_result"
    }
   ],
   "source": [
    "pd.Series([1,2,3]).values"
   ]
  },
  {
   "cell_type": "markdown",
   "id": "87e6106e",
   "metadata": {},
   "source": [
    "So this binary-array-selection business is actually something that works with any numpy array:"
   ]
  },
  {
   "cell_type": "code",
   "execution_count": 31,
   "id": "57293d75",
   "metadata": {
    "execution": {
     "iopub.execute_input": "2023-06-29T09:49:20.328416Z",
     "iopub.status.busy": "2023-06-29T09:49:20.327941Z",
     "iopub.status.idle": "2023-06-29T09:49:20.333697Z",
     "shell.execute_reply": "2023-06-29T09:49:20.332851Z"
    },
    "tags": []
   },
   "outputs": [],
   "source": [
    "arr = np.array([1,2,3])"
   ]
  },
  {
   "cell_type": "code",
   "execution_count": 32,
   "id": "87d2cb89",
   "metadata": {
    "execution": {
     "iopub.execute_input": "2023-06-29T09:49:20.338412Z",
     "iopub.status.busy": "2023-06-29T09:49:20.336854Z",
     "iopub.status.idle": "2023-06-29T09:49:20.343972Z",
     "shell.execute_reply": "2023-06-29T09:49:20.343276Z"
    },
    "tags": []
   },
   "outputs": [
    {
     "data": {
      "text/plain": [
       "array([ True, False,  True])"
      ]
     },
     "execution_count": 32,
     "metadata": {},
     "output_type": "execute_result"
    }
   ],
   "source": [
    "arr != 2"
   ]
  },
  {
   "cell_type": "code",
   "execution_count": 33,
   "id": "ab6fee06",
   "metadata": {
    "execution": {
     "iopub.execute_input": "2023-06-29T09:49:20.346864Z",
     "iopub.status.busy": "2023-06-29T09:49:20.346492Z",
     "iopub.status.idle": "2023-06-29T09:49:20.352377Z",
     "shell.execute_reply": "2023-06-29T09:49:20.351536Z"
    },
    "tags": []
   },
   "outputs": [
    {
     "data": {
      "text/plain": [
       "array([1, 3])"
      ]
     },
     "execution_count": 33,
     "metadata": {},
     "output_type": "execute_result"
    }
   ],
   "source": [
    "arr[arr != 2]"
   ]
  },
  {
   "cell_type": "markdown",
   "id": "6747165b",
   "metadata": {},
   "source": [
    "### So, which borough has the most noise complaints?"
   ]
  },
  {
   "cell_type": "code",
   "execution_count": 34,
   "id": "e944501d",
   "metadata": {
    "execution": {
     "iopub.execute_input": "2023-06-29T09:49:20.355354Z",
     "iopub.status.busy": "2023-06-29T09:49:20.354974Z",
     "iopub.status.idle": "2023-06-29T09:49:20.391042Z",
     "shell.execute_reply": "2023-06-29T09:49:20.390211Z"
    },
    "tags": []
   },
   "outputs": [
    {
     "data": {
      "text/plain": [
       "BROOKLYN         6263\n",
       "Unspecified      6258\n",
       "STATEN ISLAND    6223\n",
       "MANHATTAN        6202\n",
       "BRONX            6171\n",
       "QUEENS           6134\n",
       "Name: Borough, dtype: int64"
      ]
     },
     "execution_count": 34,
     "metadata": {},
     "output_type": "execute_result"
    }
   ],
   "source": [
    "is_noise = complaints['Complaint Type'] == \"Noise - Street/Sidewalk\"\n",
    "noise_complaints = complaints[is_noise]\n",
    "noise_complaints['Borough'].value_counts()"
   ]
  },
  {
   "cell_type": "markdown",
   "id": "3ea5d5db",
   "metadata": {},
   "source": [
    "It's the BRONX (for this Mock)! But what if we wanted to divide by the total number of complaints, to make it make a bit more sense? That would be easy too:"
   ]
  },
  {
   "cell_type": "code",
   "execution_count": 35,
   "id": "714e350b",
   "metadata": {
    "execution": {
     "iopub.execute_input": "2023-06-29T09:49:20.394069Z",
     "iopub.status.busy": "2023-06-29T09:49:20.393610Z",
     "iopub.status.idle": "2023-06-29T09:49:20.408175Z",
     "shell.execute_reply": "2023-06-29T09:49:20.407333Z"
    },
    "tags": []
   },
   "outputs": [],
   "source": [
    "noise_complaint_counts = noise_complaints['Borough'].value_counts()\n",
    "complaint_counts = complaints['Borough'].value_counts()"
   ]
  },
  {
   "cell_type": "code",
   "execution_count": 36,
   "id": "3e54521e",
   "metadata": {
    "execution": {
     "iopub.execute_input": "2023-06-29T09:49:20.411596Z",
     "iopub.status.busy": "2023-06-29T09:49:20.410930Z",
     "iopub.status.idle": "2023-06-29T09:49:20.417084Z",
     "shell.execute_reply": "2023-06-29T09:49:20.416373Z"
    },
    "tags": []
   },
   "outputs": [
    {
     "data": {
      "text/plain": [
       "BROOKLYN         6263\n",
       "Unspecified      6258\n",
       "STATEN ISLAND    6223\n",
       "MANHATTAN        6202\n",
       "BRONX            6171\n",
       "QUEENS           6134\n",
       "Name: Borough, dtype: int64"
      ]
     },
     "execution_count": 36,
     "metadata": {},
     "output_type": "execute_result"
    }
   ],
   "source": [
    "noise_complaint_counts"
   ]
  },
  {
   "cell_type": "code",
   "execution_count": 37,
   "id": "879370e5",
   "metadata": {
    "execution": {
     "iopub.execute_input": "2023-06-29T09:49:20.419977Z",
     "iopub.status.busy": "2023-06-29T09:49:20.419530Z",
     "iopub.status.idle": "2023-06-29T09:49:20.426953Z",
     "shell.execute_reply": "2023-06-29T09:49:20.426247Z"
    },
    "tags": []
   },
   "outputs": [
    {
     "data": {
      "text/plain": [
       "BRONX            0.333117\n",
       "BROOKLYN         0.338157\n",
       "MANHATTAN        0.332940\n",
       "QUEENS           0.334278\n",
       "STATEN ISLAND    0.334642\n",
       "Unspecified      0.339205\n",
       "Name: Borough, dtype: float64"
      ]
     },
     "execution_count": 37,
     "metadata": {},
     "output_type": "execute_result"
    }
   ],
   "source": [
    "noise_complaint_counts / complaint_counts"
   ]
  },
  {
   "cell_type": "markdown",
   "id": "30bb9390",
   "metadata": {},
   "source": [
    "Oops, why was that zero? That's no good. This is because of integer division in Python 2. Let's fix it, by converting complaint_counts into an array of floats."
   ]
  },
  {
   "cell_type": "code",
   "execution_count": 38,
   "id": "5ebfc29a",
   "metadata": {
    "execution": {
     "iopub.execute_input": "2023-06-29T09:49:20.429787Z",
     "iopub.status.busy": "2023-06-29T09:49:20.429423Z",
     "iopub.status.idle": "2023-06-29T09:49:20.436850Z",
     "shell.execute_reply": "2023-06-29T09:49:20.436142Z"
    },
    "tags": []
   },
   "outputs": [
    {
     "data": {
      "text/plain": [
       "BRONX            0.333117\n",
       "BROOKLYN         0.338157\n",
       "MANHATTAN        0.332940\n",
       "QUEENS           0.334278\n",
       "STATEN ISLAND    0.334642\n",
       "Unspecified      0.339205\n",
       "Name: Borough, dtype: float64"
      ]
     },
     "execution_count": 38,
     "metadata": {},
     "output_type": "execute_result"
    }
   ],
   "source": [
    "noise_complaint_counts / complaint_counts.astype(float)"
   ]
  },
  {
   "cell_type": "code",
   "execution_count": 39,
   "id": "5b9dfccd",
   "metadata": {
    "execution": {
     "iopub.execute_input": "2023-06-29T09:49:20.439956Z",
     "iopub.status.busy": "2023-06-29T09:49:20.439396Z",
     "iopub.status.idle": "2023-06-29T09:49:20.648019Z",
     "shell.execute_reply": "2023-06-29T09:49:20.647413Z"
    },
    "tags": []
   },
   "outputs": [
    {
     "data": {
      "text/plain": [
       "<Axes: >"
      ]
     },
     "execution_count": 39,
     "metadata": {},
     "output_type": "execute_result"
    },
    {
     "data": {
      "image/png": "[encoded data removed]",
      "text/plain": [
       "<Figure size 1500x500 with 1 Axes>"
      ]
     },
     "metadata": {},
     "output_type": "display_data"
    }
   ],
   "source": [
    "(noise_complaint_counts / complaint_counts.astype(float)).plot(kind='bar')"
   ]
  },
  {
   "cell_type": "markdown",
   "id": "de62dbf8",
   "metadata": {},
   "source": [
    "So Bronx really does complain more about noise than the other boroughs in our mock! Neat."
   ]
  },
  {
   "cell_type": "markdown",
   "id": "96bedffb",
   "metadata": {},
   "source": [
    "## Request real result"
   ]
  },
  {
   "cell_type": "markdown",
   "id": "c56fe966",
   "metadata": {},
   "source": [
    "Now that we finished our analysis on the mock data, we can request this execution on the real data."
   ]
  },
  {
   "cell_type": "code",
   "execution_count": 40,
   "id": "c947ad6b",
   "metadata": {
    "execution": {
     "iopub.execute_input": "2023-06-29T09:49:20.651379Z",
     "iopub.status.busy": "2023-06-29T09:49:20.650828Z",
     "iopub.status.idle": "2023-06-29T09:49:24.036046Z",
     "shell.execute_reply": "2023-06-29T09:49:24.034968Z"
    },
    "tags": []
   },
   "outputs": [
    {
     "name": "stdout",
     "output_type": "stream",
     "text": [
      "Syft function 'get_counts' successfully created. To add a code request, please create a project using `project = syft.Project(...)`, then use command `project.create_code_request`.\n"
     ]
    }
   ],
   "source": [
    "@sy.syft_function(input_policy=sy.ExactMatch(complaints=asset.pointer),\n",
    "                  output_policy=sy.SingleExecutionExactOutput())\n",
    "def get_counts(complaints):\n",
    "    is_noise = complaints['Complaint Type'] == \"Noise - Street/Sidewalk\"\n",
    "    noise_complaints = complaints[is_noise]\n",
    "    noise_complaint_counts = noise_complaints['Borough'].value_counts()\n",
    "    complaint_counts = complaints['Borough'].value_counts()\n",
    "    return noise_complaint_counts / complaint_counts.astype(float)"
   ]
  },
  {
   "cell_type": "markdown",
   "id": "e17c5a93",
   "metadata": {},
   "source": [
    "Create and submit project"
   ]
  },
  {
   "cell_type": "code",
   "execution_count": 41,
   "id": "3714457a-2ddb-4267-b729-6d998306c8c8",
   "metadata": {
    "execution": {
     "iopub.execute_input": "2023-06-29T09:49:24.039491Z",
     "iopub.status.busy": "2023-06-29T09:49:24.039201Z",
     "iopub.status.idle": "2023-06-29T09:49:24.048502Z",
     "shell.execute_reply": "2023-06-29T09:49:24.047738Z"
    },
    "tags": []
   },
   "outputs": [
    {
     "data": {
      "text/html": [
       "\n",
       "            <style>\n",
       "            .syft-project-create {color: #464158;}\n",
       "            </style>\n",
       "            <div class='syft-project-create'><h3>Pandas chapter 3</h3><p>Hi, I would like to plot the histogram of the noise complaint counts per area.</p><p><strong>Created by: </strong>jane@caltech.edu</p></div>"
      ],
      "text/markdown": [
       "```python\n",
       "class ProjectSubmit:\n",
       "  id: str = f99e2bd8afd74e67aec3589a533d4a5f\n",
       "  name: str = \"Pandas chapter 3\"\n",
       "  description: str = \"Hi, I would like to plot the histogram of the noise complaint counts per area.\"\n",
       "  created_by: str = \"jane@caltech.edu\"\n",
       "\n",
       "```"
      ],
      "text/plain": [
       "syft.service.project.project.ProjectSubmit"
      ]
     },
     "execution_count": 41,
     "metadata": {},
     "output_type": "execute_result"
    }
   ],
   "source": [
    "new_project = sy.Project(\n",
    "    name=\"Pandas chapter 3\",\n",
    "    description=\"Hi, I would like to plot the histogram of the noise complaint counts per area.\",\n",
    "    members=[guest_domain_client],\n",
    ")\n",
    "new_project"
   ]
  },
  {
   "cell_type": "code",
   "execution_count": 42,
   "id": "a7e43ba2-4049-4408-85c1-b283dbaf4a84",
   "metadata": {
    "execution": {
     "iopub.execute_input": "2023-06-29T09:49:24.051573Z",
     "iopub.status.busy": "2023-06-29T09:49:24.050986Z",
     "iopub.status.idle": "2023-06-29T09:49:25.259285Z",
     "shell.execute_reply": "2023-06-29T09:49:25.258126Z"
    },
    "tags": []
   },
   "outputs": [
    {
     "data": {
      "text/html": [
       "\n",
       "            <style>\n",
       "            .syft-project {color: #464158;}\n",
       "            </style>\n",
       "            <div class='syft-project'><h3>Pandas chapter 3</h3><p>Hi, I would like to plot the histogram of the noise complaint counts per area.</p><p><strong>Created by: </strong>jane@caltech.edu</p>[]<p>To see a list of projects, use command `&lt;your_client&gt;.projects`</p></div>"
      ],
      "text/markdown": [
       "```python\n",
       "class Project:\n",
       "  id: str = f99e2bd8afd74e67aec3589a533d4a5f\n",
       "  name: str = \"Pandas chapter 3\"\n",
       "  description: str = \"Hi, I would like to plot the histogram of the noise complaint counts per area.\"\n",
       "  created_by: str = \"jane@caltech.edu\"\n",
       "\n",
       "```"
      ],
      "text/plain": [
       "syft.service.project.project.Project"
      ]
     },
     "execution_count": 42,
     "metadata": {},
     "output_type": "execute_result"
    }
   ],
   "source": [
    "project = new_project.start()\n",
    "assert isinstance(project, sy.service.project.project.Project)\n",
    "project"
   ]
  },
  {
   "cell_type": "code",
   "execution_count": 43,
   "id": "698d1c4c-c794-473b-994e-c6af80b0680b",
   "metadata": {
    "execution": {
     "iopub.execute_input": "2023-06-29T09:49:25.262604Z",
     "iopub.status.busy": "2023-06-29T09:49:25.262129Z",
     "iopub.status.idle": "2023-06-29T09:49:26.515107Z",
     "shell.execute_reply": "2023-06-29T09:49:26.514179Z"
    },
    "tags": []
   },
   "outputs": [
    {
     "data": {
      "text/html": [
       "<div class=\"alert-success\" style=\"padding:5px;\"><strong>SyftSuccess</strong>: Code request for 'get_counts' successfully added to 'Pandas chapter 3' Project. To see code requests by a client, run `[your_client].code`</div><br />"
      ],
      "text/plain": [
       "<class 'syft.service.response.SyftSuccess'>: Code request for 'get_counts' successfully added to 'Pandas chapter 3' Project. To see code requests by a client, run `[your_client].code`"
      ]
     },
     "execution_count": 43,
     "metadata": {},
     "output_type": "execute_result"
    }
   ],
   "source": [
    "project.create_code_request(get_counts, guest_domain_client)"
   ]
  },
  {
   "cell_type": "code",
   "execution_count": 44,
   "id": "58298e1a-858f-4b93-87e8-48e90716bfb7",
   "metadata": {
    "execution": {
     "iopub.execute_input": "2023-06-29T09:49:26.518469Z",
     "iopub.status.busy": "2023-06-29T09:49:26.517993Z",
     "iopub.status.idle": "2023-06-29T09:49:26.540362Z",
     "shell.execute_reply": "2023-06-29T09:49:26.539631Z"
    },
    "tags": []
   },
   "outputs": [],
   "source": [
    "assert len(guest_domain_client.code.get_all())==1"
   ]
  },
  {
   "cell_type": "code",
   "execution_count": 45,
   "id": "56b91bc6-e8c1-4dbb-a8f2-62fd40cc4a90",
   "metadata": {
    "execution": {
     "iopub.execute_input": "2023-06-29T09:49:26.543806Z",
     "iopub.status.busy": "2023-06-29T09:49:26.543304Z",
     "iopub.status.idle": "2023-06-29T09:49:26.547459Z",
     "shell.execute_reply": "2023-06-29T09:49:26.546711Z"
    },
    "tags": []
   },
   "outputs": [],
   "source": [
    "assert len(project.events) == 1"
   ]
  },
  {
   "cell_type": "code",
   "execution_count": 46,
   "id": "cdcf3f8f-3922-4bd0-8499-e13951dc174b",
   "metadata": {
    "execution": {
     "iopub.execute_input": "2023-06-29T09:49:26.550425Z",
     "iopub.status.busy": "2023-06-29T09:49:26.550037Z",
     "iopub.status.idle": "2023-06-29T09:49:26.554458Z",
     "shell.execute_reply": "2023-06-29T09:49:26.553671Z"
    },
    "tags": []
   },
   "outputs": [],
   "source": [
    "assert isinstance(project.events[0], sy.service.project.project.ProjectRequest)"
   ]
  },
  {
   "cell_type": "markdown",
   "id": "5c6fc67a",
   "metadata": {},
   "source": [
    "# Data owner: execute function"
   ]
  },
  {
   "cell_type": "markdown",
   "id": "5f4bded4",
   "metadata": {},
   "source": [
    "## Get messages"
   ]
  },
  {
   "cell_type": "code",
   "execution_count": 47,
   "id": "29dc2f2c",
   "metadata": {
    "execution": {
     "iopub.execute_input": "2023-06-29T09:49:26.557387Z",
     "iopub.status.busy": "2023-06-29T09:49:26.557135Z",
     "iopub.status.idle": "2023-06-29T09:49:28.014145Z",
     "shell.execute_reply": "2023-06-29T09:49:28.013349Z"
    },
    "tags": []
   },
   "outputs": [
    {
     "name": "stdout",
     "output_type": "stream",
     "text": [
      "Logged into pandas-test-domain-3 as <info@openmined.org>\n"
     ]
    }
   ],
   "source": [
    "domain_client = node.login(email=\"info@openmined.org\", password=\"changethis\")"
   ]
  },
  {
   "cell_type": "code",
   "execution_count": 48,
   "id": "6ebec184",
   "metadata": {
    "execution": {
     "iopub.execute_input": "2023-06-29T09:49:28.017154Z",
     "iopub.status.busy": "2023-06-29T09:49:28.016678Z",
     "iopub.status.idle": "2023-06-29T09:49:28.051605Z",
     "shell.execute_reply": "2023-06-29T09:49:28.050743Z"
    },
    "tags": []
   },
   "outputs": [],
   "source": [
    "messages = domain_client.api.services.messages.get_all_unread()"
   ]
  },
  {
   "cell_type": "code",
   "execution_count": 49,
   "id": "34a83d8f",
   "metadata": {
    "execution": {
     "iopub.execute_input": "2023-06-29T09:49:28.054830Z",
     "iopub.status.busy": "2023-06-29T09:49:28.054347Z",
     "iopub.status.idle": "2023-06-29T09:49:28.063498Z",
     "shell.execute_reply": "2023-06-29T09:49:28.062743Z"
    },
    "tags": []
   },
   "outputs": [
    {
     "data": {
      "text/html": [
       "\n",
       "<style>\n",
       "  .header-1 {\n",
       "        font-style: normal;\n",
       "        font-weight: 600;\n",
       "        font-size: 2.0736em;\n",
       "        line-height: 100%;\n",
       "        leading-trim: both;\n",
       "        text-edge: cap;\n",
       "        color: #17161D;\n",
       "    }\n",
       "\n",
       "  .header-2 {\n",
       "        font-style: normal;\n",
       "        font-weight: 600;\n",
       "        font-size: 1.728em;\n",
       "        line-height: 100%;\n",
       "        leading-trim: both;\n",
       "        text-edge: cap;\n",
       "        color: #17161D;\n",
       "    }\n",
       "\n",
       "  .header-3 {\n",
       "        font-style: normal;\n",
       "        font-weight: 600;\n",
       "        font-size:  1.44em;\n",
       "        line-height: 100%;\n",
       "        leading-trim: both;\n",
       "        text-edge: cap;\n",
       "        color: #17161D;\n",
       "    }\n",
       "\n",
       "  .header-4 {\n",
       "        font-style: normal;\n",
       "        font-weight: 600;\n",
       "        font-size: 1.2em;\n",
       "        line-height: 100%;\n",
       "        leading-trim: both;\n",
       "        text-edge: cap;\n",
       "        color: #17161D;\n",
       "    }\n",
       "\n",
       "    .paragraph {\n",
       "        font-style: normal;\n",
       "        font-weight: 400;\n",
       "        font-size: 14px;\n",
       "        line-height: 100%;\n",
       "        leading-trim: both;\n",
       "        text-edge: cap;\n",
       "        color: #2E2B3B;\n",
       "    }\n",
       "\n",
       "    .paragraph-sm {\n",
       "        font-family: 'Roboto';\n",
       "        font-style: normal;\n",
       "        font-weight: 400;\n",
       "        font-size: 11.62px;\n",
       "        line-height: 100%;\n",
       "        leading-trim: both;\n",
       "        text-edge: cap;\n",
       "        color: #2E2B3B;\n",
       "    }\n",
       "    .code-text {\n",
       "        font-family: 'Consolas';\n",
       "        font-style: normal;\n",
       "        font-weight: 400;\n",
       "        font-size: 13px;\n",
       "        line-height: 130%;\n",
       "        leading-trim: both;\n",
       "        text-edge: cap;\n",
       "        color: #2E2B3B;\n",
       "    }\n",
       "\n",
       "    .numbering-entry { display: none }\n",
       "\n",
       "    /* Tooltip container */\n",
       "    .tooltip {\n",
       "        position: relative;\n",
       "        display: inline-block;\n",
       "        border-bottom: 1px dotted black; /* If you want dots under the hoverable text */\n",
       "    }\n",
       "\n",
       "    /* Tooltip text */\n",
       "    .tooltip .tooltiptext {\n",
       "        visibility: hidden;\n",
       "        width: 120px;\n",
       "        background-color: black;\n",
       "        color: #fff;\n",
       "        text-align: center;\n",
       "        padding: 5px 0;\n",
       "        border-radius: 6px;\n",
       "\n",
       "        /* Position the tooltip text - see examples below! */\n",
       "        position: absolute;\n",
       "        z-index: 1;\n",
       "    }\n",
       "\n",
       "    .repr-cell {\n",
       "      padding-top: 20px;\n",
       "    }\n",
       "\n",
       "    .text-bold {\n",
       "        font-weight: bold;\n",
       "    }\n",
       "\n",
       "    .pr-8 {\n",
       "        padding-right: 8px;\n",
       "    }\n",
       "    .pt-8 {\n",
       "        padding-top: 8px;\n",
       "    }\n",
       "    .pl-8 {\n",
       "        padding-left: 8px;\n",
       "    }\n",
       "    .pb-8 {\n",
       "        padding-bottom: 8px;\n",
       "    }\n",
       "\n",
       "    .py-25{\n",
       "        padding-top: 25px;\n",
       "        padding-bottom: 25px;\n",
       "    }\n",
       "\n",
       "    .flex {\n",
       "        display: flex;\n",
       "    }\n",
       "\n",
       "    .gap-10 {\n",
       "        gap: 10px;\n",
       "    }\n",
       "    .items-center{\n",
       "        align-items: center;\n",
       "    }\n",
       "\n",
       "    .search-input{\n",
       "        display: flex;\n",
       "        flex-direction: row;\n",
       "        align-items: center;\n",
       "        padding: 8px 12px;\n",
       "        width: 343px;\n",
       "        height: 24px;\n",
       "        /* Lt On Surface/Low */\n",
       "        background: #F1F0F4;\n",
       "        border-radius: 30px;\n",
       "\n",
       "        /* Lt On Surface/Highest */\n",
       "        color: #B4B0BF;\n",
       "        border:none;\n",
       "        /* Inside auto layout */\n",
       "        flex: none;\n",
       "        order: 0;\n",
       "        flex-grow: 0;\n",
       "    }\n",
       "    .search-input:focus {\n",
       "        outline: none;\n",
       "    }\n",
       "\n",
       "    .search-button{\n",
       "        /* Search */\n",
       "        leading-trim: both;\n",
       "        text-edge: cap;\n",
       "        display: flex;\n",
       "        align-items: center;\n",
       "        text-align: center;\n",
       "\n",
       "        /* Primary/On Light */\n",
       "        color: #464A91;\n",
       "\n",
       "        border-radius: 30px;\n",
       "        border-color: #464A91;\n",
       "        /* Inside auto layout */\n",
       "        flex: none;\n",
       "        order: 1;\n",
       "        flex-grow: 0;\n",
       "    }\n",
       "\n",
       "    .grid-tablea2f9067863474ab8988ef092d35aeec9 {\n",
       "        display:grid;\n",
       "        grid-template-columns: 1fr repeat(20, 1fr);\n",
       "        grid-template-rows: repeat(2, 1fr);\n",
       "        overflow-x: auto;\n",
       "    }\n",
       "\n",
       "    .grid-std-cells {\n",
       "        grid-column: span 4;\n",
       "\n",
       "    }\n",
       "    .grid-index-cells {\n",
       "        grid-column: span 1;\n",
       "        background: #ECEBEF;\n",
       "        /* tmp fix to make left col stand out (fix with font-family) */\n",
       "        font-weight: 600;\n",
       "    }\n",
       "\n",
       "    .grid-header {\n",
       "        /* Auto layout */\n",
       "        display: flex;\n",
       "        flex-direction: column;\n",
       "        align-items: flex-start;\n",
       "        padding: 6px 4px;\n",
       "\n",
       "        /* Lt On Surface/Surface */\n",
       "        background: #ECEBEF;\n",
       "        /* Lt On Surface/High */\n",
       "        border: 1px solid #CFCDD6;\n",
       "        color: #2E2B3B;\n",
       "        /* tmp fix to make header stand out (fix with font-family) */\n",
       "        font-weight: 600;\n",
       "    }\n",
       "\n",
       "    .grid-row {\n",
       "        color: #5E5A72;\n",
       "        display: flex;\n",
       "        flex-direction: column;\n",
       "        align-items: flex-start;\n",
       "        padding: 6px 4px;\n",
       "        overflow: hidden;\n",
       "        border: 1px solid #CFCDD6;\n",
       "    }\n",
       "\n",
       "    .badge {\n",
       "        code-text;\n",
       "        border-radius: 30px;\n",
       "    }\n",
       "\n",
       "    .badge-blue {\n",
       "        badge;\n",
       "        background-color: #C2DEF0;\n",
       "        color: #1F567A;\n",
       "    }\n",
       "\n",
       "    .badge-purple {\n",
       "        badge;\n",
       "        background-color: #C9CFE8;\n",
       "        color: #373B7B;\n",
       "    }\n",
       "\n",
       "    .badge-green {\n",
       "        badge;\n",
       "\n",
       "        /* Success/Container */\n",
       "        background-color: #D5F1D5;\n",
       "        color: #256B24;\n",
       "    }\n",
       "\n",
       "    .badge-red {\n",
       "        badge;\n",
       "        background-color: #F2D9DE;\n",
       "        color: #9B2737;\n",
       "    }\n",
       "\n",
       "    .badge-gray {\n",
       "        badge;\n",
       "        background-color: #ECEBEF;\n",
       "        color: #2E2B3B;\n",
       "    }\n",
       "    .paginationContainer{\n",
       "        width: 100%;\n",
       "        height: 30px;\n",
       "        display: flex;\n",
       "        justify-content: center;\n",
       "        gap: 8px;\n",
       "        padding: 5px;\n",
       "    }\n",
       "\n",
       "    .page{\n",
       "        color: black;\n",
       "        font-weight: bold;\n",
       "    }\n",
       "    .page:hover {\n",
       "      color: #38bdf8;\n",
       "      cursor: pointer;\n",
       "    }\n",
       "    .clipboard:hover{\n",
       "        cursor: pointer;\n",
       "    }\n",
       "\n",
       "    .search-field {\n",
       "        display: flex;\n",
       "        align-items: center;\n",
       "        background: #F1F0F4;\n",
       "        border-radius: 30px;\n",
       "    }\n",
       "\n",
       "    .syft-dropdown {\n",
       "        margin: 5px;\n",
       "        margin-left: 5px;\n",
       "        position: relative;\n",
       "        display: inline-block;\n",
       "        text-align: center;\n",
       "        background-color: #d1d5db;\n",
       "        min-width: 100px;\n",
       "        padding: 2px;\n",
       "        border-radius: 30px;\n",
       "    }\n",
       "\n",
       "    .syft-dropdown:hover {\n",
       "        cursor: pointer;\n",
       "    }\n",
       "    .syft-dropdown-content {\n",
       "        margin-top:26px;\n",
       "        display: none;\n",
       "        position: absolute;\n",
       "        background-color: #f9f9f9;\n",
       "        min-width: 100px;\n",
       "        box-shadow: 0px 8px 16px 0px rgba(0,0,0,0.2);\n",
       "        padding: 12px 6px;\n",
       "        z-index: 1;\n",
       "    }\n",
       "    .dd-options {\n",
       "        padding-top: 4px;\n",
       "    }\n",
       "    .dd-options:first-of-type {\n",
       "        padding-top: 0px;\n",
       "    }\n",
       "\n",
       "    .dd-options:hover {\n",
       "        cursor: pointer;\n",
       "        background: #d1d5db;\n",
       "    }\n",
       "    .arrow {\n",
       "        border: solid black;\n",
       "        border-width: 0 3px 3px 0;\n",
       "        display: inline-block;\n",
       "        padding: 3px;\n",
       "    }\n",
       "    .down {\n",
       "        transform: rotate(45deg);\n",
       "        -webkit-transform: rotate(45deg);\n",
       "    }\n",
       "</style>\n",
       "\n",
       "\n",
       "    <div style='margin-top:15px;'>\n",
       "        <div class='flex gap-10' style='align-items: center;'>\n",
       "            <div><svg width=\"32\" height=\"32\" viewBox=\"0 0 32 32\" fill=\"none\" xmlns=\"http://www.w3.org/2000/svg\"> <path d=\"M28 6H4C3.73478 6 3.48043 6.10536 3.29289 6.29289C3.10536 6.48043 3 6.73478 3 7V24C3 24.5304 3.21071 25.0391 3.58579 25.4142C3.96086 25.7893 4.46957 26 5 26H27C27.5304 26 28.0391 25.7893 28.4142 25.4142C28.7893 25.0391 29 24.5304 29 24V7C29 6.73478 28.8946 6.48043 28.7071 6.29289C28.5196 6.10536 28.2652 6 28 6ZM5 14H10V18H5V14ZM12 14H27V18H12V14ZM27 8V12H5V8H27ZM5 20H10V24H5V20ZM27 24H12V20H27V24Z\" fill=\"#343330\"/></svg></div>\n",
       "            <div><p class='header-3'>Message List</p></div>\n",
       "        </div>\n",
       "\n",
       "            <div style=\"padding-top: 16px; display:flex;justify-content: space-between; align-items: center;\">\n",
       "                <div class='pt-25 gap-10' style=\"display:flex;\">\n",
       "                    <div class=\"search-field\">\n",
       "                        <div id='search-menua2f9067863474ab8988ef092d35aeec9' class=\"syft-dropdown\" onclick=\"{\n",
       "                            let doc = document.getElementById('search-dropdown-contenta2f9067863474ab8988ef092d35aeec9')\n",
       "                            if (doc.style.display === 'block'){\n",
       "                                doc.style.display = 'none'\n",
       "                            } else {\n",
       "                                doc.style.display = 'block'\n",
       "                            }\n",
       "                            }\">\n",
       "                            <div id='search-dropdown-contenta2f9067863474ab8988ef092d35aeec9' class='syft-dropdown-content'></div>\n",
       "                            <script>\n",
       "                                var elementa2f9067863474ab8988ef092d35aeec9 = [{\"id\": {\"value\": \"e829a7df8ea547e4ae740ff018fdfb01\", \"type\": \"clipboard\"}, \"Subject\": \"Code Request for Project: Pandas chapter 3 has been submitted by jane@caltech.edu\", \"Status\": \"Unread\", \"Created At\": \"2023-06-29 09:49:25\", \"Linked object\": \"Request (9d6ef51c6fee475c8d6ec0b34ff620c1)\"}, {\"id\": {\"value\": \"b74a7d926ac24deebd4ee66ea2e1f145\", \"type\": \"clipboard\"}, \"Subject\": \"A new request has been added to the Project: Pandas chapter 3.\", \"Status\": \"Unread\", \"Created At\": \"2023-06-29 09:49:26\", \"Linked object\": \"Project (f99e2bd8afd74e67aec3589a533d4a5f)\"}]\n",
       "                                var page_sizea2f9067863474ab8988ef092d35aeec9 = 2\n",
       "                                var pageIndexa2f9067863474ab8988ef092d35aeec9 = 1\n",
       "                                var paginatedElementsa2f9067863474ab8988ef092d35aeec9 = []\n",
       "                                var activeFiltera2f9067863474ab8988ef092d35aeec9;\n",
       "\n",
       "                                function buildDropDownMenu(elements){\n",
       "                                    let init_filter;\n",
       "                                    let menu = document.getElementById('search-dropdown-contenta2f9067863474ab8988ef092d35aeec9')\n",
       "                                    if (elements.length > 0) {\n",
       "                                        let sample = elements[0]\n",
       "                                        for (const attr in sample) {\n",
       "                                            if (typeof init_filter === 'undefined'){\n",
       "                                                init_filter = attr;\n",
       "                                            }\n",
       "                                            let content = document.createElement('div');\n",
       "                                            content.onclick = function(event) {\n",
       "                                                event.stopPropagation()\n",
       "                                                document.getElementById('menu-active-filtera2f9067863474ab8988ef092d35aeec9').innerText = attr;\n",
       "                                                activeFiltera2f9067863474ab8988ef092d35aeec9 = attr;\n",
       "                                                document.getElementById(\n",
       "                                                    'search-dropdown-contenta2f9067863474ab8988ef092d35aeec9'\n",
       "                                                ).style.display= 'none';\n",
       "                                            }\n",
       "                                            content.classList.add(\"dd-options\");\n",
       "                                            content.innerText = attr;\n",
       "                                            menu.appendChild(content);\n",
       "                                        }\n",
       "                                    } else {\n",
       "                                        let init_filter = '---'\n",
       "                                    }\n",
       "                                    let dropdown_field = document.getElementById('search-menua2f9067863474ab8988ef092d35aeec9')\n",
       "                                    let span = document.createElement('span')\n",
       "                                    span.setAttribute('id', 'menu-active-filtera2f9067863474ab8988ef092d35aeec9')\n",
       "                                    span.innerText = init_filter\n",
       "                                    activeFiltera2f9067863474ab8988ef092d35aeec9 = init_filter;\n",
       "                                    dropdown_field.appendChild(span)\n",
       "                                }\n",
       "\n",
       "                                buildDropDownMenu(elementa2f9067863474ab8988ef092d35aeec9)\n",
       "                            </script>\n",
       "                        </div>\n",
       "                        <input id='searchKeya2f9067863474ab8988ef092d35aeec9' class='search-input' placeholder='Enter search here ...'  />\n",
       "                    </div>\n",
       "                    <button class='search-button'  onclick=\"searchGrida2f9067863474ab8988ef092d35aeec9(elementa2f9067863474ab8988ef092d35aeec9)\">\n",
       "                        <svg width=\"11\" height=\"10\" viewBox=\"0 0 11 10\" fill=\"none\" xmlns=\"http://www.w3.org/2000/svg\"><path d=\"M10.5652 9.23467L8.21819 6.88811C8.89846 6.07141 9.23767 5.02389 9.16527 3.96345C9.09287 2.90302 8.61443 1.91132 7.82948 1.19466C7.04453 0.477995 6.01349 0.0915414 4.95087 0.115691C3.88824 0.139841 2.87583 0.572735 2.12425 1.32432C1.37266 2.0759 0.939768 3.08831 0.915618 4.15094C0.891468 5.21357 1.27792 6.2446 1.99459 7.02955C2.71125 7.8145 3.70295 8.29294 4.76338 8.36535C5.82381 8.43775 6.87134 8.09853 7.68804 7.41827L10.0346 9.7653C10.0694 9.80014 10.1108 9.82778 10.1563 9.84663C10.2018 9.86549 10.2506 9.87519 10.2999 9.87519C10.3492 9.87519 10.398 9.86549 10.4435 9.84663C10.489 9.82778 10.5304 9.80014 10.5652 9.7653C10.6001 9.73046 10.6277 9.68909 10.6466 9.64357C10.6654 9.59805 10.6751 9.54926 10.6751 9.49998C10.6751 9.45071 10.6654 9.40192 10.6466 9.3564C10.6277 9.31088 10.6001 9.26951 10.5652 9.23467ZM1.67491 4.24998C1.67491 3.58247 1.87285 2.92995 2.2437 2.37493C2.61455 1.81992 3.14165 1.38734 3.75835 1.13189C4.37506 0.876446 5.05366 0.809609 5.70834 0.939835C6.36303 1.07006 6.96439 1.3915 7.4364 1.8635C7.9084 2.3355 8.22984 2.93687 8.36006 3.59155C8.49029 4.24624 8.42345 4.92484 8.168 5.54154C7.91256 6.15824 7.47998 6.68535 6.92496 7.05619C6.36995 7.42704 5.71742 7.62498 5.04991 7.62498C4.15511 7.62399 3.29724 7.26809 2.66452 6.63537C2.0318 6.00265 1.6759 5.14479 1.67491 4.24998Z\" fill=\"#464A91\"/></svg>\n",
       "                        <span class='pl-8'>Search</span>\n",
       "                    </button>\n",
       "                </div>\n",
       "\n",
       "                <div><h4 id='totala2f9067863474ab8988ef092d35aeec9'>0</h4></div>\n",
       "            </div>\n",
       "            <div id='tablea2f9067863474ab8988ef092d35aeec9' class='grid-tablea2f9067863474ab8988ef092d35aeec9' style='margin-top: 25px;'>\n",
       "                <script>\n",
       "                    function paginatea2f9067863474ab8988ef092d35aeec9(arr, size) {\n",
       "                        const res = [];\n",
       "                        for (let i = 0; i < arr.length; i += size) {\n",
       "                            const chunk = arr.slice(i, i + size);\n",
       "                            res.push(chunk);\n",
       "                        }\n",
       "\n",
       "                        return res;\n",
       "                    }\n",
       "\n",
       "                    function searchGrida2f9067863474ab8988ef092d35aeec9(elements){\n",
       "                        let searchKey = document.getElementById('searchKeya2f9067863474ab8988ef092d35aeec9').value\n",
       "                        console.log(\"Search Key: \", searchKey)\n",
       "                        let result;\n",
       "                        if (searchKey === ''){\n",
       "                            result = elements;\n",
       "                        } else {\n",
       "                            result = elements.filter((element) => {\n",
       "                                let property = element[activeFiltera2f9067863474ab8988ef092d35aeec9]\n",
       "                                if (typeof property === 'object' && property !== null){\n",
       "                                    return property.value.toLowerCase().includes(searchKey.toLowerCase());\n",
       "                                } else if (typeof property === 'string' ) {\n",
       "                                    return element[activeFiltera2f9067863474ab8988ef092d35aeec9].toLowerCase().includes(searchKey.toLowerCase());\n",
       "                                } else if (property !== null ) {\n",
       "                                    return element[activeFiltera2f9067863474ab8988ef092d35aeec9].toString() === searchKey;\n",
       "                                } else {\n",
       "                                    return element[activeFiltera2f9067863474ab8988ef092d35aeec9] === searchKey;\n",
       "                                }\n",
       "                            } );\n",
       "                        }\n",
       "                        resetByIda2f9067863474ab8988ef092d35aeec9('tablea2f9067863474ab8988ef092d35aeec9');\n",
       "                        resetByIda2f9067863474ab8988ef092d35aeec9('paga2f9067863474ab8988ef092d35aeec9');\n",
       "                        result = paginatea2f9067863474ab8988ef092d35aeec9(result, page_sizea2f9067863474ab8988ef092d35aeec9)\n",
       "                        buildGrida2f9067863474ab8988ef092d35aeec9(result,pageIndexa2f9067863474ab8988ef092d35aeec9);\n",
       "                        buildPaginationContainera2f9067863474ab8988ef092d35aeec9(result);\n",
       "                    }\n",
       "\n",
       "                    function resetByIda2f9067863474ab8988ef092d35aeec9(id){\n",
       "                        let element = document.getElementById(id);\n",
       "                        while (element.firstChild) {\n",
       "                          element.removeChild(element.firstChild);\n",
       "                        }\n",
       "                    }\n",
       "\n",
       "                    function buildGrida2f9067863474ab8988ef092d35aeec9(items, pageIndex){\n",
       "                                let headers = Object.keys(elementa2f9067863474ab8988ef092d35aeec9[0]);\n",
       "\n",
       "                                let grid = document.getElementById(\"tablea2f9067863474ab8988ef092d35aeec9\");\n",
       "                                let div = document.createElement(\"div\");\n",
       "                                div.classList.add('grid-header', 'grid-index-cells');\n",
       "                                grid.appendChild(div);\n",
       "                                headers.forEach((title) =>{\n",
       "                                    let div = document.createElement(\"div\");\n",
       "                                    div.classList.add('grid-header', 'grid-std-cells');\n",
       "                                    div.innerText = title;\n",
       "\n",
       "                                    grid.appendChild(div);\n",
       "                                });\n",
       "\n",
       "                                let page = items[pageIndex -1]\n",
       "                                if (page !== 'undefine'){\n",
       "                                    let table_indexa2f9067863474ab8988ef092d35aeec9 = ((pageIndex - 1) * page_sizea2f9067863474ab8988ef092d35aeec9)\n",
       "                                    page.forEach((item) => {\n",
       "                                        let grid = document.getElementById(\"tablea2f9067863474ab8988ef092d35aeec9\");\n",
       "                                        // Add new index value in index cells\n",
       "                                        let divIndex = document.createElement(\"div\");\n",
       "                                        divIndex.classList.add('grid-row', 'grid-index-cells');\n",
       "                                        divIndex.innerText = table_indexa2f9067863474ab8988ef092d35aeec9;\n",
       "                                        grid.appendChild(divIndex);\n",
       "\n",
       "                                        // Iterate over the actual obj\n",
       "                                        for (const attr in item) {\n",
       "                                            let div = document.createElement(\"div\");\n",
       "                                            if (typeof item[attr] === 'object'\n",
       "                                                && item[attr] !== null\n",
       "                                                && item[attr].hasOwnProperty('type')) {\n",
       "                                                if (item[attr].type.includes('badge')){\n",
       "                                                    let badge_div = document.createElement(\"div\");\n",
       "                                                    badge_div.classList.add('badge',item[attr].type)\n",
       "                                                    badge_div.innerText = String(item[attr].value).toUpperCase();\n",
       "                                                    div.appendChild(badge_div);\n",
       "                                                    div.classList.add('grid-row','grid-std-cells');\n",
       "                                                } else if (item[attr].type === \"clipboard\") {\n",
       "                                                    div.classList.add('grid-row','grid-std-cells');\n",
       "\n",
       "                                                    // Create clipboard div\n",
       "                                                    let clipboard_div = document.createElement('div');\n",
       "                                                    clipboard_div.style.display= 'flex';\n",
       "                                                    clipboard_div.classList.add(\"gap-10\")\n",
       "                                                    clipboard_div.style.justifyContent = \"space-between\";\n",
       "\n",
       "                                                    let id_text = document.createElement('div');\n",
       "                                                    if (item[attr].value == \"None\"){\n",
       "                                                        id_text.innerText = \"None\";\n",
       "                                                    }\n",
       "                                                    else{\n",
       "                                                        id_text.innerText = item[attr].value.slice(0,5) + \"...\";\n",
       "                                                    }\n",
       "\n",
       "                                                    clipboard_div.appendChild(id_text);\n",
       "                                                    let clipboard_img = document.createElement('div');\n",
       "                                                    clipboard_img.classList.add(\"clipboard\")\n",
       "                                                    div.onclick = function() {\n",
       "                                                        navigator.clipboard.writeText(item[attr].value);\n",
       "                                                    };\n",
       "                                                    clipboard_img.innerHTML = \"<svg width='8' height='8' viewBox='0 0 8 8' fill='none' xmlns='http://www.w3.org/2000/svg'><path d='M7.4375 0.25H2.4375C2.35462 0.25 2.27513 0.282924 2.21653 0.341529C2.15792 0.400134 2.125 0.47962 2.125 0.5625V2.125H0.5625C0.47962 2.125 0.400134 2.15792 0.341529 2.21653C0.282924 2.27513 0.25 2.35462 0.25 2.4375V7.4375C0.25 7.52038 0.282924 7.59987 0.341529 7.65847C0.400134 7.71708 0.47962 7.75 0.5625 7.75H5.5625C5.64538 7.75 5.72487 7.71708 5.78347 7.65847C5.84208 7.59987 5.875 7.52038 5.875 7.4375V5.875H7.4375C7.52038 5.875 7.59987 5.84208 7.65847 5.78347C7.71708 5.72487 7.75 5.64538 7.75 5.5625V0.5625C7.75 0.47962 7.71708 0.400134 7.65847 0.341529C7.59987 0.282924 7.52038 0.25 7.4375 0.25ZM5.25 7.125H0.875V2.75H5.25V7.125ZM7.125 5.25H5.875V2.4375C5.875 2.35462 5.84208 2.27513 5.78347 2.21653C5.72487 2.15792 5.64538 2.125 5.5625 2.125H2.75V0.875H7.125V5.25Z' fill='#464158'/></svg>\";\n",
       "\n",
       "                                                    clipboard_div.appendChild(clipboard_img);\n",
       "                                                    div.appendChild(clipboard_div);\n",
       "                                                }\n",
       "                                            } else{\n",
       "                                                div.classList.add('grid-row','grid-std-cells');\n",
       "                                                if (item[attr] == null) {\n",
       "                                                    text = ' '\n",
       "                                                } else {\n",
       "                                                    text = String(item[attr])\n",
       "                                                }\n",
       "                                                if (text.length > 150){\n",
       "                                                    text = text.slice(0,150) + \"...\";\n",
       "                                                }\n",
       "                                                text = text.replaceAll(\"\\n\", \"</br>\");\n",
       "                                                div.innerHTML = text;\n",
       "                                            }\n",
       "                                            grid.appendChild(div);\n",
       "                                        }\n",
       "                                    table_indexa2f9067863474ab8988ef092d35aeec9 = table_indexa2f9067863474ab8988ef092d35aeec9 + 1;\n",
       "                                    })\n",
       "                                }\n",
       "                    }\n",
       "                    paginatedElementsa2f9067863474ab8988ef092d35aeec9 = paginatea2f9067863474ab8988ef092d35aeec9(elementa2f9067863474ab8988ef092d35aeec9, page_sizea2f9067863474ab8988ef092d35aeec9)\n",
       "                    buildGrida2f9067863474ab8988ef092d35aeec9(paginatedElementsa2f9067863474ab8988ef092d35aeec9, 1)\n",
       "                    document.getElementById('totala2f9067863474ab8988ef092d35aeec9').innerText = \"Total: \" + elementa2f9067863474ab8988ef092d35aeec9.length\n",
       "                </script>\n",
       "            </div>\n",
       "            <div id='paga2f9067863474ab8988ef092d35aeec9' class='paginationContainer'>\n",
       "                <script>\n",
       "                    function buildPaginationContainera2f9067863474ab8988ef092d35aeec9(paginatedElements){\n",
       "                            let pageContainer = document.getElementById(\"paga2f9067863474ab8988ef092d35aeec9\");\n",
       "                            for (let i = 0; i < paginatedElements.length; i++) {\n",
       "                                  let div = document.createElement(\"div\");\n",
       "                                  div.classList.add('page');\n",
       "                                  div.style.color = 'gray';\n",
       "                                  div.onclick = function(event) {\n",
       "                                      let indexes = document.getElementsByClassName('page');\n",
       "                                      for (let index of indexes) { index.style.color = 'gray' }\n",
       "                                      event.target.style.color = \"black\"\n",
       "                                      setPagea2f9067863474ab8988ef092d35aeec9(i + 1);\n",
       "                                  };\n",
       "                                  div.innerText = i + 1;\n",
       "                                  pageContainer.appendChild(div);\n",
       "                            }\n",
       "                    }\n",
       "\n",
       "                    function setPagea2f9067863474ab8988ef092d35aeec9(newPage){\n",
       "                        pageIndex = newPage\n",
       "                        resetByIda2f9067863474ab8988ef092d35aeec9('tablea2f9067863474ab8988ef092d35aeec9')\n",
       "                        buildGrida2f9067863474ab8988ef092d35aeec9(paginatedElementsa2f9067863474ab8988ef092d35aeec9, pageIndex)\n",
       "                    }\n",
       "\n",
       "                    buildPaginationContainera2f9067863474ab8988ef092d35aeec9(paginatedElementsa2f9067863474ab8988ef092d35aeec9)\n",
       "                </script>\n",
       "            </div>\n",
       "        </div>\n",
       "    </div>\n",
       "    </div>\n"
      ],
      "text/plain": [
       "[syft.service.message.messages.Message, syft.service.message.messages.Message]"
      ]
     },
     "execution_count": 49,
     "metadata": {},
     "output_type": "execute_result"
    }
   ],
   "source": [
    "messages"
   ]
  },
  {
   "cell_type": "code",
   "execution_count": 50,
   "id": "f491713c",
   "metadata": {
    "execution": {
     "iopub.execute_input": "2023-06-29T09:49:28.068215Z",
     "iopub.status.busy": "2023-06-29T09:49:28.067962Z",
     "iopub.status.idle": "2023-06-29T09:49:28.072938Z",
     "shell.execute_reply": "2023-06-29T09:49:28.071863Z"
    },
    "tags": []
   },
   "outputs": [],
   "source": [
    "project_message = [x for x in messages if issubclass(x.linked_obj.object_type, Project)][0]"
   ]
  },
  {
   "cell_type": "code",
   "execution_count": 51,
   "id": "e450a3af",
   "metadata": {
    "execution": {
     "iopub.execute_input": "2023-06-29T09:49:28.075618Z",
     "iopub.status.busy": "2023-06-29T09:49:28.075381Z",
     "iopub.status.idle": "2023-06-29T09:49:28.133570Z",
     "shell.execute_reply": "2023-06-29T09:49:28.132730Z"
    },
    "tags": []
   },
   "outputs": [],
   "source": [
    "request = project_message.link.events[0].request\n",
    "func = request.changes[0].link\n",
    "op = func.output_policy_type"
   ]
  },
  {
   "cell_type": "code",
   "execution_count": 52,
   "id": "cd5822af",
   "metadata": {
    "execution": {
     "iopub.execute_input": "2023-06-29T09:49:28.136685Z",
     "iopub.status.busy": "2023-06-29T09:49:28.136229Z",
     "iopub.status.idle": "2023-06-29T09:49:28.141690Z",
     "shell.execute_reply": "2023-06-29T09:49:28.140995Z"
    },
    "tags": []
   },
   "outputs": [
    {
     "data": {
      "text/markdown": [
       "```python\n",
       "class UserCode\n",
       "    id: str = ad8f2ed825384c2fa6196dff912abd83\n",
       "    status.approved: str = False\n",
       "    service_func_name: str = get_counts\n",
       "    code:\n",
       "\n",
       "@sy.syft_function(input_policy=sy.ExactMatch(complaints=asset.pointer),\n",
       "                  output_policy=sy.SingleExecutionExactOutput())\n",
       "def get_counts(complaints):\n",
       "    is_noise = complaints['Complaint Type'] == \"Noise - Street/Sidewalk\"\n",
       "    noise_complaints = complaints[is_noise]\n",
       "    noise_complaint_counts = noise_complaints['Borough'].value_counts()\n",
       "    complaint_counts = complaints['Borough'].value_counts()\n",
       "    return noise_complaint_counts / complaint_counts.astype(float)\n",
       "\n",
       "```"
      ],
      "text/plain": [
       "syft.service.code.user_code.UserCode"
      ]
     },
     "execution_count": 52,
     "metadata": {},
     "output_type": "execute_result"
    }
   ],
   "source": [
    "func"
   ]
  },
  {
   "cell_type": "code",
   "execution_count": 53,
   "id": "c173017d",
   "metadata": {
    "execution": {
     "iopub.execute_input": "2023-06-29T09:49:28.144578Z",
     "iopub.status.busy": "2023-06-29T09:49:28.144223Z",
     "iopub.status.idle": "2023-06-29T09:49:28.148522Z",
     "shell.execute_reply": "2023-06-29T09:49:28.147822Z"
    },
    "tags": []
   },
   "outputs": [
    {
     "name": "stdout",
     "output_type": "stream",
     "text": [
      "WARNING: This code was submitted by a User and could be UNSAFE.\n"
     ]
    }
   ],
   "source": [
    "get_counts_user_func = func.unsafe_function"
   ]
  },
  {
   "cell_type": "code",
   "execution_count": 54,
   "id": "3a708eb0",
   "metadata": {
    "execution": {
     "iopub.execute_input": "2023-06-29T09:49:28.151377Z",
     "iopub.status.busy": "2023-06-29T09:49:28.150932Z",
     "iopub.status.idle": "2023-06-29T09:49:30.227275Z",
     "shell.execute_reply": "2023-06-29T09:49:30.226364Z"
    },
    "tags": []
   },
   "outputs": [],
   "source": [
    "real_data = domain_client.datasets[0].assets[0].data"
   ]
  },
  {
   "cell_type": "code",
   "execution_count": 55,
   "id": "34fc6c8b",
   "metadata": {
    "execution": {
     "iopub.execute_input": "2023-06-29T09:49:30.230629Z",
     "iopub.status.busy": "2023-06-29T09:49:30.230359Z",
     "iopub.status.idle": "2023-06-29T09:49:30.259424Z",
     "shell.execute_reply": "2023-06-29T09:49:30.258558Z"
    },
    "tags": []
   },
   "outputs": [],
   "source": [
    "real_result = get_counts_user_func(complaints=real_data)"
   ]
  },
  {
   "cell_type": "code",
   "execution_count": 56,
   "id": "f25c2403",
   "metadata": {
    "execution": {
     "iopub.execute_input": "2023-06-29T09:49:30.262465Z",
     "iopub.status.busy": "2023-06-29T09:49:30.262218Z",
     "iopub.status.idle": "2023-06-29T09:49:30.269414Z",
     "shell.execute_reply": "2023-06-29T09:49:30.268736Z"
    },
    "tags": []
   },
   "outputs": [
    {
     "data": {
      "text/plain": [
       "BRONX        0.014833\n",
       "BROOKLYN     0.013864\n",
       "MANHATTAN    0.037755\n",
       "Name: Borough, dtype: float64"
      ]
     },
     "execution_count": 56,
     "metadata": {},
     "output_type": "execute_result"
    }
   ],
   "source": [
    "real_result[:3]"
   ]
  },
  {
   "cell_type": "code",
   "execution_count": 57,
   "id": "60adc73c",
   "metadata": {
    "execution": {
     "iopub.execute_input": "2023-06-29T09:49:30.272012Z",
     "iopub.status.busy": "2023-06-29T09:49:30.271780Z",
     "iopub.status.idle": "2023-06-29T09:49:30.589402Z",
     "shell.execute_reply": "2023-06-29T09:49:30.588548Z"
    },
    "tags": []
   },
   "outputs": [],
   "source": [
    "result = request.accept_by_depositing_result(real_result)\n",
    "result\n",
    "assert isinstance(result, sy.SyftSuccess)"
   ]
  },
  {
   "cell_type": "markdown",
   "id": "18f5ff54",
   "metadata": {},
   "source": [
    "# Data scientist: fetch result"
   ]
  },
  {
   "cell_type": "code",
   "execution_count": 58,
   "id": "d4d913d0",
   "metadata": {
    "execution": {
     "iopub.execute_input": "2023-06-29T09:49:30.592500Z",
     "iopub.status.busy": "2023-06-29T09:49:30.592125Z",
     "iopub.status.idle": "2023-06-29T09:49:30.612325Z",
     "shell.execute_reply": "2023-06-29T09:49:30.611628Z"
    },
    "tags": []
   },
   "outputs": [],
   "source": [
    "asset = guest_client.datasets[0].assets[0]"
   ]
  },
  {
   "cell_type": "code",
   "execution_count": 59,
   "id": "b302702f",
   "metadata": {
    "execution": {
     "iopub.execute_input": "2023-06-29T09:49:30.615694Z",
     "iopub.status.busy": "2023-06-29T09:49:30.615211Z",
     "iopub.status.idle": "2023-06-29T09:49:30.638680Z",
     "shell.execute_reply": "2023-06-29T09:49:30.637833Z"
    },
    "tags": []
   },
   "outputs": [
    {
     "data": {
      "text/plain": [
       "{NodeView(node_name='pandas-test-domain-3', verify_key=c5accc4b2c4d5cafc32f09cfd91669d43a607c7cabdc4f0f05093754fa4a5bdc): <UserCodeStatus.EXECUTE: 'execute'>}"
      ]
     },
     "execution_count": 59,
     "metadata": {},
     "output_type": "execute_result"
    }
   ],
   "source": [
    "guest_client.code[0].status"
   ]
  },
  {
   "cell_type": "code",
   "execution_count": 60,
   "id": "7093dad3",
   "metadata": {
    "execution": {
     "iopub.execute_input": "2023-06-29T09:49:30.642235Z",
     "iopub.status.busy": "2023-06-29T09:49:30.641563Z",
     "iopub.status.idle": "2023-06-29T09:49:30.876410Z",
     "shell.execute_reply": "2023-06-29T09:49:30.875760Z"
    },
    "tags": []
   },
   "outputs": [
    {
     "data": {
      "text/plain": [
       "<Axes: >"
      ]
     },
     "execution_count": 60,
     "metadata": {},
     "output_type": "execute_result"
    },
    {
     "data": {
      "image/png": "[encoded data removed]",
      "text/plain": [
       "<Figure size 1500x500 with 1 Axes>"
      ]
     },
     "metadata": {},
     "output_type": "display_data"
    }
   ],
   "source": [
    "result_ptr = guest_client.code.get_counts(complaints=asset)\n",
    "real_result = result_ptr.get()\n",
    "real_result.plot(kind=\"bar\")"
   ]
  },
  {
   "cell_type": "code",
   "execution_count": 61,
   "id": "a6aceacc-a97e-42a8-b9da-3d03eb95c4a2",
   "metadata": {
    "execution": {
     "iopub.execute_input": "2023-06-29T09:49:30.880990Z",
     "iopub.status.busy": "2023-06-29T09:49:30.879560Z",
     "iopub.status.idle": "2023-06-29T09:49:30.886781Z",
     "shell.execute_reply": "2023-06-29T09:49:30.885992Z"
    },
    "tags": []
   },
   "outputs": [
    {
     "name": "stdout",
     "output_type": "stream",
     "text": [
      "Stopping pandas-test-domain-3\n"
     ]
    }
   ],
   "source": [
    "node.land()"
   ]
  },
  {
   "cell_type": "code",
   "execution_count": null,
   "id": "4374c6ed-b64f-4819-aca4-5570676d6c68",
   "metadata": {},
   "outputs": [],
   "source": []
  }
 ],
 "metadata": {
  "kernelspec": {
   "display_name": "Python 3 (ipykernel)",
   "language": "python",
   "name": "python3"
  },
  "language_info": {
   "codemirror_mode": {
    "name": "ipython",
    "version": 3
   },
   "file_extension": ".py",
   "mimetype": "text/x-python",
   "name": "python",
   "nbconvert_exporter": "python",
   "pygments_lexer": "ipython3",
   "version": "3.11.4"
  },
  "toc": {
   "base_numbering": 1,
   "nav_menu": {},
   "number_sections": true,
   "sideBar": true,
   "skip_h1_title": false,
   "title_cell": "Table of Contents",
   "title_sidebar": "Contents",
   "toc_cell": false,
   "toc_position": {
    "height": "calc(100% - 180px)",
    "left": "10px",
    "top": "150px",
    "width": "358.398px"
   },
   "toc_section_display": true,
   "toc_window_display": true
  }
 },
 "nbformat": 4,
 "nbformat_minor": 5
}
