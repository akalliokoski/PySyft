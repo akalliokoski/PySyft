{
 "cells": [
  {
   "cell_type": "markdown",
   "id": "2a6747c8",
   "metadata": {},
   "source": [
    "# How to deal with timestamps"
   ]
  },
  {
   "cell_type": "markdown",
   "id": "5144da74",
   "metadata": {},
   "source": [
    "## Install"
   ]
  },
  {
   "cell_type": "code",
   "execution_count": 1,
   "id": "66c14a6b",
   "metadata": {
    "execution": {
     "iopub.execute_input": "2023-06-29T09:51:38.353888Z",
     "iopub.status.busy": "2023-06-29T09:51:38.353350Z",
     "iopub.status.idle": "2023-06-29T09:51:38.360917Z",
     "shell.execute_reply": "2023-06-29T09:51:38.360196Z"
    },
    "tags": []
   },
   "outputs": [],
   "source": [
    "SYFT_VERSION = \">=0.8.2.b0,<0.9\"\n",
    "package_string = f'\"syft{SYFT_VERSION}\"'\n",
    "# %pip install {package_string} -f https://whls.blob.core.windows.net/unstable/index.html -q"
   ]
  },
  {
   "cell_type": "code",
   "execution_count": 2,
   "id": "74a3a9fb",
   "metadata": {
    "execution": {
     "iopub.execute_input": "2023-06-29T09:51:38.364401Z",
     "iopub.status.busy": "2023-06-29T09:51:38.363940Z",
     "iopub.status.idle": "2023-06-29T09:51:40.687822Z",
     "shell.execute_reply": "2023-06-29T09:51:40.686927Z"
    },
    "tags": []
   },
   "outputs": [
    {
     "name": "stdout",
     "output_type": "stream",
     "text": [
      "✅ The installed version of syft==0.8.2b2 matches the requirement >=0.8.2b0 and the requirement <0.9\n"
     ]
    }
   ],
   "source": [
    "import syft as sy\n",
    "sy.requires(SYFT_VERSION)"
   ]
  },
  {
   "cell_type": "code",
   "execution_count": 3,
   "id": "cbce68c1",
   "metadata": {
    "execution": {
     "iopub.execute_input": "2023-06-29T09:51:40.691524Z",
     "iopub.status.busy": "2023-06-29T09:51:40.690804Z",
     "iopub.status.idle": "2023-06-29T09:51:41.742896Z",
     "shell.execute_reply": "2023-06-29T09:51:41.741856Z"
    },
    "tags": []
   },
   "outputs": [
    {
     "name": "stdout",
     "output_type": "stream",
     "text": [
      "Starting pandas-test-domain-8 server on 0.0.0.0:9088\n"
     ]
    },
    {
     "name": "stdout",
     "output_type": "stream",
     "text": [
      "Waiting for server to start Done.\n"
     ]
    }
   ],
   "source": [
    "node = sy.orchestra.launch(name=\"pandas-test-domain-8\", port=9088, reset=True)"
   ]
  },
  {
   "cell_type": "markdown",
   "id": "ec3bce2f",
   "metadata": {},
   "source": [
    "# Data owner: upload dataset"
   ]
  },
  {
   "cell_type": "code",
   "execution_count": 4,
   "id": "dc5a5a72",
   "metadata": {
    "execution": {
     "iopub.execute_input": "2023-06-29T09:51:41.747016Z",
     "iopub.status.busy": "2023-06-29T09:51:41.746445Z",
     "iopub.status.idle": "2023-06-29T09:51:43.249782Z",
     "shell.execute_reply": "2023-06-29T09:51:43.248554Z"
    },
    "tags": []
   },
   "outputs": [
    {
     "name": "stdout",
     "output_type": "stream",
     "text": [
      "Logged into pandas-test-domain-8 as <info@openmined.org>\n"
     ]
    }
   ],
   "source": [
    "root_domain_client = node.login(email=\"info@openmined.org\", password=\"changethis\")"
   ]
  },
  {
   "cell_type": "markdown",
   "id": "da0cf39a",
   "metadata": {},
   "source": [
    "## Load data"
   ]
  },
  {
   "cell_type": "markdown",
   "id": "ddb684cf",
   "metadata": {},
   "source": [
    "It's not obvious how to deal with Unix timestamps in pandas -- it took me quite a while to figure this out. The file we're using here is a popularity-contest file I found on my system at /var/log/popularity-contest."
   ]
  },
  {
   "cell_type": "code",
   "execution_count": 5,
   "id": "29334026",
   "metadata": {
    "execution": {
     "iopub.execute_input": "2023-06-29T09:51:43.253351Z",
     "iopub.status.busy": "2023-06-29T09:51:43.253091Z",
     "iopub.status.idle": "2023-06-29T09:51:43.646458Z",
     "shell.execute_reply": "2023-06-29T09:51:43.645537Z"
    },
    "tags": []
   },
   "outputs": [],
   "source": [
    "%matplotlib inline\n",
    "import pandas as pd\n",
    "import matplotlib.pyplot as plt\n",
    "import numpy as np\n",
    "from syft.service.project.project import Project\n",
    "from syft.util.util import autocache, PANDAS_DATA\n",
    "\n",
    "plt.style.use('ggplot')\n",
    "plt.rcParams['figure.figsize'] = (15, 3)\n",
    "plt.rcParams['font.family'] = 'sans-serif'"
   ]
  },
  {
   "cell_type": "code",
   "execution_count": 6,
   "id": "205d60c2-fb3c-423c-90e5-36cedfbae875",
   "metadata": {
    "execution": {
     "iopub.execute_input": "2023-06-29T09:51:43.650310Z",
     "iopub.status.busy": "2023-06-29T09:51:43.649587Z",
     "iopub.status.idle": "2023-06-29T09:51:43.666971Z",
     "shell.execute_reply": "2023-06-29T09:51:43.666155Z"
    },
    "tags": []
   },
   "outputs": [],
   "source": [
    "popcon = pd.read_csv(autocache(f\"{PANDAS_DATA}/popularity-contest\"), sep=' ', )[:-1]"
   ]
  },
  {
   "cell_type": "code",
   "execution_count": 7,
   "id": "4ad4b3ec-a6d9-47af-865b-d2c526ce9670",
   "metadata": {
    "execution": {
     "iopub.execute_input": "2023-06-29T09:51:43.670401Z",
     "iopub.status.busy": "2023-06-29T09:51:43.670001Z",
     "iopub.status.idle": "2023-06-29T09:51:43.674304Z",
     "shell.execute_reply": "2023-06-29T09:51:43.673554Z"
    }
   },
   "outputs": [],
   "source": [
    "assert len(popcon) == 2897"
   ]
  },
  {
   "cell_type": "code",
   "execution_count": 8,
   "id": "ec870dd8-2043-4f07-8a91-432e86d6fd06",
   "metadata": {
    "execution": {
     "iopub.execute_input": "2023-06-29T09:51:43.677172Z",
     "iopub.status.busy": "2023-06-29T09:51:43.676717Z",
     "iopub.status.idle": "2023-06-29T09:51:43.681134Z",
     "shell.execute_reply": "2023-06-29T09:51:43.680457Z"
    },
    "tags": []
   },
   "outputs": [],
   "source": [
    "popcon.columns = ['atime', 'ctime', 'package-name', 'mru-program', 'tag']"
   ]
  },
  {
   "cell_type": "code",
   "execution_count": 9,
   "id": "c9fe710c",
   "metadata": {
    "execution": {
     "iopub.execute_input": "2023-06-29T09:51:43.683766Z",
     "iopub.status.busy": "2023-06-29T09:51:43.683414Z",
     "iopub.status.idle": "2023-06-29T09:51:43.690929Z",
     "shell.execute_reply": "2023-06-29T09:51:43.690237Z"
    },
    "tags": []
   },
   "outputs": [
    {
     "data": {
      "text/plain": [
       "{'<OLD>', '<RECENT-CTIME>', nan}"
      ]
     },
     "execution_count": 9,
     "metadata": {},
     "output_type": "execute_result"
    }
   ],
   "source": [
    "set(popcon[\"tag\"])"
   ]
  },
  {
   "cell_type": "markdown",
   "id": "409c477e",
   "metadata": {},
   "source": [
    "## Create mock data"
   ]
  },
  {
   "cell_type": "markdown",
   "id": "2c4999d5",
   "metadata": {},
   "source": [
    "Lets create a mock dataset"
   ]
  },
  {
   "cell_type": "code",
   "execution_count": 10,
   "id": "4a0fe359",
   "metadata": {
    "execution": {
     "iopub.execute_input": "2023-06-29T09:51:43.693787Z",
     "iopub.status.busy": "2023-06-29T09:51:43.693279Z",
     "iopub.status.idle": "2023-06-29T09:51:43.696846Z",
     "shell.execute_reply": "2023-06-29T09:51:43.696183Z"
    },
    "tags": []
   },
   "outputs": [],
   "source": [
    "# weather_types = set(weather_2012_final.Weather.to_list())"
   ]
  },
  {
   "cell_type": "code",
   "execution_count": 11,
   "id": "d2ddc88d",
   "metadata": {
    "execution": {
     "iopub.execute_input": "2023-06-29T09:51:43.699601Z",
     "iopub.status.busy": "2023-06-29T09:51:43.699232Z",
     "iopub.status.idle": "2023-06-29T09:51:43.702917Z",
     "shell.execute_reply": "2023-06-29T09:51:43.702257Z"
    },
    "tags": []
   },
   "outputs": [],
   "source": [
    "from random import randint\n",
    "import random"
   ]
  },
  {
   "cell_type": "code",
   "execution_count": 12,
   "id": "35bfb68b",
   "metadata": {
    "execution": {
     "iopub.execute_input": "2023-06-29T09:51:43.705445Z",
     "iopub.status.busy": "2023-06-29T09:51:43.705103Z",
     "iopub.status.idle": "2023-06-29T09:51:43.709970Z",
     "shell.execute_reply": "2023-06-29T09:51:43.709255Z"
    },
    "tags": []
   },
   "outputs": [],
   "source": [
    "def get_random_timestamp():\n",
    "    return \"135\" + \"\".join([str(randint(0,9)) for i in range(6)])"
   ]
  },
  {
   "cell_type": "code",
   "execution_count": 13,
   "id": "7db7b9af",
   "metadata": {
    "execution": {
     "iopub.execute_input": "2023-06-29T09:51:43.712768Z",
     "iopub.status.busy": "2023-06-29T09:51:43.712426Z",
     "iopub.status.idle": "2023-06-29T09:51:43.717221Z",
     "shell.execute_reply": "2023-06-29T09:51:43.716560Z"
    },
    "tags": []
   },
   "outputs": [],
   "source": [
    "def get_mock_date(i):\n",
    "    return str(parse('Jun 1 2010') + timedelta(days=i))\n",
    "\n",
    "def get_mock_row(i):\n",
    "    res = dict()\n",
    "    for k, function in mock_functions.items():\n",
    "        res[k] = function()\n",
    "    return res\n",
    "    "
   ]
  },
  {
   "cell_type": "code",
   "execution_count": 14,
   "id": "090f5a59",
   "metadata": {
    "execution": {
     "iopub.execute_input": "2023-06-29T09:51:43.720020Z",
     "iopub.status.busy": "2023-06-29T09:51:43.719668Z",
     "iopub.status.idle": "2023-06-29T09:51:43.724797Z",
     "shell.execute_reply": "2023-06-29T09:51:43.724138Z"
    },
    "tags": []
   },
   "outputs": [],
   "source": [
    "mock_functions = {'atime': lambda: get_random_timestamp(),\n",
    "                  'ctime': lambda: get_random_timestamp(),\n",
    "                  'package-name': lambda: random.choice([\n",
    "                      'libghc-stm-dev',\n",
    "                      'libqtdee-dev',\n",
    "                      'geoclue-ubuntu-geoip',\n",
    "                      'libdesktop-agnostic0',\n",
    "                      'ubuntu-extras-keyring',\n",
    "                      'libbsd0',\n",
    "                      'libxres-dev']),\n",
    "                  'mru-program': lambda: random.choice([\n",
    "                      '/usr/bin/opam',\n",
    "                      '/usr/bin/onboard',\n",
    "                      '/lib/init/upstart-job',\n",
    "                      '/usr/bin/page',\n",
    "                  ]),\n",
    "                  'tag': lambda: random.choice(['<OLD>', '<RECENT-CTIME>', 'nan'])}\n"
   ]
  },
  {
   "cell_type": "code",
   "execution_count": 15,
   "id": "7a7e70a6",
   "metadata": {
    "execution": {
     "iopub.execute_input": "2023-06-29T09:51:43.727338Z",
     "iopub.status.busy": "2023-06-29T09:51:43.726993Z",
     "iopub.status.idle": "2023-06-29T09:51:43.768863Z",
     "shell.execute_reply": "2023-06-29T09:51:43.768154Z"
    },
    "tags": []
   },
   "outputs": [],
   "source": [
    "mock = pd.DataFrame(data=[get_mock_row(i) for i in range(len(popcon))],\n",
    "                    columns=popcon.columns)\n",
    "    \n"
   ]
  },
  {
   "cell_type": "markdown",
   "id": "d11fc4b8",
   "metadata": {},
   "source": [
    "Upload the data"
   ]
  },
  {
   "cell_type": "code",
   "execution_count": 16,
   "id": "e370b8b3",
   "metadata": {
    "execution": {
     "iopub.execute_input": "2023-06-29T09:51:43.772095Z",
     "iopub.status.busy": "2023-06-29T09:51:43.771653Z",
     "iopub.status.idle": "2023-06-29T09:51:44.034222Z",
     "shell.execute_reply": "2023-06-29T09:51:44.033440Z"
    },
    "tags": []
   },
   "outputs": [
    {
     "name": "stderr",
     "output_type": "stream",
     "text": [
      "\r",
      "  0%|          | 0/1 [00:00<?, ?it/s]"
     ]
    },
    {
     "name": "stderr",
     "output_type": "stream",
     "text": [
      "\r",
      "100%|██████████| 1/1 [00:00<00:00,  6.03it/s]"
     ]
    },
    {
     "name": "stderr",
     "output_type": "stream",
     "text": [
      "\r",
      "100%|██████████| 1/1 [00:00<00:00,  5.99it/s]"
     ]
    },
    {
     "name": "stderr",
     "output_type": "stream",
     "text": [
      "\n"
     ]
    },
    {
     "name": "stdout",
     "output_type": "stream",
     "text": [
      "Uploading: weather\n"
     ]
    },
    {
     "data": {
      "text/html": [
       "<div class=\"alert-success\" style=\"padding:5px;\"><strong>SyftSuccess</strong>: Dataset uploaded to 'pandas-test-domain-8'. To see the datasets uploaded by a client on this node, use command `[your_client].datasets`</div><br />"
      ],
      "text/plain": [
       "<class 'syft.service.response.SyftSuccess'>: Dataset uploaded to 'pandas-test-domain-8'. To see the datasets uploaded by a client on this node, use command `[your_client].datasets`"
      ]
     },
     "execution_count": 16,
     "metadata": {},
     "output_type": "execute_result"
    }
   ],
   "source": [
    "dataset = sy.Dataset(name=\"test\", asset_list=[sy.Asset(name=f\"weather\", data=popcon,\n",
    "                                                       mock=mock, mock_is_real=False)])\n",
    "root_domain_client.upload_dataset(dataset)\n"
   ]
  },
  {
   "cell_type": "code",
   "execution_count": 17,
   "id": "3eb6aef9",
   "metadata": {
    "execution": {
     "iopub.execute_input": "2023-06-29T09:51:44.037563Z",
     "iopub.status.busy": "2023-06-29T09:51:44.037067Z",
     "iopub.status.idle": "2023-06-29T09:51:44.048943Z",
     "shell.execute_reply": "2023-06-29T09:51:44.048199Z"
    },
    "tags": []
   },
   "outputs": [
    {
     "data": {
      "text/html": [
       "<div>\n",
       "<style scoped>\n",
       "    .dataframe tbody tr th:only-of-type {\n",
       "        vertical-align: middle;\n",
       "    }\n",
       "\n",
       "    .dataframe tbody tr th {\n",
       "        vertical-align: top;\n",
       "    }\n",
       "\n",
       "    .dataframe thead th {\n",
       "        text-align: right;\n",
       "    }\n",
       "</style>\n",
       "<table border=\"1\" class=\"dataframe\">\n",
       "  <thead>\n",
       "    <tr style=\"text-align: right;\">\n",
       "      <th></th>\n",
       "      <th>atime</th>\n",
       "      <th>ctime</th>\n",
       "      <th>package-name</th>\n",
       "      <th>mru-program</th>\n",
       "      <th>tag</th>\n",
       "    </tr>\n",
       "  </thead>\n",
       "  <tbody>\n",
       "    <tr>\n",
       "      <th>0</th>\n",
       "      <td>1387295797</td>\n",
       "      <td>1367633260</td>\n",
       "      <td>perl-base</td>\n",
       "      <td>/usr/bin/perl</td>\n",
       "      <td>NaN</td>\n",
       "    </tr>\n",
       "    <tr>\n",
       "      <th>1</th>\n",
       "      <td>1387295796</td>\n",
       "      <td>1354370480</td>\n",
       "      <td>login</td>\n",
       "      <td>/bin/su</td>\n",
       "      <td>NaN</td>\n",
       "    </tr>\n",
       "    <tr>\n",
       "      <th>2</th>\n",
       "      <td>1387295743</td>\n",
       "      <td>1354341275</td>\n",
       "      <td>libtalloc2</td>\n",
       "      <td>/usr/lib/x86_64-linux-gnu/libtalloc.so.2.0.7</td>\n",
       "      <td>NaN</td>\n",
       "    </tr>\n",
       "    <tr>\n",
       "      <th>3</th>\n",
       "      <td>1387295743</td>\n",
       "      <td>1387224204</td>\n",
       "      <td>libwbclient0</td>\n",
       "      <td>/usr/lib/x86_64-linux-gnu/libwbclient.so.0</td>\n",
       "      <td>&lt;RECENT-CTIME&gt;</td>\n",
       "    </tr>\n",
       "    <tr>\n",
       "      <th>4</th>\n",
       "      <td>1387295742</td>\n",
       "      <td>1354341253</td>\n",
       "      <td>libselinux1</td>\n",
       "      <td>/lib/x86_64-linux-gnu/libselinux.so.1</td>\n",
       "      <td>NaN</td>\n",
       "    </tr>\n",
       "  </tbody>\n",
       "</table>\n",
       "</div>"
      ],
      "text/plain": [
       "        atime       ctime  package-name  \\\n",
       "0  1387295797  1367633260     perl-base   \n",
       "1  1387295796  1354370480         login   \n",
       "2  1387295743  1354341275    libtalloc2   \n",
       "3  1387295743  1387224204  libwbclient0   \n",
       "4  1387295742  1354341253   libselinux1   \n",
       "\n",
       "                                    mru-program             tag  \n",
       "0                                 /usr/bin/perl             NaN  \n",
       "1                                       /bin/su             NaN  \n",
       "2  /usr/lib/x86_64-linux-gnu/libtalloc.so.2.0.7             NaN  \n",
       "3    /usr/lib/x86_64-linux-gnu/libwbclient.so.0  <RECENT-CTIME>  \n",
       "4         /lib/x86_64-linux-gnu/libselinux.so.1             NaN  "
      ]
     },
     "execution_count": 17,
     "metadata": {},
     "output_type": "execute_result"
    }
   ],
   "source": [
    "popcon.head()"
   ]
  },
  {
   "cell_type": "markdown",
   "id": "61a1069e",
   "metadata": {},
   "source": [
    "## Create user account"
   ]
  },
  {
   "cell_type": "code",
   "execution_count": 18,
   "id": "5124df8c",
   "metadata": {
    "execution": {
     "iopub.execute_input": "2023-06-29T09:51:44.052085Z",
     "iopub.status.busy": "2023-06-29T09:51:44.051710Z",
     "iopub.status.idle": "2023-06-29T09:51:46.079669Z",
     "shell.execute_reply": "2023-06-29T09:51:46.078355Z"
    },
    "tags": []
   },
   "outputs": [
    {
     "name": "stdout",
     "output_type": "stream",
     "text": [
      "Logged into pandas-test-domain-8 as <jane@caltech.edu>\n"
     ]
    }
   ],
   "source": [
    "user = root_domain_client.register(name=\"Jane Doe\", email=\"jane@caltech.edu\",\n",
    "                            password=\"abc123\", institution=\"Caltech\", website=\"https://www.caltech.edu/\")\n",
    "# todo: give user data scientist role\n",
    "guest_domain_client = node.client\n",
    "guest_client = guest_domain_client.login(email=\"jane@caltech.edu\", password=\"abc123\")"
   ]
  },
  {
   "cell_type": "markdown",
   "id": "4c0f22af",
   "metadata": {},
   "source": [
    "# Data scientist: create syft_function"
   ]
  },
  {
   "cell_type": "code",
   "execution_count": 19,
   "id": "e0f665a0",
   "metadata": {
    "execution": {
     "iopub.execute_input": "2023-06-29T09:51:46.083324Z",
     "iopub.status.busy": "2023-06-29T09:51:46.082804Z",
     "iopub.status.idle": "2023-06-29T09:51:46.088072Z",
     "shell.execute_reply": "2023-06-29T09:51:46.087264Z"
    },
    "tags": []
   },
   "outputs": [],
   "source": [
    "import numpy as np\n",
    "import pandas as pd"
   ]
  },
  {
   "cell_type": "markdown",
   "id": "c52d6d1c",
   "metadata": {},
   "source": [
    "## Summary\n",
    "\n",
    "It's not obvious how to deal with Unix timestamps in pandas -- it took me quite a while to figure this out. The file we're using here is a popularity-contest file I found on my system at `/var/log/popularity-contest`."
   ]
  },
  {
   "cell_type": "markdown",
   "id": "8c63f823",
   "metadata": {},
   "source": [
    "## Get mocks"
   ]
  },
  {
   "cell_type": "code",
   "execution_count": 20,
   "id": "81c7f134",
   "metadata": {
    "execution": {
     "iopub.execute_input": "2023-06-29T09:51:46.090784Z",
     "iopub.status.busy": "2023-06-29T09:51:46.090418Z",
     "iopub.status.idle": "2023-06-29T09:51:46.140878Z",
     "shell.execute_reply": "2023-06-29T09:51:46.139952Z"
    },
    "tags": []
   },
   "outputs": [],
   "source": [
    "ds = guest_domain_client.datasets[0]"
   ]
  },
  {
   "cell_type": "code",
   "execution_count": 21,
   "id": "24cac2dc",
   "metadata": {
    "execution": {
     "iopub.execute_input": "2023-06-29T09:51:46.144455Z",
     "iopub.status.busy": "2023-06-29T09:51:46.144019Z",
     "iopub.status.idle": "2023-06-29T09:51:46.149256Z",
     "shell.execute_reply": "2023-06-29T09:51:46.148623Z"
    },
    "tags": []
   },
   "outputs": [],
   "source": [
    "asset = ds.assets[0]"
   ]
  },
  {
   "cell_type": "code",
   "execution_count": 22,
   "id": "82f805be",
   "metadata": {
    "execution": {
     "iopub.execute_input": "2023-06-29T09:51:46.152154Z",
     "iopub.status.busy": "2023-06-29T09:51:46.151795Z",
     "iopub.status.idle": "2023-06-29T09:51:46.190126Z",
     "shell.execute_reply": "2023-06-29T09:51:46.189426Z"
    },
    "tags": []
   },
   "outputs": [],
   "source": [
    "popcon = asset.mock"
   ]
  },
  {
   "cell_type": "markdown",
   "id": "d9ed60db",
   "metadata": {},
   "source": [
    "## Parsing Unix timestamps"
   ]
  },
  {
   "cell_type": "markdown",
   "id": "d6440d74",
   "metadata": {},
   "source": [
    "The colums are the access time, created time, package name, recently used program, and a tag\n",
    "\n"
   ]
  },
  {
   "cell_type": "code",
   "execution_count": 23,
   "id": "3588b429",
   "metadata": {
    "execution": {
     "iopub.execute_input": "2023-06-29T09:51:46.193674Z",
     "iopub.status.busy": "2023-06-29T09:51:46.193192Z",
     "iopub.status.idle": "2023-06-29T09:51:46.204906Z",
     "shell.execute_reply": "2023-06-29T09:51:46.204104Z"
    },
    "tags": []
   },
   "outputs": [
    {
     "data": {
      "text/html": [
       "<div>\n",
       "<style scoped>\n",
       "    .dataframe tbody tr th:only-of-type {\n",
       "        vertical-align: middle;\n",
       "    }\n",
       "\n",
       "    .dataframe tbody tr th {\n",
       "        vertical-align: top;\n",
       "    }\n",
       "\n",
       "    .dataframe thead th {\n",
       "        text-align: right;\n",
       "    }\n",
       "</style>\n",
       "<table border=\"1\" class=\"dataframe\">\n",
       "  <thead>\n",
       "    <tr style=\"text-align: right;\">\n",
       "      <th></th>\n",
       "      <th>atime</th>\n",
       "      <th>ctime</th>\n",
       "      <th>package-name</th>\n",
       "      <th>mru-program</th>\n",
       "      <th>tag</th>\n",
       "    </tr>\n",
       "  </thead>\n",
       "  <tbody>\n",
       "    <tr>\n",
       "      <th>0</th>\n",
       "      <td>135498594</td>\n",
       "      <td>135884828</td>\n",
       "      <td>libbsd0</td>\n",
       "      <td>/usr/bin/onboard</td>\n",
       "      <td>&lt;RECENT-CTIME&gt;</td>\n",
       "    </tr>\n",
       "    <tr>\n",
       "      <th>1</th>\n",
       "      <td>135156682</td>\n",
       "      <td>135373260</td>\n",
       "      <td>libbsd0</td>\n",
       "      <td>/lib/init/upstart-job</td>\n",
       "      <td>nan</td>\n",
       "    </tr>\n",
       "    <tr>\n",
       "      <th>2</th>\n",
       "      <td>135235843</td>\n",
       "      <td>135342428</td>\n",
       "      <td>libghc-stm-dev</td>\n",
       "      <td>/usr/bin/page</td>\n",
       "      <td>&lt;RECENT-CTIME&gt;</td>\n",
       "    </tr>\n",
       "    <tr>\n",
       "      <th>3</th>\n",
       "      <td>135156096</td>\n",
       "      <td>135124468</td>\n",
       "      <td>geoclue-ubuntu-geoip</td>\n",
       "      <td>/lib/init/upstart-job</td>\n",
       "      <td>&lt;OLD&gt;</td>\n",
       "    </tr>\n",
       "    <tr>\n",
       "      <th>4</th>\n",
       "      <td>135553112</td>\n",
       "      <td>135848504</td>\n",
       "      <td>geoclue-ubuntu-geoip</td>\n",
       "      <td>/lib/init/upstart-job</td>\n",
       "      <td>nan</td>\n",
       "    </tr>\n",
       "  </tbody>\n",
       "</table>\n",
       "</div>"
      ],
      "text/plain": [
       "       atime      ctime          package-name            mru-program  \\\n",
       "0  135498594  135884828               libbsd0       /usr/bin/onboard   \n",
       "1  135156682  135373260               libbsd0  /lib/init/upstart-job   \n",
       "2  135235843  135342428        libghc-stm-dev          /usr/bin/page   \n",
       "3  135156096  135124468  geoclue-ubuntu-geoip  /lib/init/upstart-job   \n",
       "4  135553112  135848504  geoclue-ubuntu-geoip  /lib/init/upstart-job   \n",
       "\n",
       "              tag  \n",
       "0  <RECENT-CTIME>  \n",
       "1             nan  \n",
       "2  <RECENT-CTIME>  \n",
       "3           <OLD>  \n",
       "4             nan  "
      ]
     },
     "execution_count": 23,
     "metadata": {},
     "output_type": "execute_result"
    }
   ],
   "source": [
    "popcon[:5]"
   ]
  },
  {
   "cell_type": "markdown",
   "id": "d464243c",
   "metadata": {},
   "source": [
    "The magical part about parsing timestamps in pandas is that numpy datetimes are already stored as Unix timestamps. So all we need to do is tell pandas that these integers are actually datetimes -- it doesn't need to do any conversion at all.\n",
    "\n",
    "We need to convert these to ints to start:"
   ]
  },
  {
   "cell_type": "code",
   "execution_count": 24,
   "id": "d2dbcc32",
   "metadata": {
    "execution": {
     "iopub.execute_input": "2023-06-29T09:51:46.207640Z",
     "iopub.status.busy": "2023-06-29T09:51:46.207263Z",
     "iopub.status.idle": "2023-06-29T09:51:46.214573Z",
     "shell.execute_reply": "2023-06-29T09:51:46.213898Z"
    },
    "tags": []
   },
   "outputs": [],
   "source": [
    "popcon['atime'] = popcon['atime'].astype(int)\n",
    "popcon['ctime'] = popcon['ctime'].astype(int)"
   ]
  },
  {
   "cell_type": "markdown",
   "id": "b510b9c8",
   "metadata": {},
   "source": [
    "Every numpy array and pandas series has a dtype -- this is usually `int64`, `float64`, or `object`. Some of the time types available are `datetime64[s]`, `datetime64[ms]`, and `datetime64[us]`. There are also `timedelta` types, similarly.\n",
    "\n",
    "We can use the `pd.to_datetime` function to convert our integer timestamps into datetimes. This is a constant-time operation -- we're not actually changing any of the data, just how pandas thinks about it."
   ]
  },
  {
   "cell_type": "code",
   "execution_count": 25,
   "id": "d26a35b6",
   "metadata": {
    "execution": {
     "iopub.execute_input": "2023-06-29T09:51:46.217909Z",
     "iopub.status.busy": "2023-06-29T09:51:46.217367Z",
     "iopub.status.idle": "2023-06-29T09:51:46.224710Z",
     "shell.execute_reply": "2023-06-29T09:51:46.224077Z"
    },
    "tags": []
   },
   "outputs": [],
   "source": [
    "popcon['atime'] = pd.to_datetime(popcon['atime'], unit='s')\n",
    "popcon['ctime'] = pd.to_datetime(popcon['ctime'], unit='s')"
   ]
  },
  {
   "cell_type": "markdown",
   "id": "e1448504",
   "metadata": {},
   "source": [
    "If we look at the dtype now, it's `<M8[ns]`. As far as I can tell `M8` is secret code for `datetime64`."
   ]
  },
  {
   "cell_type": "code",
   "execution_count": 26,
   "id": "d6624a0d",
   "metadata": {
    "execution": {
     "iopub.execute_input": "2023-06-29T09:51:46.227745Z",
     "iopub.status.busy": "2023-06-29T09:51:46.227368Z",
     "iopub.status.idle": "2023-06-29T09:51:46.232785Z",
     "shell.execute_reply": "2023-06-29T09:51:46.232088Z"
    },
    "tags": []
   },
   "outputs": [
    {
     "data": {
      "text/plain": [
       "dtype('<M8[ns]')"
      ]
     },
     "execution_count": 26,
     "metadata": {},
     "output_type": "execute_result"
    }
   ],
   "source": [
    "popcon['atime'].dtype"
   ]
  },
  {
   "cell_type": "markdown",
   "id": "c657d3e1",
   "metadata": {},
   "source": [
    "So now we can look at our `atime` and `ctime` as dates!"
   ]
  },
  {
   "cell_type": "code",
   "execution_count": 27,
   "id": "24db2605",
   "metadata": {
    "execution": {
     "iopub.execute_input": "2023-06-29T09:51:46.235652Z",
     "iopub.status.busy": "2023-06-29T09:51:46.235193Z",
     "iopub.status.idle": "2023-06-29T09:51:46.244669Z",
     "shell.execute_reply": "2023-06-29T09:51:46.243950Z"
    },
    "tags": []
   },
   "outputs": [
    {
     "data": {
      "text/html": [
       "<div>\n",
       "<style scoped>\n",
       "    .dataframe tbody tr th:only-of-type {\n",
       "        vertical-align: middle;\n",
       "    }\n",
       "\n",
       "    .dataframe tbody tr th {\n",
       "        vertical-align: top;\n",
       "    }\n",
       "\n",
       "    .dataframe thead th {\n",
       "        text-align: right;\n",
       "    }\n",
       "</style>\n",
       "<table border=\"1\" class=\"dataframe\">\n",
       "  <thead>\n",
       "    <tr style=\"text-align: right;\">\n",
       "      <th></th>\n",
       "      <th>atime</th>\n",
       "      <th>ctime</th>\n",
       "      <th>package-name</th>\n",
       "      <th>mru-program</th>\n",
       "      <th>tag</th>\n",
       "    </tr>\n",
       "  </thead>\n",
       "  <tbody>\n",
       "    <tr>\n",
       "      <th>0</th>\n",
       "      <td>1974-04-18 06:29:54</td>\n",
       "      <td>1974-04-22 17:47:08</td>\n",
       "      <td>libbsd0</td>\n",
       "      <td>/usr/bin/onboard</td>\n",
       "      <td>&lt;RECENT-CTIME&gt;</td>\n",
       "    </tr>\n",
       "    <tr>\n",
       "      <th>1</th>\n",
       "      <td>1974-04-14 07:31:22</td>\n",
       "      <td>1974-04-16 19:41:00</td>\n",
       "      <td>libbsd0</td>\n",
       "      <td>/lib/init/upstart-job</td>\n",
       "      <td>nan</td>\n",
       "    </tr>\n",
       "    <tr>\n",
       "      <th>2</th>\n",
       "      <td>1974-04-15 05:30:43</td>\n",
       "      <td>1974-04-16 11:07:08</td>\n",
       "      <td>libghc-stm-dev</td>\n",
       "      <td>/usr/bin/page</td>\n",
       "      <td>&lt;RECENT-CTIME&gt;</td>\n",
       "    </tr>\n",
       "    <tr>\n",
       "      <th>3</th>\n",
       "      <td>1974-04-14 07:21:36</td>\n",
       "      <td>1974-04-13 22:34:28</td>\n",
       "      <td>geoclue-ubuntu-geoip</td>\n",
       "      <td>/lib/init/upstart-job</td>\n",
       "      <td>&lt;OLD&gt;</td>\n",
       "    </tr>\n",
       "    <tr>\n",
       "      <th>4</th>\n",
       "      <td>1974-04-18 21:38:32</td>\n",
       "      <td>1974-04-22 07:41:44</td>\n",
       "      <td>geoclue-ubuntu-geoip</td>\n",
       "      <td>/lib/init/upstart-job</td>\n",
       "      <td>nan</td>\n",
       "    </tr>\n",
       "  </tbody>\n",
       "</table>\n",
       "</div>"
      ],
      "text/plain": [
       "                atime               ctime          package-name  \\\n",
       "0 1974-04-18 06:29:54 1974-04-22 17:47:08               libbsd0   \n",
       "1 1974-04-14 07:31:22 1974-04-16 19:41:00               libbsd0   \n",
       "2 1974-04-15 05:30:43 1974-04-16 11:07:08        libghc-stm-dev   \n",
       "3 1974-04-14 07:21:36 1974-04-13 22:34:28  geoclue-ubuntu-geoip   \n",
       "4 1974-04-18 21:38:32 1974-04-22 07:41:44  geoclue-ubuntu-geoip   \n",
       "\n",
       "             mru-program             tag  \n",
       "0       /usr/bin/onboard  <RECENT-CTIME>  \n",
       "1  /lib/init/upstart-job             nan  \n",
       "2          /usr/bin/page  <RECENT-CTIME>  \n",
       "3  /lib/init/upstart-job           <OLD>  \n",
       "4  /lib/init/upstart-job             nan  "
      ]
     },
     "execution_count": 27,
     "metadata": {},
     "output_type": "execute_result"
    }
   ],
   "source": [
    "popcon[:5]"
   ]
  },
  {
   "cell_type": "markdown",
   "id": "53aca015",
   "metadata": {},
   "source": [
    "Now suppose we want to look at all packages that aren't libraries."
   ]
  },
  {
   "cell_type": "markdown",
   "id": "b09b8c6e",
   "metadata": {},
   "source": [
    "First, I want to get rid of everything with timestamp 0. Notice how we can just use a string in this comparison, even though it's actually a timestamp on the inside? That is because pandas is amazing.\n"
   ]
  },
  {
   "cell_type": "code",
   "execution_count": 28,
   "id": "e069d604",
   "metadata": {
    "execution": {
     "iopub.execute_input": "2023-06-29T09:51:46.247618Z",
     "iopub.status.busy": "2023-06-29T09:51:46.247256Z",
     "iopub.status.idle": "2023-06-29T09:51:46.253192Z",
     "shell.execute_reply": "2023-06-29T09:51:46.252560Z"
    },
    "tags": []
   },
   "outputs": [],
   "source": [
    "popcon = popcon[popcon['atime'] > '1970-01-01']"
   ]
  },
  {
   "cell_type": "markdown",
   "id": "54ef1632",
   "metadata": {},
   "source": [
    "Now we can use pandas' magical string abilities to just look at rows where the package name doesn't contain 'lib'."
   ]
  },
  {
   "cell_type": "code",
   "execution_count": 29,
   "id": "afc72d61",
   "metadata": {
    "execution": {
     "iopub.execute_input": "2023-06-29T09:51:46.255825Z",
     "iopub.status.busy": "2023-06-29T09:51:46.255464Z",
     "iopub.status.idle": "2023-06-29T09:51:46.262669Z",
     "shell.execute_reply": "2023-06-29T09:51:46.261977Z"
    },
    "tags": []
   },
   "outputs": [],
   "source": [
    "nonlibraries = popcon[~popcon['package-name'].str.contains('lib')]"
   ]
  },
  {
   "cell_type": "code",
   "execution_count": 30,
   "id": "9423fad9",
   "metadata": {
    "execution": {
     "iopub.execute_input": "2023-06-29T09:51:46.265509Z",
     "iopub.status.busy": "2023-06-29T09:51:46.265141Z",
     "iopub.status.idle": "2023-06-29T09:51:46.277984Z",
     "shell.execute_reply": "2023-06-29T09:51:46.277263Z"
    },
    "tags": []
   },
   "outputs": [
    {
     "data": {
      "text/html": [
       "<div>\n",
       "<style scoped>\n",
       "    .dataframe tbody tr th:only-of-type {\n",
       "        vertical-align: middle;\n",
       "    }\n",
       "\n",
       "    .dataframe tbody tr th {\n",
       "        vertical-align: top;\n",
       "    }\n",
       "\n",
       "    .dataframe thead th {\n",
       "        text-align: right;\n",
       "    }\n",
       "</style>\n",
       "<table border=\"1\" class=\"dataframe\">\n",
       "  <thead>\n",
       "    <tr style=\"text-align: right;\">\n",
       "      <th></th>\n",
       "      <th>atime</th>\n",
       "      <th>ctime</th>\n",
       "      <th>package-name</th>\n",
       "      <th>mru-program</th>\n",
       "      <th>tag</th>\n",
       "    </tr>\n",
       "  </thead>\n",
       "  <tbody>\n",
       "    <tr>\n",
       "      <th>1737</th>\n",
       "      <td>1974-04-17 14:30:32</td>\n",
       "      <td>1974-04-24 01:25:28</td>\n",
       "      <td>geoclue-ubuntu-geoip</td>\n",
       "      <td>/usr/bin/page</td>\n",
       "      <td>&lt;OLD&gt;</td>\n",
       "    </tr>\n",
       "    <tr>\n",
       "      <th>2409</th>\n",
       "      <td>1974-04-23 05:28:21</td>\n",
       "      <td>1974-04-24 01:18:23</td>\n",
       "      <td>ubuntu-extras-keyring</td>\n",
       "      <td>/usr/bin/page</td>\n",
       "      <td>nan</td>\n",
       "    </tr>\n",
       "    <tr>\n",
       "      <th>241</th>\n",
       "      <td>1974-04-17 09:34:32</td>\n",
       "      <td>1974-04-24 00:10:30</td>\n",
       "      <td>geoclue-ubuntu-geoip</td>\n",
       "      <td>/lib/init/upstart-job</td>\n",
       "      <td>&lt;OLD&gt;</td>\n",
       "    </tr>\n",
       "    <tr>\n",
       "      <th>1595</th>\n",
       "      <td>1974-04-24 00:36:31</td>\n",
       "      <td>1974-04-23 23:51:13</td>\n",
       "      <td>ubuntu-extras-keyring</td>\n",
       "      <td>/usr/bin/onboard</td>\n",
       "      <td>&lt;OLD&gt;</td>\n",
       "    </tr>\n",
       "    <tr>\n",
       "      <th>78</th>\n",
       "      <td>1974-04-23 08:45:04</td>\n",
       "      <td>1974-04-23 23:35:07</td>\n",
       "      <td>ubuntu-extras-keyring</td>\n",
       "      <td>/usr/bin/onboard</td>\n",
       "      <td>&lt;RECENT-CTIME&gt;</td>\n",
       "    </tr>\n",
       "    <tr>\n",
       "      <th>37</th>\n",
       "      <td>1974-04-22 03:16:40</td>\n",
       "      <td>1974-04-23 23:33:11</td>\n",
       "      <td>geoclue-ubuntu-geoip</td>\n",
       "      <td>/usr/bin/opam</td>\n",
       "      <td>&lt;RECENT-CTIME&gt;</td>\n",
       "    </tr>\n",
       "    <tr>\n",
       "      <th>543</th>\n",
       "      <td>1974-04-14 19:55:47</td>\n",
       "      <td>1974-04-23 23:19:37</td>\n",
       "      <td>ubuntu-extras-keyring</td>\n",
       "      <td>/usr/bin/opam</td>\n",
       "      <td>nan</td>\n",
       "    </tr>\n",
       "    <tr>\n",
       "      <th>2335</th>\n",
       "      <td>1974-04-23 12:34:00</td>\n",
       "      <td>1974-04-23 22:30:48</td>\n",
       "      <td>ubuntu-extras-keyring</td>\n",
       "      <td>/usr/bin/opam</td>\n",
       "      <td>nan</td>\n",
       "    </tr>\n",
       "    <tr>\n",
       "      <th>1486</th>\n",
       "      <td>1974-04-17 03:49:23</td>\n",
       "      <td>1974-04-23 22:17:16</td>\n",
       "      <td>geoclue-ubuntu-geoip</td>\n",
       "      <td>/usr/bin/onboard</td>\n",
       "      <td>&lt;OLD&gt;</td>\n",
       "    </tr>\n",
       "    <tr>\n",
       "      <th>1722</th>\n",
       "      <td>1974-04-19 21:14:53</td>\n",
       "      <td>1974-04-23 21:17:01</td>\n",
       "      <td>geoclue-ubuntu-geoip</td>\n",
       "      <td>/usr/bin/page</td>\n",
       "      <td>&lt;RECENT-CTIME&gt;</td>\n",
       "    </tr>\n",
       "  </tbody>\n",
       "</table>\n",
       "</div>"
      ],
      "text/plain": [
       "                   atime               ctime           package-name  \\\n",
       "1737 1974-04-17 14:30:32 1974-04-24 01:25:28   geoclue-ubuntu-geoip   \n",
       "2409 1974-04-23 05:28:21 1974-04-24 01:18:23  ubuntu-extras-keyring   \n",
       "241  1974-04-17 09:34:32 1974-04-24 00:10:30   geoclue-ubuntu-geoip   \n",
       "1595 1974-04-24 00:36:31 1974-04-23 23:51:13  ubuntu-extras-keyring   \n",
       "78   1974-04-23 08:45:04 1974-04-23 23:35:07  ubuntu-extras-keyring   \n",
       "37   1974-04-22 03:16:40 1974-04-23 23:33:11   geoclue-ubuntu-geoip   \n",
       "543  1974-04-14 19:55:47 1974-04-23 23:19:37  ubuntu-extras-keyring   \n",
       "2335 1974-04-23 12:34:00 1974-04-23 22:30:48  ubuntu-extras-keyring   \n",
       "1486 1974-04-17 03:49:23 1974-04-23 22:17:16   geoclue-ubuntu-geoip   \n",
       "1722 1974-04-19 21:14:53 1974-04-23 21:17:01   geoclue-ubuntu-geoip   \n",
       "\n",
       "                mru-program             tag  \n",
       "1737          /usr/bin/page           <OLD>  \n",
       "2409          /usr/bin/page             nan  \n",
       "241   /lib/init/upstart-job           <OLD>  \n",
       "1595       /usr/bin/onboard           <OLD>  \n",
       "78         /usr/bin/onboard  <RECENT-CTIME>  \n",
       "37            /usr/bin/opam  <RECENT-CTIME>  \n",
       "543           /usr/bin/opam             nan  \n",
       "2335          /usr/bin/opam             nan  \n",
       "1486       /usr/bin/onboard           <OLD>  \n",
       "1722          /usr/bin/page  <RECENT-CTIME>  "
      ]
     },
     "execution_count": 30,
     "metadata": {},
     "output_type": "execute_result"
    }
   ],
   "source": [
    "nonlibraries.sort_values('ctime', ascending=False)[:10]"
   ]
  },
  {
   "cell_type": "markdown",
   "id": "33235394",
   "metadata": {},
   "source": [
    "Okay, cool, it says that I I installed ddd recently. And postgresql! I remember installing those things. Neat.\n",
    "\n",
    "The whole message here is that if you have a timestamp in seconds or milliseconds or nanoseconds, then you can just \"cast\" it to a `'datetime64[the-right-thing]'` and pandas/numpy will take care of the rest."
   ]
  },
  {
   "cell_type": "markdown",
   "id": "3ad300a3",
   "metadata": {},
   "source": [
    "## Putting it together"
   ]
  },
  {
   "cell_type": "markdown",
   "id": "bdc4b7c7",
   "metadata": {},
   "source": [
    "Now we want to request the full code execution.\n",
    "\n",
    "Let's put all that together, to prove how easy it is. 6 lines of magical pandas!"
   ]
  },
  {
   "cell_type": "code",
   "execution_count": 31,
   "id": "ac206e34",
   "metadata": {
    "execution": {
     "iopub.execute_input": "2023-06-29T09:51:46.280881Z",
     "iopub.status.busy": "2023-06-29T09:51:46.280426Z",
     "iopub.status.idle": "2023-06-29T09:51:46.302719Z",
     "shell.execute_reply": "2023-06-29T09:51:46.301875Z"
    },
    "tags": []
   },
   "outputs": [
    {
     "name": "stdout",
     "output_type": "stream",
     "text": [
      "Syft function 'find_recently_installed' successfully created. To add a code request, please create a project using `project = syft.Project(...)`, then use command `project.create_code_request`.\n"
     ]
    }
   ],
   "source": [
    "@sy.syft_function(input_policy=sy.ExactMatch(popcon=ds.assets[0]),\n",
    "                  output_policy=sy.SingleExecutionExactOutput())\n",
    "def find_recently_installed(popcon):\n",
    "    import pandas as pd\n",
    "    popcon['atime'] = popcon['atime'].astype(int)\n",
    "    popcon['ctime'] = popcon['ctime'].astype(int)\n",
    "    popcon['atime'] = pd.to_datetime(popcon['atime'], unit='s')\n",
    "    popcon['ctime'] = pd.to_datetime(popcon['ctime'], unit='s')\n",
    "    popcon = popcon[popcon['atime'] > '1970-01-01']\n",
    "    nonlibraries = popcon[~popcon['package-name'].str.contains('lib')]\n",
    "    return nonlibraries.sort_values('ctime', ascending=False)[:10]"
   ]
  },
  {
   "cell_type": "markdown",
   "id": "e17c5a93",
   "metadata": {},
   "source": [
    "Create and submit project"
   ]
  },
  {
   "cell_type": "code",
   "execution_count": 32,
   "id": "7c5a4904-9a87-4af6-87cd-16cfac02b188",
   "metadata": {
    "execution": {
     "iopub.execute_input": "2023-06-29T09:51:46.305561Z",
     "iopub.status.busy": "2023-06-29T09:51:46.305108Z",
     "iopub.status.idle": "2023-06-29T09:51:46.312307Z",
     "shell.execute_reply": "2023-06-29T09:51:46.311630Z"
    },
    "tags": []
   },
   "outputs": [
    {
     "data": {
      "text/html": [
       "\n",
       "            <style>\n",
       "            .syft-project-create {color: #464158;}\n",
       "            </style>\n",
       "            <div class='syft-project-create'><h3>Pandas Chapter 8</h3><p>Hi, I would like to get some insights about the installed programs</p><p><strong>Created by: </strong>jane@caltech.edu</p></div>"
      ],
      "text/markdown": [
       "```python\n",
       "class ProjectSubmit:\n",
       "  id: str = 0167c2ff618949bdbcdce3b15bdb606b\n",
       "  name: str = \"Pandas Chapter 8\"\n",
       "  description: str = \"Hi, I would like to get some insights about the installed programs\"\n",
       "  created_by: str = \"jane@caltech.edu\"\n",
       "\n",
       "```"
      ],
      "text/plain": [
       "syft.service.project.project.ProjectSubmit"
      ]
     },
     "execution_count": 32,
     "metadata": {},
     "output_type": "execute_result"
    }
   ],
   "source": [
    "new_project = sy.Project(\n",
    "    name=\"Pandas Chapter 8\",\n",
    "    description=\"Hi, I would like to get some insights about the installed programs\",\n",
    "    members=[guest_domain_client],\n",
    ")\n",
    "new_project"
   ]
  },
  {
   "cell_type": "code",
   "execution_count": 33,
   "id": "a0fbf600-be76-4dbe-b64f-eea0038ce9cc",
   "metadata": {
    "execution": {
     "iopub.execute_input": "2023-06-29T09:51:46.315356Z",
     "iopub.status.busy": "2023-06-29T09:51:46.314736Z",
     "iopub.status.idle": "2023-06-29T09:51:47.536861Z",
     "shell.execute_reply": "2023-06-29T09:51:47.536050Z"
    },
    "tags": []
   },
   "outputs": [
    {
     "data": {
      "text/html": [
       "\n",
       "            <style>\n",
       "            .syft-project {color: #464158;}\n",
       "            </style>\n",
       "            <div class='syft-project'><h3>Pandas Chapter 8</h3><p>Hi, I would like to get some insights about the installed programs</p><p><strong>Created by: </strong>jane@caltech.edu</p>[]<p>To see a list of projects, use command `&lt;your_client&gt;.projects`</p></div>"
      ],
      "text/markdown": [
       "```python\n",
       "class Project:\n",
       "  id: str = 0167c2ff618949bdbcdce3b15bdb606b\n",
       "  name: str = \"Pandas Chapter 8\"\n",
       "  description: str = \"Hi, I would like to get some insights about the installed programs\"\n",
       "  created_by: str = \"jane@caltech.edu\"\n",
       "\n",
       "```"
      ],
      "text/plain": [
       "syft.service.project.project.Project"
      ]
     },
     "execution_count": 33,
     "metadata": {},
     "output_type": "execute_result"
    }
   ],
   "source": [
    "project = new_project.start()\n",
    "assert isinstance(project, sy.service.project.project.Project)\n",
    "project"
   ]
  },
  {
   "cell_type": "code",
   "execution_count": 34,
   "id": "8e8df0aa-d8ad-424b-8351-dcd3170f50e2",
   "metadata": {
    "execution": {
     "iopub.execute_input": "2023-06-29T09:51:47.540194Z",
     "iopub.status.busy": "2023-06-29T09:51:47.539486Z",
     "iopub.status.idle": "2023-06-29T09:51:48.887262Z",
     "shell.execute_reply": "2023-06-29T09:51:48.886561Z"
    },
    "tags": []
   },
   "outputs": [
    {
     "data": {
      "text/html": [
       "<div class=\"alert-success\" style=\"padding:5px;\"><strong>SyftSuccess</strong>: Code request for 'find_recently_installed' successfully added to 'Pandas Chapter 8' Project. To see code requests by a client, run `[your_client].code`</div><br />"
      ],
      "text/plain": [
       "<class 'syft.service.response.SyftSuccess'>: Code request for 'find_recently_installed' successfully added to 'Pandas Chapter 8' Project. To see code requests by a client, run `[your_client].code`"
      ]
     },
     "execution_count": 34,
     "metadata": {},
     "output_type": "execute_result"
    }
   ],
   "source": [
    "project.create_code_request(find_recently_installed, guest_domain_client)"
   ]
  },
  {
   "cell_type": "code",
   "execution_count": 35,
   "id": "820ccfd1-ffb8-43a2-89fe-89fb5fc561b7",
   "metadata": {
    "execution": {
     "iopub.execute_input": "2023-06-29T09:51:48.890413Z",
     "iopub.status.busy": "2023-06-29T09:51:48.890075Z",
     "iopub.status.idle": "2023-06-29T09:51:48.909648Z",
     "shell.execute_reply": "2023-06-29T09:51:48.909024Z"
    },
    "tags": []
   },
   "outputs": [],
   "source": [
    "assert len(guest_domain_client.code.get_all())==1"
   ]
  },
  {
   "cell_type": "code",
   "execution_count": 36,
   "id": "fc39ee4f-5843-471e-bb6d-ed851001fc8f",
   "metadata": {
    "execution": {
     "iopub.execute_input": "2023-06-29T09:51:48.913080Z",
     "iopub.status.busy": "2023-06-29T09:51:48.912634Z",
     "iopub.status.idle": "2023-06-29T09:51:48.917212Z",
     "shell.execute_reply": "2023-06-29T09:51:48.916544Z"
    },
    "tags": []
   },
   "outputs": [],
   "source": [
    "assert len(project.events) == 1"
   ]
  },
  {
   "cell_type": "code",
   "execution_count": 37,
   "id": "5cc4da94-992b-41be-b7d3-0d55e51528eb",
   "metadata": {
    "execution": {
     "iopub.execute_input": "2023-06-29T09:51:48.919815Z",
     "iopub.status.busy": "2023-06-29T09:51:48.919460Z",
     "iopub.status.idle": "2023-06-29T09:51:48.923428Z",
     "shell.execute_reply": "2023-06-29T09:51:48.922734Z"
    },
    "tags": []
   },
   "outputs": [],
   "source": [
    "assert isinstance(project.events[0], sy.service.project.project.ProjectRequest)"
   ]
  },
  {
   "cell_type": "markdown",
   "id": "64ce88bd",
   "metadata": {},
   "source": [
    "# Data owner: execute syft_function"
   ]
  },
  {
   "cell_type": "code",
   "execution_count": 38,
   "id": "16908022",
   "metadata": {
    "execution": {
     "iopub.execute_input": "2023-06-29T09:51:48.926075Z",
     "iopub.status.busy": "2023-06-29T09:51:48.925849Z",
     "iopub.status.idle": "2023-06-29T09:51:48.929612Z",
     "shell.execute_reply": "2023-06-29T09:51:48.928938Z"
    },
    "tags": []
   },
   "outputs": [],
   "source": [
    "from syft import MessageStatus"
   ]
  },
  {
   "cell_type": "code",
   "execution_count": 39,
   "id": "28f77679",
   "metadata": {
    "execution": {
     "iopub.execute_input": "2023-06-29T09:51:48.932451Z",
     "iopub.status.busy": "2023-06-29T09:51:48.931997Z",
     "iopub.status.idle": "2023-06-29T09:51:50.519711Z",
     "shell.execute_reply": "2023-06-29T09:51:50.518369Z"
    },
    "tags": []
   },
   "outputs": [
    {
     "name": "stdout",
     "output_type": "stream",
     "text": [
      "Logged into pandas-test-domain-8 as <info@openmined.org>\n"
     ]
    }
   ],
   "source": [
    "domain_client = node.login(email=\"info@openmined.org\", password=\"changethis\")"
   ]
  },
  {
   "cell_type": "markdown",
   "id": "5f4bded4",
   "metadata": {},
   "source": [
    "# Get messages"
   ]
  },
  {
   "cell_type": "code",
   "execution_count": 40,
   "id": "6ebec184",
   "metadata": {
    "execution": {
     "iopub.execute_input": "2023-06-29T09:51:50.523261Z",
     "iopub.status.busy": "2023-06-29T09:51:50.522792Z",
     "iopub.status.idle": "2023-06-29T09:51:50.558530Z",
     "shell.execute_reply": "2023-06-29T09:51:50.557665Z"
    },
    "tags": []
   },
   "outputs": [],
   "source": [
    "messages = domain_client.api.services.messages.get_all_unread()"
   ]
  },
  {
   "cell_type": "code",
   "execution_count": 41,
   "id": "34a83d8f",
   "metadata": {
    "execution": {
     "iopub.execute_input": "2023-06-29T09:51:50.562432Z",
     "iopub.status.busy": "2023-06-29T09:51:50.561969Z",
     "iopub.status.idle": "2023-06-29T09:51:50.570576Z",
     "shell.execute_reply": "2023-06-29T09:51:50.569860Z"
    },
    "tags": []
   },
   "outputs": [
    {
     "data": {
      "text/html": [
       "\n",
       "<style>\n",
       "  .header-1 {\n",
       "        font-style: normal;\n",
       "        font-weight: 600;\n",
       "        font-size: 2.0736em;\n",
       "        line-height: 100%;\n",
       "        leading-trim: both;\n",
       "        text-edge: cap;\n",
       "        color: #17161D;\n",
       "    }\n",
       "\n",
       "  .header-2 {\n",
       "        font-style: normal;\n",
       "        font-weight: 600;\n",
       "        font-size: 1.728em;\n",
       "        line-height: 100%;\n",
       "        leading-trim: both;\n",
       "        text-edge: cap;\n",
       "        color: #17161D;\n",
       "    }\n",
       "\n",
       "  .header-3 {\n",
       "        font-style: normal;\n",
       "        font-weight: 600;\n",
       "        font-size:  1.44em;\n",
       "        line-height: 100%;\n",
       "        leading-trim: both;\n",
       "        text-edge: cap;\n",
       "        color: #17161D;\n",
       "    }\n",
       "\n",
       "  .header-4 {\n",
       "        font-style: normal;\n",
       "        font-weight: 600;\n",
       "        font-size: 1.2em;\n",
       "        line-height: 100%;\n",
       "        leading-trim: both;\n",
       "        text-edge: cap;\n",
       "        color: #17161D;\n",
       "    }\n",
       "\n",
       "    .paragraph {\n",
       "        font-style: normal;\n",
       "        font-weight: 400;\n",
       "        font-size: 14px;\n",
       "        line-height: 100%;\n",
       "        leading-trim: both;\n",
       "        text-edge: cap;\n",
       "        color: #2E2B3B;\n",
       "    }\n",
       "\n",
       "    .paragraph-sm {\n",
       "        font-family: 'Roboto';\n",
       "        font-style: normal;\n",
       "        font-weight: 400;\n",
       "        font-size: 11.62px;\n",
       "        line-height: 100%;\n",
       "        leading-trim: both;\n",
       "        text-edge: cap;\n",
       "        color: #2E2B3B;\n",
       "    }\n",
       "    .code-text {\n",
       "        font-family: 'Consolas';\n",
       "        font-style: normal;\n",
       "        font-weight: 400;\n",
       "        font-size: 13px;\n",
       "        line-height: 130%;\n",
       "        leading-trim: both;\n",
       "        text-edge: cap;\n",
       "        color: #2E2B3B;\n",
       "    }\n",
       "\n",
       "    .numbering-entry { display: none }\n",
       "\n",
       "    /* Tooltip container */\n",
       "    .tooltip {\n",
       "        position: relative;\n",
       "        display: inline-block;\n",
       "        border-bottom: 1px dotted black; /* If you want dots under the hoverable text */\n",
       "    }\n",
       "\n",
       "    /* Tooltip text */\n",
       "    .tooltip .tooltiptext {\n",
       "        visibility: hidden;\n",
       "        width: 120px;\n",
       "        background-color: black;\n",
       "        color: #fff;\n",
       "        text-align: center;\n",
       "        padding: 5px 0;\n",
       "        border-radius: 6px;\n",
       "\n",
       "        /* Position the tooltip text - see examples below! */\n",
       "        position: absolute;\n",
       "        z-index: 1;\n",
       "    }\n",
       "\n",
       "    .repr-cell {\n",
       "      padding-top: 20px;\n",
       "    }\n",
       "\n",
       "    .text-bold {\n",
       "        font-weight: bold;\n",
       "    }\n",
       "\n",
       "    .pr-8 {\n",
       "        padding-right: 8px;\n",
       "    }\n",
       "    .pt-8 {\n",
       "        padding-top: 8px;\n",
       "    }\n",
       "    .pl-8 {\n",
       "        padding-left: 8px;\n",
       "    }\n",
       "    .pb-8 {\n",
       "        padding-bottom: 8px;\n",
       "    }\n",
       "\n",
       "    .py-25{\n",
       "        padding-top: 25px;\n",
       "        padding-bottom: 25px;\n",
       "    }\n",
       "\n",
       "    .flex {\n",
       "        display: flex;\n",
       "    }\n",
       "\n",
       "    .gap-10 {\n",
       "        gap: 10px;\n",
       "    }\n",
       "    .items-center{\n",
       "        align-items: center;\n",
       "    }\n",
       "\n",
       "    .search-input{\n",
       "        display: flex;\n",
       "        flex-direction: row;\n",
       "        align-items: center;\n",
       "        padding: 8px 12px;\n",
       "        width: 343px;\n",
       "        height: 24px;\n",
       "        /* Lt On Surface/Low */\n",
       "        background: #F1F0F4;\n",
       "        border-radius: 30px;\n",
       "\n",
       "        /* Lt On Surface/Highest */\n",
       "        color: #B4B0BF;\n",
       "        border:none;\n",
       "        /* Inside auto layout */\n",
       "        flex: none;\n",
       "        order: 0;\n",
       "        flex-grow: 0;\n",
       "    }\n",
       "    .search-input:focus {\n",
       "        outline: none;\n",
       "    }\n",
       "\n",
       "    .search-button{\n",
       "        /* Search */\n",
       "        leading-trim: both;\n",
       "        text-edge: cap;\n",
       "        display: flex;\n",
       "        align-items: center;\n",
       "        text-align: center;\n",
       "\n",
       "        /* Primary/On Light */\n",
       "        color: #464A91;\n",
       "\n",
       "        border-radius: 30px;\n",
       "        border-color: #464A91;\n",
       "        /* Inside auto layout */\n",
       "        flex: none;\n",
       "        order: 1;\n",
       "        flex-grow: 0;\n",
       "    }\n",
       "\n",
       "    .grid-table223a2fab55c04b7c895895ae5b022fab {\n",
       "        display:grid;\n",
       "        grid-template-columns: 1fr repeat(20, 1fr);\n",
       "        grid-template-rows: repeat(2, 1fr);\n",
       "        overflow-x: auto;\n",
       "    }\n",
       "\n",
       "    .grid-std-cells {\n",
       "        grid-column: span 4;\n",
       "\n",
       "    }\n",
       "    .grid-index-cells {\n",
       "        grid-column: span 1;\n",
       "        background: #ECEBEF;\n",
       "        /* tmp fix to make left col stand out (fix with font-family) */\n",
       "        font-weight: 600;\n",
       "    }\n",
       "\n",
       "    .grid-header {\n",
       "        /* Auto layout */\n",
       "        display: flex;\n",
       "        flex-direction: column;\n",
       "        align-items: flex-start;\n",
       "        padding: 6px 4px;\n",
       "\n",
       "        /* Lt On Surface/Surface */\n",
       "        background: #ECEBEF;\n",
       "        /* Lt On Surface/High */\n",
       "        border: 1px solid #CFCDD6;\n",
       "        color: #2E2B3B;\n",
       "        /* tmp fix to make header stand out (fix with font-family) */\n",
       "        font-weight: 600;\n",
       "    }\n",
       "\n",
       "    .grid-row {\n",
       "        color: #5E5A72;\n",
       "        display: flex;\n",
       "        flex-direction: column;\n",
       "        align-items: flex-start;\n",
       "        padding: 6px 4px;\n",
       "        overflow: hidden;\n",
       "        border: 1px solid #CFCDD6;\n",
       "    }\n",
       "\n",
       "    .badge {\n",
       "        code-text;\n",
       "        border-radius: 30px;\n",
       "    }\n",
       "\n",
       "    .badge-blue {\n",
       "        badge;\n",
       "        background-color: #C2DEF0;\n",
       "        color: #1F567A;\n",
       "    }\n",
       "\n",
       "    .badge-purple {\n",
       "        badge;\n",
       "        background-color: #C9CFE8;\n",
       "        color: #373B7B;\n",
       "    }\n",
       "\n",
       "    .badge-green {\n",
       "        badge;\n",
       "\n",
       "        /* Success/Container */\n",
       "        background-color: #D5F1D5;\n",
       "        color: #256B24;\n",
       "    }\n",
       "\n",
       "    .badge-red {\n",
       "        badge;\n",
       "        background-color: #F2D9DE;\n",
       "        color: #9B2737;\n",
       "    }\n",
       "\n",
       "    .badge-gray {\n",
       "        badge;\n",
       "        background-color: #ECEBEF;\n",
       "        color: #2E2B3B;\n",
       "    }\n",
       "    .paginationContainer{\n",
       "        width: 100%;\n",
       "        height: 30px;\n",
       "        display: flex;\n",
       "        justify-content: center;\n",
       "        gap: 8px;\n",
       "        padding: 5px;\n",
       "    }\n",
       "\n",
       "    .page{\n",
       "        color: black;\n",
       "        font-weight: bold;\n",
       "    }\n",
       "    .page:hover {\n",
       "      color: #38bdf8;\n",
       "      cursor: pointer;\n",
       "    }\n",
       "    .clipboard:hover{\n",
       "        cursor: pointer;\n",
       "    }\n",
       "\n",
       "    .search-field {\n",
       "        display: flex;\n",
       "        align-items: center;\n",
       "        background: #F1F0F4;\n",
       "        border-radius: 30px;\n",
       "    }\n",
       "\n",
       "    .syft-dropdown {\n",
       "        margin: 5px;\n",
       "        margin-left: 5px;\n",
       "        position: relative;\n",
       "        display: inline-block;\n",
       "        text-align: center;\n",
       "        background-color: #d1d5db;\n",
       "        min-width: 100px;\n",
       "        padding: 2px;\n",
       "        border-radius: 30px;\n",
       "    }\n",
       "\n",
       "    .syft-dropdown:hover {\n",
       "        cursor: pointer;\n",
       "    }\n",
       "    .syft-dropdown-content {\n",
       "        margin-top:26px;\n",
       "        display: none;\n",
       "        position: absolute;\n",
       "        background-color: #f9f9f9;\n",
       "        min-width: 100px;\n",
       "        box-shadow: 0px 8px 16px 0px rgba(0,0,0,0.2);\n",
       "        padding: 12px 6px;\n",
       "        z-index: 1;\n",
       "    }\n",
       "    .dd-options {\n",
       "        padding-top: 4px;\n",
       "    }\n",
       "    .dd-options:first-of-type {\n",
       "        padding-top: 0px;\n",
       "    }\n",
       "\n",
       "    .dd-options:hover {\n",
       "        cursor: pointer;\n",
       "        background: #d1d5db;\n",
       "    }\n",
       "    .arrow {\n",
       "        border: solid black;\n",
       "        border-width: 0 3px 3px 0;\n",
       "        display: inline-block;\n",
       "        padding: 3px;\n",
       "    }\n",
       "    .down {\n",
       "        transform: rotate(45deg);\n",
       "        -webkit-transform: rotate(45deg);\n",
       "    }\n",
       "</style>\n",
       "\n",
       "\n",
       "    <div style='margin-top:15px;'>\n",
       "        <div class='flex gap-10' style='align-items: center;'>\n",
       "            <div><svg width=\"32\" height=\"32\" viewBox=\"0 0 32 32\" fill=\"none\" xmlns=\"http://www.w3.org/2000/svg\"> <path d=\"M28 6H4C3.73478 6 3.48043 6.10536 3.29289 6.29289C3.10536 6.48043 3 6.73478 3 7V24C3 24.5304 3.21071 25.0391 3.58579 25.4142C3.96086 25.7893 4.46957 26 5 26H27C27.5304 26 28.0391 25.7893 28.4142 25.4142C28.7893 25.0391 29 24.5304 29 24V7C29 6.73478 28.8946 6.48043 28.7071 6.29289C28.5196 6.10536 28.2652 6 28 6ZM5 14H10V18H5V14ZM12 14H27V18H12V14ZM27 8V12H5V8H27ZM5 20H10V24H5V20ZM27 24H12V20H27V24Z\" fill=\"#343330\"/></svg></div>\n",
       "            <div><p class='header-3'>Message List</p></div>\n",
       "        </div>\n",
       "\n",
       "            <div style=\"padding-top: 16px; display:flex;justify-content: space-between; align-items: center;\">\n",
       "                <div class='pt-25 gap-10' style=\"display:flex;\">\n",
       "                    <div class=\"search-field\">\n",
       "                        <div id='search-menu223a2fab55c04b7c895895ae5b022fab' class=\"syft-dropdown\" onclick=\"{\n",
       "                            let doc = document.getElementById('search-dropdown-content223a2fab55c04b7c895895ae5b022fab')\n",
       "                            if (doc.style.display === 'block'){\n",
       "                                doc.style.display = 'none'\n",
       "                            } else {\n",
       "                                doc.style.display = 'block'\n",
       "                            }\n",
       "                            }\">\n",
       "                            <div id='search-dropdown-content223a2fab55c04b7c895895ae5b022fab' class='syft-dropdown-content'></div>\n",
       "                            <script>\n",
       "                                var element223a2fab55c04b7c895895ae5b022fab = [{\"id\": {\"value\": \"19499d6d8ee646348e09deedcc7780dd\", \"type\": \"clipboard\"}, \"Subject\": \"Code Request for Project: Pandas Chapter 8 has been submitted by jane@caltech.edu\", \"Status\": \"Unread\", \"Created At\": \"2023-06-29 09:51:47\", \"Linked object\": \"Request (f40033e9b3d24a4b871a1b1d08e82502)\"}, {\"id\": {\"value\": \"cf2eb949df1d48bcba0e090bd6dfb168\", \"type\": \"clipboard\"}, \"Subject\": \"A new request has been added to the Project: Pandas Chapter 8.\", \"Status\": \"Unread\", \"Created At\": \"2023-06-29 09:51:48\", \"Linked object\": \"Project (0167c2ff618949bdbcdce3b15bdb606b)\"}]\n",
       "                                var page_size223a2fab55c04b7c895895ae5b022fab = 2\n",
       "                                var pageIndex223a2fab55c04b7c895895ae5b022fab = 1\n",
       "                                var paginatedElements223a2fab55c04b7c895895ae5b022fab = []\n",
       "                                var activeFilter223a2fab55c04b7c895895ae5b022fab;\n",
       "\n",
       "                                function buildDropDownMenu(elements){\n",
       "                                    let init_filter;\n",
       "                                    let menu = document.getElementById('search-dropdown-content223a2fab55c04b7c895895ae5b022fab')\n",
       "                                    if (elements.length > 0) {\n",
       "                                        let sample = elements[0]\n",
       "                                        for (const attr in sample) {\n",
       "                                            if (typeof init_filter === 'undefined'){\n",
       "                                                init_filter = attr;\n",
       "                                            }\n",
       "                                            let content = document.createElement('div');\n",
       "                                            content.onclick = function(event) {\n",
       "                                                event.stopPropagation()\n",
       "                                                document.getElementById('menu-active-filter223a2fab55c04b7c895895ae5b022fab').innerText = attr;\n",
       "                                                activeFilter223a2fab55c04b7c895895ae5b022fab = attr;\n",
       "                                                document.getElementById(\n",
       "                                                    'search-dropdown-content223a2fab55c04b7c895895ae5b022fab'\n",
       "                                                ).style.display= 'none';\n",
       "                                            }\n",
       "                                            content.classList.add(\"dd-options\");\n",
       "                                            content.innerText = attr;\n",
       "                                            menu.appendChild(content);\n",
       "                                        }\n",
       "                                    } else {\n",
       "                                        let init_filter = '---'\n",
       "                                    }\n",
       "                                    let dropdown_field = document.getElementById('search-menu223a2fab55c04b7c895895ae5b022fab')\n",
       "                                    let span = document.createElement('span')\n",
       "                                    span.setAttribute('id', 'menu-active-filter223a2fab55c04b7c895895ae5b022fab')\n",
       "                                    span.innerText = init_filter\n",
       "                                    activeFilter223a2fab55c04b7c895895ae5b022fab = init_filter;\n",
       "                                    dropdown_field.appendChild(span)\n",
       "                                }\n",
       "\n",
       "                                buildDropDownMenu(element223a2fab55c04b7c895895ae5b022fab)\n",
       "                            </script>\n",
       "                        </div>\n",
       "                        <input id='searchKey223a2fab55c04b7c895895ae5b022fab' class='search-input' placeholder='Enter search here ...'  />\n",
       "                    </div>\n",
       "                    <button class='search-button'  onclick=\"searchGrid223a2fab55c04b7c895895ae5b022fab(element223a2fab55c04b7c895895ae5b022fab)\">\n",
       "                        <svg width=\"11\" height=\"10\" viewBox=\"0 0 11 10\" fill=\"none\" xmlns=\"http://www.w3.org/2000/svg\"><path d=\"M10.5652 9.23467L8.21819 6.88811C8.89846 6.07141 9.23767 5.02389 9.16527 3.96345C9.09287 2.90302 8.61443 1.91132 7.82948 1.19466C7.04453 0.477995 6.01349 0.0915414 4.95087 0.115691C3.88824 0.139841 2.87583 0.572735 2.12425 1.32432C1.37266 2.0759 0.939768 3.08831 0.915618 4.15094C0.891468 5.21357 1.27792 6.2446 1.99459 7.02955C2.71125 7.8145 3.70295 8.29294 4.76338 8.36535C5.82381 8.43775 6.87134 8.09853 7.68804 7.41827L10.0346 9.7653C10.0694 9.80014 10.1108 9.82778 10.1563 9.84663C10.2018 9.86549 10.2506 9.87519 10.2999 9.87519C10.3492 9.87519 10.398 9.86549 10.4435 9.84663C10.489 9.82778 10.5304 9.80014 10.5652 9.7653C10.6001 9.73046 10.6277 9.68909 10.6466 9.64357C10.6654 9.59805 10.6751 9.54926 10.6751 9.49998C10.6751 9.45071 10.6654 9.40192 10.6466 9.3564C10.6277 9.31088 10.6001 9.26951 10.5652 9.23467ZM1.67491 4.24998C1.67491 3.58247 1.87285 2.92995 2.2437 2.37493C2.61455 1.81992 3.14165 1.38734 3.75835 1.13189C4.37506 0.876446 5.05366 0.809609 5.70834 0.939835C6.36303 1.07006 6.96439 1.3915 7.4364 1.8635C7.9084 2.3355 8.22984 2.93687 8.36006 3.59155C8.49029 4.24624 8.42345 4.92484 8.168 5.54154C7.91256 6.15824 7.47998 6.68535 6.92496 7.05619C6.36995 7.42704 5.71742 7.62498 5.04991 7.62498C4.15511 7.62399 3.29724 7.26809 2.66452 6.63537C2.0318 6.00265 1.6759 5.14479 1.67491 4.24998Z\" fill=\"#464A91\"/></svg>\n",
       "                        <span class='pl-8'>Search</span>\n",
       "                    </button>\n",
       "                </div>\n",
       "\n",
       "                <div><h4 id='total223a2fab55c04b7c895895ae5b022fab'>0</h4></div>\n",
       "            </div>\n",
       "            <div id='table223a2fab55c04b7c895895ae5b022fab' class='grid-table223a2fab55c04b7c895895ae5b022fab' style='margin-top: 25px;'>\n",
       "                <script>\n",
       "                    function paginate223a2fab55c04b7c895895ae5b022fab(arr, size) {\n",
       "                        const res = [];\n",
       "                        for (let i = 0; i < arr.length; i += size) {\n",
       "                            const chunk = arr.slice(i, i + size);\n",
       "                            res.push(chunk);\n",
       "                        }\n",
       "\n",
       "                        return res;\n",
       "                    }\n",
       "\n",
       "                    function searchGrid223a2fab55c04b7c895895ae5b022fab(elements){\n",
       "                        let searchKey = document.getElementById('searchKey223a2fab55c04b7c895895ae5b022fab').value\n",
       "                        console.log(\"Search Key: \", searchKey)\n",
       "                        let result;\n",
       "                        if (searchKey === ''){\n",
       "                            result = elements;\n",
       "                        } else {\n",
       "                            result = elements.filter((element) => {\n",
       "                                let property = element[activeFilter223a2fab55c04b7c895895ae5b022fab]\n",
       "                                if (typeof property === 'object' && property !== null){\n",
       "                                    return property.value.toLowerCase().includes(searchKey.toLowerCase());\n",
       "                                } else if (typeof property === 'string' ) {\n",
       "                                    return element[activeFilter223a2fab55c04b7c895895ae5b022fab].toLowerCase().includes(searchKey.toLowerCase());\n",
       "                                } else if (property !== null ) {\n",
       "                                    return element[activeFilter223a2fab55c04b7c895895ae5b022fab].toString() === searchKey;\n",
       "                                } else {\n",
       "                                    return element[activeFilter223a2fab55c04b7c895895ae5b022fab] === searchKey;\n",
       "                                }\n",
       "                            } );\n",
       "                        }\n",
       "                        resetById223a2fab55c04b7c895895ae5b022fab('table223a2fab55c04b7c895895ae5b022fab');\n",
       "                        resetById223a2fab55c04b7c895895ae5b022fab('pag223a2fab55c04b7c895895ae5b022fab');\n",
       "                        result = paginate223a2fab55c04b7c895895ae5b022fab(result, page_size223a2fab55c04b7c895895ae5b022fab)\n",
       "                        buildGrid223a2fab55c04b7c895895ae5b022fab(result,pageIndex223a2fab55c04b7c895895ae5b022fab);\n",
       "                        buildPaginationContainer223a2fab55c04b7c895895ae5b022fab(result);\n",
       "                    }\n",
       "\n",
       "                    function resetById223a2fab55c04b7c895895ae5b022fab(id){\n",
       "                        let element = document.getElementById(id);\n",
       "                        while (element.firstChild) {\n",
       "                          element.removeChild(element.firstChild);\n",
       "                        }\n",
       "                    }\n",
       "\n",
       "                    function buildGrid223a2fab55c04b7c895895ae5b022fab(items, pageIndex){\n",
       "                                let headers = Object.keys(element223a2fab55c04b7c895895ae5b022fab[0]);\n",
       "\n",
       "                                let grid = document.getElementById(\"table223a2fab55c04b7c895895ae5b022fab\");\n",
       "                                let div = document.createElement(\"div\");\n",
       "                                div.classList.add('grid-header', 'grid-index-cells');\n",
       "                                grid.appendChild(div);\n",
       "                                headers.forEach((title) =>{\n",
       "                                    let div = document.createElement(\"div\");\n",
       "                                    div.classList.add('grid-header', 'grid-std-cells');\n",
       "                                    div.innerText = title;\n",
       "\n",
       "                                    grid.appendChild(div);\n",
       "                                });\n",
       "\n",
       "                                let page = items[pageIndex -1]\n",
       "                                if (page !== 'undefine'){\n",
       "                                    let table_index223a2fab55c04b7c895895ae5b022fab = ((pageIndex - 1) * page_size223a2fab55c04b7c895895ae5b022fab)\n",
       "                                    page.forEach((item) => {\n",
       "                                        let grid = document.getElementById(\"table223a2fab55c04b7c895895ae5b022fab\");\n",
       "                                        // Add new index value in index cells\n",
       "                                        let divIndex = document.createElement(\"div\");\n",
       "                                        divIndex.classList.add('grid-row', 'grid-index-cells');\n",
       "                                        divIndex.innerText = table_index223a2fab55c04b7c895895ae5b022fab;\n",
       "                                        grid.appendChild(divIndex);\n",
       "\n",
       "                                        // Iterate over the actual obj\n",
       "                                        for (const attr in item) {\n",
       "                                            let div = document.createElement(\"div\");\n",
       "                                            if (typeof item[attr] === 'object'\n",
       "                                                && item[attr] !== null\n",
       "                                                && item[attr].hasOwnProperty('type')) {\n",
       "                                                if (item[attr].type.includes('badge')){\n",
       "                                                    let badge_div = document.createElement(\"div\");\n",
       "                                                    badge_div.classList.add('badge',item[attr].type)\n",
       "                                                    badge_div.innerText = String(item[attr].value).toUpperCase();\n",
       "                                                    div.appendChild(badge_div);\n",
       "                                                    div.classList.add('grid-row','grid-std-cells');\n",
       "                                                } else if (item[attr].type === \"clipboard\") {\n",
       "                                                    div.classList.add('grid-row','grid-std-cells');\n",
       "\n",
       "                                                    // Create clipboard div\n",
       "                                                    let clipboard_div = document.createElement('div');\n",
       "                                                    clipboard_div.style.display= 'flex';\n",
       "                                                    clipboard_div.classList.add(\"gap-10\")\n",
       "                                                    clipboard_div.style.justifyContent = \"space-between\";\n",
       "\n",
       "                                                    let id_text = document.createElement('div');\n",
       "                                                    if (item[attr].value == \"None\"){\n",
       "                                                        id_text.innerText = \"None\";\n",
       "                                                    }\n",
       "                                                    else{\n",
       "                                                        id_text.innerText = item[attr].value.slice(0,5) + \"...\";\n",
       "                                                    }\n",
       "\n",
       "                                                    clipboard_div.appendChild(id_text);\n",
       "                                                    let clipboard_img = document.createElement('div');\n",
       "                                                    clipboard_img.classList.add(\"clipboard\")\n",
       "                                                    div.onclick = function() {\n",
       "                                                        navigator.clipboard.writeText(item[attr].value);\n",
       "                                                    };\n",
       "                                                    clipboard_img.innerHTML = \"<svg width='8' height='8' viewBox='0 0 8 8' fill='none' xmlns='http://www.w3.org/2000/svg'><path d='M7.4375 0.25H2.4375C2.35462 0.25 2.27513 0.282924 2.21653 0.341529C2.15792 0.400134 2.125 0.47962 2.125 0.5625V2.125H0.5625C0.47962 2.125 0.400134 2.15792 0.341529 2.21653C0.282924 2.27513 0.25 2.35462 0.25 2.4375V7.4375C0.25 7.52038 0.282924 7.59987 0.341529 7.65847C0.400134 7.71708 0.47962 7.75 0.5625 7.75H5.5625C5.64538 7.75 5.72487 7.71708 5.78347 7.65847C5.84208 7.59987 5.875 7.52038 5.875 7.4375V5.875H7.4375C7.52038 5.875 7.59987 5.84208 7.65847 5.78347C7.71708 5.72487 7.75 5.64538 7.75 5.5625V0.5625C7.75 0.47962 7.71708 0.400134 7.65847 0.341529C7.59987 0.282924 7.52038 0.25 7.4375 0.25ZM5.25 7.125H0.875V2.75H5.25V7.125ZM7.125 5.25H5.875V2.4375C5.875 2.35462 5.84208 2.27513 5.78347 2.21653C5.72487 2.15792 5.64538 2.125 5.5625 2.125H2.75V0.875H7.125V5.25Z' fill='#464158'/></svg>\";\n",
       "\n",
       "                                                    clipboard_div.appendChild(clipboard_img);\n",
       "                                                    div.appendChild(clipboard_div);\n",
       "                                                }\n",
       "                                            } else{\n",
       "                                                div.classList.add('grid-row','grid-std-cells');\n",
       "                                                if (item[attr] == null) {\n",
       "                                                    text = ' '\n",
       "                                                } else {\n",
       "                                                    text = String(item[attr])\n",
       "                                                }\n",
       "                                                if (text.length > 150){\n",
       "                                                    text = text.slice(0,150) + \"...\";\n",
       "                                                }\n",
       "                                                text = text.replaceAll(\"\\n\", \"</br>\");\n",
       "                                                div.innerHTML = text;\n",
       "                                            }\n",
       "                                            grid.appendChild(div);\n",
       "                                        }\n",
       "                                    table_index223a2fab55c04b7c895895ae5b022fab = table_index223a2fab55c04b7c895895ae5b022fab + 1;\n",
       "                                    })\n",
       "                                }\n",
       "                    }\n",
       "                    paginatedElements223a2fab55c04b7c895895ae5b022fab = paginate223a2fab55c04b7c895895ae5b022fab(element223a2fab55c04b7c895895ae5b022fab, page_size223a2fab55c04b7c895895ae5b022fab)\n",
       "                    buildGrid223a2fab55c04b7c895895ae5b022fab(paginatedElements223a2fab55c04b7c895895ae5b022fab, 1)\n",
       "                    document.getElementById('total223a2fab55c04b7c895895ae5b022fab').innerText = \"Total: \" + element223a2fab55c04b7c895895ae5b022fab.length\n",
       "                </script>\n",
       "            </div>\n",
       "            <div id='pag223a2fab55c04b7c895895ae5b022fab' class='paginationContainer'>\n",
       "                <script>\n",
       "                    function buildPaginationContainer223a2fab55c04b7c895895ae5b022fab(paginatedElements){\n",
       "                            let pageContainer = document.getElementById(\"pag223a2fab55c04b7c895895ae5b022fab\");\n",
       "                            for (let i = 0; i < paginatedElements.length; i++) {\n",
       "                                  let div = document.createElement(\"div\");\n",
       "                                  div.classList.add('page');\n",
       "                                  div.style.color = 'gray';\n",
       "                                  div.onclick = function(event) {\n",
       "                                      let indexes = document.getElementsByClassName('page');\n",
       "                                      for (let index of indexes) { index.style.color = 'gray' }\n",
       "                                      event.target.style.color = \"black\"\n",
       "                                      setPage223a2fab55c04b7c895895ae5b022fab(i + 1);\n",
       "                                  };\n",
       "                                  div.innerText = i + 1;\n",
       "                                  pageContainer.appendChild(div);\n",
       "                            }\n",
       "                    }\n",
       "\n",
       "                    function setPage223a2fab55c04b7c895895ae5b022fab(newPage){\n",
       "                        pageIndex = newPage\n",
       "                        resetById223a2fab55c04b7c895895ae5b022fab('table223a2fab55c04b7c895895ae5b022fab')\n",
       "                        buildGrid223a2fab55c04b7c895895ae5b022fab(paginatedElements223a2fab55c04b7c895895ae5b022fab, pageIndex)\n",
       "                    }\n",
       "\n",
       "                    buildPaginationContainer223a2fab55c04b7c895895ae5b022fab(paginatedElements223a2fab55c04b7c895895ae5b022fab)\n",
       "                </script>\n",
       "            </div>\n",
       "        </div>\n",
       "    </div>\n",
       "    </div>\n"
      ],
      "text/plain": [
       "[syft.service.message.messages.Message, syft.service.message.messages.Message]"
      ]
     },
     "execution_count": 41,
     "metadata": {},
     "output_type": "execute_result"
    }
   ],
   "source": [
    "messages"
   ]
  },
  {
   "cell_type": "code",
   "execution_count": 42,
   "id": "f491713c",
   "metadata": {
    "execution": {
     "iopub.execute_input": "2023-06-29T09:51:50.573486Z",
     "iopub.status.busy": "2023-06-29T09:51:50.573033Z",
     "iopub.status.idle": "2023-06-29T09:51:50.578360Z",
     "shell.execute_reply": "2023-06-29T09:51:50.577738Z"
    },
    "tags": []
   },
   "outputs": [],
   "source": [
    "project_message = [x for x in messages if issubclass(x.linked_obj.object_type, Project)][0]"
   ]
  },
  {
   "cell_type": "code",
   "execution_count": 43,
   "id": "e450a3af",
   "metadata": {
    "execution": {
     "iopub.execute_input": "2023-06-29T09:51:50.581125Z",
     "iopub.status.busy": "2023-06-29T09:51:50.580692Z",
     "iopub.status.idle": "2023-06-29T09:51:50.640121Z",
     "shell.execute_reply": "2023-06-29T09:51:50.639367Z"
    },
    "tags": []
   },
   "outputs": [],
   "source": [
    "request = project_message.link.events[0].request\n",
    "func = request.changes[0].link\n",
    "op = func.output_policy_type"
   ]
  },
  {
   "cell_type": "code",
   "execution_count": 44,
   "id": "cd5822af",
   "metadata": {
    "execution": {
     "iopub.execute_input": "2023-06-29T09:51:50.643574Z",
     "iopub.status.busy": "2023-06-29T09:51:50.642907Z",
     "iopub.status.idle": "2023-06-29T09:51:50.649227Z",
     "shell.execute_reply": "2023-06-29T09:51:50.648541Z"
    },
    "tags": []
   },
   "outputs": [
    {
     "data": {
      "text/markdown": [
       "```python\n",
       "class UserCode\n",
       "    id: str = a11f0bdce6e44877a444b800920cd1f1\n",
       "    status.approved: str = False\n",
       "    service_func_name: str = find_recently_installed\n",
       "    code:\n",
       "\n",
       "@sy.syft_function(input_policy=sy.ExactMatch(popcon=ds.assets[0]),\n",
       "                  output_policy=sy.SingleExecutionExactOutput())\n",
       "def find_recently_installed(popcon):\n",
       "    import pandas as pd\n",
       "    popcon['atime'] = popcon['atime'].astype(int)\n",
       "    popcon['ctime'] = popcon['ctime'].astype(int)\n",
       "    popcon['atime'] = pd.to_datetime(popcon['atime'], unit='s')\n",
       "    popcon['ctime'] = pd.to_datetime(popcon['ctime'], unit='s')\n",
       "    popcon = popcon[popcon['atime'] > '1970-01-01']\n",
       "    nonlibraries = popcon[~popcon['package-name'].str.contains('lib')]\n",
       "    return nonlibraries.sort_values('ctime', ascending=False)[:10]\n",
       "\n",
       "```"
      ],
      "text/plain": [
       "syft.service.code.user_code.UserCode"
      ]
     },
     "execution_count": 44,
     "metadata": {},
     "output_type": "execute_result"
    }
   ],
   "source": [
    "func"
   ]
  },
  {
   "cell_type": "code",
   "execution_count": 45,
   "id": "c173017d",
   "metadata": {
    "execution": {
     "iopub.execute_input": "2023-06-29T09:51:50.652282Z",
     "iopub.status.busy": "2023-06-29T09:51:50.651909Z",
     "iopub.status.idle": "2023-06-29T09:51:50.656286Z",
     "shell.execute_reply": "2023-06-29T09:51:50.655525Z"
    },
    "tags": []
   },
   "outputs": [
    {
     "name": "stdout",
     "output_type": "stream",
     "text": [
      "WARNING: This code was submitted by a User and could be UNSAFE.\n"
     ]
    }
   ],
   "source": [
    "find_recently_installed = func.unsafe_function"
   ]
  },
  {
   "cell_type": "code",
   "execution_count": 46,
   "id": "3a708eb0",
   "metadata": {
    "execution": {
     "iopub.execute_input": "2023-06-29T09:51:50.659331Z",
     "iopub.status.busy": "2023-06-29T09:51:50.658951Z",
     "iopub.status.idle": "2023-06-29T09:51:50.715997Z",
     "shell.execute_reply": "2023-06-29T09:51:50.715186Z"
    },
    "tags": []
   },
   "outputs": [],
   "source": [
    "real_data = domain_client.datasets[0].assets[0].data"
   ]
  },
  {
   "cell_type": "code",
   "execution_count": 47,
   "id": "c55557f8",
   "metadata": {
    "execution": {
     "iopub.execute_input": "2023-06-29T09:51:50.719551Z",
     "iopub.status.busy": "2023-06-29T09:51:50.719066Z",
     "iopub.status.idle": "2023-06-29T09:51:50.733476Z",
     "shell.execute_reply": "2023-06-29T09:51:50.732572Z"
    },
    "tags": []
   },
   "outputs": [
    {
     "data": {
      "text/html": [
       "<div>\n",
       "<style scoped>\n",
       "    .dataframe tbody tr th:only-of-type {\n",
       "        vertical-align: middle;\n",
       "    }\n",
       "\n",
       "    .dataframe tbody tr th {\n",
       "        vertical-align: top;\n",
       "    }\n",
       "\n",
       "    .dataframe thead th {\n",
       "        text-align: right;\n",
       "    }\n",
       "</style>\n",
       "<table border=\"1\" class=\"dataframe\">\n",
       "  <thead>\n",
       "    <tr style=\"text-align: right;\">\n",
       "      <th></th>\n",
       "      <th>atime</th>\n",
       "      <th>ctime</th>\n",
       "      <th>package-name</th>\n",
       "      <th>mru-program</th>\n",
       "      <th>tag</th>\n",
       "    </tr>\n",
       "  </thead>\n",
       "  <tbody>\n",
       "    <tr>\n",
       "      <th>0</th>\n",
       "      <td>1387295797</td>\n",
       "      <td>1367633260</td>\n",
       "      <td>perl-base</td>\n",
       "      <td>/usr/bin/perl</td>\n",
       "      <td>None</td>\n",
       "    </tr>\n",
       "    <tr>\n",
       "      <th>1</th>\n",
       "      <td>1387295796</td>\n",
       "      <td>1354370480</td>\n",
       "      <td>login</td>\n",
       "      <td>/bin/su</td>\n",
       "      <td>None</td>\n",
       "    </tr>\n",
       "    <tr>\n",
       "      <th>2</th>\n",
       "      <td>1387295743</td>\n",
       "      <td>1354341275</td>\n",
       "      <td>libtalloc2</td>\n",
       "      <td>/usr/lib/x86_64-linux-gnu/libtalloc.so.2.0.7</td>\n",
       "      <td>None</td>\n",
       "    </tr>\n",
       "    <tr>\n",
       "      <th>3</th>\n",
       "      <td>1387295743</td>\n",
       "      <td>1387224204</td>\n",
       "      <td>libwbclient0</td>\n",
       "      <td>/usr/lib/x86_64-linux-gnu/libwbclient.so.0</td>\n",
       "      <td>&lt;RECENT-CTIME&gt;</td>\n",
       "    </tr>\n",
       "    <tr>\n",
       "      <th>4</th>\n",
       "      <td>1387295742</td>\n",
       "      <td>1354341253</td>\n",
       "      <td>libselinux1</td>\n",
       "      <td>/lib/x86_64-linux-gnu/libselinux.so.1</td>\n",
       "      <td>None</td>\n",
       "    </tr>\n",
       "    <tr>\n",
       "      <th>...</th>\n",
       "      <td>...</td>\n",
       "      <td>...</td>\n",
       "      <td>...</td>\n",
       "      <td>...</td>\n",
       "      <td>...</td>\n",
       "    </tr>\n",
       "    <tr>\n",
       "      <th>2892</th>\n",
       "      <td>0</td>\n",
       "      <td>0</td>\n",
       "      <td>libreadline-dev</td>\n",
       "      <td>&lt;NOFILES&gt;</td>\n",
       "      <td>None</td>\n",
       "    </tr>\n",
       "    <tr>\n",
       "      <th>2893</th>\n",
       "      <td>0</td>\n",
       "      <td>0</td>\n",
       "      <td>notify-osd-icons</td>\n",
       "      <td>&lt;NOFILES&gt;</td>\n",
       "      <td>None</td>\n",
       "    </tr>\n",
       "    <tr>\n",
       "      <th>2894</th>\n",
       "      <td>0</td>\n",
       "      <td>0</td>\n",
       "      <td>python-apt-common</td>\n",
       "      <td>&lt;NOFILES&gt;</td>\n",
       "      <td>None</td>\n",
       "    </tr>\n",
       "    <tr>\n",
       "      <th>2895</th>\n",
       "      <td>0</td>\n",
       "      <td>0</td>\n",
       "      <td>libindicator-messages-status-provider1</td>\n",
       "      <td>&lt;NOFILES&gt;</td>\n",
       "      <td>None</td>\n",
       "    </tr>\n",
       "    <tr>\n",
       "      <th>2896</th>\n",
       "      <td>0</td>\n",
       "      <td>0</td>\n",
       "      <td>libusbmuxd1</td>\n",
       "      <td>&lt;NOFILES&gt;</td>\n",
       "      <td>None</td>\n",
       "    </tr>\n",
       "  </tbody>\n",
       "</table>\n",
       "<p>2897 rows × 5 columns</p>\n",
       "</div>"
      ],
      "text/plain": [
       "           atime       ctime                            package-name  \\\n",
       "0     1387295797  1367633260                               perl-base   \n",
       "1     1387295796  1354370480                                   login   \n",
       "2     1387295743  1354341275                              libtalloc2   \n",
       "3     1387295743  1387224204                            libwbclient0   \n",
       "4     1387295742  1354341253                             libselinux1   \n",
       "...          ...         ...                                     ...   \n",
       "2892           0           0                         libreadline-dev   \n",
       "2893           0           0                        notify-osd-icons   \n",
       "2894           0           0                       python-apt-common   \n",
       "2895           0           0  libindicator-messages-status-provider1   \n",
       "2896           0           0                             libusbmuxd1   \n",
       "\n",
       "                                       mru-program             tag  \n",
       "0                                    /usr/bin/perl            None  \n",
       "1                                          /bin/su            None  \n",
       "2     /usr/lib/x86_64-linux-gnu/libtalloc.so.2.0.7            None  \n",
       "3       /usr/lib/x86_64-linux-gnu/libwbclient.so.0  <RECENT-CTIME>  \n",
       "4            /lib/x86_64-linux-gnu/libselinux.so.1            None  \n",
       "...                                            ...             ...  \n",
       "2892                                     <NOFILES>            None  \n",
       "2893                                     <NOFILES>            None  \n",
       "2894                                     <NOFILES>            None  \n",
       "2895                                     <NOFILES>            None  \n",
       "2896                                     <NOFILES>            None  \n",
       "\n",
       "[2897 rows x 5 columns]"
      ]
     },
     "execution_count": 47,
     "metadata": {},
     "output_type": "execute_result"
    }
   ],
   "source": [
    "real_data"
   ]
  },
  {
   "cell_type": "code",
   "execution_count": 48,
   "id": "34fc6c8b",
   "metadata": {
    "execution": {
     "iopub.execute_input": "2023-06-29T09:51:50.736983Z",
     "iopub.status.busy": "2023-06-29T09:51:50.736452Z",
     "iopub.status.idle": "2023-06-29T09:51:50.750764Z",
     "shell.execute_reply": "2023-06-29T09:51:50.749964Z"
    },
    "tags": []
   },
   "outputs": [],
   "source": [
    "real_result = find_recently_installed(popcon=real_data)"
   ]
  },
  {
   "cell_type": "code",
   "execution_count": 49,
   "id": "60adc73c",
   "metadata": {
    "execution": {
     "iopub.execute_input": "2023-06-29T09:51:50.753991Z",
     "iopub.status.busy": "2023-06-29T09:51:50.753357Z",
     "iopub.status.idle": "2023-06-29T09:51:51.046194Z",
     "shell.execute_reply": "2023-06-29T09:51:51.045271Z"
    },
    "tags": []
   },
   "outputs": [],
   "source": [
    "result = request.accept_by_depositing_result(real_result)\n",
    "result\n",
    "assert isinstance(result, sy.SyftSuccess)"
   ]
  },
  {
   "cell_type": "markdown",
   "id": "d23c84c2",
   "metadata": {},
   "source": [
    "# Data Owner: fetch result"
   ]
  },
  {
   "cell_type": "code",
   "execution_count": 50,
   "id": "b302702f",
   "metadata": {
    "execution": {
     "iopub.execute_input": "2023-06-29T09:51:51.050097Z",
     "iopub.status.busy": "2023-06-29T09:51:51.049604Z",
     "iopub.status.idle": "2023-06-29T09:51:51.072294Z",
     "shell.execute_reply": "2023-06-29T09:51:51.071315Z"
    },
    "tags": []
   },
   "outputs": [
    {
     "data": {
      "text/plain": [
       "{NodeView(node_name='pandas-test-domain-8', verify_key=85af2a71bb544418c517e6ea96e4fb5805fe74c4181aad8924542360efff36d1): <UserCodeStatus.EXECUTE: 'execute'>}"
      ]
     },
     "execution_count": 50,
     "metadata": {},
     "output_type": "execute_result"
    }
   ],
   "source": [
    "guest_client.code[0].status"
   ]
  },
  {
   "cell_type": "code",
   "execution_count": 51,
   "id": "d4d913d0",
   "metadata": {
    "execution": {
     "iopub.execute_input": "2023-06-29T09:51:51.076652Z",
     "iopub.status.busy": "2023-06-29T09:51:51.075840Z",
     "iopub.status.idle": "2023-06-29T09:51:51.095943Z",
     "shell.execute_reply": "2023-06-29T09:51:51.095196Z"
    },
    "tags": []
   },
   "outputs": [],
   "source": [
    "asset = guest_client.datasets[0].assets[0]"
   ]
  },
  {
   "cell_type": "code",
   "execution_count": 52,
   "id": "7093dad3",
   "metadata": {
    "execution": {
     "iopub.execute_input": "2023-06-29T09:51:51.099195Z",
     "iopub.status.busy": "2023-06-29T09:51:51.098936Z",
     "iopub.status.idle": "2023-06-29T09:51:51.150312Z",
     "shell.execute_reply": "2023-06-29T09:51:51.149470Z"
    },
    "tags": []
   },
   "outputs": [],
   "source": [
    "result_ptr = guest_client.code.find_recently_installed(popcon=asset)\n",
    "real_result = result_ptr.get()"
   ]
  },
  {
   "cell_type": "code",
   "execution_count": 53,
   "id": "26393eb3",
   "metadata": {
    "execution": {
     "iopub.execute_input": "2023-06-29T09:51:51.153618Z",
     "iopub.status.busy": "2023-06-29T09:51:51.153365Z",
     "iopub.status.idle": "2023-06-29T09:51:51.163377Z",
     "shell.execute_reply": "2023-06-29T09:51:51.162706Z"
    },
    "tags": []
   },
   "outputs": [
    {
     "data": {
      "text/html": [
       "<div>\n",
       "<style scoped>\n",
       "    .dataframe tbody tr th:only-of-type {\n",
       "        vertical-align: middle;\n",
       "    }\n",
       "\n",
       "    .dataframe tbody tr th {\n",
       "        vertical-align: top;\n",
       "    }\n",
       "\n",
       "    .dataframe thead th {\n",
       "        text-align: right;\n",
       "    }\n",
       "</style>\n",
       "<table border=\"1\" class=\"dataframe\">\n",
       "  <thead>\n",
       "    <tr style=\"text-align: right;\">\n",
       "      <th></th>\n",
       "      <th>atime</th>\n",
       "      <th>ctime</th>\n",
       "      <th>package-name</th>\n",
       "      <th>mru-program</th>\n",
       "      <th>tag</th>\n",
       "    </tr>\n",
       "  </thead>\n",
       "  <tbody>\n",
       "    <tr>\n",
       "      <th>57</th>\n",
       "      <td>2013-12-17 04:55:39</td>\n",
       "      <td>2013-12-17 04:55:42</td>\n",
       "      <td>ddd</td>\n",
       "      <td>/usr/bin/ddd</td>\n",
       "      <td>&lt;RECENT-CTIME&gt;</td>\n",
       "    </tr>\n",
       "    <tr>\n",
       "      <th>450</th>\n",
       "      <td>2013-12-16 20:03:20</td>\n",
       "      <td>2013-12-16 20:05:13</td>\n",
       "      <td>nodejs</td>\n",
       "      <td>/usr/bin/npm</td>\n",
       "      <td>&lt;RECENT-CTIME&gt;</td>\n",
       "    </tr>\n",
       "    <tr>\n",
       "      <th>454</th>\n",
       "      <td>2013-12-16 20:03:20</td>\n",
       "      <td>2013-12-16 20:05:04</td>\n",
       "      <td>switchboard-plug-keyboard</td>\n",
       "      <td>/usr/lib/plugs/pantheon/keyboard/options.txt</td>\n",
       "      <td>&lt;RECENT-CTIME&gt;</td>\n",
       "    </tr>\n",
       "    <tr>\n",
       "      <th>445</th>\n",
       "      <td>2013-12-16 20:03:20</td>\n",
       "      <td>2013-12-16 20:05:04</td>\n",
       "      <td>thunderbird-locale-en</td>\n",
       "      <td>/usr/lib/thunderbird-addons/extensions/langpac...</td>\n",
       "      <td>&lt;RECENT-CTIME&gt;</td>\n",
       "    </tr>\n",
       "    <tr>\n",
       "      <th>396</th>\n",
       "      <td>2013-12-16 20:08:27</td>\n",
       "      <td>2013-12-16 20:05:03</td>\n",
       "      <td>software-center</td>\n",
       "      <td>/usr/sbin/update-software-center</td>\n",
       "      <td>&lt;RECENT-CTIME&gt;</td>\n",
       "    </tr>\n",
       "    <tr>\n",
       "      <th>449</th>\n",
       "      <td>2013-12-16 20:03:20</td>\n",
       "      <td>2013-12-16 20:05:00</td>\n",
       "      <td>samba-common-bin</td>\n",
       "      <td>/usr/bin/net.samba3</td>\n",
       "      <td>&lt;RECENT-CTIME&gt;</td>\n",
       "    </tr>\n",
       "    <tr>\n",
       "      <th>397</th>\n",
       "      <td>2013-12-16 20:08:25</td>\n",
       "      <td>2013-12-16 20:04:59</td>\n",
       "      <td>postgresql-client-9.1</td>\n",
       "      <td>/usr/lib/postgresql/9.1/bin/psql</td>\n",
       "      <td>&lt;RECENT-CTIME&gt;</td>\n",
       "    </tr>\n",
       "    <tr>\n",
       "      <th>398</th>\n",
       "      <td>2013-12-16 20:08:23</td>\n",
       "      <td>2013-12-16 20:04:58</td>\n",
       "      <td>postgresql-9.1</td>\n",
       "      <td>/usr/lib/postgresql/9.1/bin/postmaster</td>\n",
       "      <td>&lt;RECENT-CTIME&gt;</td>\n",
       "    </tr>\n",
       "    <tr>\n",
       "      <th>452</th>\n",
       "      <td>2013-12-16 20:03:20</td>\n",
       "      <td>2013-12-16 20:04:55</td>\n",
       "      <td>php5-dev</td>\n",
       "      <td>/usr/include/php5/main/snprintf.h</td>\n",
       "      <td>&lt;RECENT-CTIME&gt;</td>\n",
       "    </tr>\n",
       "    <tr>\n",
       "      <th>440</th>\n",
       "      <td>2013-12-16 20:03:20</td>\n",
       "      <td>2013-12-16 20:04:54</td>\n",
       "      <td>php-pear</td>\n",
       "      <td>/usr/share/php/XML/Util.php</td>\n",
       "      <td>&lt;RECENT-CTIME&gt;</td>\n",
       "    </tr>\n",
       "  </tbody>\n",
       "</table>\n",
       "</div>"
      ],
      "text/plain": [
       "                  atime               ctime               package-name  \\\n",
       "57  2013-12-17 04:55:39 2013-12-17 04:55:42                        ddd   \n",
       "450 2013-12-16 20:03:20 2013-12-16 20:05:13                     nodejs   \n",
       "454 2013-12-16 20:03:20 2013-12-16 20:05:04  switchboard-plug-keyboard   \n",
       "445 2013-12-16 20:03:20 2013-12-16 20:05:04      thunderbird-locale-en   \n",
       "396 2013-12-16 20:08:27 2013-12-16 20:05:03            software-center   \n",
       "449 2013-12-16 20:03:20 2013-12-16 20:05:00           samba-common-bin   \n",
       "397 2013-12-16 20:08:25 2013-12-16 20:04:59      postgresql-client-9.1   \n",
       "398 2013-12-16 20:08:23 2013-12-16 20:04:58             postgresql-9.1   \n",
       "452 2013-12-16 20:03:20 2013-12-16 20:04:55                   php5-dev   \n",
       "440 2013-12-16 20:03:20 2013-12-16 20:04:54                   php-pear   \n",
       "\n",
       "                                           mru-program             tag  \n",
       "57                                        /usr/bin/ddd  <RECENT-CTIME>  \n",
       "450                                       /usr/bin/npm  <RECENT-CTIME>  \n",
       "454       /usr/lib/plugs/pantheon/keyboard/options.txt  <RECENT-CTIME>  \n",
       "445  /usr/lib/thunderbird-addons/extensions/langpac...  <RECENT-CTIME>  \n",
       "396                   /usr/sbin/update-software-center  <RECENT-CTIME>  \n",
       "449                                /usr/bin/net.samba3  <RECENT-CTIME>  \n",
       "397                   /usr/lib/postgresql/9.1/bin/psql  <RECENT-CTIME>  \n",
       "398             /usr/lib/postgresql/9.1/bin/postmaster  <RECENT-CTIME>  \n",
       "452                  /usr/include/php5/main/snprintf.h  <RECENT-CTIME>  \n",
       "440                        /usr/share/php/XML/Util.php  <RECENT-CTIME>  "
      ]
     },
     "execution_count": 53,
     "metadata": {},
     "output_type": "execute_result"
    }
   ],
   "source": [
    "real_result"
   ]
  },
  {
   "cell_type": "code",
   "execution_count": 54,
   "id": "ed3c5e38",
   "metadata": {
    "execution": {
     "iopub.execute_input": "2023-06-29T09:51:51.166151Z",
     "iopub.status.busy": "2023-06-29T09:51:51.165789Z",
     "iopub.status.idle": "2023-06-29T09:51:51.170263Z",
     "shell.execute_reply": "2023-06-29T09:51:51.169518Z"
    },
    "tags": []
   },
   "outputs": [
    {
     "name": "stdout",
     "output_type": "stream",
     "text": [
      "Stopping pandas-test-domain-8\n"
     ]
    }
   ],
   "source": [
    "node.land()"
   ]
  },
  {
   "cell_type": "code",
   "execution_count": null,
   "id": "0b4dc278-0a7f-4d01-b660-82aed6419fcc",
   "metadata": {},
   "outputs": [],
   "source": []
  }
 ],
 "metadata": {
  "kernelspec": {
   "display_name": "Python 3 (ipykernel)",
   "language": "python",
   "name": "python3"
  },
  "language_info": {
   "codemirror_mode": {
    "name": "ipython",
    "version": 3
   },
   "file_extension": ".py",
   "mimetype": "text/x-python",
   "name": "python",
   "nbconvert_exporter": "python",
   "pygments_lexer": "ipython3",
   "version": "3.11.4"
  },
  "toc": {
   "base_numbering": 1,
   "nav_menu": {},
   "number_sections": true,
   "sideBar": true,
   "skip_h1_title": false,
   "title_cell": "Table of Contents",
   "title_sidebar": "Contents",
   "toc_cell": false,
   "toc_position": {},
   "toc_section_display": true,
   "toc_window_display": true
  }
 },
 "nbformat": 4,
 "nbformat_minor": 5
}
