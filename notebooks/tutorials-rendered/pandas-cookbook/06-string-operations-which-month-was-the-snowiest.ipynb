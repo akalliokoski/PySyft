{
 "cells": [
  {
   "cell_type": "markdown",
   "id": "10a3dbb5",
   "metadata": {},
   "source": [
    "# String Operations- Which month was the snowiest"
   ]
  },
  {
   "cell_type": "markdown",
   "id": "1109216b",
   "metadata": {},
   "source": [
    "## Install"
   ]
  },
  {
   "cell_type": "code",
   "execution_count": 1,
   "id": "66c14a6b",
   "metadata": {
    "execution": {
     "iopub.execute_input": "2023-06-29T09:50:39.586145Z",
     "iopub.status.busy": "2023-06-29T09:50:39.585324Z",
     "iopub.status.idle": "2023-06-29T09:50:39.595512Z",
     "shell.execute_reply": "2023-06-29T09:50:39.594831Z"
    },
    "tags": []
   },
   "outputs": [],
   "source": [
    "SYFT_VERSION = \">=0.8.2.b0,<0.9\"\n",
    "package_string = f'\"syft{SYFT_VERSION}\"'\n",
    "# %pip install {package_string} -f https://whls.blob.core.windows.net/unstable/index.html -q"
   ]
  },
  {
   "cell_type": "code",
   "execution_count": 2,
   "id": "74a3a9fb",
   "metadata": {
    "execution": {
     "iopub.execute_input": "2023-06-29T09:50:39.598659Z",
     "iopub.status.busy": "2023-06-29T09:50:39.598073Z",
     "iopub.status.idle": "2023-06-29T09:50:41.847380Z",
     "shell.execute_reply": "2023-06-29T09:50:41.846120Z"
    },
    "tags": []
   },
   "outputs": [
    {
     "name": "stdout",
     "output_type": "stream",
     "text": [
      "✅ The installed version of syft==0.8.2b2 matches the requirement >=0.8.2b0 and the requirement <0.9\n"
     ]
    }
   ],
   "source": [
    "import syft as sy\n",
    "sy.requires(SYFT_VERSION)"
   ]
  },
  {
   "cell_type": "code",
   "execution_count": 3,
   "id": "cbce68c1",
   "metadata": {
    "execution": {
     "iopub.execute_input": "2023-06-29T09:50:41.850758Z",
     "iopub.status.busy": "2023-06-29T09:50:41.850000Z",
     "iopub.status.idle": "2023-06-29T09:50:42.901490Z",
     "shell.execute_reply": "2023-06-29T09:50:42.900430Z"
    },
    "tags": []
   },
   "outputs": [
    {
     "name": "stdout",
     "output_type": "stream",
     "text": [
      "Starting pandas-test-domain-6 server on 0.0.0.0:9086\n"
     ]
    },
    {
     "name": "stdout",
     "output_type": "stream",
     "text": [
      "Waiting for server to start Done.\n"
     ]
    }
   ],
   "source": [
    "node = sy.orchestra.launch(name=\"pandas-test-domain-6\", port=9086, reset=True)"
   ]
  },
  {
   "cell_type": "markdown",
   "id": "4939b6a2",
   "metadata": {},
   "source": [
    "# Data owner: upload dataset"
   ]
  },
  {
   "cell_type": "code",
   "execution_count": 4,
   "id": "f6e430c8",
   "metadata": {
    "execution": {
     "iopub.execute_input": "2023-06-29T09:50:42.905560Z",
     "iopub.status.busy": "2023-06-29T09:50:42.904820Z",
     "iopub.status.idle": "2023-06-29T09:50:44.390876Z",
     "shell.execute_reply": "2023-06-29T09:50:44.389677Z"
    },
    "tags": []
   },
   "outputs": [
    {
     "name": "stdout",
     "output_type": "stream",
     "text": [
      "Logged into pandas-test-domain-6 as <info@openmined.org>\n"
     ]
    }
   ],
   "source": [
    "root_domain_client = node.login(email=\"info@openmined.org\", password=\"changethis\")"
   ]
  },
  {
   "cell_type": "markdown",
   "id": "da0cf39a",
   "metadata": {},
   "source": [
    "## Load data"
   ]
  },
  {
   "cell_type": "markdown",
   "id": "ddb684cf",
   "metadata": {},
   "source": [
    "By the end of this chapter, we're going to have downloaded all of Canada's weather data for 2012, and saved it to a CSV.\n",
    "\n",
    "We'll do this by downloading it one month at a time, and then combining all the months together.\n",
    "\n",
    "Here's the temperature every hour for 2012!"
   ]
  },
  {
   "cell_type": "code",
   "execution_count": 5,
   "id": "29334026",
   "metadata": {
    "execution": {
     "iopub.execute_input": "2023-06-29T09:50:44.394209Z",
     "iopub.status.busy": "2023-06-29T09:50:44.393950Z",
     "iopub.status.idle": "2023-06-29T09:50:44.782101Z",
     "shell.execute_reply": "2023-06-29T09:50:44.781152Z"
    },
    "tags": []
   },
   "outputs": [],
   "source": [
    "%matplotlib inline\n",
    "import pandas as pd\n",
    "import matplotlib.pyplot as plt\n",
    "import numpy as np\n",
    "\n",
    "plt.style.use('ggplot')\n",
    "plt.rcParams['figure.figsize'] = (15, 3)\n",
    "plt.rcParams['font.family'] = 'sans-serif'"
   ]
  },
  {
   "cell_type": "code",
   "execution_count": 6,
   "id": "d5f7644a",
   "metadata": {
    "execution": {
     "iopub.execute_input": "2023-06-29T09:50:44.786546Z",
     "iopub.status.busy": "2023-06-29T09:50:44.785877Z",
     "iopub.status.idle": "2023-06-29T09:50:44.792149Z",
     "shell.execute_reply": "2023-06-29T09:50:44.791472Z"
    },
    "tags": []
   },
   "outputs": [],
   "source": [
    "from datetime import timedelta\n",
    "import random\n",
    "from dateutil.parser import parse\n",
    "from pandas._libs.tslibs.timestamps import Timestamp\n",
    "from syft.service.project.project import Project\n",
    "from syft.util.util import autocache, PANDAS_DATA"
   ]
  },
  {
   "cell_type": "code",
   "execution_count": 7,
   "id": "4570ebe9-3dc4-44f7-beac-5d953f85def5",
   "metadata": {
    "execution": {
     "iopub.execute_input": "2023-06-29T09:50:44.794833Z",
     "iopub.status.busy": "2023-06-29T09:50:44.794402Z",
     "iopub.status.idle": "2023-06-29T09:50:44.824322Z",
     "shell.execute_reply": "2023-06-29T09:50:44.823554Z"
    },
    "tags": []
   },
   "outputs": [],
   "source": [
    "weather_2012_final = pd.read_csv(autocache(f\"{PANDAS_DATA}/weather_2012.csv\"), index_col='Date/Time', parse_dates=True)"
   ]
  },
  {
   "cell_type": "code",
   "execution_count": 8,
   "id": "b3e9ec92-5a99-4c1c-82e3-0fb69b5364c3",
   "metadata": {
    "execution": {
     "iopub.execute_input": "2023-06-29T09:50:44.827653Z",
     "iopub.status.busy": "2023-06-29T09:50:44.827240Z",
     "iopub.status.idle": "2023-06-29T09:50:44.831808Z",
     "shell.execute_reply": "2023-06-29T09:50:44.831071Z"
    },
    "tags": []
   },
   "outputs": [],
   "source": [
    "assert len(weather_2012_final) == 8784"
   ]
  },
  {
   "cell_type": "code",
   "execution_count": 9,
   "id": "b7bf4167-fdfd-4200-b6d8-f6e8669c07c8",
   "metadata": {
    "execution": {
     "iopub.execute_input": "2023-06-29T09:50:44.834668Z",
     "iopub.status.busy": "2023-06-29T09:50:44.834228Z",
     "iopub.status.idle": "2023-06-29T09:50:45.502927Z",
     "shell.execute_reply": "2023-06-29T09:50:45.502230Z"
    },
    "tags": []
   },
   "outputs": [
    {
     "data": {
      "text/plain": [
       "<Axes: xlabel='Date/Time'>"
      ]
     },
     "execution_count": 9,
     "metadata": {},
     "output_type": "execute_result"
    },
    {
     "data": {
      "image/png": "[encoded data removed]",
      "text/plain": [
       "<Figure size 1500x600 with 1 Axes>"
      ]
     },
     "metadata": {},
     "output_type": "display_data"
    }
   ],
   "source": [
    "weather_2012_final['Temp (C)'].plot(figsize=(15, 6))"
   ]
  },
  {
   "cell_type": "markdown",
   "id": "409c477e",
   "metadata": {},
   "source": [
    "## Create mock data"
   ]
  },
  {
   "cell_type": "markdown",
   "id": "2c4999d5",
   "metadata": {},
   "source": [
    "Instead, we upload our dataset per month as a starting point"
   ]
  },
  {
   "cell_type": "code",
   "execution_count": 10,
   "id": "4a0fe359",
   "metadata": {
    "execution": {
     "iopub.execute_input": "2023-06-29T09:50:45.506719Z",
     "iopub.status.busy": "2023-06-29T09:50:45.506455Z",
     "iopub.status.idle": "2023-06-29T09:50:45.511275Z",
     "shell.execute_reply": "2023-06-29T09:50:45.510575Z"
    },
    "tags": []
   },
   "outputs": [],
   "source": [
    "weather_types = set(weather_2012_final.Weather.to_list())"
   ]
  },
  {
   "cell_type": "code",
   "execution_count": 11,
   "id": "7db7b9af",
   "metadata": {
    "execution": {
     "iopub.execute_input": "2023-06-29T09:50:45.514243Z",
     "iopub.status.busy": "2023-06-29T09:50:45.513668Z",
     "iopub.status.idle": "2023-06-29T09:50:45.518572Z",
     "shell.execute_reply": "2023-06-29T09:50:45.517901Z"
    },
    "tags": []
   },
   "outputs": [],
   "source": [
    "def get_mock_date(i):\n",
    "    return str(parse('Jun 1 2010') + timedelta(days=i))\n",
    "\n",
    "def get_mock_row(i):\n",
    "    res = dict()\n",
    "    for k, function in mock_functions.items():\n",
    "        res[k] = function()\n",
    "    return res\n",
    "    "
   ]
  },
  {
   "cell_type": "code",
   "execution_count": 12,
   "id": "090f5a59",
   "metadata": {
    "execution": {
     "iopub.execute_input": "2023-06-29T09:50:45.521325Z",
     "iopub.status.busy": "2023-06-29T09:50:45.520883Z",
     "iopub.status.idle": "2023-06-29T09:50:45.526184Z",
     "shell.execute_reply": "2023-06-29T09:50:45.525504Z"
    },
    "tags": []
   },
   "outputs": [],
   "source": [
    "mock_functions = {\n",
    "    \"Temp (C)\": lambda: random.uniform(-10, 40),\n",
    "    \"Dew Point Temp (C)\": lambda: random.uniform(-10, 10),\n",
    "    \"Rel Hum (%)\": lambda: random.randint(50, 100),\n",
    "    \"Wind Spd (km/h)\": lambda: random.randint(1, 30),\n",
    "    'Visibility (km)': lambda: random.uniform(0.5, 40),\n",
    "    'Stn Press (kPa)': lambda: random.uniform(50, 100),\n",
    "    'Weather': lambda: random.choice(list(weather_types))\n",
    "}"
   ]
  },
  {
   "cell_type": "code",
   "execution_count": 13,
   "id": "7a7e70a6",
   "metadata": {
    "execution": {
     "iopub.execute_input": "2023-06-29T09:50:45.529156Z",
     "iopub.status.busy": "2023-06-29T09:50:45.528466Z",
     "iopub.status.idle": "2023-06-29T09:50:46.199603Z",
     "shell.execute_reply": "2023-06-29T09:50:46.198490Z"
    },
    "tags": []
   },
   "outputs": [],
   "source": [
    "mock = pd.DataFrame(index=[Timestamp(get_mock_date(i)) for i in range(len(weather_2012_final))],\n",
    "                    data=[get_mock_row(i) for i in range(len(weather_2012_final))],\n",
    "                    columns=weather_2012_final.columns)\n",
    "    \n"
   ]
  },
  {
   "cell_type": "markdown",
   "id": "d11fc4b8",
   "metadata": {},
   "source": [
    "Upload the data"
   ]
  },
  {
   "cell_type": "code",
   "execution_count": 14,
   "id": "e370b8b3",
   "metadata": {
    "execution": {
     "iopub.execute_input": "2023-06-29T09:50:46.203208Z",
     "iopub.status.busy": "2023-06-29T09:50:46.202817Z",
     "iopub.status.idle": "2023-06-29T09:50:46.509496Z",
     "shell.execute_reply": "2023-06-29T09:50:46.508789Z"
    },
    "tags": []
   },
   "outputs": [
    {
     "name": "stderr",
     "output_type": "stream",
     "text": [
      "\r",
      "  0%|          | 0/1 [00:00<?, ?it/s]"
     ]
    },
    {
     "name": "stderr",
     "output_type": "stream",
     "text": [
      "\r",
      "100%|██████████| 1/1 [00:00<00:00,  5.12it/s]"
     ]
    },
    {
     "name": "stderr",
     "output_type": "stream",
     "text": [
      "\r",
      "100%|██████████| 1/1 [00:00<00:00,  5.09it/s]"
     ]
    },
    {
     "name": "stderr",
     "output_type": "stream",
     "text": [
      "\n"
     ]
    },
    {
     "name": "stdout",
     "output_type": "stream",
     "text": [
      "Uploading: weather\n"
     ]
    },
    {
     "data": {
      "text/html": [
       "<div class=\"alert-success\" style=\"padding:5px;\"><strong>SyftSuccess</strong>: Dataset uploaded to 'pandas-test-domain-6'. To see the datasets uploaded by a client on this node, use command `[your_client].datasets`</div><br />"
      ],
      "text/plain": [
       "<class 'syft.service.response.SyftSuccess'>: Dataset uploaded to 'pandas-test-domain-6'. To see the datasets uploaded by a client on this node, use command `[your_client].datasets`"
      ]
     },
     "execution_count": 14,
     "metadata": {},
     "output_type": "execute_result"
    }
   ],
   "source": [
    "dataset = sy.Dataset(name=\"test\", asset_list=[sy.Asset(name=f\"weather\", data=weather_2012_final,\n",
    "                                                       mock=mock, mock_is_real=False)])\n",
    "root_domain_client.upload_dataset(dataset)\n"
   ]
  },
  {
   "cell_type": "code",
   "execution_count": 15,
   "id": "3eb6aef9",
   "metadata": {
    "execution": {
     "iopub.execute_input": "2023-06-29T09:50:46.512617Z",
     "iopub.status.busy": "2023-06-29T09:50:46.512129Z",
     "iopub.status.idle": "2023-06-29T09:50:46.527406Z",
     "shell.execute_reply": "2023-06-29T09:50:46.526719Z"
    },
    "tags": []
   },
   "outputs": [
    {
     "data": {
      "text/html": [
       "<div>\n",
       "<style scoped>\n",
       "    .dataframe tbody tr th:only-of-type {\n",
       "        vertical-align: middle;\n",
       "    }\n",
       "\n",
       "    .dataframe tbody tr th {\n",
       "        vertical-align: top;\n",
       "    }\n",
       "\n",
       "    .dataframe thead th {\n",
       "        text-align: right;\n",
       "    }\n",
       "</style>\n",
       "<table border=\"1\" class=\"dataframe\">\n",
       "  <thead>\n",
       "    <tr style=\"text-align: right;\">\n",
       "      <th></th>\n",
       "      <th>Temp (C)</th>\n",
       "      <th>Dew Point Temp (C)</th>\n",
       "      <th>Rel Hum (%)</th>\n",
       "      <th>Wind Spd (km/h)</th>\n",
       "      <th>Visibility (km)</th>\n",
       "      <th>Stn Press (kPa)</th>\n",
       "      <th>Weather</th>\n",
       "    </tr>\n",
       "    <tr>\n",
       "      <th>Date/Time</th>\n",
       "      <th></th>\n",
       "      <th></th>\n",
       "      <th></th>\n",
       "      <th></th>\n",
       "      <th></th>\n",
       "      <th></th>\n",
       "      <th></th>\n",
       "    </tr>\n",
       "  </thead>\n",
       "  <tbody>\n",
       "    <tr>\n",
       "      <th>2012-01-01 00:00:00</th>\n",
       "      <td>-1.8</td>\n",
       "      <td>-3.9</td>\n",
       "      <td>86</td>\n",
       "      <td>4</td>\n",
       "      <td>8.0</td>\n",
       "      <td>101.24</td>\n",
       "      <td>Fog</td>\n",
       "    </tr>\n",
       "    <tr>\n",
       "      <th>2012-01-01 01:00:00</th>\n",
       "      <td>-1.8</td>\n",
       "      <td>-3.7</td>\n",
       "      <td>87</td>\n",
       "      <td>4</td>\n",
       "      <td>8.0</td>\n",
       "      <td>101.24</td>\n",
       "      <td>Fog</td>\n",
       "    </tr>\n",
       "    <tr>\n",
       "      <th>2012-01-01 02:00:00</th>\n",
       "      <td>-1.8</td>\n",
       "      <td>-3.4</td>\n",
       "      <td>89</td>\n",
       "      <td>7</td>\n",
       "      <td>4.0</td>\n",
       "      <td>101.26</td>\n",
       "      <td>Freezing Drizzle,Fog</td>\n",
       "    </tr>\n",
       "    <tr>\n",
       "      <th>2012-01-01 03:00:00</th>\n",
       "      <td>-1.5</td>\n",
       "      <td>-3.2</td>\n",
       "      <td>88</td>\n",
       "      <td>6</td>\n",
       "      <td>4.0</td>\n",
       "      <td>101.27</td>\n",
       "      <td>Freezing Drizzle,Fog</td>\n",
       "    </tr>\n",
       "    <tr>\n",
       "      <th>2012-01-01 04:00:00</th>\n",
       "      <td>-1.5</td>\n",
       "      <td>-3.3</td>\n",
       "      <td>88</td>\n",
       "      <td>7</td>\n",
       "      <td>4.8</td>\n",
       "      <td>101.23</td>\n",
       "      <td>Fog</td>\n",
       "    </tr>\n",
       "  </tbody>\n",
       "</table>\n",
       "</div>"
      ],
      "text/plain": [
       "                     Temp (C)  Dew Point Temp (C)  Rel Hum (%)  \\\n",
       "Date/Time                                                        \n",
       "2012-01-01 00:00:00      -1.8                -3.9           86   \n",
       "2012-01-01 01:00:00      -1.8                -3.7           87   \n",
       "2012-01-01 02:00:00      -1.8                -3.4           89   \n",
       "2012-01-01 03:00:00      -1.5                -3.2           88   \n",
       "2012-01-01 04:00:00      -1.5                -3.3           88   \n",
       "\n",
       "                     Wind Spd (km/h)  Visibility (km)  Stn Press (kPa)  \\\n",
       "Date/Time                                                                \n",
       "2012-01-01 00:00:00                4              8.0           101.24   \n",
       "2012-01-01 01:00:00                4              8.0           101.24   \n",
       "2012-01-01 02:00:00                7              4.0           101.26   \n",
       "2012-01-01 03:00:00                6              4.0           101.27   \n",
       "2012-01-01 04:00:00                7              4.8           101.23   \n",
       "\n",
       "                                  Weather  \n",
       "Date/Time                                  \n",
       "2012-01-01 00:00:00                   Fog  \n",
       "2012-01-01 01:00:00                   Fog  \n",
       "2012-01-01 02:00:00  Freezing Drizzle,Fog  \n",
       "2012-01-01 03:00:00  Freezing Drizzle,Fog  \n",
       "2012-01-01 04:00:00                   Fog  "
      ]
     },
     "execution_count": 15,
     "metadata": {},
     "output_type": "execute_result"
    }
   ],
   "source": [
    "weather_2012_final.head()"
   ]
  },
  {
   "cell_type": "markdown",
   "id": "61a1069e",
   "metadata": {},
   "source": [
    "## Create user account"
   ]
  },
  {
   "cell_type": "code",
   "execution_count": 16,
   "id": "2c4b055a",
   "metadata": {
    "execution": {
     "iopub.execute_input": "2023-06-29T09:50:46.530512Z",
     "iopub.status.busy": "2023-06-29T09:50:46.530152Z",
     "iopub.status.idle": "2023-06-29T09:50:48.380824Z",
     "shell.execute_reply": "2023-06-29T09:50:48.379839Z"
    },
    "tags": []
   },
   "outputs": [
    {
     "name": "stdout",
     "output_type": "stream",
     "text": [
      "Logged into pandas-test-domain-6 as <jane@caltech.edu>\n"
     ]
    }
   ],
   "source": [
    "user = root_domain_client.register(name=\"Jane Doe\", email=\"jane@caltech.edu\",\n",
    "                            password=\"abc123\", institution=\"Caltech\", website=\"https://www.caltech.edu/\")\n",
    "# todo: give user data scientist role\n",
    "guest_domain_client = node.client\n",
    "guest_client = guest_domain_client.login(email=\"jane@caltech.edu\", password=\"abc123\")"
   ]
  },
  {
   "cell_type": "markdown",
   "id": "bb8c4ab2",
   "metadata": {},
   "source": [
    "# Data scientist: create syft function"
   ]
  },
  {
   "cell_type": "code",
   "execution_count": 17,
   "id": "e0f665a0",
   "metadata": {
    "execution": {
     "iopub.execute_input": "2023-06-29T09:50:48.384696Z",
     "iopub.status.busy": "2023-06-29T09:50:48.384004Z",
     "iopub.status.idle": "2023-06-29T09:50:48.389284Z",
     "shell.execute_reply": "2023-06-29T09:50:48.388612Z"
    },
    "tags": []
   },
   "outputs": [],
   "source": [
    "import numpy as np\n",
    "import pandas as pd"
   ]
  },
  {
   "cell_type": "markdown",
   "id": "c52d6d1c",
   "metadata": {},
   "source": [
    "## Summary\n",
    "By the end of this chapter, we're going to have downloaded all of Canada's weather data for 2012, and saved it to a CSV.\n",
    "\n",
    "We'll do this by downloading it one month at a time, and then combining all the months together."
   ]
  },
  {
   "cell_type": "markdown",
   "id": "8c63f823",
   "metadata": {},
   "source": [
    "## Get mocks"
   ]
  },
  {
   "cell_type": "code",
   "execution_count": 18,
   "id": "81c7f134",
   "metadata": {
    "execution": {
     "iopub.execute_input": "2023-06-29T09:50:48.391822Z",
     "iopub.status.busy": "2023-06-29T09:50:48.391472Z",
     "iopub.status.idle": "2023-06-29T09:50:48.442521Z",
     "shell.execute_reply": "2023-06-29T09:50:48.441502Z"
    },
    "tags": []
   },
   "outputs": [],
   "source": [
    "ds = guest_domain_client.datasets[0]"
   ]
  },
  {
   "cell_type": "code",
   "execution_count": 19,
   "id": "24cac2dc",
   "metadata": {
    "execution": {
     "iopub.execute_input": "2023-06-29T09:50:48.446635Z",
     "iopub.status.busy": "2023-06-29T09:50:48.446252Z",
     "iopub.status.idle": "2023-06-29T09:50:48.451490Z",
     "shell.execute_reply": "2023-06-29T09:50:48.450673Z"
    },
    "tags": []
   },
   "outputs": [],
   "source": [
    "asset = ds.assets[0]"
   ]
  },
  {
   "cell_type": "code",
   "execution_count": 20,
   "id": "82f805be",
   "metadata": {
    "execution": {
     "iopub.execute_input": "2023-06-29T09:50:48.454173Z",
     "iopub.status.busy": "2023-06-29T09:50:48.453810Z",
     "iopub.status.idle": "2023-06-29T09:50:48.506291Z",
     "shell.execute_reply": "2023-06-29T09:50:48.505621Z"
    },
    "tags": []
   },
   "outputs": [],
   "source": [
    "weather_2012 = asset.mock"
   ]
  },
  {
   "cell_type": "markdown",
   "id": "d9ed60db",
   "metadata": {},
   "source": [
    "## String Operations"
   ]
  },
  {
   "cell_type": "markdown",
   "id": "d6440d74",
   "metadata": {},
   "source": [
    "You'll see that the 'Weather' column has a text description of the weather that was going on each hour. We'll assume it's snowing if the text description contains \"Snow\".\n",
    "\n",
    "pandas provides vectorized string functions, to make it easy to operate on columns containing text. There are some great examples in the documentation."
   ]
  },
  {
   "cell_type": "code",
   "execution_count": 21,
   "id": "41be579d",
   "metadata": {
    "execution": {
     "iopub.execute_input": "2023-06-29T09:50:48.509738Z",
     "iopub.status.busy": "2023-06-29T09:50:48.509149Z",
     "iopub.status.idle": "2023-06-29T09:50:48.518146Z",
     "shell.execute_reply": "2023-06-29T09:50:48.517458Z"
    },
    "tags": []
   },
   "outputs": [],
   "source": [
    "weather_description = weather_2012['Weather']\n",
    "is_snowing = weather_description.str.contains('Snow')"
   ]
  },
  {
   "cell_type": "markdown",
   "id": "1313412c",
   "metadata": {},
   "source": [
    "This gives us a binary vector, which is a bit hard to look at, so we'll plot it.\n",
    "\n"
   ]
  },
  {
   "cell_type": "code",
   "execution_count": 22,
   "id": "5a27862f",
   "metadata": {
    "execution": {
     "iopub.execute_input": "2023-06-29T09:50:48.521104Z",
     "iopub.status.busy": "2023-06-29T09:50:48.520590Z",
     "iopub.status.idle": "2023-06-29T09:50:48.528727Z",
     "shell.execute_reply": "2023-06-29T09:50:48.527929Z"
    },
    "tags": []
   },
   "outputs": [
    {
     "data": {
      "text/plain": [
       "2010-06-01    False\n",
       "2010-06-02     True\n",
       "2010-06-03    False\n",
       "2010-06-04     True\n",
       "2010-06-05    False\n",
       "Name: Weather, dtype: bool"
      ]
     },
     "execution_count": 22,
     "metadata": {},
     "output_type": "execute_result"
    }
   ],
   "source": [
    "# Not super useful\n",
    "is_snowing[:5]"
   ]
  },
  {
   "cell_type": "code",
   "execution_count": 23,
   "id": "6f690e81",
   "metadata": {
    "execution": {
     "iopub.execute_input": "2023-06-29T09:50:48.531334Z",
     "iopub.status.busy": "2023-06-29T09:50:48.530961Z",
     "iopub.status.idle": "2023-06-29T09:50:49.357524Z",
     "shell.execute_reply": "2023-06-29T09:50:49.356555Z"
    },
    "tags": []
   },
   "outputs": [
    {
     "data": {
      "text/plain": [
       "<Axes: >"
      ]
     },
     "execution_count": 23,
     "metadata": {},
     "output_type": "execute_result"
    },
    {
     "data": {
      "image/png": "[encoded data removed]",
      "text/plain": [
       "<Figure size 1500x300 with 1 Axes>"
      ]
     },
     "metadata": {},
     "output_type": "display_data"
    }
   ],
   "source": [
    "# More useful!\n",
    "is_snowing=is_snowing.astype(float)\n",
    "is_snowing.plot()"
   ]
  },
  {
   "cell_type": "markdown",
   "id": "2d0e179c",
   "metadata": {},
   "source": [
    "## Use resampling to find the snowiest month"
   ]
  },
  {
   "cell_type": "markdown",
   "id": "0197aff2",
   "metadata": {},
   "source": [
    "If we wanted the median temperature each month, we could use the resample() method like this:"
   ]
  },
  {
   "cell_type": "code",
   "execution_count": 24,
   "id": "affc19ff",
   "metadata": {
    "execution": {
     "iopub.execute_input": "2023-06-29T09:50:49.361377Z",
     "iopub.status.busy": "2023-06-29T09:50:49.360684Z",
     "iopub.status.idle": "2023-06-29T09:50:49.377239Z",
     "shell.execute_reply": "2023-06-29T09:50:49.376593Z"
    },
    "tags": []
   },
   "outputs": [
    {
     "data": {
      "text/html": [
       "<div>\n",
       "<style scoped>\n",
       "    .dataframe tbody tr th:only-of-type {\n",
       "        vertical-align: middle;\n",
       "    }\n",
       "\n",
       "    .dataframe tbody tr th {\n",
       "        vertical-align: top;\n",
       "    }\n",
       "\n",
       "    .dataframe thead th {\n",
       "        text-align: right;\n",
       "    }\n",
       "</style>\n",
       "<table border=\"1\" class=\"dataframe\">\n",
       "  <thead>\n",
       "    <tr style=\"text-align: right;\">\n",
       "      <th></th>\n",
       "      <th>Temp (C)</th>\n",
       "      <th>Dew Point Temp (C)</th>\n",
       "      <th>Rel Hum (%)</th>\n",
       "      <th>Wind Spd (km/h)</th>\n",
       "      <th>Visibility (km)</th>\n",
       "      <th>Stn Press (kPa)</th>\n",
       "      <th>Weather</th>\n",
       "    </tr>\n",
       "  </thead>\n",
       "  <tbody>\n",
       "    <tr>\n",
       "      <th>2010-06-01</th>\n",
       "      <td>15.221185</td>\n",
       "      <td>-7.433316</td>\n",
       "      <td>91</td>\n",
       "      <td>6</td>\n",
       "      <td>38.791129</td>\n",
       "      <td>96.984032</td>\n",
       "      <td>Thunderstorms,Rain</td>\n",
       "    </tr>\n",
       "    <tr>\n",
       "      <th>2010-06-02</th>\n",
       "      <td>23.849900</td>\n",
       "      <td>8.156957</td>\n",
       "      <td>59</td>\n",
       "      <td>1</td>\n",
       "      <td>15.934509</td>\n",
       "      <td>97.593184</td>\n",
       "      <td>Moderate Snow</td>\n",
       "    </tr>\n",
       "    <tr>\n",
       "      <th>2010-06-03</th>\n",
       "      <td>1.697832</td>\n",
       "      <td>-8.388298</td>\n",
       "      <td>87</td>\n",
       "      <td>15</td>\n",
       "      <td>37.486805</td>\n",
       "      <td>51.452045</td>\n",
       "      <td>Thunderstorms</td>\n",
       "    </tr>\n",
       "    <tr>\n",
       "      <th>2010-06-04</th>\n",
       "      <td>-2.927046</td>\n",
       "      <td>-1.439246</td>\n",
       "      <td>72</td>\n",
       "      <td>28</td>\n",
       "      <td>7.928811</td>\n",
       "      <td>62.492165</td>\n",
       "      <td>Rain Showers,Snow Showers</td>\n",
       "    </tr>\n",
       "    <tr>\n",
       "      <th>2010-06-05</th>\n",
       "      <td>23.536630</td>\n",
       "      <td>4.174220</td>\n",
       "      <td>88</td>\n",
       "      <td>10</td>\n",
       "      <td>7.420188</td>\n",
       "      <td>96.232558</td>\n",
       "      <td>Cloudy</td>\n",
       "    </tr>\n",
       "    <tr>\n",
       "      <th>...</th>\n",
       "      <td>...</td>\n",
       "      <td>...</td>\n",
       "      <td>...</td>\n",
       "      <td>...</td>\n",
       "      <td>...</td>\n",
       "      <td>...</td>\n",
       "      <td>...</td>\n",
       "    </tr>\n",
       "    <tr>\n",
       "      <th>2034-06-14</th>\n",
       "      <td>24.384388</td>\n",
       "      <td>-6.406001</td>\n",
       "      <td>96</td>\n",
       "      <td>14</td>\n",
       "      <td>13.335184</td>\n",
       "      <td>71.609622</td>\n",
       "      <td>Drizzle,Fog</td>\n",
       "    </tr>\n",
       "    <tr>\n",
       "      <th>2034-06-15</th>\n",
       "      <td>4.353820</td>\n",
       "      <td>6.164121</td>\n",
       "      <td>50</td>\n",
       "      <td>22</td>\n",
       "      <td>12.183355</td>\n",
       "      <td>94.839727</td>\n",
       "      <td>Snow,Blowing Snow</td>\n",
       "    </tr>\n",
       "    <tr>\n",
       "      <th>2034-06-16</th>\n",
       "      <td>13.571221</td>\n",
       "      <td>9.558830</td>\n",
       "      <td>89</td>\n",
       "      <td>20</td>\n",
       "      <td>4.522365</td>\n",
       "      <td>67.633521</td>\n",
       "      <td>Thunderstorms,Rain,Fog</td>\n",
       "    </tr>\n",
       "    <tr>\n",
       "      <th>2034-06-17</th>\n",
       "      <td>35.353955</td>\n",
       "      <td>-5.731824</td>\n",
       "      <td>90</td>\n",
       "      <td>24</td>\n",
       "      <td>31.149442</td>\n",
       "      <td>99.685684</td>\n",
       "      <td>Rain Showers,Snow Showers</td>\n",
       "    </tr>\n",
       "    <tr>\n",
       "      <th>2034-06-18</th>\n",
       "      <td>4.094586</td>\n",
       "      <td>-1.412877</td>\n",
       "      <td>82</td>\n",
       "      <td>14</td>\n",
       "      <td>37.014974</td>\n",
       "      <td>98.756517</td>\n",
       "      <td>Drizzle,Snow,Fog</td>\n",
       "    </tr>\n",
       "  </tbody>\n",
       "</table>\n",
       "<p>8784 rows × 7 columns</p>\n",
       "</div>"
      ],
      "text/plain": [
       "             Temp (C)  Dew Point Temp (C)  Rel Hum (%)  Wind Spd (km/h)  \\\n",
       "2010-06-01  15.221185           -7.433316           91                6   \n",
       "2010-06-02  23.849900            8.156957           59                1   \n",
       "2010-06-03   1.697832           -8.388298           87               15   \n",
       "2010-06-04  -2.927046           -1.439246           72               28   \n",
       "2010-06-05  23.536630            4.174220           88               10   \n",
       "...               ...                 ...          ...              ...   \n",
       "2034-06-14  24.384388           -6.406001           96               14   \n",
       "2034-06-15   4.353820            6.164121           50               22   \n",
       "2034-06-16  13.571221            9.558830           89               20   \n",
       "2034-06-17  35.353955           -5.731824           90               24   \n",
       "2034-06-18   4.094586           -1.412877           82               14   \n",
       "\n",
       "            Visibility (km)  Stn Press (kPa)                    Weather  \n",
       "2010-06-01        38.791129        96.984032         Thunderstorms,Rain  \n",
       "2010-06-02        15.934509        97.593184              Moderate Snow  \n",
       "2010-06-03        37.486805        51.452045              Thunderstorms  \n",
       "2010-06-04         7.928811        62.492165  Rain Showers,Snow Showers  \n",
       "2010-06-05         7.420188        96.232558                     Cloudy  \n",
       "...                     ...              ...                        ...  \n",
       "2034-06-14        13.335184        71.609622                Drizzle,Fog  \n",
       "2034-06-15        12.183355        94.839727          Snow,Blowing Snow  \n",
       "2034-06-16         4.522365        67.633521     Thunderstorms,Rain,Fog  \n",
       "2034-06-17        31.149442        99.685684  Rain Showers,Snow Showers  \n",
       "2034-06-18        37.014974        98.756517           Drizzle,Snow,Fog  \n",
       "\n",
       "[8784 rows x 7 columns]"
      ]
     },
     "execution_count": 24,
     "metadata": {},
     "output_type": "execute_result"
    }
   ],
   "source": [
    "weather_2012"
   ]
  },
  {
   "cell_type": "code",
   "execution_count": 25,
   "id": "ee8c81b0",
   "metadata": {
    "execution": {
     "iopub.execute_input": "2023-06-29T09:50:49.380045Z",
     "iopub.status.busy": "2023-06-29T09:50:49.379686Z",
     "iopub.status.idle": "2023-06-29T09:50:52.012834Z",
     "shell.execute_reply": "2023-06-29T09:50:52.011819Z"
    },
    "tags": []
   },
   "outputs": [
    {
     "data": {
      "text/plain": [
       "<Axes: >"
      ]
     },
     "execution_count": 25,
     "metadata": {},
     "output_type": "execute_result"
    },
    {
     "data": {
      "image/png": "[encoded data removed]",
      "text/plain": [
       "<Figure size 1500x300 with 1 Axes>"
      ]
     },
     "metadata": {},
     "output_type": "display_data"
    }
   ],
   "source": [
    "weather_2012['Temp (C)'].resample('M').apply(np.median).plot(kind='bar')"
   ]
  },
  {
   "cell_type": "markdown",
   "id": "d06d0a85",
   "metadata": {},
   "source": [
    "Unsurprisingly, July and August are the warmest.\n",
    "\n",
    "So we can think of snowiness as being a bunch of 1s and 0s instead of Trues and Falses:"
   ]
  },
  {
   "cell_type": "code",
   "execution_count": 26,
   "id": "6e218b44",
   "metadata": {
    "execution": {
     "iopub.execute_input": "2023-06-29T09:50:52.016417Z",
     "iopub.status.busy": "2023-06-29T09:50:52.016012Z",
     "iopub.status.idle": "2023-06-29T09:50:52.023256Z",
     "shell.execute_reply": "2023-06-29T09:50:52.022468Z"
    },
    "tags": []
   },
   "outputs": [
    {
     "data": {
      "text/plain": [
       "2010-06-01    0.0\n",
       "2010-06-02    1.0\n",
       "2010-06-03    0.0\n",
       "2010-06-04    1.0\n",
       "2010-06-05    0.0\n",
       "2010-06-06    1.0\n",
       "2010-06-07    0.0\n",
       "2010-06-08    0.0\n",
       "2010-06-09    0.0\n",
       "2010-06-10    1.0\n",
       "Name: Weather, dtype: float64"
      ]
     },
     "execution_count": 26,
     "metadata": {},
     "output_type": "execute_result"
    }
   ],
   "source": [
    "is_snowing.astype(float)[:10]"
   ]
  },
  {
   "cell_type": "markdown",
   "id": "d9622f05",
   "metadata": {},
   "source": [
    "and then use resample to find the percentage of time it was snowing each month"
   ]
  },
  {
   "cell_type": "code",
   "execution_count": 27,
   "id": "cdf04a2c",
   "metadata": {
    "execution": {
     "iopub.execute_input": "2023-06-29T09:50:52.026491Z",
     "iopub.status.busy": "2023-06-29T09:50:52.026127Z",
     "iopub.status.idle": "2023-06-29T09:50:52.041050Z",
     "shell.execute_reply": "2023-06-29T09:50:52.040201Z"
    },
    "tags": []
   },
   "outputs": [
    {
     "data": {
      "text/plain": [
       "2010-06-30    0.500000\n",
       "2010-07-31    0.419355\n",
       "2010-08-31    0.483871\n",
       "2010-09-30    0.500000\n",
       "2010-10-31    0.516129\n",
       "                ...   \n",
       "2034-02-28    0.357143\n",
       "2034-03-31    0.387097\n",
       "2034-04-30    0.300000\n",
       "2034-05-31    0.354839\n",
       "2034-06-30    0.333333\n",
       "Freq: M, Name: Weather, Length: 289, dtype: float64"
      ]
     },
     "execution_count": 27,
     "metadata": {},
     "output_type": "execute_result"
    }
   ],
   "source": [
    "is_snowing.astype(float).resample('M').apply(np.mean)"
   ]
  },
  {
   "cell_type": "code",
   "execution_count": 28,
   "id": "6cea5641",
   "metadata": {
    "execution": {
     "iopub.execute_input": "2023-06-29T09:50:52.044365Z",
     "iopub.status.busy": "2023-06-29T09:50:52.043966Z",
     "iopub.status.idle": "2023-06-29T09:50:54.565358Z",
     "shell.execute_reply": "2023-06-29T09:50:54.564614Z"
    },
    "tags": []
   },
   "outputs": [
    {
     "data": {
      "text/plain": [
       "<Axes: >"
      ]
     },
     "execution_count": 28,
     "metadata": {},
     "output_type": "execute_result"
    },
    {
     "data": {
      "image/png": "[encoded data removed]",
      "text/plain": [
       "<Figure size 1500x300 with 1 Axes>"
      ]
     },
     "metadata": {},
     "output_type": "display_data"
    }
   ],
   "source": [
    "is_snowing.astype(float).resample('M').apply(np.mean).plot(kind='bar')"
   ]
  },
  {
   "cell_type": "markdown",
   "id": "5c3cab97",
   "metadata": {},
   "source": [
    "So now we know! In 2012, December was the snowiest month. Also, this graph suggests something that I feel -- it starts snowing pretty abruptly in November, and then tapers off slowly and takes a long time to stop, with the last snow usually being in April or May.\n"
   ]
  },
  {
   "cell_type": "markdown",
   "id": "186735a4",
   "metadata": {},
   "source": [
    "## Plotting temperature and snowiness stats together"
   ]
  },
  {
   "cell_type": "markdown",
   "id": "5d00696d",
   "metadata": {},
   "source": [
    "We can also combine these two statistics (temperature, and snowiness) into one dataframe and plot them together:\n",
    "\n"
   ]
  },
  {
   "cell_type": "code",
   "execution_count": 29,
   "id": "e122cc2a",
   "metadata": {
    "execution": {
     "iopub.execute_input": "2023-06-29T09:50:54.569421Z",
     "iopub.status.busy": "2023-06-29T09:50:54.569173Z",
     "iopub.status.idle": "2023-06-29T09:50:54.589407Z",
     "shell.execute_reply": "2023-06-29T09:50:54.588746Z"
    },
    "tags": []
   },
   "outputs": [],
   "source": [
    "temperature = weather_2012['Temp (C)'].resample('M').apply(np.median)\n",
    "is_snowing = weather_2012['Weather'].str.contains('Snow')\n",
    "snowiness = is_snowing.astype(float).resample('M').apply(np.mean)\n",
    "\n",
    "# Name the columns\n",
    "temperature.name = \"Temperature\"\n",
    "snowiness.name = \"Snowiness\""
   ]
  },
  {
   "cell_type": "markdown",
   "id": "37c17710",
   "metadata": {},
   "source": [
    "We'll use `concat` again to combine the two statistics into a single dataframe."
   ]
  },
  {
   "cell_type": "code",
   "execution_count": 30,
   "id": "31934d88",
   "metadata": {
    "execution": {
     "iopub.execute_input": "2023-06-29T09:50:54.592116Z",
     "iopub.status.busy": "2023-06-29T09:50:54.591749Z",
     "iopub.status.idle": "2023-06-29T09:50:54.596823Z",
     "shell.execute_reply": "2023-06-29T09:50:54.596152Z"
    },
    "tags": []
   },
   "outputs": [],
   "source": [
    "stats = pd.concat([temperature, snowiness], axis=1)"
   ]
  },
  {
   "cell_type": "code",
   "execution_count": 31,
   "id": "d768a3e7",
   "metadata": {
    "execution": {
     "iopub.execute_input": "2023-06-29T09:50:54.599534Z",
     "iopub.status.busy": "2023-06-29T09:50:54.599160Z",
     "iopub.status.idle": "2023-06-29T09:50:54.603230Z",
     "shell.execute_reply": "2023-06-29T09:50:54.602555Z"
    },
    "tags": []
   },
   "outputs": [],
   "source": [
    "stats.columns = [\"temperature\", \"snowiness\"]"
   ]
  },
  {
   "cell_type": "markdown",
   "id": "3ad300a3",
   "metadata": {},
   "source": [
    "## Putting it together"
   ]
  },
  {
   "cell_type": "markdown",
   "id": "bdc4b7c7",
   "metadata": {},
   "source": [
    "Now we want to request the full code execution.\n",
    "\n",
    "Let's put all that together, to prove how easy it is. 6 lines of magical pandas!\n",
    "\n",
    "If you want to play around, try changing sum to max, numpy.median, or any other function you like."
   ]
  },
  {
   "cell_type": "code",
   "execution_count": 32,
   "id": "ac206e34",
   "metadata": {
    "execution": {
     "iopub.execute_input": "2023-06-29T09:50:54.605745Z",
     "iopub.status.busy": "2023-06-29T09:50:54.605396Z",
     "iopub.status.idle": "2023-06-29T09:50:54.631043Z",
     "shell.execute_reply": "2023-06-29T09:50:54.630449Z"
    },
    "tags": []
   },
   "outputs": [
    {
     "name": "stdout",
     "output_type": "stream",
     "text": [
      "Syft function 'snow_and_temperature' successfully created. To add a code request, please create a project using `project = syft.Project(...)`, then use command `project.create_code_request`.\n"
     ]
    }
   ],
   "source": [
    "@sy.syft_function(input_policy=sy.ExactMatch(df=ds.assets[0]),\n",
    "                  output_policy=sy.SingleExecutionExactOutput())\n",
    "def snow_and_temperature(df):\n",
    "    import pandas as pd\n",
    "    import numpy as np\n",
    "    weather_2012 = df\n",
    "    weather_description = weather_2012['Weather']\n",
    "    is_snowing = weather_description.str.contains('Snow')\n",
    "    \n",
    "    median_temperature = weather_2012['Temp (C)'].resample('M').apply(np.median)\n",
    "    snow_frequency = is_snowing.astype(float).resample('M').apply(np.mean)\n",
    "    \n",
    "    temperature = weather_2012['Temp (C)'].resample('M').apply(np.median)\n",
    "    is_snowing = weather_2012['Weather'].str.contains('Snow')\n",
    "    snowiness = is_snowing.astype(float).resample('M').apply(np.mean)\n",
    "\n",
    "    # Name the columns\n",
    "    temperature.name = \"Temperature\"\n",
    "    snowiness.name = \"Snowiness\"\n",
    "    stats = pd.concat([temperature, snowiness], axis=1)\n",
    "    stats.columns = [\"temperature\", \"snowiness\"]\n",
    "    \n",
    "    return is_snowing.astype(float), median_temperature, snow_frequency, stats"
   ]
  },
  {
   "cell_type": "markdown",
   "id": "e17c5a93",
   "metadata": {},
   "source": [
    "Create and submit project"
   ]
  },
  {
   "cell_type": "code",
   "execution_count": 33,
   "id": "8a48f507-6bb8-470d-8209-614f1340e094",
   "metadata": {
    "execution": {
     "iopub.execute_input": "2023-06-29T09:50:54.636076Z",
     "iopub.status.busy": "2023-06-29T09:50:54.635446Z",
     "iopub.status.idle": "2023-06-29T09:50:54.645653Z",
     "shell.execute_reply": "2023-06-29T09:50:54.645074Z"
    },
    "tags": []
   },
   "outputs": [
    {
     "data": {
      "text/html": [
       "\n",
       "            <style>\n",
       "            .syft-project-create {color: #464158;}\n",
       "            </style>\n",
       "            <div class='syft-project-create'><h3>Pandas Chapter 6</h3><p>Hi, I would like to get some insights about snow and temperature for 2012</p><p><strong>Created by: </strong>jane@caltech.edu</p></div>"
      ],
      "text/markdown": [
       "```python\n",
       "class ProjectSubmit:\n",
       "  id: str = a814326b783645d6b379eb8ee3aa986a\n",
       "  name: str = \"Pandas Chapter 6\"\n",
       "  description: str = \"Hi, I would like to get some insights about snow and temperature for 2012\"\n",
       "  created_by: str = \"jane@caltech.edu\"\n",
       "\n",
       "```"
      ],
      "text/plain": [
       "syft.service.project.project.ProjectSubmit"
      ]
     },
     "execution_count": 33,
     "metadata": {},
     "output_type": "execute_result"
    }
   ],
   "source": [
    "new_project = sy.Project(\n",
    "    name=\"Pandas Chapter 6\",\n",
    "    description=\"Hi, I would like to get some insights about snow and temperature for 2012\",\n",
    "    members=[guest_domain_client],\n",
    ")\n",
    "new_project"
   ]
  },
  {
   "cell_type": "code",
   "execution_count": 34,
   "id": "d629ed03-20ce-4a6c-8805-81ca335e7430",
   "metadata": {
    "execution": {
     "iopub.execute_input": "2023-06-29T09:50:54.648604Z",
     "iopub.status.busy": "2023-06-29T09:50:54.648149Z",
     "iopub.status.idle": "2023-06-29T09:50:55.858489Z",
     "shell.execute_reply": "2023-06-29T09:50:55.857681Z"
    },
    "tags": []
   },
   "outputs": [
    {
     "data": {
      "text/html": [
       "\n",
       "            <style>\n",
       "            .syft-project {color: #464158;}\n",
       "            </style>\n",
       "            <div class='syft-project'><h3>Pandas Chapter 6</h3><p>Hi, I would like to get some insights about snow and temperature for 2012</p><p><strong>Created by: </strong>jane@caltech.edu</p>[]<p>To see a list of projects, use command `&lt;your_client&gt;.projects`</p></div>"
      ],
      "text/markdown": [
       "```python\n",
       "class Project:\n",
       "  id: str = a814326b783645d6b379eb8ee3aa986a\n",
       "  name: str = \"Pandas Chapter 6\"\n",
       "  description: str = \"Hi, I would like to get some insights about snow and temperature for 2012\"\n",
       "  created_by: str = \"jane@caltech.edu\"\n",
       "\n",
       "```"
      ],
      "text/plain": [
       "syft.service.project.project.Project"
      ]
     },
     "execution_count": 34,
     "metadata": {},
     "output_type": "execute_result"
    }
   ],
   "source": [
    "project = new_project.start()\n",
    "assert isinstance(project, sy.service.project.project.Project)\n",
    "project"
   ]
  },
  {
   "cell_type": "code",
   "execution_count": 35,
   "id": "c736199f-6e95-4ee8-92c1-bd77e9bebff2",
   "metadata": {
    "execution": {
     "iopub.execute_input": "2023-06-29T09:50:55.861767Z",
     "iopub.status.busy": "2023-06-29T09:50:55.861280Z",
     "iopub.status.idle": "2023-06-29T09:50:57.094513Z",
     "shell.execute_reply": "2023-06-29T09:50:57.093756Z"
    },
    "tags": []
   },
   "outputs": [
    {
     "data": {
      "text/html": [
       "<div class=\"alert-success\" style=\"padding:5px;\"><strong>SyftSuccess</strong>: Code request for 'snow_and_temperature' successfully added to 'Pandas Chapter 6' Project. To see code requests by a client, run `[your_client].code`</div><br />"
      ],
      "text/plain": [
       "<class 'syft.service.response.SyftSuccess'>: Code request for 'snow_and_temperature' successfully added to 'Pandas Chapter 6' Project. To see code requests by a client, run `[your_client].code`"
      ]
     },
     "execution_count": 35,
     "metadata": {},
     "output_type": "execute_result"
    }
   ],
   "source": [
    "project.create_code_request(snow_and_temperature, guest_domain_client)"
   ]
  },
  {
   "cell_type": "code",
   "execution_count": 36,
   "id": "81bec804-4a16-4125-8fc5-baed058f0aa5",
   "metadata": {
    "execution": {
     "iopub.execute_input": "2023-06-29T09:50:57.098017Z",
     "iopub.status.busy": "2023-06-29T09:50:57.097578Z",
     "iopub.status.idle": "2023-06-29T09:50:57.118402Z",
     "shell.execute_reply": "2023-06-29T09:50:57.117557Z"
    },
    "tags": []
   },
   "outputs": [],
   "source": [
    "assert len(guest_domain_client.code.get_all())==1"
   ]
  },
  {
   "cell_type": "code",
   "execution_count": 37,
   "id": "6e984a39-6021-4489-a0fb-5b97934bf96b",
   "metadata": {
    "execution": {
     "iopub.execute_input": "2023-06-29T09:50:57.122179Z",
     "iopub.status.busy": "2023-06-29T09:50:57.121721Z",
     "iopub.status.idle": "2023-06-29T09:50:57.126929Z",
     "shell.execute_reply": "2023-06-29T09:50:57.126175Z"
    },
    "tags": []
   },
   "outputs": [],
   "source": [
    "assert len(project.events) == 1"
   ]
  },
  {
   "cell_type": "code",
   "execution_count": 38,
   "id": "5e5fae20-a6ab-4882-9311-78ed59d8475b",
   "metadata": {
    "execution": {
     "iopub.execute_input": "2023-06-29T09:50:57.129712Z",
     "iopub.status.busy": "2023-06-29T09:50:57.129277Z",
     "iopub.status.idle": "2023-06-29T09:50:57.133456Z",
     "shell.execute_reply": "2023-06-29T09:50:57.132768Z"
    },
    "tags": []
   },
   "outputs": [],
   "source": [
    "assert isinstance(project.events[0], sy.service.project.project.ProjectRequest)"
   ]
  },
  {
   "cell_type": "markdown",
   "id": "e326cffc",
   "metadata": {},
   "source": [
    "# Data owner: execute syft_function"
   ]
  },
  {
   "cell_type": "code",
   "execution_count": 39,
   "id": "16908022",
   "metadata": {
    "execution": {
     "iopub.execute_input": "2023-06-29T09:50:57.136042Z",
     "iopub.status.busy": "2023-06-29T09:50:57.135683Z",
     "iopub.status.idle": "2023-06-29T09:50:57.139400Z",
     "shell.execute_reply": "2023-06-29T09:50:57.138722Z"
    },
    "tags": []
   },
   "outputs": [],
   "source": [
    "from syft import MessageStatus"
   ]
  },
  {
   "cell_type": "code",
   "execution_count": 40,
   "id": "28f77679",
   "metadata": {
    "execution": {
     "iopub.execute_input": "2023-06-29T09:50:57.142098Z",
     "iopub.status.busy": "2023-06-29T09:50:57.141669Z",
     "iopub.status.idle": "2023-06-29T09:50:58.822635Z",
     "shell.execute_reply": "2023-06-29T09:50:58.821726Z"
    },
    "tags": []
   },
   "outputs": [
    {
     "name": "stdout",
     "output_type": "stream",
     "text": [
      "Logged into pandas-test-domain-6 as <info@openmined.org>\n"
     ]
    }
   ],
   "source": [
    "domain_client = node.login(email=\"info@openmined.org\", password=\"changethis\")"
   ]
  },
  {
   "cell_type": "markdown",
   "id": "5f4bded4",
   "metadata": {},
   "source": [
    "# Get messages"
   ]
  },
  {
   "cell_type": "code",
   "execution_count": 41,
   "id": "6ebec184",
   "metadata": {
    "execution": {
     "iopub.execute_input": "2023-06-29T09:50:58.825933Z",
     "iopub.status.busy": "2023-06-29T09:50:58.825685Z",
     "iopub.status.idle": "2023-06-29T09:50:58.860503Z",
     "shell.execute_reply": "2023-06-29T09:50:58.859810Z"
    },
    "tags": []
   },
   "outputs": [],
   "source": [
    "messages = domain_client.api.services.messages.get_all_unread()"
   ]
  },
  {
   "cell_type": "code",
   "execution_count": 42,
   "id": "34a83d8f",
   "metadata": {
    "execution": {
     "iopub.execute_input": "2023-06-29T09:50:58.863730Z",
     "iopub.status.busy": "2023-06-29T09:50:58.863271Z",
     "iopub.status.idle": "2023-06-29T09:50:58.873325Z",
     "shell.execute_reply": "2023-06-29T09:50:58.872665Z"
    },
    "tags": []
   },
   "outputs": [
    {
     "data": {
      "text/html": [
       "\n",
       "<style>\n",
       "  .header-1 {\n",
       "        font-style: normal;\n",
       "        font-weight: 600;\n",
       "        font-size: 2.0736em;\n",
       "        line-height: 100%;\n",
       "        leading-trim: both;\n",
       "        text-edge: cap;\n",
       "        color: #17161D;\n",
       "    }\n",
       "\n",
       "  .header-2 {\n",
       "        font-style: normal;\n",
       "        font-weight: 600;\n",
       "        font-size: 1.728em;\n",
       "        line-height: 100%;\n",
       "        leading-trim: both;\n",
       "        text-edge: cap;\n",
       "        color: #17161D;\n",
       "    }\n",
       "\n",
       "  .header-3 {\n",
       "        font-style: normal;\n",
       "        font-weight: 600;\n",
       "        font-size:  1.44em;\n",
       "        line-height: 100%;\n",
       "        leading-trim: both;\n",
       "        text-edge: cap;\n",
       "        color: #17161D;\n",
       "    }\n",
       "\n",
       "  .header-4 {\n",
       "        font-style: normal;\n",
       "        font-weight: 600;\n",
       "        font-size: 1.2em;\n",
       "        line-height: 100%;\n",
       "        leading-trim: both;\n",
       "        text-edge: cap;\n",
       "        color: #17161D;\n",
       "    }\n",
       "\n",
       "    .paragraph {\n",
       "        font-style: normal;\n",
       "        font-weight: 400;\n",
       "        font-size: 14px;\n",
       "        line-height: 100%;\n",
       "        leading-trim: both;\n",
       "        text-edge: cap;\n",
       "        color: #2E2B3B;\n",
       "    }\n",
       "\n",
       "    .paragraph-sm {\n",
       "        font-family: 'Roboto';\n",
       "        font-style: normal;\n",
       "        font-weight: 400;\n",
       "        font-size: 11.62px;\n",
       "        line-height: 100%;\n",
       "        leading-trim: both;\n",
       "        text-edge: cap;\n",
       "        color: #2E2B3B;\n",
       "    }\n",
       "    .code-text {\n",
       "        font-family: 'Consolas';\n",
       "        font-style: normal;\n",
       "        font-weight: 400;\n",
       "        font-size: 13px;\n",
       "        line-height: 130%;\n",
       "        leading-trim: both;\n",
       "        text-edge: cap;\n",
       "        color: #2E2B3B;\n",
       "    }\n",
       "\n",
       "    .numbering-entry { display: none }\n",
       "\n",
       "    /* Tooltip container */\n",
       "    .tooltip {\n",
       "        position: relative;\n",
       "        display: inline-block;\n",
       "        border-bottom: 1px dotted black; /* If you want dots under the hoverable text */\n",
       "    }\n",
       "\n",
       "    /* Tooltip text */\n",
       "    .tooltip .tooltiptext {\n",
       "        visibility: hidden;\n",
       "        width: 120px;\n",
       "        background-color: black;\n",
       "        color: #fff;\n",
       "        text-align: center;\n",
       "        padding: 5px 0;\n",
       "        border-radius: 6px;\n",
       "\n",
       "        /* Position the tooltip text - see examples below! */\n",
       "        position: absolute;\n",
       "        z-index: 1;\n",
       "    }\n",
       "\n",
       "    .repr-cell {\n",
       "      padding-top: 20px;\n",
       "    }\n",
       "\n",
       "    .text-bold {\n",
       "        font-weight: bold;\n",
       "    }\n",
       "\n",
       "    .pr-8 {\n",
       "        padding-right: 8px;\n",
       "    }\n",
       "    .pt-8 {\n",
       "        padding-top: 8px;\n",
       "    }\n",
       "    .pl-8 {\n",
       "        padding-left: 8px;\n",
       "    }\n",
       "    .pb-8 {\n",
       "        padding-bottom: 8px;\n",
       "    }\n",
       "\n",
       "    .py-25{\n",
       "        padding-top: 25px;\n",
       "        padding-bottom: 25px;\n",
       "    }\n",
       "\n",
       "    .flex {\n",
       "        display: flex;\n",
       "    }\n",
       "\n",
       "    .gap-10 {\n",
       "        gap: 10px;\n",
       "    }\n",
       "    .items-center{\n",
       "        align-items: center;\n",
       "    }\n",
       "\n",
       "    .search-input{\n",
       "        display: flex;\n",
       "        flex-direction: row;\n",
       "        align-items: center;\n",
       "        padding: 8px 12px;\n",
       "        width: 343px;\n",
       "        height: 24px;\n",
       "        /* Lt On Surface/Low */\n",
       "        background: #F1F0F4;\n",
       "        border-radius: 30px;\n",
       "\n",
       "        /* Lt On Surface/Highest */\n",
       "        color: #B4B0BF;\n",
       "        border:none;\n",
       "        /* Inside auto layout */\n",
       "        flex: none;\n",
       "        order: 0;\n",
       "        flex-grow: 0;\n",
       "    }\n",
       "    .search-input:focus {\n",
       "        outline: none;\n",
       "    }\n",
       "\n",
       "    .search-button{\n",
       "        /* Search */\n",
       "        leading-trim: both;\n",
       "        text-edge: cap;\n",
       "        display: flex;\n",
       "        align-items: center;\n",
       "        text-align: center;\n",
       "\n",
       "        /* Primary/On Light */\n",
       "        color: #464A91;\n",
       "\n",
       "        border-radius: 30px;\n",
       "        border-color: #464A91;\n",
       "        /* Inside auto layout */\n",
       "        flex: none;\n",
       "        order: 1;\n",
       "        flex-grow: 0;\n",
       "    }\n",
       "\n",
       "    .grid-tablecd5a1339e2154d30930c1251f2e51045 {\n",
       "        display:grid;\n",
       "        grid-template-columns: 1fr repeat(20, 1fr);\n",
       "        grid-template-rows: repeat(2, 1fr);\n",
       "        overflow-x: auto;\n",
       "    }\n",
       "\n",
       "    .grid-std-cells {\n",
       "        grid-column: span 4;\n",
       "\n",
       "    }\n",
       "    .grid-index-cells {\n",
       "        grid-column: span 1;\n",
       "        background: #ECEBEF;\n",
       "        /* tmp fix to make left col stand out (fix with font-family) */\n",
       "        font-weight: 600;\n",
       "    }\n",
       "\n",
       "    .grid-header {\n",
       "        /* Auto layout */\n",
       "        display: flex;\n",
       "        flex-direction: column;\n",
       "        align-items: flex-start;\n",
       "        padding: 6px 4px;\n",
       "\n",
       "        /* Lt On Surface/Surface */\n",
       "        background: #ECEBEF;\n",
       "        /* Lt On Surface/High */\n",
       "        border: 1px solid #CFCDD6;\n",
       "        color: #2E2B3B;\n",
       "        /* tmp fix to make header stand out (fix with font-family) */\n",
       "        font-weight: 600;\n",
       "    }\n",
       "\n",
       "    .grid-row {\n",
       "        color: #5E5A72;\n",
       "        display: flex;\n",
       "        flex-direction: column;\n",
       "        align-items: flex-start;\n",
       "        padding: 6px 4px;\n",
       "        overflow: hidden;\n",
       "        border: 1px solid #CFCDD6;\n",
       "    }\n",
       "\n",
       "    .badge {\n",
       "        code-text;\n",
       "        border-radius: 30px;\n",
       "    }\n",
       "\n",
       "    .badge-blue {\n",
       "        badge;\n",
       "        background-color: #C2DEF0;\n",
       "        color: #1F567A;\n",
       "    }\n",
       "\n",
       "    .badge-purple {\n",
       "        badge;\n",
       "        background-color: #C9CFE8;\n",
       "        color: #373B7B;\n",
       "    }\n",
       "\n",
       "    .badge-green {\n",
       "        badge;\n",
       "\n",
       "        /* Success/Container */\n",
       "        background-color: #D5F1D5;\n",
       "        color: #256B24;\n",
       "    }\n",
       "\n",
       "    .badge-red {\n",
       "        badge;\n",
       "        background-color: #F2D9DE;\n",
       "        color: #9B2737;\n",
       "    }\n",
       "\n",
       "    .badge-gray {\n",
       "        badge;\n",
       "        background-color: #ECEBEF;\n",
       "        color: #2E2B3B;\n",
       "    }\n",
       "    .paginationContainer{\n",
       "        width: 100%;\n",
       "        height: 30px;\n",
       "        display: flex;\n",
       "        justify-content: center;\n",
       "        gap: 8px;\n",
       "        padding: 5px;\n",
       "    }\n",
       "\n",
       "    .page{\n",
       "        color: black;\n",
       "        font-weight: bold;\n",
       "    }\n",
       "    .page:hover {\n",
       "      color: #38bdf8;\n",
       "      cursor: pointer;\n",
       "    }\n",
       "    .clipboard:hover{\n",
       "        cursor: pointer;\n",
       "    }\n",
       "\n",
       "    .search-field {\n",
       "        display: flex;\n",
       "        align-items: center;\n",
       "        background: #F1F0F4;\n",
       "        border-radius: 30px;\n",
       "    }\n",
       "\n",
       "    .syft-dropdown {\n",
       "        margin: 5px;\n",
       "        margin-left: 5px;\n",
       "        position: relative;\n",
       "        display: inline-block;\n",
       "        text-align: center;\n",
       "        background-color: #d1d5db;\n",
       "        min-width: 100px;\n",
       "        padding: 2px;\n",
       "        border-radius: 30px;\n",
       "    }\n",
       "\n",
       "    .syft-dropdown:hover {\n",
       "        cursor: pointer;\n",
       "    }\n",
       "    .syft-dropdown-content {\n",
       "        margin-top:26px;\n",
       "        display: none;\n",
       "        position: absolute;\n",
       "        background-color: #f9f9f9;\n",
       "        min-width: 100px;\n",
       "        box-shadow: 0px 8px 16px 0px rgba(0,0,0,0.2);\n",
       "        padding: 12px 6px;\n",
       "        z-index: 1;\n",
       "    }\n",
       "    .dd-options {\n",
       "        padding-top: 4px;\n",
       "    }\n",
       "    .dd-options:first-of-type {\n",
       "        padding-top: 0px;\n",
       "    }\n",
       "\n",
       "    .dd-options:hover {\n",
       "        cursor: pointer;\n",
       "        background: #d1d5db;\n",
       "    }\n",
       "    .arrow {\n",
       "        border: solid black;\n",
       "        border-width: 0 3px 3px 0;\n",
       "        display: inline-block;\n",
       "        padding: 3px;\n",
       "    }\n",
       "    .down {\n",
       "        transform: rotate(45deg);\n",
       "        -webkit-transform: rotate(45deg);\n",
       "    }\n",
       "</style>\n",
       "\n",
       "\n",
       "    <div style='margin-top:15px;'>\n",
       "        <div class='flex gap-10' style='align-items: center;'>\n",
       "            <div><svg width=\"32\" height=\"32\" viewBox=\"0 0 32 32\" fill=\"none\" xmlns=\"http://www.w3.org/2000/svg\"> <path d=\"M28 6H4C3.73478 6 3.48043 6.10536 3.29289 6.29289C3.10536 6.48043 3 6.73478 3 7V24C3 24.5304 3.21071 25.0391 3.58579 25.4142C3.96086 25.7893 4.46957 26 5 26H27C27.5304 26 28.0391 25.7893 28.4142 25.4142C28.7893 25.0391 29 24.5304 29 24V7C29 6.73478 28.8946 6.48043 28.7071 6.29289C28.5196 6.10536 28.2652 6 28 6ZM5 14H10V18H5V14ZM12 14H27V18H12V14ZM27 8V12H5V8H27ZM5 20H10V24H5V20ZM27 24H12V20H27V24Z\" fill=\"#343330\"/></svg></div>\n",
       "            <div><p class='header-3'>Message List</p></div>\n",
       "        </div>\n",
       "\n",
       "            <div style=\"padding-top: 16px; display:flex;justify-content: space-between; align-items: center;\">\n",
       "                <div class='pt-25 gap-10' style=\"display:flex;\">\n",
       "                    <div class=\"search-field\">\n",
       "                        <div id='search-menucd5a1339e2154d30930c1251f2e51045' class=\"syft-dropdown\" onclick=\"{\n",
       "                            let doc = document.getElementById('search-dropdown-contentcd5a1339e2154d30930c1251f2e51045')\n",
       "                            if (doc.style.display === 'block'){\n",
       "                                doc.style.display = 'none'\n",
       "                            } else {\n",
       "                                doc.style.display = 'block'\n",
       "                            }\n",
       "                            }\">\n",
       "                            <div id='search-dropdown-contentcd5a1339e2154d30930c1251f2e51045' class='syft-dropdown-content'></div>\n",
       "                            <script>\n",
       "                                var elementcd5a1339e2154d30930c1251f2e51045 = [{\"id\": {\"value\": \"c51245200f5f401aa23603e1010be4bf\", \"type\": \"clipboard\"}, \"Subject\": \"Code Request for Project: Pandas Chapter 6 has been submitted by jane@caltech.edu\", \"Status\": \"Unread\", \"Created At\": \"2023-06-29 09:50:55\", \"Linked object\": \"Request (d6996e971d2b4ee9a48d4af6d0aba7be)\"}, {\"id\": {\"value\": \"73f13b4248f34279a05c4d6d870e4978\", \"type\": \"clipboard\"}, \"Subject\": \"A new request has been added to the Project: Pandas Chapter 6.\", \"Status\": \"Unread\", \"Created At\": \"2023-06-29 09:50:57\", \"Linked object\": \"Project (a814326b783645d6b379eb8ee3aa986a)\"}]\n",
       "                                var page_sizecd5a1339e2154d30930c1251f2e51045 = 2\n",
       "                                var pageIndexcd5a1339e2154d30930c1251f2e51045 = 1\n",
       "                                var paginatedElementscd5a1339e2154d30930c1251f2e51045 = []\n",
       "                                var activeFiltercd5a1339e2154d30930c1251f2e51045;\n",
       "\n",
       "                                function buildDropDownMenu(elements){\n",
       "                                    let init_filter;\n",
       "                                    let menu = document.getElementById('search-dropdown-contentcd5a1339e2154d30930c1251f2e51045')\n",
       "                                    if (elements.length > 0) {\n",
       "                                        let sample = elements[0]\n",
       "                                        for (const attr in sample) {\n",
       "                                            if (typeof init_filter === 'undefined'){\n",
       "                                                init_filter = attr;\n",
       "                                            }\n",
       "                                            let content = document.createElement('div');\n",
       "                                            content.onclick = function(event) {\n",
       "                                                event.stopPropagation()\n",
       "                                                document.getElementById('menu-active-filtercd5a1339e2154d30930c1251f2e51045').innerText = attr;\n",
       "                                                activeFiltercd5a1339e2154d30930c1251f2e51045 = attr;\n",
       "                                                document.getElementById(\n",
       "                                                    'search-dropdown-contentcd5a1339e2154d30930c1251f2e51045'\n",
       "                                                ).style.display= 'none';\n",
       "                                            }\n",
       "                                            content.classList.add(\"dd-options\");\n",
       "                                            content.innerText = attr;\n",
       "                                            menu.appendChild(content);\n",
       "                                        }\n",
       "                                    } else {\n",
       "                                        let init_filter = '---'\n",
       "                                    }\n",
       "                                    let dropdown_field = document.getElementById('search-menucd5a1339e2154d30930c1251f2e51045')\n",
       "                                    let span = document.createElement('span')\n",
       "                                    span.setAttribute('id', 'menu-active-filtercd5a1339e2154d30930c1251f2e51045')\n",
       "                                    span.innerText = init_filter\n",
       "                                    activeFiltercd5a1339e2154d30930c1251f2e51045 = init_filter;\n",
       "                                    dropdown_field.appendChild(span)\n",
       "                                }\n",
       "\n",
       "                                buildDropDownMenu(elementcd5a1339e2154d30930c1251f2e51045)\n",
       "                            </script>\n",
       "                        </div>\n",
       "                        <input id='searchKeycd5a1339e2154d30930c1251f2e51045' class='search-input' placeholder='Enter search here ...'  />\n",
       "                    </div>\n",
       "                    <button class='search-button'  onclick=\"searchGridcd5a1339e2154d30930c1251f2e51045(elementcd5a1339e2154d30930c1251f2e51045)\">\n",
       "                        <svg width=\"11\" height=\"10\" viewBox=\"0 0 11 10\" fill=\"none\" xmlns=\"http://www.w3.org/2000/svg\"><path d=\"M10.5652 9.23467L8.21819 6.88811C8.89846 6.07141 9.23767 5.02389 9.16527 3.96345C9.09287 2.90302 8.61443 1.91132 7.82948 1.19466C7.04453 0.477995 6.01349 0.0915414 4.95087 0.115691C3.88824 0.139841 2.87583 0.572735 2.12425 1.32432C1.37266 2.0759 0.939768 3.08831 0.915618 4.15094C0.891468 5.21357 1.27792 6.2446 1.99459 7.02955C2.71125 7.8145 3.70295 8.29294 4.76338 8.36535C5.82381 8.43775 6.87134 8.09853 7.68804 7.41827L10.0346 9.7653C10.0694 9.80014 10.1108 9.82778 10.1563 9.84663C10.2018 9.86549 10.2506 9.87519 10.2999 9.87519C10.3492 9.87519 10.398 9.86549 10.4435 9.84663C10.489 9.82778 10.5304 9.80014 10.5652 9.7653C10.6001 9.73046 10.6277 9.68909 10.6466 9.64357C10.6654 9.59805 10.6751 9.54926 10.6751 9.49998C10.6751 9.45071 10.6654 9.40192 10.6466 9.3564C10.6277 9.31088 10.6001 9.26951 10.5652 9.23467ZM1.67491 4.24998C1.67491 3.58247 1.87285 2.92995 2.2437 2.37493C2.61455 1.81992 3.14165 1.38734 3.75835 1.13189C4.37506 0.876446 5.05366 0.809609 5.70834 0.939835C6.36303 1.07006 6.96439 1.3915 7.4364 1.8635C7.9084 2.3355 8.22984 2.93687 8.36006 3.59155C8.49029 4.24624 8.42345 4.92484 8.168 5.54154C7.91256 6.15824 7.47998 6.68535 6.92496 7.05619C6.36995 7.42704 5.71742 7.62498 5.04991 7.62498C4.15511 7.62399 3.29724 7.26809 2.66452 6.63537C2.0318 6.00265 1.6759 5.14479 1.67491 4.24998Z\" fill=\"#464A91\"/></svg>\n",
       "                        <span class='pl-8'>Search</span>\n",
       "                    </button>\n",
       "                </div>\n",
       "\n",
       "                <div><h4 id='totalcd5a1339e2154d30930c1251f2e51045'>0</h4></div>\n",
       "            </div>\n",
       "            <div id='tablecd5a1339e2154d30930c1251f2e51045' class='grid-tablecd5a1339e2154d30930c1251f2e51045' style='margin-top: 25px;'>\n",
       "                <script>\n",
       "                    function paginatecd5a1339e2154d30930c1251f2e51045(arr, size) {\n",
       "                        const res = [];\n",
       "                        for (let i = 0; i < arr.length; i += size) {\n",
       "                            const chunk = arr.slice(i, i + size);\n",
       "                            res.push(chunk);\n",
       "                        }\n",
       "\n",
       "                        return res;\n",
       "                    }\n",
       "\n",
       "                    function searchGridcd5a1339e2154d30930c1251f2e51045(elements){\n",
       "                        let searchKey = document.getElementById('searchKeycd5a1339e2154d30930c1251f2e51045').value\n",
       "                        console.log(\"Search Key: \", searchKey)\n",
       "                        let result;\n",
       "                        if (searchKey === ''){\n",
       "                            result = elements;\n",
       "                        } else {\n",
       "                            result = elements.filter((element) => {\n",
       "                                let property = element[activeFiltercd5a1339e2154d30930c1251f2e51045]\n",
       "                                if (typeof property === 'object' && property !== null){\n",
       "                                    return property.value.toLowerCase().includes(searchKey.toLowerCase());\n",
       "                                } else if (typeof property === 'string' ) {\n",
       "                                    return element[activeFiltercd5a1339e2154d30930c1251f2e51045].toLowerCase().includes(searchKey.toLowerCase());\n",
       "                                } else if (property !== null ) {\n",
       "                                    return element[activeFiltercd5a1339e2154d30930c1251f2e51045].toString() === searchKey;\n",
       "                                } else {\n",
       "                                    return element[activeFiltercd5a1339e2154d30930c1251f2e51045] === searchKey;\n",
       "                                }\n",
       "                            } );\n",
       "                        }\n",
       "                        resetByIdcd5a1339e2154d30930c1251f2e51045('tablecd5a1339e2154d30930c1251f2e51045');\n",
       "                        resetByIdcd5a1339e2154d30930c1251f2e51045('pagcd5a1339e2154d30930c1251f2e51045');\n",
       "                        result = paginatecd5a1339e2154d30930c1251f2e51045(result, page_sizecd5a1339e2154d30930c1251f2e51045)\n",
       "                        buildGridcd5a1339e2154d30930c1251f2e51045(result,pageIndexcd5a1339e2154d30930c1251f2e51045);\n",
       "                        buildPaginationContainercd5a1339e2154d30930c1251f2e51045(result);\n",
       "                    }\n",
       "\n",
       "                    function resetByIdcd5a1339e2154d30930c1251f2e51045(id){\n",
       "                        let element = document.getElementById(id);\n",
       "                        while (element.firstChild) {\n",
       "                          element.removeChild(element.firstChild);\n",
       "                        }\n",
       "                    }\n",
       "\n",
       "                    function buildGridcd5a1339e2154d30930c1251f2e51045(items, pageIndex){\n",
       "                                let headers = Object.keys(elementcd5a1339e2154d30930c1251f2e51045[0]);\n",
       "\n",
       "                                let grid = document.getElementById(\"tablecd5a1339e2154d30930c1251f2e51045\");\n",
       "                                let div = document.createElement(\"div\");\n",
       "                                div.classList.add('grid-header', 'grid-index-cells');\n",
       "                                grid.appendChild(div);\n",
       "                                headers.forEach((title) =>{\n",
       "                                    let div = document.createElement(\"div\");\n",
       "                                    div.classList.add('grid-header', 'grid-std-cells');\n",
       "                                    div.innerText = title;\n",
       "\n",
       "                                    grid.appendChild(div);\n",
       "                                });\n",
       "\n",
       "                                let page = items[pageIndex -1]\n",
       "                                if (page !== 'undefine'){\n",
       "                                    let table_indexcd5a1339e2154d30930c1251f2e51045 = ((pageIndex - 1) * page_sizecd5a1339e2154d30930c1251f2e51045)\n",
       "                                    page.forEach((item) => {\n",
       "                                        let grid = document.getElementById(\"tablecd5a1339e2154d30930c1251f2e51045\");\n",
       "                                        // Add new index value in index cells\n",
       "                                        let divIndex = document.createElement(\"div\");\n",
       "                                        divIndex.classList.add('grid-row', 'grid-index-cells');\n",
       "                                        divIndex.innerText = table_indexcd5a1339e2154d30930c1251f2e51045;\n",
       "                                        grid.appendChild(divIndex);\n",
       "\n",
       "                                        // Iterate over the actual obj\n",
       "                                        for (const attr in item) {\n",
       "                                            let div = document.createElement(\"div\");\n",
       "                                            if (typeof item[attr] === 'object'\n",
       "                                                && item[attr] !== null\n",
       "                                                && item[attr].hasOwnProperty('type')) {\n",
       "                                                if (item[attr].type.includes('badge')){\n",
       "                                                    let badge_div = document.createElement(\"div\");\n",
       "                                                    badge_div.classList.add('badge',item[attr].type)\n",
       "                                                    badge_div.innerText = String(item[attr].value).toUpperCase();\n",
       "                                                    div.appendChild(badge_div);\n",
       "                                                    div.classList.add('grid-row','grid-std-cells');\n",
       "                                                } else if (item[attr].type === \"clipboard\") {\n",
       "                                                    div.classList.add('grid-row','grid-std-cells');\n",
       "\n",
       "                                                    // Create clipboard div\n",
       "                                                    let clipboard_div = document.createElement('div');\n",
       "                                                    clipboard_div.style.display= 'flex';\n",
       "                                                    clipboard_div.classList.add(\"gap-10\")\n",
       "                                                    clipboard_div.style.justifyContent = \"space-between\";\n",
       "\n",
       "                                                    let id_text = document.createElement('div');\n",
       "                                                    if (item[attr].value == \"None\"){\n",
       "                                                        id_text.innerText = \"None\";\n",
       "                                                    }\n",
       "                                                    else{\n",
       "                                                        id_text.innerText = item[attr].value.slice(0,5) + \"...\";\n",
       "                                                    }\n",
       "\n",
       "                                                    clipboard_div.appendChild(id_text);\n",
       "                                                    let clipboard_img = document.createElement('div');\n",
       "                                                    clipboard_img.classList.add(\"clipboard\")\n",
       "                                                    div.onclick = function() {\n",
       "                                                        navigator.clipboard.writeText(item[attr].value);\n",
       "                                                    };\n",
       "                                                    clipboard_img.innerHTML = \"<svg width='8' height='8' viewBox='0 0 8 8' fill='none' xmlns='http://www.w3.org/2000/svg'><path d='M7.4375 0.25H2.4375C2.35462 0.25 2.27513 0.282924 2.21653 0.341529C2.15792 0.400134 2.125 0.47962 2.125 0.5625V2.125H0.5625C0.47962 2.125 0.400134 2.15792 0.341529 2.21653C0.282924 2.27513 0.25 2.35462 0.25 2.4375V7.4375C0.25 7.52038 0.282924 7.59987 0.341529 7.65847C0.400134 7.71708 0.47962 7.75 0.5625 7.75H5.5625C5.64538 7.75 5.72487 7.71708 5.78347 7.65847C5.84208 7.59987 5.875 7.52038 5.875 7.4375V5.875H7.4375C7.52038 5.875 7.59987 5.84208 7.65847 5.78347C7.71708 5.72487 7.75 5.64538 7.75 5.5625V0.5625C7.75 0.47962 7.71708 0.400134 7.65847 0.341529C7.59987 0.282924 7.52038 0.25 7.4375 0.25ZM5.25 7.125H0.875V2.75H5.25V7.125ZM7.125 5.25H5.875V2.4375C5.875 2.35462 5.84208 2.27513 5.78347 2.21653C5.72487 2.15792 5.64538 2.125 5.5625 2.125H2.75V0.875H7.125V5.25Z' fill='#464158'/></svg>\";\n",
       "\n",
       "                                                    clipboard_div.appendChild(clipboard_img);\n",
       "                                                    div.appendChild(clipboard_div);\n",
       "                                                }\n",
       "                                            } else{\n",
       "                                                div.classList.add('grid-row','grid-std-cells');\n",
       "                                                if (item[attr] == null) {\n",
       "                                                    text = ' '\n",
       "                                                } else {\n",
       "                                                    text = String(item[attr])\n",
       "                                                }\n",
       "                                                if (text.length > 150){\n",
       "                                                    text = text.slice(0,150) + \"...\";\n",
       "                                                }\n",
       "                                                text = text.replaceAll(\"\\n\", \"</br>\");\n",
       "                                                div.innerHTML = text;\n",
       "                                            }\n",
       "                                            grid.appendChild(div);\n",
       "                                        }\n",
       "                                    table_indexcd5a1339e2154d30930c1251f2e51045 = table_indexcd5a1339e2154d30930c1251f2e51045 + 1;\n",
       "                                    })\n",
       "                                }\n",
       "                    }\n",
       "                    paginatedElementscd5a1339e2154d30930c1251f2e51045 = paginatecd5a1339e2154d30930c1251f2e51045(elementcd5a1339e2154d30930c1251f2e51045, page_sizecd5a1339e2154d30930c1251f2e51045)\n",
       "                    buildGridcd5a1339e2154d30930c1251f2e51045(paginatedElementscd5a1339e2154d30930c1251f2e51045, 1)\n",
       "                    document.getElementById('totalcd5a1339e2154d30930c1251f2e51045').innerText = \"Total: \" + elementcd5a1339e2154d30930c1251f2e51045.length\n",
       "                </script>\n",
       "            </div>\n",
       "            <div id='pagcd5a1339e2154d30930c1251f2e51045' class='paginationContainer'>\n",
       "                <script>\n",
       "                    function buildPaginationContainercd5a1339e2154d30930c1251f2e51045(paginatedElements){\n",
       "                            let pageContainer = document.getElementById(\"pagcd5a1339e2154d30930c1251f2e51045\");\n",
       "                            for (let i = 0; i < paginatedElements.length; i++) {\n",
       "                                  let div = document.createElement(\"div\");\n",
       "                                  div.classList.add('page');\n",
       "                                  div.style.color = 'gray';\n",
       "                                  div.onclick = function(event) {\n",
       "                                      let indexes = document.getElementsByClassName('page');\n",
       "                                      for (let index of indexes) { index.style.color = 'gray' }\n",
       "                                      event.target.style.color = \"black\"\n",
       "                                      setPagecd5a1339e2154d30930c1251f2e51045(i + 1);\n",
       "                                  };\n",
       "                                  div.innerText = i + 1;\n",
       "                                  pageContainer.appendChild(div);\n",
       "                            }\n",
       "                    }\n",
       "\n",
       "                    function setPagecd5a1339e2154d30930c1251f2e51045(newPage){\n",
       "                        pageIndex = newPage\n",
       "                        resetByIdcd5a1339e2154d30930c1251f2e51045('tablecd5a1339e2154d30930c1251f2e51045')\n",
       "                        buildGridcd5a1339e2154d30930c1251f2e51045(paginatedElementscd5a1339e2154d30930c1251f2e51045, pageIndex)\n",
       "                    }\n",
       "\n",
       "                    buildPaginationContainercd5a1339e2154d30930c1251f2e51045(paginatedElementscd5a1339e2154d30930c1251f2e51045)\n",
       "                </script>\n",
       "            </div>\n",
       "        </div>\n",
       "    </div>\n",
       "    </div>\n"
      ],
      "text/plain": [
       "[syft.service.message.messages.Message, syft.service.message.messages.Message]"
      ]
     },
     "execution_count": 42,
     "metadata": {},
     "output_type": "execute_result"
    }
   ],
   "source": [
    "messages"
   ]
  },
  {
   "cell_type": "code",
   "execution_count": 43,
   "id": "f491713c",
   "metadata": {
    "execution": {
     "iopub.execute_input": "2023-06-29T09:50:58.876067Z",
     "iopub.status.busy": "2023-06-29T09:50:58.875694Z",
     "iopub.status.idle": "2023-06-29T09:50:58.880040Z",
     "shell.execute_reply": "2023-06-29T09:50:58.879345Z"
    },
    "tags": []
   },
   "outputs": [],
   "source": [
    "project_message = [x for x in messages if issubclass(x.linked_obj.object_type, Project)][0]"
   ]
  },
  {
   "cell_type": "code",
   "execution_count": 44,
   "id": "e450a3af",
   "metadata": {
    "execution": {
     "iopub.execute_input": "2023-06-29T09:50:58.883914Z",
     "iopub.status.busy": "2023-06-29T09:50:58.882859Z",
     "iopub.status.idle": "2023-06-29T09:50:58.943519Z",
     "shell.execute_reply": "2023-06-29T09:50:58.942628Z"
    },
    "tags": []
   },
   "outputs": [],
   "source": [
    "request = project_message.link.events[0].request\n",
    "func = request.changes[0].link\n",
    "op = func.output_policy_type"
   ]
  },
  {
   "cell_type": "code",
   "execution_count": 45,
   "id": "cd5822af",
   "metadata": {
    "execution": {
     "iopub.execute_input": "2023-06-29T09:50:58.946597Z",
     "iopub.status.busy": "2023-06-29T09:50:58.946219Z",
     "iopub.status.idle": "2023-06-29T09:50:58.951465Z",
     "shell.execute_reply": "2023-06-29T09:50:58.950746Z"
    },
    "tags": []
   },
   "outputs": [
    {
     "data": {
      "text/markdown": [
       "```python\n",
       "class UserCode\n",
       "    id: str = d1713acda1bd43a59f1f7f5fb387364b\n",
       "    status.approved: str = False\n",
       "    service_func_name: str = snow_and_temperature\n",
       "    code:\n",
       "\n",
       "@sy.syft_function(input_policy=sy.ExactMatch(df=ds.assets[0]),\n",
       "                  output_policy=sy.SingleExecutionExactOutput())\n",
       "def snow_and_temperature(df):\n",
       "    import pandas as pd\n",
       "    import numpy as np\n",
       "    weather_2012 = df\n",
       "    weather_description = weather_2012['Weather']\n",
       "    is_snowing = weather_description.str.contains('Snow')\n",
       "    \n",
       "    median_temperature = weather_2012['Temp (C)'].resample('M').apply(np.median)\n",
       "    snow_frequency = is_snowing.astype(float).resample('M').apply(np.mean)\n",
       "    \n",
       "    temperature = weather_2012['Temp (C)'].resample('M').apply(np.median)\n",
       "    is_snowing = weather_2012['Weather'].str.contains('Snow')\n",
       "    snowiness = is_snowing.astype(float).resample('M').apply(np.mean)\n",
       "\n",
       "    # Name the columns\n",
       "    temperature.name = \"Temperature\"\n",
       "    snowiness.name = \"Snowiness\"\n",
       "    stats = pd.concat([temperature, snowiness], axis=1)\n",
       "    stats.columns = [\"temperature\", \"snowiness\"]\n",
       "    \n",
       "    return is_snowing.astype(float), median_temperature, snow_frequency, stats\n",
       "\n",
       "```"
      ],
      "text/plain": [
       "syft.service.code.user_code.UserCode"
      ]
     },
     "execution_count": 45,
     "metadata": {},
     "output_type": "execute_result"
    }
   ],
   "source": [
    "func"
   ]
  },
  {
   "cell_type": "code",
   "execution_count": 46,
   "id": "c173017d",
   "metadata": {
    "execution": {
     "iopub.execute_input": "2023-06-29T09:50:58.954245Z",
     "iopub.status.busy": "2023-06-29T09:50:58.953891Z",
     "iopub.status.idle": "2023-06-29T09:50:58.958125Z",
     "shell.execute_reply": "2023-06-29T09:50:58.957456Z"
    },
    "tags": []
   },
   "outputs": [
    {
     "name": "stdout",
     "output_type": "stream",
     "text": [
      "WARNING: This code was submitted by a User and could be UNSAFE.\n"
     ]
    }
   ],
   "source": [
    "get_col_user_function = func.unsafe_function"
   ]
  },
  {
   "cell_type": "code",
   "execution_count": 47,
   "id": "3a708eb0",
   "metadata": {
    "execution": {
     "iopub.execute_input": "2023-06-29T09:50:58.960805Z",
     "iopub.status.busy": "2023-06-29T09:50:58.960455Z",
     "iopub.status.idle": "2023-06-29T09:50:59.019306Z",
     "shell.execute_reply": "2023-06-29T09:50:59.018433Z"
    },
    "tags": []
   },
   "outputs": [],
   "source": [
    "real_data = domain_client.datasets[0].assets[0].data"
   ]
  },
  {
   "cell_type": "code",
   "execution_count": 48,
   "id": "c55557f8",
   "metadata": {
    "execution": {
     "iopub.execute_input": "2023-06-29T09:50:59.022382Z",
     "iopub.status.busy": "2023-06-29T09:50:59.021980Z",
     "iopub.status.idle": "2023-06-29T09:50:59.040632Z",
     "shell.execute_reply": "2023-06-29T09:50:59.039817Z"
    },
    "tags": []
   },
   "outputs": [
    {
     "data": {
      "text/html": [
       "<div>\n",
       "<style scoped>\n",
       "    .dataframe tbody tr th:only-of-type {\n",
       "        vertical-align: middle;\n",
       "    }\n",
       "\n",
       "    .dataframe tbody tr th {\n",
       "        vertical-align: top;\n",
       "    }\n",
       "\n",
       "    .dataframe thead th {\n",
       "        text-align: right;\n",
       "    }\n",
       "</style>\n",
       "<table border=\"1\" class=\"dataframe\">\n",
       "  <thead>\n",
       "    <tr style=\"text-align: right;\">\n",
       "      <th></th>\n",
       "      <th>Temp (C)</th>\n",
       "      <th>Dew Point Temp (C)</th>\n",
       "      <th>Rel Hum (%)</th>\n",
       "      <th>Wind Spd (km/h)</th>\n",
       "      <th>Visibility (km)</th>\n",
       "      <th>Stn Press (kPa)</th>\n",
       "      <th>Weather</th>\n",
       "    </tr>\n",
       "    <tr>\n",
       "      <th>Date/Time</th>\n",
       "      <th></th>\n",
       "      <th></th>\n",
       "      <th></th>\n",
       "      <th></th>\n",
       "      <th></th>\n",
       "      <th></th>\n",
       "      <th></th>\n",
       "    </tr>\n",
       "  </thead>\n",
       "  <tbody>\n",
       "    <tr>\n",
       "      <th>2012-01-01 00:00:00</th>\n",
       "      <td>-1.8</td>\n",
       "      <td>-3.9</td>\n",
       "      <td>86</td>\n",
       "      <td>4</td>\n",
       "      <td>8.0</td>\n",
       "      <td>101.24</td>\n",
       "      <td>Fog</td>\n",
       "    </tr>\n",
       "    <tr>\n",
       "      <th>2012-01-01 01:00:00</th>\n",
       "      <td>-1.8</td>\n",
       "      <td>-3.7</td>\n",
       "      <td>87</td>\n",
       "      <td>4</td>\n",
       "      <td>8.0</td>\n",
       "      <td>101.24</td>\n",
       "      <td>Fog</td>\n",
       "    </tr>\n",
       "    <tr>\n",
       "      <th>2012-01-01 02:00:00</th>\n",
       "      <td>-1.8</td>\n",
       "      <td>-3.4</td>\n",
       "      <td>89</td>\n",
       "      <td>7</td>\n",
       "      <td>4.0</td>\n",
       "      <td>101.26</td>\n",
       "      <td>Freezing Drizzle,Fog</td>\n",
       "    </tr>\n",
       "    <tr>\n",
       "      <th>2012-01-01 03:00:00</th>\n",
       "      <td>-1.5</td>\n",
       "      <td>-3.2</td>\n",
       "      <td>88</td>\n",
       "      <td>6</td>\n",
       "      <td>4.0</td>\n",
       "      <td>101.27</td>\n",
       "      <td>Freezing Drizzle,Fog</td>\n",
       "    </tr>\n",
       "    <tr>\n",
       "      <th>2012-01-01 04:00:00</th>\n",
       "      <td>-1.5</td>\n",
       "      <td>-3.3</td>\n",
       "      <td>88</td>\n",
       "      <td>7</td>\n",
       "      <td>4.8</td>\n",
       "      <td>101.23</td>\n",
       "      <td>Fog</td>\n",
       "    </tr>\n",
       "    <tr>\n",
       "      <th>...</th>\n",
       "      <td>...</td>\n",
       "      <td>...</td>\n",
       "      <td>...</td>\n",
       "      <td>...</td>\n",
       "      <td>...</td>\n",
       "      <td>...</td>\n",
       "      <td>...</td>\n",
       "    </tr>\n",
       "    <tr>\n",
       "      <th>2012-12-31 19:00:00</th>\n",
       "      <td>0.1</td>\n",
       "      <td>-2.7</td>\n",
       "      <td>81</td>\n",
       "      <td>30</td>\n",
       "      <td>9.7</td>\n",
       "      <td>100.13</td>\n",
       "      <td>Snow</td>\n",
       "    </tr>\n",
       "    <tr>\n",
       "      <th>2012-12-31 20:00:00</th>\n",
       "      <td>0.2</td>\n",
       "      <td>-2.4</td>\n",
       "      <td>83</td>\n",
       "      <td>24</td>\n",
       "      <td>9.7</td>\n",
       "      <td>100.03</td>\n",
       "      <td>Snow</td>\n",
       "    </tr>\n",
       "    <tr>\n",
       "      <th>2012-12-31 21:00:00</th>\n",
       "      <td>-0.5</td>\n",
       "      <td>-1.5</td>\n",
       "      <td>93</td>\n",
       "      <td>28</td>\n",
       "      <td>4.8</td>\n",
       "      <td>99.95</td>\n",
       "      <td>Snow</td>\n",
       "    </tr>\n",
       "    <tr>\n",
       "      <th>2012-12-31 22:00:00</th>\n",
       "      <td>-0.2</td>\n",
       "      <td>-1.8</td>\n",
       "      <td>89</td>\n",
       "      <td>28</td>\n",
       "      <td>9.7</td>\n",
       "      <td>99.91</td>\n",
       "      <td>Snow</td>\n",
       "    </tr>\n",
       "    <tr>\n",
       "      <th>2012-12-31 23:00:00</th>\n",
       "      <td>0.0</td>\n",
       "      <td>-2.1</td>\n",
       "      <td>86</td>\n",
       "      <td>30</td>\n",
       "      <td>11.3</td>\n",
       "      <td>99.89</td>\n",
       "      <td>Snow</td>\n",
       "    </tr>\n",
       "  </tbody>\n",
       "</table>\n",
       "<p>8784 rows × 7 columns</p>\n",
       "</div>"
      ],
      "text/plain": [
       "                     Temp (C)  Dew Point Temp (C)  Rel Hum (%)  \\\n",
       "Date/Time                                                        \n",
       "2012-01-01 00:00:00      -1.8                -3.9           86   \n",
       "2012-01-01 01:00:00      -1.8                -3.7           87   \n",
       "2012-01-01 02:00:00      -1.8                -3.4           89   \n",
       "2012-01-01 03:00:00      -1.5                -3.2           88   \n",
       "2012-01-01 04:00:00      -1.5                -3.3           88   \n",
       "...                       ...                 ...          ...   \n",
       "2012-12-31 19:00:00       0.1                -2.7           81   \n",
       "2012-12-31 20:00:00       0.2                -2.4           83   \n",
       "2012-12-31 21:00:00      -0.5                -1.5           93   \n",
       "2012-12-31 22:00:00      -0.2                -1.8           89   \n",
       "2012-12-31 23:00:00       0.0                -2.1           86   \n",
       "\n",
       "                     Wind Spd (km/h)  Visibility (km)  Stn Press (kPa)  \\\n",
       "Date/Time                                                                \n",
       "2012-01-01 00:00:00                4              8.0           101.24   \n",
       "2012-01-01 01:00:00                4              8.0           101.24   \n",
       "2012-01-01 02:00:00                7              4.0           101.26   \n",
       "2012-01-01 03:00:00                6              4.0           101.27   \n",
       "2012-01-01 04:00:00                7              4.8           101.23   \n",
       "...                              ...              ...              ...   \n",
       "2012-12-31 19:00:00               30              9.7           100.13   \n",
       "2012-12-31 20:00:00               24              9.7           100.03   \n",
       "2012-12-31 21:00:00               28              4.8            99.95   \n",
       "2012-12-31 22:00:00               28              9.7            99.91   \n",
       "2012-12-31 23:00:00               30             11.3            99.89   \n",
       "\n",
       "                                  Weather  \n",
       "Date/Time                                  \n",
       "2012-01-01 00:00:00                   Fog  \n",
       "2012-01-01 01:00:00                   Fog  \n",
       "2012-01-01 02:00:00  Freezing Drizzle,Fog  \n",
       "2012-01-01 03:00:00  Freezing Drizzle,Fog  \n",
       "2012-01-01 04:00:00                   Fog  \n",
       "...                                   ...  \n",
       "2012-12-31 19:00:00                  Snow  \n",
       "2012-12-31 20:00:00                  Snow  \n",
       "2012-12-31 21:00:00                  Snow  \n",
       "2012-12-31 22:00:00                  Snow  \n",
       "2012-12-31 23:00:00                  Snow  \n",
       "\n",
       "[8784 rows x 7 columns]"
      ]
     },
     "execution_count": 48,
     "metadata": {},
     "output_type": "execute_result"
    }
   ],
   "source": [
    "real_data"
   ]
  },
  {
   "cell_type": "code",
   "execution_count": 49,
   "id": "34fc6c8b",
   "metadata": {
    "execution": {
     "iopub.execute_input": "2023-06-29T09:50:59.043167Z",
     "iopub.status.busy": "2023-06-29T09:50:59.042939Z",
     "iopub.status.idle": "2023-06-29T09:50:59.065725Z",
     "shell.execute_reply": "2023-06-29T09:50:59.064855Z"
    },
    "tags": []
   },
   "outputs": [],
   "source": [
    "real_result = get_col_user_function(df=real_data)"
   ]
  },
  {
   "cell_type": "code",
   "execution_count": 50,
   "id": "60adc73c",
   "metadata": {
    "execution": {
     "iopub.execute_input": "2023-06-29T09:50:59.069555Z",
     "iopub.status.busy": "2023-06-29T09:50:59.069312Z",
     "iopub.status.idle": "2023-06-29T09:51:01.020349Z",
     "shell.execute_reply": "2023-06-29T09:51:01.019331Z"
    },
    "tags": []
   },
   "outputs": [],
   "source": [
    "result = request.accept_by_depositing_result(real_result)\n",
    "result\n",
    "assert isinstance(result, sy.SyftSuccess)"
   ]
  },
  {
   "cell_type": "markdown",
   "id": "559d2b41",
   "metadata": {},
   "source": [
    "# Data scientist: fetch result"
   ]
  },
  {
   "cell_type": "code",
   "execution_count": 51,
   "id": "5f39c3c9",
   "metadata": {
    "execution": {
     "iopub.execute_input": "2023-06-29T09:51:01.024433Z",
     "iopub.status.busy": "2023-06-29T09:51:01.023689Z",
     "iopub.status.idle": "2023-06-29T09:51:02.506161Z",
     "shell.execute_reply": "2023-06-29T09:51:02.505339Z"
    },
    "tags": []
   },
   "outputs": [
    {
     "name": "stdout",
     "output_type": "stream",
     "text": [
      "Logged into pandas-test-domain-6 as <jane@caltech.edu>\n"
     ]
    }
   ],
   "source": [
    "guest_client = node.login(email=\"jane@caltech.edu\", password=\"abc123\")"
   ]
  },
  {
   "cell_type": "code",
   "execution_count": 52,
   "id": "d4d913d0",
   "metadata": {
    "execution": {
     "iopub.execute_input": "2023-06-29T09:51:02.509212Z",
     "iopub.status.busy": "2023-06-29T09:51:02.508828Z",
     "iopub.status.idle": "2023-06-29T09:51:02.542104Z",
     "shell.execute_reply": "2023-06-29T09:51:02.541273Z"
    },
    "tags": []
   },
   "outputs": [],
   "source": [
    "asset = guest_client.datasets[0].assets[0]"
   ]
  },
  {
   "cell_type": "code",
   "execution_count": 53,
   "id": "b302702f",
   "metadata": {
    "execution": {
     "iopub.execute_input": "2023-06-29T09:51:02.545649Z",
     "iopub.status.busy": "2023-06-29T09:51:02.545289Z",
     "iopub.status.idle": "2023-06-29T09:51:02.566906Z",
     "shell.execute_reply": "2023-06-29T09:51:02.566276Z"
    },
    "tags": []
   },
   "outputs": [
    {
     "data": {
      "text/plain": [
       "{NodeView(node_name='pandas-test-domain-6', verify_key=bc1c4ba1ff50310092588af6ce963cdcc650567fd60179d2dbd09a882caab16f): <UserCodeStatus.EXECUTE: 'execute'>}"
      ]
     },
     "execution_count": 53,
     "metadata": {},
     "output_type": "execute_result"
    }
   ],
   "source": [
    "guest_client.code[0].status"
   ]
  },
  {
   "cell_type": "code",
   "execution_count": 54,
   "id": "7093dad3",
   "metadata": {
    "execution": {
     "iopub.execute_input": "2023-06-29T09:51:02.570089Z",
     "iopub.status.busy": "2023-06-29T09:51:02.569728Z",
     "iopub.status.idle": "2023-06-29T09:51:04.952995Z",
     "shell.execute_reply": "2023-06-29T09:51:04.952082Z"
    },
    "tags": []
   },
   "outputs": [],
   "source": [
    "result_ptr = guest_client.code.snow_and_temperature(df=asset)\n",
    "real_result = result_ptr.get()"
   ]
  },
  {
   "cell_type": "code",
   "execution_count": 55,
   "id": "bf0a05be",
   "metadata": {
    "execution": {
     "iopub.execute_input": "2023-06-29T09:51:04.956368Z",
     "iopub.status.busy": "2023-06-29T09:51:04.955995Z",
     "iopub.status.idle": "2023-06-29T09:51:04.961554Z",
     "shell.execute_reply": "2023-06-29T09:51:04.960916Z"
    },
    "tags": []
   },
   "outputs": [],
   "source": [
    "is_snowing, median_temperature, snow_frequency, snow_and_temperature  = real_result[0], real_result[1], real_result[2], real_result[3]"
   ]
  },
  {
   "cell_type": "code",
   "execution_count": 56,
   "id": "1b03f797",
   "metadata": {
    "execution": {
     "iopub.execute_input": "2023-06-29T09:51:04.964296Z",
     "iopub.status.busy": "2023-06-29T09:51:04.963936Z",
     "iopub.status.idle": "2023-06-29T09:51:05.380126Z",
     "shell.execute_reply": "2023-06-29T09:51:05.379049Z"
    },
    "tags": []
   },
   "outputs": [
    {
     "data": {
      "text/plain": [
       "<Axes: >"
      ]
     },
     "execution_count": 56,
     "metadata": {},
     "output_type": "execute_result"
    },
    {
     "data": {
      "image/png": "[encoded data removed]",
      "text/plain": [
       "<Figure size 1500x300 with 1 Axes>"
      ]
     },
     "metadata": {},
     "output_type": "display_data"
    }
   ],
   "source": [
    "is_snowing.plot()"
   ]
  },
  {
   "cell_type": "code",
   "execution_count": 57,
   "id": "6c59d4a8",
   "metadata": {
    "execution": {
     "iopub.execute_input": "2023-06-29T09:51:05.383371Z",
     "iopub.status.busy": "2023-06-29T09:51:05.383109Z",
     "iopub.status.idle": "2023-06-29T09:51:05.616775Z",
     "shell.execute_reply": "2023-06-29T09:51:05.615838Z"
    },
    "tags": []
   },
   "outputs": [
    {
     "data": {
      "text/plain": [
       "<Axes: >"
      ]
     },
     "execution_count": 57,
     "metadata": {},
     "output_type": "execute_result"
    },
    {
     "data": {
      "image/png": "[encoded data removed]",
      "text/plain": [
       "<Figure size 1500x300 with 1 Axes>"
      ]
     },
     "metadata": {},
     "output_type": "display_data"
    }
   ],
   "source": [
    "median_temperature.plot(kind=\"bar\")"
   ]
  },
  {
   "cell_type": "code",
   "execution_count": 58,
   "id": "85439878",
   "metadata": {
    "execution": {
     "iopub.execute_input": "2023-06-29T09:51:05.620789Z",
     "iopub.status.busy": "2023-06-29T09:51:05.620371Z",
     "iopub.status.idle": "2023-06-29T09:51:05.860548Z",
     "shell.execute_reply": "2023-06-29T09:51:05.859754Z"
    },
    "tags": []
   },
   "outputs": [
    {
     "data": {
      "text/plain": [
       "<Axes: >"
      ]
     },
     "execution_count": 58,
     "metadata": {},
     "output_type": "execute_result"
    },
    {
     "data": {
      "image/png": "[encoded data removed]",
      "text/plain": [
       "<Figure size 1500x300 with 1 Axes>"
      ]
     },
     "metadata": {},
     "output_type": "display_data"
    }
   ],
   "source": [
    "snow_frequency.plot(kind=\"bar\")"
   ]
  },
  {
   "cell_type": "code",
   "execution_count": 59,
   "id": "0780dcb3",
   "metadata": {
    "execution": {
     "iopub.execute_input": "2023-06-29T09:51:05.863626Z",
     "iopub.status.busy": "2023-06-29T09:51:05.863361Z",
     "iopub.status.idle": "2023-06-29T09:51:06.460833Z",
     "shell.execute_reply": "2023-06-29T09:51:06.459973Z"
    },
    "tags": []
   },
   "outputs": [
    {
     "data": {
      "text/plain": [
       "array([<Axes: title={'center': 'temperature'}, xlabel='Date/Time'>,\n",
       "       <Axes: title={'center': 'snowiness'}, xlabel='Date/Time'>],\n",
       "      dtype=object)"
      ]
     },
     "execution_count": 59,
     "metadata": {},
     "output_type": "execute_result"
    },
    {
     "data": {
      "image/png": "[encoded data removed]",
      "text/plain": [
       "<Figure size 1500x1000 with 2 Axes>"
      ]
     },
     "metadata": {},
     "output_type": "display_data"
    }
   ],
   "source": [
    "snow_and_temperature.plot(kind='bar', subplots=True, figsize=(15, 10))"
   ]
  },
  {
   "cell_type": "code",
   "execution_count": 60,
   "id": "38c23358",
   "metadata": {
    "execution": {
     "iopub.execute_input": "2023-06-29T09:51:06.464582Z",
     "iopub.status.busy": "2023-06-29T09:51:06.463926Z",
     "iopub.status.idle": "2023-06-29T09:51:06.469465Z",
     "shell.execute_reply": "2023-06-29T09:51:06.468769Z"
    },
    "tags": []
   },
   "outputs": [
    {
     "name": "stdout",
     "output_type": "stream",
     "text": [
      "Stopping pandas-test-domain-6\n"
     ]
    }
   ],
   "source": [
    "node.land()"
   ]
  }
 ],
 "metadata": {
  "kernelspec": {
   "display_name": "Python 3 (ipykernel)",
   "language": "python",
   "name": "python3"
  },
  "language_info": {
   "codemirror_mode": {
    "name": "ipython",
    "version": 3
   },
   "file_extension": ".py",
   "mimetype": "text/x-python",
   "name": "python",
   "nbconvert_exporter": "python",
   "pygments_lexer": "ipython3",
   "version": "3.11.4"
  },
  "toc": {
   "base_numbering": 1,
   "nav_menu": {},
   "number_sections": true,
   "sideBar": true,
   "skip_h1_title": false,
   "title_cell": "Table of Contents",
   "title_sidebar": "Contents",
   "toc_cell": false,
   "toc_position": {},
   "toc_section_display": true,
   "toc_window_display": true
  }
 },
 "nbformat": 4,
 "nbformat_minor": 5
}
