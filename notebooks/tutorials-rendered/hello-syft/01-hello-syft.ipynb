{
 "cells": [
  {
   "cell_type": "markdown",
   "id": "fab13e7a-028f-4c84-9f4f-bd16bce1fe98",
   "metadata": {
    "tags": []
   },
   "source": [
    "# Hello Syft"
   ]
  },
  {
   "cell_type": "markdown",
   "id": "4c835e80",
   "metadata": {},
   "source": [
    "PySyft is a python library containing a set of data serialization and remote code execution APIs which mimic existing popular Data Science tools while working interchangeably with existing popular data types. It enables data scientists query for their data related questions on sensitive or proprietary data in a secure and privacy-preserving way. The python package for PySyft is called `syft`. "
   ]
  },
  {
   "cell_type": "markdown",
   "id": "9efb85c2",
   "metadata": {},
   "source": [
    "In this tutorial, we will cover the following workflows:\n",
    "\n",
    "- Data Owner Workflow - Part 1\n",
    "    - upload mock data\n",
    "- Data Scientist Workflow  - Part 1\n",
    "    - write query against mock data\n",
    "    - submit code for review on the data owner side\n",
    "- Data Owner Workflow - Part 2\n",
    "    - review code and approve\n",
    "    - share the real result with the data scientist\n",
    "- Data Scientist Workflow - Part 2\n",
    "    - fetch the real result\n",
    "\n",
    "For more detailed tutorials for each subject, please refer to `data-owner` and `data-scientist` tutorials."
   ]
  },
  {
   "cell_type": "markdown",
   "id": "837f1a95",
   "metadata": {},
   "source": [
    "## Install `syft`"
   ]
  },
  {
   "cell_type": "code",
   "execution_count": 1,
   "id": "b3bbffe1-b5f5-43f4-8231-87c4007c7822",
   "metadata": {
    "execution": {
     "iopub.execute_input": "2023-06-29T09:45:46.630525Z",
     "iopub.status.busy": "2023-06-29T09:45:46.630062Z",
     "iopub.status.idle": "2023-06-29T09:45:46.638252Z",
     "shell.execute_reply": "2023-06-29T09:45:46.637531Z"
    },
    "tags": []
   },
   "outputs": [],
   "source": [
    "SYFT_VERSION = \">=0.8.2.b0,<0.9\"\n",
    "package_string = f'\"syft{SYFT_VERSION}\"'\n",
    "# %pip install {package_string} -f https://whls.blob.core.windows.net/unstable/index.html"
   ]
  },
  {
   "cell_type": "code",
   "execution_count": 2,
   "id": "a6a7723a-295f-43f6-a5cc-717119f21b9b",
   "metadata": {
    "execution": {
     "iopub.execute_input": "2023-06-29T09:45:46.641241Z",
     "iopub.status.busy": "2023-06-29T09:45:46.640775Z",
     "iopub.status.idle": "2023-06-29T09:45:49.105697Z",
     "shell.execute_reply": "2023-06-29T09:45:49.104759Z"
    },
    "tags": []
   },
   "outputs": [
    {
     "name": "stdout",
     "output_type": "stream",
     "text": [
      "✅ The installed version of syft==0.8.2b2 matches the requirement >=0.8.2b0 and the requirement <0.9\n"
     ]
    }
   ],
   "source": [
    "import syft as sy\n",
    "sy.requires(SYFT_VERSION)"
   ]
  },
  {
   "cell_type": "markdown",
   "id": "a346b2b6",
   "metadata": {},
   "source": [
    "## Launch a dummy server \n",
    "\n",
    "In this tutorial, for the sake of demonstration, we will be using in-memory workers as dummy servers. For details of deploying a server on your own using `syft` and `hagrid`, please refer to the `quickstart` tutorials."
   ]
  },
  {
   "cell_type": "code",
   "execution_count": 3,
   "id": "73b19037",
   "metadata": {
    "execution": {
     "iopub.execute_input": "2023-06-29T09:45:49.109231Z",
     "iopub.status.busy": "2023-06-29T09:45:49.108513Z",
     "iopub.status.idle": "2023-06-29T09:45:53.664192Z",
     "shell.execute_reply": "2023-06-29T09:45:53.662913Z"
    }
   },
   "outputs": [
    {
     "name": "stdout",
     "output_type": "stream",
     "text": [
      "Starting hello-syft-usa-server server on 0.0.0.0:9000\n"
     ]
    },
    {
     "name": "stdout",
     "output_type": "stream",
     "text": [
      "Waiting for server to start Done.\n"
     ]
    },
    {
     "name": "stdout",
     "output_type": "stream",
     "text": [
      "Logged into hello-syft-usa-server as <info@openmined.org>\n"
     ]
    },
    {
     "name": "stdout",
     "output_type": "stream",
     "text": [
      "Logged into hello-syft-usa-server as <janedoe@caltech.edu>\n"
     ]
    }
   ],
   "source": [
    "node = sy.orchestra.launch(name=\"hello-syft-usa-server\", port=9000, reset=True)\n",
    "root_domain_client = node.login(email=\"info@openmined.org\", password=\"changethis\")\n",
    "root_domain_client.register(name=\"Jane Doe\", email=\"janedoe@caltech.edu\",\n",
    "                            password=\"abc123\", institution=\"Caltech\", website=\"https://www.caltech.edu/\")\n",
    "\n",
    "ds_client = node.login(email=\"janedoe@caltech.edu\", password=\"abc123\")"
   ]
  },
  {
   "cell_type": "markdown",
   "id": "51345a05",
   "metadata": {},
   "source": [
    "## Data owner - Part 1\n",
    "\n",
    "### Upload Data to Domain"
   ]
  },
  {
   "cell_type": "code",
   "execution_count": 4,
   "id": "d538fd9e",
   "metadata": {
    "execution": {
     "iopub.execute_input": "2023-06-29T09:45:53.669039Z",
     "iopub.status.busy": "2023-06-29T09:45:53.668699Z",
     "iopub.status.idle": "2023-06-29T09:45:53.675560Z",
     "shell.execute_reply": "2023-06-29T09:45:53.674703Z"
    }
   },
   "outputs": [],
   "source": [
    "import pandas as pd"
   ]
  },
  {
   "cell_type": "markdown",
   "id": "8f3c9bc3",
   "metadata": {},
   "source": [
    "The first thing we do as a data owner is uploading our dataset. Based on the original data, the data owner will generate a synthetic or fake version of this dataset. They can add any amount of noise to the fake values. Let's say in this fake version, they are adding `+10` to each of the ages."
   ]
  },
  {
   "cell_type": "code",
   "execution_count": 5,
   "id": "82a51393",
   "metadata": {
    "execution": {
     "iopub.execute_input": "2023-06-29T09:45:53.678804Z",
     "iopub.status.busy": "2023-06-29T09:45:53.678286Z",
     "iopub.status.idle": "2023-06-29T09:45:53.975770Z",
     "shell.execute_reply": "2023-06-29T09:45:53.974793Z"
    }
   },
   "outputs": [
    {
     "name": "stderr",
     "output_type": "stream",
     "text": [
      "\r",
      "  0%|          | 0/1 [00:00<?, ?it/s]"
     ]
    },
    {
     "name": "stdout",
     "output_type": "stream",
     "text": [
      "Uploading: ages\n"
     ]
    },
    {
     "name": "stderr",
     "output_type": "stream",
     "text": [
      "\r",
      "100%|██████████| 1/1 [00:00<00:00,  5.58it/s]"
     ]
    },
    {
     "name": "stderr",
     "output_type": "stream",
     "text": [
      "\r",
      "100%|██████████| 1/1 [00:00<00:00,  5.54it/s]"
     ]
    },
    {
     "name": "stderr",
     "output_type": "stream",
     "text": [
      "\n"
     ]
    },
    {
     "data": {
      "text/html": [
       "<div class=\"alert-success\" style=\"padding:5px;\"><strong>SyftSuccess</strong>: Dataset uploaded to 'hello-syft-usa-server'. To see the datasets uploaded by a client on this node, use command `[your_client].datasets`</div><br />"
      ],
      "text/plain": [
       "<class 'syft.service.response.SyftSuccess'>: Dataset uploaded to 'hello-syft-usa-server'. To see the datasets uploaded by a client on this node, use command `[your_client].datasets`"
      ]
     },
     "execution_count": 5,
     "metadata": {},
     "output_type": "execute_result"
    }
   ],
   "source": [
    "dataset = sy.Dataset(name=\"usa-mock-data\",\n",
    "                     description=\"Dataset of ages\",\n",
    "                     asset_list=[\n",
    "                         sy.Asset(name=\"ages\",\n",
    "                               data=pd.DataFrame(\n",
    "                                   {\n",
    "                                   'Patient_ID': ['011', '015', '022', '034', '044'],\n",
    "                                   'Age': [40, 39, 35, 60, 25]\n",
    "                                   }\n",
    "                               ),\n",
    "                               mock=pd.DataFrame(\n",
    "                                   {\n",
    "                                   'Patient_ID': ['1', '2', '3', '4', '5'],\n",
    "                                   'Age': [50, 49, 45, 70, 35]\n",
    "                                   }\n",
    "                               ),\n",
    "                               mock_is_real=False)\n",
    "                     ]\n",
    "                    )\n",
    "root_domain_client.upload_dataset(dataset)"
   ]
  },
  {
   "cell_type": "markdown",
   "id": "4d693670",
   "metadata": {},
   "source": [
    "## Data Scientist - Part 1"
   ]
  },
  {
   "cell_type": "markdown",
   "id": "39e8cf23",
   "metadata": {},
   "source": [
    "### Load Mock Data"
   ]
  },
  {
   "cell_type": "markdown",
   "id": "d759a9e9",
   "metadata": {},
   "source": [
    "The data scientist can get access to the `Assets` uploaded by the `Data Owner`, and the mock version of the data"
   ]
  },
  {
   "cell_type": "code",
   "execution_count": 6,
   "id": "bb8a7385",
   "metadata": {
    "execution": {
     "iopub.execute_input": "2023-06-29T09:45:53.979562Z",
     "iopub.status.busy": "2023-06-29T09:45:53.979264Z",
     "iopub.status.idle": "2023-06-29T09:45:54.017718Z",
     "shell.execute_reply": "2023-06-29T09:45:54.016821Z"
    }
   },
   "outputs": [],
   "source": [
    "asset = ds_client.datasets[-1].assets[\"ages\"]"
   ]
  },
  {
   "cell_type": "code",
   "execution_count": 7,
   "id": "e33f6c68",
   "metadata": {
    "execution": {
     "iopub.execute_input": "2023-06-29T09:45:54.022205Z",
     "iopub.status.busy": "2023-06-29T09:45:54.021678Z",
     "iopub.status.idle": "2023-06-29T09:45:54.108126Z",
     "shell.execute_reply": "2023-06-29T09:45:54.107395Z"
    }
   },
   "outputs": [
    {
     "data": {
      "text/html": [
       "\n",
       "            <style>\n",
       "            \n",
       "/* cyrillic-ext */\n",
       "@font-face {\n",
       "  font-family: 'Open Sans';\n",
       "  font-style: normal;\n",
       "  font-weight: 300 800;\n",
       "  font-stretch: 100%;\n",
       "  src: url(https://fonts.gstatic.com/s/opensans/v35/memvYaGs126MiZpBA-UvWbX2vVnXBbObj2OVTSKmu0SC55K5gw.woff2) format('woff2');\n",
       "  unicode-range: U+0460-052F, U+1C80-1C88, U+20B4, U+2DE0-2DFF, U+A640-A69F, U+FE2E-FE2F;\n",
       "}\n",
       "/* cyrillic */\n",
       "@font-face {\n",
       "  font-family: 'Open Sans';\n",
       "  font-style: normal;\n",
       "  font-weight: 300 800;\n",
       "  font-stretch: 100%;\n",
       "  src: url(https://fonts.gstatic.com/s/opensans/v35/memvYaGs126MiZpBA-UvWbX2vVnXBbObj2OVTSumu0SC55K5gw.woff2) format('woff2');\n",
       "  unicode-range: U+0301, U+0400-045F, U+0490-0491, U+04B0-04B1, U+2116;\n",
       "}\n",
       "/* greek-ext */\n",
       "@font-face {\n",
       "  font-family: 'Open Sans';\n",
       "  font-style: normal;\n",
       "  font-weight: 300 800;\n",
       "  font-stretch: 100%;\n",
       "  src: url(https://fonts.gstatic.com/s/opensans/v35/memvYaGs126MiZpBA-UvWbX2vVnXBbObj2OVTSOmu0SC55K5gw.woff2) format('woff2');\n",
       "  unicode-range: U+1F00-1FFF;\n",
       "}\n",
       "/* greek */\n",
       "@font-face {\n",
       "  font-family: 'Open Sans';\n",
       "  font-style: normal;\n",
       "  font-weight: 300 800;\n",
       "  font-stretch: 100%;\n",
       "  src: url(https://fonts.gstatic.com/s/opensans/v35/memvYaGs126MiZpBA-UvWbX2vVnXBbObj2OVTSymu0SC55K5gw.woff2) format('woff2');\n",
       "  unicode-range: U+0370-03FF;\n",
       "}\n",
       "/* hebrew */\n",
       "@font-face {\n",
       "  font-family: 'Open Sans';\n",
       "  font-style: normal;\n",
       "  font-weight: 300 800;\n",
       "  font-stretch: 100%;\n",
       "  src: url(https://fonts.gstatic.com/s/opensans/v35/memvYaGs126MiZpBA-UvWbX2vVnXBbObj2OVTS2mu0SC55K5gw.woff2) format('woff2');\n",
       "  unicode-range: U+0590-05FF, U+200C-2010, U+20AA, U+25CC, U+FB1D-FB4F;\n",
       "}\n",
       "/* vietnamese */\n",
       "@font-face {\n",
       "  font-family: 'Open Sans';\n",
       "  font-style: normal;\n",
       "  font-weight: 300 800;\n",
       "  font-stretch: 100%;\n",
       "  src: url(https://fonts.gstatic.com/s/opensans/v35/memvYaGs126MiZpBA-UvWbX2vVnXBbObj2OVTSCmu0SC55K5gw.woff2) format('woff2');\n",
       "  unicode-range: U+0102-0103, U+0110-0111, U+0128-0129, U+0168-0169, U+01A0-01A1, U+01AF-01B0, U+0300-0301, U+0303-0304, U+0308-0309, U+0323, U+0329, U+1EA0-1EF9, U+20AB;\n",
       "}\n",
       "/* latin-ext */\n",
       "@font-face {\n",
       "  font-family: 'Open Sans';\n",
       "  font-style: normal;\n",
       "  font-weight: 300 800;\n",
       "  font-stretch: 100%;\n",
       "  src: url(https://fonts.gstatic.com/s/opensans/v35/memvYaGs126MiZpBA-UvWbX2vVnXBbObj2OVTSGmu0SC55K5gw.woff2) format('woff2');\n",
       "  unicode-range: U+0100-02AF, U+0304, U+0308, U+0329, U+1E00-1E9F, U+1EF2-1EFF, U+2020, U+20A0-20AB, U+20AD-20CF, U+2113, U+2C60-2C7F, U+A720-A7FF;\n",
       "}\n",
       "/* latin */\n",
       "@font-face {\n",
       "  font-family: 'Open Sans';\n",
       "  font-style: normal;\n",
       "  font-weight: 300 800;\n",
       "  font-stretch: 100%;\n",
       "  src: url(https://fonts.gstatic.com/s/opensans/v35/memvYaGs126MiZpBA-UvWbX2vVnXBbObj2OVTS-mu0SC55I.woff2) format('woff2');\n",
       "  unicode-range: U+0000-00FF, U+0131, U+0152-0153, U+02BB-02BC, U+02C6, U+02DA, U+02DC, U+0304, U+0308, U+0329, U+2000-206F, U+2074, U+20AC, U+2122, U+2191, U+2193, U+2212, U+2215, U+FEFF, U+FFFD;\n",
       "}\n",
       "\n",
       "            .syft-asset {color: #464158;}\n",
       "            .syft-asset h3,\n",
       "            .syft-asset p\n",
       "              {font-family: 'Open Sans'}\n",
       "            .itables {font-family: 'Consolas', monospace, sans-serif;}\n",
       "            </style>\n",
       "\n",
       "            <div class=\"syft-asset\">\n",
       "            <h3>ages</h3>\n",
       "            <p>None</p>\n",
       "            <p><strong>Asset ID: </strong>577260263ed94f7ebf0f15d61e735972</p>\n",
       "            <p><strong>Action Object ID: </strong>0ff73044d11d4622a45aeaaa43a7ce03</p>\n",
       "            n/a\n",
       "            <p><strong>Created on: </strong>2023-06-29 09:45:53</p>\n",
       "            <p><strong>Data:</strong></p>\n",
       "            None\n",
       "            <p><strong>Mock Data:</strong></p>\n",
       "            <style>\n",
       "        .itables table {\n",
       "            margin: 0 auto;\n",
       "            float: left;\n",
       "            color: #534F64;\n",
       "        }\n",
       "        .itables table th {color: #2E2B3B;}\n",
       "        </style>\n",
       "<div class=\"itables\">\n",
       "<table id=\"6dbd9cfc-6297-468c-a535-efed420b8307\" class=\"display nowrap\"style=\"table-layout:auto;width:auto;margin:auto;caption-side:bottom\"><thead>\n",
       "    <tr style=\"text-align: right;\">\n",
       "      \n",
       "      <th>Patient_ID</th>\n",
       "      <th>Age</th>\n",
       "    </tr>\n",
       "  </thead><tbody><tr><td>Loading... (need <a href=https://mwouts.github.io/itables/troubleshooting.html>help</a>?)</td></tr></tbody></table>\n",
       "<link rel=\"stylesheet\" type=\"text/css\" href=\"https://cdn.datatables.net/1.13.1/css/jquery.dataTables.min.css\">\n",
       "<script type=\"module\">\n",
       "    // Import jquery and DataTable\n",
       "    import 'https://code.jquery.com/jquery-3.6.0.min.js';\n",
       "    import dt from 'https://cdn.datatables.net/1.12.1/js/jquery.dataTables.mjs';\n",
       "    dt($);\n",
       "\n",
       "    // Define the table data\n",
       "    const data = [[\"1\", 50], [\"2\", 49], [\"3\", 45], [\"4\", 70], [\"5\", 35]];\n",
       "\n",
       "    // Define the dt_args\n",
       "    let dt_args = {\"order\": [], \"dom\": \"t\"};\n",
       "    dt_args[\"data\"] = data;\n",
       "\n",
       "    $(document).ready(function () {\n",
       "        \n",
       "        $('#6dbd9cfc-6297-468c-a535-efed420b8307').DataTable(dt_args);\n",
       "    });\n",
       "</script>\n",
       "</div>\n",
       "\n",
       "            </div>"
      ],
      "text/markdown": [
       "```python\n",
       "Asset: ages\n",
       "Pointer Id: 0ff73044d11d4622a45aeaaa43a7ce03\n",
       "Description: None\n",
       "Total Data Subjects: 0\n",
       "Shape: (5, 2)\n",
       "Contributors: 0\n",
       "\n",
       "```"
      ],
      "text/plain": [
       "syft.service.dataset.dataset.Asset"
      ]
     },
     "execution_count": 7,
     "metadata": {},
     "output_type": "execute_result"
    }
   ],
   "source": [
    "asset"
   ]
  },
  {
   "cell_type": "code",
   "execution_count": 8,
   "id": "497c5e6c",
   "metadata": {
    "execution": {
     "iopub.execute_input": "2023-06-29T09:45:54.113936Z",
     "iopub.status.busy": "2023-06-29T09:45:54.111160Z",
     "iopub.status.idle": "2023-06-29T09:45:54.151261Z",
     "shell.execute_reply": "2023-06-29T09:45:54.150370Z"
    }
   },
   "outputs": [
    {
     "data": {
      "text/html": [
       "<div>\n",
       "<style scoped>\n",
       "    .dataframe tbody tr th:only-of-type {\n",
       "        vertical-align: middle;\n",
       "    }\n",
       "\n",
       "    .dataframe tbody tr th {\n",
       "        vertical-align: top;\n",
       "    }\n",
       "\n",
       "    .dataframe thead th {\n",
       "        text-align: right;\n",
       "    }\n",
       "</style>\n",
       "<table border=\"1\" class=\"dataframe\">\n",
       "  <thead>\n",
       "    <tr style=\"text-align: right;\">\n",
       "      <th></th>\n",
       "      <th>Patient_ID</th>\n",
       "      <th>Age</th>\n",
       "    </tr>\n",
       "  </thead>\n",
       "  <tbody>\n",
       "    <tr>\n",
       "      <th>0</th>\n",
       "      <td>1</td>\n",
       "      <td>50</td>\n",
       "    </tr>\n",
       "    <tr>\n",
       "      <th>1</th>\n",
       "      <td>2</td>\n",
       "      <td>49</td>\n",
       "    </tr>\n",
       "    <tr>\n",
       "      <th>2</th>\n",
       "      <td>3</td>\n",
       "      <td>45</td>\n",
       "    </tr>\n",
       "    <tr>\n",
       "      <th>3</th>\n",
       "      <td>4</td>\n",
       "      <td>70</td>\n",
       "    </tr>\n",
       "    <tr>\n",
       "      <th>4</th>\n",
       "      <td>5</td>\n",
       "      <td>35</td>\n",
       "    </tr>\n",
       "  </tbody>\n",
       "</table>\n",
       "</div>"
      ],
      "text/plain": [
       "  Patient_ID  Age\n",
       "0          1   50\n",
       "1          2   49\n",
       "2          3   45\n",
       "3          4   70\n",
       "4          5   35"
      ]
     },
     "execution_count": 8,
     "metadata": {},
     "output_type": "execute_result"
    }
   ],
   "source": [
    "mock = asset.mock\n",
    "mock"
   ]
  },
  {
   "cell_type": "markdown",
   "id": "5e13b83b",
   "metadata": {},
   "source": [
    "### Write Query on Mock Data"
   ]
  },
  {
   "cell_type": "markdown",
   "id": "9dfe6fcb",
   "metadata": {},
   "source": [
    "We can use the mock to develop against"
   ]
  },
  {
   "cell_type": "code",
   "execution_count": 9,
   "id": "773792a9",
   "metadata": {
    "execution": {
     "iopub.execute_input": "2023-06-29T09:45:54.154586Z",
     "iopub.status.busy": "2023-06-29T09:45:54.154113Z",
     "iopub.status.idle": "2023-06-29T09:45:54.160888Z",
     "shell.execute_reply": "2023-06-29T09:45:54.160138Z"
    }
   },
   "outputs": [
    {
     "name": "stdout",
     "output_type": "stream",
     "text": [
      "49.8\n"
     ]
    }
   ],
   "source": [
    "age_sum = mock['Age'].mean()\n",
    "print(age_sum)"
   ]
  },
  {
   "cell_type": "markdown",
   "id": "f0cc0f99",
   "metadata": {},
   "source": [
    "When we are done, we wrap the code into a function decorated with a `syft_function`, in this case the most simple version, `syft_function_single_use`. Read more about syft_functions in the data scientist tutorials."
   ]
  },
  {
   "cell_type": "code",
   "execution_count": 10,
   "id": "e93eb518",
   "metadata": {
    "execution": {
     "iopub.execute_input": "2023-06-29T09:45:54.164165Z",
     "iopub.status.busy": "2023-06-29T09:45:54.163737Z",
     "iopub.status.idle": "2023-06-29T09:45:54.195153Z",
     "shell.execute_reply": "2023-06-29T09:45:54.194130Z"
    }
   },
   "outputs": [
    {
     "name": "stdout",
     "output_type": "stream",
     "text": [
      "Syft function 'get_mean_age' successfully created. To add a code request, please create a project using `project = syft.Project(...)`, then use command `project.create_code_request`.\n"
     ]
    }
   ],
   "source": [
    "@sy.syft_function_single_use(data=asset)\n",
    "def get_mean_age(df):\n",
    "    return df['Age'].mean()"
   ]
  },
  {
   "cell_type": "markdown",
   "id": "be807ff9",
   "metadata": {},
   "source": [
    "### Submit Code Request for Review"
   ]
  },
  {
   "cell_type": "code",
   "execution_count": 11,
   "id": "d93b5e50",
   "metadata": {
    "execution": {
     "iopub.execute_input": "2023-06-29T09:45:54.199027Z",
     "iopub.status.busy": "2023-06-29T09:45:54.198386Z",
     "iopub.status.idle": "2023-06-29T09:45:55.453414Z",
     "shell.execute_reply": "2023-06-29T09:45:55.452611Z"
    }
   },
   "outputs": [
    {
     "data": {
      "text/html": [
       "\n",
       "            <style>\n",
       "            .syft-request {color: #464158;}\n",
       "            </style>\n",
       "            <div class='syft-request'>\n",
       "                <h3>Request</h3>\n",
       "                <p><strong>Id: </strong>76ad8952ac034ab18280f82e1caab4b8</p>\n",
       "                <p><strong>Request time: </strong>2023-06-29 09:45:54</p>\n",
       "                \n",
       "                <p><strong>Changes: </strong> Request to change <b>get_mean_age</b> to permission <b>RequestStatus.APPROVED</b>. </p>\n",
       "                <p><strong>Status: </strong>RequestStatus.PENDING</p>\n",
       "            </div>\n",
       "            "
      ],
      "text/markdown": [
       "```python\n",
       "class Request:\n",
       "  id: str = 76ad8952ac034ab18280f82e1caab4b8\n",
       "  request_time: str = 2023-06-29 09:45:54\n",
       "  updated_at: str = None\n",
       "  status: str = RequestStatus.PENDING\n",
       "  changes: str = ['Request to change <b>get_mean_age</b> to permission <b>RequestStatus.APPROVED</b>']\n",
       "  requesting_user_verify_key: str = 3e6a499515373e1cedcb7f6a7d8a10838c54b0e559ddeaede683eeb8b16fe434\n",
       "\n",
       "```"
      ],
      "text/plain": [
       "syft.service.request.request.Request"
      ]
     },
     "execution_count": 11,
     "metadata": {},
     "output_type": "execute_result"
    }
   ],
   "source": [
    "req = ds_client.code.request_code_execution(get_mean_age)\n",
    "req"
   ]
  },
  {
   "cell_type": "markdown",
   "id": "01cb6ded",
   "metadata": {},
   "source": [
    "The code request is successfully submitted!"
   ]
  },
  {
   "cell_type": "markdown",
   "id": "ecfa2d90",
   "metadata": {},
   "source": [
    "## Data Owner - Part 2\n",
    "\n",
    "### Get Requests"
   ]
  },
  {
   "cell_type": "markdown",
   "id": "9dc41a09",
   "metadata": {},
   "source": [
    "As a data owner, we can now view and approve the request"
   ]
  },
  {
   "cell_type": "code",
   "execution_count": 12,
   "id": "5c043bbe",
   "metadata": {
    "execution": {
     "iopub.execute_input": "2023-06-29T09:45:55.457282Z",
     "iopub.status.busy": "2023-06-29T09:45:55.456764Z",
     "iopub.status.idle": "2023-06-29T09:45:55.503702Z",
     "shell.execute_reply": "2023-06-29T09:45:55.502933Z"
    }
   },
   "outputs": [
    {
     "data": {
      "text/html": [
       "\n",
       "<style>\n",
       "  .header-1 {\n",
       "        font-style: normal;\n",
       "        font-weight: 600;\n",
       "        font-size: 2.0736em;\n",
       "        line-height: 100%;\n",
       "        leading-trim: both;\n",
       "        text-edge: cap;\n",
       "        color: #17161D;\n",
       "    }\n",
       "\n",
       "  .header-2 {\n",
       "        font-style: normal;\n",
       "        font-weight: 600;\n",
       "        font-size: 1.728em;\n",
       "        line-height: 100%;\n",
       "        leading-trim: both;\n",
       "        text-edge: cap;\n",
       "        color: #17161D;\n",
       "    }\n",
       "\n",
       "  .header-3 {\n",
       "        font-style: normal;\n",
       "        font-weight: 600;\n",
       "        font-size:  1.44em;\n",
       "        line-height: 100%;\n",
       "        leading-trim: both;\n",
       "        text-edge: cap;\n",
       "        color: #17161D;\n",
       "    }\n",
       "\n",
       "  .header-4 {\n",
       "        font-style: normal;\n",
       "        font-weight: 600;\n",
       "        font-size: 1.2em;\n",
       "        line-height: 100%;\n",
       "        leading-trim: both;\n",
       "        text-edge: cap;\n",
       "        color: #17161D;\n",
       "    }\n",
       "\n",
       "    .paragraph {\n",
       "        font-style: normal;\n",
       "        font-weight: 400;\n",
       "        font-size: 14px;\n",
       "        line-height: 100%;\n",
       "        leading-trim: both;\n",
       "        text-edge: cap;\n",
       "        color: #2E2B3B;\n",
       "    }\n",
       "\n",
       "    .paragraph-sm {\n",
       "        font-family: 'Roboto';\n",
       "        font-style: normal;\n",
       "        font-weight: 400;\n",
       "        font-size: 11.62px;\n",
       "        line-height: 100%;\n",
       "        leading-trim: both;\n",
       "        text-edge: cap;\n",
       "        color: #2E2B3B;\n",
       "    }\n",
       "    .code-text {\n",
       "        font-family: 'Consolas';\n",
       "        font-style: normal;\n",
       "        font-weight: 400;\n",
       "        font-size: 13px;\n",
       "        line-height: 130%;\n",
       "        leading-trim: both;\n",
       "        text-edge: cap;\n",
       "        color: #2E2B3B;\n",
       "    }\n",
       "\n",
       "    .numbering-entry { display: none }\n",
       "\n",
       "    /* Tooltip container */\n",
       "    .tooltip {\n",
       "        position: relative;\n",
       "        display: inline-block;\n",
       "        border-bottom: 1px dotted black; /* If you want dots under the hoverable text */\n",
       "    }\n",
       "\n",
       "    /* Tooltip text */\n",
       "    .tooltip .tooltiptext {\n",
       "        visibility: hidden;\n",
       "        width: 120px;\n",
       "        background-color: black;\n",
       "        color: #fff;\n",
       "        text-align: center;\n",
       "        padding: 5px 0;\n",
       "        border-radius: 6px;\n",
       "\n",
       "        /* Position the tooltip text - see examples below! */\n",
       "        position: absolute;\n",
       "        z-index: 1;\n",
       "    }\n",
       "\n",
       "    .repr-cell {\n",
       "      padding-top: 20px;\n",
       "    }\n",
       "\n",
       "    .text-bold {\n",
       "        font-weight: bold;\n",
       "    }\n",
       "\n",
       "    .pr-8 {\n",
       "        padding-right: 8px;\n",
       "    }\n",
       "    .pt-8 {\n",
       "        padding-top: 8px;\n",
       "    }\n",
       "    .pl-8 {\n",
       "        padding-left: 8px;\n",
       "    }\n",
       "    .pb-8 {\n",
       "        padding-bottom: 8px;\n",
       "    }\n",
       "\n",
       "    .py-25{\n",
       "        padding-top: 25px;\n",
       "        padding-bottom: 25px;\n",
       "    }\n",
       "\n",
       "    .flex {\n",
       "        display: flex;\n",
       "    }\n",
       "\n",
       "    .gap-10 {\n",
       "        gap: 10px;\n",
       "    }\n",
       "    .items-center{\n",
       "        align-items: center;\n",
       "    }\n",
       "\n",
       "    .search-input{\n",
       "        display: flex;\n",
       "        flex-direction: row;\n",
       "        align-items: center;\n",
       "        padding: 8px 12px;\n",
       "        width: 343px;\n",
       "        height: 24px;\n",
       "        /* Lt On Surface/Low */\n",
       "        background: #F1F0F4;\n",
       "        border-radius: 30px;\n",
       "\n",
       "        /* Lt On Surface/Highest */\n",
       "        color: #B4B0BF;\n",
       "        border:none;\n",
       "        /* Inside auto layout */\n",
       "        flex: none;\n",
       "        order: 0;\n",
       "        flex-grow: 0;\n",
       "    }\n",
       "    .search-input:focus {\n",
       "        outline: none;\n",
       "    }\n",
       "\n",
       "    .search-button{\n",
       "        /* Search */\n",
       "        leading-trim: both;\n",
       "        text-edge: cap;\n",
       "        display: flex;\n",
       "        align-items: center;\n",
       "        text-align: center;\n",
       "\n",
       "        /* Primary/On Light */\n",
       "        color: #464A91;\n",
       "\n",
       "        border-radius: 30px;\n",
       "        border-color: #464A91;\n",
       "        /* Inside auto layout */\n",
       "        flex: none;\n",
       "        order: 1;\n",
       "        flex-grow: 0;\n",
       "    }\n",
       "\n",
       "    .grid-table44d48c48a240400c87347703cbbea20c {\n",
       "        display:grid;\n",
       "        grid-template-columns: 1fr repeat(24, 1fr);\n",
       "        grid-template-rows: repeat(2, 1fr);\n",
       "        overflow-x: auto;\n",
       "    }\n",
       "\n",
       "    .grid-std-cells {\n",
       "        grid-column: span 4;\n",
       "\n",
       "    }\n",
       "    .grid-index-cells {\n",
       "        grid-column: span 1;\n",
       "        background: #ECEBEF;\n",
       "        /* tmp fix to make left col stand out (fix with font-family) */\n",
       "        font-weight: 600;\n",
       "    }\n",
       "\n",
       "    .grid-header {\n",
       "        /* Auto layout */\n",
       "        display: flex;\n",
       "        flex-direction: column;\n",
       "        align-items: flex-start;\n",
       "        padding: 6px 4px;\n",
       "\n",
       "        /* Lt On Surface/Surface */\n",
       "        background: #ECEBEF;\n",
       "        /* Lt On Surface/High */\n",
       "        border: 1px solid #CFCDD6;\n",
       "        color: #2E2B3B;\n",
       "        /* tmp fix to make header stand out (fix with font-family) */\n",
       "        font-weight: 600;\n",
       "    }\n",
       "\n",
       "    .grid-row {\n",
       "        color: #5E5A72;\n",
       "        display: flex;\n",
       "        flex-direction: column;\n",
       "        align-items: flex-start;\n",
       "        padding: 6px 4px;\n",
       "        overflow: hidden;\n",
       "        border: 1px solid #CFCDD6;\n",
       "    }\n",
       "\n",
       "    .badge {\n",
       "        code-text;\n",
       "        border-radius: 30px;\n",
       "    }\n",
       "\n",
       "    .badge-blue {\n",
       "        badge;\n",
       "        background-color: #C2DEF0;\n",
       "        color: #1F567A;\n",
       "    }\n",
       "\n",
       "    .badge-purple {\n",
       "        badge;\n",
       "        background-color: #C9CFE8;\n",
       "        color: #373B7B;\n",
       "    }\n",
       "\n",
       "    .badge-green {\n",
       "        badge;\n",
       "\n",
       "        /* Success/Container */\n",
       "        background-color: #D5F1D5;\n",
       "        color: #256B24;\n",
       "    }\n",
       "\n",
       "    .badge-red {\n",
       "        badge;\n",
       "        background-color: #F2D9DE;\n",
       "        color: #9B2737;\n",
       "    }\n",
       "\n",
       "    .badge-gray {\n",
       "        badge;\n",
       "        background-color: #ECEBEF;\n",
       "        color: #2E2B3B;\n",
       "    }\n",
       "    .paginationContainer{\n",
       "        width: 100%;\n",
       "        height: 30px;\n",
       "        display: flex;\n",
       "        justify-content: center;\n",
       "        gap: 8px;\n",
       "        padding: 5px;\n",
       "    }\n",
       "\n",
       "    .page{\n",
       "        color: black;\n",
       "        font-weight: bold;\n",
       "    }\n",
       "    .page:hover {\n",
       "      color: #38bdf8;\n",
       "      cursor: pointer;\n",
       "    }\n",
       "    .clipboard:hover{\n",
       "        cursor: pointer;\n",
       "    }\n",
       "\n",
       "    .search-field {\n",
       "        display: flex;\n",
       "        align-items: center;\n",
       "        background: #F1F0F4;\n",
       "        border-radius: 30px;\n",
       "    }\n",
       "\n",
       "    .syft-dropdown {\n",
       "        margin: 5px;\n",
       "        margin-left: 5px;\n",
       "        position: relative;\n",
       "        display: inline-block;\n",
       "        text-align: center;\n",
       "        background-color: #d1d5db;\n",
       "        min-width: 100px;\n",
       "        padding: 2px;\n",
       "        border-radius: 30px;\n",
       "    }\n",
       "\n",
       "    .syft-dropdown:hover {\n",
       "        cursor: pointer;\n",
       "    }\n",
       "    .syft-dropdown-content {\n",
       "        margin-top:26px;\n",
       "        display: none;\n",
       "        position: absolute;\n",
       "        background-color: #f9f9f9;\n",
       "        min-width: 100px;\n",
       "        box-shadow: 0px 8px 16px 0px rgba(0,0,0,0.2);\n",
       "        padding: 12px 6px;\n",
       "        z-index: 1;\n",
       "    }\n",
       "    .dd-options {\n",
       "        padding-top: 4px;\n",
       "    }\n",
       "    .dd-options:first-of-type {\n",
       "        padding-top: 0px;\n",
       "    }\n",
       "\n",
       "    .dd-options:hover {\n",
       "        cursor: pointer;\n",
       "        background: #d1d5db;\n",
       "    }\n",
       "    .arrow {\n",
       "        border: solid black;\n",
       "        border-width: 0 3px 3px 0;\n",
       "        display: inline-block;\n",
       "        padding: 3px;\n",
       "    }\n",
       "    .down {\n",
       "        transform: rotate(45deg);\n",
       "        -webkit-transform: rotate(45deg);\n",
       "    }\n",
       "</style>\n",
       "\n",
       "\n",
       "    <div style='margin-top:15px;'>\n",
       "        <div class='flex gap-10' style='align-items: center;'>\n",
       "            <div><svg width=\"32\"  height=\"32\" viewBox=\"0 0 12 12\" fill=\"none\" xmlns=\"http://www.w3.org/2000/svg\"><path d=\"M11 0H1C0.734784 0 0.48043 0.105357 0.292893 0.292893C0.105357 0.48043 0 0.734784 0 1V11C0 11.2652 0.105357 11.5196 0.292893 11.7071C0.48043 11.8946 0.734784 12 1 12H11C11.2652 12 11.5196 11.8946 11.7071 11.7071C11.8946 11.5196 12 11.2652 12 11V1C12 0.734784 11.8946 0.48043 11.7071 0.292893C11.5196 0.105357 11.2652 0 11 0ZM11 1V7.5H9.20625C9.07499 7.49966 8.94496 7.5254 8.82372 7.57572C8.70248 7.62604 8.59245 7.69994 8.5 7.79313L7.29313 9H4.70687L3.5 7.79313C3.40748 7.69986 3.29734 7.62592 3.17599 7.5756C3.05464 7.52528 2.9245 7.49958 2.79313 7.5H1V1H11ZM11 11H1V8.5H2.79313L4 9.70687C4.09252 9.80014 4.20266 9.87408 4.32401 9.9244C4.44536 9.97472 4.5755 10.0004 4.70687 10H7.29313C7.4245 10.0004 7.55464 9.97472 7.67599 9.9244C7.79734 9.87408 7.90748 9.80014 8 9.70687L9.20687 8.5H11V11Z\" fill=\"#343330\"/></svg></div>\n",
       "            <div><p class='header-3'>Request List</p></div>\n",
       "        </div>\n",
       "\n",
       "            <div style=\"padding-top: 16px; display:flex;justify-content: space-between; align-items: center;\">\n",
       "                <div class='pt-25 gap-10' style=\"display:flex;\">\n",
       "                    <div class=\"search-field\">\n",
       "                        <div id='search-menu44d48c48a240400c87347703cbbea20c' class=\"syft-dropdown\" onclick=\"{\n",
       "                            let doc = document.getElementById('search-dropdown-content44d48c48a240400c87347703cbbea20c')\n",
       "                            if (doc.style.display === 'block'){\n",
       "                                doc.style.display = 'none'\n",
       "                            } else {\n",
       "                                doc.style.display = 'block'\n",
       "                            }\n",
       "                            }\">\n",
       "                            <div id='search-dropdown-content44d48c48a240400c87347703cbbea20c' class='syft-dropdown-content'></div>\n",
       "                            <script>\n",
       "                                var element44d48c48a240400c87347703cbbea20c = [{\"id\": {\"value\": \"76ad8952ac034ab18280f82e1caab4b8\", \"type\": \"clipboard\"}, \"changes\": \"Request to change <b>get_mean_age</b> to permission <b>RequestStatus.APPROVED</b>\", \"request time\": \"2023-06-29 09:45:54\", \"status\": {\"value\": \"Pending\", \"type\": \"badge-gray\"}, \"requesting user\": {\"value\": \"3e6a499515373e1cedcb7f6a7d8a10838c54b0e559ddeaede683eeb8b16fe434\", \"type\": \"clipboard\"}, \"reviewed_at\": \"None\"}]\n",
       "                                var page_size44d48c48a240400c87347703cbbea20c = 1\n",
       "                                var pageIndex44d48c48a240400c87347703cbbea20c = 1\n",
       "                                var paginatedElements44d48c48a240400c87347703cbbea20c = []\n",
       "                                var activeFilter44d48c48a240400c87347703cbbea20c;\n",
       "\n",
       "                                function buildDropDownMenu(elements){\n",
       "                                    let init_filter;\n",
       "                                    let menu = document.getElementById('search-dropdown-content44d48c48a240400c87347703cbbea20c')\n",
       "                                    if (elements.length > 0) {\n",
       "                                        let sample = elements[0]\n",
       "                                        for (const attr in sample) {\n",
       "                                            if (typeof init_filter === 'undefined'){\n",
       "                                                init_filter = attr;\n",
       "                                            }\n",
       "                                            let content = document.createElement('div');\n",
       "                                            content.onclick = function(event) {\n",
       "                                                event.stopPropagation()\n",
       "                                                document.getElementById('menu-active-filter44d48c48a240400c87347703cbbea20c').innerText = attr;\n",
       "                                                activeFilter44d48c48a240400c87347703cbbea20c = attr;\n",
       "                                                document.getElementById(\n",
       "                                                    'search-dropdown-content44d48c48a240400c87347703cbbea20c'\n",
       "                                                ).style.display= 'none';\n",
       "                                            }\n",
       "                                            content.classList.add(\"dd-options\");\n",
       "                                            content.innerText = attr;\n",
       "                                            menu.appendChild(content);\n",
       "                                        }\n",
       "                                    } else {\n",
       "                                        let init_filter = '---'\n",
       "                                    }\n",
       "                                    let dropdown_field = document.getElementById('search-menu44d48c48a240400c87347703cbbea20c')\n",
       "                                    let span = document.createElement('span')\n",
       "                                    span.setAttribute('id', 'menu-active-filter44d48c48a240400c87347703cbbea20c')\n",
       "                                    span.innerText = init_filter\n",
       "                                    activeFilter44d48c48a240400c87347703cbbea20c = init_filter;\n",
       "                                    dropdown_field.appendChild(span)\n",
       "                                }\n",
       "\n",
       "                                buildDropDownMenu(element44d48c48a240400c87347703cbbea20c)\n",
       "                            </script>\n",
       "                        </div>\n",
       "                        <input id='searchKey44d48c48a240400c87347703cbbea20c' class='search-input' placeholder='Enter search here ...'  />\n",
       "                    </div>\n",
       "                    <button class='search-button'  onclick=\"searchGrid44d48c48a240400c87347703cbbea20c(element44d48c48a240400c87347703cbbea20c)\">\n",
       "                        <svg width=\"11\" height=\"10\" viewBox=\"0 0 11 10\" fill=\"none\" xmlns=\"http://www.w3.org/2000/svg\"><path d=\"M10.5652 9.23467L8.21819 6.88811C8.89846 6.07141 9.23767 5.02389 9.16527 3.96345C9.09287 2.90302 8.61443 1.91132 7.82948 1.19466C7.04453 0.477995 6.01349 0.0915414 4.95087 0.115691C3.88824 0.139841 2.87583 0.572735 2.12425 1.32432C1.37266 2.0759 0.939768 3.08831 0.915618 4.15094C0.891468 5.21357 1.27792 6.2446 1.99459 7.02955C2.71125 7.8145 3.70295 8.29294 4.76338 8.36535C5.82381 8.43775 6.87134 8.09853 7.68804 7.41827L10.0346 9.7653C10.0694 9.80014 10.1108 9.82778 10.1563 9.84663C10.2018 9.86549 10.2506 9.87519 10.2999 9.87519C10.3492 9.87519 10.398 9.86549 10.4435 9.84663C10.489 9.82778 10.5304 9.80014 10.5652 9.7653C10.6001 9.73046 10.6277 9.68909 10.6466 9.64357C10.6654 9.59805 10.6751 9.54926 10.6751 9.49998C10.6751 9.45071 10.6654 9.40192 10.6466 9.3564C10.6277 9.31088 10.6001 9.26951 10.5652 9.23467ZM1.67491 4.24998C1.67491 3.58247 1.87285 2.92995 2.2437 2.37493C2.61455 1.81992 3.14165 1.38734 3.75835 1.13189C4.37506 0.876446 5.05366 0.809609 5.70834 0.939835C6.36303 1.07006 6.96439 1.3915 7.4364 1.8635C7.9084 2.3355 8.22984 2.93687 8.36006 3.59155C8.49029 4.24624 8.42345 4.92484 8.168 5.54154C7.91256 6.15824 7.47998 6.68535 6.92496 7.05619C6.36995 7.42704 5.71742 7.62498 5.04991 7.62498C4.15511 7.62399 3.29724 7.26809 2.66452 6.63537C2.0318 6.00265 1.6759 5.14479 1.67491 4.24998Z\" fill=\"#464A91\"/></svg>\n",
       "                        <span class='pl-8'>Search</span>\n",
       "                    </button>\n",
       "                </div>\n",
       "\n",
       "                <div><h4 id='total44d48c48a240400c87347703cbbea20c'>0</h4></div>\n",
       "            </div>\n",
       "            <div id='table44d48c48a240400c87347703cbbea20c' class='grid-table44d48c48a240400c87347703cbbea20c' style='margin-top: 25px;'>\n",
       "                <script>\n",
       "                    function paginate44d48c48a240400c87347703cbbea20c(arr, size) {\n",
       "                        const res = [];\n",
       "                        for (let i = 0; i < arr.length; i += size) {\n",
       "                            const chunk = arr.slice(i, i + size);\n",
       "                            res.push(chunk);\n",
       "                        }\n",
       "\n",
       "                        return res;\n",
       "                    }\n",
       "\n",
       "                    function searchGrid44d48c48a240400c87347703cbbea20c(elements){\n",
       "                        let searchKey = document.getElementById('searchKey44d48c48a240400c87347703cbbea20c').value\n",
       "                        console.log(\"Search Key: \", searchKey)\n",
       "                        let result;\n",
       "                        if (searchKey === ''){\n",
       "                            result = elements;\n",
       "                        } else {\n",
       "                            result = elements.filter((element) => {\n",
       "                                let property = element[activeFilter44d48c48a240400c87347703cbbea20c]\n",
       "                                if (typeof property === 'object' && property !== null){\n",
       "                                    return property.value.toLowerCase().includes(searchKey.toLowerCase());\n",
       "                                } else if (typeof property === 'string' ) {\n",
       "                                    return element[activeFilter44d48c48a240400c87347703cbbea20c].toLowerCase().includes(searchKey.toLowerCase());\n",
       "                                } else if (property !== null ) {\n",
       "                                    return element[activeFilter44d48c48a240400c87347703cbbea20c].toString() === searchKey;\n",
       "                                } else {\n",
       "                                    return element[activeFilter44d48c48a240400c87347703cbbea20c] === searchKey;\n",
       "                                }\n",
       "                            } );\n",
       "                        }\n",
       "                        resetById44d48c48a240400c87347703cbbea20c('table44d48c48a240400c87347703cbbea20c');\n",
       "                        resetById44d48c48a240400c87347703cbbea20c('pag44d48c48a240400c87347703cbbea20c');\n",
       "                        result = paginate44d48c48a240400c87347703cbbea20c(result, page_size44d48c48a240400c87347703cbbea20c)\n",
       "                        buildGrid44d48c48a240400c87347703cbbea20c(result,pageIndex44d48c48a240400c87347703cbbea20c);\n",
       "                        buildPaginationContainer44d48c48a240400c87347703cbbea20c(result);\n",
       "                    }\n",
       "\n",
       "                    function resetById44d48c48a240400c87347703cbbea20c(id){\n",
       "                        let element = document.getElementById(id);\n",
       "                        while (element.firstChild) {\n",
       "                          element.removeChild(element.firstChild);\n",
       "                        }\n",
       "                    }\n",
       "\n",
       "                    function buildGrid44d48c48a240400c87347703cbbea20c(items, pageIndex){\n",
       "                                let headers = Object.keys(element44d48c48a240400c87347703cbbea20c[0]);\n",
       "\n",
       "                                let grid = document.getElementById(\"table44d48c48a240400c87347703cbbea20c\");\n",
       "                                let div = document.createElement(\"div\");\n",
       "                                div.classList.add('grid-header', 'grid-index-cells');\n",
       "                                grid.appendChild(div);\n",
       "                                headers.forEach((title) =>{\n",
       "                                    let div = document.createElement(\"div\");\n",
       "                                    div.classList.add('grid-header', 'grid-std-cells');\n",
       "                                    div.innerText = title;\n",
       "\n",
       "                                    grid.appendChild(div);\n",
       "                                });\n",
       "\n",
       "                                let page = items[pageIndex -1]\n",
       "                                if (page !== 'undefine'){\n",
       "                                    let table_index44d48c48a240400c87347703cbbea20c = ((pageIndex - 1) * page_size44d48c48a240400c87347703cbbea20c)\n",
       "                                    page.forEach((item) => {\n",
       "                                        let grid = document.getElementById(\"table44d48c48a240400c87347703cbbea20c\");\n",
       "                                        // Add new index value in index cells\n",
       "                                        let divIndex = document.createElement(\"div\");\n",
       "                                        divIndex.classList.add('grid-row', 'grid-index-cells');\n",
       "                                        divIndex.innerText = table_index44d48c48a240400c87347703cbbea20c;\n",
       "                                        grid.appendChild(divIndex);\n",
       "\n",
       "                                        // Iterate over the actual obj\n",
       "                                        for (const attr in item) {\n",
       "                                            let div = document.createElement(\"div\");\n",
       "                                            if (typeof item[attr] === 'object'\n",
       "                                                && item[attr] !== null\n",
       "                                                && item[attr].hasOwnProperty('type')) {\n",
       "                                                if (item[attr].type.includes('badge')){\n",
       "                                                    let badge_div = document.createElement(\"div\");\n",
       "                                                    badge_div.classList.add('badge',item[attr].type)\n",
       "                                                    badge_div.innerText = String(item[attr].value).toUpperCase();\n",
       "                                                    div.appendChild(badge_div);\n",
       "                                                    div.classList.add('grid-row','grid-std-cells');\n",
       "                                                } else if (item[attr].type === \"clipboard\") {\n",
       "                                                    div.classList.add('grid-row','grid-std-cells');\n",
       "\n",
       "                                                    // Create clipboard div\n",
       "                                                    let clipboard_div = document.createElement('div');\n",
       "                                                    clipboard_div.style.display= 'flex';\n",
       "                                                    clipboard_div.classList.add(\"gap-10\")\n",
       "                                                    clipboard_div.style.justifyContent = \"space-between\";\n",
       "\n",
       "                                                    let id_text = document.createElement('div');\n",
       "                                                    if (item[attr].value == \"None\"){\n",
       "                                                        id_text.innerText = \"None\";\n",
       "                                                    }\n",
       "                                                    else{\n",
       "                                                        id_text.innerText = item[attr].value.slice(0,5) + \"...\";\n",
       "                                                    }\n",
       "\n",
       "                                                    clipboard_div.appendChild(id_text);\n",
       "                                                    let clipboard_img = document.createElement('div');\n",
       "                                                    clipboard_img.classList.add(\"clipboard\")\n",
       "                                                    div.onclick = function() {\n",
       "                                                        navigator.clipboard.writeText(item[attr].value);\n",
       "                                                    };\n",
       "                                                    clipboard_img.innerHTML = \"<svg width='8' height='8' viewBox='0 0 8 8' fill='none' xmlns='http://www.w3.org/2000/svg'><path d='M7.4375 0.25H2.4375C2.35462 0.25 2.27513 0.282924 2.21653 0.341529C2.15792 0.400134 2.125 0.47962 2.125 0.5625V2.125H0.5625C0.47962 2.125 0.400134 2.15792 0.341529 2.21653C0.282924 2.27513 0.25 2.35462 0.25 2.4375V7.4375C0.25 7.52038 0.282924 7.59987 0.341529 7.65847C0.400134 7.71708 0.47962 7.75 0.5625 7.75H5.5625C5.64538 7.75 5.72487 7.71708 5.78347 7.65847C5.84208 7.59987 5.875 7.52038 5.875 7.4375V5.875H7.4375C7.52038 5.875 7.59987 5.84208 7.65847 5.78347C7.71708 5.72487 7.75 5.64538 7.75 5.5625V0.5625C7.75 0.47962 7.71708 0.400134 7.65847 0.341529C7.59987 0.282924 7.52038 0.25 7.4375 0.25ZM5.25 7.125H0.875V2.75H5.25V7.125ZM7.125 5.25H5.875V2.4375C5.875 2.35462 5.84208 2.27513 5.78347 2.21653C5.72487 2.15792 5.64538 2.125 5.5625 2.125H2.75V0.875H7.125V5.25Z' fill='#464158'/></svg>\";\n",
       "\n",
       "                                                    clipboard_div.appendChild(clipboard_img);\n",
       "                                                    div.appendChild(clipboard_div);\n",
       "                                                }\n",
       "                                            } else{\n",
       "                                                div.classList.add('grid-row','grid-std-cells');\n",
       "                                                if (item[attr] == null) {\n",
       "                                                    text = ' '\n",
       "                                                } else {\n",
       "                                                    text = String(item[attr])\n",
       "                                                }\n",
       "                                                if (text.length > 150){\n",
       "                                                    text = text.slice(0,150) + \"...\";\n",
       "                                                }\n",
       "                                                text = text.replaceAll(\"\\n\", \"</br>\");\n",
       "                                                div.innerHTML = text;\n",
       "                                            }\n",
       "                                            grid.appendChild(div);\n",
       "                                        }\n",
       "                                    table_index44d48c48a240400c87347703cbbea20c = table_index44d48c48a240400c87347703cbbea20c + 1;\n",
       "                                    })\n",
       "                                }\n",
       "                    }\n",
       "                    paginatedElements44d48c48a240400c87347703cbbea20c = paginate44d48c48a240400c87347703cbbea20c(element44d48c48a240400c87347703cbbea20c, page_size44d48c48a240400c87347703cbbea20c)\n",
       "                    buildGrid44d48c48a240400c87347703cbbea20c(paginatedElements44d48c48a240400c87347703cbbea20c, 1)\n",
       "                    document.getElementById('total44d48c48a240400c87347703cbbea20c').innerText = \"Total: \" + element44d48c48a240400c87347703cbbea20c.length\n",
       "                </script>\n",
       "            </div>\n",
       "            <div id='pag44d48c48a240400c87347703cbbea20c' class='paginationContainer'>\n",
       "                <script>\n",
       "                    function buildPaginationContainer44d48c48a240400c87347703cbbea20c(paginatedElements){\n",
       "                            let pageContainer = document.getElementById(\"pag44d48c48a240400c87347703cbbea20c\");\n",
       "                            for (let i = 0; i < paginatedElements.length; i++) {\n",
       "                                  let div = document.createElement(\"div\");\n",
       "                                  div.classList.add('page');\n",
       "                                  div.style.color = 'gray';\n",
       "                                  div.onclick = function(event) {\n",
       "                                      let indexes = document.getElementsByClassName('page');\n",
       "                                      for (let index of indexes) { index.style.color = 'gray' }\n",
       "                                      event.target.style.color = \"black\"\n",
       "                                      setPage44d48c48a240400c87347703cbbea20c(i + 1);\n",
       "                                  };\n",
       "                                  div.innerText = i + 1;\n",
       "                                  pageContainer.appendChild(div);\n",
       "                            }\n",
       "                    }\n",
       "\n",
       "                    function setPage44d48c48a240400c87347703cbbea20c(newPage){\n",
       "                        pageIndex = newPage\n",
       "                        resetById44d48c48a240400c87347703cbbea20c('table44d48c48a240400c87347703cbbea20c')\n",
       "                        buildGrid44d48c48a240400c87347703cbbea20c(paginatedElements44d48c48a240400c87347703cbbea20c, pageIndex)\n",
       "                    }\n",
       "\n",
       "                    buildPaginationContainer44d48c48a240400c87347703cbbea20c(paginatedElements44d48c48a240400c87347703cbbea20c)\n",
       "                </script>\n",
       "            </div>\n",
       "        </div>\n",
       "    </div>\n",
       "    </div>\n"
      ],
      "text/plain": [
       "<syft.client.api.APIModule at 0x7fb21c7f8fd0>"
      ]
     },
     "execution_count": 12,
     "metadata": {},
     "output_type": "execute_result"
    }
   ],
   "source": [
    "root_domain_client.requests"
   ]
  },
  {
   "cell_type": "code",
   "execution_count": 13,
   "id": "70c82062",
   "metadata": {
    "execution": {
     "iopub.execute_input": "2023-06-29T09:45:55.506722Z",
     "iopub.status.busy": "2023-06-29T09:45:55.506249Z",
     "iopub.status.idle": "2023-06-29T09:45:55.524793Z",
     "shell.execute_reply": "2023-06-29T09:45:55.523938Z"
    }
   },
   "outputs": [],
   "source": [
    "request = root_domain_client.requests[0]"
   ]
  },
  {
   "cell_type": "code",
   "execution_count": 14,
   "id": "3c3225f3",
   "metadata": {
    "execution": {
     "iopub.execute_input": "2023-06-29T09:45:55.528276Z",
     "iopub.status.busy": "2023-06-29T09:45:55.527882Z",
     "iopub.status.idle": "2023-06-29T09:45:55.533328Z",
     "shell.execute_reply": "2023-06-29T09:45:55.532626Z"
    }
   },
   "outputs": [],
   "source": [
    "str_changes = []\n",
    "for change in request.changes:\n",
    "    if change.id in request.current_change_state:\n",
    "        print(\"A\")\n",
    "        str_change = (\n",
    "            change.__repr_syft_nested__()\n",
    "            if hasattr(change, \"__repr_syft_nested__\")\n",
    "            else type(change)\n",
    "        )\n",
    "        str_change = f\"{str_change}. \"\n",
    "        str_changes.append(str_change)\n",
    "str_changes = \"\\n\".join(str_changes)"
   ]
  },
  {
   "cell_type": "markdown",
   "id": "f4b0b5bf",
   "metadata": {},
   "source": [
    "### Review Code and Policies"
   ]
  },
  {
   "cell_type": "markdown",
   "id": "53100ac6",
   "metadata": {},
   "source": [
    "Before we approve, we want to inspect the code and the policies"
   ]
  },
  {
   "cell_type": "code",
   "execution_count": 15,
   "id": "8ad30a0a",
   "metadata": {
    "execution": {
     "iopub.execute_input": "2023-06-29T09:45:55.536312Z",
     "iopub.status.busy": "2023-06-29T09:45:55.535857Z",
     "iopub.status.idle": "2023-06-29T09:45:55.556525Z",
     "shell.execute_reply": "2023-06-29T09:45:55.555744Z"
    }
   },
   "outputs": [],
   "source": [
    "usercode = request.code"
   ]
  },
  {
   "cell_type": "code",
   "execution_count": 16,
   "id": "ec0dd412",
   "metadata": {
    "execution": {
     "iopub.execute_input": "2023-06-29T09:45:55.559860Z",
     "iopub.status.busy": "2023-06-29T09:45:55.559377Z",
     "iopub.status.idle": "2023-06-29T09:45:55.565944Z",
     "shell.execute_reply": "2023-06-29T09:45:55.565258Z"
    }
   },
   "outputs": [
    {
     "data": {
      "text/markdown": [
       "```python\n",
       "class UserCode\n",
       "    id: str = 46d111b1bd4c45ab90a701787d93ed2e\n",
       "    status.approved: str = False\n",
       "    service_func_name: str = get_mean_age\n",
       "    code:\n",
       "\n",
       "@sy.syft_function_single_use(data=asset)\n",
       "def get_mean_age(df):\n",
       "    return df['Age'].mean()\n",
       "\n",
       "```"
      ],
      "text/plain": [
       "syft.service.code.user_code.UserCode"
      ]
     },
     "execution_count": 16,
     "metadata": {},
     "output_type": "execute_result"
    }
   ],
   "source": [
    "usercode"
   ]
  },
  {
   "cell_type": "markdown",
   "id": "0812e596",
   "metadata": {},
   "source": [
    "### Execute function on real data"
   ]
  },
  {
   "cell_type": "markdown",
   "id": "f8b8623f",
   "metadata": {},
   "source": [
    "Now that we have seen the code we can run it"
   ]
  },
  {
   "cell_type": "code",
   "execution_count": 17,
   "id": "74a20522",
   "metadata": {
    "execution": {
     "iopub.execute_input": "2023-06-29T09:45:55.568744Z",
     "iopub.status.busy": "2023-06-29T09:45:55.568284Z",
     "iopub.status.idle": "2023-06-29T09:45:55.572558Z",
     "shell.execute_reply": "2023-06-29T09:45:55.571835Z"
    }
   },
   "outputs": [
    {
     "name": "stdout",
     "output_type": "stream",
     "text": [
      "WARNING: This code was submitted by a User and could be UNSAFE.\n"
     ]
    }
   ],
   "source": [
    "get_mean_age_user_function = usercode.unsafe_function"
   ]
  },
  {
   "cell_type": "code",
   "execution_count": 18,
   "id": "07157b5a",
   "metadata": {
    "execution": {
     "iopub.execute_input": "2023-06-29T09:45:55.575314Z",
     "iopub.status.busy": "2023-06-29T09:45:55.574940Z",
     "iopub.status.idle": "2023-06-29T09:45:55.639846Z",
     "shell.execute_reply": "2023-06-29T09:45:55.639048Z"
    }
   },
   "outputs": [
    {
     "name": "stdout",
     "output_type": "stream",
     "text": [
      "39.8\n"
     ]
    }
   ],
   "source": [
    "asset = usercode.assets[0]\n",
    "real_result = get_mean_age_user_function(df=asset)\n",
    "print(real_result)"
   ]
  },
  {
   "cell_type": "markdown",
   "id": "35a01174",
   "metadata": {},
   "source": [
    "### Share the real result with the Data Scientist"
   ]
  },
  {
   "cell_type": "code",
   "execution_count": 19,
   "id": "9198a318",
   "metadata": {
    "execution": {
     "iopub.execute_input": "2023-06-29T09:45:55.643018Z",
     "iopub.status.busy": "2023-06-29T09:45:55.642522Z",
     "iopub.status.idle": "2023-06-29T09:45:55.975972Z",
     "shell.execute_reply": "2023-06-29T09:45:55.975172Z"
    }
   },
   "outputs": [
    {
     "name": "stdout",
     "output_type": "stream",
     "text": [
      "message='Request 76ad8952ac034ab18280f82e1caab4b8 changes applied'\n"
     ]
    }
   ],
   "source": [
    "result = request.accept_by_depositing_result(real_result)\n",
    "print(result)\n",
    "assert isinstance(result, sy.SyftSuccess)"
   ]
  },
  {
   "cell_type": "markdown",
   "id": "6da244b6",
   "metadata": {},
   "source": [
    "## Data Scientist - Part 2\n",
    "\n",
    "### Fetch Real Result"
   ]
  },
  {
   "cell_type": "markdown",
   "id": "7ccbd886",
   "metadata": {},
   "source": [
    "As a Data scientist, we can now fetch the result"
   ]
  },
  {
   "cell_type": "code",
   "execution_count": 20,
   "id": "38301618",
   "metadata": {
    "execution": {
     "iopub.execute_input": "2023-06-29T09:45:55.979822Z",
     "iopub.status.busy": "2023-06-29T09:45:55.979384Z",
     "iopub.status.idle": "2023-06-29T09:45:56.000033Z",
     "shell.execute_reply": "2023-06-29T09:45:55.999284Z"
    }
   },
   "outputs": [],
   "source": [
    "asset = ds_client.datasets[0].assets[0]"
   ]
  },
  {
   "cell_type": "code",
   "execution_count": 21,
   "id": "93fe70e3",
   "metadata": {
    "execution": {
     "iopub.execute_input": "2023-06-29T09:45:56.003907Z",
     "iopub.status.busy": "2023-06-29T09:45:56.003427Z",
     "iopub.status.idle": "2023-06-29T09:45:56.026335Z",
     "shell.execute_reply": "2023-06-29T09:45:56.025533Z"
    }
   },
   "outputs": [
    {
     "data": {
      "text/plain": [
       "{NodeView(node_name='hello-syft-usa-server', verify_key=e5567bb8185ebb274c17ce8b423e955ae9e0ae2904da4fd8a4bea227e68bb26d): <UserCodeStatus.EXECUTE: 'execute'>}"
      ]
     },
     "execution_count": 21,
     "metadata": {},
     "output_type": "execute_result"
    }
   ],
   "source": [
    "ds_client.code[0].status"
   ]
  },
  {
   "cell_type": "code",
   "execution_count": 22,
   "id": "fd1cd7e1",
   "metadata": {
    "execution": {
     "iopub.execute_input": "2023-06-29T09:45:56.029290Z",
     "iopub.status.busy": "2023-06-29T09:45:56.028830Z",
     "iopub.status.idle": "2023-06-29T09:45:56.053318Z",
     "shell.execute_reply": "2023-06-29T09:45:56.052586Z"
    }
   },
   "outputs": [],
   "source": [
    "result_ptr = ds_client.code.get_mean_age(df=asset)"
   ]
  },
  {
   "cell_type": "code",
   "execution_count": 23,
   "id": "220d11e5",
   "metadata": {
    "execution": {
     "iopub.execute_input": "2023-06-29T09:45:56.056843Z",
     "iopub.status.busy": "2023-06-29T09:45:56.056359Z",
     "iopub.status.idle": "2023-06-29T09:45:56.074145Z",
     "shell.execute_reply": "2023-06-29T09:45:56.073350Z"
    }
   },
   "outputs": [
    {
     "name": "stdout",
     "output_type": "stream",
     "text": [
      "39.8\n"
     ]
    }
   ],
   "source": [
    "real_result = result_ptr.get()\n",
    "print(real_result)"
   ]
  },
  {
   "cell_type": "markdown",
   "id": "18f09ac1",
   "metadata": {},
   "source": [
    "**That's a success!! The external data scientist was able to know the average age of breast cancer patients in a USA regional hospital, without having to access or even look at the real data.**"
   ]
  },
  {
   "cell_type": "markdown",
   "id": "d98bd74a",
   "metadata": {},
   "source": [
    "Once you are done with this tutorial, you can safely shut down the servers as following,"
   ]
  },
  {
   "cell_type": "code",
   "execution_count": 24,
   "id": "834cc65e",
   "metadata": {
    "execution": {
     "iopub.execute_input": "2023-06-29T09:45:56.077091Z",
     "iopub.status.busy": "2023-06-29T09:45:56.076721Z",
     "iopub.status.idle": "2023-06-29T09:45:56.082733Z",
     "shell.execute_reply": "2023-06-29T09:45:56.081975Z"
    }
   },
   "outputs": [
    {
     "name": "stdout",
     "output_type": "stream",
     "text": [
      "Stopping hello-syft-usa-server\n"
     ]
    }
   ],
   "source": [
    "node.land()"
   ]
  },
  {
   "cell_type": "code",
   "execution_count": null,
   "id": "5ff8f283",
   "metadata": {},
   "outputs": [],
   "source": []
  }
 ],
 "metadata": {
  "kernelspec": {
   "display_name": "Python 3 (ipykernel)",
   "language": "python",
   "name": "python3"
  },
  "language_info": {
   "codemirror_mode": {
    "name": "ipython",
    "version": 3
   },
   "file_extension": ".py",
   "mimetype": "text/x-python",
   "name": "python",
   "nbconvert_exporter": "python",
   "pygments_lexer": "ipython3",
   "version": "3.11.4"
  },
  "toc": {
   "base_numbering": 1,
   "nav_menu": {},
   "number_sections": true,
   "sideBar": true,
   "skip_h1_title": false,
   "title_cell": "Table of Contents",
   "title_sidebar": "Contents",
   "toc_cell": false,
   "toc_position": {},
   "toc_section_display": true,
   "toc_window_display": true
  }
 },
 "nbformat": 4,
 "nbformat_minor": 5
}
