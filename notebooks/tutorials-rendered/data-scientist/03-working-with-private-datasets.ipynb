{
 "cells": [
  {
   "cell_type": "markdown",
   "id": "74e9bac8-531d-4c92-9305-3100ac5ed122",
   "metadata": {},
   "source": [
    "# Working with Private Datasets"
   ]
  },
  {
   "cell_type": "markdown",
   "id": "da45a6e8",
   "metadata": {},
   "source": [
    "## Install"
   ]
  },
  {
   "cell_type": "code",
   "execution_count": 1,
   "id": "8f2568d6",
   "metadata": {
    "execution": {
     "iopub.execute_input": "2023-06-29T09:45:00.590919Z",
     "iopub.status.busy": "2023-06-29T09:45:00.590620Z",
     "iopub.status.idle": "2023-06-29T09:45:00.597703Z",
     "shell.execute_reply": "2023-06-29T09:45:00.596975Z"
    }
   },
   "outputs": [],
   "source": [
    "SYFT_VERSION = \">=0.8.2.b0,<0.9\"\n",
    "package_string = f'\"syft{SYFT_VERSION}\"'\n",
    "# %pip install {package_string} -f https://whls.blob.core.windows.net/unstable/index.html"
   ]
  },
  {
   "cell_type": "code",
   "execution_count": 2,
   "id": "aaa21d60",
   "metadata": {
    "execution": {
     "iopub.execute_input": "2023-06-29T09:45:00.600737Z",
     "iopub.status.busy": "2023-06-29T09:45:00.600288Z",
     "iopub.status.idle": "2023-06-29T09:45:02.950924Z",
     "shell.execute_reply": "2023-06-29T09:45:02.950030Z"
    }
   },
   "outputs": [
    {
     "name": "stdout",
     "output_type": "stream",
     "text": [
      "✅ The installed version of syft==0.8.2b2 matches the requirement >=0.8.2b0 and the requirement <0.9\n"
     ]
    }
   ],
   "source": [
    "import syft as sy\n",
    "sy.requires(SYFT_VERSION)"
   ]
  },
  {
   "cell_type": "code",
   "execution_count": 3,
   "id": "600dbea7",
   "metadata": {
    "execution": {
     "iopub.execute_input": "2023-06-29T09:45:02.954661Z",
     "iopub.status.busy": "2023-06-29T09:45:02.953881Z",
     "iopub.status.idle": "2023-06-29T09:45:04.006120Z",
     "shell.execute_reply": "2023-06-29T09:45:04.005066Z"
    }
   },
   "outputs": [
    {
     "name": "stdout",
     "output_type": "stream",
     "text": [
      "Starting private-datasets-example-domain-1 server on 0.0.0.0:8062\n"
     ]
    },
    {
     "name": "stdout",
     "output_type": "stream",
     "text": [
      "Waiting for server to start Done.\n"
     ]
    }
   ],
   "source": [
    "node = sy.orchestra.launch(name=\"private-datasets-example-domain-1\", port=8062, reset=True)"
   ]
  },
  {
   "cell_type": "markdown",
   "id": "5045b434",
   "metadata": {},
   "source": [
    "## Setup"
   ]
  },
  {
   "cell_type": "markdown",
   "id": "5fd96820",
   "metadata": {},
   "source": [
    "For the purpose of this tutorial we are creating a very simple dataset, which is created and owner by the root client"
   ]
  },
  {
   "cell_type": "code",
   "execution_count": 4,
   "id": "8aaabf2b",
   "metadata": {
    "execution": {
     "iopub.execute_input": "2023-06-29T09:45:04.011848Z",
     "iopub.status.busy": "2023-06-29T09:45:04.010100Z",
     "iopub.status.idle": "2023-06-29T09:45:05.598471Z",
     "shell.execute_reply": "2023-06-29T09:45:05.597189Z"
    }
   },
   "outputs": [
    {
     "name": "stdout",
     "output_type": "stream",
     "text": [
      "Logged into private-datasets-example-domain-1 as <info@openmined.org>\n"
     ]
    }
   ],
   "source": [
    "root_client = node.login(email=\"info@openmined.org\", password=\"changethis\")"
   ]
  },
  {
   "cell_type": "code",
   "execution_count": 5,
   "id": "caaeec00",
   "metadata": {
    "execution": {
     "iopub.execute_input": "2023-06-29T09:45:05.602453Z",
     "iopub.status.busy": "2023-06-29T09:45:05.602012Z",
     "iopub.status.idle": "2023-06-29T09:45:05.607974Z",
     "shell.execute_reply": "2023-06-29T09:45:05.607118Z"
    }
   },
   "outputs": [],
   "source": [
    "import numpy as np"
   ]
  },
  {
   "cell_type": "code",
   "execution_count": 6,
   "id": "8f20f50b",
   "metadata": {
    "execution": {
     "iopub.execute_input": "2023-06-29T09:45:05.611233Z",
     "iopub.status.busy": "2023-06-29T09:45:05.610742Z",
     "iopub.status.idle": "2023-06-29T09:45:05.616045Z",
     "shell.execute_reply": "2023-06-29T09:45:05.615334Z"
    }
   },
   "outputs": [],
   "source": [
    "dataset = sy.Dataset(\n",
    "    name=\"my dataset\",\n",
    "    asset_list=[\n",
    "        sy.Asset(\n",
    "        name=\"my asset\",\n",
    "        data=np.array([1,2,3]),\n",
    "        mock=np.array([1,1,1])\n",
    "    )]\n",
    ")"
   ]
  },
  {
   "cell_type": "code",
   "execution_count": 7,
   "id": "6e150bd3",
   "metadata": {
    "execution": {
     "iopub.execute_input": "2023-06-29T09:45:05.619007Z",
     "iopub.status.busy": "2023-06-29T09:45:05.618455Z",
     "iopub.status.idle": "2023-06-29T09:45:05.752420Z",
     "shell.execute_reply": "2023-06-29T09:45:05.751668Z"
    }
   },
   "outputs": [
    {
     "name": "stderr",
     "output_type": "stream",
     "text": [
      "\r",
      "  0%|          | 0/1 [00:00<?, ?it/s]"
     ]
    },
    {
     "name": "stderr",
     "output_type": "stream",
     "text": [
      "\r",
      "100%|██████████| 1/1 [00:00<00:00, 14.98it/s]"
     ]
    },
    {
     "name": "stdout",
     "output_type": "stream",
     "text": [
      "Uploading: my asset\n"
     ]
    },
    {
     "name": "stderr",
     "output_type": "stream",
     "text": [
      "\n"
     ]
    },
    {
     "data": {
      "text/html": [
       "<div class=\"alert-success\" style=\"padding:5px;\"><strong>SyftSuccess</strong>: Dataset uploaded to 'private-datasets-example-domain-1'. To see the datasets uploaded by a client on this node, use command `[your_client].datasets`</div><br />"
      ],
      "text/plain": [
       "<class 'syft.service.response.SyftSuccess'>: Dataset uploaded to 'private-datasets-example-domain-1'. To see the datasets uploaded by a client on this node, use command `[your_client].datasets`"
      ]
     },
     "execution_count": 7,
     "metadata": {},
     "output_type": "execute_result"
    }
   ],
   "source": [
    "root_client.upload_dataset(dataset)"
   ]
  },
  {
   "cell_type": "code",
   "execution_count": 8,
   "id": "00e89292",
   "metadata": {
    "execution": {
     "iopub.execute_input": "2023-06-29T09:45:05.755600Z",
     "iopub.status.busy": "2023-06-29T09:45:05.754989Z",
     "iopub.status.idle": "2023-06-29T09:45:06.169469Z",
     "shell.execute_reply": "2023-06-29T09:45:06.168554Z"
    }
   },
   "outputs": [
    {
     "data": {
      "text/html": [
       "<div class=\"alert-success\" style=\"padding:5px;\"><strong>SyftSuccess</strong>: User 'Jane Doe' successfully registered! To see users, run `[your_client].users`</div><br />"
      ],
      "text/plain": [
       "<class 'syft.service.response.SyftSuccess'>: User 'Jane Doe' successfully registered! To see users, run `[your_client].users`"
      ]
     },
     "execution_count": 8,
     "metadata": {},
     "output_type": "execute_result"
    }
   ],
   "source": [
    "root_client.register(name=\"Jane Doe\", email=\"jane@caltech.edu\",\n",
    "                            password=\"abc123\", institution=\"Caltech\", website=\"https://www.caltech.edu/\")"
   ]
  },
  {
   "cell_type": "markdown",
   "id": "7af5a9fc-61ae-473a-9e41-6a176f05831d",
   "metadata": {},
   "source": [
    "## Mocks"
   ]
  },
  {
   "cell_type": "code",
   "execution_count": 9,
   "id": "7dec9ada",
   "metadata": {
    "execution": {
     "iopub.execute_input": "2023-06-29T09:45:06.174091Z",
     "iopub.status.busy": "2023-06-29T09:45:06.172619Z",
     "iopub.status.idle": "2023-06-29T09:45:07.656229Z",
     "shell.execute_reply": "2023-06-29T09:45:07.655397Z"
    }
   },
   "outputs": [
    {
     "name": "stdout",
     "output_type": "stream",
     "text": [
      "Logged into private-datasets-example-domain-1 as <jane@caltech.edu>\n"
     ]
    }
   ],
   "source": [
    "guest_client = node.client.login(email=\"jane@caltech.edu\", password=\"abc123\")"
   ]
  },
  {
   "cell_type": "markdown",
   "id": "f80caf06",
   "metadata": {},
   "source": [
    "Lets inspect the datasets from the data scientists perspective"
   ]
  },
  {
   "cell_type": "code",
   "execution_count": 10,
   "id": "58e87cfd",
   "metadata": {
    "execution": {
     "iopub.execute_input": "2023-06-29T09:45:07.659575Z",
     "iopub.status.busy": "2023-06-29T09:45:07.658968Z",
     "iopub.status.idle": "2023-06-29T09:45:07.719291Z",
     "shell.execute_reply": "2023-06-29T09:45:07.718312Z"
    }
   },
   "outputs": [
    {
     "data": {
      "text/html": [
       "\n",
       "<style>\n",
       "  .header-1 {\n",
       "        font-style: normal;\n",
       "        font-weight: 600;\n",
       "        font-size: 2.0736em;\n",
       "        line-height: 100%;\n",
       "        leading-trim: both;\n",
       "        text-edge: cap;\n",
       "        color: #17161D;\n",
       "    }\n",
       "\n",
       "  .header-2 {\n",
       "        font-style: normal;\n",
       "        font-weight: 600;\n",
       "        font-size: 1.728em;\n",
       "        line-height: 100%;\n",
       "        leading-trim: both;\n",
       "        text-edge: cap;\n",
       "        color: #17161D;\n",
       "    }\n",
       "\n",
       "  .header-3 {\n",
       "        font-style: normal;\n",
       "        font-weight: 600;\n",
       "        font-size:  1.44em;\n",
       "        line-height: 100%;\n",
       "        leading-trim: both;\n",
       "        text-edge: cap;\n",
       "        color: #17161D;\n",
       "    }\n",
       "\n",
       "  .header-4 {\n",
       "        font-style: normal;\n",
       "        font-weight: 600;\n",
       "        font-size: 1.2em;\n",
       "        line-height: 100%;\n",
       "        leading-trim: both;\n",
       "        text-edge: cap;\n",
       "        color: #17161D;\n",
       "    }\n",
       "\n",
       "    .paragraph {\n",
       "        font-style: normal;\n",
       "        font-weight: 400;\n",
       "        font-size: 14px;\n",
       "        line-height: 100%;\n",
       "        leading-trim: both;\n",
       "        text-edge: cap;\n",
       "        color: #2E2B3B;\n",
       "    }\n",
       "\n",
       "    .paragraph-sm {\n",
       "        font-family: 'Roboto';\n",
       "        font-style: normal;\n",
       "        font-weight: 400;\n",
       "        font-size: 11.62px;\n",
       "        line-height: 100%;\n",
       "        leading-trim: both;\n",
       "        text-edge: cap;\n",
       "        color: #2E2B3B;\n",
       "    }\n",
       "    .code-text {\n",
       "        font-family: 'Consolas';\n",
       "        font-style: normal;\n",
       "        font-weight: 400;\n",
       "        font-size: 13px;\n",
       "        line-height: 130%;\n",
       "        leading-trim: both;\n",
       "        text-edge: cap;\n",
       "        color: #2E2B3B;\n",
       "    }\n",
       "\n",
       "    .numbering-entry { display: none }\n",
       "\n",
       "    /* Tooltip container */\n",
       "    .tooltip {\n",
       "        position: relative;\n",
       "        display: inline-block;\n",
       "        border-bottom: 1px dotted black; /* If you want dots under the hoverable text */\n",
       "    }\n",
       "\n",
       "    /* Tooltip text */\n",
       "    .tooltip .tooltiptext {\n",
       "        visibility: hidden;\n",
       "        width: 120px;\n",
       "        background-color: black;\n",
       "        color: #fff;\n",
       "        text-align: center;\n",
       "        padding: 5px 0;\n",
       "        border-radius: 6px;\n",
       "\n",
       "        /* Position the tooltip text - see examples below! */\n",
       "        position: absolute;\n",
       "        z-index: 1;\n",
       "    }\n",
       "\n",
       "    .repr-cell {\n",
       "      padding-top: 20px;\n",
       "    }\n",
       "\n",
       "    .text-bold {\n",
       "        font-weight: bold;\n",
       "    }\n",
       "\n",
       "    .pr-8 {\n",
       "        padding-right: 8px;\n",
       "    }\n",
       "    .pt-8 {\n",
       "        padding-top: 8px;\n",
       "    }\n",
       "    .pl-8 {\n",
       "        padding-left: 8px;\n",
       "    }\n",
       "    .pb-8 {\n",
       "        padding-bottom: 8px;\n",
       "    }\n",
       "\n",
       "    .py-25{\n",
       "        padding-top: 25px;\n",
       "        padding-bottom: 25px;\n",
       "    }\n",
       "\n",
       "    .flex {\n",
       "        display: flex;\n",
       "    }\n",
       "\n",
       "    .gap-10 {\n",
       "        gap: 10px;\n",
       "    }\n",
       "    .items-center{\n",
       "        align-items: center;\n",
       "    }\n",
       "\n",
       "    .search-input{\n",
       "        display: flex;\n",
       "        flex-direction: row;\n",
       "        align-items: center;\n",
       "        padding: 8px 12px;\n",
       "        width: 343px;\n",
       "        height: 24px;\n",
       "        /* Lt On Surface/Low */\n",
       "        background: #F1F0F4;\n",
       "        border-radius: 30px;\n",
       "\n",
       "        /* Lt On Surface/Highest */\n",
       "        color: #B4B0BF;\n",
       "        border:none;\n",
       "        /* Inside auto layout */\n",
       "        flex: none;\n",
       "        order: 0;\n",
       "        flex-grow: 0;\n",
       "    }\n",
       "    .search-input:focus {\n",
       "        outline: none;\n",
       "    }\n",
       "\n",
       "    .search-button{\n",
       "        /* Search */\n",
       "        leading-trim: both;\n",
       "        text-edge: cap;\n",
       "        display: flex;\n",
       "        align-items: center;\n",
       "        text-align: center;\n",
       "\n",
       "        /* Primary/On Light */\n",
       "        color: #464A91;\n",
       "\n",
       "        border-radius: 30px;\n",
       "        border-color: #464A91;\n",
       "        /* Inside auto layout */\n",
       "        flex: none;\n",
       "        order: 1;\n",
       "        flex-grow: 0;\n",
       "    }\n",
       "\n",
       "    .grid-table4a042e54241e4a4a8b7aa93388d5cffa {\n",
       "        display:grid;\n",
       "        grid-template-columns: 1fr repeat(24, 1fr);\n",
       "        grid-template-rows: repeat(2, 1fr);\n",
       "        overflow-x: auto;\n",
       "    }\n",
       "\n",
       "    .grid-std-cells {\n",
       "        grid-column: span 4;\n",
       "\n",
       "    }\n",
       "    .grid-index-cells {\n",
       "        grid-column: span 1;\n",
       "        background: #ECEBEF;\n",
       "        /* tmp fix to make left col stand out (fix with font-family) */\n",
       "        font-weight: 600;\n",
       "    }\n",
       "\n",
       "    .grid-header {\n",
       "        /* Auto layout */\n",
       "        display: flex;\n",
       "        flex-direction: column;\n",
       "        align-items: flex-start;\n",
       "        padding: 6px 4px;\n",
       "\n",
       "        /* Lt On Surface/Surface */\n",
       "        background: #ECEBEF;\n",
       "        /* Lt On Surface/High */\n",
       "        border: 1px solid #CFCDD6;\n",
       "        color: #2E2B3B;\n",
       "        /* tmp fix to make header stand out (fix with font-family) */\n",
       "        font-weight: 600;\n",
       "    }\n",
       "\n",
       "    .grid-row {\n",
       "        color: #5E5A72;\n",
       "        display: flex;\n",
       "        flex-direction: column;\n",
       "        align-items: flex-start;\n",
       "        padding: 6px 4px;\n",
       "        overflow: hidden;\n",
       "        border: 1px solid #CFCDD6;\n",
       "    }\n",
       "\n",
       "    .badge {\n",
       "        code-text;\n",
       "        border-radius: 30px;\n",
       "    }\n",
       "\n",
       "    .badge-blue {\n",
       "        badge;\n",
       "        background-color: #C2DEF0;\n",
       "        color: #1F567A;\n",
       "    }\n",
       "\n",
       "    .badge-purple {\n",
       "        badge;\n",
       "        background-color: #C9CFE8;\n",
       "        color: #373B7B;\n",
       "    }\n",
       "\n",
       "    .badge-green {\n",
       "        badge;\n",
       "\n",
       "        /* Success/Container */\n",
       "        background-color: #D5F1D5;\n",
       "        color: #256B24;\n",
       "    }\n",
       "\n",
       "    .badge-red {\n",
       "        badge;\n",
       "        background-color: #F2D9DE;\n",
       "        color: #9B2737;\n",
       "    }\n",
       "\n",
       "    .badge-gray {\n",
       "        badge;\n",
       "        background-color: #ECEBEF;\n",
       "        color: #2E2B3B;\n",
       "    }\n",
       "    .paginationContainer{\n",
       "        width: 100%;\n",
       "        height: 30px;\n",
       "        display: flex;\n",
       "        justify-content: center;\n",
       "        gap: 8px;\n",
       "        padding: 5px;\n",
       "    }\n",
       "\n",
       "    .page{\n",
       "        color: black;\n",
       "        font-weight: bold;\n",
       "    }\n",
       "    .page:hover {\n",
       "      color: #38bdf8;\n",
       "      cursor: pointer;\n",
       "    }\n",
       "    .clipboard:hover{\n",
       "        cursor: pointer;\n",
       "    }\n",
       "\n",
       "    .search-field {\n",
       "        display: flex;\n",
       "        align-items: center;\n",
       "        background: #F1F0F4;\n",
       "        border-radius: 30px;\n",
       "    }\n",
       "\n",
       "    .syft-dropdown {\n",
       "        margin: 5px;\n",
       "        margin-left: 5px;\n",
       "        position: relative;\n",
       "        display: inline-block;\n",
       "        text-align: center;\n",
       "        background-color: #d1d5db;\n",
       "        min-width: 100px;\n",
       "        padding: 2px;\n",
       "        border-radius: 30px;\n",
       "    }\n",
       "\n",
       "    .syft-dropdown:hover {\n",
       "        cursor: pointer;\n",
       "    }\n",
       "    .syft-dropdown-content {\n",
       "        margin-top:26px;\n",
       "        display: none;\n",
       "        position: absolute;\n",
       "        background-color: #f9f9f9;\n",
       "        min-width: 100px;\n",
       "        box-shadow: 0px 8px 16px 0px rgba(0,0,0,0.2);\n",
       "        padding: 12px 6px;\n",
       "        z-index: 1;\n",
       "    }\n",
       "    .dd-options {\n",
       "        padding-top: 4px;\n",
       "    }\n",
       "    .dd-options:first-of-type {\n",
       "        padding-top: 0px;\n",
       "    }\n",
       "\n",
       "    .dd-options:hover {\n",
       "        cursor: pointer;\n",
       "        background: #d1d5db;\n",
       "    }\n",
       "    .arrow {\n",
       "        border: solid black;\n",
       "        border-width: 0 3px 3px 0;\n",
       "        display: inline-block;\n",
       "        padding: 3px;\n",
       "    }\n",
       "    .down {\n",
       "        transform: rotate(45deg);\n",
       "        -webkit-transform: rotate(45deg);\n",
       "    }\n",
       "</style>\n",
       "\n",
       "\n",
       "    <div style='margin-top:15px;'>\n",
       "        <div class='flex gap-10' style='align-items: center;'>\n",
       "            <div><svg width=\"32\"  height=\"32\" viewBox=\"0 0 14 12\" fill=\"none\" xmlns=\"http://www.w3.org/2000/svg\"><path d=\"M13 2H8.66687L6.93313 0.7C6.75978 0.57066 6.54941 0.500536 6.33313 0.5H3.5C3.23478 0.5 2.98043 0.605357 2.79289 0.792893C2.60536 0.98043 2.5 1.23478 2.5 1.5V2.5H1.5C1.23478 2.5 0.98043 2.60536 0.792893 2.79289C0.605357 2.98043 0.5 3.23478 0.5 3.5V10.5C0.5 10.7652 0.605357 11.0196 0.792893 11.2071C0.98043 11.3946 1.23478 11.5 1.5 11.5H11.0556C11.306 11.4997 11.546 11.4001 11.723 11.223C11.9001 11.046 11.9997 10.806 12 10.5556V9.5H13.0556C13.306 9.49967 13.546 9.40007 13.723 9.22303C13.9001 9.046 13.9997 8.80599 14 8.55562V3C14 2.73478 13.8946 2.48043 13.7071 2.29289C13.5196 2.10536 13.2652 2 13 2ZM11 10.5H1.5V3.5H4.33313L6.06687 4.8C6.24022 4.92934 6.45059 4.99946 6.66687 5H11V10.5ZM13 8.5H12V5C12 4.73478 11.8946 4.48043 11.7071 4.29289C11.5196 4.10536 11.2652 4 11 4H6.66687L4.93313 2.7C4.75978 2.57066 4.54941 2.50054 4.33313 2.5H3.5V1.5H6.33313L8.06688 2.8C8.24022 2.92934 8.45059 2.99946 8.66687 3H13V8.5Z\" fill=\"#343330\"/></svg></div>\n",
       "            <div><p class='header-3'>Dataset List</p></div>\n",
       "        </div>\n",
       "\n",
       "            <div style=\"padding-top: 16px; display:flex;justify-content: space-between; align-items: center;\">\n",
       "                <div class='pt-25 gap-10' style=\"display:flex;\">\n",
       "                    <div class=\"search-field\">\n",
       "                        <div id='search-menu4a042e54241e4a4a8b7aa93388d5cffa' class=\"syft-dropdown\" onclick=\"{\n",
       "                            let doc = document.getElementById('search-dropdown-content4a042e54241e4a4a8b7aa93388d5cffa')\n",
       "                            if (doc.style.display === 'block'){\n",
       "                                doc.style.display = 'none'\n",
       "                            } else {\n",
       "                                doc.style.display = 'block'\n",
       "                            }\n",
       "                            }\">\n",
       "                            <div id='search-dropdown-content4a042e54241e4a4a8b7aa93388d5cffa' class='syft-dropdown-content'></div>\n",
       "                            <script>\n",
       "                                var element4a042e54241e4a4a8b7aa93388d5cffa = [{\"id\": {\"value\": \"375d73bb7d43416ca05ec42da54976bc\", \"type\": \"clipboard\"}, \"Name\": \"my dataset\", \"Assets\": 1, \"Size\": \"0 (MB)\", \"Url\": null, \"created at\": \"2023-06-29 09:45:05\"}]\n",
       "                                var page_size4a042e54241e4a4a8b7aa93388d5cffa = 1\n",
       "                                var pageIndex4a042e54241e4a4a8b7aa93388d5cffa = 1\n",
       "                                var paginatedElements4a042e54241e4a4a8b7aa93388d5cffa = []\n",
       "                                var activeFilter4a042e54241e4a4a8b7aa93388d5cffa;\n",
       "\n",
       "                                function buildDropDownMenu(elements){\n",
       "                                    let init_filter;\n",
       "                                    let menu = document.getElementById('search-dropdown-content4a042e54241e4a4a8b7aa93388d5cffa')\n",
       "                                    if (elements.length > 0) {\n",
       "                                        let sample = elements[0]\n",
       "                                        for (const attr in sample) {\n",
       "                                            if (typeof init_filter === 'undefined'){\n",
       "                                                init_filter = attr;\n",
       "                                            }\n",
       "                                            let content = document.createElement('div');\n",
       "                                            content.onclick = function(event) {\n",
       "                                                event.stopPropagation()\n",
       "                                                document.getElementById('menu-active-filter4a042e54241e4a4a8b7aa93388d5cffa').innerText = attr;\n",
       "                                                activeFilter4a042e54241e4a4a8b7aa93388d5cffa = attr;\n",
       "                                                document.getElementById(\n",
       "                                                    'search-dropdown-content4a042e54241e4a4a8b7aa93388d5cffa'\n",
       "                                                ).style.display= 'none';\n",
       "                                            }\n",
       "                                            content.classList.add(\"dd-options\");\n",
       "                                            content.innerText = attr;\n",
       "                                            menu.appendChild(content);\n",
       "                                        }\n",
       "                                    } else {\n",
       "                                        let init_filter = '---'\n",
       "                                    }\n",
       "                                    let dropdown_field = document.getElementById('search-menu4a042e54241e4a4a8b7aa93388d5cffa')\n",
       "                                    let span = document.createElement('span')\n",
       "                                    span.setAttribute('id', 'menu-active-filter4a042e54241e4a4a8b7aa93388d5cffa')\n",
       "                                    span.innerText = init_filter\n",
       "                                    activeFilter4a042e54241e4a4a8b7aa93388d5cffa = init_filter;\n",
       "                                    dropdown_field.appendChild(span)\n",
       "                                }\n",
       "\n",
       "                                buildDropDownMenu(element4a042e54241e4a4a8b7aa93388d5cffa)\n",
       "                            </script>\n",
       "                        </div>\n",
       "                        <input id='searchKey4a042e54241e4a4a8b7aa93388d5cffa' class='search-input' placeholder='Enter search here ...'  />\n",
       "                    </div>\n",
       "                    <button class='search-button'  onclick=\"searchGrid4a042e54241e4a4a8b7aa93388d5cffa(element4a042e54241e4a4a8b7aa93388d5cffa)\">\n",
       "                        <svg width=\"11\" height=\"10\" viewBox=\"0 0 11 10\" fill=\"none\" xmlns=\"http://www.w3.org/2000/svg\"><path d=\"M10.5652 9.23467L8.21819 6.88811C8.89846 6.07141 9.23767 5.02389 9.16527 3.96345C9.09287 2.90302 8.61443 1.91132 7.82948 1.19466C7.04453 0.477995 6.01349 0.0915414 4.95087 0.115691C3.88824 0.139841 2.87583 0.572735 2.12425 1.32432C1.37266 2.0759 0.939768 3.08831 0.915618 4.15094C0.891468 5.21357 1.27792 6.2446 1.99459 7.02955C2.71125 7.8145 3.70295 8.29294 4.76338 8.36535C5.82381 8.43775 6.87134 8.09853 7.68804 7.41827L10.0346 9.7653C10.0694 9.80014 10.1108 9.82778 10.1563 9.84663C10.2018 9.86549 10.2506 9.87519 10.2999 9.87519C10.3492 9.87519 10.398 9.86549 10.4435 9.84663C10.489 9.82778 10.5304 9.80014 10.5652 9.7653C10.6001 9.73046 10.6277 9.68909 10.6466 9.64357C10.6654 9.59805 10.6751 9.54926 10.6751 9.49998C10.6751 9.45071 10.6654 9.40192 10.6466 9.3564C10.6277 9.31088 10.6001 9.26951 10.5652 9.23467ZM1.67491 4.24998C1.67491 3.58247 1.87285 2.92995 2.2437 2.37493C2.61455 1.81992 3.14165 1.38734 3.75835 1.13189C4.37506 0.876446 5.05366 0.809609 5.70834 0.939835C6.36303 1.07006 6.96439 1.3915 7.4364 1.8635C7.9084 2.3355 8.22984 2.93687 8.36006 3.59155C8.49029 4.24624 8.42345 4.92484 8.168 5.54154C7.91256 6.15824 7.47998 6.68535 6.92496 7.05619C6.36995 7.42704 5.71742 7.62498 5.04991 7.62498C4.15511 7.62399 3.29724 7.26809 2.66452 6.63537C2.0318 6.00265 1.6759 5.14479 1.67491 4.24998Z\" fill=\"#464A91\"/></svg>\n",
       "                        <span class='pl-8'>Search</span>\n",
       "                    </button>\n",
       "                </div>\n",
       "\n",
       "                <div><h4 id='total4a042e54241e4a4a8b7aa93388d5cffa'>0</h4></div>\n",
       "            </div>\n",
       "            <div id='table4a042e54241e4a4a8b7aa93388d5cffa' class='grid-table4a042e54241e4a4a8b7aa93388d5cffa' style='margin-top: 25px;'>\n",
       "                <script>\n",
       "                    function paginate4a042e54241e4a4a8b7aa93388d5cffa(arr, size) {\n",
       "                        const res = [];\n",
       "                        for (let i = 0; i < arr.length; i += size) {\n",
       "                            const chunk = arr.slice(i, i + size);\n",
       "                            res.push(chunk);\n",
       "                        }\n",
       "\n",
       "                        return res;\n",
       "                    }\n",
       "\n",
       "                    function searchGrid4a042e54241e4a4a8b7aa93388d5cffa(elements){\n",
       "                        let searchKey = document.getElementById('searchKey4a042e54241e4a4a8b7aa93388d5cffa').value\n",
       "                        console.log(\"Search Key: \", searchKey)\n",
       "                        let result;\n",
       "                        if (searchKey === ''){\n",
       "                            result = elements;\n",
       "                        } else {\n",
       "                            result = elements.filter((element) => {\n",
       "                                let property = element[activeFilter4a042e54241e4a4a8b7aa93388d5cffa]\n",
       "                                if (typeof property === 'object' && property !== null){\n",
       "                                    return property.value.toLowerCase().includes(searchKey.toLowerCase());\n",
       "                                } else if (typeof property === 'string' ) {\n",
       "                                    return element[activeFilter4a042e54241e4a4a8b7aa93388d5cffa].toLowerCase().includes(searchKey.toLowerCase());\n",
       "                                } else if (property !== null ) {\n",
       "                                    return element[activeFilter4a042e54241e4a4a8b7aa93388d5cffa].toString() === searchKey;\n",
       "                                } else {\n",
       "                                    return element[activeFilter4a042e54241e4a4a8b7aa93388d5cffa] === searchKey;\n",
       "                                }\n",
       "                            } );\n",
       "                        }\n",
       "                        resetById4a042e54241e4a4a8b7aa93388d5cffa('table4a042e54241e4a4a8b7aa93388d5cffa');\n",
       "                        resetById4a042e54241e4a4a8b7aa93388d5cffa('pag4a042e54241e4a4a8b7aa93388d5cffa');\n",
       "                        result = paginate4a042e54241e4a4a8b7aa93388d5cffa(result, page_size4a042e54241e4a4a8b7aa93388d5cffa)\n",
       "                        buildGrid4a042e54241e4a4a8b7aa93388d5cffa(result,pageIndex4a042e54241e4a4a8b7aa93388d5cffa);\n",
       "                        buildPaginationContainer4a042e54241e4a4a8b7aa93388d5cffa(result);\n",
       "                    }\n",
       "\n",
       "                    function resetById4a042e54241e4a4a8b7aa93388d5cffa(id){\n",
       "                        let element = document.getElementById(id);\n",
       "                        while (element.firstChild) {\n",
       "                          element.removeChild(element.firstChild);\n",
       "                        }\n",
       "                    }\n",
       "\n",
       "                    function buildGrid4a042e54241e4a4a8b7aa93388d5cffa(items, pageIndex){\n",
       "                                let headers = Object.keys(element4a042e54241e4a4a8b7aa93388d5cffa[0]);\n",
       "\n",
       "                                let grid = document.getElementById(\"table4a042e54241e4a4a8b7aa93388d5cffa\");\n",
       "                                let div = document.createElement(\"div\");\n",
       "                                div.classList.add('grid-header', 'grid-index-cells');\n",
       "                                grid.appendChild(div);\n",
       "                                headers.forEach((title) =>{\n",
       "                                    let div = document.createElement(\"div\");\n",
       "                                    div.classList.add('grid-header', 'grid-std-cells');\n",
       "                                    div.innerText = title;\n",
       "\n",
       "                                    grid.appendChild(div);\n",
       "                                });\n",
       "\n",
       "                                let page = items[pageIndex -1]\n",
       "                                if (page !== 'undefine'){\n",
       "                                    let table_index4a042e54241e4a4a8b7aa93388d5cffa = ((pageIndex - 1) * page_size4a042e54241e4a4a8b7aa93388d5cffa)\n",
       "                                    page.forEach((item) => {\n",
       "                                        let grid = document.getElementById(\"table4a042e54241e4a4a8b7aa93388d5cffa\");\n",
       "                                        // Add new index value in index cells\n",
       "                                        let divIndex = document.createElement(\"div\");\n",
       "                                        divIndex.classList.add('grid-row', 'grid-index-cells');\n",
       "                                        divIndex.innerText = table_index4a042e54241e4a4a8b7aa93388d5cffa;\n",
       "                                        grid.appendChild(divIndex);\n",
       "\n",
       "                                        // Iterate over the actual obj\n",
       "                                        for (const attr in item) {\n",
       "                                            let div = document.createElement(\"div\");\n",
       "                                            if (typeof item[attr] === 'object'\n",
       "                                                && item[attr] !== null\n",
       "                                                && item[attr].hasOwnProperty('type')) {\n",
       "                                                if (item[attr].type.includes('badge')){\n",
       "                                                    let badge_div = document.createElement(\"div\");\n",
       "                                                    badge_div.classList.add('badge',item[attr].type)\n",
       "                                                    badge_div.innerText = String(item[attr].value).toUpperCase();\n",
       "                                                    div.appendChild(badge_div);\n",
       "                                                    div.classList.add('grid-row','grid-std-cells');\n",
       "                                                } else if (item[attr].type === \"clipboard\") {\n",
       "                                                    div.classList.add('grid-row','grid-std-cells');\n",
       "\n",
       "                                                    // Create clipboard div\n",
       "                                                    let clipboard_div = document.createElement('div');\n",
       "                                                    clipboard_div.style.display= 'flex';\n",
       "                                                    clipboard_div.classList.add(\"gap-10\")\n",
       "                                                    clipboard_div.style.justifyContent = \"space-between\";\n",
       "\n",
       "                                                    let id_text = document.createElement('div');\n",
       "                                                    if (item[attr].value == \"None\"){\n",
       "                                                        id_text.innerText = \"None\";\n",
       "                                                    }\n",
       "                                                    else{\n",
       "                                                        id_text.innerText = item[attr].value.slice(0,5) + \"...\";\n",
       "                                                    }\n",
       "\n",
       "                                                    clipboard_div.appendChild(id_text);\n",
       "                                                    let clipboard_img = document.createElement('div');\n",
       "                                                    clipboard_img.classList.add(\"clipboard\")\n",
       "                                                    div.onclick = function() {\n",
       "                                                        navigator.clipboard.writeText(item[attr].value);\n",
       "                                                    };\n",
       "                                                    clipboard_img.innerHTML = \"<svg width='8' height='8' viewBox='0 0 8 8' fill='none' xmlns='http://www.w3.org/2000/svg'><path d='M7.4375 0.25H2.4375C2.35462 0.25 2.27513 0.282924 2.21653 0.341529C2.15792 0.400134 2.125 0.47962 2.125 0.5625V2.125H0.5625C0.47962 2.125 0.400134 2.15792 0.341529 2.21653C0.282924 2.27513 0.25 2.35462 0.25 2.4375V7.4375C0.25 7.52038 0.282924 7.59987 0.341529 7.65847C0.400134 7.71708 0.47962 7.75 0.5625 7.75H5.5625C5.64538 7.75 5.72487 7.71708 5.78347 7.65847C5.84208 7.59987 5.875 7.52038 5.875 7.4375V5.875H7.4375C7.52038 5.875 7.59987 5.84208 7.65847 5.78347C7.71708 5.72487 7.75 5.64538 7.75 5.5625V0.5625C7.75 0.47962 7.71708 0.400134 7.65847 0.341529C7.59987 0.282924 7.52038 0.25 7.4375 0.25ZM5.25 7.125H0.875V2.75H5.25V7.125ZM7.125 5.25H5.875V2.4375C5.875 2.35462 5.84208 2.27513 5.78347 2.21653C5.72487 2.15792 5.64538 2.125 5.5625 2.125H2.75V0.875H7.125V5.25Z' fill='#464158'/></svg>\";\n",
       "\n",
       "                                                    clipboard_div.appendChild(clipboard_img);\n",
       "                                                    div.appendChild(clipboard_div);\n",
       "                                                }\n",
       "                                            } else{\n",
       "                                                div.classList.add('grid-row','grid-std-cells');\n",
       "                                                if (item[attr] == null) {\n",
       "                                                    text = ' '\n",
       "                                                } else {\n",
       "                                                    text = String(item[attr])\n",
       "                                                }\n",
       "                                                if (text.length > 150){\n",
       "                                                    text = text.slice(0,150) + \"...\";\n",
       "                                                }\n",
       "                                                text = text.replaceAll(\"\\n\", \"</br>\");\n",
       "                                                div.innerHTML = text;\n",
       "                                            }\n",
       "                                            grid.appendChild(div);\n",
       "                                        }\n",
       "                                    table_index4a042e54241e4a4a8b7aa93388d5cffa = table_index4a042e54241e4a4a8b7aa93388d5cffa + 1;\n",
       "                                    })\n",
       "                                }\n",
       "                    }\n",
       "                    paginatedElements4a042e54241e4a4a8b7aa93388d5cffa = paginate4a042e54241e4a4a8b7aa93388d5cffa(element4a042e54241e4a4a8b7aa93388d5cffa, page_size4a042e54241e4a4a8b7aa93388d5cffa)\n",
       "                    buildGrid4a042e54241e4a4a8b7aa93388d5cffa(paginatedElements4a042e54241e4a4a8b7aa93388d5cffa, 1)\n",
       "                    document.getElementById('total4a042e54241e4a4a8b7aa93388d5cffa').innerText = \"Total: \" + element4a042e54241e4a4a8b7aa93388d5cffa.length\n",
       "                </script>\n",
       "            </div>\n",
       "            <div id='pag4a042e54241e4a4a8b7aa93388d5cffa' class='paginationContainer'>\n",
       "                <script>\n",
       "                    function buildPaginationContainer4a042e54241e4a4a8b7aa93388d5cffa(paginatedElements){\n",
       "                            let pageContainer = document.getElementById(\"pag4a042e54241e4a4a8b7aa93388d5cffa\");\n",
       "                            for (let i = 0; i < paginatedElements.length; i++) {\n",
       "                                  let div = document.createElement(\"div\");\n",
       "                                  div.classList.add('page');\n",
       "                                  div.style.color = 'gray';\n",
       "                                  div.onclick = function(event) {\n",
       "                                      let indexes = document.getElementsByClassName('page');\n",
       "                                      for (let index of indexes) { index.style.color = 'gray' }\n",
       "                                      event.target.style.color = \"black\"\n",
       "                                      setPage4a042e54241e4a4a8b7aa93388d5cffa(i + 1);\n",
       "                                  };\n",
       "                                  div.innerText = i + 1;\n",
       "                                  pageContainer.appendChild(div);\n",
       "                            }\n",
       "                    }\n",
       "\n",
       "                    function setPage4a042e54241e4a4a8b7aa93388d5cffa(newPage){\n",
       "                        pageIndex = newPage\n",
       "                        resetById4a042e54241e4a4a8b7aa93388d5cffa('table4a042e54241e4a4a8b7aa93388d5cffa')\n",
       "                        buildGrid4a042e54241e4a4a8b7aa93388d5cffa(paginatedElements4a042e54241e4a4a8b7aa93388d5cffa, pageIndex)\n",
       "                    }\n",
       "\n",
       "                    buildPaginationContainer4a042e54241e4a4a8b7aa93388d5cffa(paginatedElements4a042e54241e4a4a8b7aa93388d5cffa)\n",
       "                </script>\n",
       "            </div>\n",
       "        </div>\n",
       "    </div>\n",
       "    </div>\n"
      ],
      "text/plain": [
       "<syft.client.api.APIModule at 0x7f8b58ea8a50>"
      ]
     },
     "execution_count": 10,
     "metadata": {},
     "output_type": "execute_result"
    }
   ],
   "source": [
    "datasets = guest_client.datasets\n",
    "datasets"
   ]
  },
  {
   "cell_type": "markdown",
   "id": "8480ecfe",
   "metadata": {},
   "source": [
    "Datasets have assets, in our case there is only 1 asset"
   ]
  },
  {
   "cell_type": "code",
   "execution_count": 11,
   "id": "c1a6669c",
   "metadata": {
    "execution": {
     "iopub.execute_input": "2023-06-29T09:45:07.722655Z",
     "iopub.status.busy": "2023-06-29T09:45:07.722282Z",
     "iopub.status.idle": "2023-06-29T09:45:07.797461Z",
     "shell.execute_reply": "2023-06-29T09:45:07.796597Z"
    }
   },
   "outputs": [
    {
     "data": {
      "text/html": [
       "\n",
       "            <style>\n",
       "            \n",
       "/* cyrillic-ext */\n",
       "@font-face {\n",
       "  font-family: 'Open Sans';\n",
       "  font-style: normal;\n",
       "  font-weight: 300 800;\n",
       "  font-stretch: 100%;\n",
       "  src: url(https://fonts.gstatic.com/s/opensans/v35/memvYaGs126MiZpBA-UvWbX2vVnXBbObj2OVTSKmu0SC55K5gw.woff2) format('woff2');\n",
       "  unicode-range: U+0460-052F, U+1C80-1C88, U+20B4, U+2DE0-2DFF, U+A640-A69F, U+FE2E-FE2F;\n",
       "}\n",
       "/* cyrillic */\n",
       "@font-face {\n",
       "  font-family: 'Open Sans';\n",
       "  font-style: normal;\n",
       "  font-weight: 300 800;\n",
       "  font-stretch: 100%;\n",
       "  src: url(https://fonts.gstatic.com/s/opensans/v35/memvYaGs126MiZpBA-UvWbX2vVnXBbObj2OVTSumu0SC55K5gw.woff2) format('woff2');\n",
       "  unicode-range: U+0301, U+0400-045F, U+0490-0491, U+04B0-04B1, U+2116;\n",
       "}\n",
       "/* greek-ext */\n",
       "@font-face {\n",
       "  font-family: 'Open Sans';\n",
       "  font-style: normal;\n",
       "  font-weight: 300 800;\n",
       "  font-stretch: 100%;\n",
       "  src: url(https://fonts.gstatic.com/s/opensans/v35/memvYaGs126MiZpBA-UvWbX2vVnXBbObj2OVTSOmu0SC55K5gw.woff2) format('woff2');\n",
       "  unicode-range: U+1F00-1FFF;\n",
       "}\n",
       "/* greek */\n",
       "@font-face {\n",
       "  font-family: 'Open Sans';\n",
       "  font-style: normal;\n",
       "  font-weight: 300 800;\n",
       "  font-stretch: 100%;\n",
       "  src: url(https://fonts.gstatic.com/s/opensans/v35/memvYaGs126MiZpBA-UvWbX2vVnXBbObj2OVTSymu0SC55K5gw.woff2) format('woff2');\n",
       "  unicode-range: U+0370-03FF;\n",
       "}\n",
       "/* hebrew */\n",
       "@font-face {\n",
       "  font-family: 'Open Sans';\n",
       "  font-style: normal;\n",
       "  font-weight: 300 800;\n",
       "  font-stretch: 100%;\n",
       "  src: url(https://fonts.gstatic.com/s/opensans/v35/memvYaGs126MiZpBA-UvWbX2vVnXBbObj2OVTS2mu0SC55K5gw.woff2) format('woff2');\n",
       "  unicode-range: U+0590-05FF, U+200C-2010, U+20AA, U+25CC, U+FB1D-FB4F;\n",
       "}\n",
       "/* vietnamese */\n",
       "@font-face {\n",
       "  font-family: 'Open Sans';\n",
       "  font-style: normal;\n",
       "  font-weight: 300 800;\n",
       "  font-stretch: 100%;\n",
       "  src: url(https://fonts.gstatic.com/s/opensans/v35/memvYaGs126MiZpBA-UvWbX2vVnXBbObj2OVTSCmu0SC55K5gw.woff2) format('woff2');\n",
       "  unicode-range: U+0102-0103, U+0110-0111, U+0128-0129, U+0168-0169, U+01A0-01A1, U+01AF-01B0, U+0300-0301, U+0303-0304, U+0308-0309, U+0323, U+0329, U+1EA0-1EF9, U+20AB;\n",
       "}\n",
       "/* latin-ext */\n",
       "@font-face {\n",
       "  font-family: 'Open Sans';\n",
       "  font-style: normal;\n",
       "  font-weight: 300 800;\n",
       "  font-stretch: 100%;\n",
       "  src: url(https://fonts.gstatic.com/s/opensans/v35/memvYaGs126MiZpBA-UvWbX2vVnXBbObj2OVTSGmu0SC55K5gw.woff2) format('woff2');\n",
       "  unicode-range: U+0100-02AF, U+0304, U+0308, U+0329, U+1E00-1E9F, U+1EF2-1EFF, U+2020, U+20A0-20AB, U+20AD-20CF, U+2113, U+2C60-2C7F, U+A720-A7FF;\n",
       "}\n",
       "/* latin */\n",
       "@font-face {\n",
       "  font-family: 'Open Sans';\n",
       "  font-style: normal;\n",
       "  font-weight: 300 800;\n",
       "  font-stretch: 100%;\n",
       "  src: url(https://fonts.gstatic.com/s/opensans/v35/memvYaGs126MiZpBA-UvWbX2vVnXBbObj2OVTS-mu0SC55I.woff2) format('woff2');\n",
       "  unicode-range: U+0000-00FF, U+0131, U+0152-0153, U+02BB-02BC, U+02C6, U+02DA, U+02DC, U+0304, U+0308, U+0329, U+2000-206F, U+2074, U+20AC, U+2122, U+2191, U+2193, U+2212, U+2215, U+FEFF, U+FFFD;\n",
       "}\n",
       "\n",
       "            .syft-asset {color: #464158;}\n",
       "            .syft-asset h3,\n",
       "            .syft-asset p\n",
       "              {font-family: 'Open Sans'}\n",
       "            .itables {font-family: 'Consolas', monospace, sans-serif;}\n",
       "            </style>\n",
       "\n",
       "            <div class=\"syft-asset\">\n",
       "            <h3>my asset</h3>\n",
       "            <p>None</p>\n",
       "            <p><strong>Asset ID: </strong>97e90665904646be9977f481e2091fbc</p>\n",
       "            <p><strong>Action Object ID: </strong>2d0d2c2e794043439d5f8347de79d952</p>\n",
       "            n/a\n",
       "            <p><strong>Created on: </strong>2023-06-29 09:45:05</p>\n",
       "            <p><strong>Data:</strong></p>\n",
       "            None\n",
       "            <p><strong>Mock Data:</strong></p>\n",
       "            <style>\n",
       "        .itables table {\n",
       "            margin: 0 auto;\n",
       "            float: left;\n",
       "            color: #534F64;\n",
       "        }\n",
       "        .itables table th {color: #2E2B3B;}\n",
       "        </style>\n",
       "<div class=\"itables\">\n",
       "<table id=\"2bb32c06-6a5d-43d4-a346-d8ccbc354c9e\" class=\"display nowrap\"style=\"table-layout:auto;width:auto;margin:auto;caption-side:bottom\"><thead>\n",
       "    <tr style=\"text-align: right;\">\n",
       "      \n",
       "      <th>0</th>\n",
       "    </tr>\n",
       "  </thead><tbody><tr><td>Loading... (need <a href=https://mwouts.github.io/itables/troubleshooting.html>help</a>?)</td></tr></tbody></table>\n",
       "<link rel=\"stylesheet\" type=\"text/css\" href=\"https://cdn.datatables.net/1.13.1/css/jquery.dataTables.min.css\">\n",
       "<script type=\"module\">\n",
       "    // Import jquery and DataTable\n",
       "    import 'https://code.jquery.com/jquery-3.6.0.min.js';\n",
       "    import dt from 'https://cdn.datatables.net/1.12.1/js/jquery.dataTables.mjs';\n",
       "    dt($);\n",
       "\n",
       "    // Define the table data\n",
       "    const data = [[1], [1], [1]];\n",
       "\n",
       "    // Define the dt_args\n",
       "    let dt_args = {\"order\": [], \"dom\": \"t\"};\n",
       "    dt_args[\"data\"] = data;\n",
       "\n",
       "    $(document).ready(function () {\n",
       "        \n",
       "        $('#2bb32c06-6a5d-43d4-a346-d8ccbc354c9e').DataTable(dt_args);\n",
       "    });\n",
       "</script>\n",
       "</div>\n",
       "\n",
       "            </div>"
      ],
      "text/markdown": [
       "```python\n",
       "Asset: my asset\n",
       "Pointer Id: 2d0d2c2e794043439d5f8347de79d952\n",
       "Description: None\n",
       "Total Data Subjects: 0\n",
       "Shape: (3,)\n",
       "Contributors: 0\n",
       "\n",
       "```"
      ],
      "text/plain": [
       "syft.service.dataset.dataset.Asset"
      ]
     },
     "execution_count": 11,
     "metadata": {},
     "output_type": "execute_result"
    }
   ],
   "source": [
    "asset = datasets[0].assets[0]\n",
    "asset"
   ]
  },
  {
   "cell_type": "markdown",
   "id": "c1931664",
   "metadata": {},
   "source": [
    "When you get a refence to an asset as a datascientist using Pysyft, you are almost never getting the real data. Often you will get a mock object instead, which is an object with the same type and characteristics (e.g. list size), but with fake data instead. In Pysyft, you can access the mock objects in 2 ways. The first method is to call `Asset.mock`"
   ]
  },
  {
   "cell_type": "code",
   "execution_count": 12,
   "id": "4bf41629",
   "metadata": {
    "execution": {
     "iopub.execute_input": "2023-06-29T09:45:07.800605Z",
     "iopub.status.busy": "2023-06-29T09:45:07.799946Z",
     "iopub.status.idle": "2023-06-29T09:45:07.818973Z",
     "shell.execute_reply": "2023-06-29T09:45:07.818262Z"
    }
   },
   "outputs": [],
   "source": [
    "mock = asset.mock"
   ]
  },
  {
   "cell_type": "markdown",
   "id": "c90b01fb",
   "metadata": {},
   "source": [
    "As we can see, the mock data is just a a native library type, and not a type created by PySyft"
   ]
  },
  {
   "cell_type": "code",
   "execution_count": 13,
   "id": "1546a1c5",
   "metadata": {
    "execution": {
     "iopub.execute_input": "2023-06-29T09:45:07.822344Z",
     "iopub.status.busy": "2023-06-29T09:45:07.821882Z",
     "iopub.status.idle": "2023-06-29T09:45:07.827569Z",
     "shell.execute_reply": "2023-06-29T09:45:07.826819Z"
    }
   },
   "outputs": [
    {
     "data": {
      "text/plain": [
       "(numpy.ndarray, array([1, 1, 1]))"
      ]
     },
     "execution_count": 13,
     "metadata": {},
     "output_type": "execute_result"
    }
   ],
   "source": [
    "type(mock), mock"
   ]
  },
  {
   "cell_type": "markdown",
   "id": "d3365978",
   "metadata": {},
   "source": [
    "We can use mock objects to write code against the mock data, which we can then pass to a `@syft_function` to execute remotely. E.g."
   ]
  },
  {
   "cell_type": "code",
   "execution_count": 14,
   "id": "894de656",
   "metadata": {
    "execution": {
     "iopub.execute_input": "2023-06-29T09:45:07.830733Z",
     "iopub.status.busy": "2023-06-29T09:45:07.830349Z",
     "iopub.status.idle": "2023-06-29T09:45:07.834468Z",
     "shell.execute_reply": "2023-06-29T09:45:07.833788Z"
    }
   },
   "outputs": [],
   "source": [
    "x = mock + 3\n",
    "y = x ** 2"
   ]
  },
  {
   "cell_type": "code",
   "execution_count": 15,
   "id": "afbb270b",
   "metadata": {
    "execution": {
     "iopub.execute_input": "2023-06-29T09:45:07.837576Z",
     "iopub.status.busy": "2023-06-29T09:45:07.836961Z",
     "iopub.status.idle": "2023-06-29T09:45:07.857592Z",
     "shell.execute_reply": "2023-06-29T09:45:07.856828Z"
    }
   },
   "outputs": [
    {
     "name": "stdout",
     "output_type": "stream",
     "text": [
      "Syft function 'add_pow' successfully created. To add a code request, please create a project using `project = syft.Project(...)`, then use command `project.create_code_request`.\n"
     ]
    }
   ],
   "source": [
    "@sy.syft_function(input_policy=sy.ExactMatch(inp=asset),\n",
    "                  output_policy=sy.SingleExecutionExactOutput())\n",
    "def add_pow(inp):\n",
    "    x = inp + 3\n",
    "    y = x ** 2\n",
    "    return y"
   ]
  },
  {
   "cell_type": "markdown",
   "id": "001e4c22",
   "metadata": {},
   "source": [
    "We wont go deeper into the flow for approving execution of this here, for more see the `syft function` tutorial"
   ]
  },
  {
   "cell_type": "markdown",
   "id": "d0d58d82-8ca1-4357-a419-f1632fe7e865",
   "metadata": {},
   "source": [
    "## Eager Execution"
   ]
  },
  {
   "cell_type": "markdown",
   "id": "a5cec48e",
   "metadata": {},
   "source": [
    "`@syft_functions` are useful, but have 2 downsides\n",
    "\n",
    "- not every data owner wants to execute raw python code\n",
    "- you can only remotely execute the code once you get approval\n",
    "\n",
    "The second way to access a reference to our asset is via `Asset.pointer`. `Pointers` are objects that point to data on the server, they can contain mock data as well, but they rarely contain the real data. When you use a `Pointer` to do a computation PySyft does the following things\n",
    "\n",
    "- a) the computation is performed locally on the mock data\n",
    "- b) the client sends an `Action` to the server, which causes the computation to be performed on the server\n",
    "- c) we create a new `Pointer` as a result, which contains the locally created mock data and points to the result on the server\n",
    "\n",
    "We call B and C here side-effects"
   ]
  },
  {
   "cell_type": "code",
   "execution_count": 16,
   "id": "8663ef86",
   "metadata": {
    "execution": {
     "iopub.execute_input": "2023-06-29T09:45:07.860289Z",
     "iopub.status.busy": "2023-06-29T09:45:07.860048Z",
     "iopub.status.idle": "2023-06-29T09:45:07.878246Z",
     "shell.execute_reply": "2023-06-29T09:45:07.877504Z"
    }
   },
   "outputs": [],
   "source": [
    "pointer = asset.pointer"
   ]
  },
  {
   "cell_type": "code",
   "execution_count": 17,
   "id": "dc621d63",
   "metadata": {
    "execution": {
     "iopub.execute_input": "2023-06-29T09:45:07.881445Z",
     "iopub.status.busy": "2023-06-29T09:45:07.880959Z",
     "iopub.status.idle": "2023-06-29T09:45:07.887174Z",
     "shell.execute_reply": "2023-06-29T09:45:07.886474Z"
    }
   },
   "outputs": [
    {
     "data": {
      "text/markdown": [
       "```python\n",
       "TwinPointer(Mock)\n",
       "```\n",
       "array([1, 1, 1])"
      ],
      "text/plain": [
       "TwinPointer(Mock):\n",
       "[1 1 1]"
      ]
     },
     "execution_count": 17,
     "metadata": {},
     "output_type": "execute_result"
    }
   ],
   "source": [
    "pointer"
   ]
  },
  {
   "cell_type": "code",
   "execution_count": 18,
   "id": "fc7dd15c",
   "metadata": {
    "execution": {
     "iopub.execute_input": "2023-06-29T09:45:07.890259Z",
     "iopub.status.busy": "2023-06-29T09:45:07.889886Z",
     "iopub.status.idle": "2023-06-29T09:45:07.932650Z",
     "shell.execute_reply": "2023-06-29T09:45:07.931891Z"
    }
   },
   "outputs": [
    {
     "data": {
      "text/markdown": [
       "```python\n",
       "TwinPointer(Mock)\n",
       "```\n",
       "3"
      ],
      "text/plain": [
       "TwinPointer(Mock):\n",
       "3"
      ]
     },
     "execution_count": 18,
     "metadata": {},
     "output_type": "execute_result"
    }
   ],
   "source": [
    "pointer.sum()"
   ]
  },
  {
   "cell_type": "markdown",
   "id": "c10d7493",
   "metadata": {},
   "source": [
    "So the `.sum` method we just called did a, b and c behind the scenes. This also happens for the so called dunder methods, these are methods that are implicitly called when we call for instance `pointer + 1`. Under the hood `pointer + 1` is syntactic sugar for `pointer.__add__(1)` which allows the Pointer to intercept this call and create the side effects."
   ]
  },
  {
   "cell_type": "code",
   "execution_count": 19,
   "id": "fe284698",
   "metadata": {
    "execution": {
     "iopub.execute_input": "2023-06-29T09:45:07.935657Z",
     "iopub.status.busy": "2023-06-29T09:45:07.935166Z",
     "iopub.status.idle": "2023-06-29T09:45:08.013183Z",
     "shell.execute_reply": "2023-06-29T09:45:08.012431Z"
    }
   },
   "outputs": [
    {
     "data": {
      "text/markdown": [
       "```python\n",
       "TwinPointer(Mock)\n",
       "```\n",
       "array([2, 2, 2])"
      ],
      "text/plain": [
       "TwinPointer(Mock):\n",
       "[2 2 2]"
      ]
     },
     "execution_count": 19,
     "metadata": {},
     "output_type": "execute_result"
    }
   ],
   "source": [
    "pointer2 = pointer + 1\n",
    "pointer2"
   ]
  },
  {
   "cell_type": "markdown",
   "id": "15848874",
   "metadata": {},
   "source": [
    "Another thing to notice here, is that to call `__add__` with `1` as an argument, we also need to have `1` on the server. Therefore, when we are passing arguments to methods, Syft is pointerizing them as well as a side effect before the action is executed on the server.\n",
    "\n",
    "This gives us a pretty complete picture of how we can execute methods on pointers. Sometimes we want to create objects from scratch, not merely as a result of a method. In eager execution land, this means creating a pointer on the server."
   ]
  },
  {
   "cell_type": "code",
   "execution_count": 20,
   "id": "f079370f",
   "metadata": {
    "execution": {
     "iopub.execute_input": "2023-06-29T09:45:08.016255Z",
     "iopub.status.busy": "2023-06-29T09:45:08.015775Z",
     "iopub.status.idle": "2023-06-29T09:45:08.087295Z",
     "shell.execute_reply": "2023-06-29T09:45:08.086513Z"
    }
   },
   "outputs": [
    {
     "data": {
      "text/markdown": [
       "```python\n",
       "Pointer\n",
       "```\n",
       "array([4, 5, 6])"
      ],
      "text/plain": [
       "Pointer:\n",
       "[4 5 6]"
      ]
     },
     "execution_count": 20,
     "metadata": {},
     "output_type": "execute_result"
    }
   ],
   "source": [
    "pointer3 = guest_client.numpy.array([4,5,6])\n",
    "pointer3"
   ]
  },
  {
   "cell_type": "markdown",
   "id": "a81a6bcb",
   "metadata": {},
   "source": [
    "This also created a pointer. In this case, we can see the real data (not a mock), as we own this data. We can use the `client.lib_path` pattern for both functions and classes. Morover, we can combine it with the original pointer in the same was as before:"
   ]
  },
  {
   "cell_type": "code",
   "execution_count": 21,
   "id": "ae57c9dd",
   "metadata": {
    "execution": {
     "iopub.execute_input": "2023-06-29T09:45:08.090520Z",
     "iopub.status.busy": "2023-06-29T09:45:08.089971Z",
     "iopub.status.idle": "2023-06-29T09:45:08.131148Z",
     "shell.execute_reply": "2023-06-29T09:45:08.130301Z"
    }
   },
   "outputs": [],
   "source": [
    "pointer3 = guest_client.numpy.add(pointer, pointer3)"
   ]
  },
  {
   "cell_type": "markdown",
   "id": "574c9d48",
   "metadata": {},
   "source": [
    "For methods, functions and classes, we can use autocomplete. In a jupyter notebook you can do this by typing the method and the opening brackets, and then calling `shift-tab`, e.g. pointer.max().\n",
    "\n",
    "**step into the `()` and type shift-tab for auto complete**"
   ]
  },
  {
   "cell_type": "code",
   "execution_count": 22,
   "id": "09dfedd3",
   "metadata": {
    "execution": {
     "iopub.execute_input": "2023-06-29T09:45:08.134223Z",
     "iopub.status.busy": "2023-06-29T09:45:08.133838Z",
     "iopub.status.idle": "2023-06-29T09:45:08.173613Z",
     "shell.execute_reply": "2023-06-29T09:45:08.172899Z"
    }
   },
   "outputs": [
    {
     "data": {
      "text/markdown": [
       "```python\n",
       "TwinPointer(Mock)\n",
       "```\n",
       "1"
      ],
      "text/plain": [
       "TwinPointer(Mock):\n",
       "1"
      ]
     },
     "execution_count": 22,
     "metadata": {},
     "output_type": "execute_result"
    }
   ],
   "source": [
    "pointer.max()"
   ]
  },
  {
   "cell_type": "markdown",
   "id": "9bbecd85",
   "metadata": {},
   "source": [
    "Note that the Same works for `guest_client.api.lib.numpy.some_function`.\n",
    "\n",
    "When we are done with our computations, we can request the real result of the computation, instead of the mock. We can do this using the `Pointer.request()` method:"
   ]
  },
  {
   "cell_type": "code",
   "execution_count": 23,
   "id": "3a525267",
   "metadata": {
    "execution": {
     "iopub.execute_input": "2023-06-29T09:45:08.177523Z",
     "iopub.status.busy": "2023-06-29T09:45:08.176131Z",
     "iopub.status.idle": "2023-06-29T09:45:08.257818Z",
     "shell.execute_reply": "2023-06-29T09:45:08.257011Z"
    }
   },
   "outputs": [
    {
     "data": {
      "text/html": [
       "\n",
       "            <style>\n",
       "            .syft-request {color: #464158;}\n",
       "            </style>\n",
       "            <div class='syft-request'>\n",
       "                <h3>Request</h3>\n",
       "                <p><strong>Id: </strong>09d1eb9e4ff142a79721b86617711cf0</p>\n",
       "                <p><strong>Request time: </strong>2023-06-29 09:45:08</p>\n",
       "                \n",
       "                <p><strong>Changes: </strong> Apply <b>ActionPermission.READ</b> to             <i>NumpyArrayObject:a4575c9b</i>. </p>\n",
       "                <p><strong>Status: </strong>RequestStatus.PENDING</p>\n",
       "            </div>\n",
       "            "
      ],
      "text/markdown": [
       "```python\n",
       "class Request:\n",
       "  id: str = 09d1eb9e4ff142a79721b86617711cf0\n",
       "  request_time: str = 2023-06-29 09:45:08\n",
       "  updated_at: str = None\n",
       "  status: str = RequestStatus.PENDING\n",
       "  changes: str = ['Apply <b>ActionPermission.READ</b> to             <i>NumpyArrayObject:a4575c9b</i>']\n",
       "  requesting_user_verify_key: str = 7ca9a545f01cec9928b68690cbbf910817fb8293babc1d71234dacbe82ab1d0b\n",
       "\n",
       "```"
      ],
      "text/plain": [
       "syft.service.request.request.Request"
      ]
     },
     "execution_count": 23,
     "metadata": {},
     "output_type": "execute_result"
    }
   ],
   "source": [
    "pointer3.request(guest_client)"
   ]
  },
  {
   "cell_type": "markdown",
   "id": "d08578b9",
   "metadata": {},
   "source": [
    "Data owners can now approve this request"
   ]
  },
  {
   "cell_type": "code",
   "execution_count": 24,
   "id": "fe91e4c3",
   "metadata": {
    "execution": {
     "iopub.execute_input": "2023-06-29T09:45:08.260847Z",
     "iopub.status.busy": "2023-06-29T09:45:08.260381Z",
     "iopub.status.idle": "2023-06-29T09:45:09.800746Z",
     "shell.execute_reply": "2023-06-29T09:45:09.799928Z"
    }
   },
   "outputs": [
    {
     "name": "stdout",
     "output_type": "stream",
     "text": [
      "Logged into private-datasets-example-domain-1 as <info@openmined.org>\n"
     ]
    }
   ],
   "source": [
    "root_client = node.login(email=\"info@openmined.org\", password=\"changethis\")"
   ]
  },
  {
   "cell_type": "code",
   "execution_count": 25,
   "id": "b0872e37",
   "metadata": {
    "execution": {
     "iopub.execute_input": "2023-06-29T09:45:09.803862Z",
     "iopub.status.busy": "2023-06-29T09:45:09.803482Z",
     "iopub.status.idle": "2023-06-29T09:45:09.844346Z",
     "shell.execute_reply": "2023-06-29T09:45:09.843566Z"
    }
   },
   "outputs": [
    {
     "data": {
      "text/html": [
       "\n",
       "<style>\n",
       "  .header-1 {\n",
       "        font-style: normal;\n",
       "        font-weight: 600;\n",
       "        font-size: 2.0736em;\n",
       "        line-height: 100%;\n",
       "        leading-trim: both;\n",
       "        text-edge: cap;\n",
       "        color: #17161D;\n",
       "    }\n",
       "\n",
       "  .header-2 {\n",
       "        font-style: normal;\n",
       "        font-weight: 600;\n",
       "        font-size: 1.728em;\n",
       "        line-height: 100%;\n",
       "        leading-trim: both;\n",
       "        text-edge: cap;\n",
       "        color: #17161D;\n",
       "    }\n",
       "\n",
       "  .header-3 {\n",
       "        font-style: normal;\n",
       "        font-weight: 600;\n",
       "        font-size:  1.44em;\n",
       "        line-height: 100%;\n",
       "        leading-trim: both;\n",
       "        text-edge: cap;\n",
       "        color: #17161D;\n",
       "    }\n",
       "\n",
       "  .header-4 {\n",
       "        font-style: normal;\n",
       "        font-weight: 600;\n",
       "        font-size: 1.2em;\n",
       "        line-height: 100%;\n",
       "        leading-trim: both;\n",
       "        text-edge: cap;\n",
       "        color: #17161D;\n",
       "    }\n",
       "\n",
       "    .paragraph {\n",
       "        font-style: normal;\n",
       "        font-weight: 400;\n",
       "        font-size: 14px;\n",
       "        line-height: 100%;\n",
       "        leading-trim: both;\n",
       "        text-edge: cap;\n",
       "        color: #2E2B3B;\n",
       "    }\n",
       "\n",
       "    .paragraph-sm {\n",
       "        font-family: 'Roboto';\n",
       "        font-style: normal;\n",
       "        font-weight: 400;\n",
       "        font-size: 11.62px;\n",
       "        line-height: 100%;\n",
       "        leading-trim: both;\n",
       "        text-edge: cap;\n",
       "        color: #2E2B3B;\n",
       "    }\n",
       "    .code-text {\n",
       "        font-family: 'Consolas';\n",
       "        font-style: normal;\n",
       "        font-weight: 400;\n",
       "        font-size: 13px;\n",
       "        line-height: 130%;\n",
       "        leading-trim: both;\n",
       "        text-edge: cap;\n",
       "        color: #2E2B3B;\n",
       "    }\n",
       "\n",
       "    .numbering-entry { display: none }\n",
       "\n",
       "    /* Tooltip container */\n",
       "    .tooltip {\n",
       "        position: relative;\n",
       "        display: inline-block;\n",
       "        border-bottom: 1px dotted black; /* If you want dots under the hoverable text */\n",
       "    }\n",
       "\n",
       "    /* Tooltip text */\n",
       "    .tooltip .tooltiptext {\n",
       "        visibility: hidden;\n",
       "        width: 120px;\n",
       "        background-color: black;\n",
       "        color: #fff;\n",
       "        text-align: center;\n",
       "        padding: 5px 0;\n",
       "        border-radius: 6px;\n",
       "\n",
       "        /* Position the tooltip text - see examples below! */\n",
       "        position: absolute;\n",
       "        z-index: 1;\n",
       "    }\n",
       "\n",
       "    .repr-cell {\n",
       "      padding-top: 20px;\n",
       "    }\n",
       "\n",
       "    .text-bold {\n",
       "        font-weight: bold;\n",
       "    }\n",
       "\n",
       "    .pr-8 {\n",
       "        padding-right: 8px;\n",
       "    }\n",
       "    .pt-8 {\n",
       "        padding-top: 8px;\n",
       "    }\n",
       "    .pl-8 {\n",
       "        padding-left: 8px;\n",
       "    }\n",
       "    .pb-8 {\n",
       "        padding-bottom: 8px;\n",
       "    }\n",
       "\n",
       "    .py-25{\n",
       "        padding-top: 25px;\n",
       "        padding-bottom: 25px;\n",
       "    }\n",
       "\n",
       "    .flex {\n",
       "        display: flex;\n",
       "    }\n",
       "\n",
       "    .gap-10 {\n",
       "        gap: 10px;\n",
       "    }\n",
       "    .items-center{\n",
       "        align-items: center;\n",
       "    }\n",
       "\n",
       "    .search-input{\n",
       "        display: flex;\n",
       "        flex-direction: row;\n",
       "        align-items: center;\n",
       "        padding: 8px 12px;\n",
       "        width: 343px;\n",
       "        height: 24px;\n",
       "        /* Lt On Surface/Low */\n",
       "        background: #F1F0F4;\n",
       "        border-radius: 30px;\n",
       "\n",
       "        /* Lt On Surface/Highest */\n",
       "        color: #B4B0BF;\n",
       "        border:none;\n",
       "        /* Inside auto layout */\n",
       "        flex: none;\n",
       "        order: 0;\n",
       "        flex-grow: 0;\n",
       "    }\n",
       "    .search-input:focus {\n",
       "        outline: none;\n",
       "    }\n",
       "\n",
       "    .search-button{\n",
       "        /* Search */\n",
       "        leading-trim: both;\n",
       "        text-edge: cap;\n",
       "        display: flex;\n",
       "        align-items: center;\n",
       "        text-align: center;\n",
       "\n",
       "        /* Primary/On Light */\n",
       "        color: #464A91;\n",
       "\n",
       "        border-radius: 30px;\n",
       "        border-color: #464A91;\n",
       "        /* Inside auto layout */\n",
       "        flex: none;\n",
       "        order: 1;\n",
       "        flex-grow: 0;\n",
       "    }\n",
       "\n",
       "    .grid-table82ba1187cc3c47deadf969652aeca620 {\n",
       "        display:grid;\n",
       "        grid-template-columns: 1fr repeat(24, 1fr);\n",
       "        grid-template-rows: repeat(2, 1fr);\n",
       "        overflow-x: auto;\n",
       "    }\n",
       "\n",
       "    .grid-std-cells {\n",
       "        grid-column: span 4;\n",
       "\n",
       "    }\n",
       "    .grid-index-cells {\n",
       "        grid-column: span 1;\n",
       "        background: #ECEBEF;\n",
       "        /* tmp fix to make left col stand out (fix with font-family) */\n",
       "        font-weight: 600;\n",
       "    }\n",
       "\n",
       "    .grid-header {\n",
       "        /* Auto layout */\n",
       "        display: flex;\n",
       "        flex-direction: column;\n",
       "        align-items: flex-start;\n",
       "        padding: 6px 4px;\n",
       "\n",
       "        /* Lt On Surface/Surface */\n",
       "        background: #ECEBEF;\n",
       "        /* Lt On Surface/High */\n",
       "        border: 1px solid #CFCDD6;\n",
       "        color: #2E2B3B;\n",
       "        /* tmp fix to make header stand out (fix with font-family) */\n",
       "        font-weight: 600;\n",
       "    }\n",
       "\n",
       "    .grid-row {\n",
       "        color: #5E5A72;\n",
       "        display: flex;\n",
       "        flex-direction: column;\n",
       "        align-items: flex-start;\n",
       "        padding: 6px 4px;\n",
       "        overflow: hidden;\n",
       "        border: 1px solid #CFCDD6;\n",
       "    }\n",
       "\n",
       "    .badge {\n",
       "        code-text;\n",
       "        border-radius: 30px;\n",
       "    }\n",
       "\n",
       "    .badge-blue {\n",
       "        badge;\n",
       "        background-color: #C2DEF0;\n",
       "        color: #1F567A;\n",
       "    }\n",
       "\n",
       "    .badge-purple {\n",
       "        badge;\n",
       "        background-color: #C9CFE8;\n",
       "        color: #373B7B;\n",
       "    }\n",
       "\n",
       "    .badge-green {\n",
       "        badge;\n",
       "\n",
       "        /* Success/Container */\n",
       "        background-color: #D5F1D5;\n",
       "        color: #256B24;\n",
       "    }\n",
       "\n",
       "    .badge-red {\n",
       "        badge;\n",
       "        background-color: #F2D9DE;\n",
       "        color: #9B2737;\n",
       "    }\n",
       "\n",
       "    .badge-gray {\n",
       "        badge;\n",
       "        background-color: #ECEBEF;\n",
       "        color: #2E2B3B;\n",
       "    }\n",
       "    .paginationContainer{\n",
       "        width: 100%;\n",
       "        height: 30px;\n",
       "        display: flex;\n",
       "        justify-content: center;\n",
       "        gap: 8px;\n",
       "        padding: 5px;\n",
       "    }\n",
       "\n",
       "    .page{\n",
       "        color: black;\n",
       "        font-weight: bold;\n",
       "    }\n",
       "    .page:hover {\n",
       "      color: #38bdf8;\n",
       "      cursor: pointer;\n",
       "    }\n",
       "    .clipboard:hover{\n",
       "        cursor: pointer;\n",
       "    }\n",
       "\n",
       "    .search-field {\n",
       "        display: flex;\n",
       "        align-items: center;\n",
       "        background: #F1F0F4;\n",
       "        border-radius: 30px;\n",
       "    }\n",
       "\n",
       "    .syft-dropdown {\n",
       "        margin: 5px;\n",
       "        margin-left: 5px;\n",
       "        position: relative;\n",
       "        display: inline-block;\n",
       "        text-align: center;\n",
       "        background-color: #d1d5db;\n",
       "        min-width: 100px;\n",
       "        padding: 2px;\n",
       "        border-radius: 30px;\n",
       "    }\n",
       "\n",
       "    .syft-dropdown:hover {\n",
       "        cursor: pointer;\n",
       "    }\n",
       "    .syft-dropdown-content {\n",
       "        margin-top:26px;\n",
       "        display: none;\n",
       "        position: absolute;\n",
       "        background-color: #f9f9f9;\n",
       "        min-width: 100px;\n",
       "        box-shadow: 0px 8px 16px 0px rgba(0,0,0,0.2);\n",
       "        padding: 12px 6px;\n",
       "        z-index: 1;\n",
       "    }\n",
       "    .dd-options {\n",
       "        padding-top: 4px;\n",
       "    }\n",
       "    .dd-options:first-of-type {\n",
       "        padding-top: 0px;\n",
       "    }\n",
       "\n",
       "    .dd-options:hover {\n",
       "        cursor: pointer;\n",
       "        background: #d1d5db;\n",
       "    }\n",
       "    .arrow {\n",
       "        border: solid black;\n",
       "        border-width: 0 3px 3px 0;\n",
       "        display: inline-block;\n",
       "        padding: 3px;\n",
       "    }\n",
       "    .down {\n",
       "        transform: rotate(45deg);\n",
       "        -webkit-transform: rotate(45deg);\n",
       "    }\n",
       "</style>\n",
       "\n",
       "\n",
       "    <div style='margin-top:15px;'>\n",
       "        <div class='flex gap-10' style='align-items: center;'>\n",
       "            <div><svg width=\"32\"  height=\"32\" viewBox=\"0 0 12 12\" fill=\"none\" xmlns=\"http://www.w3.org/2000/svg\"><path d=\"M11 0H1C0.734784 0 0.48043 0.105357 0.292893 0.292893C0.105357 0.48043 0 0.734784 0 1V11C0 11.2652 0.105357 11.5196 0.292893 11.7071C0.48043 11.8946 0.734784 12 1 12H11C11.2652 12 11.5196 11.8946 11.7071 11.7071C11.8946 11.5196 12 11.2652 12 11V1C12 0.734784 11.8946 0.48043 11.7071 0.292893C11.5196 0.105357 11.2652 0 11 0ZM11 1V7.5H9.20625C9.07499 7.49966 8.94496 7.5254 8.82372 7.57572C8.70248 7.62604 8.59245 7.69994 8.5 7.79313L7.29313 9H4.70687L3.5 7.79313C3.40748 7.69986 3.29734 7.62592 3.17599 7.5756C3.05464 7.52528 2.9245 7.49958 2.79313 7.5H1V1H11ZM11 11H1V8.5H2.79313L4 9.70687C4.09252 9.80014 4.20266 9.87408 4.32401 9.9244C4.44536 9.97472 4.5755 10.0004 4.70687 10H7.29313C7.4245 10.0004 7.55464 9.97472 7.67599 9.9244C7.79734 9.87408 7.90748 9.80014 8 9.70687L9.20687 8.5H11V11Z\" fill=\"#343330\"/></svg></div>\n",
       "            <div><p class='header-3'>Request List</p></div>\n",
       "        </div>\n",
       "\n",
       "            <div style=\"padding-top: 16px; display:flex;justify-content: space-between; align-items: center;\">\n",
       "                <div class='pt-25 gap-10' style=\"display:flex;\">\n",
       "                    <div class=\"search-field\">\n",
       "                        <div id='search-menu82ba1187cc3c47deadf969652aeca620' class=\"syft-dropdown\" onclick=\"{\n",
       "                            let doc = document.getElementById('search-dropdown-content82ba1187cc3c47deadf969652aeca620')\n",
       "                            if (doc.style.display === 'block'){\n",
       "                                doc.style.display = 'none'\n",
       "                            } else {\n",
       "                                doc.style.display = 'block'\n",
       "                            }\n",
       "                            }\">\n",
       "                            <div id='search-dropdown-content82ba1187cc3c47deadf969652aeca620' class='syft-dropdown-content'></div>\n",
       "                            <script>\n",
       "                                var element82ba1187cc3c47deadf969652aeca620 = [{\"id\": {\"value\": \"09d1eb9e4ff142a79721b86617711cf0\", \"type\": \"clipboard\"}, \"changes\": \"Apply <b>ActionPermission.READ</b> to             <i>NumpyArrayObject:a4575c9b</i>\", \"request time\": \"2023-06-29 09:45:08\", \"status\": {\"value\": \"Pending\", \"type\": \"badge-gray\"}, \"requesting user\": {\"value\": \"7ca9a545f01cec9928b68690cbbf910817fb8293babc1d71234dacbe82ab1d0b\", \"type\": \"clipboard\"}, \"reviewed_at\": \"None\"}]\n",
       "                                var page_size82ba1187cc3c47deadf969652aeca620 = 1\n",
       "                                var pageIndex82ba1187cc3c47deadf969652aeca620 = 1\n",
       "                                var paginatedElements82ba1187cc3c47deadf969652aeca620 = []\n",
       "                                var activeFilter82ba1187cc3c47deadf969652aeca620;\n",
       "\n",
       "                                function buildDropDownMenu(elements){\n",
       "                                    let init_filter;\n",
       "                                    let menu = document.getElementById('search-dropdown-content82ba1187cc3c47deadf969652aeca620')\n",
       "                                    if (elements.length > 0) {\n",
       "                                        let sample = elements[0]\n",
       "                                        for (const attr in sample) {\n",
       "                                            if (typeof init_filter === 'undefined'){\n",
       "                                                init_filter = attr;\n",
       "                                            }\n",
       "                                            let content = document.createElement('div');\n",
       "                                            content.onclick = function(event) {\n",
       "                                                event.stopPropagation()\n",
       "                                                document.getElementById('menu-active-filter82ba1187cc3c47deadf969652aeca620').innerText = attr;\n",
       "                                                activeFilter82ba1187cc3c47deadf969652aeca620 = attr;\n",
       "                                                document.getElementById(\n",
       "                                                    'search-dropdown-content82ba1187cc3c47deadf969652aeca620'\n",
       "                                                ).style.display= 'none';\n",
       "                                            }\n",
       "                                            content.classList.add(\"dd-options\");\n",
       "                                            content.innerText = attr;\n",
       "                                            menu.appendChild(content);\n",
       "                                        }\n",
       "                                    } else {\n",
       "                                        let init_filter = '---'\n",
       "                                    }\n",
       "                                    let dropdown_field = document.getElementById('search-menu82ba1187cc3c47deadf969652aeca620')\n",
       "                                    let span = document.createElement('span')\n",
       "                                    span.setAttribute('id', 'menu-active-filter82ba1187cc3c47deadf969652aeca620')\n",
       "                                    span.innerText = init_filter\n",
       "                                    activeFilter82ba1187cc3c47deadf969652aeca620 = init_filter;\n",
       "                                    dropdown_field.appendChild(span)\n",
       "                                }\n",
       "\n",
       "                                buildDropDownMenu(element82ba1187cc3c47deadf969652aeca620)\n",
       "                            </script>\n",
       "                        </div>\n",
       "                        <input id='searchKey82ba1187cc3c47deadf969652aeca620' class='search-input' placeholder='Enter search here ...'  />\n",
       "                    </div>\n",
       "                    <button class='search-button'  onclick=\"searchGrid82ba1187cc3c47deadf969652aeca620(element82ba1187cc3c47deadf969652aeca620)\">\n",
       "                        <svg width=\"11\" height=\"10\" viewBox=\"0 0 11 10\" fill=\"none\" xmlns=\"http://www.w3.org/2000/svg\"><path d=\"M10.5652 9.23467L8.21819 6.88811C8.89846 6.07141 9.23767 5.02389 9.16527 3.96345C9.09287 2.90302 8.61443 1.91132 7.82948 1.19466C7.04453 0.477995 6.01349 0.0915414 4.95087 0.115691C3.88824 0.139841 2.87583 0.572735 2.12425 1.32432C1.37266 2.0759 0.939768 3.08831 0.915618 4.15094C0.891468 5.21357 1.27792 6.2446 1.99459 7.02955C2.71125 7.8145 3.70295 8.29294 4.76338 8.36535C5.82381 8.43775 6.87134 8.09853 7.68804 7.41827L10.0346 9.7653C10.0694 9.80014 10.1108 9.82778 10.1563 9.84663C10.2018 9.86549 10.2506 9.87519 10.2999 9.87519C10.3492 9.87519 10.398 9.86549 10.4435 9.84663C10.489 9.82778 10.5304 9.80014 10.5652 9.7653C10.6001 9.73046 10.6277 9.68909 10.6466 9.64357C10.6654 9.59805 10.6751 9.54926 10.6751 9.49998C10.6751 9.45071 10.6654 9.40192 10.6466 9.3564C10.6277 9.31088 10.6001 9.26951 10.5652 9.23467ZM1.67491 4.24998C1.67491 3.58247 1.87285 2.92995 2.2437 2.37493C2.61455 1.81992 3.14165 1.38734 3.75835 1.13189C4.37506 0.876446 5.05366 0.809609 5.70834 0.939835C6.36303 1.07006 6.96439 1.3915 7.4364 1.8635C7.9084 2.3355 8.22984 2.93687 8.36006 3.59155C8.49029 4.24624 8.42345 4.92484 8.168 5.54154C7.91256 6.15824 7.47998 6.68535 6.92496 7.05619C6.36995 7.42704 5.71742 7.62498 5.04991 7.62498C4.15511 7.62399 3.29724 7.26809 2.66452 6.63537C2.0318 6.00265 1.6759 5.14479 1.67491 4.24998Z\" fill=\"#464A91\"/></svg>\n",
       "                        <span class='pl-8'>Search</span>\n",
       "                    </button>\n",
       "                </div>\n",
       "\n",
       "                <div><h4 id='total82ba1187cc3c47deadf969652aeca620'>0</h4></div>\n",
       "            </div>\n",
       "            <div id='table82ba1187cc3c47deadf969652aeca620' class='grid-table82ba1187cc3c47deadf969652aeca620' style='margin-top: 25px;'>\n",
       "                <script>\n",
       "                    function paginate82ba1187cc3c47deadf969652aeca620(arr, size) {\n",
       "                        const res = [];\n",
       "                        for (let i = 0; i < arr.length; i += size) {\n",
       "                            const chunk = arr.slice(i, i + size);\n",
       "                            res.push(chunk);\n",
       "                        }\n",
       "\n",
       "                        return res;\n",
       "                    }\n",
       "\n",
       "                    function searchGrid82ba1187cc3c47deadf969652aeca620(elements){\n",
       "                        let searchKey = document.getElementById('searchKey82ba1187cc3c47deadf969652aeca620').value\n",
       "                        console.log(\"Search Key: \", searchKey)\n",
       "                        let result;\n",
       "                        if (searchKey === ''){\n",
       "                            result = elements;\n",
       "                        } else {\n",
       "                            result = elements.filter((element) => {\n",
       "                                let property = element[activeFilter82ba1187cc3c47deadf969652aeca620]\n",
       "                                if (typeof property === 'object' && property !== null){\n",
       "                                    return property.value.toLowerCase().includes(searchKey.toLowerCase());\n",
       "                                } else if (typeof property === 'string' ) {\n",
       "                                    return element[activeFilter82ba1187cc3c47deadf969652aeca620].toLowerCase().includes(searchKey.toLowerCase());\n",
       "                                } else if (property !== null ) {\n",
       "                                    return element[activeFilter82ba1187cc3c47deadf969652aeca620].toString() === searchKey;\n",
       "                                } else {\n",
       "                                    return element[activeFilter82ba1187cc3c47deadf969652aeca620] === searchKey;\n",
       "                                }\n",
       "                            } );\n",
       "                        }\n",
       "                        resetById82ba1187cc3c47deadf969652aeca620('table82ba1187cc3c47deadf969652aeca620');\n",
       "                        resetById82ba1187cc3c47deadf969652aeca620('pag82ba1187cc3c47deadf969652aeca620');\n",
       "                        result = paginate82ba1187cc3c47deadf969652aeca620(result, page_size82ba1187cc3c47deadf969652aeca620)\n",
       "                        buildGrid82ba1187cc3c47deadf969652aeca620(result,pageIndex82ba1187cc3c47deadf969652aeca620);\n",
       "                        buildPaginationContainer82ba1187cc3c47deadf969652aeca620(result);\n",
       "                    }\n",
       "\n",
       "                    function resetById82ba1187cc3c47deadf969652aeca620(id){\n",
       "                        let element = document.getElementById(id);\n",
       "                        while (element.firstChild) {\n",
       "                          element.removeChild(element.firstChild);\n",
       "                        }\n",
       "                    }\n",
       "\n",
       "                    function buildGrid82ba1187cc3c47deadf969652aeca620(items, pageIndex){\n",
       "                                let headers = Object.keys(element82ba1187cc3c47deadf969652aeca620[0]);\n",
       "\n",
       "                                let grid = document.getElementById(\"table82ba1187cc3c47deadf969652aeca620\");\n",
       "                                let div = document.createElement(\"div\");\n",
       "                                div.classList.add('grid-header', 'grid-index-cells');\n",
       "                                grid.appendChild(div);\n",
       "                                headers.forEach((title) =>{\n",
       "                                    let div = document.createElement(\"div\");\n",
       "                                    div.classList.add('grid-header', 'grid-std-cells');\n",
       "                                    div.innerText = title;\n",
       "\n",
       "                                    grid.appendChild(div);\n",
       "                                });\n",
       "\n",
       "                                let page = items[pageIndex -1]\n",
       "                                if (page !== 'undefine'){\n",
       "                                    let table_index82ba1187cc3c47deadf969652aeca620 = ((pageIndex - 1) * page_size82ba1187cc3c47deadf969652aeca620)\n",
       "                                    page.forEach((item) => {\n",
       "                                        let grid = document.getElementById(\"table82ba1187cc3c47deadf969652aeca620\");\n",
       "                                        // Add new index value in index cells\n",
       "                                        let divIndex = document.createElement(\"div\");\n",
       "                                        divIndex.classList.add('grid-row', 'grid-index-cells');\n",
       "                                        divIndex.innerText = table_index82ba1187cc3c47deadf969652aeca620;\n",
       "                                        grid.appendChild(divIndex);\n",
       "\n",
       "                                        // Iterate over the actual obj\n",
       "                                        for (const attr in item) {\n",
       "                                            let div = document.createElement(\"div\");\n",
       "                                            if (typeof item[attr] === 'object'\n",
       "                                                && item[attr] !== null\n",
       "                                                && item[attr].hasOwnProperty('type')) {\n",
       "                                                if (item[attr].type.includes('badge')){\n",
       "                                                    let badge_div = document.createElement(\"div\");\n",
       "                                                    badge_div.classList.add('badge',item[attr].type)\n",
       "                                                    badge_div.innerText = String(item[attr].value).toUpperCase();\n",
       "                                                    div.appendChild(badge_div);\n",
       "                                                    div.classList.add('grid-row','grid-std-cells');\n",
       "                                                } else if (item[attr].type === \"clipboard\") {\n",
       "                                                    div.classList.add('grid-row','grid-std-cells');\n",
       "\n",
       "                                                    // Create clipboard div\n",
       "                                                    let clipboard_div = document.createElement('div');\n",
       "                                                    clipboard_div.style.display= 'flex';\n",
       "                                                    clipboard_div.classList.add(\"gap-10\")\n",
       "                                                    clipboard_div.style.justifyContent = \"space-between\";\n",
       "\n",
       "                                                    let id_text = document.createElement('div');\n",
       "                                                    if (item[attr].value == \"None\"){\n",
       "                                                        id_text.innerText = \"None\";\n",
       "                                                    }\n",
       "                                                    else{\n",
       "                                                        id_text.innerText = item[attr].value.slice(0,5) + \"...\";\n",
       "                                                    }\n",
       "\n",
       "                                                    clipboard_div.appendChild(id_text);\n",
       "                                                    let clipboard_img = document.createElement('div');\n",
       "                                                    clipboard_img.classList.add(\"clipboard\")\n",
       "                                                    div.onclick = function() {\n",
       "                                                        navigator.clipboard.writeText(item[attr].value);\n",
       "                                                    };\n",
       "                                                    clipboard_img.innerHTML = \"<svg width='8' height='8' viewBox='0 0 8 8' fill='none' xmlns='http://www.w3.org/2000/svg'><path d='M7.4375 0.25H2.4375C2.35462 0.25 2.27513 0.282924 2.21653 0.341529C2.15792 0.400134 2.125 0.47962 2.125 0.5625V2.125H0.5625C0.47962 2.125 0.400134 2.15792 0.341529 2.21653C0.282924 2.27513 0.25 2.35462 0.25 2.4375V7.4375C0.25 7.52038 0.282924 7.59987 0.341529 7.65847C0.400134 7.71708 0.47962 7.75 0.5625 7.75H5.5625C5.64538 7.75 5.72487 7.71708 5.78347 7.65847C5.84208 7.59987 5.875 7.52038 5.875 7.4375V5.875H7.4375C7.52038 5.875 7.59987 5.84208 7.65847 5.78347C7.71708 5.72487 7.75 5.64538 7.75 5.5625V0.5625C7.75 0.47962 7.71708 0.400134 7.65847 0.341529C7.59987 0.282924 7.52038 0.25 7.4375 0.25ZM5.25 7.125H0.875V2.75H5.25V7.125ZM7.125 5.25H5.875V2.4375C5.875 2.35462 5.84208 2.27513 5.78347 2.21653C5.72487 2.15792 5.64538 2.125 5.5625 2.125H2.75V0.875H7.125V5.25Z' fill='#464158'/></svg>\";\n",
       "\n",
       "                                                    clipboard_div.appendChild(clipboard_img);\n",
       "                                                    div.appendChild(clipboard_div);\n",
       "                                                }\n",
       "                                            } else{\n",
       "                                                div.classList.add('grid-row','grid-std-cells');\n",
       "                                                if (item[attr] == null) {\n",
       "                                                    text = ' '\n",
       "                                                } else {\n",
       "                                                    text = String(item[attr])\n",
       "                                                }\n",
       "                                                if (text.length > 150){\n",
       "                                                    text = text.slice(0,150) + \"...\";\n",
       "                                                }\n",
       "                                                text = text.replaceAll(\"\\n\", \"</br>\");\n",
       "                                                div.innerHTML = text;\n",
       "                                            }\n",
       "                                            grid.appendChild(div);\n",
       "                                        }\n",
       "                                    table_index82ba1187cc3c47deadf969652aeca620 = table_index82ba1187cc3c47deadf969652aeca620 + 1;\n",
       "                                    })\n",
       "                                }\n",
       "                    }\n",
       "                    paginatedElements82ba1187cc3c47deadf969652aeca620 = paginate82ba1187cc3c47deadf969652aeca620(element82ba1187cc3c47deadf969652aeca620, page_size82ba1187cc3c47deadf969652aeca620)\n",
       "                    buildGrid82ba1187cc3c47deadf969652aeca620(paginatedElements82ba1187cc3c47deadf969652aeca620, 1)\n",
       "                    document.getElementById('total82ba1187cc3c47deadf969652aeca620').innerText = \"Total: \" + element82ba1187cc3c47deadf969652aeca620.length\n",
       "                </script>\n",
       "            </div>\n",
       "            <div id='pag82ba1187cc3c47deadf969652aeca620' class='paginationContainer'>\n",
       "                <script>\n",
       "                    function buildPaginationContainer82ba1187cc3c47deadf969652aeca620(paginatedElements){\n",
       "                            let pageContainer = document.getElementById(\"pag82ba1187cc3c47deadf969652aeca620\");\n",
       "                            for (let i = 0; i < paginatedElements.length; i++) {\n",
       "                                  let div = document.createElement(\"div\");\n",
       "                                  div.classList.add('page');\n",
       "                                  div.style.color = 'gray';\n",
       "                                  div.onclick = function(event) {\n",
       "                                      let indexes = document.getElementsByClassName('page');\n",
       "                                      for (let index of indexes) { index.style.color = 'gray' }\n",
       "                                      event.target.style.color = \"black\"\n",
       "                                      setPage82ba1187cc3c47deadf969652aeca620(i + 1);\n",
       "                                  };\n",
       "                                  div.innerText = i + 1;\n",
       "                                  pageContainer.appendChild(div);\n",
       "                            }\n",
       "                    }\n",
       "\n",
       "                    function setPage82ba1187cc3c47deadf969652aeca620(newPage){\n",
       "                        pageIndex = newPage\n",
       "                        resetById82ba1187cc3c47deadf969652aeca620('table82ba1187cc3c47deadf969652aeca620')\n",
       "                        buildGrid82ba1187cc3c47deadf969652aeca620(paginatedElements82ba1187cc3c47deadf969652aeca620, pageIndex)\n",
       "                    }\n",
       "\n",
       "                    buildPaginationContainer82ba1187cc3c47deadf969652aeca620(paginatedElements82ba1187cc3c47deadf969652aeca620)\n",
       "                </script>\n",
       "            </div>\n",
       "        </div>\n",
       "    </div>\n",
       "    </div>\n"
      ],
      "text/plain": [
       "<syft.client.api.APIModule at 0x7f8b58d1e0d0>"
      ]
     },
     "execution_count": 25,
     "metadata": {},
     "output_type": "execute_result"
    }
   ],
   "source": [
    "requests = root_client.requests\n",
    "requests"
   ]
  },
  {
   "cell_type": "code",
   "execution_count": 26,
   "id": "43a2ab22",
   "metadata": {
    "execution": {
     "iopub.execute_input": "2023-06-29T09:45:09.847697Z",
     "iopub.status.busy": "2023-06-29T09:45:09.847336Z",
     "iopub.status.idle": "2023-06-29T09:45:09.903936Z",
     "shell.execute_reply": "2023-06-29T09:45:09.903203Z"
    }
   },
   "outputs": [
    {
     "data": {
      "text/html": [
       "<div class=\"alert-success\" style=\"padding:5px;\"><strong>SyftSuccess</strong>: Request 09d1eb9e4ff142a79721b86617711cf0 changes applied</div><br />"
      ],
      "text/plain": [
       "<class 'syft.service.response.SyftSuccess'>: Request 09d1eb9e4ff142a79721b86617711cf0 changes applied"
      ]
     },
     "execution_count": 26,
     "metadata": {},
     "output_type": "execute_result"
    }
   ],
   "source": [
    "requests[0].approve_with_client(root_client)"
   ]
  },
  {
   "cell_type": "markdown",
   "id": "5d2531e9",
   "metadata": {},
   "source": [
    "Which allows the data scientists to download the result"
   ]
  },
  {
   "cell_type": "code",
   "execution_count": 27,
   "id": "352300dd",
   "metadata": {
    "execution": {
     "iopub.execute_input": "2023-06-29T09:45:09.907108Z",
     "iopub.status.busy": "2023-06-29T09:45:09.906622Z",
     "iopub.status.idle": "2023-06-29T09:45:09.927683Z",
     "shell.execute_reply": "2023-06-29T09:45:09.926923Z"
    }
   },
   "outputs": [
    {
     "data": {
      "text/plain": [
       "array([5, 7, 9])"
      ]
     },
     "execution_count": 27,
     "metadata": {},
     "output_type": "execute_result"
    }
   ],
   "source": [
    "pointer3.get()"
   ]
  },
  {
   "cell_type": "markdown",
   "id": "9de414a9-23c6-4a57-8169-e2d955e91d77",
   "metadata": {},
   "source": [
    "## Action Service"
   ]
  },
  {
   "cell_type": "markdown",
   "id": "c8d32f94-8659-4ae7-ae99-956823319ee4",
   "metadata": {},
   "source": [
    "### Listing the Services"
   ]
  },
  {
   "cell_type": "markdown",
   "id": "8d692412-ea35-4201-accb-6a2c2e3ab2fb",
   "metadata": {},
   "source": [
    "### Autocomplete Service Methods"
   ]
  },
  {
   "cell_type": "markdown",
   "id": "7e18c46c-6ccd-43f2-b86f-66553a4a8779",
   "metadata": {},
   "source": [
    "### Viewing Method Signatures"
   ]
  },
  {
   "cell_type": "markdown",
   "id": "60b4d110-a9e1-4a6c-bdd3-08828b9777a2",
   "metadata": {},
   "source": [
    "## Simple Example"
   ]
  },
  {
   "cell_type": "markdown",
   "id": "c77e3e88-0058-45fb-aa8d-4df59251020c",
   "metadata": {},
   "source": [
    "## Request the Result"
   ]
  },
  {
   "cell_type": "code",
   "execution_count": null,
   "id": "b8ca1e16-6c38-4078-a2b8-40ee40aa20ec",
   "metadata": {},
   "outputs": [],
   "source": []
  }
 ],
 "metadata": {
  "kernelspec": {
   "display_name": "Python 3 (ipykernel)",
   "language": "python",
   "name": "python3"
  },
  "language_info": {
   "codemirror_mode": {
    "name": "ipython",
    "version": 3
   },
   "file_extension": ".py",
   "mimetype": "text/x-python",
   "name": "python",
   "nbconvert_exporter": "python",
   "pygments_lexer": "ipython3",
   "version": "3.11.4"
  },
  "toc": {
   "base_numbering": 1,
   "nav_menu": {},
   "number_sections": true,
   "sideBar": true,
   "skip_h1_title": false,
   "title_cell": "Table of Contents",
   "title_sidebar": "Contents",
   "toc_cell": false,
   "toc_position": {},
   "toc_section_display": true,
   "toc_window_display": true
  }
 },
 "nbformat": 4,
 "nbformat_minor": 5
}
