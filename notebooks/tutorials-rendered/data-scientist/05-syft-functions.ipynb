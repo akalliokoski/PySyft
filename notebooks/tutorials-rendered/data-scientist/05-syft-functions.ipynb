{
 "cells": [
  {
   "cell_type": "markdown",
   "id": "bb5a6470-881e-4761-aaf5-cdb65fb9e976",
   "metadata": {},
   "source": [
    "# Syft Functions"
   ]
  },
  {
   "cell_type": "markdown",
   "id": "5e6adc9b",
   "metadata": {},
   "source": [
    "## Install"
   ]
  },
  {
   "cell_type": "code",
   "execution_count": 1,
   "id": "2c51bdc5",
   "metadata": {
    "execution": {
     "iopub.execute_input": "2023-06-29T09:45:15.017560Z",
     "iopub.status.busy": "2023-06-29T09:45:15.017140Z",
     "iopub.status.idle": "2023-06-29T09:45:15.025464Z",
     "shell.execute_reply": "2023-06-29T09:45:15.024814Z"
    }
   },
   "outputs": [],
   "source": [
    "SYFT_VERSION = \">=0.8.2.b0,<0.9\"\n",
    "package_string = f'\"syft{SYFT_VERSION}\"'\n",
    "# %pip install {package_string} -f https://whls.blob.core.windows.net/unstable/index.html"
   ]
  },
  {
   "cell_type": "code",
   "execution_count": 2,
   "id": "d7941c5b",
   "metadata": {
    "execution": {
     "iopub.execute_input": "2023-06-29T09:45:15.028265Z",
     "iopub.status.busy": "2023-06-29T09:45:15.027837Z",
     "iopub.status.idle": "2023-06-29T09:45:17.382429Z",
     "shell.execute_reply": "2023-06-29T09:45:17.381271Z"
    }
   },
   "outputs": [
    {
     "name": "stdout",
     "output_type": "stream",
     "text": [
      "✅ The installed version of syft==0.8.2b2 matches the requirement >=0.8.2b0 and the requirement <0.9\n"
     ]
    }
   ],
   "source": [
    "import syft as sy\n",
    "sy.requires(SYFT_VERSION)"
   ]
  },
  {
   "cell_type": "code",
   "execution_count": 3,
   "id": "c5f3da7b",
   "metadata": {
    "execution": {
     "iopub.execute_input": "2023-06-29T09:45:17.386746Z",
     "iopub.status.busy": "2023-06-29T09:45:17.386246Z",
     "iopub.status.idle": "2023-06-29T09:45:18.439786Z",
     "shell.execute_reply": "2023-06-29T09:45:18.438807Z"
    }
   },
   "outputs": [
    {
     "name": "stdout",
     "output_type": "stream",
     "text": [
      "Starting syft-functions-example-domain-1 server on 0.0.0.0:7022\n"
     ]
    },
    {
     "name": "stdout",
     "output_type": "stream",
     "text": [
      "Waiting for server to start Done.\n"
     ]
    }
   ],
   "source": [
    "node = sy.orchestra.launch(name=\"syft-functions-example-domain-1\",port=7022, reset=True)"
   ]
  },
  {
   "cell_type": "markdown",
   "id": "7cb9d9f2",
   "metadata": {},
   "source": [
    "## Setup"
   ]
  },
  {
   "cell_type": "markdown",
   "id": "927b7a30",
   "metadata": {},
   "source": [
    "Lets login with our root user."
   ]
  },
  {
   "cell_type": "code",
   "execution_count": 4,
   "id": "8ffffff6",
   "metadata": {
    "execution": {
     "iopub.execute_input": "2023-06-29T09:45:18.444387Z",
     "iopub.status.busy": "2023-06-29T09:45:18.443521Z",
     "iopub.status.idle": "2023-06-29T09:45:20.008155Z",
     "shell.execute_reply": "2023-06-29T09:45:20.006771Z"
    }
   },
   "outputs": [
    {
     "name": "stdout",
     "output_type": "stream",
     "text": [
      "Logged into syft-functions-example-domain-1 as <info@openmined.org>\n"
     ]
    }
   ],
   "source": [
    "from syft.service.user.user import UserCreate\n",
    "admin_client = node.login(email=\"info@openmined.org\", password=\"changethis\")\n"
   ]
  },
  {
   "cell_type": "markdown",
   "id": "0b0dc91d",
   "metadata": {},
   "source": [
    "Create a dummy dataset for experimenting"
   ]
  },
  {
   "cell_type": "code",
   "execution_count": 5,
   "id": "830c93bd",
   "metadata": {
    "execution": {
     "iopub.execute_input": "2023-06-29T09:45:20.013966Z",
     "iopub.status.busy": "2023-06-29T09:45:20.013093Z",
     "iopub.status.idle": "2023-06-29T09:45:20.160076Z",
     "shell.execute_reply": "2023-06-29T09:45:20.159200Z"
    }
   },
   "outputs": [
    {
     "name": "stderr",
     "output_type": "stream",
     "text": [
      "\r",
      "  0%|          | 0/1 [00:00<?, ?it/s]"
     ]
    },
    {
     "name": "stderr",
     "output_type": "stream",
     "text": [
      "\r",
      "100%|██████████| 1/1 [00:00<00:00, 14.01it/s]"
     ]
    },
    {
     "name": "stdout",
     "output_type": "stream",
     "text": [
      "Uploading: my asset\n"
     ]
    },
    {
     "name": "stderr",
     "output_type": "stream",
     "text": [
      "\n"
     ]
    },
    {
     "data": {
      "text/html": [
       "<div class=\"alert-success\" style=\"padding:5px;\"><strong>SyftSuccess</strong>: Dataset uploaded to 'syft-functions-example-domain-1'. To see the datasets uploaded by a client on this node, use command `[your_client].datasets`</div><br />"
      ],
      "text/plain": [
       "<class 'syft.service.response.SyftSuccess'>: Dataset uploaded to 'syft-functions-example-domain-1'. To see the datasets uploaded by a client on this node, use command `[your_client].datasets`"
      ]
     },
     "execution_count": 5,
     "metadata": {},
     "output_type": "execute_result"
    }
   ],
   "source": [
    "import numpy as np\n",
    "dataset = sy.Dataset(\n",
    "    name=\"my dataset\",\n",
    "    asset_list=[\n",
    "        sy.Asset(\n",
    "        name=\"my asset\",\n",
    "        data=np.array([1,2,3]),\n",
    "        mock=np.array([1,1,1])\n",
    "    )]\n",
    ")\n",
    "admin_client.upload_dataset(dataset)"
   ]
  },
  {
   "cell_type": "markdown",
   "id": "4eab10b8",
   "metadata": {},
   "source": [
    "Create a new user to use as a data scientist account"
   ]
  },
  {
   "cell_type": "code",
   "execution_count": 6,
   "id": "68301a0c",
   "metadata": {
    "execution": {
     "iopub.execute_input": "2023-06-29T09:45:20.163872Z",
     "iopub.status.busy": "2023-06-29T09:45:20.163096Z",
     "iopub.status.idle": "2023-06-29T09:45:20.573668Z",
     "shell.execute_reply": "2023-06-29T09:45:20.572904Z"
    }
   },
   "outputs": [
    {
     "data": {
      "text/html": [
       "<div class=\"alert-success\" style=\"padding:5px;\"><strong>SyftSuccess</strong>: User 'Jane Doe' successfully registered! To see users, run `[your_client].users`</div><br />"
      ],
      "text/plain": [
       "<class 'syft.service.response.SyftSuccess'>: User 'Jane Doe' successfully registered! To see users, run `[your_client].users`"
      ]
     },
     "execution_count": 6,
     "metadata": {},
     "output_type": "execute_result"
    }
   ],
   "source": [
    "admin_client.register(name=\"Jane Doe\", email=\"jane@caltech.edu\",\n",
    "                            password=\"abc123\", institution=\"Caltech\", website=\"https://www.caltech.edu/\")"
   ]
  },
  {
   "cell_type": "code",
   "execution_count": 7,
   "id": "21faef9f",
   "metadata": {
    "execution": {
     "iopub.execute_input": "2023-06-29T09:45:20.576912Z",
     "iopub.status.busy": "2023-06-29T09:45:20.576659Z",
     "iopub.status.idle": "2023-06-29T09:45:21.969684Z",
     "shell.execute_reply": "2023-06-29T09:45:21.968911Z"
    }
   },
   "outputs": [
    {
     "name": "stdout",
     "output_type": "stream",
     "text": [
      "Logged into syft-functions-example-domain-1 as <jane@caltech.edu>\n"
     ]
    }
   ],
   "source": [
    "guest_client = node.client.login(email=\"jane@caltech.edu\", password=\"abc123\")"
   ]
  },
  {
   "cell_type": "markdown",
   "id": "34cb1f92-a080-46c7-89be-38293520b3de",
   "metadata": {},
   "source": [
    "## Defining a Syft Function"
   ]
  },
  {
   "cell_type": "markdown",
   "id": "e5494483",
   "metadata": {},
   "source": [
    "Let's say you want to compute the mean of some numbers remotely with PySyft. How do you do that? Pretty easy actually:"
   ]
  },
  {
   "cell_type": "code",
   "execution_count": 8,
   "id": "1692a01e",
   "metadata": {
    "execution": {
     "iopub.execute_input": "2023-06-29T09:45:21.973167Z",
     "iopub.status.busy": "2023-06-29T09:45:21.972675Z",
     "iopub.status.idle": "2023-06-29T09:45:21.980079Z",
     "shell.execute_reply": "2023-06-29T09:45:21.979430Z"
    }
   },
   "outputs": [
    {
     "name": "stdout",
     "output_type": "stream",
     "text": [
      "Syft function 'func' successfully created. To add a code request, please create a project using `project = syft.Project(...)`, then use command `project.create_code_request`.\n"
     ]
    }
   ],
   "source": [
    "@sy.syft_function_single_use()\n",
    "def func():\n",
    "    # run some computation\n",
    "    data = list(range(100))\n",
    "    return sum(data) / 100"
   ]
  },
  {
   "cell_type": "markdown",
   "id": "98ce6e6d-4a09-46f0-9cb9-9bf72008d98f",
   "metadata": {},
   "source": [
    "## Input Policies"
   ]
  },
  {
   "cell_type": "markdown",
   "id": "2bc7b65e",
   "metadata": {},
   "source": [
    "That's great but what if we want to run this function with some parameters? Maybe even some private data (why do remote data science without remote data?). Here's where Input Policies come into play. Their purpose is to define what rules will we follow when it comes to the inputs of a syft function. At the moment we provide what we call an `ExactMatch` policy which allows data scientists to specify a private asset they would like to use, just like this:"
   ]
  },
  {
   "cell_type": "code",
   "execution_count": 9,
   "id": "a0993053",
   "metadata": {
    "execution": {
     "iopub.execute_input": "2023-06-29T09:45:21.983047Z",
     "iopub.status.busy": "2023-06-29T09:45:21.982607Z",
     "iopub.status.idle": "2023-06-29T09:45:22.038071Z",
     "shell.execute_reply": "2023-06-29T09:45:22.037060Z"
    }
   },
   "outputs": [],
   "source": [
    "asset = guest_client.datasets[0].assets[0]"
   ]
  },
  {
   "cell_type": "code",
   "execution_count": 10,
   "id": "8ec42760",
   "metadata": {
    "execution": {
     "iopub.execute_input": "2023-06-29T09:45:22.042428Z",
     "iopub.status.busy": "2023-06-29T09:45:22.041478Z",
     "iopub.status.idle": "2023-06-29T09:45:22.047536Z",
     "shell.execute_reply": "2023-06-29T09:45:22.046834Z"
    }
   },
   "outputs": [],
   "source": [
    "SYFT_VERSION = \">=0.8.2.b0,<0.9\"\n",
    "package_string = f'\"syft{SYFT_VERSION}\"'\n",
    "# %pip install {package_string} -f https://whls.blob.core.windows.net/unstable/index.html"
   ]
  },
  {
   "cell_type": "code",
   "execution_count": 11,
   "id": "d0ae3f35",
   "metadata": {
    "execution": {
     "iopub.execute_input": "2023-06-29T09:45:22.050554Z",
     "iopub.status.busy": "2023-06-29T09:45:22.050182Z",
     "iopub.status.idle": "2023-06-29T09:45:22.056378Z",
     "shell.execute_reply": "2023-06-29T09:45:22.055563Z"
    }
   },
   "outputs": [
    {
     "name": "stdout",
     "output_type": "stream",
     "text": [
      "✅ The installed version of syft==0.8.2b2 matches the requirement >=0.8.2b0 and the requirement <0.9\n"
     ]
    }
   ],
   "source": [
    "import syft as sy\n",
    "sy.requires(SYFT_VERSION)"
   ]
  },
  {
   "cell_type": "code",
   "execution_count": 12,
   "id": "559bef2a",
   "metadata": {
    "execution": {
     "iopub.execute_input": "2023-06-29T09:45:22.059273Z",
     "iopub.status.busy": "2023-06-29T09:45:22.059004Z",
     "iopub.status.idle": "2023-06-29T09:45:22.084020Z",
     "shell.execute_reply": "2023-06-29T09:45:22.083266Z"
    }
   },
   "outputs": [
    {
     "name": "stdout",
     "output_type": "stream",
     "text": [
      "Syft function 'mean' successfully created. To add a code request, please create a project using `project = syft.Project(...)`, then use command `project.create_code_request`.\n"
     ]
    }
   ],
   "source": [
    "@sy.syft_function(input_policy=sy.ExactMatch(data=asset),\n",
    "                  output_policy=sy.SingleExecutionExactOutput())\n",
    "def mean(data):\n",
    "    return sum(data)/len(data)"
   ]
  },
  {
   "cell_type": "markdown",
   "id": "2ccf735d-796c-4c21-8f7c-0dfc3f8cdc2c",
   "metadata": {},
   "source": [
    "## Output Policies"
   ]
  },
  {
   "cell_type": "markdown",
   "id": "6b8f5a42",
   "metadata": {},
   "source": [
    "You have probably noticed that in the last example we also specified the output policy. Its purpose has to do with the release of information for a given function and controlling the parameters that this release comes with. For example, if a data owner and a data scientist agree on the content of a function run on a domain and on what private data that can be run on, their work might not be done yet. They might negotiate how many times that function can be run, whether or not the data scientist can have access  or what happens before releasing the output (maybe we add some noise like in the case of differential privacy). At the moment we have policies that allow data scientist to ask for a certain amount of runs on function, but the ones you will find most often is `SingleExecutionExactOutput` that ask for a single use on a function. We have used it so much that we came with the `syft_function_single_use` decorator that use by default that output policy. What is also cool is that you can pass the input for an input policy to this decorator to get a shorter version like this:"
   ]
  },
  {
   "cell_type": "code",
   "execution_count": 13,
   "id": "42e56099",
   "metadata": {
    "execution": {
     "iopub.execute_input": "2023-06-29T09:45:22.087182Z",
     "iopub.status.busy": "2023-06-29T09:45:22.086718Z",
     "iopub.status.idle": "2023-06-29T09:45:22.106188Z",
     "shell.execute_reply": "2023-06-29T09:45:22.105490Z"
    }
   },
   "outputs": [
    {
     "name": "stdout",
     "output_type": "stream",
     "text": [
      "Syft function 'mean' successfully created. To add a code request, please create a project using `project = syft.Project(...)`, then use command `project.create_code_request`.\n"
     ]
    }
   ],
   "source": [
    "# same functionality as before, just faster to write\n",
    "@sy.syft_function_single_use(data=asset)\n",
    "def mean(data):\n",
    "    return sum(data)/len(data)"
   ]
  },
  {
   "cell_type": "markdown",
   "id": "18992983",
   "metadata": {},
   "source": [
    "We are working on extending the functionalities of these policies to truly accomplish the goals we have in mind for them. However, if you have a specific use case in mind and can't wait to use it in your remote data science pipeline, check the custom policies notebook that teaches you how to implement your own input and output policies (and also reuse other users' submitted policies)!"
   ]
  },
  {
   "cell_type": "markdown",
   "id": "7d4255b0-be84-48cd-8a74-f0d6c15153ac",
   "metadata": {},
   "source": [
    "## Testing it Locally"
   ]
  },
  {
   "cell_type": "markdown",
   "id": "a680a78d",
   "metadata": {},
   "source": [
    "\"Right, so we have defined a function for remote use, but can I run it locally?\" - you probably ask\n",
    "\n",
    "Yeah, of course you can!  "
   ]
  },
  {
   "cell_type": "code",
   "execution_count": 14,
   "id": "1ede8a86",
   "metadata": {
    "execution": {
     "iopub.execute_input": "2023-06-29T09:45:22.109559Z",
     "iopub.status.busy": "2023-06-29T09:45:22.108896Z",
     "iopub.status.idle": "2023-06-29T09:45:22.116384Z",
     "shell.execute_reply": "2023-06-29T09:45:22.115746Z"
    }
   },
   "outputs": [
    {
     "data": {
      "text/plain": [
       "49.5"
      ]
     },
     "execution_count": 14,
     "metadata": {},
     "output_type": "execute_result"
    }
   ],
   "source": [
    "func()"
   ]
  },
  {
   "cell_type": "markdown",
   "id": "998585f9",
   "metadata": {},
   "source": [
    "\"Sure, but what about functions on the assets? That can't work!\"\n",
    "\n",
    "YEAH IT CAN!!"
   ]
  },
  {
   "cell_type": "code",
   "execution_count": 15,
   "id": "0e46b4c2",
   "metadata": {
    "execution": {
     "iopub.execute_input": "2023-06-29T09:45:22.119759Z",
     "iopub.status.busy": "2023-06-29T09:45:22.119169Z",
     "iopub.status.idle": "2023-06-29T09:45:22.149989Z",
     "shell.execute_reply": "2023-06-29T09:45:22.149305Z"
    }
   },
   "outputs": [
    {
     "data": {
      "text/plain": [
       "1.0"
      ]
     },
     "execution_count": 15,
     "metadata": {},
     "output_type": "execute_result"
    }
   ],
   "source": [
    "mean(data=asset)"
   ]
  },
  {
   "cell_type": "markdown",
   "id": "952f2687",
   "metadata": {},
   "source": [
    "If you paid attention when we defined the dataset, you probably noticed that for the asset we have added we specified both **the private data and the mock data, and this runs on the mock data**. We use the mock data to test function on the data scientist side. This mock data requires no special access or permissions, because it is public data. This can be data that only matches the structure of the private data or might even be synthetic data if the data owner provides it. Its main goal is to help data scientists to test their functions locally before submitting a request to filter noisy requests in the process. If you would like to learn more about the data owner experience, please check out the notebooks under the tutorials section."
   ]
  },
  {
   "cell_type": "markdown",
   "id": "d1232d20-0446-4a48-b28c-59029b327eb4",
   "metadata": {},
   "source": [
    "## Submitting it for Approval"
   ]
  },
  {
   "cell_type": "markdown",
   "id": "a6045713",
   "metadata": {},
   "source": [
    "Now that we are sure our function works at intended on the mock data, we are ready to submit a request. The cleanest way to do that is to first create a project and attach your request there."
   ]
  },
  {
   "cell_type": "code",
   "execution_count": 16,
   "id": "8a799001",
   "metadata": {
    "execution": {
     "iopub.execute_input": "2023-06-29T09:45:22.153129Z",
     "iopub.status.busy": "2023-06-29T09:45:22.152665Z",
     "iopub.status.idle": "2023-06-29T09:45:22.160316Z",
     "shell.execute_reply": "2023-06-29T09:45:22.159644Z"
    }
   },
   "outputs": [
    {
     "data": {
      "text/html": [
       "\n",
       "            <style>\n",
       "            .syft-project-create {color: #464158;}\n",
       "            </style>\n",
       "            <div class='syft-project-create'><h3>My Cool Project</h3><p>Hi, I want to calculate the mean of your private data,                    pretty please!</p><p><strong>Created by: </strong>jane@caltech.edu</p></div>"
      ],
      "text/markdown": [
       "```python\n",
       "class ProjectSubmit:\n",
       "  id: str = ad739e306daf455ea2489dc85ea4722a\n",
       "  name: str = \"My Cool Project\"\n",
       "  description: str = \"Hi, I want to calculate the mean of your private data,                    pretty please!\"\n",
       "  created_by: str = \"jane@caltech.edu\"\n",
       "\n",
       "```"
      ],
      "text/plain": [
       "syft.service.project.project.ProjectSubmit"
      ]
     },
     "execution_count": 16,
     "metadata": {},
     "output_type": "execute_result"
    }
   ],
   "source": [
    "# Create a project\n",
    "new_project = sy.Project(\n",
    "    name=\"My Cool Project\",\n",
    "    description=\"\"\"Hi, I want to calculate the mean of your private data,\\\n",
    "                    pretty please!\"\"\",\n",
    "    members=[guest_client],\n",
    ")\n",
    "new_project"
   ]
  },
  {
   "cell_type": "markdown",
   "id": "c1f10706",
   "metadata": {},
   "source": [
    "Now let's add a code request to the project:"
   ]
  },
  {
   "cell_type": "code",
   "execution_count": 17,
   "id": "fbec01ba",
   "metadata": {
    "execution": {
     "iopub.execute_input": "2023-06-29T09:45:22.163165Z",
     "iopub.status.busy": "2023-06-29T09:45:22.162935Z",
     "iopub.status.idle": "2023-06-29T09:45:23.349383Z",
     "shell.execute_reply": "2023-06-29T09:45:23.348347Z"
    }
   },
   "outputs": [
    {
     "data": {
      "text/html": [
       "<div class=\"alert-success\" style=\"padding:5px;\"><strong>SyftSuccess</strong>: Code request for 'mean' successfully added to 'My Cool Project' Project. To see code requests by a client, run `[your_client].code`</div><br />"
      ],
      "text/plain": [
       "<class 'syft.service.response.SyftSuccess'>: Code request for 'mean' successfully added to 'My Cool Project' Project. To see code requests by a client, run `[your_client].code`"
      ]
     },
     "execution_count": 17,
     "metadata": {},
     "output_type": "execute_result"
    }
   ],
   "source": [
    "new_project.create_code_request(mean, guest_client)"
   ]
  },
  {
   "cell_type": "markdown",
   "id": "34093288",
   "metadata": {},
   "source": [
    "Now we can start our project by simply running "
   ]
  },
  {
   "cell_type": "code",
   "execution_count": 18,
   "id": "a2dfcf9a",
   "metadata": {
    "execution": {
     "iopub.execute_input": "2023-06-29T09:45:23.352849Z",
     "iopub.status.busy": "2023-06-29T09:45:23.352305Z",
     "iopub.status.idle": "2023-06-29T09:45:24.670586Z",
     "shell.execute_reply": "2023-06-29T09:45:24.669822Z"
    }
   },
   "outputs": [
    {
     "data": {
      "text/html": [
       "\n",
       "            <style>\n",
       "            .syft-project {color: #464158;}\n",
       "            </style>\n",
       "            <div class='syft-project'><h3>My Cool Project</h3><p>Hi, I want to calculate the mean of your private data,                    pretty please!</p><p><strong>Created by: </strong>jane@caltech.edu</p>\n",
       "<style>\n",
       "  .header-1 {\n",
       "        font-style: normal;\n",
       "        font-weight: 600;\n",
       "        font-size: 2.0736em;\n",
       "        line-height: 100%;\n",
       "        leading-trim: both;\n",
       "        text-edge: cap;\n",
       "        color: #17161D;\n",
       "    }\n",
       "\n",
       "  .header-2 {\n",
       "        font-style: normal;\n",
       "        font-weight: 600;\n",
       "        font-size: 1.728em;\n",
       "        line-height: 100%;\n",
       "        leading-trim: both;\n",
       "        text-edge: cap;\n",
       "        color: #17161D;\n",
       "    }\n",
       "\n",
       "  .header-3 {\n",
       "        font-style: normal;\n",
       "        font-weight: 600;\n",
       "        font-size:  1.44em;\n",
       "        line-height: 100%;\n",
       "        leading-trim: both;\n",
       "        text-edge: cap;\n",
       "        color: #17161D;\n",
       "    }\n",
       "\n",
       "  .header-4 {\n",
       "        font-style: normal;\n",
       "        font-weight: 600;\n",
       "        font-size: 1.2em;\n",
       "        line-height: 100%;\n",
       "        leading-trim: both;\n",
       "        text-edge: cap;\n",
       "        color: #17161D;\n",
       "    }\n",
       "\n",
       "    .paragraph {\n",
       "        font-style: normal;\n",
       "        font-weight: 400;\n",
       "        font-size: 14px;\n",
       "        line-height: 100%;\n",
       "        leading-trim: both;\n",
       "        text-edge: cap;\n",
       "        color: #2E2B3B;\n",
       "    }\n",
       "\n",
       "    .paragraph-sm {\n",
       "        font-family: 'Roboto';\n",
       "        font-style: normal;\n",
       "        font-weight: 400;\n",
       "        font-size: 11.62px;\n",
       "        line-height: 100%;\n",
       "        leading-trim: both;\n",
       "        text-edge: cap;\n",
       "        color: #2E2B3B;\n",
       "    }\n",
       "    .code-text {\n",
       "        font-family: 'Consolas';\n",
       "        font-style: normal;\n",
       "        font-weight: 400;\n",
       "        font-size: 13px;\n",
       "        line-height: 130%;\n",
       "        leading-trim: both;\n",
       "        text-edge: cap;\n",
       "        color: #2E2B3B;\n",
       "    }\n",
       "\n",
       "    .numbering-entry { display: none }\n",
       "\n",
       "    /* Tooltip container */\n",
       "    .tooltip {\n",
       "        position: relative;\n",
       "        display: inline-block;\n",
       "        border-bottom: 1px dotted black; /* If you want dots under the hoverable text */\n",
       "    }\n",
       "\n",
       "    /* Tooltip text */\n",
       "    .tooltip .tooltiptext {\n",
       "        visibility: hidden;\n",
       "        width: 120px;\n",
       "        background-color: black;\n",
       "        color: #fff;\n",
       "        text-align: center;\n",
       "        padding: 5px 0;\n",
       "        border-radius: 6px;\n",
       "\n",
       "        /* Position the tooltip text - see examples below! */\n",
       "        position: absolute;\n",
       "        z-index: 1;\n",
       "    }\n",
       "\n",
       "    .repr-cell {\n",
       "      padding-top: 20px;\n",
       "    }\n",
       "\n",
       "    .text-bold {\n",
       "        font-weight: bold;\n",
       "    }\n",
       "\n",
       "    .pr-8 {\n",
       "        padding-right: 8px;\n",
       "    }\n",
       "    .pt-8 {\n",
       "        padding-top: 8px;\n",
       "    }\n",
       "    .pl-8 {\n",
       "        padding-left: 8px;\n",
       "    }\n",
       "    .pb-8 {\n",
       "        padding-bottom: 8px;\n",
       "    }\n",
       "\n",
       "    .py-25{\n",
       "        padding-top: 25px;\n",
       "        padding-bottom: 25px;\n",
       "    }\n",
       "\n",
       "    .flex {\n",
       "        display: flex;\n",
       "    }\n",
       "\n",
       "    .gap-10 {\n",
       "        gap: 10px;\n",
       "    }\n",
       "    .items-center{\n",
       "        align-items: center;\n",
       "    }\n",
       "\n",
       "    .search-input{\n",
       "        display: flex;\n",
       "        flex-direction: row;\n",
       "        align-items: center;\n",
       "        padding: 8px 12px;\n",
       "        width: 343px;\n",
       "        height: 24px;\n",
       "        /* Lt On Surface/Low */\n",
       "        background: #F1F0F4;\n",
       "        border-radius: 30px;\n",
       "\n",
       "        /* Lt On Surface/Highest */\n",
       "        color: #B4B0BF;\n",
       "        border:none;\n",
       "        /* Inside auto layout */\n",
       "        flex: none;\n",
       "        order: 0;\n",
       "        flex-grow: 0;\n",
       "    }\n",
       "    .search-input:focus {\n",
       "        outline: none;\n",
       "    }\n",
       "\n",
       "    .search-button{\n",
       "        /* Search */\n",
       "        leading-trim: both;\n",
       "        text-edge: cap;\n",
       "        display: flex;\n",
       "        align-items: center;\n",
       "        text-align: center;\n",
       "\n",
       "        /* Primary/On Light */\n",
       "        color: #464A91;\n",
       "\n",
       "        border-radius: 30px;\n",
       "        border-color: #464A91;\n",
       "        /* Inside auto layout */\n",
       "        flex: none;\n",
       "        order: 1;\n",
       "        flex-grow: 0;\n",
       "    }\n",
       "\n",
       "    .grid-table4d7332a215ad4422857014e25aefadba {\n",
       "        display:grid;\n",
       "        grid-template-columns: 1fr repeat(24, 1fr);\n",
       "        grid-template-rows: repeat(2, 1fr);\n",
       "        overflow-x: auto;\n",
       "    }\n",
       "\n",
       "    .grid-std-cells {\n",
       "        grid-column: span 4;\n",
       "\n",
       "    }\n",
       "    .grid-index-cells {\n",
       "        grid-column: span 1;\n",
       "        background: #ECEBEF;\n",
       "        /* tmp fix to make left col stand out (fix with font-family) */\n",
       "        font-weight: 600;\n",
       "    }\n",
       "\n",
       "    .grid-header {\n",
       "        /* Auto layout */\n",
       "        display: flex;\n",
       "        flex-direction: column;\n",
       "        align-items: flex-start;\n",
       "        padding: 6px 4px;\n",
       "\n",
       "        /* Lt On Surface/Surface */\n",
       "        background: #ECEBEF;\n",
       "        /* Lt On Surface/High */\n",
       "        border: 1px solid #CFCDD6;\n",
       "        color: #2E2B3B;\n",
       "        /* tmp fix to make header stand out (fix with font-family) */\n",
       "        font-weight: 600;\n",
       "    }\n",
       "\n",
       "    .grid-row {\n",
       "        color: #5E5A72;\n",
       "        display: flex;\n",
       "        flex-direction: column;\n",
       "        align-items: flex-start;\n",
       "        padding: 6px 4px;\n",
       "        overflow: hidden;\n",
       "        border: 1px solid #CFCDD6;\n",
       "    }\n",
       "\n",
       "    .badge {\n",
       "        code-text;\n",
       "        border-radius: 30px;\n",
       "    }\n",
       "\n",
       "    .badge-blue {\n",
       "        badge;\n",
       "        background-color: #C2DEF0;\n",
       "        color: #1F567A;\n",
       "    }\n",
       "\n",
       "    .badge-purple {\n",
       "        badge;\n",
       "        background-color: #C9CFE8;\n",
       "        color: #373B7B;\n",
       "    }\n",
       "\n",
       "    .badge-green {\n",
       "        badge;\n",
       "\n",
       "        /* Success/Container */\n",
       "        background-color: #D5F1D5;\n",
       "        color: #256B24;\n",
       "    }\n",
       "\n",
       "    .badge-red {\n",
       "        badge;\n",
       "        background-color: #F2D9DE;\n",
       "        color: #9B2737;\n",
       "    }\n",
       "\n",
       "    .badge-gray {\n",
       "        badge;\n",
       "        background-color: #ECEBEF;\n",
       "        color: #2E2B3B;\n",
       "    }\n",
       "    .paginationContainer{\n",
       "        width: 100%;\n",
       "        height: 30px;\n",
       "        display: flex;\n",
       "        justify-content: center;\n",
       "        gap: 8px;\n",
       "        padding: 5px;\n",
       "    }\n",
       "\n",
       "    .page{\n",
       "        color: black;\n",
       "        font-weight: bold;\n",
       "    }\n",
       "    .page:hover {\n",
       "      color: #38bdf8;\n",
       "      cursor: pointer;\n",
       "    }\n",
       "    .clipboard:hover{\n",
       "        cursor: pointer;\n",
       "    }\n",
       "\n",
       "    .search-field {\n",
       "        display: flex;\n",
       "        align-items: center;\n",
       "        background: #F1F0F4;\n",
       "        border-radius: 30px;\n",
       "    }\n",
       "\n",
       "    .syft-dropdown {\n",
       "        margin: 5px;\n",
       "        margin-left: 5px;\n",
       "        position: relative;\n",
       "        display: inline-block;\n",
       "        text-align: center;\n",
       "        background-color: #d1d5db;\n",
       "        min-width: 100px;\n",
       "        padding: 2px;\n",
       "        border-radius: 30px;\n",
       "    }\n",
       "\n",
       "    .syft-dropdown:hover {\n",
       "        cursor: pointer;\n",
       "    }\n",
       "    .syft-dropdown-content {\n",
       "        margin-top:26px;\n",
       "        display: none;\n",
       "        position: absolute;\n",
       "        background-color: #f9f9f9;\n",
       "        min-width: 100px;\n",
       "        box-shadow: 0px 8px 16px 0px rgba(0,0,0,0.2);\n",
       "        padding: 12px 6px;\n",
       "        z-index: 1;\n",
       "    }\n",
       "    .dd-options {\n",
       "        padding-top: 4px;\n",
       "    }\n",
       "    .dd-options:first-of-type {\n",
       "        padding-top: 0px;\n",
       "    }\n",
       "\n",
       "    .dd-options:hover {\n",
       "        cursor: pointer;\n",
       "        background: #d1d5db;\n",
       "    }\n",
       "    .arrow {\n",
       "        border: solid black;\n",
       "        border-width: 0 3px 3px 0;\n",
       "        display: inline-block;\n",
       "        padding: 3px;\n",
       "    }\n",
       "    .down {\n",
       "        transform: rotate(45deg);\n",
       "        -webkit-transform: rotate(45deg);\n",
       "    }\n",
       "</style>\n",
       "\n",
       "\n",
       "    <div style='margin-top:15px;'>\n",
       "        <div class='flex gap-10' style='align-items: center;'>\n",
       "            <div><svg width=\"32\"  height=\"32\" viewBox=\"0 0 12 12\" fill=\"none\" xmlns=\"http://www.w3.org/2000/svg\"><path d=\"M11 0H1C0.734784 0 0.48043 0.105357 0.292893 0.292893C0.105357 0.48043 0 0.734784 0 1V11C0 11.2652 0.105357 11.5196 0.292893 11.7071C0.48043 11.8946 0.734784 12 1 12H11C11.2652 12 11.5196 11.8946 11.7071 11.7071C11.8946 11.5196 12 11.2652 12 11V1C12 0.734784 11.8946 0.48043 11.7071 0.292893C11.5196 0.105357 11.2652 0 11 0ZM11 1V7.5H9.20625C9.07499 7.49966 8.94496 7.5254 8.82372 7.57572C8.70248 7.62604 8.59245 7.69994 8.5 7.79313L7.29313 9H4.70687L3.5 7.79313C3.40748 7.69986 3.29734 7.62592 3.17599 7.5756C3.05464 7.52528 2.9245 7.49958 2.79313 7.5H1V1H11ZM11 11H1V8.5H2.79313L4 9.70687C4.09252 9.80014 4.20266 9.87408 4.32401 9.9244C4.44536 9.97472 4.5755 10.0004 4.70687 10H7.29313C7.4245 10.0004 7.55464 9.97472 7.67599 9.9244C7.79734 9.87408 7.90748 9.80014 8 9.70687L9.20687 8.5H11V11Z\" fill=\"#343330\"/></svg></div>\n",
       "            <div><p class='header-3'>Request List</p></div>\n",
       "        </div>\n",
       "\n",
       "            <div style=\"padding-top: 16px; display:flex;justify-content: space-between; align-items: center;\">\n",
       "                <div class='pt-25 gap-10' style=\"display:flex;\">\n",
       "                    <div class=\"search-field\">\n",
       "                        <div id='search-menu4d7332a215ad4422857014e25aefadba' class=\"syft-dropdown\" onclick=\"{\n",
       "                            let doc = document.getElementById('search-dropdown-content4d7332a215ad4422857014e25aefadba')\n",
       "                            if (doc.style.display === 'block'){\n",
       "                                doc.style.display = 'none'\n",
       "                            } else {\n",
       "                                doc.style.display = 'block'\n",
       "                            }\n",
       "                            }\">\n",
       "                            <div id='search-dropdown-content4d7332a215ad4422857014e25aefadba' class='syft-dropdown-content'></div>\n",
       "                            <script>\n",
       "                                var element4d7332a215ad4422857014e25aefadba = [{\"id\": {\"value\": \"7453029d7a774d50be0d91ce63a5f599\", \"type\": \"clipboard\"}, \"changes\": \"Request to change <b>mean</b> to permission <b>RequestStatus.APPROVED</b>\", \"request time\": \"2023-06-29 09:45:22\", \"status\": {\"value\": \"Pending\", \"type\": \"badge-gray\"}, \"requesting user\": {\"value\": \"efed60d46aea695981d96f650b8901d7930c49b5325a28df086c34997a3d325a\", \"type\": \"clipboard\"}, \"reviewed_at\": \"None\"}]\n",
       "                                var page_size4d7332a215ad4422857014e25aefadba = 1\n",
       "                                var pageIndex4d7332a215ad4422857014e25aefadba = 1\n",
       "                                var paginatedElements4d7332a215ad4422857014e25aefadba = []\n",
       "                                var activeFilter4d7332a215ad4422857014e25aefadba;\n",
       "\n",
       "                                function buildDropDownMenu(elements){\n",
       "                                    let init_filter;\n",
       "                                    let menu = document.getElementById('search-dropdown-content4d7332a215ad4422857014e25aefadba')\n",
       "                                    if (elements.length > 0) {\n",
       "                                        let sample = elements[0]\n",
       "                                        for (const attr in sample) {\n",
       "                                            if (typeof init_filter === 'undefined'){\n",
       "                                                init_filter = attr;\n",
       "                                            }\n",
       "                                            let content = document.createElement('div');\n",
       "                                            content.onclick = function(event) {\n",
       "                                                event.stopPropagation()\n",
       "                                                document.getElementById('menu-active-filter4d7332a215ad4422857014e25aefadba').innerText = attr;\n",
       "                                                activeFilter4d7332a215ad4422857014e25aefadba = attr;\n",
       "                                                document.getElementById(\n",
       "                                                    'search-dropdown-content4d7332a215ad4422857014e25aefadba'\n",
       "                                                ).style.display= 'none';\n",
       "                                            }\n",
       "                                            content.classList.add(\"dd-options\");\n",
       "                                            content.innerText = attr;\n",
       "                                            menu.appendChild(content);\n",
       "                                        }\n",
       "                                    } else {\n",
       "                                        let init_filter = '---'\n",
       "                                    }\n",
       "                                    let dropdown_field = document.getElementById('search-menu4d7332a215ad4422857014e25aefadba')\n",
       "                                    let span = document.createElement('span')\n",
       "                                    span.setAttribute('id', 'menu-active-filter4d7332a215ad4422857014e25aefadba')\n",
       "                                    span.innerText = init_filter\n",
       "                                    activeFilter4d7332a215ad4422857014e25aefadba = init_filter;\n",
       "                                    dropdown_field.appendChild(span)\n",
       "                                }\n",
       "\n",
       "                                buildDropDownMenu(element4d7332a215ad4422857014e25aefadba)\n",
       "                            </script>\n",
       "                        </div>\n",
       "                        <input id='searchKey4d7332a215ad4422857014e25aefadba' class='search-input' placeholder='Enter search here ...'  />\n",
       "                    </div>\n",
       "                    <button class='search-button'  onclick=\"searchGrid4d7332a215ad4422857014e25aefadba(element4d7332a215ad4422857014e25aefadba)\">\n",
       "                        <svg width=\"11\" height=\"10\" viewBox=\"0 0 11 10\" fill=\"none\" xmlns=\"http://www.w3.org/2000/svg\"><path d=\"M10.5652 9.23467L8.21819 6.88811C8.89846 6.07141 9.23767 5.02389 9.16527 3.96345C9.09287 2.90302 8.61443 1.91132 7.82948 1.19466C7.04453 0.477995 6.01349 0.0915414 4.95087 0.115691C3.88824 0.139841 2.87583 0.572735 2.12425 1.32432C1.37266 2.0759 0.939768 3.08831 0.915618 4.15094C0.891468 5.21357 1.27792 6.2446 1.99459 7.02955C2.71125 7.8145 3.70295 8.29294 4.76338 8.36535C5.82381 8.43775 6.87134 8.09853 7.68804 7.41827L10.0346 9.7653C10.0694 9.80014 10.1108 9.82778 10.1563 9.84663C10.2018 9.86549 10.2506 9.87519 10.2999 9.87519C10.3492 9.87519 10.398 9.86549 10.4435 9.84663C10.489 9.82778 10.5304 9.80014 10.5652 9.7653C10.6001 9.73046 10.6277 9.68909 10.6466 9.64357C10.6654 9.59805 10.6751 9.54926 10.6751 9.49998C10.6751 9.45071 10.6654 9.40192 10.6466 9.3564C10.6277 9.31088 10.6001 9.26951 10.5652 9.23467ZM1.67491 4.24998C1.67491 3.58247 1.87285 2.92995 2.2437 2.37493C2.61455 1.81992 3.14165 1.38734 3.75835 1.13189C4.37506 0.876446 5.05366 0.809609 5.70834 0.939835C6.36303 1.07006 6.96439 1.3915 7.4364 1.8635C7.9084 2.3355 8.22984 2.93687 8.36006 3.59155C8.49029 4.24624 8.42345 4.92484 8.168 5.54154C7.91256 6.15824 7.47998 6.68535 6.92496 7.05619C6.36995 7.42704 5.71742 7.62498 5.04991 7.62498C4.15511 7.62399 3.29724 7.26809 2.66452 6.63537C2.0318 6.00265 1.6759 5.14479 1.67491 4.24998Z\" fill=\"#464A91\"/></svg>\n",
       "                        <span class='pl-8'>Search</span>\n",
       "                    </button>\n",
       "                </div>\n",
       "\n",
       "                <div><h4 id='total4d7332a215ad4422857014e25aefadba'>0</h4></div>\n",
       "            </div>\n",
       "            <div id='table4d7332a215ad4422857014e25aefadba' class='grid-table4d7332a215ad4422857014e25aefadba' style='margin-top: 25px;'>\n",
       "                <script>\n",
       "                    function paginate4d7332a215ad4422857014e25aefadba(arr, size) {\n",
       "                        const res = [];\n",
       "                        for (let i = 0; i < arr.length; i += size) {\n",
       "                            const chunk = arr.slice(i, i + size);\n",
       "                            res.push(chunk);\n",
       "                        }\n",
       "\n",
       "                        return res;\n",
       "                    }\n",
       "\n",
       "                    function searchGrid4d7332a215ad4422857014e25aefadba(elements){\n",
       "                        let searchKey = document.getElementById('searchKey4d7332a215ad4422857014e25aefadba').value\n",
       "                        console.log(\"Search Key: \", searchKey)\n",
       "                        let result;\n",
       "                        if (searchKey === ''){\n",
       "                            result = elements;\n",
       "                        } else {\n",
       "                            result = elements.filter((element) => {\n",
       "                                let property = element[activeFilter4d7332a215ad4422857014e25aefadba]\n",
       "                                if (typeof property === 'object' && property !== null){\n",
       "                                    return property.value.toLowerCase().includes(searchKey.toLowerCase());\n",
       "                                } else if (typeof property === 'string' ) {\n",
       "                                    return element[activeFilter4d7332a215ad4422857014e25aefadba].toLowerCase().includes(searchKey.toLowerCase());\n",
       "                                } else if (property !== null ) {\n",
       "                                    return element[activeFilter4d7332a215ad4422857014e25aefadba].toString() === searchKey;\n",
       "                                } else {\n",
       "                                    return element[activeFilter4d7332a215ad4422857014e25aefadba] === searchKey;\n",
       "                                }\n",
       "                            } );\n",
       "                        }\n",
       "                        resetById4d7332a215ad4422857014e25aefadba('table4d7332a215ad4422857014e25aefadba');\n",
       "                        resetById4d7332a215ad4422857014e25aefadba('pag4d7332a215ad4422857014e25aefadba');\n",
       "                        result = paginate4d7332a215ad4422857014e25aefadba(result, page_size4d7332a215ad4422857014e25aefadba)\n",
       "                        buildGrid4d7332a215ad4422857014e25aefadba(result,pageIndex4d7332a215ad4422857014e25aefadba);\n",
       "                        buildPaginationContainer4d7332a215ad4422857014e25aefadba(result);\n",
       "                    }\n",
       "\n",
       "                    function resetById4d7332a215ad4422857014e25aefadba(id){\n",
       "                        let element = document.getElementById(id);\n",
       "                        while (element.firstChild) {\n",
       "                          element.removeChild(element.firstChild);\n",
       "                        }\n",
       "                    }\n",
       "\n",
       "                    function buildGrid4d7332a215ad4422857014e25aefadba(items, pageIndex){\n",
       "                                let headers = Object.keys(element4d7332a215ad4422857014e25aefadba[0]);\n",
       "\n",
       "                                let grid = document.getElementById(\"table4d7332a215ad4422857014e25aefadba\");\n",
       "                                let div = document.createElement(\"div\");\n",
       "                                div.classList.add('grid-header', 'grid-index-cells');\n",
       "                                grid.appendChild(div);\n",
       "                                headers.forEach((title) =>{\n",
       "                                    let div = document.createElement(\"div\");\n",
       "                                    div.classList.add('grid-header', 'grid-std-cells');\n",
       "                                    div.innerText = title;\n",
       "\n",
       "                                    grid.appendChild(div);\n",
       "                                });\n",
       "\n",
       "                                let page = items[pageIndex -1]\n",
       "                                if (page !== 'undefine'){\n",
       "                                    let table_index4d7332a215ad4422857014e25aefadba = ((pageIndex - 1) * page_size4d7332a215ad4422857014e25aefadba)\n",
       "                                    page.forEach((item) => {\n",
       "                                        let grid = document.getElementById(\"table4d7332a215ad4422857014e25aefadba\");\n",
       "                                        // Add new index value in index cells\n",
       "                                        let divIndex = document.createElement(\"div\");\n",
       "                                        divIndex.classList.add('grid-row', 'grid-index-cells');\n",
       "                                        divIndex.innerText = table_index4d7332a215ad4422857014e25aefadba;\n",
       "                                        grid.appendChild(divIndex);\n",
       "\n",
       "                                        // Iterate over the actual obj\n",
       "                                        for (const attr in item) {\n",
       "                                            let div = document.createElement(\"div\");\n",
       "                                            if (typeof item[attr] === 'object'\n",
       "                                                && item[attr] !== null\n",
       "                                                && item[attr].hasOwnProperty('type')) {\n",
       "                                                if (item[attr].type.includes('badge')){\n",
       "                                                    let badge_div = document.createElement(\"div\");\n",
       "                                                    badge_div.classList.add('badge',item[attr].type)\n",
       "                                                    badge_div.innerText = String(item[attr].value).toUpperCase();\n",
       "                                                    div.appendChild(badge_div);\n",
       "                                                    div.classList.add('grid-row','grid-std-cells');\n",
       "                                                } else if (item[attr].type === \"clipboard\") {\n",
       "                                                    div.classList.add('grid-row','grid-std-cells');\n",
       "\n",
       "                                                    // Create clipboard div\n",
       "                                                    let clipboard_div = document.createElement('div');\n",
       "                                                    clipboard_div.style.display= 'flex';\n",
       "                                                    clipboard_div.classList.add(\"gap-10\")\n",
       "                                                    clipboard_div.style.justifyContent = \"space-between\";\n",
       "\n",
       "                                                    let id_text = document.createElement('div');\n",
       "                                                    if (item[attr].value == \"None\"){\n",
       "                                                        id_text.innerText = \"None\";\n",
       "                                                    }\n",
       "                                                    else{\n",
       "                                                        id_text.innerText = item[attr].value.slice(0,5) + \"...\";\n",
       "                                                    }\n",
       "\n",
       "                                                    clipboard_div.appendChild(id_text);\n",
       "                                                    let clipboard_img = document.createElement('div');\n",
       "                                                    clipboard_img.classList.add(\"clipboard\")\n",
       "                                                    div.onclick = function() {\n",
       "                                                        navigator.clipboard.writeText(item[attr].value);\n",
       "                                                    };\n",
       "                                                    clipboard_img.innerHTML = \"<svg width='8' height='8' viewBox='0 0 8 8' fill='none' xmlns='http://www.w3.org/2000/svg'><path d='M7.4375 0.25H2.4375C2.35462 0.25 2.27513 0.282924 2.21653 0.341529C2.15792 0.400134 2.125 0.47962 2.125 0.5625V2.125H0.5625C0.47962 2.125 0.400134 2.15792 0.341529 2.21653C0.282924 2.27513 0.25 2.35462 0.25 2.4375V7.4375C0.25 7.52038 0.282924 7.59987 0.341529 7.65847C0.400134 7.71708 0.47962 7.75 0.5625 7.75H5.5625C5.64538 7.75 5.72487 7.71708 5.78347 7.65847C5.84208 7.59987 5.875 7.52038 5.875 7.4375V5.875H7.4375C7.52038 5.875 7.59987 5.84208 7.65847 5.78347C7.71708 5.72487 7.75 5.64538 7.75 5.5625V0.5625C7.75 0.47962 7.71708 0.400134 7.65847 0.341529C7.59987 0.282924 7.52038 0.25 7.4375 0.25ZM5.25 7.125H0.875V2.75H5.25V7.125ZM7.125 5.25H5.875V2.4375C5.875 2.35462 5.84208 2.27513 5.78347 2.21653C5.72487 2.15792 5.64538 2.125 5.5625 2.125H2.75V0.875H7.125V5.25Z' fill='#464158'/></svg>\";\n",
       "\n",
       "                                                    clipboard_div.appendChild(clipboard_img);\n",
       "                                                    div.appendChild(clipboard_div);\n",
       "                                                }\n",
       "                                            } else{\n",
       "                                                div.classList.add('grid-row','grid-std-cells');\n",
       "                                                if (item[attr] == null) {\n",
       "                                                    text = ' '\n",
       "                                                } else {\n",
       "                                                    text = String(item[attr])\n",
       "                                                }\n",
       "                                                if (text.length > 150){\n",
       "                                                    text = text.slice(0,150) + \"...\";\n",
       "                                                }\n",
       "                                                text = text.replaceAll(\"\\n\", \"</br>\");\n",
       "                                                div.innerHTML = text;\n",
       "                                            }\n",
       "                                            grid.appendChild(div);\n",
       "                                        }\n",
       "                                    table_index4d7332a215ad4422857014e25aefadba = table_index4d7332a215ad4422857014e25aefadba + 1;\n",
       "                                    })\n",
       "                                }\n",
       "                    }\n",
       "                    paginatedElements4d7332a215ad4422857014e25aefadba = paginate4d7332a215ad4422857014e25aefadba(element4d7332a215ad4422857014e25aefadba, page_size4d7332a215ad4422857014e25aefadba)\n",
       "                    buildGrid4d7332a215ad4422857014e25aefadba(paginatedElements4d7332a215ad4422857014e25aefadba, 1)\n",
       "                    document.getElementById('total4d7332a215ad4422857014e25aefadba').innerText = \"Total: \" + element4d7332a215ad4422857014e25aefadba.length\n",
       "                </script>\n",
       "            </div>\n",
       "            <div id='pag4d7332a215ad4422857014e25aefadba' class='paginationContainer'>\n",
       "                <script>\n",
       "                    function buildPaginationContainer4d7332a215ad4422857014e25aefadba(paginatedElements){\n",
       "                            let pageContainer = document.getElementById(\"pag4d7332a215ad4422857014e25aefadba\");\n",
       "                            for (let i = 0; i < paginatedElements.length; i++) {\n",
       "                                  let div = document.createElement(\"div\");\n",
       "                                  div.classList.add('page');\n",
       "                                  div.style.color = 'gray';\n",
       "                                  div.onclick = function(event) {\n",
       "                                      let indexes = document.getElementsByClassName('page');\n",
       "                                      for (let index of indexes) { index.style.color = 'gray' }\n",
       "                                      event.target.style.color = \"black\"\n",
       "                                      setPage4d7332a215ad4422857014e25aefadba(i + 1);\n",
       "                                  };\n",
       "                                  div.innerText = i + 1;\n",
       "                                  pageContainer.appendChild(div);\n",
       "                            }\n",
       "                    }\n",
       "\n",
       "                    function setPage4d7332a215ad4422857014e25aefadba(newPage){\n",
       "                        pageIndex = newPage\n",
       "                        resetById4d7332a215ad4422857014e25aefadba('table4d7332a215ad4422857014e25aefadba')\n",
       "                        buildGrid4d7332a215ad4422857014e25aefadba(paginatedElements4d7332a215ad4422857014e25aefadba, pageIndex)\n",
       "                    }\n",
       "\n",
       "                    buildPaginationContainer4d7332a215ad4422857014e25aefadba(paginatedElements4d7332a215ad4422857014e25aefadba)\n",
       "                </script>\n",
       "            </div>\n",
       "        </div>\n",
       "    </div>\n",
       "    </div>\n",
       "<p>To see a list of projects, use command `&lt;your_client&gt;.projects`</p></div>"
      ],
      "text/markdown": [
       "```python\n",
       "class Project:\n",
       "  id: str = ad739e306daf455ea2489dc85ea4722a\n",
       "  name: str = \"My Cool Project\"\n",
       "  description: str = \"Hi, I want to calculate the mean of your private data,                    pretty please!\"\n",
       "  created_by: str = \"jane@caltech.edu\"\n",
       "\n",
       "```"
      ],
      "text/plain": [
       "syft.service.project.project.Project"
      ]
     },
     "execution_count": 18,
     "metadata": {},
     "output_type": "execute_result"
    }
   ],
   "source": [
    "project = new_project.start()\n",
    "project"
   ]
  },
  {
   "cell_type": "markdown",
   "id": "7e9d35e5-428e-441e-a623-e9e825196e70",
   "metadata": {},
   "source": [
    "## Checking Approval"
   ]
  },
  {
   "cell_type": "markdown",
   "id": "97a1cec7",
   "metadata": {},
   "source": [
    "Very cool, now let's run our function with private data!"
   ]
  },
  {
   "cell_type": "code",
   "execution_count": 19,
   "id": "de83c1cc",
   "metadata": {
    "execution": {
     "iopub.execute_input": "2023-06-29T09:45:24.673534Z",
     "iopub.status.busy": "2023-06-29T09:45:24.673157Z",
     "iopub.status.idle": "2023-06-29T09:45:24.693944Z",
     "shell.execute_reply": "2023-06-29T09:45:24.693215Z"
    }
   },
   "outputs": [
    {
     "data": {
      "text/html": [
       "<div class=\"alert-info\" style=\"padding:5px;\"><strong>SyftNotReady</strong>: <class 'syft.service.code.user_code.UserCode'> Your code is waiting for approval: {NodeView(node_name='syft-functions-example-domain-1', verify_key=b5ed0a427efda4e1b1e7e42a45d9f7a9cf3858c08c1d083c0a3904aa50d35fa8): <UserCodeStatus.SUBMITTED: 'submitted'>}</div><br />"
      ],
      "text/plain": [
       "<class 'syft.service.response.SyftNotReady'>: <class 'syft.service.code.user_code.UserCode'> Your code is waiting for approval: {NodeView(node_name='syft-functions-example-domain-1', verify_key=b5ed0a427efda4e1b1e7e42a45d9f7a9cf3858c08c1d083c0a3904aa50d35fa8): <UserCodeStatus.SUBMITTED: 'submitted'>}"
      ]
     },
     "execution_count": 19,
     "metadata": {},
     "output_type": "execute_result"
    }
   ],
   "source": [
    "guest_client.code.mean(data=asset)"
   ]
  },
  {
   "cell_type": "markdown",
   "id": "fc8d1850",
   "metadata": {},
   "source": [
    "Right! Our code was not approved, so we should wait for the review from the data owner. As we also deployed the domain, we will do that quickly here, but for more details on what is happening check the data owner sections under tutorials:"
   ]
  },
  {
   "cell_type": "code",
   "execution_count": 20,
   "id": "b7794416",
   "metadata": {
    "execution": {
     "iopub.execute_input": "2023-06-29T09:45:24.696918Z",
     "iopub.status.busy": "2023-06-29T09:45:24.696449Z",
     "iopub.status.idle": "2023-06-29T09:45:24.789937Z",
     "shell.execute_reply": "2023-06-29T09:45:24.789250Z"
    }
   },
   "outputs": [
    {
     "name": "stdout",
     "output_type": "stream",
     "text": [
      "WARNING: Notifications is currently is in a beta state, so use carefully!\n",
      "If possible try using client.requests/client.projects\n"
     ]
    },
    {
     "data": {
      "text/html": [
       "\n",
       "            <style>\n",
       "            .syft-request {color: #464158;}\n",
       "            </style>\n",
       "            <div class='syft-request'>\n",
       "                <h3>Request</h3>\n",
       "                <p><strong>Id: </strong>7453029d7a774d50be0d91ce63a5f599</p>\n",
       "                <p><strong>Request time: </strong>2023-06-29 09:45:22</p>\n",
       "                \n",
       "                <p><strong>Changes: </strong> Request to change <b>mean</b> to permission <b>RequestStatus.APPROVED</b>. </p>\n",
       "                <p><strong>Status: </strong>RequestStatus.PENDING</p>\n",
       "            </div>\n",
       "            "
      ],
      "text/markdown": [
       "```python\n",
       "class Request:\n",
       "  id: str = 7453029d7a774d50be0d91ce63a5f599\n",
       "  request_time: str = 2023-06-29 09:45:22\n",
       "  updated_at: str = None\n",
       "  status: str = RequestStatus.PENDING\n",
       "  changes: str = ['Request to change <b>mean</b> to permission <b>RequestStatus.APPROVED</b>']\n",
       "  requesting_user_verify_key: str = efed60d46aea695981d96f650b8901d7930c49b5325a28df086c34997a3d325a\n",
       "\n",
       "```"
      ],
      "text/plain": [
       "syft.service.request.request.Request"
      ]
     },
     "execution_count": 20,
     "metadata": {},
     "output_type": "execute_result"
    }
   ],
   "source": [
    "request = admin_client.notifications[-1].link.requests[0]\n",
    "request"
   ]
  },
  {
   "cell_type": "code",
   "execution_count": 21,
   "id": "d3e227ea",
   "metadata": {
    "execution": {
     "iopub.execute_input": "2023-06-29T09:45:24.793090Z",
     "iopub.status.busy": "2023-06-29T09:45:24.792719Z",
     "iopub.status.idle": "2023-06-29T09:45:24.814741Z",
     "shell.execute_reply": "2023-06-29T09:45:24.814025Z"
    }
   },
   "outputs": [
    {
     "data": {
      "text/markdown": [
       "```python\n",
       "class UserCode\n",
       "    id: str = 2a8009c7d72c4ba19c932c0c10eec281\n",
       "    status.approved: str = False\n",
       "    service_func_name: str = mean\n",
       "    code:\n",
       "\n",
       "@sy.syft_function_single_use(data=asset)\n",
       "def mean(data):\n",
       "    return sum(data)/len(data)\n",
       "\n",
       "```"
      ],
      "text/plain": [
       "syft.service.code.user_code.UserCode"
      ]
     },
     "execution_count": 21,
     "metadata": {},
     "output_type": "execute_result"
    }
   ],
   "source": [
    "request.code"
   ]
  },
  {
   "cell_type": "markdown",
   "id": "34513209",
   "metadata": {},
   "source": [
    "Now that we have inspected the code, we can approve it"
   ]
  },
  {
   "cell_type": "code",
   "execution_count": 22,
   "id": "33513ece",
   "metadata": {
    "execution": {
     "iopub.execute_input": "2023-06-29T09:45:24.818298Z",
     "iopub.status.busy": "2023-06-29T09:45:24.817357Z",
     "iopub.status.idle": "2023-06-29T09:45:24.899829Z",
     "shell.execute_reply": "2023-06-29T09:45:24.899133Z"
    }
   },
   "outputs": [
    {
     "data": {
      "text/html": [
       "<div class=\"alert-success\" style=\"padding:5px;\"><strong>SyftSuccess</strong>: Request 7453029d7a774d50be0d91ce63a5f599 changes applied</div><br />"
      ],
      "text/plain": [
       "<class 'syft.service.response.SyftSuccess'>: Request 7453029d7a774d50be0d91ce63a5f599 changes applied"
      ]
     },
     "execution_count": 22,
     "metadata": {},
     "output_type": "execute_result"
    }
   ],
   "source": [
    "request.approve()"
   ]
  },
  {
   "cell_type": "markdown",
   "id": "54cb1239-d34b-4ac6-b8f9-d909bbe34bd6",
   "metadata": {},
   "source": [
    "## Executing your Function"
   ]
  },
  {
   "cell_type": "markdown",
   "id": "a48931bf",
   "metadata": {},
   "source": [
    "Good, now we are finally ready to run the function on private data:"
   ]
  },
  {
   "cell_type": "code",
   "execution_count": 23,
   "id": "19afcfb2",
   "metadata": {
    "execution": {
     "iopub.execute_input": "2023-06-29T09:45:24.903288Z",
     "iopub.status.busy": "2023-06-29T09:45:24.902808Z",
     "iopub.status.idle": "2023-06-29T09:45:24.984713Z",
     "shell.execute_reply": "2023-06-29T09:45:24.983976Z"
    }
   },
   "outputs": [
    {
     "data": {
      "text/markdown": [
       "```python\n",
       "TwinPointer(Mock)\n",
       "```\n",
       "1.0"
      ],
      "text/plain": [
       "TwinPointer(Mock):\n",
       "1.0"
      ]
     },
     "execution_count": 23,
     "metadata": {},
     "output_type": "execute_result"
    }
   ],
   "source": [
    "res = guest_client.code.mean(data=asset)\n",
    "res"
   ]
  },
  {
   "cell_type": "markdown",
   "id": "d718068d",
   "metadata": {},
   "source": [
    "Notice that the result we see is still `1.0` which looks like the result on the mock data. That is because it actually is! The object returned is an `ActionObject` which here behaves like a pointer for the data on the domain:"
   ]
  },
  {
   "cell_type": "code",
   "execution_count": 24,
   "id": "68cd2efe",
   "metadata": {
    "execution": {
     "iopub.execute_input": "2023-06-29T09:45:24.987830Z",
     "iopub.status.busy": "2023-06-29T09:45:24.987374Z",
     "iopub.status.idle": "2023-06-29T09:45:24.995142Z",
     "shell.execute_reply": "2023-06-29T09:45:24.994364Z"
    }
   },
   "outputs": [
    {
     "data": {
      "text/plain": [
       "True"
      ]
     },
     "execution_count": 24,
     "metadata": {},
     "output_type": "execute_result"
    }
   ],
   "source": [
    "isinstance(res, sy.ActionObject)"
   ]
  },
  {
   "cell_type": "code",
   "execution_count": 25,
   "id": "f58f1552",
   "metadata": {
    "execution": {
     "iopub.execute_input": "2023-06-29T09:45:24.997966Z",
     "iopub.status.busy": "2023-06-29T09:45:24.997490Z",
     "iopub.status.idle": "2023-06-29T09:45:25.004978Z",
     "shell.execute_reply": "2023-06-29T09:45:25.004223Z"
    }
   },
   "outputs": [
    {
     "data": {
      "text/plain": [
       "syft.service.action.numpy.NumpyScalarObject"
      ]
     },
     "execution_count": 25,
     "metadata": {},
     "output_type": "execute_result"
    }
   ],
   "source": [
    "type(res)"
   ]
  },
  {
   "cell_type": "markdown",
   "id": "e0f3cd76",
   "metadata": {},
   "source": [
    "If we do not accept the result, the data owner calls"
   ]
  },
  {
   "cell_type": "code",
   "execution_count": 26,
   "id": "7ef86de8",
   "metadata": {
    "execution": {
     "iopub.execute_input": "2023-06-29T09:45:25.008080Z",
     "iopub.status.busy": "2023-06-29T09:45:25.007617Z",
     "iopub.status.idle": "2023-06-29T09:45:25.122098Z",
     "shell.execute_reply": "2023-06-29T09:45:25.121358Z"
    }
   },
   "outputs": [
    {
     "data": {
      "text/html": [
       "<div class=\"alert-success\" style=\"padding:5px;\"><strong>SyftSuccess</strong>: Request 7453029d7a774d50be0d91ce63a5f599 successfully denied !</div><br />"
      ],
      "text/plain": [
       "<class 'syft.service.response.SyftSuccess'>: Request 7453029d7a774d50be0d91ce63a5f599 successfully denied !"
      ]
     },
     "execution_count": 26,
     "metadata": {},
     "output_type": "execute_result"
    }
   ],
   "source": [
    "request.deny(reason=\"you cannot have access\")"
   ]
  },
  {
   "cell_type": "code",
   "execution_count": 27,
   "id": "718e0c4f",
   "metadata": {
    "execution": {
     "iopub.execute_input": "2023-06-29T09:45:25.125154Z",
     "iopub.status.busy": "2023-06-29T09:45:25.124673Z",
     "iopub.status.idle": "2023-06-29T09:45:25.146114Z",
     "shell.execute_reply": "2023-06-29T09:45:25.145297Z"
    }
   },
   "outputs": [
    {
     "data": {
      "text/html": [
       "<div class=\"alert-danger\" style=\"padding:5px;\"><strong>SyftError</strong>: <class 'syft.service.code.user_code.UserCode'> Your code cannot be run: UserCodeStatus.DENIED</div><br />"
      ],
      "text/plain": [
       "<class 'syft.service.response.SyftError'>: <class 'syft.service.code.user_code.UserCode'> Your code cannot be run: UserCodeStatus.DENIED"
      ]
     },
     "execution_count": 27,
     "metadata": {},
     "output_type": "execute_result"
    }
   ],
   "source": [
    "res_denied = guest_client.code.mean(data=asset)\n",
    "res_denied"
   ]
  },
  {
   "cell_type": "markdown",
   "id": "e4cfea31",
   "metadata": {},
   "source": [
    "in that case our call returns a `SyftError`"
   ]
  },
  {
   "cell_type": "markdown",
   "id": "bff8dcde-e1fb-49e1-a879-20babdda16f7",
   "metadata": {},
   "source": [
    "## Downloading Results"
   ]
  },
  {
   "cell_type": "markdown",
   "id": "359c0824",
   "metadata": {},
   "source": [
    "To get the real data we need one more step:"
   ]
  },
  {
   "cell_type": "code",
   "execution_count": 28,
   "id": "ea32d7ca",
   "metadata": {
    "execution": {
     "iopub.execute_input": "2023-06-29T09:45:25.149041Z",
     "iopub.status.busy": "2023-06-29T09:45:25.148682Z",
     "iopub.status.idle": "2023-06-29T09:45:25.168692Z",
     "shell.execute_reply": "2023-06-29T09:45:25.167957Z"
    }
   },
   "outputs": [
    {
     "data": {
      "text/plain": [
       "2.0"
      ]
     },
     "execution_count": 28,
     "metadata": {},
     "output_type": "execute_result"
    }
   ],
   "source": [
    "real_res = res.get()\n",
    "real_res"
   ]
  },
  {
   "cell_type": "code",
   "execution_count": 29,
   "id": "171fc509",
   "metadata": {
    "execution": {
     "iopub.execute_input": "2023-06-29T09:45:25.171943Z",
     "iopub.status.busy": "2023-06-29T09:45:25.171368Z",
     "iopub.status.idle": "2023-06-29T09:45:25.175687Z",
     "shell.execute_reply": "2023-06-29T09:45:25.174981Z"
    }
   },
   "outputs": [],
   "source": [
    "assert real_res == 2.0"
   ]
  },
  {
   "cell_type": "markdown",
   "id": "771fd1fa",
   "metadata": {},
   "source": [
    "We can check the type of the result to see it's real data:"
   ]
  },
  {
   "cell_type": "code",
   "execution_count": 30,
   "id": "130184dd",
   "metadata": {
    "execution": {
     "iopub.execute_input": "2023-06-29T09:45:25.178665Z",
     "iopub.status.busy": "2023-06-29T09:45:25.178297Z",
     "iopub.status.idle": "2023-06-29T09:45:25.185192Z",
     "shell.execute_reply": "2023-06-29T09:45:25.184441Z"
    }
   },
   "outputs": [
    {
     "data": {
      "text/plain": [
       "numpy.float64"
      ]
     },
     "execution_count": 30,
     "metadata": {},
     "output_type": "execute_result"
    }
   ],
   "source": [
    "type(real_res)"
   ]
  }
 ],
 "metadata": {
  "kernelspec": {
   "display_name": "Python 3 (ipykernel)",
   "language": "python",
   "name": "python3"
  },
  "language_info": {
   "codemirror_mode": {
    "name": "ipython",
    "version": 3
   },
   "file_extension": ".py",
   "mimetype": "text/x-python",
   "name": "python",
   "nbconvert_exporter": "python",
   "pygments_lexer": "ipython3",
   "version": "3.11.4"
  },
  "toc": {
   "base_numbering": 1,
   "nav_menu": {},
   "number_sections": true,
   "sideBar": true,
   "skip_h1_title": false,
   "title_cell": "Table of Contents",
   "title_sidebar": "Contents",
   "toc_cell": false,
   "toc_position": {},
   "toc_section_display": true,
   "toc_window_display": true
  }
 },
 "nbformat": 4,
 "nbformat_minor": 5
}
