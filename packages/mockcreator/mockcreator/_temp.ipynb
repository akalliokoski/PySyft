{
 "cells": [
  {
   "cell_type": "code",
   "execution_count": 1,
   "metadata": {},
   "outputs": [
    {
     "name": "stdout",
     "output_type": "stream",
     "text": [
      "{'fields': {'age': {'faker': ['random_int', 0, 100]},\n",
      "            'age2': {'faker': 'random_int', 'max_value': 100, 'min_value': 0}}}\n"
     ]
    }
   ],
   "source": [
    "from pprint import pprint\n",
    "import yaml\n",
    "\n",
    "\n",
    "metadata =  \"\"\"\n",
    "fields:\n",
    "  age:\n",
    "    faker: [random_int, 0, 100]\n",
    "  age2:\n",
    "    faker: random_int\n",
    "    min_value: 0\n",
    "    max_value: 100\n",
    "\"\"\"\n",
    "parsed = yaml.safe_load(metadata)\n",
    "pprint(parsed)"
   ]
  },
  {
   "cell_type": "code",
   "execution_count": null,
   "metadata": {},
   "outputs": [],
   "source": []
  }
 ],
 "metadata": {
  "kernelspec": {
   "display_name": "syft",
   "language": "python",
   "name": "python3"
  },
  "language_info": {
   "codemirror_mode": {
    "name": "ipython",
    "version": 3
   },
   "file_extension": ".py",
   "mimetype": "text/x-python",
   "name": "python",
   "nbconvert_exporter": "python",
   "pygments_lexer": "ipython3",
   "version": "3.8.9"
  },
  "orig_nbformat": 4
 },
 "nbformat": 4,
 "nbformat_minor": 2
}
