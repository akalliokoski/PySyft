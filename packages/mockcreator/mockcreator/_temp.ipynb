{
 "cells": [
  {
   "cell_type": "code",
   "execution_count": 1,
   "metadata": {},
   "outputs": [
    {
     "name": "stdout",
     "output_type": "stream",
     "text": [
      "{'fields': {'age': {'faker': ['random_int', 0, 100]},\n",
      "            'age2': {'faker': 'random_int', 'max_value': 100, 'min_value': 0}}}\n"
     ]
    }
   ],
   "source": [
    "from pprint import pprint\n",
    "import yaml\n",
    "\n",
    "\n",
    "metadata =  \"\"\"\n",
    "fields:\n",
    "  age:\n",
    "    faker: [random_int, 0, 100]\n",
    "  age2:\n",
    "    faker: random_int\n",
    "    min_value: 0\n",
    "    max_value: 100\n",
    "\"\"\"\n",
    "parsed = yaml.safe_load(metadata)\n",
    "pprint(parsed)"
   ]
  },
  {
   "cell_type": "code",
   "execution_count": 2,
   "metadata": {},
   "outputs": [
    {
     "data": {
      "text/plain": [
       "Alice      0.2\n",
       "Bob        0.2\n",
       "Charlie    0.2\n",
       "Dave       0.2\n",
       "Eve        0.2\n",
       "Name: name, dtype: float64"
      ]
     },
     "execution_count": 2,
     "metadata": {},
     "output_type": "execute_result"
    }
   ],
   "source": [
    "import pandas as pd\n",
    "\n",
    "df = pd.DataFrame({\n",
    "    'id': [1, 2, 3, 4, 5],\n",
    "    'name': ['Alice', 'Bob', 'Charlie', 'Dave', 'Eve'],\n",
    "    'age': [25, 30, 35, 40, 45],\n",
    "    'is_student': [True, False, True, False, True]\n",
    "})\n",
    "\n",
    "type(df['is_student'].mean().item())\n",
    "unique = df['name'].value_counts(normalize=True)\n",
    "unique"
   ]
  },
  {
   "cell_type": "code",
   "execution_count": 3,
   "metadata": {},
   "outputs": [
    {
     "data": {
      "text/plain": [
       "['a', 'a', 'a', 'a', 'c', 'a', 'a', 'a', 'c', 'a']"
      ]
     },
     "execution_count": 3,
     "metadata": {},
     "output_type": "execute_result"
    }
   ],
   "source": [
    "import random\n",
    "\n",
    "random.choices([\"a\", \"b\", \"c\"], weights=[0.5, 0.3, 0.1], k=10)"
   ]
  },
  {
   "cell_type": "code",
   "execution_count": 4,
   "metadata": {},
   "outputs": [
    {
     "data": {
      "text/plain": [
       "False"
      ]
     },
     "execution_count": 4,
     "metadata": {},
     "output_type": "execute_result"
    }
   ],
   "source": [
    "from faker import Faker\n",
    "fake = Faker()\n",
    "\n",
    "fake.pybool()"
   ]
  },
  {
   "cell_type": "code",
   "execution_count": 5,
   "metadata": {},
   "outputs": [
    {
     "data": {
      "text/plain": [
       "('a', 1)"
      ]
     },
     "execution_count": 5,
     "metadata": {},
     "output_type": "execute_result"
    }
   ],
   "source": [
    "from collections import OrderedDict\n",
    "ordered = OrderedDict({'a': 1, 'b': 2})\n",
    "ordered.popitem(0)"
   ]
  },
  {
   "cell_type": "code",
   "execution_count": null,
   "metadata": {},
   "outputs": [],
   "source": []
  }
 ],
 "metadata": {
  "kernelspec": {
   "display_name": "syft",
   "language": "python",
   "name": "python3"
  },
  "language_info": {
   "codemirror_mode": {
    "name": "ipython",
    "version": 3
   },
   "file_extension": ".py",
   "mimetype": "text/x-python",
   "name": "python",
   "nbconvert_exporter": "python",
   "pygments_lexer": "ipython3",
   "version": "3.8.9"
  },
  "orig_nbformat": 4
 },
 "nbformat": 4,
 "nbformat_minor": 2
}
