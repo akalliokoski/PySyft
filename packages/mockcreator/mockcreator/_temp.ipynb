{
 "cells": [
  {
   "cell_type": "code",
   "execution_count": 1,
   "metadata": {},
   "outputs": [
    {
     "name": "stdout",
     "output_type": "stream",
     "text": [
      "{'fields': {'age': {'faker': ['random_int', 0, 100]},\n",
      "            'age2': {'faker': 'random_int', 'max_value': 100, 'min_value': 0}}}\n"
     ]
    }
   ],
   "source": [
    "from pprint import pprint\n",
    "import yaml\n",
    "\n",
    "\n",
    "metadata =  \"\"\"\n",
    "fields:\n",
    "  age:\n",
    "    faker: [random_int, 0, 100]\n",
    "  age2:\n",
    "    faker: random_int\n",
    "    min_value: 0\n",
    "    max_value: 100\n",
    "\"\"\"\n",
    "parsed = yaml.safe_load(metadata)\n",
    "pprint(parsed)"
   ]
  },
  {
   "cell_type": "code",
   "execution_count": 7,
   "metadata": {},
   "outputs": [
    {
     "data": {
      "text/plain": [
       "float"
      ]
     },
     "execution_count": 7,
     "metadata": {},
     "output_type": "execute_result"
    }
   ],
   "source": [
    "import pandas as pd\n",
    "\n",
    "df = pd.DataFrame({\n",
    "    'id': [1, 2, 3, 4, 5],\n",
    "    'name': ['Alice', 'Bob', 'Charlie', 'Dave', 'Eve'],\n",
    "    'age': [25, 30, 35, 40, 45],\n",
    "    'is_student': [True, False, True, False, True]\n",
    "})\n",
    "\n",
    "type(df['is_student'].mean().item())"
   ]
  },
  {
   "cell_type": "code",
   "execution_count": 9,
   "metadata": {},
   "outputs": [
    {
     "ename": "TypeError",
     "evalue": "pybool() takes 1 positional argument but 2 were given",
     "output_type": "error",
     "traceback": [
      "\u001b[0;31m---------------------------------------------------------------------------\u001b[0m",
      "\u001b[0;31mTypeError\u001b[0m                                 Traceback (most recent call last)",
      "Cell \u001b[0;32mIn[9], line 4\u001b[0m\n\u001b[1;32m      1\u001b[0m \u001b[39mfrom\u001b[39;00m \u001b[39mfaker\u001b[39;00m \u001b[39mimport\u001b[39;00m Faker\n\u001b[1;32m      2\u001b[0m fake \u001b[39m=\u001b[39m Faker()\n\u001b[0;32m----> 4\u001b[0m fake\u001b[39m.\u001b[39;49mpybool(\u001b[39m0.5\u001b[39;49m)\n",
      "\u001b[0;31mTypeError\u001b[0m: pybool() takes 1 positional argument but 2 were given"
     ]
    }
   ],
   "source": [
    "from faker import Faker\n",
    "fake = Faker()\n",
    "\n",
    "fake.pybool()"
   ]
  },
  {
   "cell_type": "code",
   "execution_count": null,
   "metadata": {},
   "outputs": [],
   "source": []
  }
 ],
 "metadata": {
  "kernelspec": {
   "display_name": "syft",
   "language": "python",
   "name": "python3"
  },
  "language_info": {
   "codemirror_mode": {
    "name": "ipython",
    "version": 3
   },
   "file_extension": ".py",
   "mimetype": "text/x-python",
   "name": "python",
   "nbconvert_exporter": "python",
   "pygments_lexer": "ipython3",
   "version": "3.8.9"
  },
  "orig_nbformat": 4
 },
 "nbformat": 4,
 "nbformat_minor": 2
}
