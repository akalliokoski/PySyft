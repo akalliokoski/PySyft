{
 "cells": [
  {
   "cell_type": "code",
   "execution_count": 6,
   "metadata": {},
   "outputs": [],
   "source": [
    "import pandas as pd\n",
    "from mockcreator import MockCreator"
   ]
  },
  {
   "cell_type": "code",
   "execution_count": 7,
   "metadata": {},
   "outputs": [
    {
     "name": "stdout",
     "output_type": "stream",
     "text": [
      "fields:\n",
      "  id:\n",
      "    faker: pyint\n",
      "    min_value: 1\n",
      "    max_value: 5\n",
      "  name:\n",
      "    faker: pystr\n",
      "    min_chars: 3\n",
      "    max_chars: 7\n",
      "  age:\n",
      "    faker: pyint\n",
      "    min_value: 25\n",
      "    max_value: 45\n",
      "  is_student:\n",
      "    random: choices\n",
      "    args:\n",
      "    - - true\n",
      "      - false\n",
      "    weights:\n",
      "    - 0.6\n",
      "    - 0.4\n",
      "  favorite_color:\n",
      "    random: choices\n",
      "    args:\n",
      "    - - red\n",
      "      - blue\n",
      "      - green\n",
      "    weights:\n",
      "    - 0.4\n",
      "    - 0.4\n",
      "    - 0.2\n"
     ]
    },
    {
     "name": "stderr",
     "output_type": "stream",
     "text": [
      "/Users/antti/dev/openmined/PySyft/packages/mockcreator/mockcreator/mockcreator.py:64: FutureWarning: iteritems is deprecated and will be removed in a future version. Use .items instead.\n",
      "  for column_name, series in df.iteritems():\n"
     ]
    }
   ],
   "source": [
    "df = pd.DataFrame({\n",
    "    'id': [1, 2, 3, 4, 5],\n",
    "    'name': ['Alice', 'Bob', 'Charlie', 'Dave', 'Eve'],\n",
    "    'age': [25, 30, 35, 40, 45],\n",
    "    'is_student': [True, True, True, False, False],\n",
    "    'favorite_color': ['red', 'blue', 'green', 'red', 'blue'],\n",
    "})\n",
    "\n",
    "# specify when to use python random package methods, instead of faker\n",
    "series_creators = {\n",
    "    \"is_student\": \"random\",\n",
    "    \"favorite_color\": \"random\",\n",
    "}\n",
    "mc = MockCreator.from_dataframe(df, series_creators=series_creators)\n",
    "mc.to_yaml('../metadata/inferred.yaml')\n",
    "\n",
    "!cat ../metadata/inferred.yaml"
   ]
  },
  {
   "cell_type": "code",
   "execution_count": 8,
   "metadata": {},
   "outputs": [
    {
     "data": {
      "text/html": [
       "<div>\n",
       "<style scoped>\n",
       "    .dataframe tbody tr th:only-of-type {\n",
       "        vertical-align: middle;\n",
       "    }\n",
       "\n",
       "    .dataframe tbody tr th {\n",
       "        vertical-align: top;\n",
       "    }\n",
       "\n",
       "    .dataframe thead th {\n",
       "        text-align: right;\n",
       "    }\n",
       "</style>\n",
       "<table border=\"1\" class=\"dataframe\">\n",
       "  <thead>\n",
       "    <tr style=\"text-align: right;\">\n",
       "      <th></th>\n",
       "      <th>id</th>\n",
       "      <th>name</th>\n",
       "      <th>age</th>\n",
       "      <th>is_student</th>\n",
       "      <th>favorite_color</th>\n",
       "    </tr>\n",
       "  </thead>\n",
       "  <tbody>\n",
       "    <tr>\n",
       "      <th>0</th>\n",
       "      <td>695</td>\n",
       "      <td>Kevin</td>\n",
       "      <td>35</td>\n",
       "      <td>False</td>\n",
       "      <td>green</td>\n",
       "    </tr>\n",
       "    <tr>\n",
       "      <th>1</th>\n",
       "      <td>371</td>\n",
       "      <td>Lisa</td>\n",
       "      <td>37</td>\n",
       "      <td>True</td>\n",
       "      <td>red</td>\n",
       "    </tr>\n",
       "    <tr>\n",
       "      <th>2</th>\n",
       "      <td>925</td>\n",
       "      <td>Michelle</td>\n",
       "      <td>34</td>\n",
       "      <td>True</td>\n",
       "      <td>blue</td>\n",
       "    </tr>\n",
       "    <tr>\n",
       "      <th>3</th>\n",
       "      <td>322</td>\n",
       "      <td>Barbara</td>\n",
       "      <td>43</td>\n",
       "      <td>True</td>\n",
       "      <td>blue</td>\n",
       "    </tr>\n",
       "    <tr>\n",
       "      <th>4</th>\n",
       "      <td>731</td>\n",
       "      <td>Christopher</td>\n",
       "      <td>34</td>\n",
       "      <td>False</td>\n",
       "      <td>red</td>\n",
       "    </tr>\n",
       "    <tr>\n",
       "      <th>5</th>\n",
       "      <td>691</td>\n",
       "      <td>Carlos</td>\n",
       "      <td>35</td>\n",
       "      <td>True</td>\n",
       "      <td>blue</td>\n",
       "    </tr>\n",
       "    <tr>\n",
       "      <th>6</th>\n",
       "      <td>481</td>\n",
       "      <td>Jeffery</td>\n",
       "      <td>40</td>\n",
       "      <td>True</td>\n",
       "      <td>blue</td>\n",
       "    </tr>\n",
       "    <tr>\n",
       "      <th>7</th>\n",
       "      <td>715</td>\n",
       "      <td>Stephen</td>\n",
       "      <td>25</td>\n",
       "      <td>True</td>\n",
       "      <td>blue</td>\n",
       "    </tr>\n",
       "    <tr>\n",
       "      <th>8</th>\n",
       "      <td>878</td>\n",
       "      <td>Brandon</td>\n",
       "      <td>25</td>\n",
       "      <td>False</td>\n",
       "      <td>blue</td>\n",
       "    </tr>\n",
       "    <tr>\n",
       "      <th>9</th>\n",
       "      <td>977</td>\n",
       "      <td>Terri</td>\n",
       "      <td>44</td>\n",
       "      <td>False</td>\n",
       "      <td>red</td>\n",
       "    </tr>\n",
       "  </tbody>\n",
       "</table>\n",
       "</div>"
      ],
      "text/plain": [
       "    id         name  age  is_student favorite_color\n",
       "0  695        Kevin   35       False          green\n",
       "1  371         Lisa   37        True            red\n",
       "2  925     Michelle   34        True           blue\n",
       "3  322      Barbara   43        True           blue\n",
       "4  731  Christopher   34       False            red\n",
       "5  691       Carlos   35        True           blue\n",
       "6  481      Jeffery   40        True           blue\n",
       "7  715      Stephen   25        True           blue\n",
       "8  878      Brandon   25       False           blue\n",
       "9  977        Terri   44       False            red"
      ]
     },
     "execution_count": 8,
     "metadata": {},
     "output_type": "execute_result"
    }
   ],
   "source": [
    "mock_creator = MockCreator.from_yaml(\"../metadata/inferred.yaml\")\n",
    "\n",
    "# specify faker methods, overriding inferred methods\n",
    "mock_creator.set_metadata(\"id\", { \"faker.unique\": \"pyint\", \"min_value\": 0, \"max_value\": 1000 })\n",
    "mock_creator.set_metadata(\"name\", { \"faker\": \"first_name\" })\n",
    "\n",
    "generated = mock_creator.generate_data(10)\n",
    "generated"
   ]
  },
  {
   "cell_type": "code",
   "execution_count": 9,
   "metadata": {},
   "outputs": [
    {
     "name": "stdout",
     "output_type": "stream",
     "text": [
      "<class 'pandas.core.frame.DataFrame'>\n",
      "RangeIndex: 10 entries, 0 to 9\n",
      "Data columns (total 5 columns):\n",
      " #   Column          Non-Null Count  Dtype \n",
      "---  ------          --------------  ----- \n",
      " 0   id              10 non-null     int64 \n",
      " 1   name            10 non-null     object\n",
      " 2   age             10 non-null     int64 \n",
      " 3   is_student      10 non-null     bool  \n",
      " 4   favorite_color  10 non-null     object\n",
      "dtypes: bool(1), int64(2), object(2)\n",
      "memory usage: 458.0+ bytes\n"
     ]
    }
   ],
   "source": [
    "generated.info()"
   ]
  },
  {
   "cell_type": "code",
   "execution_count": null,
   "metadata": {},
   "outputs": [],
   "source": []
  },
  {
   "cell_type": "code",
   "execution_count": null,
   "metadata": {},
   "outputs": [],
   "source": []
  }
 ],
 "metadata": {
  "kernelspec": {
   "display_name": "syft",
   "language": "python",
   "name": "python3"
  },
  "language_info": {
   "codemirror_mode": {
    "name": "ipython",
    "version": 3
   },
   "file_extension": ".py",
   "mimetype": "text/x-python",
   "name": "python",
   "nbconvert_exporter": "python",
   "pygments_lexer": "ipython3",
   "version": "3.8.9"
  },
  "orig_nbformat": 4
 },
 "nbformat": 4,
 "nbformat_minor": 2
}
